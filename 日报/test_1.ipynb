{
 "cells": [
  {
   "cell_type": "code",
   "execution_count": 41,
   "outputs": [
    {
     "data": {
      "text/plain": "            日期         会员账号         手机号码          代理 VIP等级             注册时间  \\\n0  20231001-12    qwe555026  132xxxx8429  btyseo8003  VIP0  2023/10/1 11:47   \n1  20231001-12  xkfdc888888  182xxxx7811     kh00010  VIP0  2023/10/1 11:31   \n2  20231001-12   aa124578aa  183xxxx1938       admin  VIP0  2023/10/1 11:02   \n3  20231001-12   ft28712501  159xxxx9424  btyseo7003  VIP0  2023/10/1 10:13   \n4  20231001-12   k474495843  131xxxx9304     kh00010  VIP0  2023/10/1 09:58   \n\n   状态  是否有效 意向情况                                             电销沟通内容    \n0  正常  无效通话  无意向                                             联系不上会员    \n1  正常  无效通话  无意向                                             联系不上会员    \n2  正常  无效通话  无意向                                             联系不上会员    \n3  正常  无效通话  无意向                                             联系不上会员    \n4  正常  有效通话  无意向  会员说充值不上去，已推荐会员使用支付宝支付h5之类带点尾数比较快速到账已告知了线下代充及首存...    ",
      "text/html": "<div>\n<style scoped>\n    .dataframe tbody tr th:only-of-type {\n        vertical-align: middle;\n    }\n\n    .dataframe tbody tr th {\n        vertical-align: top;\n    }\n\n    .dataframe thead th {\n        text-align: right;\n    }\n</style>\n<table border=\"1\" class=\"dataframe\">\n  <thead>\n    <tr style=\"text-align: right;\">\n      <th></th>\n      <th>日期</th>\n      <th>会员账号</th>\n      <th>手机号码</th>\n      <th>代理</th>\n      <th>VIP等级</th>\n      <th>注册时间</th>\n      <th>状态</th>\n      <th>是否有效</th>\n      <th>意向情况</th>\n      <th>电销沟通内容</th>\n      <th></th>\n    </tr>\n  </thead>\n  <tbody>\n    <tr>\n      <th>0</th>\n      <td>20231001-12</td>\n      <td>qwe555026</td>\n      <td>132xxxx8429</td>\n      <td>btyseo8003</td>\n      <td>VIP0</td>\n      <td>2023/10/1 11:47</td>\n      <td>正常</td>\n      <td>无效通话</td>\n      <td>无意向</td>\n      <td>联系不上会员</td>\n      <td></td>\n    </tr>\n    <tr>\n      <th>1</th>\n      <td>20231001-12</td>\n      <td>xkfdc888888</td>\n      <td>182xxxx7811</td>\n      <td>kh00010</td>\n      <td>VIP0</td>\n      <td>2023/10/1 11:31</td>\n      <td>正常</td>\n      <td>无效通话</td>\n      <td>无意向</td>\n      <td>联系不上会员</td>\n      <td></td>\n    </tr>\n    <tr>\n      <th>2</th>\n      <td>20231001-12</td>\n      <td>aa124578aa</td>\n      <td>183xxxx1938</td>\n      <td>admin</td>\n      <td>VIP0</td>\n      <td>2023/10/1 11:02</td>\n      <td>正常</td>\n      <td>无效通话</td>\n      <td>无意向</td>\n      <td>联系不上会员</td>\n      <td></td>\n    </tr>\n    <tr>\n      <th>3</th>\n      <td>20231001-12</td>\n      <td>ft28712501</td>\n      <td>159xxxx9424</td>\n      <td>btyseo7003</td>\n      <td>VIP0</td>\n      <td>2023/10/1 10:13</td>\n      <td>正常</td>\n      <td>无效通话</td>\n      <td>无意向</td>\n      <td>联系不上会员</td>\n      <td></td>\n    </tr>\n    <tr>\n      <th>4</th>\n      <td>20231001-12</td>\n      <td>k474495843</td>\n      <td>131xxxx9304</td>\n      <td>kh00010</td>\n      <td>VIP0</td>\n      <td>2023/10/1 09:58</td>\n      <td>正常</td>\n      <td>有效通话</td>\n      <td>无意向</td>\n      <td>会员说充值不上去，已推荐会员使用支付宝支付h5之类带点尾数比较快速到账已告知了线下代充及首存...</td>\n      <td></td>\n    </tr>\n  </tbody>\n</table>\n</div>"
     },
     "execution_count": 41,
     "metadata": {},
     "output_type": "execute_result"
    }
   ],
   "source": [
    "import pandas as pd\n",
    "import datetime\n",
    "import time\n",
    "import xlwings as xw\n",
    "import hmac, base64, struct, hashlib\n",
    "import requests\n",
    "import json\n",
    "import os\n",
    "import telebot\n",
    "import gspread\n",
    "from oauth2client.service_account import ServiceAccountCredentials\n",
    "import re\n",
    "# 上传result到google表格\n",
    "scopes = [\n",
    "    'https://www.googleapis.com/auth/spreadsheets',\n",
    "    'https://www.googleapis.com/auth/drive'\n",
    "]\n",
    "credentials = ServiceAccountCredentials.from_json_keyfile_name(r\"C:\\Users\\User\\Desktop\\文件\\追击\\zhuiji-345065c1f756.json\", scopes) #access the json key you downloaded earlier\n",
    "\n",
    "file = gspread.authorize(credentials) # authenticate the JSON key with gspread\n",
    "sheet = file.open(\"【TM】追击名单\") #open sheet\n",
    "# 工作表格\n",
    "sheet = sheet.worksheet('10月')\n",
    "df = pd.DataFrame(sheet.get_all_records())\n",
    "df.shape\n",
    "df.head()"
   ],
   "metadata": {
    "collapsed": false
   }
  },
  {
   "cell_type": "code",
   "execution_count": 43,
   "outputs": [
    {
     "name": "stdout",
     "output_type": "stream",
     "text": [
      "<class 'pandas.core.frame.DataFrame'>\n",
      "RangeIndex: 10 entries, 0 to 9\n",
      "Data columns (total 10 columns):\n",
      " #   Column               Non-Null Count  Dtype \n",
      "---  ------               --------------  ----- \n",
      " 0   20231020-12          10 non-null     object\n",
      " 1   asd897792090         10 non-null     object\n",
      " 2   13639274523          10 non-null     int64 \n",
      " 3   gt0005               10 non-null     object\n",
      " 4   0                    10 non-null     int64 \n",
      " 5   2023/10/19 17:53:25  10 non-null     object\n",
      " 6   正常                   10 non-null     object\n",
      " 7   无效通话                 10 non-null     object\n",
      " 8   无意向                  10 non-null     object\n",
      " 9   Unnamed: 9           6 non-null      object\n",
      "dtypes: int64(2), object(8)\n",
      "memory usage: 932.0+ bytes\n"
     ]
    }
   ],
   "source": [
    "df2 = pd.read_clipboard()\n",
    "df2.info()"
   ],
   "metadata": {
    "collapsed": false
   }
  },
  {
   "cell_type": "code",
   "execution_count": 53,
   "outputs": [
    {
     "data": {
      "text/plain": "            日期           会员账号         手机号码          代理  VIP等级  \\\n0  20231020-12  2786406848zyx  18704846174    wbdl1420      0   \n1  20231020-12  slb3335329637  18636492730  btyseo9005      0   \n2  20231020-12       5099027q  15142209543      zh0325      0   \n3  20231020-12      wqx352616  18174578546       admin      0   \n4  20231020-12  zhouzhou53210  15935356621   btydl0073      0   \n5  20231020-12     abcd114319  15019853165      gt3333      0   \n\n                  注册时间  状态  是否有效 意向情况  \\\n0  2023/10/19 17:08:32  正常  无效通话  无意向   \n1  2023/10/19 16:46:20  正常  无效通话  无意向   \n2  2023/10/19 14:57:45  正常  无效通话  无意向   \n3  2023/10/19 13:28:46  正常  无效通话  无意向   \n4  2023/10/19 11:47:55  正常  无效通话  无意向   \n5  2023/10/19 11:22:04  正常  有效通话  无意向   \n\n                                         电销沟通内容   排序  排序2  排序3  \n0                                           NaN  6.0  1.0  6.0  \n1                                        联系不上会员  5.0  2.0  5.0  \n2  自己取消的，说不会支付宝充值，详细告知怎么存款，不会联系经理教您，也有代充，介绍优惠好的  2.0  5.0  2.0  \n3                                        联系不上会员  4.0  3.0  4.0  \n4                                        联系不上会员  3.0  4.0  3.0  \n5        说是不会充值，自己取消的，告知有代充，扫码就行，联系专员申请，告知优惠，好的  1.0  6.0  1.0  ",
      "text/html": "<div>\n<style scoped>\n    .dataframe tbody tr th:only-of-type {\n        vertical-align: middle;\n    }\n\n    .dataframe tbody tr th {\n        vertical-align: top;\n    }\n\n    .dataframe thead th {\n        text-align: right;\n    }\n</style>\n<table border=\"1\" class=\"dataframe\">\n  <thead>\n    <tr style=\"text-align: right;\">\n      <th></th>\n      <th>日期</th>\n      <th>会员账号</th>\n      <th>手机号码</th>\n      <th>代理</th>\n      <th>VIP等级</th>\n      <th>注册时间</th>\n      <th>状态</th>\n      <th>是否有效</th>\n      <th>意向情况</th>\n      <th>电销沟通内容</th>\n      <th>排序</th>\n      <th>排序2</th>\n      <th>排序3</th>\n    </tr>\n  </thead>\n  <tbody>\n    <tr>\n      <th>0</th>\n      <td>20231020-12</td>\n      <td>2786406848zyx</td>\n      <td>18704846174</td>\n      <td>wbdl1420</td>\n      <td>0</td>\n      <td>2023/10/19 17:08:32</td>\n      <td>正常</td>\n      <td>无效通话</td>\n      <td>无意向</td>\n      <td>NaN</td>\n      <td>6.0</td>\n      <td>1.0</td>\n      <td>6.0</td>\n    </tr>\n    <tr>\n      <th>1</th>\n      <td>20231020-12</td>\n      <td>slb3335329637</td>\n      <td>18636492730</td>\n      <td>btyseo9005</td>\n      <td>0</td>\n      <td>2023/10/19 16:46:20</td>\n      <td>正常</td>\n      <td>无效通话</td>\n      <td>无意向</td>\n      <td>联系不上会员</td>\n      <td>5.0</td>\n      <td>2.0</td>\n      <td>5.0</td>\n    </tr>\n    <tr>\n      <th>2</th>\n      <td>20231020-12</td>\n      <td>5099027q</td>\n      <td>15142209543</td>\n      <td>zh0325</td>\n      <td>0</td>\n      <td>2023/10/19 14:57:45</td>\n      <td>正常</td>\n      <td>无效通话</td>\n      <td>无意向</td>\n      <td>自己取消的，说不会支付宝充值，详细告知怎么存款，不会联系经理教您，也有代充，介绍优惠好的</td>\n      <td>2.0</td>\n      <td>5.0</td>\n      <td>2.0</td>\n    </tr>\n    <tr>\n      <th>3</th>\n      <td>20231020-12</td>\n      <td>wqx352616</td>\n      <td>18174578546</td>\n      <td>admin</td>\n      <td>0</td>\n      <td>2023/10/19 13:28:46</td>\n      <td>正常</td>\n      <td>无效通话</td>\n      <td>无意向</td>\n      <td>联系不上会员</td>\n      <td>4.0</td>\n      <td>3.0</td>\n      <td>4.0</td>\n    </tr>\n    <tr>\n      <th>4</th>\n      <td>20231020-12</td>\n      <td>zhouzhou53210</td>\n      <td>15935356621</td>\n      <td>btydl0073</td>\n      <td>0</td>\n      <td>2023/10/19 11:47:55</td>\n      <td>正常</td>\n      <td>无效通话</td>\n      <td>无意向</td>\n      <td>联系不上会员</td>\n      <td>3.0</td>\n      <td>4.0</td>\n      <td>3.0</td>\n    </tr>\n    <tr>\n      <th>5</th>\n      <td>20231020-12</td>\n      <td>abcd114319</td>\n      <td>15019853165</td>\n      <td>gt3333</td>\n      <td>0</td>\n      <td>2023/10/19 11:22:04</td>\n      <td>正常</td>\n      <td>有效通话</td>\n      <td>无意向</td>\n      <td>说是不会充值，自己取消的，告知有代充，扫码就行，联系专员申请，告知优惠，好的</td>\n      <td>1.0</td>\n      <td>6.0</td>\n      <td>1.0</td>\n    </tr>\n  </tbody>\n</table>\n</div>"
     },
     "execution_count": 53,
     "metadata": {},
     "output_type": "execute_result"
    }
   ],
   "source": [
    "df2['排序3']=df2['手机号码'].rank(ascending=True)\n",
    "df2"
   ],
   "metadata": {
    "collapsed": false
   }
  },
  {
   "cell_type": "code",
   "execution_count": null,
   "outputs": [],
   "source": [
    "#脱敏\n",
    "df2 = pd.DataFrame(sheet.get_all_records())\n",
    "df2['手机号码']=df2['手机号码'].astype(str)\n",
    "df2['手机号码']=df2['手机号码'].map(lambda x:re.sub(r'(\\d{3})\\d{4}(\\d{4})', r'\\1****\\2', x))\n",
    "sheet.update(f'A2:J{df2.shape[0]+1}',df2.values.tolist())"
   ],
   "metadata": {
    "collapsed": false
   }
  },
  {
   "cell_type": "code",
   "execution_count": 29,
   "outputs": [
    {
     "data": {
      "text/plain": "            日期           会员账号         手机号码          代理  VIP等级  \\\n0  20231019-18    ainijln2112  177****4180       admin      0   \n1  20231019-18   nba446085860  130****3943       admin      0   \n2  20231019-18      keeeee123  186****5020       admin      0   \n3  20231019-18        w863864  137****4772  btyseo6007      0   \n4  20231019-18  aA13419562691  134****2691   btydl0073      0   \n\n                  注册时间  状态  是否有效 意向情况                               电销沟通内容  \n0  2023/10/19 12:43:30  正常  有效通话  有意向  会员自己撤销的，推荐了别的充值方式还有介绍了首存活动 联系小新领取优惠  \n1  2023/10/19 12:41:52  正常  无效通话  无意向                               联系不上会员  \n2  2023/10/19 12:40:49  正常  无效通话  无意向                               联系不上会员  \n3  2023/10/19 12:34:45  正常  有效通话  有意向  会员自己撤销的，推荐了别的充值方式还有介绍了首存活动 联系小新领取优惠  \n4  2023/10/19 12:33:40  正常  无效通话  无意向                              听到平台就挂断  ",
      "text/html": "<div>\n<style scoped>\n    .dataframe tbody tr th:only-of-type {\n        vertical-align: middle;\n    }\n\n    .dataframe tbody tr th {\n        vertical-align: top;\n    }\n\n    .dataframe thead th {\n        text-align: right;\n    }\n</style>\n<table border=\"1\" class=\"dataframe\">\n  <thead>\n    <tr style=\"text-align: right;\">\n      <th></th>\n      <th>日期</th>\n      <th>会员账号</th>\n      <th>手机号码</th>\n      <th>代理</th>\n      <th>VIP等级</th>\n      <th>注册时间</th>\n      <th>状态</th>\n      <th>是否有效</th>\n      <th>意向情况</th>\n      <th>电销沟通内容</th>\n    </tr>\n  </thead>\n  <tbody>\n    <tr>\n      <th>0</th>\n      <td>20231019-18</td>\n      <td>ainijln2112</td>\n      <td>177****4180</td>\n      <td>admin</td>\n      <td>0</td>\n      <td>2023/10/19 12:43:30</td>\n      <td>正常</td>\n      <td>有效通话</td>\n      <td>有意向</td>\n      <td>会员自己撤销的，推荐了别的充值方式还有介绍了首存活动 联系小新领取优惠</td>\n    </tr>\n    <tr>\n      <th>1</th>\n      <td>20231019-18</td>\n      <td>nba446085860</td>\n      <td>130****3943</td>\n      <td>admin</td>\n      <td>0</td>\n      <td>2023/10/19 12:41:52</td>\n      <td>正常</td>\n      <td>无效通话</td>\n      <td>无意向</td>\n      <td>联系不上会员</td>\n    </tr>\n    <tr>\n      <th>2</th>\n      <td>20231019-18</td>\n      <td>keeeee123</td>\n      <td>186****5020</td>\n      <td>admin</td>\n      <td>0</td>\n      <td>2023/10/19 12:40:49</td>\n      <td>正常</td>\n      <td>无效通话</td>\n      <td>无意向</td>\n      <td>联系不上会员</td>\n    </tr>\n    <tr>\n      <th>3</th>\n      <td>20231019-18</td>\n      <td>w863864</td>\n      <td>137****4772</td>\n      <td>btyseo6007</td>\n      <td>0</td>\n      <td>2023/10/19 12:34:45</td>\n      <td>正常</td>\n      <td>有效通话</td>\n      <td>有意向</td>\n      <td>会员自己撤销的，推荐了别的充值方式还有介绍了首存活动 联系小新领取优惠</td>\n    </tr>\n    <tr>\n      <th>4</th>\n      <td>20231019-18</td>\n      <td>aA13419562691</td>\n      <td>134****2691</td>\n      <td>btydl0073</td>\n      <td>0</td>\n      <td>2023/10/19 12:33:40</td>\n      <td>正常</td>\n      <td>无效通话</td>\n      <td>无意向</td>\n      <td>听到平台就挂断</td>\n    </tr>\n  </tbody>\n</table>\n</div>"
     },
     "execution_count": 29,
     "metadata": {},
     "output_type": "execute_result"
    }
   ],
   "source": [
    "df = sheet.get_all_records()\n",
    "df = pd.DataFrame(df)\n",
    "df.head()"
   ],
   "metadata": {
    "collapsed": false
   }
  },
  {
   "cell_type": "code",
   "execution_count": 30,
   "outputs": [
    {
     "data": {
      "text/plain": "{'spreadsheetId': '1CYqiaQLGQDk9GQmUCoSsv_bVJtMerBEKqm768BLjcZo',\n 'tableRange': \"'测试表格'!A1:J13\",\n 'updates': {'spreadsheetId': '1CYqiaQLGQDk9GQmUCoSsv_bVJtMerBEKqm768BLjcZo',\n  'updatedRange': \"'测试表格'!A14:J25\",\n  'updatedRows': 12,\n  'updatedColumns': 10,\n  'updatedCells': 120}}"
     },
     "execution_count": 30,
     "metadata": {},
     "output_type": "execute_result"
    }
   ],
   "source": [
    "\n",
    "sheet.append_rows(df.values.tolist())"
   ],
   "metadata": {
    "collapsed": false
   }
  },
  {
   "cell_type": "code",
   "execution_count": 23,
   "outputs": [
    {
     "data": {
      "text/plain": "            会员账号   币种         日期        上级代理  vip  存款金额   提款金额         比例  \\\n0       z1720114  CNY  2023/10/1      bs9Don    4     0      0        NaN   \n1       aaa99388  CNY  2023/10/1     zhao178    3     0      0        NaN   \n2        lyj5888  CNY  2023/10/1     bs9ahui    1     0      0        NaN   \n3     c201501120  CNY  2023/10/1     bs9ahui    4   200      0   0.000000   \n4    zhoulida123  CNY  2023/10/1   peipei178    5  6000      0   0.000000   \n5       jj654321  CNY  2023/10/1    bs9Ajie1    2     0      0        NaN   \n6     zsndaodao1  CNY  2023/10/1      bs9Don    2     0      0        NaN   \n7        czg1118  CNY  2023/10/1      bs9Don    3     0      0        NaN   \n8   87898789pppp  CNY  2023/10/1    bs9Ajie2    3     0      0        NaN   \n9    xuliangcq11  CNY  2023/10/1     bs9ahui    1     0      0        NaN   \n10       wyy8404  CNY  2023/10/1    bs9Ajie1    5     0  20000        inf   \n11    zsh7149zsh  CNY  2023/10/1      bmw666    4  3000      0   0.000000   \n12     zjl328328  CNY  2023/10/1     bs9ahui    3     0      0        NaN   \n13    zulabdu491  CNY  2023/10/1  bs9Robert2    5  2750      0   0.000000   \n14   qq578458440  CNY  2023/10/1    bs9Ajie1    6  6008      0   0.000000   \n15     asdfg5656  CNY  2023/10/1    bs9Ajie2    4     0      0        NaN   \n16      tony1943  CNY  2023/10/1      bs9Don    2     0      0        NaN   \n17    kevin66666  CNY  2023/10/1    bs9Ajie1    4     0      0        NaN   \n18      zxzlmqs1  CNY  2023/10/1    bs9sonic    3  1500      0   0.000000   \n19       satr211  CNY  2023/10/1    bs9Ajie1    3     0      0        NaN   \n20      qw990419  CNY  2023/10/1     bs9ahui    2     0      0        NaN   \n21      long2022  CNY  2023/10/1    bs9Ajie1    2     0      0        NaN   \n22     zz5201314  CNY  2023/10/1    bs9Ajie2    3   200      0   0.000000   \n23     aa8673295  CNY  2023/10/1     bs9ahui    4     0      0        NaN   \n24     random123  CNY  2023/10/1  bs9Robert3    7     0      0        NaN   \n25    745207235a  CNY  2023/10/1  btyseo6007    3   200   2000  10.000000   \n26      Nd666777  CNY  2023/10/1    bs9Ajie1    2   300    500   1.666667   \n27      zl654321  CNY  2023/10/1    bs9Ajie2    3     0    900        inf   \n\n          比例2  \n0    0.000000  \n1    0.000000  \n2    0.000000  \n3    0.000000  \n4    0.000000  \n5    0.000000  \n6    0.000000  \n7    0.000000  \n8    0.000000  \n9    0.000000  \n10   0.000000  \n11   0.000000  \n12   0.000000  \n13   0.000000  \n14   0.000000  \n15   0.000000  \n16   0.000000  \n17   0.000000  \n18   0.000000  \n19   0.000000  \n20   0.000000  \n21   0.000000  \n22   0.000000  \n23   0.000000  \n24   0.000000  \n25  10.000000  \n26   1.666667  \n27   0.000000  ",
      "text/html": "<div>\n<style scoped>\n    .dataframe tbody tr th:only-of-type {\n        vertical-align: middle;\n    }\n\n    .dataframe tbody tr th {\n        vertical-align: top;\n    }\n\n    .dataframe thead th {\n        text-align: right;\n    }\n</style>\n<table border=\"1\" class=\"dataframe\">\n  <thead>\n    <tr style=\"text-align: right;\">\n      <th></th>\n      <th>会员账号</th>\n      <th>币种</th>\n      <th>日期</th>\n      <th>上级代理</th>\n      <th>vip</th>\n      <th>存款金额</th>\n      <th>提款金额</th>\n      <th>比例</th>\n      <th>比例2</th>\n    </tr>\n  </thead>\n  <tbody>\n    <tr>\n      <th>0</th>\n      <td>z1720114</td>\n      <td>CNY</td>\n      <td>2023/10/1</td>\n      <td>bs9Don</td>\n      <td>4</td>\n      <td>0</td>\n      <td>0</td>\n      <td>NaN</td>\n      <td>0.000000</td>\n    </tr>\n    <tr>\n      <th>1</th>\n      <td>aaa99388</td>\n      <td>CNY</td>\n      <td>2023/10/1</td>\n      <td>zhao178</td>\n      <td>3</td>\n      <td>0</td>\n      <td>0</td>\n      <td>NaN</td>\n      <td>0.000000</td>\n    </tr>\n    <tr>\n      <th>2</th>\n      <td>lyj5888</td>\n      <td>CNY</td>\n      <td>2023/10/1</td>\n      <td>bs9ahui</td>\n      <td>1</td>\n      <td>0</td>\n      <td>0</td>\n      <td>NaN</td>\n      <td>0.000000</td>\n    </tr>\n    <tr>\n      <th>3</th>\n      <td>c201501120</td>\n      <td>CNY</td>\n      <td>2023/10/1</td>\n      <td>bs9ahui</td>\n      <td>4</td>\n      <td>200</td>\n      <td>0</td>\n      <td>0.000000</td>\n      <td>0.000000</td>\n    </tr>\n    <tr>\n      <th>4</th>\n      <td>zhoulida123</td>\n      <td>CNY</td>\n      <td>2023/10/1</td>\n      <td>peipei178</td>\n      <td>5</td>\n      <td>6000</td>\n      <td>0</td>\n      <td>0.000000</td>\n      <td>0.000000</td>\n    </tr>\n    <tr>\n      <th>5</th>\n      <td>jj654321</td>\n      <td>CNY</td>\n      <td>2023/10/1</td>\n      <td>bs9Ajie1</td>\n      <td>2</td>\n      <td>0</td>\n      <td>0</td>\n      <td>NaN</td>\n      <td>0.000000</td>\n    </tr>\n    <tr>\n      <th>6</th>\n      <td>zsndaodao1</td>\n      <td>CNY</td>\n      <td>2023/10/1</td>\n      <td>bs9Don</td>\n      <td>2</td>\n      <td>0</td>\n      <td>0</td>\n      <td>NaN</td>\n      <td>0.000000</td>\n    </tr>\n    <tr>\n      <th>7</th>\n      <td>czg1118</td>\n      <td>CNY</td>\n      <td>2023/10/1</td>\n      <td>bs9Don</td>\n      <td>3</td>\n      <td>0</td>\n      <td>0</td>\n      <td>NaN</td>\n      <td>0.000000</td>\n    </tr>\n    <tr>\n      <th>8</th>\n      <td>87898789pppp</td>\n      <td>CNY</td>\n      <td>2023/10/1</td>\n      <td>bs9Ajie2</td>\n      <td>3</td>\n      <td>0</td>\n      <td>0</td>\n      <td>NaN</td>\n      <td>0.000000</td>\n    </tr>\n    <tr>\n      <th>9</th>\n      <td>xuliangcq11</td>\n      <td>CNY</td>\n      <td>2023/10/1</td>\n      <td>bs9ahui</td>\n      <td>1</td>\n      <td>0</td>\n      <td>0</td>\n      <td>NaN</td>\n      <td>0.000000</td>\n    </tr>\n    <tr>\n      <th>10</th>\n      <td>wyy8404</td>\n      <td>CNY</td>\n      <td>2023/10/1</td>\n      <td>bs9Ajie1</td>\n      <td>5</td>\n      <td>0</td>\n      <td>20000</td>\n      <td>inf</td>\n      <td>0.000000</td>\n    </tr>\n    <tr>\n      <th>11</th>\n      <td>zsh7149zsh</td>\n      <td>CNY</td>\n      <td>2023/10/1</td>\n      <td>bmw666</td>\n      <td>4</td>\n      <td>3000</td>\n      <td>0</td>\n      <td>0.000000</td>\n      <td>0.000000</td>\n    </tr>\n    <tr>\n      <th>12</th>\n      <td>zjl328328</td>\n      <td>CNY</td>\n      <td>2023/10/1</td>\n      <td>bs9ahui</td>\n      <td>3</td>\n      <td>0</td>\n      <td>0</td>\n      <td>NaN</td>\n      <td>0.000000</td>\n    </tr>\n    <tr>\n      <th>13</th>\n      <td>zulabdu491</td>\n      <td>CNY</td>\n      <td>2023/10/1</td>\n      <td>bs9Robert2</td>\n      <td>5</td>\n      <td>2750</td>\n      <td>0</td>\n      <td>0.000000</td>\n      <td>0.000000</td>\n    </tr>\n    <tr>\n      <th>14</th>\n      <td>qq578458440</td>\n      <td>CNY</td>\n      <td>2023/10/1</td>\n      <td>bs9Ajie1</td>\n      <td>6</td>\n      <td>6008</td>\n      <td>0</td>\n      <td>0.000000</td>\n      <td>0.000000</td>\n    </tr>\n    <tr>\n      <th>15</th>\n      <td>asdfg5656</td>\n      <td>CNY</td>\n      <td>2023/10/1</td>\n      <td>bs9Ajie2</td>\n      <td>4</td>\n      <td>0</td>\n      <td>0</td>\n      <td>NaN</td>\n      <td>0.000000</td>\n    </tr>\n    <tr>\n      <th>16</th>\n      <td>tony1943</td>\n      <td>CNY</td>\n      <td>2023/10/1</td>\n      <td>bs9Don</td>\n      <td>2</td>\n      <td>0</td>\n      <td>0</td>\n      <td>NaN</td>\n      <td>0.000000</td>\n    </tr>\n    <tr>\n      <th>17</th>\n      <td>kevin66666</td>\n      <td>CNY</td>\n      <td>2023/10/1</td>\n      <td>bs9Ajie1</td>\n      <td>4</td>\n      <td>0</td>\n      <td>0</td>\n      <td>NaN</td>\n      <td>0.000000</td>\n    </tr>\n    <tr>\n      <th>18</th>\n      <td>zxzlmqs1</td>\n      <td>CNY</td>\n      <td>2023/10/1</td>\n      <td>bs9sonic</td>\n      <td>3</td>\n      <td>1500</td>\n      <td>0</td>\n      <td>0.000000</td>\n      <td>0.000000</td>\n    </tr>\n    <tr>\n      <th>19</th>\n      <td>satr211</td>\n      <td>CNY</td>\n      <td>2023/10/1</td>\n      <td>bs9Ajie1</td>\n      <td>3</td>\n      <td>0</td>\n      <td>0</td>\n      <td>NaN</td>\n      <td>0.000000</td>\n    </tr>\n    <tr>\n      <th>20</th>\n      <td>qw990419</td>\n      <td>CNY</td>\n      <td>2023/10/1</td>\n      <td>bs9ahui</td>\n      <td>2</td>\n      <td>0</td>\n      <td>0</td>\n      <td>NaN</td>\n      <td>0.000000</td>\n    </tr>\n    <tr>\n      <th>21</th>\n      <td>long2022</td>\n      <td>CNY</td>\n      <td>2023/10/1</td>\n      <td>bs9Ajie1</td>\n      <td>2</td>\n      <td>0</td>\n      <td>0</td>\n      <td>NaN</td>\n      <td>0.000000</td>\n    </tr>\n    <tr>\n      <th>22</th>\n      <td>zz5201314</td>\n      <td>CNY</td>\n      <td>2023/10/1</td>\n      <td>bs9Ajie2</td>\n      <td>3</td>\n      <td>200</td>\n      <td>0</td>\n      <td>0.000000</td>\n      <td>0.000000</td>\n    </tr>\n    <tr>\n      <th>23</th>\n      <td>aa8673295</td>\n      <td>CNY</td>\n      <td>2023/10/1</td>\n      <td>bs9ahui</td>\n      <td>4</td>\n      <td>0</td>\n      <td>0</td>\n      <td>NaN</td>\n      <td>0.000000</td>\n    </tr>\n    <tr>\n      <th>24</th>\n      <td>random123</td>\n      <td>CNY</td>\n      <td>2023/10/1</td>\n      <td>bs9Robert3</td>\n      <td>7</td>\n      <td>0</td>\n      <td>0</td>\n      <td>NaN</td>\n      <td>0.000000</td>\n    </tr>\n    <tr>\n      <th>25</th>\n      <td>745207235a</td>\n      <td>CNY</td>\n      <td>2023/10/1</td>\n      <td>btyseo6007</td>\n      <td>3</td>\n      <td>200</td>\n      <td>2000</td>\n      <td>10.000000</td>\n      <td>10.000000</td>\n    </tr>\n    <tr>\n      <th>26</th>\n      <td>Nd666777</td>\n      <td>CNY</td>\n      <td>2023/10/1</td>\n      <td>bs9Ajie1</td>\n      <td>2</td>\n      <td>300</td>\n      <td>500</td>\n      <td>1.666667</td>\n      <td>1.666667</td>\n    </tr>\n    <tr>\n      <th>27</th>\n      <td>zl654321</td>\n      <td>CNY</td>\n      <td>2023/10/1</td>\n      <td>bs9Ajie2</td>\n      <td>3</td>\n      <td>0</td>\n      <td>900</td>\n      <td>inf</td>\n      <td>0.000000</td>\n    </tr>\n  </tbody>\n</table>\n</div>"
     },
     "execution_count": 23,
     "metadata": {},
     "output_type": "execute_result"
    }
   ],
   "source": [
    "df['比例2'] = np.where(df['存款金额']>0,df['提款金额']/df['存款金额'],0)\n",
    "df"
   ],
   "metadata": {
    "collapsed": false
   }
  },
  {
   "cell_type": "code",
   "execution_count": 22,
   "outputs": [
    {
     "data": {
      "text/plain": "            会员账号   币种         日期        上级代理  vip  存款金额   提款金额         比例\n0       z1720114  CNY  2023/10/1      bs9Don    4     0      0        NaN\n1       aaa99388  CNY  2023/10/1     zhao178    3     0      0        NaN\n2        lyj5888  CNY  2023/10/1     bs9ahui    1     0      0        NaN\n3     c201501120  CNY  2023/10/1     bs9ahui    4   200      0   0.000000\n4    zhoulida123  CNY  2023/10/1   peipei178    5  6000      0   0.000000\n5       jj654321  CNY  2023/10/1    bs9Ajie1    2     0      0        NaN\n6     zsndaodao1  CNY  2023/10/1      bs9Don    2     0      0        NaN\n7        czg1118  CNY  2023/10/1      bs9Don    3     0      0        NaN\n8   87898789pppp  CNY  2023/10/1    bs9Ajie2    3     0      0        NaN\n9    xuliangcq11  CNY  2023/10/1     bs9ahui    1     0      0        NaN\n10       wyy8404  CNY  2023/10/1    bs9Ajie1    5     0  20000        inf\n11    zsh7149zsh  CNY  2023/10/1      bmw666    4  3000      0   0.000000\n12     zjl328328  CNY  2023/10/1     bs9ahui    3     0      0        NaN\n13    zulabdu491  CNY  2023/10/1  bs9Robert2    5  2750      0   0.000000\n14   qq578458440  CNY  2023/10/1    bs9Ajie1    6  6008      0   0.000000\n15     asdfg5656  CNY  2023/10/1    bs9Ajie2    4     0      0        NaN\n16      tony1943  CNY  2023/10/1      bs9Don    2     0      0        NaN\n17    kevin66666  CNY  2023/10/1    bs9Ajie1    4     0      0        NaN\n18      zxzlmqs1  CNY  2023/10/1    bs9sonic    3  1500      0   0.000000\n19       satr211  CNY  2023/10/1    bs9Ajie1    3     0      0        NaN\n20      qw990419  CNY  2023/10/1     bs9ahui    2     0      0        NaN\n21      long2022  CNY  2023/10/1    bs9Ajie1    2     0      0        NaN\n22     zz5201314  CNY  2023/10/1    bs9Ajie2    3   200      0   0.000000\n23     aa8673295  CNY  2023/10/1     bs9ahui    4     0      0        NaN\n24     random123  CNY  2023/10/1  bs9Robert3    7     0      0        NaN\n25    745207235a  CNY  2023/10/1  btyseo6007    3   200   2000  10.000000\n26      Nd666777  CNY  2023/10/1    bs9Ajie1    2   300    500   1.666667\n27      zl654321  CNY  2023/10/1    bs9Ajie2    3     0    900        inf",
      "text/html": "<div>\n<style scoped>\n    .dataframe tbody tr th:only-of-type {\n        vertical-align: middle;\n    }\n\n    .dataframe tbody tr th {\n        vertical-align: top;\n    }\n\n    .dataframe thead th {\n        text-align: right;\n    }\n</style>\n<table border=\"1\" class=\"dataframe\">\n  <thead>\n    <tr style=\"text-align: right;\">\n      <th></th>\n      <th>会员账号</th>\n      <th>币种</th>\n      <th>日期</th>\n      <th>上级代理</th>\n      <th>vip</th>\n      <th>存款金额</th>\n      <th>提款金额</th>\n      <th>比例</th>\n    </tr>\n  </thead>\n  <tbody>\n    <tr>\n      <th>0</th>\n      <td>z1720114</td>\n      <td>CNY</td>\n      <td>2023/10/1</td>\n      <td>bs9Don</td>\n      <td>4</td>\n      <td>0</td>\n      <td>0</td>\n      <td>NaN</td>\n    </tr>\n    <tr>\n      <th>1</th>\n      <td>aaa99388</td>\n      <td>CNY</td>\n      <td>2023/10/1</td>\n      <td>zhao178</td>\n      <td>3</td>\n      <td>0</td>\n      <td>0</td>\n      <td>NaN</td>\n    </tr>\n    <tr>\n      <th>2</th>\n      <td>lyj5888</td>\n      <td>CNY</td>\n      <td>2023/10/1</td>\n      <td>bs9ahui</td>\n      <td>1</td>\n      <td>0</td>\n      <td>0</td>\n      <td>NaN</td>\n    </tr>\n    <tr>\n      <th>3</th>\n      <td>c201501120</td>\n      <td>CNY</td>\n      <td>2023/10/1</td>\n      <td>bs9ahui</td>\n      <td>4</td>\n      <td>200</td>\n      <td>0</td>\n      <td>0.000000</td>\n    </tr>\n    <tr>\n      <th>4</th>\n      <td>zhoulida123</td>\n      <td>CNY</td>\n      <td>2023/10/1</td>\n      <td>peipei178</td>\n      <td>5</td>\n      <td>6000</td>\n      <td>0</td>\n      <td>0.000000</td>\n    </tr>\n    <tr>\n      <th>5</th>\n      <td>jj654321</td>\n      <td>CNY</td>\n      <td>2023/10/1</td>\n      <td>bs9Ajie1</td>\n      <td>2</td>\n      <td>0</td>\n      <td>0</td>\n      <td>NaN</td>\n    </tr>\n    <tr>\n      <th>6</th>\n      <td>zsndaodao1</td>\n      <td>CNY</td>\n      <td>2023/10/1</td>\n      <td>bs9Don</td>\n      <td>2</td>\n      <td>0</td>\n      <td>0</td>\n      <td>NaN</td>\n    </tr>\n    <tr>\n      <th>7</th>\n      <td>czg1118</td>\n      <td>CNY</td>\n      <td>2023/10/1</td>\n      <td>bs9Don</td>\n      <td>3</td>\n      <td>0</td>\n      <td>0</td>\n      <td>NaN</td>\n    </tr>\n    <tr>\n      <th>8</th>\n      <td>87898789pppp</td>\n      <td>CNY</td>\n      <td>2023/10/1</td>\n      <td>bs9Ajie2</td>\n      <td>3</td>\n      <td>0</td>\n      <td>0</td>\n      <td>NaN</td>\n    </tr>\n    <tr>\n      <th>9</th>\n      <td>xuliangcq11</td>\n      <td>CNY</td>\n      <td>2023/10/1</td>\n      <td>bs9ahui</td>\n      <td>1</td>\n      <td>0</td>\n      <td>0</td>\n      <td>NaN</td>\n    </tr>\n    <tr>\n      <th>10</th>\n      <td>wyy8404</td>\n      <td>CNY</td>\n      <td>2023/10/1</td>\n      <td>bs9Ajie1</td>\n      <td>5</td>\n      <td>0</td>\n      <td>20000</td>\n      <td>inf</td>\n    </tr>\n    <tr>\n      <th>11</th>\n      <td>zsh7149zsh</td>\n      <td>CNY</td>\n      <td>2023/10/1</td>\n      <td>bmw666</td>\n      <td>4</td>\n      <td>3000</td>\n      <td>0</td>\n      <td>0.000000</td>\n    </tr>\n    <tr>\n      <th>12</th>\n      <td>zjl328328</td>\n      <td>CNY</td>\n      <td>2023/10/1</td>\n      <td>bs9ahui</td>\n      <td>3</td>\n      <td>0</td>\n      <td>0</td>\n      <td>NaN</td>\n    </tr>\n    <tr>\n      <th>13</th>\n      <td>zulabdu491</td>\n      <td>CNY</td>\n      <td>2023/10/1</td>\n      <td>bs9Robert2</td>\n      <td>5</td>\n      <td>2750</td>\n      <td>0</td>\n      <td>0.000000</td>\n    </tr>\n    <tr>\n      <th>14</th>\n      <td>qq578458440</td>\n      <td>CNY</td>\n      <td>2023/10/1</td>\n      <td>bs9Ajie1</td>\n      <td>6</td>\n      <td>6008</td>\n      <td>0</td>\n      <td>0.000000</td>\n    </tr>\n    <tr>\n      <th>15</th>\n      <td>asdfg5656</td>\n      <td>CNY</td>\n      <td>2023/10/1</td>\n      <td>bs9Ajie2</td>\n      <td>4</td>\n      <td>0</td>\n      <td>0</td>\n      <td>NaN</td>\n    </tr>\n    <tr>\n      <th>16</th>\n      <td>tony1943</td>\n      <td>CNY</td>\n      <td>2023/10/1</td>\n      <td>bs9Don</td>\n      <td>2</td>\n      <td>0</td>\n      <td>0</td>\n      <td>NaN</td>\n    </tr>\n    <tr>\n      <th>17</th>\n      <td>kevin66666</td>\n      <td>CNY</td>\n      <td>2023/10/1</td>\n      <td>bs9Ajie1</td>\n      <td>4</td>\n      <td>0</td>\n      <td>0</td>\n      <td>NaN</td>\n    </tr>\n    <tr>\n      <th>18</th>\n      <td>zxzlmqs1</td>\n      <td>CNY</td>\n      <td>2023/10/1</td>\n      <td>bs9sonic</td>\n      <td>3</td>\n      <td>1500</td>\n      <td>0</td>\n      <td>0.000000</td>\n    </tr>\n    <tr>\n      <th>19</th>\n      <td>satr211</td>\n      <td>CNY</td>\n      <td>2023/10/1</td>\n      <td>bs9Ajie1</td>\n      <td>3</td>\n      <td>0</td>\n      <td>0</td>\n      <td>NaN</td>\n    </tr>\n    <tr>\n      <th>20</th>\n      <td>qw990419</td>\n      <td>CNY</td>\n      <td>2023/10/1</td>\n      <td>bs9ahui</td>\n      <td>2</td>\n      <td>0</td>\n      <td>0</td>\n      <td>NaN</td>\n    </tr>\n    <tr>\n      <th>21</th>\n      <td>long2022</td>\n      <td>CNY</td>\n      <td>2023/10/1</td>\n      <td>bs9Ajie1</td>\n      <td>2</td>\n      <td>0</td>\n      <td>0</td>\n      <td>NaN</td>\n    </tr>\n    <tr>\n      <th>22</th>\n      <td>zz5201314</td>\n      <td>CNY</td>\n      <td>2023/10/1</td>\n      <td>bs9Ajie2</td>\n      <td>3</td>\n      <td>200</td>\n      <td>0</td>\n      <td>0.000000</td>\n    </tr>\n    <tr>\n      <th>23</th>\n      <td>aa8673295</td>\n      <td>CNY</td>\n      <td>2023/10/1</td>\n      <td>bs9ahui</td>\n      <td>4</td>\n      <td>0</td>\n      <td>0</td>\n      <td>NaN</td>\n    </tr>\n    <tr>\n      <th>24</th>\n      <td>random123</td>\n      <td>CNY</td>\n      <td>2023/10/1</td>\n      <td>bs9Robert3</td>\n      <td>7</td>\n      <td>0</td>\n      <td>0</td>\n      <td>NaN</td>\n    </tr>\n    <tr>\n      <th>25</th>\n      <td>745207235a</td>\n      <td>CNY</td>\n      <td>2023/10/1</td>\n      <td>btyseo6007</td>\n      <td>3</td>\n      <td>200</td>\n      <td>2000</td>\n      <td>10.000000</td>\n    </tr>\n    <tr>\n      <th>26</th>\n      <td>Nd666777</td>\n      <td>CNY</td>\n      <td>2023/10/1</td>\n      <td>bs9Ajie1</td>\n      <td>2</td>\n      <td>300</td>\n      <td>500</td>\n      <td>1.666667</td>\n    </tr>\n    <tr>\n      <th>27</th>\n      <td>zl654321</td>\n      <td>CNY</td>\n      <td>2023/10/1</td>\n      <td>bs9Ajie2</td>\n      <td>3</td>\n      <td>0</td>\n      <td>900</td>\n      <td>inf</td>\n    </tr>\n  </tbody>\n</table>\n</div>"
     },
     "execution_count": 22,
     "metadata": {},
     "output_type": "execute_result"
    }
   ],
   "source": [
    "df['比例'] = df['提款金额']/df['存款金额']\n",
    "df"
   ],
   "metadata": {
    "collapsed": false
   }
  },
  {
   "cell_type": "code",
   "execution_count": 21,
   "outputs": [
    {
     "data": {
      "text/plain": "            会员账号   币种         日期        上级代理  vip  存款金额   提款金额\n0       z1720114  CNY  2023/10/1      bs9Don    4     0      0\n1       aaa99388  CNY  2023/10/1     zhao178    3     0      0\n2        lyj5888  CNY  2023/10/1     bs9ahui    1     0      0\n3     c201501120  CNY  2023/10/1     bs9ahui    4   200      0\n4    zhoulida123  CNY  2023/10/1   peipei178    5  6000      0\n5       jj654321  CNY  2023/10/1    bs9Ajie1    2     0      0\n6     zsndaodao1  CNY  2023/10/1      bs9Don    2     0      0\n7        czg1118  CNY  2023/10/1      bs9Don    3     0      0\n8   87898789pppp  CNY  2023/10/1    bs9Ajie2    3     0      0\n9    xuliangcq11  CNY  2023/10/1     bs9ahui    1     0      0\n10       wyy8404  CNY  2023/10/1    bs9Ajie1    5     0  20000\n11    zsh7149zsh  CNY  2023/10/1      bmw666    4  3000      0\n12     zjl328328  CNY  2023/10/1     bs9ahui    3     0      0\n13    zulabdu491  CNY  2023/10/1  bs9Robert2    5  2750      0\n14   qq578458440  CNY  2023/10/1    bs9Ajie1    6  6008      0\n15     asdfg5656  CNY  2023/10/1    bs9Ajie2    4     0      0\n16      tony1943  CNY  2023/10/1      bs9Don    2     0      0\n17    kevin66666  CNY  2023/10/1    bs9Ajie1    4     0      0\n18      zxzlmqs1  CNY  2023/10/1    bs9sonic    3  1500      0\n19       satr211  CNY  2023/10/1    bs9Ajie1    3     0      0\n20      qw990419  CNY  2023/10/1     bs9ahui    2     0      0\n21      long2022  CNY  2023/10/1    bs9Ajie1    2     0      0\n22     zz5201314  CNY  2023/10/1    bs9Ajie2    3   200      0\n23     aa8673295  CNY  2023/10/1     bs9ahui    4     0      0\n24     random123  CNY  2023/10/1  bs9Robert3    7     0      0\n25    745207235a  CNY  2023/10/1  btyseo6007    3   200   2000\n26      Nd666777  CNY  2023/10/1    bs9Ajie1    2   300    500\n27      zl654321  CNY  2023/10/1    bs9Ajie2    3     0    900",
      "text/html": "<div>\n<style scoped>\n    .dataframe tbody tr th:only-of-type {\n        vertical-align: middle;\n    }\n\n    .dataframe tbody tr th {\n        vertical-align: top;\n    }\n\n    .dataframe thead th {\n        text-align: right;\n    }\n</style>\n<table border=\"1\" class=\"dataframe\">\n  <thead>\n    <tr style=\"text-align: right;\">\n      <th></th>\n      <th>会员账号</th>\n      <th>币种</th>\n      <th>日期</th>\n      <th>上级代理</th>\n      <th>vip</th>\n      <th>存款金额</th>\n      <th>提款金额</th>\n    </tr>\n  </thead>\n  <tbody>\n    <tr>\n      <th>0</th>\n      <td>z1720114</td>\n      <td>CNY</td>\n      <td>2023/10/1</td>\n      <td>bs9Don</td>\n      <td>4</td>\n      <td>0</td>\n      <td>0</td>\n    </tr>\n    <tr>\n      <th>1</th>\n      <td>aaa99388</td>\n      <td>CNY</td>\n      <td>2023/10/1</td>\n      <td>zhao178</td>\n      <td>3</td>\n      <td>0</td>\n      <td>0</td>\n    </tr>\n    <tr>\n      <th>2</th>\n      <td>lyj5888</td>\n      <td>CNY</td>\n      <td>2023/10/1</td>\n      <td>bs9ahui</td>\n      <td>1</td>\n      <td>0</td>\n      <td>0</td>\n    </tr>\n    <tr>\n      <th>3</th>\n      <td>c201501120</td>\n      <td>CNY</td>\n      <td>2023/10/1</td>\n      <td>bs9ahui</td>\n      <td>4</td>\n      <td>200</td>\n      <td>0</td>\n    </tr>\n    <tr>\n      <th>4</th>\n      <td>zhoulida123</td>\n      <td>CNY</td>\n      <td>2023/10/1</td>\n      <td>peipei178</td>\n      <td>5</td>\n      <td>6000</td>\n      <td>0</td>\n    </tr>\n    <tr>\n      <th>5</th>\n      <td>jj654321</td>\n      <td>CNY</td>\n      <td>2023/10/1</td>\n      <td>bs9Ajie1</td>\n      <td>2</td>\n      <td>0</td>\n      <td>0</td>\n    </tr>\n    <tr>\n      <th>6</th>\n      <td>zsndaodao1</td>\n      <td>CNY</td>\n      <td>2023/10/1</td>\n      <td>bs9Don</td>\n      <td>2</td>\n      <td>0</td>\n      <td>0</td>\n    </tr>\n    <tr>\n      <th>7</th>\n      <td>czg1118</td>\n      <td>CNY</td>\n      <td>2023/10/1</td>\n      <td>bs9Don</td>\n      <td>3</td>\n      <td>0</td>\n      <td>0</td>\n    </tr>\n    <tr>\n      <th>8</th>\n      <td>87898789pppp</td>\n      <td>CNY</td>\n      <td>2023/10/1</td>\n      <td>bs9Ajie2</td>\n      <td>3</td>\n      <td>0</td>\n      <td>0</td>\n    </tr>\n    <tr>\n      <th>9</th>\n      <td>xuliangcq11</td>\n      <td>CNY</td>\n      <td>2023/10/1</td>\n      <td>bs9ahui</td>\n      <td>1</td>\n      <td>0</td>\n      <td>0</td>\n    </tr>\n    <tr>\n      <th>10</th>\n      <td>wyy8404</td>\n      <td>CNY</td>\n      <td>2023/10/1</td>\n      <td>bs9Ajie1</td>\n      <td>5</td>\n      <td>0</td>\n      <td>20000</td>\n    </tr>\n    <tr>\n      <th>11</th>\n      <td>zsh7149zsh</td>\n      <td>CNY</td>\n      <td>2023/10/1</td>\n      <td>bmw666</td>\n      <td>4</td>\n      <td>3000</td>\n      <td>0</td>\n    </tr>\n    <tr>\n      <th>12</th>\n      <td>zjl328328</td>\n      <td>CNY</td>\n      <td>2023/10/1</td>\n      <td>bs9ahui</td>\n      <td>3</td>\n      <td>0</td>\n      <td>0</td>\n    </tr>\n    <tr>\n      <th>13</th>\n      <td>zulabdu491</td>\n      <td>CNY</td>\n      <td>2023/10/1</td>\n      <td>bs9Robert2</td>\n      <td>5</td>\n      <td>2750</td>\n      <td>0</td>\n    </tr>\n    <tr>\n      <th>14</th>\n      <td>qq578458440</td>\n      <td>CNY</td>\n      <td>2023/10/1</td>\n      <td>bs9Ajie1</td>\n      <td>6</td>\n      <td>6008</td>\n      <td>0</td>\n    </tr>\n    <tr>\n      <th>15</th>\n      <td>asdfg5656</td>\n      <td>CNY</td>\n      <td>2023/10/1</td>\n      <td>bs9Ajie2</td>\n      <td>4</td>\n      <td>0</td>\n      <td>0</td>\n    </tr>\n    <tr>\n      <th>16</th>\n      <td>tony1943</td>\n      <td>CNY</td>\n      <td>2023/10/1</td>\n      <td>bs9Don</td>\n      <td>2</td>\n      <td>0</td>\n      <td>0</td>\n    </tr>\n    <tr>\n      <th>17</th>\n      <td>kevin66666</td>\n      <td>CNY</td>\n      <td>2023/10/1</td>\n      <td>bs9Ajie1</td>\n      <td>4</td>\n      <td>0</td>\n      <td>0</td>\n    </tr>\n    <tr>\n      <th>18</th>\n      <td>zxzlmqs1</td>\n      <td>CNY</td>\n      <td>2023/10/1</td>\n      <td>bs9sonic</td>\n      <td>3</td>\n      <td>1500</td>\n      <td>0</td>\n    </tr>\n    <tr>\n      <th>19</th>\n      <td>satr211</td>\n      <td>CNY</td>\n      <td>2023/10/1</td>\n      <td>bs9Ajie1</td>\n      <td>3</td>\n      <td>0</td>\n      <td>0</td>\n    </tr>\n    <tr>\n      <th>20</th>\n      <td>qw990419</td>\n      <td>CNY</td>\n      <td>2023/10/1</td>\n      <td>bs9ahui</td>\n      <td>2</td>\n      <td>0</td>\n      <td>0</td>\n    </tr>\n    <tr>\n      <th>21</th>\n      <td>long2022</td>\n      <td>CNY</td>\n      <td>2023/10/1</td>\n      <td>bs9Ajie1</td>\n      <td>2</td>\n      <td>0</td>\n      <td>0</td>\n    </tr>\n    <tr>\n      <th>22</th>\n      <td>zz5201314</td>\n      <td>CNY</td>\n      <td>2023/10/1</td>\n      <td>bs9Ajie2</td>\n      <td>3</td>\n      <td>200</td>\n      <td>0</td>\n    </tr>\n    <tr>\n      <th>23</th>\n      <td>aa8673295</td>\n      <td>CNY</td>\n      <td>2023/10/1</td>\n      <td>bs9ahui</td>\n      <td>4</td>\n      <td>0</td>\n      <td>0</td>\n    </tr>\n    <tr>\n      <th>24</th>\n      <td>random123</td>\n      <td>CNY</td>\n      <td>2023/10/1</td>\n      <td>bs9Robert3</td>\n      <td>7</td>\n      <td>0</td>\n      <td>0</td>\n    </tr>\n    <tr>\n      <th>25</th>\n      <td>745207235a</td>\n      <td>CNY</td>\n      <td>2023/10/1</td>\n      <td>btyseo6007</td>\n      <td>3</td>\n      <td>200</td>\n      <td>2000</td>\n    </tr>\n    <tr>\n      <th>26</th>\n      <td>Nd666777</td>\n      <td>CNY</td>\n      <td>2023/10/1</td>\n      <td>bs9Ajie1</td>\n      <td>2</td>\n      <td>300</td>\n      <td>500</td>\n    </tr>\n    <tr>\n      <th>27</th>\n      <td>zl654321</td>\n      <td>CNY</td>\n      <td>2023/10/1</td>\n      <td>bs9Ajie2</td>\n      <td>3</td>\n      <td>0</td>\n      <td>900</td>\n    </tr>\n  </tbody>\n</table>\n</div>"
     },
     "execution_count": 21,
     "metadata": {},
     "output_type": "execute_result"
    }
   ],
   "source": [
    "import pandas as pd\n",
    "df = pd.read_clipboard()\n",
    "df"
   ],
   "metadata": {
    "collapsed": false
   }
  },
  {
   "cell_type": "code",
   "execution_count": 18,
   "outputs": [
    {
     "ename": "ZeroDivisionError",
     "evalue": "division by zero",
     "output_type": "error",
     "traceback": [
      "\u001B[1;31m---------------------------------------------------------------------------\u001B[0m",
      "\u001B[1;31mZeroDivisionError\u001B[0m                         Traceback (most recent call last)",
      "Cell \u001B[1;32mIn[18], line 4\u001B[0m\n\u001B[0;32m      2\u001B[0m df1\u001B[38;5;241m=\u001B[39m\u001B[38;5;241m-\u001B[39m\u001B[38;5;241m20\u001B[39m\n\u001B[0;32m      3\u001B[0m df2\u001B[38;5;241m=\u001B[39m\u001B[38;5;241m0\u001B[39m\n\u001B[1;32m----> 4\u001B[0m np\u001B[38;5;241m.\u001B[39mwhere(df2\u001B[38;5;241m>\u001B[39m\u001B[38;5;241m0\u001B[39m,df1\u001B[38;5;241m/\u001B[39mdf2,\u001B[38;5;241m0\u001B[39m)\n",
      "\u001B[1;31mZeroDivisionError\u001B[0m: division by zero"
     ]
    }
   ],
   "source": [
    "import numpy as np\n",
    "df1=-20\n",
    "df2=0\n",
    "np.where(df2>0,df1/df2,0)"
   ],
   "metadata": {
    "collapsed": false
   }
  },
  {
   "cell_type": "code",
   "execution_count": 14,
   "outputs": [
    {
     "name": "stderr",
     "output_type": "stream",
     "text": [
      "C:\\ProgramData\\anaconda3\\envs\\schedule\\Lib\\site-packages\\gspread\\worksheet.py:1069: UserWarning: [Deprecated][in version 6.0.0]: method signature will change to: 'Worksheet.update(value = [[]], range_name=)' arguments 'range_name' and 'values' will swap, values will be mandatory of type: 'list(list(...))'\n",
      "  warnings.warn(\n"
     ]
    },
    {
     "data": {
      "text/plain": "{'spreadsheetId': '1CYqiaQLGQDk9GQmUCoSsv_bVJtMerBEKqm768BLjcZo',\n 'updatedRange': \"'测试表格'!A2:J15\",\n 'updatedRows': 14,\n 'updatedColumns': 10,\n 'updatedCells': 140}"
     },
     "execution_count": 14,
     "metadata": {},
     "output_type": "execute_result"
    }
   ],
   "source": [
    "import time\n",
    "import gspread\n",
    "from oauth2client.service_account import ServiceAccountCredentials\n",
    "import re\n",
    "import pandas as pd\n",
    "#将数据上传google表格\n",
    "scopes = [\n",
    "    'https://www.googleapis.com/auth/spreadsheets',\n",
    "    'https://www.googleapis.com/auth/drive'\n",
    "]\n",
    "credentials = ServiceAccountCredentials.from_json_keyfile_name(r\"C:\\Users\\User\\Desktop\\文件\\追击\\zhuiji-345065c1f756.json\", scopes) #access the json key you downloaded earlier\n",
    "\n",
    "file = gspread.authorize(credentials) # authenticate the JSON key with gspread\n",
    "book = file.open(\"【TM】追击名单\") #open sheet\n",
    "\n",
    "sheet = book.worksheet('测试表格')\n",
    "#脱敏\n",
    "df2 = pd.DataFrame(sheet.get_all_records())\n",
    "df2['手机号码']=df2['手机号码'].astype(str)\n",
    "df2['手机号码']=df2['手机号码'].map(lambda x:re.sub(r'(\\d{3})\\d{4}(\\d{4})', r'\\1****\\2', x))\n",
    "sheet.update(f'A2:J{df2.shape[0]+1}',df2.values.tolist())\n",
    "\n"
   ],
   "metadata": {
    "collapsed": false
   }
  },
  {
   "cell_type": "code",
   "execution_count": null,
   "outputs": [],
   "source": [
    "# 将result插入到工作表中\n",
    "sheet.append_rows(result.values.tolist())"
   ],
   "metadata": {
    "collapsed": false
   }
  },
  {
   "cell_type": "code",
   "execution_count": 3,
   "outputs": [
    {
     "name": "stdout",
     "output_type": "stream",
     "text": [
      "15:39:00 20230807\n",
      "20230807\n",
      "15:39:00 20230808\n",
      "20230808\n",
      "15:39:00 20230809\n",
      "20230809\n",
      "15:39:00 20230821\n",
      "20230821\n",
      "15:39:00 20230822\n",
      "20230822\n",
      "15:39:00 20230823\n",
      "20230823\n",
      "15:39:00 20230824\n",
      "20230824\n",
      "15:39:00 20230827\n",
      "20230827\n",
      "15:39:00 20230828\n",
      "20230828\n",
      "15:39:00 20230829\n",
      "20230829\n",
      "15:39:00 20230830\n",
      "20230830\n",
      "15:39:00 20230831\n",
      "20230831\n",
      "15:39:00 20230901\n",
      "20230901\n",
      "15:39:00 20230902\n",
      "20230902\n",
      "15:39:00 20230903\n",
      "20230903\n",
      "15:39:00 20230904\n",
      "20230904\n",
      "15:39:00 20230905\n",
      "20230905\n",
      "15:39:00 20230906\n",
      "20230906\n",
      "15:39:00 20230907\n",
      "20230907\n",
      "15:39:00 20230908\n",
      "20230908\n",
      "15:39:00 20230909\n",
      "20230909\n",
      "15:39:00 20230910\n",
      "20230910\n",
      "15:39:00 20230911\n",
      "20230911\n",
      "15:39:00 20230912\n",
      "20230912\n",
      "15:39:00 20230913\n",
      "20230913\n",
      "15:39:00 20230914\n",
      "20230914\n",
      "15:39:00 20230915\n",
      "20230915\n",
      "15:39:00 20230916\n",
      "20230916\n",
      "15:39:00 20230917\n",
      "20230917\n",
      "15:39:00 20230918\n",
      "20230918\n",
      "15:39:00 20230919\n",
      "20230919\n",
      "15:39:00 20230920\n",
      "20230920\n",
      "15:39:00 20230921\n",
      "20230921\n",
      "15:39:00 20230922\n",
      "20230922\n",
      "15:39:00 20230923\n",
      "20230923\n",
      "15:39:00 20230924\n",
      "20230924\n",
      "15:39:00 20230925\n",
      "20230925\n",
      "15:39:00 20230926\n",
      "20230926\n",
      "15:39:00 20230927\n",
      "20230927\n",
      "15:39:00 20230928\n",
      "20230928\n",
      "15:39:00 20230929\n",
      "20230929\n",
      "15:39:00 20230930\n",
      "20230930\n",
      "15:39:00 20231001\n",
      "20231001\n",
      "15:39:00 20231002\n",
      "20231002\n",
      "15:39:00 20231003\n",
      "20231003\n",
      "15:39:00 20231004\n",
      "20231004\n",
      "15:39:00 20231005\n",
      "20231005\n",
      "15:39:00 20231010\n",
      "20231010\n"
     ]
    }
   ],
   "source": [
    "from datetime import datetime\n",
    "import os\n",
    "import re\n",
    "for filename in os.listdir(r'\\\\DESKTOP-OABVORH\\Data\\Code2023-9非数据库版\\通用数据\\会员输赢报表\\原始数据'):\n",
    "    print(datetime.now().strftime('%H:%M:%S'),filename)\n",
    "    date=re.search(r'\\d+', filename).group(0)# 日期从文件名称获取,日期格式，列 第几周\n",
    "    print(date)"
   ],
   "metadata": {
    "collapsed": false
   }
  },
  {
   "cell_type": "code",
   "execution_count": null,
   "outputs": [],
   "source": [
    "user.loc['199-9-92']=user.sum(numeric_only=True)\n",
    "user.tail()"
   ],
   "metadata": {
    "collapsed": false,
    "pycharm": {
     "is_executing": true
    }
   }
  },
  {
   "cell_type": "code",
   "execution_count": 43,
   "outputs": [
    {
     "name": "stdout",
     "output_type": "stream",
     "text": [
      "en\n"
     ]
    }
   ],
   "source": [
    "from langdetect import detect\n",
    "\n",
    "text = \"Hello, how are you?\"\n",
    "\n",
    "language = detect(text)\n",
    "\n",
    "print(language)"
   ],
   "metadata": {
    "collapsed": false
   }
  },
  {
   "cell_type": "code",
   "execution_count": 18,
   "outputs": [
    {
     "data": {
      "text/plain": "(1388165, 5)"
     },
     "execution_count": 18,
     "metadata": {},
     "output_type": "execute_result"
    },
    {
     "data": {
      "text/plain": "          会员账号    上级代理      小组 二级部门 一级部门\n0  374674748ty  bmw666  bmw666  宝马会  宝马会\n1   375955106a  bmw666  bmw666  宝马会  宝马会\n2   375955106r  bmw666  bmw666  宝马会  宝马会",
      "text/html": "<div>\n<style scoped>\n    .dataframe tbody tr th:only-of-type {\n        vertical-align: middle;\n    }\n\n    .dataframe tbody tr th {\n        vertical-align: top;\n    }\n\n    .dataframe thead th {\n        text-align: right;\n    }\n</style>\n<table border=\"1\" class=\"dataframe\">\n  <thead>\n    <tr style=\"text-align: right;\">\n      <th></th>\n      <th>会员账号</th>\n      <th>上级代理</th>\n      <th>小组</th>\n      <th>二级部门</th>\n      <th>一级部门</th>\n    </tr>\n  </thead>\n  <tbody>\n    <tr>\n      <th>0</th>\n      <td>374674748ty</td>\n      <td>bmw666</td>\n      <td>bmw666</td>\n      <td>宝马会</td>\n      <td>宝马会</td>\n    </tr>\n    <tr>\n      <th>1</th>\n      <td>375955106a</td>\n      <td>bmw666</td>\n      <td>bmw666</td>\n      <td>宝马会</td>\n      <td>宝马会</td>\n    </tr>\n    <tr>\n      <th>2</th>\n      <td>375955106r</td>\n      <td>bmw666</td>\n      <td>bmw666</td>\n      <td>宝马会</td>\n      <td>宝马会</td>\n    </tr>\n  </tbody>\n</table>\n</div>"
     },
     "execution_count": 18,
     "metadata": {},
     "output_type": "execute_result"
    }
   ],
   "source": [
    "huiyuan_daili = huiyuan_all.merge(daili,on='上级代理',how='left')\n",
    "huiyuan_daili.shape\n",
    "huiyuan_daili.head(3)"
   ],
   "metadata": {
    "collapsed": false
   }
  },
  {
   "cell_type": "code",
   "execution_count": 24,
   "outputs": [
    {
     "data": {
      "text/plain": "                    小组        二级部门    一级部门\n上级代理                                      \nvnam05          ffvn66  飞哥SOCO越南直播  雨燕直播-越\nfq2022       btydl0032          酷币      酷币\ndzsh2022     btydl0032          酷币      酷币\nvanxx2022    btydl0032          酷币      酷币\nvan2022      btydl0032          酷币      酷币\nwudivins168  btydl0032          酷币      酷币\nvnag66          vnag66      飞哥-越南线  雨燕直播-越\nbtydl0148    btydl0032          酷币      酷币\nbtydl0147    btydl0032          酷币      酷币\nbtymy007     btydl0032          酷币      酷币\nyn0001          gt6677      GT-越南线   GT-骨头\nbtydl0139    btydl0032          酷币      酷币\nbtydl0136    btydl0032          酷币      酷币\nyjx666999    btydl0322        山猫直播    山猫直播\nbtydl0146    btydl0032          酷币      酷币\nbtydl9990    btydl0032          酷币      酷币\ntian888      btydl0322        山猫直播    山猫直播\nbtydl0139    btydl0032          酷币      酷币\nbtydl0136    btydl0032          酷币      酷币\nyjx666999    btydl0322        山猫直播    山猫直播",
      "text/html": "<div>\n<style scoped>\n    .dataframe tbody tr th:only-of-type {\n        vertical-align: middle;\n    }\n\n    .dataframe tbody tr th {\n        vertical-align: top;\n    }\n\n    .dataframe thead th {\n        text-align: right;\n    }\n</style>\n<table border=\"1\" class=\"dataframe\">\n  <thead>\n    <tr style=\"text-align: right;\">\n      <th></th>\n      <th>小组</th>\n      <th>二级部门</th>\n      <th>一级部门</th>\n    </tr>\n    <tr>\n      <th>上级代理</th>\n      <th></th>\n      <th></th>\n      <th></th>\n    </tr>\n  </thead>\n  <tbody>\n    <tr>\n      <th>vnam05</th>\n      <td>ffvn66</td>\n      <td>飞哥SOCO越南直播</td>\n      <td>雨燕直播-越</td>\n    </tr>\n    <tr>\n      <th>fq2022</th>\n      <td>btydl0032</td>\n      <td>酷币</td>\n      <td>酷币</td>\n    </tr>\n    <tr>\n      <th>dzsh2022</th>\n      <td>btydl0032</td>\n      <td>酷币</td>\n      <td>酷币</td>\n    </tr>\n    <tr>\n      <th>vanxx2022</th>\n      <td>btydl0032</td>\n      <td>酷币</td>\n      <td>酷币</td>\n    </tr>\n    <tr>\n      <th>van2022</th>\n      <td>btydl0032</td>\n      <td>酷币</td>\n      <td>酷币</td>\n    </tr>\n    <tr>\n      <th>wudivins168</th>\n      <td>btydl0032</td>\n      <td>酷币</td>\n      <td>酷币</td>\n    </tr>\n    <tr>\n      <th>vnag66</th>\n      <td>vnag66</td>\n      <td>飞哥-越南线</td>\n      <td>雨燕直播-越</td>\n    </tr>\n    <tr>\n      <th>btydl0148</th>\n      <td>btydl0032</td>\n      <td>酷币</td>\n      <td>酷币</td>\n    </tr>\n    <tr>\n      <th>btydl0147</th>\n      <td>btydl0032</td>\n      <td>酷币</td>\n      <td>酷币</td>\n    </tr>\n    <tr>\n      <th>btymy007</th>\n      <td>btydl0032</td>\n      <td>酷币</td>\n      <td>酷币</td>\n    </tr>\n    <tr>\n      <th>yn0001</th>\n      <td>gt6677</td>\n      <td>GT-越南线</td>\n      <td>GT-骨头</td>\n    </tr>\n    <tr>\n      <th>btydl0139</th>\n      <td>btydl0032</td>\n      <td>酷币</td>\n      <td>酷币</td>\n    </tr>\n    <tr>\n      <th>btydl0136</th>\n      <td>btydl0032</td>\n      <td>酷币</td>\n      <td>酷币</td>\n    </tr>\n    <tr>\n      <th>yjx666999</th>\n      <td>btydl0322</td>\n      <td>山猫直播</td>\n      <td>山猫直播</td>\n    </tr>\n    <tr>\n      <th>btydl0146</th>\n      <td>btydl0032</td>\n      <td>酷币</td>\n      <td>酷币</td>\n    </tr>\n    <tr>\n      <th>btydl9990</th>\n      <td>btydl0032</td>\n      <td>酷币</td>\n      <td>酷币</td>\n    </tr>\n    <tr>\n      <th>tian888</th>\n      <td>btydl0322</td>\n      <td>山猫直播</td>\n      <td>山猫直播</td>\n    </tr>\n    <tr>\n      <th>btydl0139</th>\n      <td>btydl0032</td>\n      <td>酷币</td>\n      <td>酷币</td>\n    </tr>\n    <tr>\n      <th>btydl0136</th>\n      <td>btydl0032</td>\n      <td>酷币</td>\n      <td>酷币</td>\n    </tr>\n    <tr>\n      <th>yjx666999</th>\n      <td>btydl0322</td>\n      <td>山猫直播</td>\n      <td>山猫直播</td>\n    </tr>\n  </tbody>\n</table>\n</div>"
     },
     "execution_count": 24,
     "metadata": {},
     "output_type": "execute_result"
    }
   ],
   "source": [
    "df[~df.index.duplica]"
   ],
   "metadata": {
    "collapsed": false
   }
  },
  {
   "cell_type": "code",
   "execution_count": 28,
   "outputs": [
    {
     "data": {
      "text/plain": "(931342, 6)"
     },
     "execution_count": 28,
     "metadata": {},
     "output_type": "execute_result"
    },
    {
     "data": {
      "text/plain": "         会员账号      代理           电话  vip等级                 注册时间          注册地\n0      ptt123  bmw666  15823806956      0  2022/02/19 23:28:47    中国|辽宁|沈阳|\n1  pty2653976  bmw666  13087451059      0  2022/02/19 23:28:47      中国|重庆||\n2  ptz5201312  bmw666  18875558368      0  2022/02/19 23:28:47  中国|山东|青岛|市南",
      "text/html": "<div>\n<style scoped>\n    .dataframe tbody tr th:only-of-type {\n        vertical-align: middle;\n    }\n\n    .dataframe tbody tr th {\n        vertical-align: top;\n    }\n\n    .dataframe thead th {\n        text-align: right;\n    }\n</style>\n<table border=\"1\" class=\"dataframe\">\n  <thead>\n    <tr style=\"text-align: right;\">\n      <th></th>\n      <th>会员账号</th>\n      <th>代理</th>\n      <th>电话</th>\n      <th>vip等级</th>\n      <th>注册时间</th>\n      <th>注册地</th>\n    </tr>\n  </thead>\n  <tbody>\n    <tr>\n      <th>0</th>\n      <td>ptt123</td>\n      <td>bmw666</td>\n      <td>15823806956</td>\n      <td>0</td>\n      <td>2022/02/19 23:28:47</td>\n      <td>中国|辽宁|沈阳|</td>\n    </tr>\n    <tr>\n      <th>1</th>\n      <td>pty2653976</td>\n      <td>bmw666</td>\n      <td>13087451059</td>\n      <td>0</td>\n      <td>2022/02/19 23:28:47</td>\n      <td>中国|重庆||</td>\n    </tr>\n    <tr>\n      <th>2</th>\n      <td>ptz5201312</td>\n      <td>bmw666</td>\n      <td>18875558368</td>\n      <td>0</td>\n      <td>2022/02/19 23:28:47</td>\n      <td>中国|山东|青岛|市南</td>\n    </tr>\n  </tbody>\n</table>\n</div>"
     },
     "execution_count": 28,
     "metadata": {},
     "output_type": "execute_result"
    }
   ],
   "source": [
    "member = pd.read_excel(r'C:\\Users\\User\\Desktop\\文件\\定时任务\\会员列表更新\\会员总表2022.xlsx')\n",
    "member.shape\n",
    "member.head(3)"
   ],
   "metadata": {
    "collapsed": false
   }
  },
  {
   "cell_type": "code",
   "execution_count": 33,
   "outputs": [
    {
     "data": {
      "text/plain": "1697587200.0"
     },
     "execution_count": 33,
     "metadata": {},
     "output_type": "execute_result"
    }
   ],
   "source": [
    "from datetime import datetime, timedelta\n",
    "\n",
    "# 获取当前时间\n",
    "now = datetime.now()\n",
    "# 获取昨日1点的时间\n",
    "yesterday_1am = datetime(now.year, now.month, now.day-1, 8)\n",
    "# 将时间转换为时间戳\n",
    "yes_7am = yesterday_1am.timestamp()\n",
    "yes_7am\n"
   ],
   "metadata": {
    "collapsed": false
   }
  },
  {
   "cell_type": "code",
   "execution_count": 13,
   "outputs": [
    {
     "name": "stdout",
     "output_type": "stream",
     "text": [
      "生成google验证码。。。\n",
      "获取token中。。。\n",
      "开始发送请求....\n",
      "共5页。。\n",
      "               数量   最大金额   平均金额  VIP等级\n",
      "账户名                                   \n",
      "yaoyouquan188  10  500.0  200.0    3.0\n"
     ]
    },
    {
     "name": "stderr",
     "output_type": "stream",
     "text": [
      "C:\\Users\\User\\AppData\\Local\\Temp\\ipykernel_31896\\3204436449.py:123: DtypeWarning: Columns (5,8) have mixed types. Specify dtype option on import or set low_memory=False.\n",
      "  user1 = pd.read_csv(r'\\\\DESKTOP-OABVORH\\Data\\Code2023-10数据库版\\输出数据\\每日更新\\会员流失统计\\会员流失统计v0.csv')\n"
     ]
    },
    {
     "name": "stdout",
     "output_type": "stream",
     "text": [
      "零点会员列表： (1388165, 2)\n"
     ]
    },
    {
     "name": "stderr",
     "output_type": "stream",
     "text": [
      "C:\\Users\\User\\AppData\\Local\\Temp\\ipykernel_31896\\3204436449.py:125: FutureWarning: The frame.append method is deprecated and will be removed from pandas in a future version. Use pandas.concat instead.\n",
      "  huiyuan_all = user1.append(user2)\n"
     ]
    },
    {
     "data": {
      "text/plain": "          会员账号    上级代理\n0  374674748ty  bmw666\n1   375955106a  bmw666\n2   375955106r  bmw666\n3    37612207w  bmw666\n4   379542095a  bmw666",
      "text/html": "<div>\n<style scoped>\n    .dataframe tbody tr th:only-of-type {\n        vertical-align: middle;\n    }\n\n    .dataframe tbody tr th {\n        vertical-align: top;\n    }\n\n    .dataframe thead th {\n        text-align: right;\n    }\n</style>\n<table border=\"1\" class=\"dataframe\">\n  <thead>\n    <tr style=\"text-align: right;\">\n      <th></th>\n      <th>会员账号</th>\n      <th>上级代理</th>\n    </tr>\n  </thead>\n  <tbody>\n    <tr>\n      <th>0</th>\n      <td>374674748ty</td>\n      <td>bmw666</td>\n    </tr>\n    <tr>\n      <th>1</th>\n      <td>375955106a</td>\n      <td>bmw666</td>\n    </tr>\n    <tr>\n      <th>2</th>\n      <td>375955106r</td>\n      <td>bmw666</td>\n    </tr>\n    <tr>\n      <th>3</th>\n      <td>37612207w</td>\n      <td>bmw666</td>\n    </tr>\n    <tr>\n      <th>4</th>\n      <td>379542095a</td>\n      <td>bmw666</td>\n    </tr>\n  </tbody>\n</table>\n</div>"
     },
     "execution_count": 13,
     "metadata": {},
     "output_type": "execute_result"
    }
   ],
   "source": [
    "import datetime\n",
    "import time\n",
    "import pandas as pd\n",
    "import requests\n",
    "import json\n",
    "import pandas as pd\n",
    "import numpy as np\n",
    "from jsonpath import jsonpath\n",
    "import telebot\n",
    "import hmac, base64, struct, hashlib\n",
    "import platform\n",
    "\n",
    "\n",
    "# google验证码函数\n",
    "submit_url = 'http://fundmng.bsportsadmin.com/api/manage/user/admin/login/submit'\n",
    "header0 = {\n",
    "    'Device_id':'1.0',\n",
    "    'Os_type':'0',\n",
    "    'User-Agent':'Mozilla/5.0 (Windows NT 10.0; Win64; x64) AppleWebKit/537.36 (KHTML, like Gecko) Chrome/116.0.0.0 Safari/537.36',\n",
    "}\n",
    "def get_google_code(secret):\n",
    "    key = base64.b32decode(secret, True)\n",
    "    msg = struct.pack(\">Q\", int(time.time()) // 30)\n",
    "    google_code = hmac.new(key, msg, hashlib.sha1).digest()\n",
    "    # 很多网上的代码不可用，就在于这儿，没有chr字符串\n",
    "    o = ord(chr(google_code[19])) & 15\n",
    "    # google_code = (struct.unpack(\">I\", google_code[o:o + 4])[0] & 0x7fffffff) % 1000000\n",
    "    google_code = (struct.unpack(\">I\", google_code[o:o + 4])[0] & 0x7fffffff) % 1000000\n",
    "    return '%06d' % google_code\n",
    "\n",
    "# 生成验证码\n",
    "print('生成google验证码。。。')\n",
    "google_code = get_google_code('64ehnxj6yily5bhv23kgb62ozuh6yuu2')\n",
    "data0 = {\n",
    "    'username': 'Marquis',\n",
    "    'password': 'qwer123456',\n",
    "    'code': google_code\n",
    "}\n",
    "# 获取token\n",
    "print('获取token中。。。')\n",
    "session0 = requests.Session()\n",
    "response0  =session0.post(url=submit_url,data=data0,headers=header0)\n",
    "response0.encoding = 'utf-8'\n",
    "obj0 = json.loads(response0.text)\n",
    "token0 = obj0['data']['token']\n",
    "\n",
    "# 发送请求\n",
    "print('开始发送请求....')\n",
    "url = 'http://fundmng.bsportsadmin.com/api/manage/fund/recharge/record/list'\n",
    "header = {\n",
    "    'Device_id': '1.0',\n",
    "    'Os_type': '0',\n",
    "    'Sign': '525f286b21988b7c6a79f623f62f9695',\n",
    "    'Timestamp': '1691886184000',\n",
    "    'Token': token0,\n",
    "    'Uid': '690',\n",
    "    'User-Agent': 'Mozilla/5.0 (Windows NT 10.0; Win64; x64) AppleWebKit/537.36 (KHTML, like Gecko) Chrome/115.0.0.0 Safari/537.36',\n",
    "    'Version': '1.0'\n",
    "}\n",
    "session  = requests.Session()\n",
    "data_ori = {\n",
    "    'dateType':'1',\n",
    "    'startTime':int(time.time()-(180*60))*1000,\n",
    "    'endTime':int(time.time())*1000,\n",
    "    'userType':'-1',\n",
    "    'orderStatus':'0,1,2,3,4,5,6,7,8,9',\n",
    "    'agentType':'-1',\n",
    "    'page':1,\n",
    "    'size':500,\n",
    "    'paymentIdList':'1,2,3,4,5,6,7,8,9,10,11,24,25,27,28,29,30,31,32,33,34,35,36,37,38,39,40,41,1000,1001,1002,1003,1004,1005,1006,1007,1008,1009,1010,1011,1012,2000,2001,2002,2003,2004,2005,2006,3000,3001,4000,4001,4002,4003,4004,8000,8001,8002,10000,10001',\n",
    "    'coinCode':'CNY'\n",
    "}\n",
    "response_ori = session.post(url=url,headers=header,data=data_ori)\n",
    "pages = json.loads(response_ori.text)['data']['pages']\n",
    "print(f'共{pages}页。。')\n",
    "\n",
    "dic0 = {'充值日期':\"createDate\",'充值单号':\"orderId\",'用户层级':\"userLevel\",'账户名':\"username\",'姓名':\"reallyName\",'VIP等级':\"vipLevel\",'充值金额':\"amount\",'到账金额':\"payAmount\"}\n",
    "dic = {'充值日期':[],'充值单号':[],'用户层级':[],'账户名':[],'姓名':[],'VIP等级':[],'充值金额':[],'到账金额':[]}\n",
    "ori_dic={}\n",
    "for page in range(1,pages+1):\n",
    "    data = {\n",
    "        'dateType':'1',\n",
    "        'startTime':int(time.time()-(180*60))*1000,\n",
    "        'endTime':int(time.time())*1000,\n",
    "        'userType':'-1',\n",
    "        'orderStatus':'0,1,2,3,4,5,6,7,8,9',\n",
    "        'agentType':'-1',\n",
    "        'page':page,\n",
    "        'size':500,\n",
    "        'paymentIdList':'1,2,3,4,5,6,7,8,9,10,11,24,25,27,28,29,30,31,32,33,34,35,36,37,38,39,40,41,1000,1001,1002,1003,1004,1005,1006,1007,1008,1009,1010,1011,1012,2000,2001,2002,2003,2004,2005,2006,3000,3001,4000,4001,4002,4003,4004,8000,8001,8002,10000,10001',\n",
    "        'coinCode':'CNY'\n",
    "    }\n",
    "\n",
    "    response = session.post(url=url,headers=header,data=data)\n",
    "    response.encoding = 'utf8'\n",
    "\n",
    "    # 提取数据\n",
    "\n",
    "    obj0 = json.loads(response.text)\n",
    "    for i in obj0['data']['list']:\n",
    "        # if (i[\"userLevel\"] == '多次拉单不付款层级' and i[\"payAmount\"] ==0 ):\n",
    "        if (i[\"userLevel\"] == '多次拉单不付款层级' and i[\"payAmount\"] ==0 and i[\"vipLevel\"] > -1):\n",
    "            for k in dic:\n",
    "                dic[k].append(i[dic0[k]])\n",
    "# 生成结果数据\n",
    "df = pd.DataFrame(dic)\n",
    "df.insert(1,'时间',df['充值日期'].map(lambda x:time.strftime(\"%H:%M\")))\n",
    "df['充值日期']= df['充值日期'].map(lambda x:time.strftime(\"%Y-%m-%d\"))\n",
    "\n",
    "result = df.groupby('账户名').agg({'账户名':len,'充值金额':[np.max,np.mean],'VIP等级':np.mean})\n",
    "result.reset_index(inplace=True)\n",
    "result = pd.DataFrame({'账户名':result.iloc[:,0],'数量':result.iloc[:,1],'最大金额':result.iloc[:,2],'平均金额':result.iloc[:,3],'VIP等级':result.iloc[:,4]})\n",
    "\n",
    "result.set_index('账户名',inplace=True)\n",
    "result = result.loc[result['数量']>9,:]\n",
    "df.set_index('账户名',inplace=True)\n",
    "print(result)\n",
    "ori_dic={}\n",
    "for name in result.index:\n",
    "    ori_dic[name]=int(time.time())\n",
    "\n",
    "#加载会员代理线列表\n",
    "user1 = pd.read_csv(r'\\\\DESKTOP-OABVORH\\Data\\Code2023-10数据库版\\输出数据\\每日更新\\会员流失统计\\会员流失统计v0.csv')\n",
    "user2 = pd.read_csv(r'\\\\DESKTOP-OABVORH\\Data\\Code2023-10数据库版\\输出数据\\每日更新\\会员流失统计\\会员流失统计v1以上.csv')\n",
    "huiyuan_all = user1.append(user2)\n",
    "huiyuan_all = huiyuan_all.iloc[:,:2]\n",
    "daili = pd.read_csv(r'\\\\DESKTOP-OABVORH\\Data\\Code2023-10数据库版\\输出数据\\每日更新\\代理列表\\代理列表.csv')\n",
    "print('零点会员列表：',huiyuan_all.shape)\n",
    "huiyuan_all.head()"
   ],
   "metadata": {
    "collapsed": false
   }
  },
  {
   "cell_type": "code",
   "execution_count": 10,
   "outputs": [
    {
     "name": "stderr",
     "output_type": "stream",
     "text": [
      "C:\\Users\\User\\AppData\\Local\\Temp\\ipykernel_31896\\3108728834.py:2: DtypeWarning: Columns (5,8) have mixed types. Specify dtype option on import or set low_memory=False.\n",
      "  user1 = pd.read_csv(r'\\\\DESKTOP-OABVORH\\Data\\Code2023-10数据库版\\输出数据\\每日更新\\会员流失统计\\会员流失统计v0.csv')\n"
     ]
    },
    {
     "data": {
      "text/plain": "          会员账号    上级代理  状态  用户层级 VIP等级 首存时间                 注册时间  \\\n0  374674748ty  bmw666  正常  休眠层级  VIP0    0  2022-02-19 22:55:11   \n1   375955106a  bmw666  正常  休眠层级  VIP0    0  2022-02-19 22:55:11   \n2   375955106r  bmw666  正常  休眠层级  VIP0    0  2022-02-19 22:55:11   \n3    37612207w  bmw666  正常  休眠层级  VIP0    0  2022-02-19 22:55:11   \n4   379542095a  bmw666  正常  休眠层级  VIP0    0  2022-02-19 22:55:11   \n\n                最后登录时间 最后存款时间 会员备注  未登录天数  未下注天数  未充值天数  \n0  1970-01-01 08:00:00      0  NaN  19648    606    606  \n1  1970-01-01 08:00:00      0  NaN  19648    606    606  \n2  1970-01-01 08:00:00      0  NaN  19648    606    606  \n3  1970-01-01 08:00:00      0  NaN  19648    606    606  \n4  1970-01-01 08:00:00      0  NaN  19648    606    606  ",
      "text/html": "<div>\n<style scoped>\n    .dataframe tbody tr th:only-of-type {\n        vertical-align: middle;\n    }\n\n    .dataframe tbody tr th {\n        vertical-align: top;\n    }\n\n    .dataframe thead th {\n        text-align: right;\n    }\n</style>\n<table border=\"1\" class=\"dataframe\">\n  <thead>\n    <tr style=\"text-align: right;\">\n      <th></th>\n      <th>会员账号</th>\n      <th>上级代理</th>\n      <th>状态</th>\n      <th>用户层级</th>\n      <th>VIP等级</th>\n      <th>首存时间</th>\n      <th>注册时间</th>\n      <th>最后登录时间</th>\n      <th>最后存款时间</th>\n      <th>会员备注</th>\n      <th>未登录天数</th>\n      <th>未下注天数</th>\n      <th>未充值天数</th>\n    </tr>\n  </thead>\n  <tbody>\n    <tr>\n      <th>0</th>\n      <td>374674748ty</td>\n      <td>bmw666</td>\n      <td>正常</td>\n      <td>休眠层级</td>\n      <td>VIP0</td>\n      <td>0</td>\n      <td>2022-02-19 22:55:11</td>\n      <td>1970-01-01 08:00:00</td>\n      <td>0</td>\n      <td>NaN</td>\n      <td>19648</td>\n      <td>606</td>\n      <td>606</td>\n    </tr>\n    <tr>\n      <th>1</th>\n      <td>375955106a</td>\n      <td>bmw666</td>\n      <td>正常</td>\n      <td>休眠层级</td>\n      <td>VIP0</td>\n      <td>0</td>\n      <td>2022-02-19 22:55:11</td>\n      <td>1970-01-01 08:00:00</td>\n      <td>0</td>\n      <td>NaN</td>\n      <td>19648</td>\n      <td>606</td>\n      <td>606</td>\n    </tr>\n    <tr>\n      <th>2</th>\n      <td>375955106r</td>\n      <td>bmw666</td>\n      <td>正常</td>\n      <td>休眠层级</td>\n      <td>VIP0</td>\n      <td>0</td>\n      <td>2022-02-19 22:55:11</td>\n      <td>1970-01-01 08:00:00</td>\n      <td>0</td>\n      <td>NaN</td>\n      <td>19648</td>\n      <td>606</td>\n      <td>606</td>\n    </tr>\n    <tr>\n      <th>3</th>\n      <td>37612207w</td>\n      <td>bmw666</td>\n      <td>正常</td>\n      <td>休眠层级</td>\n      <td>VIP0</td>\n      <td>0</td>\n      <td>2022-02-19 22:55:11</td>\n      <td>1970-01-01 08:00:00</td>\n      <td>0</td>\n      <td>NaN</td>\n      <td>19648</td>\n      <td>606</td>\n      <td>606</td>\n    </tr>\n    <tr>\n      <th>4</th>\n      <td>379542095a</td>\n      <td>bmw666</td>\n      <td>正常</td>\n      <td>休眠层级</td>\n      <td>VIP0</td>\n      <td>0</td>\n      <td>2022-02-19 22:55:11</td>\n      <td>1970-01-01 08:00:00</td>\n      <td>0</td>\n      <td>NaN</td>\n      <td>19648</td>\n      <td>606</td>\n      <td>606</td>\n    </tr>\n  </tbody>\n</table>\n</div>"
     },
     "execution_count": 10,
     "metadata": {},
     "output_type": "execute_result"
    }
   ],
   "source": [
    "import pandas as pd\n",
    "user1 = pd.read_csv(r'\\\\DESKTOP-OABVORH\\Data\\Code2023-10数据库版\\输出数据\\每日更新\\会员流失统计\\会员流失统计v0.csv')\n",
    "user2 = pd.read_csv(r'\\\\DESKTOP-OABVORH\\Data\\Code2023-10数据库版\\输出数据\\每日更新\\会员流失统计\\会员流失统计v1以上.csv')\n",
    "user =pd.concat([user1,user2])\n",
    "user.head()"
   ],
   "metadata": {
    "collapsed": false
   }
  },
  {
   "cell_type": "code",
   "execution_count": 11,
   "outputs": [
    {
     "data": {
      "text/plain": "Empty DataFrame\nColumns: [会员账号, 上级代理, 状态, 用户层级, VIP等级, 首存时间, 注册时间, 最后登录时间, 最后存款时间, 会员备注, 未登录天数, 未下注天数, 未充值天数]\nIndex: []",
      "text/html": "<div>\n<style scoped>\n    .dataframe tbody tr th:only-of-type {\n        vertical-align: middle;\n    }\n\n    .dataframe tbody tr th {\n        vertical-align: top;\n    }\n\n    .dataframe thead th {\n        text-align: right;\n    }\n</style>\n<table border=\"1\" class=\"dataframe\">\n  <thead>\n    <tr style=\"text-align: right;\">\n      <th></th>\n      <th>会员账号</th>\n      <th>上级代理</th>\n      <th>状态</th>\n      <th>用户层级</th>\n      <th>VIP等级</th>\n      <th>首存时间</th>\n      <th>注册时间</th>\n      <th>最后登录时间</th>\n      <th>最后存款时间</th>\n      <th>会员备注</th>\n      <th>未登录天数</th>\n      <th>未下注天数</th>\n      <th>未充值天数</th>\n    </tr>\n  </thead>\n  <tbody>\n  </tbody>\n</table>\n</div>"
     },
     "execution_count": 11,
     "metadata": {},
     "output_type": "execute_result"
    }
   ],
   "source": [
    "user.loc[user['会员账号']=='zunfa110',]"
   ],
   "metadata": {
    "collapsed": false
   }
  },
  {
   "cell_type": "code",
   "execution_count": 9,
   "outputs": [
    {
     "ename": "NameError",
     "evalue": "name 'result' is not defined",
     "output_type": "error",
     "traceback": [
      "\u001B[1;31m---------------------------------------------------------------------------\u001B[0m",
      "\u001B[1;31mNameError\u001B[0m                                 Traceback (most recent call last)",
      "Cell \u001B[1;32mIn[9], line 1\u001B[0m\n\u001B[1;32m----> 1\u001B[0m result\n",
      "\u001B[1;31mNameError\u001B[0m: name 'result' is not defined"
     ]
    }
   ],
   "source": [
    "result"
   ],
   "metadata": {
    "collapsed": false
   }
  },
  {
   "cell_type": "code",
   "execution_count": 61,
   "outputs": [
    {
     "name": "stdout",
     "output_type": "stream",
     "text": [
      "<class 'pandas.core.frame.DataFrame'>\n",
      "Index: 9 entries, 031214zcy to zqj851113\n",
      "Data columns (total 8 columns):\n",
      " #   Column  Non-Null Count  Dtype  \n",
      "---  ------  --------------  -----  \n",
      " 0   数量      9 non-null      int64  \n",
      " 1   最大金额    9 non-null      int32  \n",
      " 2   平均金额    9 non-null      int32  \n",
      " 3   VIP等级   9 non-null      float64\n",
      " 4   上级代理    7 non-null      object \n",
      " 5   小组      7 non-null      object \n",
      " 6   二级部门    7 non-null      object \n",
      " 7   一级部门    7 non-null      object \n",
      "dtypes: float64(1), int32(2), int64(1), object(4)\n",
      "memory usage: 876.0+ bytes\n"
     ]
    }
   ],
   "source": [
    "result3=result2.copy()\n",
    "result3['最大金额']=result3['最大金额'].astype(int)\n",
    "result3['平均金额']=result3['平均金额'].astype(int)\n",
    "result3.info()"
   ],
   "metadata": {
    "collapsed": false
   }
  },
  {
   "cell_type": "code",
   "execution_count": 62,
   "outputs": [
    {
     "data": {
      "text/plain": "               数量  最大金额  平均金额  VIP等级        上级代理          小组    二级部门    一级部门\n031214zcy       4  1800  1238    4.0  btyseo7003  btyseo7003  Martin   鲲鹏seo\n18840720565xu   7   200   114    0.0  bs9Robert1      ffmk88  飞哥雨燕直播    雨燕直播\n61863068mlxz    4   500   500    0.0      zzzb03     zzzb888  飞哥团队直播    雨燕直播\nhai663355       5   500   380    0.0      zzzb02     zzzb888  飞哥团队直播    雨燕直播\nhu777777        4  3000  2750    0.0   btydl0073   btydl0073      皮特  小Peter",
      "text/html": "<div>\n<style scoped>\n    .dataframe tbody tr th:only-of-type {\n        vertical-align: middle;\n    }\n\n    .dataframe tbody tr th {\n        vertical-align: top;\n    }\n\n    .dataframe thead th {\n        text-align: right;\n    }\n</style>\n<table border=\"1\" class=\"dataframe\">\n  <thead>\n    <tr style=\"text-align: right;\">\n      <th></th>\n      <th>数量</th>\n      <th>最大金额</th>\n      <th>平均金额</th>\n      <th>VIP等级</th>\n      <th>上级代理</th>\n      <th>小组</th>\n      <th>二级部门</th>\n      <th>一级部门</th>\n    </tr>\n  </thead>\n  <tbody>\n    <tr>\n      <th>031214zcy</th>\n      <td>4</td>\n      <td>1800</td>\n      <td>1238</td>\n      <td>4.0</td>\n      <td>btyseo7003</td>\n      <td>btyseo7003</td>\n      <td>Martin</td>\n      <td>鲲鹏seo</td>\n    </tr>\n    <tr>\n      <th>18840720565xu</th>\n      <td>7</td>\n      <td>200</td>\n      <td>114</td>\n      <td>0.0</td>\n      <td>bs9Robert1</td>\n      <td>ffmk88</td>\n      <td>飞哥雨燕直播</td>\n      <td>雨燕直播</td>\n    </tr>\n    <tr>\n      <th>61863068mlxz</th>\n      <td>4</td>\n      <td>500</td>\n      <td>500</td>\n      <td>0.0</td>\n      <td>zzzb03</td>\n      <td>zzzb888</td>\n      <td>飞哥团队直播</td>\n      <td>雨燕直播</td>\n    </tr>\n    <tr>\n      <th>hai663355</th>\n      <td>5</td>\n      <td>500</td>\n      <td>380</td>\n      <td>0.0</td>\n      <td>zzzb02</td>\n      <td>zzzb888</td>\n      <td>飞哥团队直播</td>\n      <td>雨燕直播</td>\n    </tr>\n    <tr>\n      <th>hu777777</th>\n      <td>4</td>\n      <td>3000</td>\n      <td>2750</td>\n      <td>0.0</td>\n      <td>btydl0073</td>\n      <td>btydl0073</td>\n      <td>皮特</td>\n      <td>小Peter</td>\n    </tr>\n  </tbody>\n</table>\n</div>"
     },
     "execution_count": 62,
     "metadata": {},
     "output_type": "execute_result"
    }
   ],
   "source": [
    "result3.head()"
   ],
   "metadata": {
    "collapsed": false
   }
  },
  {
   "cell_type": "code",
   "execution_count": 47,
   "outputs": [
    {
     "data": {
      "text/plain": "                     充值日期     时间                  充值单号       用户层级   姓名  VIP等级  \\\n账户名                                                                             \nzj1878506      2023-10-18  10:07  CZ20231018095370DJK2  多次拉单不付款层级   郑*      2   \n18840720565xu  2023-10-18  10:07  CZ20231018094070AAY9  多次拉单不付款层级           0   \n18840720565xu  2023-10-18  10:07  CZ20231018093970A4F4  多次拉单不付款层级           0   \nyss8087        2023-10-18  10:07  CZ202310180937709O0H  多次拉单不付款层级  杨*双      0   \nliqi199203     2023-10-18  10:07  CZ2023101809357095OF  多次拉单不付款层级   李*      0   \n\n                 充值金额  到账金额  \n账户名                          \nzj1878506       200.0     0  \n18840720565xu   100.0     0  \n18840720565xu   100.0     0  \nyss8087        1000.0     0  \nliqi199203      200.0     0  ",
      "text/html": "<div>\n<style scoped>\n    .dataframe tbody tr th:only-of-type {\n        vertical-align: middle;\n    }\n\n    .dataframe tbody tr th {\n        vertical-align: top;\n    }\n\n    .dataframe thead th {\n        text-align: right;\n    }\n</style>\n<table border=\"1\" class=\"dataframe\">\n  <thead>\n    <tr style=\"text-align: right;\">\n      <th></th>\n      <th>充值日期</th>\n      <th>时间</th>\n      <th>充值单号</th>\n      <th>用户层级</th>\n      <th>姓名</th>\n      <th>VIP等级</th>\n      <th>充值金额</th>\n      <th>到账金额</th>\n    </tr>\n    <tr>\n      <th>账户名</th>\n      <th></th>\n      <th></th>\n      <th></th>\n      <th></th>\n      <th></th>\n      <th></th>\n      <th></th>\n      <th></th>\n    </tr>\n  </thead>\n  <tbody>\n    <tr>\n      <th>zj1878506</th>\n      <td>2023-10-18</td>\n      <td>10:07</td>\n      <td>CZ20231018095370DJK2</td>\n      <td>多次拉单不付款层级</td>\n      <td>郑*</td>\n      <td>2</td>\n      <td>200.0</td>\n      <td>0</td>\n    </tr>\n    <tr>\n      <th>18840720565xu</th>\n      <td>2023-10-18</td>\n      <td>10:07</td>\n      <td>CZ20231018094070AAY9</td>\n      <td>多次拉单不付款层级</td>\n      <td></td>\n      <td>0</td>\n      <td>100.0</td>\n      <td>0</td>\n    </tr>\n    <tr>\n      <th>18840720565xu</th>\n      <td>2023-10-18</td>\n      <td>10:07</td>\n      <td>CZ20231018093970A4F4</td>\n      <td>多次拉单不付款层级</td>\n      <td></td>\n      <td>0</td>\n      <td>100.0</td>\n      <td>0</td>\n    </tr>\n    <tr>\n      <th>yss8087</th>\n      <td>2023-10-18</td>\n      <td>10:07</td>\n      <td>CZ202310180937709O0H</td>\n      <td>多次拉单不付款层级</td>\n      <td>杨*双</td>\n      <td>0</td>\n      <td>1000.0</td>\n      <td>0</td>\n    </tr>\n    <tr>\n      <th>liqi199203</th>\n      <td>2023-10-18</td>\n      <td>10:07</td>\n      <td>CZ2023101809357095OF</td>\n      <td>多次拉单不付款层级</td>\n      <td>李*</td>\n      <td>0</td>\n      <td>200.0</td>\n      <td>0</td>\n    </tr>\n  </tbody>\n</table>\n</div>"
     },
     "execution_count": 47,
     "metadata": {},
     "output_type": "execute_result"
    }
   ],
   "source": [
    "df.groupby('账户名').agg({'账户名':len,'充值金额':[np.max,np.mean],'VIP等级':})"
   ],
   "metadata": {
    "collapsed": false
   }
  },
  {
   "cell_type": "code",
   "execution_count": 7,
   "outputs": [
    {
     "ename": "TypeError",
     "evalue": "'NoneType' object is not subscriptable",
     "output_type": "error",
     "traceback": [
      "\u001B[1;31m---------------------------------------------------------------------------\u001B[0m",
      "\u001B[1;31mTypeError\u001B[0m                                 Traceback (most recent call last)",
      "Cell \u001B[1;32mIn[7], line 72\u001B[0m\n\u001B[0;32m     70\u001B[0m response\u001B[38;5;241m.\u001B[39mencoding \u001B[38;5;241m=\u001B[39m \u001B[38;5;124m'\u001B[39m\u001B[38;5;124mutf8\u001B[39m\u001B[38;5;124m'\u001B[39m\n\u001B[0;32m     71\u001B[0m obj \u001B[38;5;241m=\u001B[39m json\u001B[38;5;241m.\u001B[39mloads(response\u001B[38;5;241m.\u001B[39mtext)\n\u001B[1;32m---> 72\u001B[0m \u001B[38;5;28;01mfor\u001B[39;00m i \u001B[38;5;129;01min\u001B[39;00m obj[\u001B[38;5;124m'\u001B[39m\u001B[38;5;124mdata\u001B[39m\u001B[38;5;124m'\u001B[39m][\u001B[38;5;124m'\u001B[39m\u001B[38;5;124mlist\u001B[39m\u001B[38;5;124m'\u001B[39m]:\n\u001B[0;32m     73\u001B[0m     dic_huiyuan[\u001B[38;5;124m'\u001B[39m\u001B[38;5;124m会员账号\u001B[39m\u001B[38;5;124m'\u001B[39m]\u001B[38;5;241m.\u001B[39mappend(i[\u001B[38;5;124m'\u001B[39m\u001B[38;5;124musername\u001B[39m\u001B[38;5;124m'\u001B[39m])\n\u001B[0;32m     74\u001B[0m     dic_huiyuan[\u001B[38;5;124m'\u001B[39m\u001B[38;5;124m上级代理\u001B[39m\u001B[38;5;124m'\u001B[39m]\u001B[38;5;241m.\u001B[39mappend(i[\u001B[38;5;124m'\u001B[39m\u001B[38;5;124mparentName\u001B[39m\u001B[38;5;124m'\u001B[39m])\n",
      "\u001B[1;31mTypeError\u001B[0m: 'NoneType' object is not subscriptable"
     ]
    }
   ],
   "source": [
    "import datetime\n",
    "import time\n",
    "import pandas as pd\n",
    "import requests\n",
    "import json\n",
    "import pandas as pd\n",
    "import numpy as np\n",
    "from jsonpath import jsonpath\n",
    "import telebot\n",
    "import hmac, base64, struct, hashlib\n",
    "import platform\n",
    "# 采集今日注册会员\n",
    "def get_google_code(secret):\n",
    "    key = base64.b32decode(secret, True)\n",
    "    msg = struct.pack(\">Q\", int(time.time()) // 30)\n",
    "    google_code = hmac.new(key, msg, hashlib.sha1).digest()\n",
    "    # 很多网上的代码不可用，就在于这儿，没有chr字符串\n",
    "    o = ord(chr(google_code[19])) & 15\n",
    "    # google_code = (struct.unpack(\">I\", google_code[o:o + 4])[0] & 0x7fffffff) % 1000000\n",
    "    google_code = (struct.unpack(\">I\", google_code[o:o + 4])[0] & 0x7fffffff) % 1000000\n",
    "    return '%06d' % google_code\n",
    "submit_url = 'http://fundmng.bsportsadmin.com/api/manage/user/admin/login/submit'\n",
    "header0 = {\n",
    "    'Device_id':'1.0',\n",
    "    'Os_type':'0',\n",
    "    'User-Agent':'Mozilla/5.0 (Windows NT 10.0; Win64; x64) AppleWebKit/537.36 (KHTML, like Gecko) Chrome/116.0.0.0 Safari/537.36',\n",
    "}\n",
    "url_huiyuan = 'http://fundmng.bsportsadmin.com/api/manage/user/maintain/user/list'\n",
    "data_huiyuan = {\n",
    "    'username': 'Marquis',\n",
    "    'password': 'qwer123456',\n",
    "    'code': get_google_code('64ehnxj6yily5bhv23kgb62ozuh6yuu2')\n",
    "}\n",
    "import requests,json\n",
    "session0 = requests.session()\n",
    "response  =session0.post(url=submit_url,data=data_huiyuan,headers=header0)\n",
    "response.encoding = 'utf-8'\n",
    "obj = json.loads(response.text)\n",
    "token = obj['data']['token']\n",
    "token\n",
    "header_huiyuan = {\n",
    "    'Device_id': '1.0',\n",
    "    'Os_type': '0',\n",
    "    'Sign': 'd86257d4abd6fa45c67bd4ee02f71ba2',\n",
    "    'Timestamp': '1697599199000',\n",
    "    'Token': token,\n",
    "    'Uid': '690',\n",
    "    'User-Agent': 'Mozilla/5.0 (Windows NT 10.0; Win64; x64) AppleWebKit/537.36 (KHTML, like Gecko) Chrome/115.0.0.0 Safari/537.36',\n",
    "    'Version': '1.0'\n",
    "}\n",
    "\n",
    "import datetime,time\n",
    "import pandas as pd\n",
    "today_1 = datetime.datetime.now().replace(hour=1, minute=0, second=0, microsecond=0)\n",
    "dic_huiyuan={'会员账号':[],'上级代理':[]}\n",
    "for page in range(15):\n",
    "    data_huiyuan ={\n",
    "        'page':page,\n",
    "        'size':200,\n",
    "        'userVip':'0,1,2,3,4,5,6,7,8,9,10,11',\n",
    "        'status':'0,1,2,4',\n",
    "        'sortType':'3',\n",
    "        'sortStr':'descend',\n",
    "        'searchType':'1',\n",
    "        'channelId':'34',\n",
    "        'registeredStartDate':today_1.timestamp()*1000,\n",
    "        'registeredEndDate':int(time.time())*1000\n",
    "    }\n",
    "    response = requests.post(url=url_huiyuan,data=data_huiyuan,headers=header_huiyuan)\n",
    "    response.encoding = 'utf8'\n",
    "    obj = json.loads(response.text)\n",
    "    for i in obj['data']['list']:\n",
    "        dic_huiyuan['会员账号'].append(i['username'])\n",
    "        dic_huiyuan['上级代理'].append(i['parentName'])\n",
    "\n",
    "today_huiyuan =pd.DataFrame(dic_huiyuan)"
   ],
   "metadata": {
    "collapsed": false
   }
  },
  {
   "cell_type": "code",
   "execution_count": 2,
   "outputs": [
    {
     "ename": "NameError",
     "evalue": "name 'today_huiyuan' is not defined",
     "output_type": "error",
     "traceback": [
      "\u001B[1;31m---------------------------------------------------------------------------\u001B[0m",
      "\u001B[1;31mNameError\u001B[0m                                 Traceback (most recent call last)",
      "Cell \u001B[1;32mIn[2], line 1\u001B[0m\n\u001B[1;32m----> 1\u001B[0m today_huiyuan\n",
      "\u001B[1;31mNameError\u001B[0m: name 'today_huiyuan' is not defined"
     ]
    }
   ],
   "source": [],
   "metadata": {
    "collapsed": false
   }
  },
  {
   "cell_type": "code",
   "execution_count": 1,
   "outputs": [
    {
     "data": {
      "text/plain": "        上级代理         小组        二级部门    一级部门\n0     vnam05     ffvn66  飞哥SOCO越南直播  雨燕直播-越\n1     fq2022  btydl0032          酷币      酷币\n2   dzsh2022  btydl0032          酷币      酷币\n3  vanxx2022  btydl0032          酷币      酷币\n4    van2022  btydl0032          酷币      酷币",
      "text/html": "<div>\n<style scoped>\n    .dataframe tbody tr th:only-of-type {\n        vertical-align: middle;\n    }\n\n    .dataframe tbody tr th {\n        vertical-align: top;\n    }\n\n    .dataframe thead th {\n        text-align: right;\n    }\n</style>\n<table border=\"1\" class=\"dataframe\">\n  <thead>\n    <tr style=\"text-align: right;\">\n      <th></th>\n      <th>上级代理</th>\n      <th>小组</th>\n      <th>二级部门</th>\n      <th>一级部门</th>\n    </tr>\n  </thead>\n  <tbody>\n    <tr>\n      <th>0</th>\n      <td>vnam05</td>\n      <td>ffvn66</td>\n      <td>飞哥SOCO越南直播</td>\n      <td>雨燕直播-越</td>\n    </tr>\n    <tr>\n      <th>1</th>\n      <td>fq2022</td>\n      <td>btydl0032</td>\n      <td>酷币</td>\n      <td>酷币</td>\n    </tr>\n    <tr>\n      <th>2</th>\n      <td>dzsh2022</td>\n      <td>btydl0032</td>\n      <td>酷币</td>\n      <td>酷币</td>\n    </tr>\n    <tr>\n      <th>3</th>\n      <td>vanxx2022</td>\n      <td>btydl0032</td>\n      <td>酷币</td>\n      <td>酷币</td>\n    </tr>\n    <tr>\n      <th>4</th>\n      <td>van2022</td>\n      <td>btydl0032</td>\n      <td>酷币</td>\n      <td>酷币</td>\n    </tr>\n  </tbody>\n</table>\n</div>"
     },
     "execution_count": 1,
     "metadata": {},
     "output_type": "execute_result"
    }
   ],
   "source": [
    "import numpy as np\n",
    "import pandas as pd\n",
    "daili = pd.read_csv(r'\\\\DESKTOP-OABVORH\\Data\\Code2023-10数据库版\\输出数据\\每日更新\\代理列表\\代理列表.csv')\n",
    "daili.head()"
   ],
   "metadata": {
    "collapsed": false
   }
  },
  {
   "cell_type": "code",
   "execution_count": 12,
   "outputs": [
    {
     "name": "stdout",
     "output_type": "stream",
     "text": [
      "生成google验证码。。。\n",
      "获取token中。。。\n",
      "开始发送请求....\n",
      "共4页。。\n",
      "               数量    最大金额         平均金额  VIP等级\n",
      "账户名                                          \n",
      "031214zcy       4  1800.0  1238.750000    4.0\n",
      "18840720565xu   7   200.0   114.285714    0.0\n",
      "61863068mlxz    4   500.0   500.000000    0.0\n",
      "hai663355       5   500.0   380.000000    0.0\n",
      "hu777777        4  3000.0  2750.000000    0.0\n",
      "huixue1992      4  1000.0   750.000000    2.0\n",
      "liqi199203      3   500.0   333.333333    0.0\n",
      "ygq1300798      5   100.0   100.000000    0.0\n",
      "zqj851113       5   500.0   382.000000    0.0\n"
     ]
    },
    {
     "data": {
      "text/plain": "               数量    最大金额         平均金额  VIP等级\n账户名                                          \n031214zcy       4  1800.0  1238.750000    4.0\n18840720565xu   7   200.0   114.285714    0.0\n61863068mlxz    4   500.0   500.000000    0.0\nhai663355       5   500.0   380.000000    0.0\nhu777777        4  3000.0  2750.000000    0.0\nhuixue1992      4  1000.0   750.000000    2.0\nliqi199203      3   500.0   333.333333    0.0\nygq1300798      5   100.0   100.000000    0.0\nzqj851113       5   500.0   382.000000    0.0",
      "text/html": "<div>\n<style scoped>\n    .dataframe tbody tr th:only-of-type {\n        vertical-align: middle;\n    }\n\n    .dataframe tbody tr th {\n        vertical-align: top;\n    }\n\n    .dataframe thead th {\n        text-align: right;\n    }\n</style>\n<table border=\"1\" class=\"dataframe\">\n  <thead>\n    <tr style=\"text-align: right;\">\n      <th></th>\n      <th>数量</th>\n      <th>最大金额</th>\n      <th>平均金额</th>\n      <th>VIP等级</th>\n    </tr>\n    <tr>\n      <th>账户名</th>\n      <th></th>\n      <th></th>\n      <th></th>\n      <th></th>\n    </tr>\n  </thead>\n  <tbody>\n    <tr>\n      <th>031214zcy</th>\n      <td>4</td>\n      <td>1800.0</td>\n      <td>1238.750000</td>\n      <td>4.0</td>\n    </tr>\n    <tr>\n      <th>18840720565xu</th>\n      <td>7</td>\n      <td>200.0</td>\n      <td>114.285714</td>\n      <td>0.0</td>\n    </tr>\n    <tr>\n      <th>61863068mlxz</th>\n      <td>4</td>\n      <td>500.0</td>\n      <td>500.000000</td>\n      <td>0.0</td>\n    </tr>\n    <tr>\n      <th>hai663355</th>\n      <td>5</td>\n      <td>500.0</td>\n      <td>380.000000</td>\n      <td>0.0</td>\n    </tr>\n    <tr>\n      <th>hu777777</th>\n      <td>4</td>\n      <td>3000.0</td>\n      <td>2750.000000</td>\n      <td>0.0</td>\n    </tr>\n    <tr>\n      <th>huixue1992</th>\n      <td>4</td>\n      <td>1000.0</td>\n      <td>750.000000</td>\n      <td>2.0</td>\n    </tr>\n    <tr>\n      <th>liqi199203</th>\n      <td>3</td>\n      <td>500.0</td>\n      <td>333.333333</td>\n      <td>0.0</td>\n    </tr>\n    <tr>\n      <th>ygq1300798</th>\n      <td>5</td>\n      <td>100.0</td>\n      <td>100.000000</td>\n      <td>0.0</td>\n    </tr>\n    <tr>\n      <th>zqj851113</th>\n      <td>5</td>\n      <td>500.0</td>\n      <td>382.000000</td>\n      <td>0.0</td>\n    </tr>\n  </tbody>\n</table>\n</div>"
     },
     "execution_count": 12,
     "metadata": {},
     "output_type": "execute_result"
    }
   ],
   "source": [
    "import datetime\n",
    "import time\n",
    "import pandas as pd\n",
    "import requests\n",
    "import json\n",
    "import pandas as pd\n",
    "import numpy as np\n",
    "from jsonpath import jsonpath\n",
    "import telebot\n",
    "import hmac, base64, struct, hashlib\n",
    "import platform\n",
    "\n",
    "\n",
    "# google验证码函数\n",
    "submit_url = 'http://fundmng.bsportsadmin.com/api/manage/user/admin/login/submit'\n",
    "header0 = {\n",
    "    'Device_id':'1.0',\n",
    "    'Os_type':'0',\n",
    "    'User-Agent':'Mozilla/5.0 (Windows NT 10.0; Win64; x64) AppleWebKit/537.36 (KHTML, like Gecko) Chrome/116.0.0.0 Safari/537.36',\n",
    "}\n",
    "def get_google_code(secret):\n",
    "    key = base64.b32decode(secret, True)\n",
    "    msg = struct.pack(\">Q\", int(time.time()) // 30)\n",
    "    google_code = hmac.new(key, msg, hashlib.sha1).digest()\n",
    "    # 很多网上的代码不可用，就在于这儿，没有chr字符串\n",
    "    o = ord(chr(google_code[19])) & 15\n",
    "    # google_code = (struct.unpack(\">I\", google_code[o:o + 4])[0] & 0x7fffffff) % 1000000\n",
    "    google_code = (struct.unpack(\">I\", google_code[o:o + 4])[0] & 0x7fffffff) % 1000000\n",
    "    return '%06d' % google_code\n",
    "\n",
    "# 生成验证码\n",
    "print('生成google验证码。。。')\n",
    "google_code = get_google_code('64ehnxj6yily5bhv23kgb62ozuh6yuu2')\n",
    "data0 = {\n",
    "    'username': 'Marquis',\n",
    "    'password': 'qwer123456',\n",
    "    'code': google_code\n",
    "}\n",
    "# 获取token\n",
    "print('获取token中。。。')\n",
    "session0 = requests.Session()\n",
    "response0  =session0.post(url=submit_url,data=data0,headers=header0)\n",
    "response0.encoding = 'utf-8'\n",
    "obj0 = json.loads(response0.text)\n",
    "token0 = obj0['data']['token']\n",
    "\n",
    "# 发送请求\n",
    "print('开始发送请求....')\n",
    "url = 'http://fundmng.bsportsadmin.com/api/manage/fund/recharge/record/list'\n",
    "header = {\n",
    "    'Device_id': '1.0',\n",
    "    'Os_type': '0',\n",
    "    'Sign': '525f286b21988b7c6a79f623f62f9695',\n",
    "    'Timestamp': '1691886184000',\n",
    "    'Token': token0,\n",
    "    'Uid': '690',\n",
    "    'User-Agent': 'Mozilla/5.0 (Windows NT 10.0; Win64; x64) AppleWebKit/537.36 (KHTML, like Gecko) Chrome/115.0.0.0 Safari/537.36',\n",
    "    'Version': '1.0'\n",
    "}\n",
    "session  = requests.Session()\n",
    "data_ori = {\n",
    "    'dateType':'1',\n",
    "    'startTime':int(time.time()-(2*60*60))*1000,\n",
    "    'endTime':int(time.time())*1000,\n",
    "    'userType':'-1',\n",
    "    'orderStatus':'0,1,2,3,4,5,6,7,8,9',\n",
    "    'agentType':'-1',\n",
    "    'page':1,\n",
    "    'size':500,\n",
    "    'paymentIdList':'1,2,3,4,5,6,7,8,9,10,11,24,25,27,28,29,30,31,32,33,34,35,36,37,38,39,40,41,1000,1001,1002,1003,1004,1005,1006,1007,1008,1009,1010,1011,1012,2000,2001,2002,2003,2004,2005,2006,3000,3001,4000,4001,4002,4003,4004,8000,8001,8002,10000,10001',\n",
    "    'coinCode':'CNY'\n",
    "}\n",
    "response_ori = session.post(url=url,headers=header,data=data_ori)\n",
    "pages = json.loads(response_ori.text)['data']['pages']\n",
    "print(f'共{pages}页。。')\n",
    "\n",
    "dic0 = {'充值日期':\"createDate\",'充值单号':\"orderId\",'用户层级':\"userLevel\",'账户名':\"username\",'姓名':\"reallyName\",'VIP等级':\"vipLevel\",'充值金额':\"amount\",'到账金额':\"payAmount\"}\n",
    "dic = {'充值日期':[],'充值单号':[],'用户层级':[],'账户名':[],'姓名':[],'VIP等级':[],'充值金额':[],'到账金额':[]}\n",
    "ori_dic={}\n",
    "for page in range(1,pages+1):\n",
    "    data = {\n",
    "        'dateType':'1',\n",
    "        'startTime':int(time.time()-(2*60*60))*1000,\n",
    "        'endTime':int(time.time())*1000,\n",
    "        'userType':'-1',\n",
    "        'orderStatus':'0,1,2,3,4,5,6,7,8,9',\n",
    "        'agentType':'-1',\n",
    "        'page':page,\n",
    "        'size':500,\n",
    "        'paymentIdList':'1,2,3,4,5,6,7,8,9,10,11,24,25,27,28,29,30,31,32,33,34,35,36,37,38,39,40,41,1000,1001,1002,1003,1004,1005,1006,1007,1008,1009,1010,1011,1012,2000,2001,2002,2003,2004,2005,2006,3000,3001,4000,4001,4002,4003,4004,8000,8001,8002,10000,10001',\n",
    "        'coinCode':'CNY'\n",
    "    }\n",
    "\n",
    "    response = session.post(url=url,headers=header,data=data)\n",
    "    response.encoding = 'utf8'\n",
    "\n",
    "    # 提取数据\n",
    "\n",
    "    obj0 = json.loads(response.text)\n",
    "    for i in obj0['data']['list']:\n",
    "        # if (i[\"userLevel\"] == '多次拉单不付款层级' and i[\"payAmount\"] ==0 ):\n",
    "        if (i[\"userLevel\"] == '多次拉单不付款层级' and i[\"payAmount\"] ==0 and i[\"vipLevel\"] > -1):\n",
    "            for k in dic:\n",
    "                dic[k].append(i[dic0[k]])\n",
    "# 生成结果数据\n",
    "df = pd.DataFrame(dic)\n",
    "df.insert(1,'时间',df['充值日期'].map(lambda x:time.strftime(\"%H:%M\")))\n",
    "df['充值日期']= df['充值日期'].map(lambda x:time.strftime(\"%Y-%m-%d\"))\n",
    "\n",
    "result = df.groupby('账户名').agg({'账户名':len,'充值金额':[np.max,np.mean],'VIP等级':np.mean})\n",
    "result.reset_index(inplace=True)\n",
    "result = pd.DataFrame({'账户名':result.iloc[:,0],'数量':result.iloc[:,1],'最大金额':result.iloc[:,2],'平均金额':result.iloc[:,3],'VIP等级':result.iloc[:,4]})\n",
    "\n",
    "result.set_index('账户名',inplace=True)\n",
    "result = result.loc[result['数量']>1,:]\n",
    "df.set_index('账户名',inplace=True)\n",
    "print(result)\n",
    "for name in result.index:\n",
    "    ori_dic[name]=int(time.time())\n",
    "\n",
    "result"
   ],
   "metadata": {
    "collapsed": false
   }
  },
  {
   "cell_type": "code",
   "execution_count": 32,
   "outputs": [
    {
     "data": {
      "text/plain": "(1388165, 2)"
     },
     "execution_count": 32,
     "metadata": {},
     "output_type": "execute_result"
    }
   ],
   "source": [],
   "metadata": {
    "collapsed": false
   }
  },
  {
   "cell_type": "code",
   "execution_count": 27,
   "outputs": [
    {
     "data": {
      "text/plain": "1697562000.0"
     },
     "execution_count": 27,
     "metadata": {},
     "output_type": "execute_result"
    }
   ],
   "source": [
    "now = datetime.datetime.now()\n",
    "midnight = now.replace(hour=1, minute=0, second=0, microsecond=0)\n",
    "timestamp = midnight.timestamp()\n",
    "timestamp"
   ],
   "metadata": {
    "collapsed": false
   }
  },
  {
   "cell_type": "code",
   "execution_count": 24,
   "outputs": [
    {
     "data": {
      "text/plain": "               数量    最大金额         平均金额  VIP等级        上级代理          小组  \\\n031214zcy       4  1800.0  1238.750000    4.0  btyseo7003  btyseo7003   \n18840720565xu   7   200.0   114.285714    0.0  bs9Robert1      ffmk88   \n61863068mlxz    4   500.0   500.000000    0.0      zzzb03     zzzb888   \nhai663355       5   500.0   380.000000    0.0      zzzb02     zzzb888   \nhu777777        4  3000.0  2750.000000    0.0   btydl0073   btydl0073   \nhuixue1992      4  1000.0   750.000000    2.0     zsdl176   zhaoshang   \nliqi199203      3   500.0   333.333333    0.0  btyseo6007  btyseo6007   \nygq1300798      5   100.0   100.000000    0.0          暂缺          暂缺   \nzqj851113       5   500.0   382.000000    0.0          暂缺          暂缺   \n\n                    二级部门    一级部门  \n031214zcy         Martin   鲲鹏seo  \n18840720565xu     飞哥雨燕直播    雨燕直播  \n61863068mlxz      飞哥团队直播    雨燕直播  \nhai663355         飞哥团队直播    雨燕直播  \nhu777777              皮特  小Peter  \nhuixue1992     zhaoshang      外代  \nliqi199203          Hugo   鲲鹏seo  \nygq1300798            暂缺      暂缺  \nzqj851113             暂缺      暂缺  ",
      "text/html": "<div>\n<style scoped>\n    .dataframe tbody tr th:only-of-type {\n        vertical-align: middle;\n    }\n\n    .dataframe tbody tr th {\n        vertical-align: top;\n    }\n\n    .dataframe thead th {\n        text-align: right;\n    }\n</style>\n<table border=\"1\" class=\"dataframe\">\n  <thead>\n    <tr style=\"text-align: right;\">\n      <th></th>\n      <th>数量</th>\n      <th>最大金额</th>\n      <th>平均金额</th>\n      <th>VIP等级</th>\n      <th>上级代理</th>\n      <th>小组</th>\n      <th>二级部门</th>\n      <th>一级部门</th>\n    </tr>\n  </thead>\n  <tbody>\n    <tr>\n      <th>031214zcy</th>\n      <td>4</td>\n      <td>1800.0</td>\n      <td>1238.750000</td>\n      <td>4.0</td>\n      <td>btyseo7003</td>\n      <td>btyseo7003</td>\n      <td>Martin</td>\n      <td>鲲鹏seo</td>\n    </tr>\n    <tr>\n      <th>18840720565xu</th>\n      <td>7</td>\n      <td>200.0</td>\n      <td>114.285714</td>\n      <td>0.0</td>\n      <td>bs9Robert1</td>\n      <td>ffmk88</td>\n      <td>飞哥雨燕直播</td>\n      <td>雨燕直播</td>\n    </tr>\n    <tr>\n      <th>61863068mlxz</th>\n      <td>4</td>\n      <td>500.0</td>\n      <td>500.000000</td>\n      <td>0.0</td>\n      <td>zzzb03</td>\n      <td>zzzb888</td>\n      <td>飞哥团队直播</td>\n      <td>雨燕直播</td>\n    </tr>\n    <tr>\n      <th>hai663355</th>\n      <td>5</td>\n      <td>500.0</td>\n      <td>380.000000</td>\n      <td>0.0</td>\n      <td>zzzb02</td>\n      <td>zzzb888</td>\n      <td>飞哥团队直播</td>\n      <td>雨燕直播</td>\n    </tr>\n    <tr>\n      <th>hu777777</th>\n      <td>4</td>\n      <td>3000.0</td>\n      <td>2750.000000</td>\n      <td>0.0</td>\n      <td>btydl0073</td>\n      <td>btydl0073</td>\n      <td>皮特</td>\n      <td>小Peter</td>\n    </tr>\n    <tr>\n      <th>huixue1992</th>\n      <td>4</td>\n      <td>1000.0</td>\n      <td>750.000000</td>\n      <td>2.0</td>\n      <td>zsdl176</td>\n      <td>zhaoshang</td>\n      <td>zhaoshang</td>\n      <td>外代</td>\n    </tr>\n    <tr>\n      <th>liqi199203</th>\n      <td>3</td>\n      <td>500.0</td>\n      <td>333.333333</td>\n      <td>0.0</td>\n      <td>btyseo6007</td>\n      <td>btyseo6007</td>\n      <td>Hugo</td>\n      <td>鲲鹏seo</td>\n    </tr>\n    <tr>\n      <th>ygq1300798</th>\n      <td>5</td>\n      <td>100.0</td>\n      <td>100.000000</td>\n      <td>0.0</td>\n      <td>暂缺</td>\n      <td>暂缺</td>\n      <td>暂缺</td>\n      <td>暂缺</td>\n    </tr>\n    <tr>\n      <th>zqj851113</th>\n      <td>5</td>\n      <td>500.0</td>\n      <td>382.000000</td>\n      <td>0.0</td>\n      <td>暂缺</td>\n      <td>暂缺</td>\n      <td>暂缺</td>\n      <td>暂缺</td>\n    </tr>\n  </tbody>\n</table>\n</div>"
     },
     "execution_count": 24,
     "metadata": {},
     "output_type": "execute_result"
    }
   ],
   "source": [
    "result3 = result2.copy()\n",
    "result3.fillna('暂缺')"
   ],
   "metadata": {
    "collapsed": false
   }
  },
  {
   "cell_type": "code",
   "execution_count": 14,
   "outputs": [
    {
     "data": {
      "text/plain": "(1388172, 4)"
     },
     "execution_count": 14,
     "metadata": {},
     "output_type": "execute_result"
    }
   ],
   "source": [
    "user4 = user3.set_index('会员账号')\n",
    "user4.shape"
   ],
   "metadata": {
    "collapsed": false
   }
  },
  {
   "cell_type": "code",
   "execution_count": 26,
   "outputs": [
    {
     "data": {
      "text/plain": "(57, 14)"
     },
     "execution_count": 26,
     "metadata": {},
     "output_type": "execute_result"
    }
   ],
   "source": [
    "df_daili = df.merge(df3,left_on='会员',right_on='会员账号')\n",
    "df_daili.shape"
   ],
   "metadata": {
    "collapsed": false
   }
  },
  {
   "cell_type": "code",
   "execution_count": 29,
   "outputs": [
    {
     "data": {
      "text/plain": "               会员账号    上级代理 VIP等级               最后登录时间  未登录天数  未下注天数  未充值天数\n0       butterfly66  gt9999  VIP0  2023-10-02 00:56:46     13     13     13\n1           qz71233  gt9999  VIP0  2023-10-04 18:47:35     11     12     12\n2           hui7076  gt9999  VIP0  2023-10-04 16:49:10     11     11     11\n3  wangjie123456789  gt9999  VIP0  2023-10-14 18:20:21      1      2      2\n4         Dvtpa2cvp  gt4444  VIP0  2023-10-14 09:40:08      1      5      5",
      "text/html": "<div>\n<style scoped>\n    .dataframe tbody tr th:only-of-type {\n        vertical-align: middle;\n    }\n\n    .dataframe tbody tr th {\n        vertical-align: top;\n    }\n\n    .dataframe thead th {\n        text-align: right;\n    }\n</style>\n<table border=\"1\" class=\"dataframe\">\n  <thead>\n    <tr style=\"text-align: right;\">\n      <th></th>\n      <th>会员账号</th>\n      <th>上级代理</th>\n      <th>VIP等级</th>\n      <th>最后登录时间</th>\n      <th>未登录天数</th>\n      <th>未下注天数</th>\n      <th>未充值天数</th>\n    </tr>\n  </thead>\n  <tbody>\n    <tr>\n      <th>0</th>\n      <td>butterfly66</td>\n      <td>gt9999</td>\n      <td>VIP0</td>\n      <td>2023-10-02 00:56:46</td>\n      <td>13</td>\n      <td>13</td>\n      <td>13</td>\n    </tr>\n    <tr>\n      <th>1</th>\n      <td>qz71233</td>\n      <td>gt9999</td>\n      <td>VIP0</td>\n      <td>2023-10-04 18:47:35</td>\n      <td>11</td>\n      <td>12</td>\n      <td>12</td>\n    </tr>\n    <tr>\n      <th>2</th>\n      <td>hui7076</td>\n      <td>gt9999</td>\n      <td>VIP0</td>\n      <td>2023-10-04 16:49:10</td>\n      <td>11</td>\n      <td>11</td>\n      <td>11</td>\n    </tr>\n    <tr>\n      <th>3</th>\n      <td>wangjie123456789</td>\n      <td>gt9999</td>\n      <td>VIP0</td>\n      <td>2023-10-14 18:20:21</td>\n      <td>1</td>\n      <td>2</td>\n      <td>2</td>\n    </tr>\n    <tr>\n      <th>4</th>\n      <td>Dvtpa2cvp</td>\n      <td>gt4444</td>\n      <td>VIP0</td>\n      <td>2023-10-14 09:40:08</td>\n      <td>1</td>\n      <td>5</td>\n      <td>5</td>\n    </tr>\n  </tbody>\n</table>\n</div>"
     },
     "execution_count": 29,
     "metadata": {},
     "output_type": "execute_result"
    }
   ],
   "source": [
    "result = df_daili[['会员账号','上级代理','VIP等级','最后登录时间','未登录天数','未下注天数','未充值天数']]\n",
    "result.head()"
   ],
   "metadata": {
    "collapsed": false
   }
  },
  {
   "cell_type": "code",
   "execution_count": 27,
   "outputs": [
    {
     "data": {
      "text/plain": "                 会员              会员账号    上级代理  状态       用户层级 VIP等级 首存时间  \\\n0       butterfly66       butterfly66  gt9999  正常    新注册默认层级  VIP0    0   \n1           qz71233           qz71233  gt9999  正常    新注册默认层级  VIP0    0   \n2           hui7076           hui7076  gt9999  正常    新注册默认层级  VIP0    0   \n3  wangjie123456789  wangjie123456789  gt9999  正常  多次拉单不付款层级  VIP0    0   \n4         Dvtpa2cvp         Dvtpa2cvp  gt4444  正常    新注册默认层级  VIP0    0   \n\n                  注册时间               最后登录时间 最后存款时间 会员备注  未登录天数  未下注天数  未充值天数  \n0  2023-10-02 00:50:06  2023-10-02 00:56:46      0  NaN     13     13     13  \n1  2023-10-03 23:18:53  2023-10-04 18:47:35      0  NaN     11     12     12  \n2  2023-10-04 16:47:43  2023-10-04 16:49:10      0  NaN     11     11     11  \n3  2023-10-13 09:45:15  2023-10-14 18:20:21      0  NaN      1      2      2  \n4  2023-10-10 15:02:22  2023-10-14 09:40:08      0  NaN      1      5      5  ",
      "text/html": "<div>\n<style scoped>\n    .dataframe tbody tr th:only-of-type {\n        vertical-align: middle;\n    }\n\n    .dataframe tbody tr th {\n        vertical-align: top;\n    }\n\n    .dataframe thead th {\n        text-align: right;\n    }\n</style>\n<table border=\"1\" class=\"dataframe\">\n  <thead>\n    <tr style=\"text-align: right;\">\n      <th></th>\n      <th>会员</th>\n      <th>会员账号</th>\n      <th>上级代理</th>\n      <th>状态</th>\n      <th>用户层级</th>\n      <th>VIP等级</th>\n      <th>首存时间</th>\n      <th>注册时间</th>\n      <th>最后登录时间</th>\n      <th>最后存款时间</th>\n      <th>会员备注</th>\n      <th>未登录天数</th>\n      <th>未下注天数</th>\n      <th>未充值天数</th>\n    </tr>\n  </thead>\n  <tbody>\n    <tr>\n      <th>0</th>\n      <td>butterfly66</td>\n      <td>butterfly66</td>\n      <td>gt9999</td>\n      <td>正常</td>\n      <td>新注册默认层级</td>\n      <td>VIP0</td>\n      <td>0</td>\n      <td>2023-10-02 00:50:06</td>\n      <td>2023-10-02 00:56:46</td>\n      <td>0</td>\n      <td>NaN</td>\n      <td>13</td>\n      <td>13</td>\n      <td>13</td>\n    </tr>\n    <tr>\n      <th>1</th>\n      <td>qz71233</td>\n      <td>qz71233</td>\n      <td>gt9999</td>\n      <td>正常</td>\n      <td>新注册默认层级</td>\n      <td>VIP0</td>\n      <td>0</td>\n      <td>2023-10-03 23:18:53</td>\n      <td>2023-10-04 18:47:35</td>\n      <td>0</td>\n      <td>NaN</td>\n      <td>11</td>\n      <td>12</td>\n      <td>12</td>\n    </tr>\n    <tr>\n      <th>2</th>\n      <td>hui7076</td>\n      <td>hui7076</td>\n      <td>gt9999</td>\n      <td>正常</td>\n      <td>新注册默认层级</td>\n      <td>VIP0</td>\n      <td>0</td>\n      <td>2023-10-04 16:47:43</td>\n      <td>2023-10-04 16:49:10</td>\n      <td>0</td>\n      <td>NaN</td>\n      <td>11</td>\n      <td>11</td>\n      <td>11</td>\n    </tr>\n    <tr>\n      <th>3</th>\n      <td>wangjie123456789</td>\n      <td>wangjie123456789</td>\n      <td>gt9999</td>\n      <td>正常</td>\n      <td>多次拉单不付款层级</td>\n      <td>VIP0</td>\n      <td>0</td>\n      <td>2023-10-13 09:45:15</td>\n      <td>2023-10-14 18:20:21</td>\n      <td>0</td>\n      <td>NaN</td>\n      <td>1</td>\n      <td>2</td>\n      <td>2</td>\n    </tr>\n    <tr>\n      <th>4</th>\n      <td>Dvtpa2cvp</td>\n      <td>Dvtpa2cvp</td>\n      <td>gt4444</td>\n      <td>正常</td>\n      <td>新注册默认层级</td>\n      <td>VIP0</td>\n      <td>0</td>\n      <td>2023-10-10 15:02:22</td>\n      <td>2023-10-14 09:40:08</td>\n      <td>0</td>\n      <td>NaN</td>\n      <td>1</td>\n      <td>5</td>\n      <td>5</td>\n    </tr>\n  </tbody>\n</table>\n</div>"
     },
     "execution_count": 27,
     "metadata": {},
     "output_type": "execute_result"
    }
   ],
   "source": [
    "df_daili.head()"
   ],
   "metadata": {
    "collapsed": false
   }
  },
  {
   "cell_type": "code",
   "execution_count": 19,
   "outputs": [
    {
     "name": "stderr",
     "output_type": "stream",
     "text": [
      "C:\\Users\\User\\AppData\\Local\\Temp\\ipykernel_27936\\365151264.py:1: DtypeWarning: Columns (5,8) have mixed types. Specify dtype option on import or set low_memory=False.\n",
      "  df1 = pd.read_csv(r'\\\\DESKTOP-OABVORH\\Data\\Code2023-10数据库版\\输出数据\\每日更新\\会员流失统计\\会员流失统计v0.csv')\n",
      "C:\\Users\\User\\AppData\\Local\\Temp\\ipykernel_27936\\365151264.py:3: FutureWarning: The frame.append method is deprecated and will be removed from pandas in a future version. Use pandas.concat instead.\n",
      "  df3 =  df1.append(df2)\n"
     ]
    },
    {
     "data": {
      "text/plain": "(1382349, 13)"
     },
     "execution_count": 19,
     "metadata": {},
     "output_type": "execute_result"
    },
    {
     "data": {
      "text/plain": "          会员账号    上级代理  状态  用户层级 VIP等级 首存时间                 注册时间  \\\n0  374674748ty  bmw666  正常  休眠层级  VIP0    0  2022-02-19 22:55:11   \n1   375955106a  bmw666  正常  休眠层级  VIP0    0  2022-02-19 22:55:11   \n2   375955106r  bmw666  正常  休眠层级  VIP0    0  2022-02-19 22:55:11   \n3    37612207w  bmw666  正常  休眠层级  VIP0    0  2022-02-19 22:55:11   \n4   379542095a  bmw666  正常  休眠层级  VIP0    0  2022-02-19 22:55:11   \n\n                最后登录时间 最后存款时间 会员备注  未登录天数  未下注天数  未充值天数  \n0  1970-01-01 08:00:00      0  NaN  19645    603    603  \n1  1970-01-01 08:00:00      0  NaN  19645    603    603  \n2  1970-01-01 08:00:00      0  NaN  19645    603    603  \n3  1970-01-01 08:00:00      0  NaN  19645    603    603  \n4  1970-01-01 08:00:00      0  NaN  19645    603    603  ",
      "text/html": "<div>\n<style scoped>\n    .dataframe tbody tr th:only-of-type {\n        vertical-align: middle;\n    }\n\n    .dataframe tbody tr th {\n        vertical-align: top;\n    }\n\n    .dataframe thead th {\n        text-align: right;\n    }\n</style>\n<table border=\"1\" class=\"dataframe\">\n  <thead>\n    <tr style=\"text-align: right;\">\n      <th></th>\n      <th>会员账号</th>\n      <th>上级代理</th>\n      <th>状态</th>\n      <th>用户层级</th>\n      <th>VIP等级</th>\n      <th>首存时间</th>\n      <th>注册时间</th>\n      <th>最后登录时间</th>\n      <th>最后存款时间</th>\n      <th>会员备注</th>\n      <th>未登录天数</th>\n      <th>未下注天数</th>\n      <th>未充值天数</th>\n    </tr>\n  </thead>\n  <tbody>\n    <tr>\n      <th>0</th>\n      <td>374674748ty</td>\n      <td>bmw666</td>\n      <td>正常</td>\n      <td>休眠层级</td>\n      <td>VIP0</td>\n      <td>0</td>\n      <td>2022-02-19 22:55:11</td>\n      <td>1970-01-01 08:00:00</td>\n      <td>0</td>\n      <td>NaN</td>\n      <td>19645</td>\n      <td>603</td>\n      <td>603</td>\n    </tr>\n    <tr>\n      <th>1</th>\n      <td>375955106a</td>\n      <td>bmw666</td>\n      <td>正常</td>\n      <td>休眠层级</td>\n      <td>VIP0</td>\n      <td>0</td>\n      <td>2022-02-19 22:55:11</td>\n      <td>1970-01-01 08:00:00</td>\n      <td>0</td>\n      <td>NaN</td>\n      <td>19645</td>\n      <td>603</td>\n      <td>603</td>\n    </tr>\n    <tr>\n      <th>2</th>\n      <td>375955106r</td>\n      <td>bmw666</td>\n      <td>正常</td>\n      <td>休眠层级</td>\n      <td>VIP0</td>\n      <td>0</td>\n      <td>2022-02-19 22:55:11</td>\n      <td>1970-01-01 08:00:00</td>\n      <td>0</td>\n      <td>NaN</td>\n      <td>19645</td>\n      <td>603</td>\n      <td>603</td>\n    </tr>\n    <tr>\n      <th>3</th>\n      <td>37612207w</td>\n      <td>bmw666</td>\n      <td>正常</td>\n      <td>休眠层级</td>\n      <td>VIP0</td>\n      <td>0</td>\n      <td>2022-02-19 22:55:11</td>\n      <td>1970-01-01 08:00:00</td>\n      <td>0</td>\n      <td>NaN</td>\n      <td>19645</td>\n      <td>603</td>\n      <td>603</td>\n    </tr>\n    <tr>\n      <th>4</th>\n      <td>379542095a</td>\n      <td>bmw666</td>\n      <td>正常</td>\n      <td>休眠层级</td>\n      <td>VIP0</td>\n      <td>0</td>\n      <td>2022-02-19 22:55:11</td>\n      <td>1970-01-01 08:00:00</td>\n      <td>0</td>\n      <td>NaN</td>\n      <td>19645</td>\n      <td>603</td>\n      <td>603</td>\n    </tr>\n  </tbody>\n</table>\n</div>"
     },
     "execution_count": 19,
     "metadata": {},
     "output_type": "execute_result"
    }
   ],
   "source": [
    "df1 = pd.read_csv(r'\\\\DESKTOP-OABVORH\\Data\\Code2023-10数据库版\\输出数据\\每日更新\\会员流失统计\\会员流失统计v0.csv')\n",
    "df2 = pd.read_csv(r'\\\\DESKTOP-OABVORH\\Data\\Code2023-10数据库版\\输出数据\\每日更新\\会员流失统计\\会员流失统计v1以上.csv')\n",
    "df3 =  df1.append(df2)\n",
    "df3.shape\n",
    "df3.head()"
   ],
   "metadata": {
    "collapsed": false
   }
  },
  {
   "cell_type": "code",
   "execution_count": 25,
   "outputs": [
    {
     "data": {
      "text/plain": "                 会员\n0       butterfly66\n1           qz71233\n2           hui7076\n3  wangjie123456789\n4         Dvtpa2cvp",
      "text/html": "<div>\n<style scoped>\n    .dataframe tbody tr th:only-of-type {\n        vertical-align: middle;\n    }\n\n    .dataframe tbody tr th {\n        vertical-align: top;\n    }\n\n    .dataframe thead th {\n        text-align: right;\n    }\n</style>\n<table border=\"1\" class=\"dataframe\">\n  <thead>\n    <tr style=\"text-align: right;\">\n      <th></th>\n      <th>会员</th>\n    </tr>\n  </thead>\n  <tbody>\n    <tr>\n      <th>0</th>\n      <td>butterfly66</td>\n    </tr>\n    <tr>\n      <th>1</th>\n      <td>qz71233</td>\n    </tr>\n    <tr>\n      <th>2</th>\n      <td>hui7076</td>\n    </tr>\n    <tr>\n      <th>3</th>\n      <td>wangjie123456789</td>\n    </tr>\n    <tr>\n      <th>4</th>\n      <td>Dvtpa2cvp</td>\n    </tr>\n  </tbody>\n</table>\n</div>"
     },
     "execution_count": 25,
     "metadata": {},
     "output_type": "execute_result"
    }
   ],
   "source": [
    "df.rename(columns={'index':'会员'},inplace=True)\n",
    "df.head()"
   ],
   "metadata": {
    "collapsed": false
   }
  },
  {
   "cell_type": "code",
   "execution_count": 17,
   "outputs": [
    {
     "data": {
      "text/plain": "              index\n0       butterfly66\n1           qz71233\n2           hui7076\n3  wangjie123456789\n4         Dvtpa2cvp",
      "text/html": "<div>\n<style scoped>\n    .dataframe tbody tr th:only-of-type {\n        vertical-align: middle;\n    }\n\n    .dataframe tbody tr th {\n        vertical-align: top;\n    }\n\n    .dataframe thead th {\n        text-align: right;\n    }\n</style>\n<table border=\"1\" class=\"dataframe\">\n  <thead>\n    <tr style=\"text-align: right;\">\n      <th></th>\n      <th>index</th>\n    </tr>\n  </thead>\n  <tbody>\n    <tr>\n      <th>0</th>\n      <td>butterfly66</td>\n    </tr>\n    <tr>\n      <th>1</th>\n      <td>qz71233</td>\n    </tr>\n    <tr>\n      <th>2</th>\n      <td>hui7076</td>\n    </tr>\n    <tr>\n      <th>3</th>\n      <td>wangjie123456789</td>\n    </tr>\n    <tr>\n      <th>4</th>\n      <td>Dvtpa2cvp</td>\n    </tr>\n  </tbody>\n</table>\n</div>"
     },
     "execution_count": 17,
     "metadata": {},
     "output_type": "execute_result"
    }
   ],
   "source": [
    "df.reset_index(inplace=True)\n",
    "df.head()"
   ],
   "metadata": {
    "collapsed": false
   }
  },
  {
   "cell_type": "code",
   "execution_count": 10,
   "outputs": [],
   "source": [
    "import pandas as pd\n",
    "df = pd.read_fwf(r'C:\\Users\\User\\Desktop\\绑卡未冲.txt')\n",
    "df = df.T"
   ],
   "metadata": {
    "collapsed": false
   }
  },
  {
   "cell_type": "code",
   "execution_count": 7,
   "outputs": [
    {
     "data": {
      "text/plain": "'C:\\\\Users\\\\User\\\\IdeaProjects\\\\project1\\\\日报'"
     },
     "execution_count": 7,
     "metadata": {},
     "output_type": "execute_result"
    }
   ],
   "source": [
    "os.getcwd()"
   ],
   "metadata": {
    "collapsed": false
   }
  },
  {
   "cell_type": "code",
   "execution_count": 6,
   "outputs": [],
   "source": [
    "sys.path.append(os.path.dirname(os.path.abspath(os.getcwd())))"
   ],
   "metadata": {
    "collapsed": false
   }
  },
  {
   "cell_type": "code",
   "execution_count": 5,
   "outputs": [
    {
     "data": {
      "text/plain": "'C:\\\\Users\\\\User\\\\IdeaProjects\\\\project1'"
     },
     "execution_count": 5,
     "metadata": {},
     "output_type": "execute_result"
    }
   ],
   "source": [
    "import sys\n",
    "os.path.dirname(os.path.abspath(os.getcwd()))"
   ],
   "metadata": {
    "collapsed": false
   }
  },
  {
   "cell_type": "code",
   "execution_count": 3,
   "outputs": [
    {
     "data": {
      "text/plain": "'C:\\\\Users\\\\User\\\\IdeaProjects\\\\project1\\\\日报'"
     },
     "execution_count": 3,
     "metadata": {},
     "output_type": "execute_result"
    }
   ],
   "source": [
    "os.path.abspath(os.getcwd())"
   ],
   "metadata": {
    "collapsed": false
   }
  },
  {
   "cell_type": "code",
   "execution_count": 2,
   "outputs": [
    {
     "data": {
      "text/plain": "'C:\\\\Users\\\\User\\\\IdeaProjects\\\\project1\\\\日报'"
     },
     "execution_count": 2,
     "metadata": {},
     "output_type": "execute_result"
    }
   ],
   "source": [
    "os.getcwd()"
   ],
   "metadata": {
    "collapsed": false
   }
  },
  {
   "cell_type": "code",
   "execution_count": 1,
   "outputs": [
    {
     "data": {
      "text/plain": "'C:\\\\ProgramData\\\\anaconda3\\\\envs\\\\schedule\\\\Lib\\\\os.py'"
     },
     "execution_count": 1,
     "metadata": {},
     "output_type": "execute_result"
    }
   ],
   "source": [
    "import os\n",
    "os.__file__"
   ],
   "metadata": {
    "collapsed": false
   }
  },
  {
   "cell_type": "code",
   "execution_count": 1,
   "outputs": [],
   "source": [
    "from IPython.core.interactiveshell import InteractiveShell\n",
    "InteractiveShell.ast_node_interactivity = \"all\""
   ],
   "metadata": {
    "collapsed": false
   }
  },
  {
   "cell_type": "code",
   "execution_count": 4,
   "outputs": [
    {
     "data": {
      "text/plain": "(46, 1)"
     },
     "execution_count": 4,
     "metadata": {},
     "output_type": "execute_result"
    },
    {
     "data": {
      "text/plain": "               会员账号\n0          qwer9524\n1         gyh188881\n2           hhafc06\n3  liuxiaoyu1234567\n4         A20094508",
      "text/html": "<div>\n<style scoped>\n    .dataframe tbody tr th:only-of-type {\n        vertical-align: middle;\n    }\n\n    .dataframe tbody tr th {\n        vertical-align: top;\n    }\n\n    .dataframe thead th {\n        text-align: right;\n    }\n</style>\n<table border=\"1\" class=\"dataframe\">\n  <thead>\n    <tr style=\"text-align: right;\">\n      <th></th>\n      <th>会员账号</th>\n    </tr>\n  </thead>\n  <tbody>\n    <tr>\n      <th>0</th>\n      <td>qwer9524</td>\n    </tr>\n    <tr>\n      <th>1</th>\n      <td>gyh188881</td>\n    </tr>\n    <tr>\n      <th>2</th>\n      <td>hhafc06</td>\n    </tr>\n    <tr>\n      <th>3</th>\n      <td>liuxiaoyu1234567</td>\n    </tr>\n    <tr>\n      <th>4</th>\n      <td>A20094508</td>\n    </tr>\n  </tbody>\n</table>\n</div>"
     },
     "execution_count": 4,
     "metadata": {},
     "output_type": "execute_result"
    }
   ],
   "source": [
    "import pandas as pd\n",
    "df = pd.read_clipboard()\n",
    "df.shape\n",
    "df.head()"
   ],
   "metadata": {
    "collapsed": false
   }
  },
  {
   "cell_type": "code",
   "execution_count": 5,
   "outputs": [
    {
     "data": {
      "text/plain": "(453069, 3)"
     },
     "execution_count": 5,
     "metadata": {},
     "output_type": "execute_result"
    },
    {
     "data": {
      "text/plain": "             会员账号                    姓名          手机号\n0  lephuong841983  le nguyen lan phuong    938263243\n1      Ttdglobal4        Tran Thanh Duc    977772192\n2         TBB1216                   汤俊华  18701999209\n3          Akz123        HOANG VAN TUNG   7042125156\n4          fc2024                   孙显甲  18975096499",
      "text/html": "<div>\n<style scoped>\n    .dataframe tbody tr th:only-of-type {\n        vertical-align: middle;\n    }\n\n    .dataframe tbody tr th {\n        vertical-align: top;\n    }\n\n    .dataframe thead th {\n        text-align: right;\n    }\n</style>\n<table border=\"1\" class=\"dataframe\">\n  <thead>\n    <tr style=\"text-align: right;\">\n      <th></th>\n      <th>会员账号</th>\n      <th>姓名</th>\n      <th>手机号</th>\n    </tr>\n  </thead>\n  <tbody>\n    <tr>\n      <th>0</th>\n      <td>lephuong841983</td>\n      <td>le nguyen lan phuong</td>\n      <td>938263243</td>\n    </tr>\n    <tr>\n      <th>1</th>\n      <td>Ttdglobal4</td>\n      <td>Tran Thanh Duc</td>\n      <td>977772192</td>\n    </tr>\n    <tr>\n      <th>2</th>\n      <td>TBB1216</td>\n      <td>汤俊华</td>\n      <td>18701999209</td>\n    </tr>\n    <tr>\n      <th>3</th>\n      <td>Akz123</td>\n      <td>HOANG VAN TUNG</td>\n      <td>7042125156</td>\n    </tr>\n    <tr>\n      <th>4</th>\n      <td>fc2024</td>\n      <td>孙显甲</td>\n      <td>18975096499</td>\n    </tr>\n  </tbody>\n</table>\n</div>"
     },
     "execution_count": 5,
     "metadata": {},
     "output_type": "execute_result"
    }
   ],
   "source": [
    "tel = pd.read_clipboard()\n",
    "tel.shape\n",
    "tel.head()"
   ],
   "metadata": {
    "collapsed": false
   }
  },
  {
   "cell_type": "code",
   "execution_count": 10,
   "outputs": [
    {
     "data": {
      "text/plain": "               会员账号   姓名          手机号\n0          qwer9524  曹世锋  18566872814\n1         gyh188881  NaN  18800683388\n2           hhafc06  黄焕安  18053348716\n3  liuxiaoyu1234567  NaN  13500433033\n4         A20094508  NaN  18874599658",
      "text/html": "<div>\n<style scoped>\n    .dataframe tbody tr th:only-of-type {\n        vertical-align: middle;\n    }\n\n    .dataframe tbody tr th {\n        vertical-align: top;\n    }\n\n    .dataframe thead th {\n        text-align: right;\n    }\n</style>\n<table border=\"1\" class=\"dataframe\">\n  <thead>\n    <tr style=\"text-align: right;\">\n      <th></th>\n      <th>会员账号</th>\n      <th>姓名</th>\n      <th>手机号</th>\n    </tr>\n  </thead>\n  <tbody>\n    <tr>\n      <th>0</th>\n      <td>qwer9524</td>\n      <td>曹世锋</td>\n      <td>18566872814</td>\n    </tr>\n    <tr>\n      <th>1</th>\n      <td>gyh188881</td>\n      <td>NaN</td>\n      <td>18800683388</td>\n    </tr>\n    <tr>\n      <th>2</th>\n      <td>hhafc06</td>\n      <td>黄焕安</td>\n      <td>18053348716</td>\n    </tr>\n    <tr>\n      <th>3</th>\n      <td>liuxiaoyu1234567</td>\n      <td>NaN</td>\n      <td>13500433033</td>\n    </tr>\n    <tr>\n      <th>4</th>\n      <td>A20094508</td>\n      <td>NaN</td>\n      <td>18874599658</td>\n    </tr>\n  </tbody>\n</table>\n</div>"
     },
     "execution_count": 10,
     "metadata": {},
     "output_type": "execute_result"
    }
   ],
   "source": [
    "df2 = df.merge(tel,on='会员账号',how='left')\n",
    "df2.head()"
   ],
   "metadata": {
    "collapsed": false
   }
  },
  {
   "cell_type": "code",
   "execution_count": 7,
   "outputs": [
    {
     "name": "stderr",
     "output_type": "stream",
     "text": [
      "C:\\Users\\User\\AppData\\Local\\Temp\\ipykernel_35708\\2782318878.py:1: DtypeWarning: Columns (5,8) have mixed types. Specify dtype option on import or set low_memory=False.\n",
      "  data1 = pd.read_csv(r'\\\\DESKTOP-OABVORH\\Data\\Code2023-10数据库版\\输出数据\\每日更新\\会员流失统计\\会员流失统计v0.csv')\n",
      "C:\\Users\\User\\AppData\\Local\\Temp\\ipykernel_35708\\2782318878.py:3: FutureWarning: The frame.append method is deprecated and will be removed from pandas in a future version. Use pandas.concat instead.\n",
      "  data = data1.append(data2)\n"
     ]
    },
    {
     "data": {
      "text/plain": "(1384428, 13)"
     },
     "execution_count": 7,
     "metadata": {},
     "output_type": "execute_result"
    },
    {
     "data": {
      "text/plain": "       会员账号    上级代理  状态  用户层级 VIP等级 首存时间                 注册时间  \\\n0   1234aaa  bmw666  正常  休眠层级  VIP0    0  2022-02-19 22:54:25   \n1  1234aabb  bmw666  正常  休眠层级  VIP0    0  2022-02-19 22:54:25   \n2  1234abcd  bmw666  正常  休眠层级  VIP0    0  2022-02-19 22:54:25   \n3   1234aeg  bmw666  正常  休眠层级  VIP0    0  2022-02-19 22:54:25   \n4  1234chen  bmw666  正常  休眠层级  VIP0    0  2022-02-19 22:54:25   \n\n                最后登录时间 最后存款时间 会员备注  未登录天数  未下注天数  未充值天数  \n0  1970-01-01 08:00:00      0  NaN  19646    604    604  \n1  1970-01-01 08:00:00      0  NaN  19646    604    604  \n2  1970-01-01 08:00:00      0  NaN  19646    604    604  \n3  1970-01-01 08:00:00      0  NaN  19646    604    604  \n4  1970-01-01 08:00:00      0  NaN  19646    604    604  ",
      "text/html": "<div>\n<style scoped>\n    .dataframe tbody tr th:only-of-type {\n        vertical-align: middle;\n    }\n\n    .dataframe tbody tr th {\n        vertical-align: top;\n    }\n\n    .dataframe thead th {\n        text-align: right;\n    }\n</style>\n<table border=\"1\" class=\"dataframe\">\n  <thead>\n    <tr style=\"text-align: right;\">\n      <th></th>\n      <th>会员账号</th>\n      <th>上级代理</th>\n      <th>状态</th>\n      <th>用户层级</th>\n      <th>VIP等级</th>\n      <th>首存时间</th>\n      <th>注册时间</th>\n      <th>最后登录时间</th>\n      <th>最后存款时间</th>\n      <th>会员备注</th>\n      <th>未登录天数</th>\n      <th>未下注天数</th>\n      <th>未充值天数</th>\n    </tr>\n  </thead>\n  <tbody>\n    <tr>\n      <th>0</th>\n      <td>1234aaa</td>\n      <td>bmw666</td>\n      <td>正常</td>\n      <td>休眠层级</td>\n      <td>VIP0</td>\n      <td>0</td>\n      <td>2022-02-19 22:54:25</td>\n      <td>1970-01-01 08:00:00</td>\n      <td>0</td>\n      <td>NaN</td>\n      <td>19646</td>\n      <td>604</td>\n      <td>604</td>\n    </tr>\n    <tr>\n      <th>1</th>\n      <td>1234aabb</td>\n      <td>bmw666</td>\n      <td>正常</td>\n      <td>休眠层级</td>\n      <td>VIP0</td>\n      <td>0</td>\n      <td>2022-02-19 22:54:25</td>\n      <td>1970-01-01 08:00:00</td>\n      <td>0</td>\n      <td>NaN</td>\n      <td>19646</td>\n      <td>604</td>\n      <td>604</td>\n    </tr>\n    <tr>\n      <th>2</th>\n      <td>1234abcd</td>\n      <td>bmw666</td>\n      <td>正常</td>\n      <td>休眠层级</td>\n      <td>VIP0</td>\n      <td>0</td>\n      <td>2022-02-19 22:54:25</td>\n      <td>1970-01-01 08:00:00</td>\n      <td>0</td>\n      <td>NaN</td>\n      <td>19646</td>\n      <td>604</td>\n      <td>604</td>\n    </tr>\n    <tr>\n      <th>3</th>\n      <td>1234aeg</td>\n      <td>bmw666</td>\n      <td>正常</td>\n      <td>休眠层级</td>\n      <td>VIP0</td>\n      <td>0</td>\n      <td>2022-02-19 22:54:25</td>\n      <td>1970-01-01 08:00:00</td>\n      <td>0</td>\n      <td>NaN</td>\n      <td>19646</td>\n      <td>604</td>\n      <td>604</td>\n    </tr>\n    <tr>\n      <th>4</th>\n      <td>1234chen</td>\n      <td>bmw666</td>\n      <td>正常</td>\n      <td>休眠层级</td>\n      <td>VIP0</td>\n      <td>0</td>\n      <td>2022-02-19 22:54:25</td>\n      <td>1970-01-01 08:00:00</td>\n      <td>0</td>\n      <td>NaN</td>\n      <td>19646</td>\n      <td>604</td>\n      <td>604</td>\n    </tr>\n  </tbody>\n</table>\n</div>"
     },
     "execution_count": 7,
     "metadata": {},
     "output_type": "execute_result"
    }
   ],
   "source": [
    "data1 = pd.read_csv(r'\\\\DESKTOP-OABVORH\\Data\\Code2023-10数据库版\\输出数据\\每日更新\\会员流失统计\\会员流失统计v0.csv')\n",
    "data2 = pd.read_csv(r'\\\\DESKTOP-OABVORH\\Data\\Code2023-10数据库版\\输出数据\\每日更新\\会员流失统计\\会员流失统计v1以上.csv')\n",
    "data = data1.append(data2)\n",
    "data.shape\n",
    "data.head()"
   ],
   "metadata": {
    "collapsed": false
   }
  },
  {
   "cell_type": "code",
   "execution_count": 9,
   "outputs": [
    {
     "data": {
      "text/plain": "(45, 3)"
     },
     "execution_count": 9,
     "metadata": {},
     "output_type": "execute_result"
    }
   ],
   "source": [
    "df2.shape"
   ],
   "metadata": {
    "collapsed": false
   }
  },
  {
   "cell_type": "code",
   "execution_count": 11,
   "outputs": [
    {
     "data": {
      "text/plain": "(46, 15)"
     },
     "execution_count": 11,
     "metadata": {},
     "output_type": "execute_result"
    },
    {
     "data": {
      "text/plain": "               会员账号   姓名          手机号    上级代理  状态     用户层级 VIP等级  \\\n0          qwer9524  曹世锋  18566872814  gt0001  正常  新注册默认层级  VIP1   \n1         gyh188881  NaN  18800683388  gt0001  正常  新注册默认层级  VIP0   \n2           hhafc06  黄焕安  18053348716  gt0001  正常  新注册默认层级  VIP0   \n3  liuxiaoyu1234567  NaN  13500433033  gt0001  正常  新注册默认层级  VIP0   \n4         A20094508  NaN  18874599658  gt0001  正常  新注册默认层级  VIP0   \n\n                  首存时间                 注册时间               最后登录时间  \\\n0  2023-10-01 08:08:17  2023-10-01 00:37:30  2023-10-14 03:55:36   \n1                    0  2023-10-01 04:34:10  2023-10-01 04:43:43   \n2                    0  2023-10-01 14:07:28  2023-10-01 15:32:31   \n3                    0  2023-10-01 18:52:15  2023-10-01 19:02:40   \n4                    0  2023-10-01 19:38:55  2023-10-02 11:12:18   \n\n                最后存款时间 会员备注  未登录天数  未下注天数  未充值天数  \n0  2023-10-01 08:08:17  NaN      2     15     15  \n1                    0  NaN     15     15     15  \n2                    0  NaN     15     15     15  \n3                    0  NaN     15     15     15  \n4                    0  NaN     14     15     15  ",
      "text/html": "<div>\n<style scoped>\n    .dataframe tbody tr th:only-of-type {\n        vertical-align: middle;\n    }\n\n    .dataframe tbody tr th {\n        vertical-align: top;\n    }\n\n    .dataframe thead th {\n        text-align: right;\n    }\n</style>\n<table border=\"1\" class=\"dataframe\">\n  <thead>\n    <tr style=\"text-align: right;\">\n      <th></th>\n      <th>会员账号</th>\n      <th>姓名</th>\n      <th>手机号</th>\n      <th>上级代理</th>\n      <th>状态</th>\n      <th>用户层级</th>\n      <th>VIP等级</th>\n      <th>首存时间</th>\n      <th>注册时间</th>\n      <th>最后登录时间</th>\n      <th>最后存款时间</th>\n      <th>会员备注</th>\n      <th>未登录天数</th>\n      <th>未下注天数</th>\n      <th>未充值天数</th>\n    </tr>\n  </thead>\n  <tbody>\n    <tr>\n      <th>0</th>\n      <td>qwer9524</td>\n      <td>曹世锋</td>\n      <td>18566872814</td>\n      <td>gt0001</td>\n      <td>正常</td>\n      <td>新注册默认层级</td>\n      <td>VIP1</td>\n      <td>2023-10-01 08:08:17</td>\n      <td>2023-10-01 00:37:30</td>\n      <td>2023-10-14 03:55:36</td>\n      <td>2023-10-01 08:08:17</td>\n      <td>NaN</td>\n      <td>2</td>\n      <td>15</td>\n      <td>15</td>\n    </tr>\n    <tr>\n      <th>1</th>\n      <td>gyh188881</td>\n      <td>NaN</td>\n      <td>18800683388</td>\n      <td>gt0001</td>\n      <td>正常</td>\n      <td>新注册默认层级</td>\n      <td>VIP0</td>\n      <td>0</td>\n      <td>2023-10-01 04:34:10</td>\n      <td>2023-10-01 04:43:43</td>\n      <td>0</td>\n      <td>NaN</td>\n      <td>15</td>\n      <td>15</td>\n      <td>15</td>\n    </tr>\n    <tr>\n      <th>2</th>\n      <td>hhafc06</td>\n      <td>黄焕安</td>\n      <td>18053348716</td>\n      <td>gt0001</td>\n      <td>正常</td>\n      <td>新注册默认层级</td>\n      <td>VIP0</td>\n      <td>0</td>\n      <td>2023-10-01 14:07:28</td>\n      <td>2023-10-01 15:32:31</td>\n      <td>0</td>\n      <td>NaN</td>\n      <td>15</td>\n      <td>15</td>\n      <td>15</td>\n    </tr>\n    <tr>\n      <th>3</th>\n      <td>liuxiaoyu1234567</td>\n      <td>NaN</td>\n      <td>13500433033</td>\n      <td>gt0001</td>\n      <td>正常</td>\n      <td>新注册默认层级</td>\n      <td>VIP0</td>\n      <td>0</td>\n      <td>2023-10-01 18:52:15</td>\n      <td>2023-10-01 19:02:40</td>\n      <td>0</td>\n      <td>NaN</td>\n      <td>15</td>\n      <td>15</td>\n      <td>15</td>\n    </tr>\n    <tr>\n      <th>4</th>\n      <td>A20094508</td>\n      <td>NaN</td>\n      <td>18874599658</td>\n      <td>gt0001</td>\n      <td>正常</td>\n      <td>新注册默认层级</td>\n      <td>VIP0</td>\n      <td>0</td>\n      <td>2023-10-01 19:38:55</td>\n      <td>2023-10-02 11:12:18</td>\n      <td>0</td>\n      <td>NaN</td>\n      <td>14</td>\n      <td>15</td>\n      <td>15</td>\n    </tr>\n  </tbody>\n</table>\n</div>"
     },
     "execution_count": 11,
     "metadata": {},
     "output_type": "execute_result"
    }
   ],
   "source": [
    "df3 = df2.merge(data,on='会员账号',how='left')\n",
    "df3.shape\n",
    "df3.head()"
   ],
   "metadata": {
    "collapsed": false
   }
  },
  {
   "cell_type": "code",
   "execution_count": 14,
   "outputs": [],
   "source": [
    "result = df3[['会员账号','手机号','上级代理','VIP等级','最后登录时间','未登录天数','未下注天数','未充值天数','注册时间']]\n",
    "result.to_csv(r'C:\\Users\\User\\Desktop\\营销电话-20231016-.csv',index=False)"
   ],
   "metadata": {
    "collapsed": false
   }
  },
  {
   "cell_type": "code",
   "execution_count": 12,
   "outputs": [],
   "source": [
    "from IPython.core.interactiveshell import InteractiveShell\n",
    "InteractiveShell.ast_node_interactivity = \"all\""
   ],
   "metadata": {
    "collapsed": false
   }
  }
 ],
 "metadata": {
  "kernelspec": {
   "name": "schedule",
   "language": "python",
   "display_name": "schedule"
  },
  "language_info": {
   "codemirror_mode": {
    "name": "ipython",
    "version": 2
   },
   "file_extension": ".py",
   "mimetype": "text/x-python",
   "name": "python",
   "nbconvert_exporter": "python",
   "pygments_lexer": "ipython2",
   "version": "2.7.6"
  }
 },
 "nbformat": 4,
 "nbformat_minor": 0
}
