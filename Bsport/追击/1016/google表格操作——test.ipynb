{
 "cells": [
  {
   "cell_type": "code",
   "execution_count": 11,
   "metadata": {
    "collapsed": true
   },
   "outputs": [],
   "source": [
    "import pandas as pd\n",
    "from IPython.core.interactiveshell import InteractiveShell\n",
    "InteractiveShell.ast_node_interactivity = \"all\""
   ]
  },
  {
   "cell_type": "code",
   "execution_count": 27,
   "outputs": [],
   "source": [
    "import gspread\n",
    "from oauth2client.service_account import ServiceAccountCredentials\n",
    "from gspread_dataframe import get_as_dataframe, set_with_dataframe\n",
    "from openpyxl.utils.dataframe import dataframe_to_rows\n",
    "import json"
   ],
   "metadata": {
    "collapsed": false
   }
  },
  {
   "cell_type": "code",
   "execution_count": 19,
   "outputs": [
    {
     "data": {
      "text/plain": "   20231016-12      a9629714  15333333615       admin  0  2023/10/15 21:59:35  \\\n0  20231016-12      yang0502  18465366885   btydl0022  0  2023/10/15 21:56:11   \n1  20231016-12  Jhz495864188  13108621651   btydl0026  0  2023/10/15 21:24:04   \n2  20231016-12   lhy20021029  13216618779      scb002  0  2023/10/15 20:40:25   \n3  20231016-12   zxcvbnm3511  13635706271  btyseo7003  0  2023/10/15 20:40:07   \n\n   正常  有效通话  \n0  正常  有效通话  \n1  正常  无效通话  \n2  正常  无效通话  \n3  正常  无效通话  ",
      "text/html": "<div>\n<style scoped>\n    .dataframe tbody tr th:only-of-type {\n        vertical-align: middle;\n    }\n\n    .dataframe tbody tr th {\n        vertical-align: top;\n    }\n\n    .dataframe thead th {\n        text-align: right;\n    }\n</style>\n<table border=\"1\" class=\"dataframe\">\n  <thead>\n    <tr style=\"text-align: right;\">\n      <th></th>\n      <th>20231016-12</th>\n      <th>a9629714</th>\n      <th>15333333615</th>\n      <th>admin</th>\n      <th>0</th>\n      <th>2023/10/15 21:59:35</th>\n      <th>正常</th>\n      <th>有效通话</th>\n    </tr>\n  </thead>\n  <tbody>\n    <tr>\n      <th>0</th>\n      <td>20231016-12</td>\n      <td>yang0502</td>\n      <td>18465366885</td>\n      <td>btydl0022</td>\n      <td>0</td>\n      <td>2023/10/15 21:56:11</td>\n      <td>正常</td>\n      <td>有效通话</td>\n    </tr>\n    <tr>\n      <th>1</th>\n      <td>20231016-12</td>\n      <td>Jhz495864188</td>\n      <td>13108621651</td>\n      <td>btydl0026</td>\n      <td>0</td>\n      <td>2023/10/15 21:24:04</td>\n      <td>正常</td>\n      <td>无效通话</td>\n    </tr>\n    <tr>\n      <th>2</th>\n      <td>20231016-12</td>\n      <td>lhy20021029</td>\n      <td>13216618779</td>\n      <td>scb002</td>\n      <td>0</td>\n      <td>2023/10/15 20:40:25</td>\n      <td>正常</td>\n      <td>无效通话</td>\n    </tr>\n    <tr>\n      <th>3</th>\n      <td>20231016-12</td>\n      <td>zxcvbnm3511</td>\n      <td>13635706271</td>\n      <td>btyseo7003</td>\n      <td>0</td>\n      <td>2023/10/15 20:40:07</td>\n      <td>正常</td>\n      <td>无效通话</td>\n    </tr>\n  </tbody>\n</table>\n</div>"
     },
     "execution_count": 19,
     "metadata": {},
     "output_type": "execute_result"
    }
   ],
   "source": [
    "df"
   ],
   "metadata": {
    "collapsed": false
   }
  },
  {
   "cell_type": "code",
   "execution_count": 30,
   "outputs": [
    {
     "data": {
      "text/plain": "{'spreadsheetId': '1CYqiaQLGQDk9GQmUCoSsv_bVJtMerBEKqm768BLjcZo',\n 'tableRange': \"'工作表12'!A1:J13\",\n 'updates': {'spreadsheetId': '1CYqiaQLGQDk9GQmUCoSsv_bVJtMerBEKqm768BLjcZo',\n  'updatedRange': \"'工作表12'!A14:G15\",\n  'updatedRows': 2,\n  'updatedColumns': 7,\n  'updatedCells': 14}}"
     },
     "execution_count": 30,
     "metadata": {},
     "output_type": "execute_result"
    }
   ],
   "source": [
    "# 设置Google表格的凭据和权限\n",
    "scope = ['https://spreadsheets.google.com/feeds', 'https://www.googleapis.com/auth/drive']\n",
    "credentials = ServiceAccountCredentials.from_json_keyfile_name('zhuiji-345065c1f756.json', scope)\n",
    "\n",
    "# 使用凭据进行身份验证并打开表格\n",
    "gc = gspread.authorize(credentials)\n",
    "spreadsheet = gc.open('【TM】追击名单')\n",
    "\n",
    "# 选择要插入数据的工作表\n",
    "worksheet = spreadsheet.get_worksheet(1)  # 选择第一个工作表\n",
    "\n",
    "# 将DataFrame插入到工作表中\n",
    "data = pd.read_clipboard()\n",
    "worksheet.append_rows(data.values.tolist())"
   ],
   "metadata": {
    "collapsed": false
   }
  },
  {
   "cell_type": "code",
   "execution_count": 33,
   "outputs": [
    {
     "data": {
      "text/plain": "{'spreadsheetId': '1CYqiaQLGQDk9GQmUCoSsv_bVJtMerBEKqm768BLjcZo',\n 'tableRange': \"'工作表12'!A1:J15\",\n 'updates': {'spreadsheetId': '1CYqiaQLGQDk9GQmUCoSsv_bVJtMerBEKqm768BLjcZo',\n  'updatedRange': \"'工作表12'!A16:D17\",\n  'updatedRows': 2,\n  'updatedColumns': 4,\n  'updatedCells': 8}}"
     },
     "execution_count": 33,
     "metadata": {},
     "output_type": "execute_result"
    }
   ],
   "source": [
    "scopes = [\n",
    "    'https://www.googleapis.com/auth/spreadsheets',\n",
    "    'https://www.googleapis.com/auth/drive'\n",
    "]\n",
    "credentials = ServiceAccountCredentials.from_json_keyfile_name(\"zhuiji-345065c1f756.json\", scopes) #access the json key you downloaded earlier\n",
    "\n",
    "file = gspread.authorize(credentials) # authenticate the JSON key with gspread\n",
    "sheet = file.open(\"【TM】追击名单\") #open sheet\n",
    "# sheet = sheet.sheet1   #replace sheet_name with the name that corresponds to yours, eg, it can be sheet1\n",
    "#\n",
    "# print(sheet.range('A1:C6'))\n",
    "# print(sheet.get_all_records())\n",
    "sheet = sheet.worksheet('工作表12')\n",
    "# 将DataFrame插入到工作表中\n",
    "data = pd.read_clipboard()\n",
    "sheet.append_rows(data.values.tolist())"
   ],
   "metadata": {
    "collapsed": false
   }
  },
  {
   "cell_type": "code",
   "execution_count": 58,
   "outputs": [
    {
     "data": {
      "text/plain": "pandas.core.frame.DataFrame"
     },
     "execution_count": 58,
     "metadata": {},
     "output_type": "execute_result"
    },
    {
     "name": "stderr",
     "output_type": "stream",
     "text": [
      "C:\\ProgramData\\anaconda3\\envs\\schedule\\Lib\\site-packages\\gspread\\worksheet.py:1069: UserWarning: [Deprecated][in version 6.0.0]: method signature will change to: 'Worksheet.update(value = [[]], range_name=)' arguments 'range_name' and 'values' will swap, values will be mandatory of type: 'list(list(...))'\n",
      "  warnings.warn(\n"
     ]
    },
    {
     "data": {
      "text/plain": "{'spreadsheetId': '1CYqiaQLGQDk9GQmUCoSsv_bVJtMerBEKqm768BLjcZo',\n 'updatedRange': \"'工作表12'!A2:J10\",\n 'updatedRows': 9,\n 'updatedColumns': 10,\n 'updatedCells': 90}"
     },
     "execution_count": 58,
     "metadata": {},
     "output_type": "execute_result"
    }
   ],
   "source": [
    "scopes = [\n",
    "    'https://www.googleapis.com/auth/spreadsheets',\n",
    "    'https://www.googleapis.com/auth/drive'\n",
    "]\n",
    "credentials = ServiceAccountCredentials.from_json_keyfile_name(\"zhuiji-345065c1f756.json\", scopes) #access the json key you downloaded earlier\n",
    "\n",
    "file = gspread.authorize(credentials) # authenticate the JSON key with gspread\n",
    "sheet = file.open(\"【TM】追击名单\") #open sheet\n",
    "# sheet = sheet.sheet1   #replace sheet_name with the name that corresponds to yours, eg, it can be sheet1\n",
    "#\n",
    "# print(sheet.range('A1:C6'))\n",
    "# print(sheet.get_all_records())\n",
    "sheet = sheet.worksheet('工作表12')\n",
    "df2 = pd.DataFrame(sheet.get_all_records())\n",
    "df2['手机号码']=df2['手机号码'].astype(str)\n",
    "type(df2)\n",
    "df2['手机号码']=df2['手机号码'].map(lambda x:re.sub(r'(\\d{3})\\d{4}(\\d{4})', r'\\1****\\2', x))\n",
    "sheet.update(f'A2:J{df2.shape[0]+1}',df2.values.tolist())"
   ],
   "metadata": {
    "collapsed": false
   }
  },
  {
   "cell_type": "code",
   "execution_count": 50,
   "outputs": [
    {
     "data": {
      "text/plain": "0    156****9573\n1    176****8597\n2    134****7695\n3    139****8499\n4    130****9695\n5    188****9929\n6    133****5274\n7    130****3393\n8    132****7901\nName: 手机号码, dtype: object"
     },
     "execution_count": 50,
     "metadata": {},
     "output_type": "execute_result"
    }
   ],
   "source": [
    "df2['手机号码'].astype(str).map(lambda x:re.sub(r'(\\d{3})\\d{4}(\\d{4})', r'\\1****\\2', x))"
   ],
   "metadata": {
    "collapsed": false
   }
  },
  {
   "cell_type": "code",
   "execution_count": 53,
   "outputs": [
    {
     "data": {
      "text/plain": "array(['156****9573', '176****8597', '134****7695', '139****8499',\n       '130****9695', '188****9929', '133****5274', '130****3393',\n       '132****7901'], dtype=object)"
     },
     "execution_count": 53,
     "metadata": {},
     "output_type": "execute_result"
    }
   ],
   "source": [
    "df2['手机号码'].values"
   ],
   "metadata": {
    "collapsed": false
   }
  },
  {
   "cell_type": "code",
   "execution_count": 43,
   "outputs": [
    {
     "data": {
      "text/plain": "'139****3589'"
     },
     "execution_count": 43,
     "metadata": {},
     "output_type": "execute_result"
    }
   ],
   "source": [
    "re.sub(r'(\\d{3})\\d{4}(\\d{4})', r'\\1****\\2', '13979283589')"
   ],
   "metadata": {
    "collapsed": false
   }
  },
  {
   "cell_type": "code",
   "execution_count": 44,
   "outputs": [
    {
     "data": {
      "text/plain": "            日期            会员账号         手机号码         代理  VIP等级  \\\n0  20231016-12         usj1080  156****9573  btydl0026      0   \n1  20231016-12   Li17667938597  176****8597      admin      0   \n2  20231016-12      mzj6296818  134****7695  btydl0026      0   \n3  20231016-12  jym13957188499  139****8499      admin      0   \n4  20231016-12      yhx1307799  130****9695      admin      0   \n5  20231016-12     Captain1122  188****9929      admin      0   \n6  20231016-12         fmfm123  133****5274  btydl0026      0   \n7  20231016-12          yj1316  130****3393  btydl0026      0   \n8  20231016-12     2233mwl7901  132****7901     gt0002      0   \n\n                  注册时间  状态  是否有效 意向情况  \\\n0  2023/10/15 18:28:09  正常  有效通话  无意向   \n1  2023/10/15 18:27:58  正常  无效通话  无意向   \n2  2023/10/15 18:10:39  正常  无效通话  无意向   \n3  2023/10/15 16:32:02  正常  无效通话  无意向   \n4  2023/10/15 16:22:00  正常  有效通话  无意向   \n5  2023/10/15 12:29:47  正常  无效通话  无意向   \n6  2023/10/15 07:25:58  正常  无效通话  无意向   \n7  2023/10/15 02:59:31  正常  无效通话  无意向   \n8  2023/10/15 01:48:46  正常  无效通话  无意向   \n\n                                            电销沟通内容  \n0  会员说充值没有调转出来，已告知调整了商户渠道建议网银转账及银行卡支付带点尾数比较快速到账说好的  \n1                                           联系不上会员  \n2                                           多次致电秒挂  \n3                                        秒挂再次致电通话中  \n4      会员说存款没有到账，已经发送截图给客服有添加68专员，让会员可以询问一下专属经理说好的  \n5                                           联系不上会员  \n6                                           联系不上会员  \n7                                           联系不上会员  \n8                                           联系不上会员  ",
      "text/html": "<div>\n<style scoped>\n    .dataframe tbody tr th:only-of-type {\n        vertical-align: middle;\n    }\n\n    .dataframe tbody tr th {\n        vertical-align: top;\n    }\n\n    .dataframe thead th {\n        text-align: right;\n    }\n</style>\n<table border=\"1\" class=\"dataframe\">\n  <thead>\n    <tr style=\"text-align: right;\">\n      <th></th>\n      <th>日期</th>\n      <th>会员账号</th>\n      <th>手机号码</th>\n      <th>代理</th>\n      <th>VIP等级</th>\n      <th>注册时间</th>\n      <th>状态</th>\n      <th>是否有效</th>\n      <th>意向情况</th>\n      <th>电销沟通内容</th>\n    </tr>\n  </thead>\n  <tbody>\n    <tr>\n      <th>0</th>\n      <td>20231016-12</td>\n      <td>usj1080</td>\n      <td>156****9573</td>\n      <td>btydl0026</td>\n      <td>0</td>\n      <td>2023/10/15 18:28:09</td>\n      <td>正常</td>\n      <td>有效通话</td>\n      <td>无意向</td>\n      <td>会员说充值没有调转出来，已告知调整了商户渠道建议网银转账及银行卡支付带点尾数比较快速到账说好的</td>\n    </tr>\n    <tr>\n      <th>1</th>\n      <td>20231016-12</td>\n      <td>Li17667938597</td>\n      <td>176****8597</td>\n      <td>admin</td>\n      <td>0</td>\n      <td>2023/10/15 18:27:58</td>\n      <td>正常</td>\n      <td>无效通话</td>\n      <td>无意向</td>\n      <td>联系不上会员</td>\n    </tr>\n    <tr>\n      <th>2</th>\n      <td>20231016-12</td>\n      <td>mzj6296818</td>\n      <td>134****7695</td>\n      <td>btydl0026</td>\n      <td>0</td>\n      <td>2023/10/15 18:10:39</td>\n      <td>正常</td>\n      <td>无效通话</td>\n      <td>无意向</td>\n      <td>多次致电秒挂</td>\n    </tr>\n    <tr>\n      <th>3</th>\n      <td>20231016-12</td>\n      <td>jym13957188499</td>\n      <td>139****8499</td>\n      <td>admin</td>\n      <td>0</td>\n      <td>2023/10/15 16:32:02</td>\n      <td>正常</td>\n      <td>无效通话</td>\n      <td>无意向</td>\n      <td>秒挂再次致电通话中</td>\n    </tr>\n    <tr>\n      <th>4</th>\n      <td>20231016-12</td>\n      <td>yhx1307799</td>\n      <td>130****9695</td>\n      <td>admin</td>\n      <td>0</td>\n      <td>2023/10/15 16:22:00</td>\n      <td>正常</td>\n      <td>有效通话</td>\n      <td>无意向</td>\n      <td>会员说存款没有到账，已经发送截图给客服有添加68专员，让会员可以询问一下专属经理说好的</td>\n    </tr>\n    <tr>\n      <th>5</th>\n      <td>20231016-12</td>\n      <td>Captain1122</td>\n      <td>188****9929</td>\n      <td>admin</td>\n      <td>0</td>\n      <td>2023/10/15 12:29:47</td>\n      <td>正常</td>\n      <td>无效通话</td>\n      <td>无意向</td>\n      <td>联系不上会员</td>\n    </tr>\n    <tr>\n      <th>6</th>\n      <td>20231016-12</td>\n      <td>fmfm123</td>\n      <td>133****5274</td>\n      <td>btydl0026</td>\n      <td>0</td>\n      <td>2023/10/15 07:25:58</td>\n      <td>正常</td>\n      <td>无效通话</td>\n      <td>无意向</td>\n      <td>联系不上会员</td>\n    </tr>\n    <tr>\n      <th>7</th>\n      <td>20231016-12</td>\n      <td>yj1316</td>\n      <td>130****3393</td>\n      <td>btydl0026</td>\n      <td>0</td>\n      <td>2023/10/15 02:59:31</td>\n      <td>正常</td>\n      <td>无效通话</td>\n      <td>无意向</td>\n      <td>联系不上会员</td>\n    </tr>\n    <tr>\n      <th>8</th>\n      <td>20231016-12</td>\n      <td>2233mwl7901</td>\n      <td>132****7901</td>\n      <td>gt0002</td>\n      <td>0</td>\n      <td>2023/10/15 01:48:46</td>\n      <td>正常</td>\n      <td>无效通话</td>\n      <td>无意向</td>\n      <td>联系不上会员</td>\n    </tr>\n  </tbody>\n</table>\n</div>"
     },
     "execution_count": 44,
     "metadata": {},
     "output_type": "execute_result"
    }
   ],
   "source": [
    "import re\n",
    "df3 = df2.copy()\n",
    "df3['手机号码']=df3['手机号码'].astype(str)\n",
    "df3['手机号码']=df3['手机号码'].map(lambda x:re.sub(r'(\\d{3})\\d{4}(\\d{4})', r'\\1****\\2', x))\n",
    "df3"
   ],
   "metadata": {
    "collapsed": false
   }
  }
 ],
 "metadata": {
  "kernelspec": {
   "display_name": "Python 3",
   "language": "python",
   "name": "python3"
  },
  "language_info": {
   "codemirror_mode": {
    "name": "ipython",
    "version": 2
   },
   "file_extension": ".py",
   "mimetype": "text/x-python",
   "name": "python",
   "nbconvert_exporter": "python",
   "pygments_lexer": "ipython2",
   "version": "2.7.6"
  }
 },
 "nbformat": 4,
 "nbformat_minor": 0
}
