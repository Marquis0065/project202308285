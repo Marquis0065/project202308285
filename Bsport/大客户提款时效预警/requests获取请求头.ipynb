{
 "cells": [
  {
   "cell_type": "code",
   "execution_count": 20,
   "metadata": {
    "collapsed": true
   },
   "outputs": [
    {
     "name": "stdout",
     "output_type": "stream",
     "text": [
      "{'Date': 'Fri, 18 Aug 2023 10:37:26 GMT', 'Content-Type': 'text/html', 'Content-Length': '173', 'Connection': 'keep-alive', 'Server': 'nginx/1.12.2'}\n"
     ]
    }
   ],
   "source": [
    "import requests\n",
    "# 示例用法\n",
    "url = 'http://fundmng.bsportsadmin.com/login'\n",
    "data = {\n",
    "    'username': 'Marquis',\n",
    "    'password': 'qwer123456',\n",
    "    'code': '960399'\n",
    "}\n",
    "header = {\n",
    "    'Cookie':'admin-uid=690; admin-token=15cb38bc683e4b689960dfa247e4b314',\n",
    "    'User-Agent':'Mozilla/5.0 (Windows NT 10.0; Win64; x64) AppleWebKit/537.36 (KHTML, like Gecko) Chrome/116.0.0.0 Safari/537.36'\n",
    "}\n",
    "# 发送POST请求并获取返回的响应\n",
    "response = requests.post(url,data=data,headers=header)\n",
    "# 获取返回的响应头信息\n",
    "headers = response.headers\n",
    "\n",
    "print(response.headers)"
   ]
  },
  {
   "cell_type": "code",
   "execution_count": 1,
   "outputs": [
    {
     "data": {
      "text/plain": "<telebot.types.Message at 0x1da10081110>"
     },
     "execution_count": 1,
     "metadata": {},
     "output_type": "execute_result"
    }
   ],
   "source": [
    "import telebot\n",
    "bot_DA = telebot.TeleBot(\"6106076754:AAHjxPSBpyjwpY-lq1iEslUufW46XQvAfr0\")\n",
    "bot_m = telebot.TeleBot(\"6377312623:AAGz3ZSMVswWq0QVlihRPklw8b7skSBP16Y\")\n",
    "bot_DA.send_document(-812533282,open(r\"C:\\Users\\User\\Desktop\\SEO\\数据+ip历史.xlsx\",'rb'))\n",
    "bot_m.send_document(-677235937,open(r\"C:\\Users\\User\\Desktop\\SEO\\数据+ip历史.xlsx\",'rb'))"
   ],
   "metadata": {
    "collapsed": false
   }
  }
 ],
 "metadata": {
  "kernelspec": {
   "display_name": "Python 3",
   "language": "python",
   "name": "python3"
  },
  "language_info": {
   "codemirror_mode": {
    "name": "ipython",
    "version": 2
   },
   "file_extension": ".py",
   "mimetype": "text/x-python",
   "name": "python",
   "nbconvert_exporter": "python",
   "pygments_lexer": "ipython2",
   "version": "2.7.6"
  }
 },
 "nbformat": 4,
 "nbformat_minor": 0
}
