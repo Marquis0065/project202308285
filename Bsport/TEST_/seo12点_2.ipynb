{
 "cells": [
  {
   "cell_type": "code",
   "execution_count": 2,
   "outputs": [],
   "source": [
    "from IPython.core.interactiveshell import InteractiveShell\n",
    "InteractiveShell.ast_node_interactivity = 'all'"
   ],
   "metadata": {
    "collapsed": false
   }
  },
  {
   "cell_type": "code",
   "execution_count": 7,
   "outputs": [
    {
     "name": "stdout",
     "output_type": "stream",
     "text": [
      "启动cmd。。。。\n",
      "开始运行jar包： 17:37\n",
      "jar包运行结束:  17:42\n",
      "1693238400\n",
      "1693324799\n",
      "会员首存行列： (244, 7)\n",
      "用户列表行列: (836, 4)\n",
      "去重后： (743, 4)\n"
     ]
    }
   ],
   "source": [
    "import os\n",
    "from selenium import webdriver\n",
    "from selenium.webdriver.chrome.options import Options\n",
    "from selenium.webdriver.common.by import By\n",
    "from selenium.webdriver.common.keys import Keys\n",
    "import requests\n",
    "import pandas as pd\n",
    "import numpy as np\n",
    "import jsonpath\n",
    "import json\n",
    "import time\n",
    "import datetime\n",
    "import subprocess\n",
    "import xlwings as xw\n",
    "import telebot\n",
    "import hmac, base64, struct, hashlib\n",
    "from openpyxl import Workbook, load_workbook\n",
    "from openpyxl import formatting, styles\n",
    "from openpyxl.styles import Color, PatternFill, Font, Border\n",
    "from PIL import ImageGrab\n",
    "import pyperclip\n",
    "import warnings\n",
    "warnings.filterwarnings('ignore')\n",
    "\n",
    "pd.set_option('display.max_colwidth', None) #显示单元格完整信息\n",
    "pd.set_option('display.max_columns', None)\n",
    "pd.set_option('display.max_rows', None)\n",
    "\n",
    "day = 0\n",
    "pages_user = 150\n",
    "pages_fircharge = 60\n",
    "with open(r'C:\\Users\\User\\Desktop\\SEO\\SEO代码新 0903到期.txt','r') as f:\n",
    "    access_token = f.read()\n",
    "# 启动控制台\n",
    "print('启动cmd。。。。')\n",
    "command = 'java -jar C:\\\\Users\\\\User\\\\Desktop\\\\mason-excel-0.0.1-SNAPSHOT.jar'\n",
    "process = subprocess.Popen(command, shell=True)\n",
    "\n",
    "url = 'http://fundmng.bsportsadmin.com/api/manage/fund/withdraw/record/list/history'\n",
    "session = requests.session()\n",
    "\n",
    "# 第一次获取token\n",
    "submit_url = 'http://fundmng.bsportsadmin.com/api/manage/user/admin/login/submit'\n",
    "header0 = {\n",
    "    'Accept':'application/json, text/plain, */*',\n",
    "    # 'Accept-Encoding':'gzip, deflate',\n",
    "    'Accept-Language':'zh-CN,zh;q=0.9',\n",
    "    'Connection':'keep-alive',\n",
    "    'Content-Length':'48',\n",
    "    'Content-Type':'application/x-www-form-urlencoded',\n",
    "    'Cookie':'admin-uid=690; admin-token=db76bebda5274c80adaadd40bd794f24',\n",
    "    'Device_id':'1.0',\n",
    "    'Gl_version':'2.0',\n",
    "    'Host':'fundmng.bsportsadmin.com',\n",
    "    'Language':'zh_CN',\n",
    "    'Origin':'http://fundmng.bsportsadmin.com',\n",
    "    'Os_type':'0',\n",
    "    'Referer':'http://fundmng.bsportsadmin.com/login',\n",
    "    'Sign':'2bc4c378817f47731f0adf450a627d19',\n",
    "    'Some':'header',\n",
    "    'Systemid':\"\",\n",
    "    'Timestamp':'1692415901000',\n",
    "    'Token':'-1',\n",
    "    'Uid':'-1',\n",
    "    'User-Agent':'Mozilla/5.0 (Windows NT 10.0; Win64; x64) AppleWebKit/537.36 (KHTML, like Gecko) Chrome/116.0.0.0 Safari/537.36',\n",
    "    'Version':'1.0'\n",
    "}\n",
    "def get_google_code(secret):\n",
    "    key = base64.b32decode(secret, True)\n",
    "    msg = struct.pack(\">Q\", int(time.time()) // 30)\n",
    "    google_code = hmac.new(key, msg, hashlib.sha1).digest()\n",
    "    # 很多网上的代码不可用，就在于这儿，没有chr字符串\n",
    "    o = ord(chr(google_code[19])) & 15\n",
    "    # google_code = (struct.unpack(\">I\", google_code[o:o + 4])[0] & 0x7fffffff) % 1000000\n",
    "    google_code = (struct.unpack(\">I\", google_code[o:o + 4])[0] & 0x7fffffff) % 1000000\n",
    "    return '%06d' % google_code\n",
    "\n",
    "# selenium模拟浏览器,并运行jar包，生成今日数据\n",
    "# 指定文件夹路径\n",
    "folder_path = r'C:\\Users\\User\\Desktop\\SEO\\_0816'\n",
    "# 指定文件名\n",
    "file_name = '今日数据.xlsx'\n",
    "# 判断文件是否存在\n",
    "file_path = os.path.join(folder_path, file_name)\n",
    "if os.path.exists(file_path):\n",
    "    os.remove(file_path)\n",
    "\n",
    "# handless无界面浏览器设置\n",
    "url_jar = 'http://localhost:9881/swagger-ui/index.html#/Mason%20Excel%20%E4%BA%A7%E7%94%9F/index2UsingPOST'\n",
    "chrome_options = Options()\n",
    "chrome_options.add_argument('--headless')\n",
    "chrome_options.add_argument('--disable-gpu')\n",
    "path = r'C:\\Users\\User\\IdeaProjects\\project1\\Bsport\\SEO日报\\chromedriver.exe'\n",
    "chrome_options.binary_location = path\n",
    "\n",
    "# path = r'C:\\Users\\User\\IdeaProjects\\project1\\Bsport\\SEO日报\\chromedriver.exe'\n",
    "def fun_jar():\n",
    "    browser = webdriver.Chrome(options=chrome_options)\n",
    "    browser.get(url_jar)\n",
    "    time.sleep(3)\n",
    "    button = browser.find_element(By.XPATH,'//div[@class=\"try-out\"]/button')\n",
    "    button.click()\n",
    "    time.sleep(2)\n",
    "    input = browser.find_elements(By.XPATH,'//input')\n",
    "    input[0].send_keys((datetime.datetime.now()+datetime.timedelta(days=day)).strftime('%Y%m%d'))\n",
    "    time.sleep(2)\n",
    "    outpath = r'C:\\Users\\User\\Desktop\\SEO\\_0816'+'\\\\'\n",
    "    input[2].send_keys(9999)\n",
    "    time.sleep(2)\n",
    "    input[4].send_keys(outpath)\n",
    "    time.sleep(2)\n",
    "    input[5].send_keys((datetime.datetime.now()+datetime.timedelta(days=day)).strftime('%Y%m%d'))\n",
    "    textarea = browser.find_element(By.TAG_NAME,'textarea')\n",
    "    textarea.clear()\n",
    "    textarea.send_keys(access_token)\n",
    "    time.sleep(3)\n",
    "    Execute = browser.find_element(By.XPATH,'//button[@class=\"btn execute opblock-control__btn\"]')\n",
    "    Execute.click()\n",
    "    browser.quit()\n",
    "\n",
    "# 运行模拟浏览器函数\n",
    "fun_jar()\n",
    "print('开始运行jar包：',time.strftime('%H:%M',time.localtime()))\n",
    "time.sleep(300)\n",
    "print('jar包运行结束: ',time.strftime('%H:%M',time.localtime()))\n",
    "\n",
    "for i in range(3):\n",
    "    if not os.path.exists(file_path):\n",
    "        process.terminate()\n",
    "        process.wait()\n",
    "        fun_jar()\n",
    "        time.sleep(300)\n",
    "        continue\n",
    "    break\n",
    "\n",
    "# 后续采集会员列表，首充记录、数据处理\n",
    "# 读取运行jar包的数据，及历史数据\n",
    "data_today = pd.read_excel(r'C:\\Users\\User\\Desktop\\SEO\\_0816\\今日数据.xlsx')\n",
    "data_2_today = pd.read_excel(r'C:\\Users\\User\\Desktop\\SEO\\_0816\\今日数据.xlsx','趋势分析')\n",
    "daili = pd.read_excel(r'C:\\Users\\User\\Desktop\\SEO\\数据+ip历史.xlsx','代理总表')\n",
    "his_data  = pd.read_excel(r'C:\\Users\\User\\Desktop\\SEO\\SEO总表(12点+18点).xlsx','数据(12点)_2')\n",
    "\n",
    "# 采集会员列表和会员存记录\n",
    "url_fircharge = 'http://fundmng.bsportsadmin.com/api/manage/data/detail/firstRecharge'\n",
    "url_user = 'http://fundmng.bsportsadmin.com/api/manage/user/maintain/user/list'\n",
    "session = requests.session()\n",
    "\n",
    "# 采集首存报表\n",
    "dic_fir = dict({'会员名':[], '所属代理':[],'注册时间':[], '交易时间':[], '交易类型':[], '币种':[], '金额':[]})\n",
    "# 昨天开始时间戳\n",
    "yesterday = datetime.date.today() + datetime.timedelta(days=day)\n",
    "yesterday_start_time = int(time.mktime(time.strptime(str(yesterday), '%Y-%m-%d')))\n",
    "# 昨天结束时间戳\n",
    "yesterday_end_time = int(time.mktime(time.strptime(str(datetime.date.today()+ datetime.timedelta(days=day+1)), '%Y-%m-%d'))) - 1\n",
    "print(yesterday_start_time)\n",
    "print(yesterday_end_time)\n",
    "\n",
    "#---------------------token----------------------\n",
    "# 采集token\n",
    "google_code = get_google_code('64ehnxj6yily5bhv23kgb62ozuh6yuu2')\n",
    "data0 = {\n",
    "    'username': 'Marquis',\n",
    "    'password': 'qwer123456',\n",
    "    'code': google_code\n",
    "}\n",
    "session0 = requests.Session()\n",
    "response0  =session0.post(url=submit_url,data=data0,headers=header0)\n",
    "response0.encoding = 'utf-8'\n",
    "obj0 = json.loads(response0.text)\n",
    "token = obj0['data']['token']\n",
    "\n",
    "header = {\n",
    "    'Accept':'application/json, text/plain, */*',\n",
    "    # 'Accept-Encoding':'gzip, deflate',\n",
    "    'Accept-Language':'zh-CN,zh;q=0.9',\n",
    "    'Connection':'keep-alive',\n",
    "    'Content-Length':'75',\n",
    "    'Content-Type':'application/x-www-form-urlencoded',\n",
    "    'Cookie':'admin-token=67c8b1bd1b434f898ed8570a860355b8; admin-uid=690',\n",
    "    'Device_id':'1.0',\n",
    "    'Gl_version':'2.0',\n",
    "    'Host':'fundmng.bsportsadmin.com',\n",
    "    'Language':'zh_CN',\n",
    "    'Menuid':'100112',\n",
    "    'Opeartionmenu':'%u62A5%u8868%u67E5%u8BE2-%u4F1A%u5458%u9996%u5B58%u62A5%u8868',\n",
    "    'Origin':'http://fundmng.bsportsadmin.com',\n",
    "    'Os_type':'0',\n",
    "    'Referer':'http://fundmng.bsportsadmin.com/system/report-query/report-first-recharge',\n",
    "    'Sign':'ca83944852acc68fe114cbc65f1e1d22',\n",
    "    'Some':'header',\n",
    "    'Systemid':'54',\n",
    "    'Timestamp':'1692092554000',\n",
    "    'Token':token,\n",
    "    'Uid':'690',\n",
    "    'User-Agent':'Mozilla/5.0 (Windows NT 10.0; Win64; x64) AppleWebKit/537.36 (KHTML, like Gecko) Chrome/115.0.0.0 Safari/537.36',\n",
    "    'Version':'1.0'\n",
    "}\n",
    "for page in range(1,pages_fircharge+1):\n",
    "    data = {\n",
    "        'page': page,\n",
    "        'size': 20,\n",
    "        'tradeType': 0,\n",
    "        'isFake': 0,\n",
    "        'stime': yesterday_start_time*1000,\n",
    "        'etime': yesterday_end_time*1000+999\n",
    "    }\n",
    "    response = session.post(url_fircharge,headers=header,data=data,timeout=300)\n",
    "    response.encoding = 'utf-8'\n",
    "    obj = json.loads(response.text)\n",
    "\n",
    "    for i in obj['data']['list']:\n",
    "        dic_fir['会员名'].append(i['userName'])\n",
    "        dic_fir['所属代理'].append(i['parentName'])\n",
    "        dic_fir['注册时间'].append(time.strftime('%Y/%m/%d %H:%M:%S',time.localtime(i['createTime']//1000)))\n",
    "        dic_fir['交易时间'].append(time.strftime('%Y/%m/%d %H:%M:%S',time.localtime(i['regTime']//1000)))\n",
    "        dic_fir['交易类型'].append(i['tradeType'])\n",
    "        dic_fir['币种'].append(i['coinCode'])\n",
    "        dic_fir['金额'].append(i['amount'])\n",
    "firChargeUser = pd.DataFrame(dic_fir)\n",
    "print('会员首存行列：',firChargeUser.shape)\n",
    "\n",
    "# 采集会员列表\n",
    "dic_user = dict({'会员账号':[], '姓名':[],'代理':[], '注册时间':[]})\n",
    "for page in range(1,pages_user+1):\n",
    "    data2 = {\n",
    "        'page':page,\n",
    "        'size':20,\n",
    "        'userVip':'0,1,2,3,4,5,6,7,8,9,10,11',\n",
    "        'status':'0,1,2,4',\n",
    "        'sortType':'3',\n",
    "        'sortStr':'descend',\n",
    "        'searchType':'1',\n",
    "        'channelId':'34',\n",
    "        'registeredStartDate':yesterday_start_time*1000,\n",
    "        'registeredEndDate':yesterday_end_time*1000+999,\n",
    "    }\n",
    "    response2 = session.post(url_user,headers=header,data=data2,timeout=300)\n",
    "    response2.encoding = 'utf-8'\n",
    "    obj2 = json.loads(response2.text)\n",
    "    for i in obj2['data']['list']:\n",
    "        dic_user['会员账号'].append(i['username'])\n",
    "        if i['reallyName'] !='':\n",
    "            dic_user['姓名'].append(i['reallyName'])\n",
    "        else:\n",
    "            dic_user['姓名'].append('--')\n",
    "\n",
    "        dic_user['代理'].append(i['parentName'])\n",
    "        dic_user['注册时间'].append(time.strftime('%Y/%m/%d %H:%M:%S',time.localtime(i['registerDate']//1000)))\n",
    "user = pd.DataFrame(dic_user)\n",
    "print('用户列表行列:',user.shape)\n",
    "# 删除测试账号\n",
    "user = user[~user['会员账号'].str.contains('test')&~user['会员账号'].str.contains('ceshi')]\n",
    "print('去重后：',user.shape)"
   ],
   "metadata": {
    "collapsed": false
   }
  },
  {
   "cell_type": "code",
   "execution_count": 29,
   "outputs": [
    {
     "name": "stdout",
     "output_type": "stream",
     "text": [
      "开始处理shuju...\n",
      "               日期     人员2     时间  发送IP  接收IP  对比昨天(总IP)  对比前3天均值(总IP)  \\\n",
      "人员                                                                      \n",
      "Aber   2023-08-29    aber  18:13  2231   403     -367.0    376.000000   \n",
      "Ben    2023-08-29     ben  18:13   328    90     -103.0     58.000000   \n",
      "DK     2023-08-29      dk  18:13   107  1011       -1.0    -27.000000   \n",
      "Hugo   2023-08-29    hugo  18:13  1102     0     -155.0    325.666667   \n",
      "Martin 2023-08-29  martin  18:13  1049     0     -889.0   -481.666667   \n",
      "Max    2023-08-29     max  18:13   170   145        0.0     48.000000   \n",
      "Paddy  2023-08-29   paddy  18:13     1    12        0.0      0.666667   \n",
      "Tony   2023-08-29    tony  18:13   374     0     -118.0     44.000000   \n",
      "Zed    2023-08-29     zed  18:13  3537   207     -612.0    836.000000   \n",
      "当日汇总   2023-08-29    当日汇总  18:13  8899  1868        NaN           NaN   \n",
      "\n",
      "        对比前7天均值(总IP)  对比昨天(接收IP)  对比前3天均值(接收IP)  对比前7天均值(接收IP)  对比昨天(总注册)  \\\n",
      "人员                                                                          \n",
      "Aber          327.50       -59.0     239.666667         275.50      -11.0   \n",
      "Ben            42.50         9.0      62.000000          68.50       -2.0   \n",
      "DK             -8.75      -256.0     584.666667         688.75        1.0   \n",
      "Hugo          356.25         0.0     -13.666667         -18.00       -4.0   \n",
      "Martin       -507.75         0.0     -25.333333         -30.25      -15.0   \n",
      "Max            47.25       -17.0      90.666667         103.50        NaN   \n",
      "Paddy           0.75         3.0       8.666667           9.50        NaN   \n",
      "Tony           34.75         0.0      -4.000000          -5.25       -4.0   \n",
      "Zed           750.75       -39.0     119.000000         136.50       -3.0   \n",
      "当日汇总             NaN         NaN            NaN            NaN        NaN   \n",
      "\n",
      "        对比前3天均值(总注册)  对比前7天均值(总注册)  对比昨天(总开户)  对比前3天均值(总开户)  对比前7天均值(总开户)  \\\n",
      "人员                                                                          \n",
      "Aber       13.703333       16.7825        2.0     -9.740000       -9.5550   \n",
      "Ben         0.123333        0.4425       -2.0    -32.666667      -36.5000   \n",
      "DK         -2.683333       -4.8600        0.0    -20.286667      -19.9650   \n",
      "Hugo       16.750000       19.1275       -5.0    -16.676667      -18.5725   \n",
      "Martin     11.760000       15.1325       -9.0    -11.420000      -14.1475   \n",
      "Max              NaN           NaN        NaN           NaN           NaN   \n",
      "Paddy            NaN           NaN        1.0      1.000000        1.0000   \n",
      "Tony        4.356667        5.4050        0.0    -49.186667      -38.6675   \n",
      "Zed         5.366667        6.3775       -2.0    -31.803333      -34.4625   \n",
      "当日汇总             NaN           NaN        NaN           NaN           NaN   \n",
      "\n",
      "          注册  注册率(%)    开户  转化率(%)  \n",
      "人员                                  \n",
      "Aber    27.0    1.21  11.0   40.74  \n",
      "Ben      2.0    0.61   2.0  100.00  \n",
      "DK       5.0    4.67   1.0   20.00  \n",
      "Hugo    31.0    2.81   8.0   25.81  \n",
      "Martin  28.0    2.67  11.0   39.29  \n",
      "Max      NaN     NaN   NaN     NaN  \n",
      "Paddy    NaN     NaN   1.0     NaN  \n",
      "Tony    11.0    2.94   4.0   36.36  \n",
      "Zed     10.0    0.28   2.0   20.00  \n",
      "当日汇总     NaN     NaN   NaN     NaN  \n"
     ]
    }
   ],
   "source": [
    "print('开始处理shuju...')\n",
    "shuju = pd.DataFrame({'人员':['Paddy', 'Tony', 'Max', 'Martin', 'Zed', 'Hugo', 'Aber', 'DK', 'Ben','当日汇总'],\n",
    "                      '日期':(datetime.datetime.now()+datetime.timedelta(days=day)).strftime('%Y/%m/%d'),\n",
    "                      '时间':(datetime.datetime.now()+datetime.timedelta(days=day)).strftime('%H:%M'),\n",
    "                      '发送IP':0,\n",
    "                      '接收IP':0,\n",
    "                      '对比昨天(总IP)':0,\n",
    "                      '对比前3天均值(总IP)':0,\n",
    "                      '对比前7天均值(总IP)':0,\n",
    "                      '对比昨天(接收IP)':0,\n",
    "                      '对比前3天均值(接收IP)':0,\n",
    "                      '对比前7天均值(接收IP)':0,\n",
    "                      '对比昨天(总注册)':0,\n",
    "                      '对比前3天均值(总注册)':0,\n",
    "                      '对比前7天均值(总注册)':0,\n",
    "                      '对比昨天(总开户)':0,\n",
    "                      '对比前3天均值(总开户)':0,\n",
    "                      '对比前7天均值(总开户)':0})\n",
    "\n",
    "shuju.set_index('人员',inplace = True)\n",
    "data_today['IP']=pd.to_numeric(data_today['IP'],errors='coerce').replace(np.nan,0).astype('int64')\n",
    "grp=data_today.groupby('网站名(domain)').agg({'IP':sum})\n",
    "try:\n",
    "    shuju.loc['Paddy','发送IP']=grp.loc['paddy.com','IP']\n",
    "except:\n",
    "    shuju.loc['Paddy','发送IP']=0\n",
    "try:\n",
    "    shuju.loc['Paddy','接收IP']=grp.loc['paddy.bty','IP']\n",
    "except:\n",
    "    shuju.loc['Paddy','接收IP']=0\n",
    "try:\n",
    "    shuju.loc['Tony','发送IP']=grp.loc['tonyb.com','IP']/2\n",
    "except:\n",
    "    shuju.loc['Tony', '发送IP'] = 0\n",
    "try:\n",
    "    shuju.loc['Tony','接收IP']=grp.loc['tony.bty','IP']\n",
    "except:\n",
    "    shuju.loc['Tony', '接收IP'] = 0\n",
    "try:\n",
    "    shuju.loc['Max','发送IP']=grp.loc['mulu.com','IP']\n",
    "except:\n",
    "    shuju.loc['Max', '发送IP'] = 0\n",
    "try:\n",
    "    shuju.loc['Max','接收IP']=grp.loc['max.bty','IP']\n",
    "except:\n",
    "    shuju.loc['Max', '接收IP'] = 0\n",
    "try:\n",
    "    shuju.loc['Martin','发送IP']=grp.loc['redquan.com','IP']\n",
    "except:\n",
    "    shuju.loc['Martin', '发送IP'] = 0\n",
    "try:\n",
    "    shuju.loc['Martin','接收IP']=grp.loc['martin.bty','IP']\n",
    "except:\n",
    "    shuju.loc['Martin','接收IP']=0\n",
    "try:\n",
    "    shuju.loc['Zed','发送IP']=grp.loc['zed.com','IP']\n",
    "except:\n",
    "    shuju.loc['Zed', '发送IP'] = 0\n",
    "try:\n",
    "    shuju.loc['Zed','接收IP']=grp.loc['zed.bty','IP']\n",
    "except:\n",
    "    shuju.loc['Zed', '接收IP'] = 0\n",
    "try:\n",
    "    shuju.loc['Hugo','发送IP']=grp.loc['hugo.com','IP']\n",
    "except:\n",
    "    shuju.loc['Hugo', '发送IP'] = 0\n",
    "try:\n",
    "    shuju.loc['Hugo','接收IP']=grp.loc['hugo.bty','IP']\n",
    "except:\n",
    "    shuju.loc['Hugo','接收IP']=0\n",
    "\n",
    "shuju.loc['Aber','发送IP']=grp.loc['aber.com','IP']/2\n",
    "shuju.loc['Aber','接收IP']=grp.loc['aber.bty','IP']\n",
    "shuju.loc['DK','发送IP']=grp.loc['dk.com','IP']/2\n",
    "shuju.loc['DK','接收IP']=grp.loc['dk.bty','IP']\n",
    "shuju.loc['Ben','发送IP']=grp.loc['ben.com','IP']/2\n",
    "shuju.loc['Ben','接收IP']=grp.loc['ben.bty','IP']\n",
    "shuju.loc['当日汇总','发送IP']=shuju['发送IP'].sum()\n",
    "shuju.loc['当日汇总','接收IP']=shuju['接收IP'].sum()\n",
    "\n",
    "shuju['日期'] = pd.to_datetime(shuju['日期'])\n",
    "shuju.insert(1,'人员2',shuju.index)\n",
    "shuju['人员2']=shuju['人员2'].str.lower()\n",
    "\n",
    "# 第1次merge前，重置索引\n",
    "shuju.reset_index(inplace=True)\n",
    "\n",
    "merge_user = pd.merge(user,daili,how = 'left',left_on='代理',right_on='代理线')\n",
    "grpSEO = merge_user.groupby('seo变化数据团队').agg({'seo变化数据团队':len})\n",
    "grpSEO.rename(columns={'seo变化数据团队':'注册'},inplace=True)\n",
    "grpSEO.reset_index(inplace=True)\n",
    "grpSEO['人员2'] = grpSEO['seo变化数据团队'].str.lower()\n",
    "grpSEO.set_index('seo变化数据团队',inplace=True)\n",
    "\n",
    "shuju=shuju.merge(grpSEO,on='人员2',how='left')\n",
    "\n",
    "shuju['注册率(%)'] = round(shuju['注册']/shuju['发送IP']*100,2)\n",
    "\n",
    "merge_charge = pd.merge(firChargeUser,daili,how='left',left_on='所属代理',right_on='代理线')\n",
    "grpCHARGE = merge_charge.groupby('seo变化数据团队').agg({'seo变化数据团队':len})\n",
    "grpCHARGE= grpCHARGE.rename(columns={'seo变化数据团队':'开户'})\n",
    "grpCHARGE.reset_index(inplace=True)\n",
    "grpCHARGE['seo变化数据团队']=grpCHARGE['seo变化数据团队'].str.lower()\n",
    "grpCHARGE= grpCHARGE.rename(columns={'seo变化数据团队':'人员2'})\n",
    "# 第2次merge\n",
    "shuju = pd.merge(shuju,grpCHARGE,how='left',on='人员2')\n",
    "shuju['转化率(%)'] = round(shuju['开户']/shuju['注册']*100,2)\n",
    "\n",
    "#------------\n",
    "# his_data  = pd.read_csv(r'C:\\Users\\User\\Desktop\\SEO\\SEO每日更新_814.csv',encoding='gbk')\n",
    "his_data['日期']= pd.to_datetime(his_data['日期'])\n",
    "be_data = his_data[his_data['日期']==(shuju['日期'][0]+datetime.timedelta(days=-1))][:-1]\n",
    "\n",
    "# shuju.sort_index(inplace=True)\n",
    "shuju.set_index('人员',inplace = True)\n",
    "shuju.sort_index(inplace=True)\n",
    "be_data.set_index('人员',inplace=True)\n",
    "be_data.sort_index(inplace=True)\n",
    "\n",
    "be3_data = his_data[his_data['日期']>=(shuju['日期'][0]+datetime.timedelta(days=-3))]\n",
    "be3_data = be3_data.groupby('人员').mean()[:-1]\n",
    "\n",
    "be7_data = his_data[his_data['日期']>=(shuju['日期'][0]+datetime.timedelta(days=-7))]\n",
    "be7_data = be7_data.groupby('人员').mean()[:-1]\n",
    "\n",
    "shuju['对比昨天(总IP)']=shuju['发送IP']-be_data['总IP']\n",
    "shuju['对比前3天均值(总IP)']= shuju['发送IP']-be3_data['总IP']\n",
    "shuju['对比前7天均值(总IP)']= shuju['发送IP']-be7_data['总IP']\n",
    "\n",
    "shuju['对比昨天(接收IP)']=shuju['接收IP']-be_data['接收IP']\n",
    "shuju['对比前3天均值(接收IP)']= shuju['接收IP']-be3_data['接收IP']\n",
    "shuju['对比前7天均值(接收IP)']= shuju['接收IP']-be7_data['接收IP']\n",
    "\n",
    "shuju['对比昨天(总注册)']=shuju['注册']-be_data['注册']\n",
    "shuju['对比前3天均值(总注册)']= shuju['注册']-be3_data['注册']\n",
    "shuju['对比前7天均值(总注册)']= shuju['注册']-be7_data['注册']\n",
    "\n",
    "shuju['对比昨天(总开户)']=shuju['开户']-be_data['开户']\n",
    "shuju['对比前3天均值(总开户)']= shuju['开户']-be3_data['开户']\n",
    "shuju['对比前7天均值(总开户)']= shuju['开户']-be7_data['开户']\n",
    "print(shuju)"
   ],
   "metadata": {
    "collapsed": false
   }
  },
  {
   "cell_type": "code",
   "execution_count": 30,
   "outputs": [
    {
     "name": "stdout",
     "output_type": "stream",
     "text": [
      "shuju处理完成。。。。\n"
     ]
    },
    {
     "data": {
      "text/plain": "               日期     时间      人员  发送IP  接收IP   注册  注册率(%)  开户  转化率(%)  \\\n人员                                                                      \nAber   2023-08-29  18:13    Aber  2231   403   27    1.21  11   40.74   \nBen    2023-08-29  18:13     Ben   328    90    2    0.61   2  100.00   \nDK     2023-08-29  18:13      DK   107  1011    5    4.67   1   20.00   \nHugo   2023-08-29  18:13    Hugo  1102     0   31    2.81   8   25.81   \nMartin 2023-08-29  18:13  Martin  1049     0   28    2.67  11   39.29   \nMax    2023-08-29  18:13     Max   170   145    0    0.00   0    0.00   \nPaddy  2023-08-29  18:13   Paddy     1    12    0    0.00   1    0.00   \nTony   2023-08-29  18:13    Tony   374     0   11    2.94   4   36.36   \nZed    2023-08-29  18:13     Zed  3537   207   10    0.28   2   20.00   \n当日汇总   2023-08-29  18:13    当日汇总  8899  1868  114    1.28  40   35.09   \n\n        对比昨天(总IP)  对比前3天均值(总IP)  对比前7天均值(总IP)  对比昨天(接收IP)  对比前3天均值(接收IP)  \\\n人员                                                                         \nAber         -367           376           327         -59            239   \nBen          -103            58            42           9             62   \nDK             -1           -27            -8        -256            584   \nHugo         -155           325           356           0            -13   \nMartin       -889          -481          -507           0            -25   \nMax             0            48            47         -17             90   \nPaddy           0             0             0           3              8   \nTony         -118            44            34           0             -4   \nZed          -612           836           750         -39            119   \n当日汇总        -2245          1179          1041        -359           1060   \n\n        对比前7天均值(接收IP)  对比昨天(总注册)  对比前3天均值(总注册)  对比前7天均值(总注册)  对比昨天(总开户)  \\\n人员                                                                        \nAber              275        -11            13            16          2   \nBen                68         -2             0             0         -2   \nDK                688          1            -2            -4          0   \nHugo              -18         -4            16            19         -5   \nMartin            -30        -15            11            15         -9   \nMax               103          0             0             0          0   \nPaddy               9          0             0             0          1   \nTony               -5         -4             4             5          0   \nZed               136         -3             5             6         -2   \n当日汇总             1226        -38            47            57        -15   \n\n        对比前3天均值(总开户)  对比前7天均值(总开户)  \n人员                                  \nAber              -9            -9  \nBen              -32           -36  \nDK               -20           -19  \nHugo             -16           -18  \nMartin           -11           -14  \nMax                0             0  \nPaddy              1             1  \nTony             -49           -38  \nZed              -31           -34  \n当日汇总            -167          -167  ",
      "text/html": "<div>\n<style scoped>\n    .dataframe tbody tr th:only-of-type {\n        vertical-align: middle;\n    }\n\n    .dataframe tbody tr th {\n        vertical-align: top;\n    }\n\n    .dataframe thead th {\n        text-align: right;\n    }\n</style>\n<table border=\"1\" class=\"dataframe\">\n  <thead>\n    <tr style=\"text-align: right;\">\n      <th></th>\n      <th>日期</th>\n      <th>时间</th>\n      <th>人员</th>\n      <th>发送IP</th>\n      <th>接收IP</th>\n      <th>注册</th>\n      <th>注册率(%)</th>\n      <th>开户</th>\n      <th>转化率(%)</th>\n      <th>对比昨天(总IP)</th>\n      <th>对比前3天均值(总IP)</th>\n      <th>对比前7天均值(总IP)</th>\n      <th>对比昨天(接收IP)</th>\n      <th>对比前3天均值(接收IP)</th>\n      <th>对比前7天均值(接收IP)</th>\n      <th>对比昨天(总注册)</th>\n      <th>对比前3天均值(总注册)</th>\n      <th>对比前7天均值(总注册)</th>\n      <th>对比昨天(总开户)</th>\n      <th>对比前3天均值(总开户)</th>\n      <th>对比前7天均值(总开户)</th>\n    </tr>\n    <tr>\n      <th>人员</th>\n      <th></th>\n      <th></th>\n      <th></th>\n      <th></th>\n      <th></th>\n      <th></th>\n      <th></th>\n      <th></th>\n      <th></th>\n      <th></th>\n      <th></th>\n      <th></th>\n      <th></th>\n      <th></th>\n      <th></th>\n      <th></th>\n      <th></th>\n      <th></th>\n      <th></th>\n      <th></th>\n      <th></th>\n    </tr>\n  </thead>\n  <tbody>\n    <tr>\n      <th>Aber</th>\n      <td>2023-08-29</td>\n      <td>18:13</td>\n      <td>Aber</td>\n      <td>2231</td>\n      <td>403</td>\n      <td>27</td>\n      <td>1.21</td>\n      <td>11</td>\n      <td>40.74</td>\n      <td>-367</td>\n      <td>376</td>\n      <td>327</td>\n      <td>-59</td>\n      <td>239</td>\n      <td>275</td>\n      <td>-11</td>\n      <td>13</td>\n      <td>16</td>\n      <td>2</td>\n      <td>-9</td>\n      <td>-9</td>\n    </tr>\n    <tr>\n      <th>Ben</th>\n      <td>2023-08-29</td>\n      <td>18:13</td>\n      <td>Ben</td>\n      <td>328</td>\n      <td>90</td>\n      <td>2</td>\n      <td>0.61</td>\n      <td>2</td>\n      <td>100.00</td>\n      <td>-103</td>\n      <td>58</td>\n      <td>42</td>\n      <td>9</td>\n      <td>62</td>\n      <td>68</td>\n      <td>-2</td>\n      <td>0</td>\n      <td>0</td>\n      <td>-2</td>\n      <td>-32</td>\n      <td>-36</td>\n    </tr>\n    <tr>\n      <th>DK</th>\n      <td>2023-08-29</td>\n      <td>18:13</td>\n      <td>DK</td>\n      <td>107</td>\n      <td>1011</td>\n      <td>5</td>\n      <td>4.67</td>\n      <td>1</td>\n      <td>20.00</td>\n      <td>-1</td>\n      <td>-27</td>\n      <td>-8</td>\n      <td>-256</td>\n      <td>584</td>\n      <td>688</td>\n      <td>1</td>\n      <td>-2</td>\n      <td>-4</td>\n      <td>0</td>\n      <td>-20</td>\n      <td>-19</td>\n    </tr>\n    <tr>\n      <th>Hugo</th>\n      <td>2023-08-29</td>\n      <td>18:13</td>\n      <td>Hugo</td>\n      <td>1102</td>\n      <td>0</td>\n      <td>31</td>\n      <td>2.81</td>\n      <td>8</td>\n      <td>25.81</td>\n      <td>-155</td>\n      <td>325</td>\n      <td>356</td>\n      <td>0</td>\n      <td>-13</td>\n      <td>-18</td>\n      <td>-4</td>\n      <td>16</td>\n      <td>19</td>\n      <td>-5</td>\n      <td>-16</td>\n      <td>-18</td>\n    </tr>\n    <tr>\n      <th>Martin</th>\n      <td>2023-08-29</td>\n      <td>18:13</td>\n      <td>Martin</td>\n      <td>1049</td>\n      <td>0</td>\n      <td>28</td>\n      <td>2.67</td>\n      <td>11</td>\n      <td>39.29</td>\n      <td>-889</td>\n      <td>-481</td>\n      <td>-507</td>\n      <td>0</td>\n      <td>-25</td>\n      <td>-30</td>\n      <td>-15</td>\n      <td>11</td>\n      <td>15</td>\n      <td>-9</td>\n      <td>-11</td>\n      <td>-14</td>\n    </tr>\n    <tr>\n      <th>Max</th>\n      <td>2023-08-29</td>\n      <td>18:13</td>\n      <td>Max</td>\n      <td>170</td>\n      <td>145</td>\n      <td>0</td>\n      <td>0.00</td>\n      <td>0</td>\n      <td>0.00</td>\n      <td>0</td>\n      <td>48</td>\n      <td>47</td>\n      <td>-17</td>\n      <td>90</td>\n      <td>103</td>\n      <td>0</td>\n      <td>0</td>\n      <td>0</td>\n      <td>0</td>\n      <td>0</td>\n      <td>0</td>\n    </tr>\n    <tr>\n      <th>Paddy</th>\n      <td>2023-08-29</td>\n      <td>18:13</td>\n      <td>Paddy</td>\n      <td>1</td>\n      <td>12</td>\n      <td>0</td>\n      <td>0.00</td>\n      <td>1</td>\n      <td>0.00</td>\n      <td>0</td>\n      <td>0</td>\n      <td>0</td>\n      <td>3</td>\n      <td>8</td>\n      <td>9</td>\n      <td>0</td>\n      <td>0</td>\n      <td>0</td>\n      <td>1</td>\n      <td>1</td>\n      <td>1</td>\n    </tr>\n    <tr>\n      <th>Tony</th>\n      <td>2023-08-29</td>\n      <td>18:13</td>\n      <td>Tony</td>\n      <td>374</td>\n      <td>0</td>\n      <td>11</td>\n      <td>2.94</td>\n      <td>4</td>\n      <td>36.36</td>\n      <td>-118</td>\n      <td>44</td>\n      <td>34</td>\n      <td>0</td>\n      <td>-4</td>\n      <td>-5</td>\n      <td>-4</td>\n      <td>4</td>\n      <td>5</td>\n      <td>0</td>\n      <td>-49</td>\n      <td>-38</td>\n    </tr>\n    <tr>\n      <th>Zed</th>\n      <td>2023-08-29</td>\n      <td>18:13</td>\n      <td>Zed</td>\n      <td>3537</td>\n      <td>207</td>\n      <td>10</td>\n      <td>0.28</td>\n      <td>2</td>\n      <td>20.00</td>\n      <td>-612</td>\n      <td>836</td>\n      <td>750</td>\n      <td>-39</td>\n      <td>119</td>\n      <td>136</td>\n      <td>-3</td>\n      <td>5</td>\n      <td>6</td>\n      <td>-2</td>\n      <td>-31</td>\n      <td>-34</td>\n    </tr>\n    <tr>\n      <th>当日汇总</th>\n      <td>2023-08-29</td>\n      <td>18:13</td>\n      <td>当日汇总</td>\n      <td>8899</td>\n      <td>1868</td>\n      <td>114</td>\n      <td>1.28</td>\n      <td>40</td>\n      <td>35.09</td>\n      <td>-2245</td>\n      <td>1179</td>\n      <td>1041</td>\n      <td>-359</td>\n      <td>1060</td>\n      <td>1226</td>\n      <td>-38</td>\n      <td>47</td>\n      <td>57</td>\n      <td>-15</td>\n      <td>-167</td>\n      <td>-167</td>\n    </tr>\n  </tbody>\n</table>\n</div>"
     },
     "execution_count": 30,
     "metadata": {},
     "output_type": "execute_result"
    }
   ],
   "source": [
    "shuju = shuju.iloc[:,:5].join(shuju.iloc[:,-4:]).join(shuju.iloc[:,5:-4])\n",
    "shuju.fillna(0,inplace=True)\n",
    "\n",
    "shuju.loc[:,'对比昨天(总IP)':]=shuju.loc[:,'对比昨天(总IP)':].astype('int64')\n",
    "shuju['注册'] = shuju['注册'].astype('int64')\n",
    "shuju['开户'] = shuju['开户'].astype('int64')\n",
    "\n",
    "for i in shuju.iloc[:,5:].columns:\n",
    "    shuju.loc['当日汇总',i]=sum(shuju[i])\n",
    "\n",
    "# 重置三个率\n",
    "shuju.loc['当日汇总','注册率(%)']=round(shuju.loc['当日汇总','注册']/shuju.loc['当日汇总','发送IP']*100,2)\n",
    "shuju.loc['当日汇总','转化率(%)']=round(shuju.loc['当日汇总','开户']/shuju.loc['当日汇总','注册']*100,2)\n",
    "\n",
    "shuju.insert(3,'人员',shuju.index)\n",
    "shuju.drop('人员2',inplace=True,axis=1)\n",
    "print('shuju处理完成。。。。')\n",
    "be_data = his_data[his_data['日期']==(shuju['日期'][0]+datetime.timedelta(days=-1))]"
   ],
   "metadata": {
    "collapsed": false
   }
  },
  {
   "cell_type": "code",
   "execution_count": 32,
   "outputs": [
    {
     "data": {
      "text/plain": "           日期        时间      人员    总IP  接收IP     注册  注册率(%)    开户  转化率(%)  \\\n30 2023-08-28  18:51:00    Aber   2598   462   38.0    1.46   9.0   23.68   \n31 2023-08-28  18:51:00     Ben    431    81    4.0    0.93   4.0  100.00   \n32 2023-08-28  18:51:00      DK    108  1267    4.0    3.70   1.0   25.00   \n33 2023-08-28  18:51:00    Hugo   1257     0   35.0    2.78  13.0   37.14   \n34 2023-08-28  18:51:00  Martin   1938     0   43.0    2.22  20.0   46.51   \n35 2023-08-28  18:51:00     Max    170   162    1.0    0.59   0.0    0.00   \n36 2023-08-28  18:51:00   Paddy      1     9    0.0    0.00   0.0    0.00   \n37 2023-08-28  18:51:00    Tony    492     0   15.0    3.05   4.0   26.67   \n38 2023-08-28  18:51:00     Zed   4149   246   13.0    0.31   4.0   30.77   \n39 2023-08-28  18:51:00    当日汇总  11144  4454  153.0    1.37  55.0   35.95   \n\n    对比昨天(总IP)  对比前3天均值(总IP)  对比前7天均值(总IP)  对比昨天(接收IP)  对比前3天均值(接收IP)  \\\n30       1123           926           926       443.0          446.0   \n31        256           194           194        79.0           79.0   \n32       -145           -10           -10      1262.0         1259.0   \n33        601           681           681       -24.0          -24.0   \n34        581           508           508       -39.0          -40.0   \n35         76            63            63       161.0          160.0   \n36          1             1             1         9.0            8.0   \n37        233           203           203        -3.0           -7.0   \n38       2089          1817          1817       235.0          234.0   \n39       4815          4383          4383      2123.0         2115.0   \n\n    对比前7天均值(接收IP)  对比昨天(总注册)  对比前3天均值(总注册)  对比前7天均值(总注册)  对比昨天(总开户)  \\\n30          446.0         36            37            37        -33   \n31           79.0          2             3             3          4   \n32         1259.0          2            -7            -7        -19   \n33          -24.0         31            30            30        -24   \n34          -40.0         40            40            40         -5   \n35          160.0          0             0             0          0   \n36            8.0          0             0             0          0   \n37           -7.0         13            12            12        -96   \n38          234.0         12            12            12        -50   \n39         2115.0        136           127           127       -223   \n\n    对比前3天均值(总开户)  对比前7天均值(总开户)  \n30           -15           -15  \n31           -46           -46  \n32           -26           -26  \n33           -18           -18  \n34            -6            -6  \n35             0             0  \n36             0             0  \n37           -51           -51  \n38           -43           -43  \n39          -205          -205  ",
      "text/html": "<div>\n<style scoped>\n    .dataframe tbody tr th:only-of-type {\n        vertical-align: middle;\n    }\n\n    .dataframe tbody tr th {\n        vertical-align: top;\n    }\n\n    .dataframe thead th {\n        text-align: right;\n    }\n</style>\n<table border=\"1\" class=\"dataframe\">\n  <thead>\n    <tr style=\"text-align: right;\">\n      <th></th>\n      <th>日期</th>\n      <th>时间</th>\n      <th>人员</th>\n      <th>总IP</th>\n      <th>接收IP</th>\n      <th>注册</th>\n      <th>注册率(%)</th>\n      <th>开户</th>\n      <th>转化率(%)</th>\n      <th>对比昨天(总IP)</th>\n      <th>对比前3天均值(总IP)</th>\n      <th>对比前7天均值(总IP)</th>\n      <th>对比昨天(接收IP)</th>\n      <th>对比前3天均值(接收IP)</th>\n      <th>对比前7天均值(接收IP)</th>\n      <th>对比昨天(总注册)</th>\n      <th>对比前3天均值(总注册)</th>\n      <th>对比前7天均值(总注册)</th>\n      <th>对比昨天(总开户)</th>\n      <th>对比前3天均值(总开户)</th>\n      <th>对比前7天均值(总开户)</th>\n    </tr>\n  </thead>\n  <tbody>\n    <tr>\n      <th>30</th>\n      <td>2023-08-28</td>\n      <td>18:51:00</td>\n      <td>Aber</td>\n      <td>2598</td>\n      <td>462</td>\n      <td>38.0</td>\n      <td>1.46</td>\n      <td>9.0</td>\n      <td>23.68</td>\n      <td>1123</td>\n      <td>926</td>\n      <td>926</td>\n      <td>443.0</td>\n      <td>446.0</td>\n      <td>446.0</td>\n      <td>36</td>\n      <td>37</td>\n      <td>37</td>\n      <td>-33</td>\n      <td>-15</td>\n      <td>-15</td>\n    </tr>\n    <tr>\n      <th>31</th>\n      <td>2023-08-28</td>\n      <td>18:51:00</td>\n      <td>Ben</td>\n      <td>431</td>\n      <td>81</td>\n      <td>4.0</td>\n      <td>0.93</td>\n      <td>4.0</td>\n      <td>100.00</td>\n      <td>256</td>\n      <td>194</td>\n      <td>194</td>\n      <td>79.0</td>\n      <td>79.0</td>\n      <td>79.0</td>\n      <td>2</td>\n      <td>3</td>\n      <td>3</td>\n      <td>4</td>\n      <td>-46</td>\n      <td>-46</td>\n    </tr>\n    <tr>\n      <th>32</th>\n      <td>2023-08-28</td>\n      <td>18:51:00</td>\n      <td>DK</td>\n      <td>108</td>\n      <td>1267</td>\n      <td>4.0</td>\n      <td>3.70</td>\n      <td>1.0</td>\n      <td>25.00</td>\n      <td>-145</td>\n      <td>-10</td>\n      <td>-10</td>\n      <td>1262.0</td>\n      <td>1259.0</td>\n      <td>1259.0</td>\n      <td>2</td>\n      <td>-7</td>\n      <td>-7</td>\n      <td>-19</td>\n      <td>-26</td>\n      <td>-26</td>\n    </tr>\n    <tr>\n      <th>33</th>\n      <td>2023-08-28</td>\n      <td>18:51:00</td>\n      <td>Hugo</td>\n      <td>1257</td>\n      <td>0</td>\n      <td>35.0</td>\n      <td>2.78</td>\n      <td>13.0</td>\n      <td>37.14</td>\n      <td>601</td>\n      <td>681</td>\n      <td>681</td>\n      <td>-24.0</td>\n      <td>-24.0</td>\n      <td>-24.0</td>\n      <td>31</td>\n      <td>30</td>\n      <td>30</td>\n      <td>-24</td>\n      <td>-18</td>\n      <td>-18</td>\n    </tr>\n    <tr>\n      <th>34</th>\n      <td>2023-08-28</td>\n      <td>18:51:00</td>\n      <td>Martin</td>\n      <td>1938</td>\n      <td>0</td>\n      <td>43.0</td>\n      <td>2.22</td>\n      <td>20.0</td>\n      <td>46.51</td>\n      <td>581</td>\n      <td>508</td>\n      <td>508</td>\n      <td>-39.0</td>\n      <td>-40.0</td>\n      <td>-40.0</td>\n      <td>40</td>\n      <td>40</td>\n      <td>40</td>\n      <td>-5</td>\n      <td>-6</td>\n      <td>-6</td>\n    </tr>\n    <tr>\n      <th>35</th>\n      <td>2023-08-28</td>\n      <td>18:51:00</td>\n      <td>Max</td>\n      <td>170</td>\n      <td>162</td>\n      <td>1.0</td>\n      <td>0.59</td>\n      <td>0.0</td>\n      <td>0.00</td>\n      <td>76</td>\n      <td>63</td>\n      <td>63</td>\n      <td>161.0</td>\n      <td>160.0</td>\n      <td>160.0</td>\n      <td>0</td>\n      <td>0</td>\n      <td>0</td>\n      <td>0</td>\n      <td>0</td>\n      <td>0</td>\n    </tr>\n    <tr>\n      <th>36</th>\n      <td>2023-08-28</td>\n      <td>18:51:00</td>\n      <td>Paddy</td>\n      <td>1</td>\n      <td>9</td>\n      <td>0.0</td>\n      <td>0.00</td>\n      <td>0.0</td>\n      <td>0.00</td>\n      <td>1</td>\n      <td>1</td>\n      <td>1</td>\n      <td>9.0</td>\n      <td>8.0</td>\n      <td>8.0</td>\n      <td>0</td>\n      <td>0</td>\n      <td>0</td>\n      <td>0</td>\n      <td>0</td>\n      <td>0</td>\n    </tr>\n    <tr>\n      <th>37</th>\n      <td>2023-08-28</td>\n      <td>18:51:00</td>\n      <td>Tony</td>\n      <td>492</td>\n      <td>0</td>\n      <td>15.0</td>\n      <td>3.05</td>\n      <td>4.0</td>\n      <td>26.67</td>\n      <td>233</td>\n      <td>203</td>\n      <td>203</td>\n      <td>-3.0</td>\n      <td>-7.0</td>\n      <td>-7.0</td>\n      <td>13</td>\n      <td>12</td>\n      <td>12</td>\n      <td>-96</td>\n      <td>-51</td>\n      <td>-51</td>\n    </tr>\n    <tr>\n      <th>38</th>\n      <td>2023-08-28</td>\n      <td>18:51:00</td>\n      <td>Zed</td>\n      <td>4149</td>\n      <td>246</td>\n      <td>13.0</td>\n      <td>0.31</td>\n      <td>4.0</td>\n      <td>30.77</td>\n      <td>2089</td>\n      <td>1817</td>\n      <td>1817</td>\n      <td>235.0</td>\n      <td>234.0</td>\n      <td>234.0</td>\n      <td>12</td>\n      <td>12</td>\n      <td>12</td>\n      <td>-50</td>\n      <td>-43</td>\n      <td>-43</td>\n    </tr>\n    <tr>\n      <th>39</th>\n      <td>2023-08-28</td>\n      <td>18:51:00</td>\n      <td>当日汇总</td>\n      <td>11144</td>\n      <td>4454</td>\n      <td>153.0</td>\n      <td>1.37</td>\n      <td>55.0</td>\n      <td>35.95</td>\n      <td>4815</td>\n      <td>4383</td>\n      <td>4383</td>\n      <td>2123.0</td>\n      <td>2115.0</td>\n      <td>2115.0</td>\n      <td>136</td>\n      <td>127</td>\n      <td>127</td>\n      <td>-223</td>\n      <td>-205</td>\n      <td>-205</td>\n    </tr>\n  </tbody>\n</table>\n</div>"
     },
     "execution_count": 32,
     "metadata": {},
     "output_type": "execute_result"
    },
    {
     "data": {
      "text/plain": "               日期     时间      人员  发送IP  接收IP   注册  注册率(%)  开户  转化率(%)  \\\n人员                                                                      \nAber   2023-08-29  18:13    Aber  2231   403   27    1.21  11   40.74   \nBen    2023-08-29  18:13     Ben   328    90    2    0.61   2  100.00   \nDK     2023-08-29  18:13      DK   107  1011    5    4.67   1   20.00   \nHugo   2023-08-29  18:13    Hugo  1102     0   31    2.81   8   25.81   \nMartin 2023-08-29  18:13  Martin  1049     0   28    2.67  11   39.29   \nMax    2023-08-29  18:13     Max   170   145    0    0.00   0    0.00   \nPaddy  2023-08-29  18:13   Paddy     1    12    0    0.00   1    0.00   \nTony   2023-08-29  18:13    Tony   374     0   11    2.94   4   36.36   \nZed    2023-08-29  18:13     Zed  3537   207   10    0.28   2   20.00   \n当日汇总   2023-08-29  18:13    当日汇总  8899  1868  114    1.28  40   35.09   \n\n        对比昨天(总IP)  对比前3天均值(总IP)  对比前7天均值(总IP)  对比昨天(接收IP)  对比前3天均值(接收IP)  \\\n人员                                                                         \nAber         -367           376           327         -59            239   \nBen          -103            58            42           9             62   \nDK             -1           -27            -8        -256            584   \nHugo         -155           325           356           0            -13   \nMartin       -889          -481          -507           0            -25   \nMax             0            48            47         -17             90   \nPaddy           0             0             0           3              8   \nTony         -118            44            34           0             -4   \nZed          -612           836           750         -39            119   \n当日汇总        -2245          1179          1041        -359           1060   \n\n        对比前7天均值(接收IP)  对比昨天(总注册)  对比前3天均值(总注册)  对比前7天均值(总注册)  对比昨天(总开户)  \\\n人员                                                                        \nAber              275        -11            13            16          2   \nBen                68         -2             0             0         -2   \nDK                688          1            -2            -4          0   \nHugo              -18         -4            16            19         -5   \nMartin            -30        -15            11            15         -9   \nMax               103          0             0             0          0   \nPaddy               9          0             0             0          1   \nTony               -5         -4             4             5          0   \nZed               136         -3             5             6         -2   \n当日汇总             1226        -38            47            57        -15   \n\n        对比前3天均值(总开户)  对比前7天均值(总开户)  \n人员                                  \nAber              -9            -9  \nBen              -32           -36  \nDK               -20           -19  \nHugo             -16           -18  \nMartin           -11           -14  \nMax                0             0  \nPaddy              1             1  \nTony             -49           -38  \nZed              -31           -34  \n当日汇总            -167          -167  ",
      "text/html": "<div>\n<style scoped>\n    .dataframe tbody tr th:only-of-type {\n        vertical-align: middle;\n    }\n\n    .dataframe tbody tr th {\n        vertical-align: top;\n    }\n\n    .dataframe thead th {\n        text-align: right;\n    }\n</style>\n<table border=\"1\" class=\"dataframe\">\n  <thead>\n    <tr style=\"text-align: right;\">\n      <th></th>\n      <th>日期</th>\n      <th>时间</th>\n      <th>人员</th>\n      <th>发送IP</th>\n      <th>接收IP</th>\n      <th>注册</th>\n      <th>注册率(%)</th>\n      <th>开户</th>\n      <th>转化率(%)</th>\n      <th>对比昨天(总IP)</th>\n      <th>对比前3天均值(总IP)</th>\n      <th>对比前7天均值(总IP)</th>\n      <th>对比昨天(接收IP)</th>\n      <th>对比前3天均值(接收IP)</th>\n      <th>对比前7天均值(接收IP)</th>\n      <th>对比昨天(总注册)</th>\n      <th>对比前3天均值(总注册)</th>\n      <th>对比前7天均值(总注册)</th>\n      <th>对比昨天(总开户)</th>\n      <th>对比前3天均值(总开户)</th>\n      <th>对比前7天均值(总开户)</th>\n    </tr>\n    <tr>\n      <th>人员</th>\n      <th></th>\n      <th></th>\n      <th></th>\n      <th></th>\n      <th></th>\n      <th></th>\n      <th></th>\n      <th></th>\n      <th></th>\n      <th></th>\n      <th></th>\n      <th></th>\n      <th></th>\n      <th></th>\n      <th></th>\n      <th></th>\n      <th></th>\n      <th></th>\n      <th></th>\n      <th></th>\n      <th></th>\n    </tr>\n  </thead>\n  <tbody>\n    <tr>\n      <th>Aber</th>\n      <td>2023-08-29</td>\n      <td>18:13</td>\n      <td>Aber</td>\n      <td>2231</td>\n      <td>403</td>\n      <td>27</td>\n      <td>1.21</td>\n      <td>11</td>\n      <td>40.74</td>\n      <td>-367</td>\n      <td>376</td>\n      <td>327</td>\n      <td>-59</td>\n      <td>239</td>\n      <td>275</td>\n      <td>-11</td>\n      <td>13</td>\n      <td>16</td>\n      <td>2</td>\n      <td>-9</td>\n      <td>-9</td>\n    </tr>\n    <tr>\n      <th>Ben</th>\n      <td>2023-08-29</td>\n      <td>18:13</td>\n      <td>Ben</td>\n      <td>328</td>\n      <td>90</td>\n      <td>2</td>\n      <td>0.61</td>\n      <td>2</td>\n      <td>100.00</td>\n      <td>-103</td>\n      <td>58</td>\n      <td>42</td>\n      <td>9</td>\n      <td>62</td>\n      <td>68</td>\n      <td>-2</td>\n      <td>0</td>\n      <td>0</td>\n      <td>-2</td>\n      <td>-32</td>\n      <td>-36</td>\n    </tr>\n    <tr>\n      <th>DK</th>\n      <td>2023-08-29</td>\n      <td>18:13</td>\n      <td>DK</td>\n      <td>107</td>\n      <td>1011</td>\n      <td>5</td>\n      <td>4.67</td>\n      <td>1</td>\n      <td>20.00</td>\n      <td>-1</td>\n      <td>-27</td>\n      <td>-8</td>\n      <td>-256</td>\n      <td>584</td>\n      <td>688</td>\n      <td>1</td>\n      <td>-2</td>\n      <td>-4</td>\n      <td>0</td>\n      <td>-20</td>\n      <td>-19</td>\n    </tr>\n    <tr>\n      <th>Hugo</th>\n      <td>2023-08-29</td>\n      <td>18:13</td>\n      <td>Hugo</td>\n      <td>1102</td>\n      <td>0</td>\n      <td>31</td>\n      <td>2.81</td>\n      <td>8</td>\n      <td>25.81</td>\n      <td>-155</td>\n      <td>325</td>\n      <td>356</td>\n      <td>0</td>\n      <td>-13</td>\n      <td>-18</td>\n      <td>-4</td>\n      <td>16</td>\n      <td>19</td>\n      <td>-5</td>\n      <td>-16</td>\n      <td>-18</td>\n    </tr>\n    <tr>\n      <th>Martin</th>\n      <td>2023-08-29</td>\n      <td>18:13</td>\n      <td>Martin</td>\n      <td>1049</td>\n      <td>0</td>\n      <td>28</td>\n      <td>2.67</td>\n      <td>11</td>\n      <td>39.29</td>\n      <td>-889</td>\n      <td>-481</td>\n      <td>-507</td>\n      <td>0</td>\n      <td>-25</td>\n      <td>-30</td>\n      <td>-15</td>\n      <td>11</td>\n      <td>15</td>\n      <td>-9</td>\n      <td>-11</td>\n      <td>-14</td>\n    </tr>\n    <tr>\n      <th>Max</th>\n      <td>2023-08-29</td>\n      <td>18:13</td>\n      <td>Max</td>\n      <td>170</td>\n      <td>145</td>\n      <td>0</td>\n      <td>0.00</td>\n      <td>0</td>\n      <td>0.00</td>\n      <td>0</td>\n      <td>48</td>\n      <td>47</td>\n      <td>-17</td>\n      <td>90</td>\n      <td>103</td>\n      <td>0</td>\n      <td>0</td>\n      <td>0</td>\n      <td>0</td>\n      <td>0</td>\n      <td>0</td>\n    </tr>\n    <tr>\n      <th>Paddy</th>\n      <td>2023-08-29</td>\n      <td>18:13</td>\n      <td>Paddy</td>\n      <td>1</td>\n      <td>12</td>\n      <td>0</td>\n      <td>0.00</td>\n      <td>1</td>\n      <td>0.00</td>\n      <td>0</td>\n      <td>0</td>\n      <td>0</td>\n      <td>3</td>\n      <td>8</td>\n      <td>9</td>\n      <td>0</td>\n      <td>0</td>\n      <td>0</td>\n      <td>1</td>\n      <td>1</td>\n      <td>1</td>\n    </tr>\n    <tr>\n      <th>Tony</th>\n      <td>2023-08-29</td>\n      <td>18:13</td>\n      <td>Tony</td>\n      <td>374</td>\n      <td>0</td>\n      <td>11</td>\n      <td>2.94</td>\n      <td>4</td>\n      <td>36.36</td>\n      <td>-118</td>\n      <td>44</td>\n      <td>34</td>\n      <td>0</td>\n      <td>-4</td>\n      <td>-5</td>\n      <td>-4</td>\n      <td>4</td>\n      <td>5</td>\n      <td>0</td>\n      <td>-49</td>\n      <td>-38</td>\n    </tr>\n    <tr>\n      <th>Zed</th>\n      <td>2023-08-29</td>\n      <td>18:13</td>\n      <td>Zed</td>\n      <td>3537</td>\n      <td>207</td>\n      <td>10</td>\n      <td>0.28</td>\n      <td>2</td>\n      <td>20.00</td>\n      <td>-612</td>\n      <td>836</td>\n      <td>750</td>\n      <td>-39</td>\n      <td>119</td>\n      <td>136</td>\n      <td>-3</td>\n      <td>5</td>\n      <td>6</td>\n      <td>-2</td>\n      <td>-31</td>\n      <td>-34</td>\n    </tr>\n    <tr>\n      <th>当日汇总</th>\n      <td>2023-08-29</td>\n      <td>18:13</td>\n      <td>当日汇总</td>\n      <td>8899</td>\n      <td>1868</td>\n      <td>114</td>\n      <td>1.28</td>\n      <td>40</td>\n      <td>35.09</td>\n      <td>-2245</td>\n      <td>1179</td>\n      <td>1041</td>\n      <td>-359</td>\n      <td>1060</td>\n      <td>1226</td>\n      <td>-38</td>\n      <td>47</td>\n      <td>57</td>\n      <td>-15</td>\n      <td>-167</td>\n      <td>-167</td>\n    </tr>\n  </tbody>\n</table>\n</div>"
     },
     "execution_count": 32,
     "metadata": {},
     "output_type": "execute_result"
    }
   ],
   "source": [
    "\n",
    "be_data\n",
    "shuju"
   ],
   "metadata": {
    "collapsed": false
   }
  },
  {
   "cell_type": "code",
   "execution_count": 38,
   "outputs": [
    {
     "data": {
      "text/plain": "44"
     },
     "execution_count": 38,
     "metadata": {},
     "output_type": "execute_result"
    },
    {
     "data": {
      "text/plain": "48"
     },
     "execution_count": 38,
     "metadata": {},
     "output_type": "execute_result"
    },
    {
     "data": {
      "text/plain": "48"
     },
     "execution_count": 38,
     "metadata": {},
     "output_type": "execute_result"
    },
    {
     "data": {
      "text/plain": "1"
     },
     "execution_count": 38,
     "metadata": {},
     "output_type": "execute_result"
    },
    {
     "data": {
      "text/plain": "10"
     },
     "execution_count": 38,
     "metadata": {},
     "output_type": "execute_result"
    },
    {
     "data": {
      "text/plain": "4"
     },
     "execution_count": 38,
     "metadata": {},
     "output_type": "execute_result"
    },
    {
     "data": {
      "text/plain": "2"
     },
     "execution_count": 38,
     "metadata": {},
     "output_type": "execute_result"
    },
    {
     "data": {
      "text/plain": "60"
     },
     "execution_count": 38,
     "metadata": {},
     "output_type": "execute_result"
    },
    {
     "data": {
      "text/plain": "3"
     },
     "execution_count": 38,
     "metadata": {},
     "output_type": "execute_result"
    },
    {
     "data": {
      "text/plain": "2"
     },
     "execution_count": 38,
     "metadata": {},
     "output_type": "execute_result"
    },
    {
     "data": {
      "text/plain": "59"
     },
     "execution_count": 38,
     "metadata": {},
     "output_type": "execute_result"
    },
    {
     "data": {
      "text/plain": "2"
     },
     "execution_count": 38,
     "metadata": {},
     "output_type": "execute_result"
    },
    {
     "data": {
      "text/plain": "2"
     },
     "execution_count": 38,
     "metadata": {},
     "output_type": "execute_result"
    },
    {
     "data": {
      "text/plain": "95"
     },
     "execution_count": 38,
     "metadata": {},
     "output_type": "execute_result"
    },
    {
     "data": {
      "text/plain": "4"
     },
     "execution_count": 38,
     "metadata": {},
     "output_type": "execute_result"
    },
    {
     "data": {
      "text/plain": "2"
     },
     "execution_count": 38,
     "metadata": {},
     "output_type": "execute_result"
    },
    {
     "data": {
      "text/plain": "93"
     },
     "execution_count": 38,
     "metadata": {},
     "output_type": "execute_result"
    },
    {
     "data": {
      "text/plain": "6"
     },
     "execution_count": 38,
     "metadata": {},
     "output_type": "execute_result"
    },
    {
     "data": {
      "text/plain": "2"
     },
     "execution_count": 38,
     "metadata": {},
     "output_type": "execute_result"
    },
    {
     "data": {
      "text/plain": "109"
     },
     "execution_count": 38,
     "metadata": {},
     "output_type": "execute_result"
    },
    {
     "data": {
      "text/plain": "3"
     },
     "execution_count": 38,
     "metadata": {},
     "output_type": "execute_result"
    },
    {
     "data": {
      "text/plain": "2"
     },
     "execution_count": 38,
     "metadata": {},
     "output_type": "execute_result"
    },
    {
     "data": {
      "text/plain": "15"
     },
     "execution_count": 38,
     "metadata": {},
     "output_type": "execute_result"
    },
    {
     "data": {
      "text/plain": "5"
     },
     "execution_count": 38,
     "metadata": {},
     "output_type": "execute_result"
    },
    {
     "data": {
      "text/plain": "2"
     },
     "execution_count": 38,
     "metadata": {},
     "output_type": "execute_result"
    },
    {
     "data": {
      "text/plain": "3"
     },
     "execution_count": 38,
     "metadata": {},
     "output_type": "execute_result"
    },
    {
     "data": {
      "text/plain": "4"
     },
     "execution_count": 38,
     "metadata": {},
     "output_type": "execute_result"
    },
    {
     "data": {
      "text/plain": "2"
     },
     "execution_count": 38,
     "metadata": {},
     "output_type": "execute_result"
    },
    {
     "data": {
      "text/plain": "80"
     },
     "execution_count": 38,
     "metadata": {},
     "output_type": "execute_result"
    },
    {
     "data": {
      "text/plain": "3"
     },
     "execution_count": 38,
     "metadata": {},
     "output_type": "execute_result"
    },
    {
     "data": {
      "text/plain": "2"
     },
     "execution_count": 38,
     "metadata": {},
     "output_type": "execute_result"
    },
    {
     "data": {
      "text/plain": "73"
     },
     "execution_count": 38,
     "metadata": {},
     "output_type": "execute_result"
    },
    {
     "data": {
      "text/plain": "1"
     },
     "execution_count": 38,
     "metadata": {},
     "output_type": "execute_result"
    },
    {
     "ename": "TypeError",
     "evalue": "'<' not supported between instances of 'str' and 'int'",
     "output_type": "error",
     "traceback": [
      "\u001B[1;31m---------------------------------------------------------------------------\u001B[0m",
      "\u001B[1;31mTypeError\u001B[0m                                 Traceback (most recent call last)",
      "Cell \u001B[1;32mIn[38], line 13\u001B[0m\n\u001B[0;32m     11\u001B[0m     f\u001B[38;5;241m.\u001B[39mwrite(\u001B[38;5;28mstr\u001B[39m(\u001B[38;5;28mlist\u001B[39m(shuju\u001B[38;5;241m.\u001B[39miloc[:,\u001B[38;5;241m11\u001B[39m:]\u001B[38;5;241m.\u001B[39miloc[i,:][shuju\u001B[38;5;241m.\u001B[39miloc[:,\u001B[38;5;241m11\u001B[39m:]\u001B[38;5;241m.\u001B[39miloc[i,:]\u001B[38;5;241m<\u001B[39m\u001B[38;5;241m0\u001B[39m]\u001B[38;5;241m.\u001B[39mindex))\u001B[38;5;241m+\u001B[39m\u001B[38;5;124m'\u001B[39m\u001B[38;5;130;01m\\n\u001B[39;00m\u001B[38;5;124m'\u001B[39m)\n\u001B[0;32m     12\u001B[0m f\u001B[38;5;241m.\u001B[39mwrite(\u001B[38;5;124m'\u001B[39m\u001B[38;5;130;01m\\n\u001B[39;00m\u001B[38;5;124m'\u001B[39m)\n\u001B[1;32m---> 13\u001B[0m f\u001B[38;5;241m.\u001B[39mwrite(\u001B[38;5;124mf\u001B[39m\u001B[38;5;124m'\u001B[39m\u001B[38;5;124m转化率<30%的人员：\u001B[39m\u001B[38;5;132;01m{\u001B[39;00m\u001B[38;5;28mstr\u001B[39m(\u001B[38;5;28mlist\u001B[39m(shuju[:\u001B[38;5;241m-\u001B[39m\u001B[38;5;241m1\u001B[39m]\u001B[38;5;241m.\u001B[39mloc[shuju[:\u001B[38;5;241m-\u001B[39m\u001B[38;5;241m1\u001B[39m][\u001B[38;5;124m\"\u001B[39m\u001B[38;5;124m转化率(\u001B[39m\u001B[38;5;124m%\u001B[39m\u001B[38;5;124m)\u001B[39m\u001B[38;5;124m\"\u001B[39m]\u001B[38;5;241m<\u001B[39m\u001B[38;5;241m30\u001B[39m,:][\u001B[38;5;124m\"\u001B[39m\u001B[38;5;124m人员\u001B[39m\u001B[38;5;124m\"\u001B[39m]))\u001B[38;5;132;01m}\u001B[39;00m\u001B[38;5;124m'\u001B[39m)\n",
      "File \u001B[1;32mC:\\ProgramData\\anaconda3\\envs\\schedule\\Lib\\site-packages\\pandas\\core\\ops\\common.py:72\u001B[0m, in \u001B[0;36m_unpack_zerodim_and_defer.<locals>.new_method\u001B[1;34m(self, other)\u001B[0m\n\u001B[0;32m     68\u001B[0m             \u001B[38;5;28;01mreturn\u001B[39;00m \u001B[38;5;28mNotImplemented\u001B[39m\n\u001B[0;32m     70\u001B[0m other \u001B[38;5;241m=\u001B[39m item_from_zerodim(other)\n\u001B[1;32m---> 72\u001B[0m \u001B[38;5;28;01mreturn\u001B[39;00m method(\u001B[38;5;28mself\u001B[39m, other)\n",
      "File \u001B[1;32mC:\\ProgramData\\anaconda3\\envs\\schedule\\Lib\\site-packages\\pandas\\core\\arraylike.py:50\u001B[0m, in \u001B[0;36mOpsMixin.__lt__\u001B[1;34m(self, other)\u001B[0m\n\u001B[0;32m     48\u001B[0m \u001B[38;5;129m@unpack_zerodim_and_defer\u001B[39m(\u001B[38;5;124m\"\u001B[39m\u001B[38;5;124m__lt__\u001B[39m\u001B[38;5;124m\"\u001B[39m)\n\u001B[0;32m     49\u001B[0m \u001B[38;5;28;01mdef\u001B[39;00m \u001B[38;5;21m__lt__\u001B[39m(\u001B[38;5;28mself\u001B[39m, other):\n\u001B[1;32m---> 50\u001B[0m     \u001B[38;5;28;01mreturn\u001B[39;00m \u001B[38;5;28mself\u001B[39m\u001B[38;5;241m.\u001B[39m_cmp_method(other, operator\u001B[38;5;241m.\u001B[39mlt)\n",
      "File \u001B[1;32mC:\\ProgramData\\anaconda3\\envs\\schedule\\Lib\\site-packages\\pandas\\core\\series.py:6243\u001B[0m, in \u001B[0;36mSeries._cmp_method\u001B[1;34m(self, other, op)\u001B[0m\n\u001B[0;32m   6240\u001B[0m rvalues \u001B[38;5;241m=\u001B[39m extract_array(other, extract_numpy\u001B[38;5;241m=\u001B[39m\u001B[38;5;28;01mTrue\u001B[39;00m, extract_range\u001B[38;5;241m=\u001B[39m\u001B[38;5;28;01mTrue\u001B[39;00m)\n\u001B[0;32m   6242\u001B[0m \u001B[38;5;28;01mwith\u001B[39;00m np\u001B[38;5;241m.\u001B[39merrstate(\u001B[38;5;28mall\u001B[39m\u001B[38;5;241m=\u001B[39m\u001B[38;5;124m\"\u001B[39m\u001B[38;5;124mignore\u001B[39m\u001B[38;5;124m\"\u001B[39m):\n\u001B[1;32m-> 6243\u001B[0m     res_values \u001B[38;5;241m=\u001B[39m ops\u001B[38;5;241m.\u001B[39mcomparison_op(lvalues, rvalues, op)\n\u001B[0;32m   6245\u001B[0m \u001B[38;5;28;01mreturn\u001B[39;00m \u001B[38;5;28mself\u001B[39m\u001B[38;5;241m.\u001B[39m_construct_result(res_values, name\u001B[38;5;241m=\u001B[39mres_name)\n",
      "File \u001B[1;32mC:\\ProgramData\\anaconda3\\envs\\schedule\\Lib\\site-packages\\pandas\\core\\ops\\array_ops.py:287\u001B[0m, in \u001B[0;36mcomparison_op\u001B[1;34m(left, right, op)\u001B[0m\n\u001B[0;32m    284\u001B[0m     \u001B[38;5;28;01mreturn\u001B[39;00m invalid_comparison(lvalues, rvalues, op)\n\u001B[0;32m    286\u001B[0m \u001B[38;5;28;01melif\u001B[39;00m is_object_dtype(lvalues\u001B[38;5;241m.\u001B[39mdtype) \u001B[38;5;129;01mor\u001B[39;00m \u001B[38;5;28misinstance\u001B[39m(rvalues, \u001B[38;5;28mstr\u001B[39m):\n\u001B[1;32m--> 287\u001B[0m     res_values \u001B[38;5;241m=\u001B[39m comp_method_OBJECT_ARRAY(op, lvalues, rvalues)\n\u001B[0;32m    289\u001B[0m \u001B[38;5;28;01melse\u001B[39;00m:\n\u001B[0;32m    290\u001B[0m     res_values \u001B[38;5;241m=\u001B[39m _na_arithmetic_op(lvalues, rvalues, op, is_cmp\u001B[38;5;241m=\u001B[39m\u001B[38;5;28;01mTrue\u001B[39;00m)\n",
      "File \u001B[1;32mC:\\ProgramData\\anaconda3\\envs\\schedule\\Lib\\site-packages\\pandas\\core\\ops\\array_ops.py:75\u001B[0m, in \u001B[0;36mcomp_method_OBJECT_ARRAY\u001B[1;34m(op, x, y)\u001B[0m\n\u001B[0;32m     73\u001B[0m     result \u001B[38;5;241m=\u001B[39m libops\u001B[38;5;241m.\u001B[39mvec_compare(x\u001B[38;5;241m.\u001B[39mravel(), y\u001B[38;5;241m.\u001B[39mravel(), op)\n\u001B[0;32m     74\u001B[0m \u001B[38;5;28;01melse\u001B[39;00m:\n\u001B[1;32m---> 75\u001B[0m     result \u001B[38;5;241m=\u001B[39m libops\u001B[38;5;241m.\u001B[39mscalar_compare(x\u001B[38;5;241m.\u001B[39mravel(), y, op)\n\u001B[0;32m     76\u001B[0m \u001B[38;5;28;01mreturn\u001B[39;00m result\u001B[38;5;241m.\u001B[39mreshape(x\u001B[38;5;241m.\u001B[39mshape)\n",
      "File \u001B[1;32mC:\\ProgramData\\anaconda3\\envs\\schedule\\Lib\\site-packages\\pandas\\_libs\\ops.pyx:107\u001B[0m, in \u001B[0;36mpandas._libs.ops.scalar_compare\u001B[1;34m()\u001B[0m\n",
      "\u001B[1;31mTypeError\u001B[0m: '<' not supported between instances of 'str' and 'int'"
     ]
    }
   ],
   "source": [
    "with open(r'C:\\Users\\User\\Desktop\\SEO\\截图文件\\seo_12.txt','w') as f:\n",
    "    f.write(f'截止今日12点,   注册:  {shuju.loc[\"当日汇总\",\"注册\"]} ,开户:  {shuju.loc[\"当日汇总\",\"开户\"]}，整体'\n",
    "            f'转化率 : {shuju.loc[\"当日汇总\",\"转化率(%)\"]}%\\n')\n",
    "    f.write(f\"对比昨日12点,   注册:  {be_data.loc[be_data['人员']=='当日汇总','注册'].values[0]} ,开户:  {be_data.loc[be_data['人员']=='当日汇总','开户'].values[0]}，整体转化率 : {be_data.loc[be_data['人员']=='当日汇总','转化率(%)'].values[0]}%\\n\")\n",
    "    f.write(f'同比昨日变化,   注册:  {shuju.loc[\"当日汇总\",\"注册\"]-be_data.loc[be_data[\"人员\"]==\"当日汇总\",\"注册\"].values[0]} ,开户:  {shuju.loc[\"当日汇总\",\"开户\"]-be_data.loc[be_data[\"人员\"]==\"当日汇总\",\"开户\"].values[0]}，整体转化率 : {round(shuju.loc[\"当日汇总\",\"转化率(%)\"]-be_data.loc[be_data[\"人员\"]==\"当日汇总\",\"转化率(%)\"].values[0],2)}%\\n')\n",
    "    f.write('\\n')\n",
    "    f.write(f'人员下降指标如下：\\n')\n",
    "    for i in range(9):\n",
    "        f.write(shuju.iloc[i,:]['人员'])\n",
    "        f.write(', ')\n",
    "        f.write(str(list(shuju.iloc[:,11:].iloc[i,:][shuju.iloc[:,11:].iloc[i,:]<0].index))+'\\n')\n",
    "    f.write('\\n')\n",
    "    f.write(f'转化率<30%的人员：{str(list(shuju[:-1].loc[shuju[:-1][\"转化率(%)\"]<30,:][\"人员\"]))}')"
   ],
   "metadata": {
    "collapsed": false
   }
  },
  {
   "cell_type": "code",
   "execution_count": null,
   "outputs": [],
   "source": [],
   "metadata": {
    "collapsed": false
   }
  },
  {
   "cell_type": "code",
   "execution_count": 36,
   "outputs": [
    {
     "data": {
      "text/plain": "True"
     },
     "execution_count": 36,
     "metadata": {},
     "output_type": "execute_result"
    },
    {
     "data": {
      "text/plain": "<telebot.types.Message at 0x20243d84210>"
     },
     "execution_count": 36,
     "metadata": {},
     "output_type": "execute_result"
    },
    {
     "data": {
      "text/plain": "<telebot.types.Message at 0x202426b0710>"
     },
     "execution_count": 36,
     "metadata": {},
     "output_type": "execute_result"
    },
    {
     "name": "stdout",
     "output_type": "stream",
     "text": [
      "                         日期     时间      人员  发送IP  接收IP   注册  注册率(%)  开户  \\\n",
      "Aber    2023-08-29 00:00:00  18:13    Aber  2231   403   27    1.21  11   \n",
      "Ben     2023-08-29 00:00:00  18:13     Ben   328    90    2    0.61   2   \n",
      "DK      2023-08-29 00:00:00  18:13      DK   107  1011    5    4.67   1   \n",
      "Hugo    2023-08-29 00:00:00  18:13    Hugo  1102     0   31    2.81   8   \n",
      "Martin  2023-08-29 00:00:00  18:13  Martin  1049     0   28    2.67  11   \n",
      "Max     2023-08-29 00:00:00  18:13     Max   170   145    0     0.0   0   \n",
      "Paddy   2023-08-29 00:00:00  18:13   Paddy     1    12    0     0.0   1   \n",
      "Tony    2023-08-29 00:00:00  18:13    Tony   374     0   11    2.94   4   \n",
      "Zed     2023-08-29 00:00:00  18:13     Zed  3537   207   10    0.28   2   \n",
      "当日汇总    2023-08-29 00:00:00  18:13    当日汇总  8899  1868  114    1.28  40   \n",
      "0                        日期     时间      人员   总IP  接收IP   注册  注册率(%)  开户   \n",
      "0                        日期     时间      人员   总IP  接收IP   注册  注册率(%)  开户   \n",
      "\n",
      "        转化率(%)  对比昨天(总IP)  对比前3天均值(总IP)  对比前7天均值(总IP)  对比昨天(接收IP)  \\\n",
      "Aber     40.74       -367           376           327         -59   \n",
      "Ben      100.0       -103            58            42           9   \n",
      "DK        20.0         -1           -27            -8        -256   \n",
      "Hugo     25.81       -155           325           356           0   \n",
      "Martin   39.29       -889          -481          -507           0   \n",
      "Max        0.0          0            48            47         -17   \n",
      "Paddy      0.0          0             0             0           3   \n",
      "Tony     36.36       -118            44            34           0   \n",
      "Zed       20.0       -612           836           750         -39   \n",
      "当日汇总     35.09      -2245          1179          1041        -359   \n",
      "0       转化率(%)  对比昨天(总IP)  对比前3天均值(总IP)  对比前7天均值(总IP)  对比昨天(接收IP)   \n",
      "0       转化率(%)  对比昨天(总IP)  对比前3天均值(总IP)  对比前7天均值(总IP)  对比昨天(接收IP)   \n",
      "\n",
      "        对比前3天均值(接收IP)  对比前7天均值(接收IP)  对比昨天(总注册)  对比前3天均值(总注册)  对比前7天均值(总注册)  \\\n",
      "Aber              239            275        -11            13            16   \n",
      "Ben                62             68         -2             0             0   \n",
      "DK                584            688          1            -2            -4   \n",
      "Hugo              -13            -18         -4            16            19   \n",
      "Martin            -25            -30        -15            11            15   \n",
      "Max                90            103          0             0             0   \n",
      "Paddy               8              9          0             0             0   \n",
      "Tony               -4             -5         -4             4             5   \n",
      "Zed               119            136         -3             5             6   \n",
      "当日汇总             1060           1226        -38            47            57   \n",
      "0       对比前3天均值(接收IP)  对比前7天均值(接收IP)  对比昨天(总注册)  对比前3天均值(总注册)  对比前7天均值(总注册)   \n",
      "0       对比前3天均值(接收IP)  对比前7天均值(接收IP)  对比昨天(总注册)  对比前3天均值(总注册)  对比前7天均值(总注册)   \n",
      "\n",
      "        对比昨天(总开户)  对比前3天均值(总开户)  对比前7天均值(总开户)  \n",
      "Aber            2            -9            -9  \n",
      "Ben            -2           -32           -36  \n",
      "DK              0           -20           -19  \n",
      "Hugo           -5           -16           -18  \n",
      "Martin         -9           -11           -14  \n",
      "Max             0             0             0  \n",
      "Paddy           1             1             1  \n",
      "Tony            0           -49           -38  \n",
      "Zed            -2           -31           -34  \n",
      "当日汇总          -15          -167          -167  \n",
      "0       对比昨天(总开户)  对比前3天均值(总开户)  对比前7天均值(总开户)  \n",
      "0       对比昨天(总开户)  对比前3天均值(总开户)  对比前7天均值(总开户)  \n"
     ]
    }
   ],
   "source": [
    "# 增加行末表头\n",
    "header_shuju = pd.DataFrame({'日期':'日期',\n",
    "                             '时间':'时间',\n",
    "                             '人员':'人员',\n",
    "                             '发送IP':'总IP',\n",
    "                             '接收IP':'接收IP',\n",
    "                             '注册':'注册',\n",
    "                             '注册率(%)':'注册率(%)',\n",
    "                             '开户':'开户',\n",
    "                             '转化率(%)':'转化率(%)',\n",
    "                             '对比昨天(总IP)':'对比昨天(总IP)',\n",
    "                             '对比前3天均值(总IP)':'对比前3天均值(总IP)',\n",
    "                             '对比前7天均值(总IP)':'对比前7天均值(总IP)',\n",
    "                             '对比昨天(接收IP)':'对比昨天(接收IP)',\n",
    "                             '对比前3天均值(接收IP)':'对比前3天均值(接收IP)',\n",
    "                             '对比前7天均值(接收IP)':'对比前7天均值(接收IP)',\n",
    "                             '对比昨天(总注册)':'对比昨天(总注册)',\n",
    "                             '对比前3天均值(总注册)':'对比前3天均值(总注册)',\n",
    "                             '对比前7天均值(总注册)':'对比前7天均值(总注册)',\n",
    "                             '对比昨天(总开户)':'对比昨天(总开户)',\n",
    "                             '对比前3天均值(总开户)':'对比前3天均值(总开户)',\n",
    "                             '对比前7天均值(总开户)':'对比前7天均值(总开户)'},index=[0])\n",
    "shuju = shuju.append(header_shuju)\n",
    "app = xw.App(visible=False,add_book=False)\n",
    "book = app.books.open(r'C:\\Users\\User\\Desktop\\SEO\\SEO总表(12点+18点).xlsx')\n",
    "\n",
    "sheet_shuju = book.sheets['数据(12点)_2']\n",
    "row_shuju = sheet_shuju.used_range.last_cell.row\n",
    "\n",
    "sheet_shuju['A'+str(row_shuju+1)].options(index=False,header = False).value = shuju\n",
    "# sheet_ip['A'+str(row_ip+1)].options(index=False,header = False).value = ip_data\n",
    "book.save()\n",
    "book.close()\n",
    "\n",
    "# # 添加条件格式\n",
    "wb = load_workbook(r'C:\\Users\\User\\Desktop\\SEO\\SEO总表(12点+18点).xlsx')\n",
    "ws = wb['数据(12点)_2']\n",
    "redFill = Font(color='FF0000')\n",
    "ws.conditional_formatting.add(f'K{row_shuju +1}:U{row_shuju+10}',\n",
    "                              formatting.rule.CellIsRule(operator='lessThan',\n",
    "                                                         formula=['0'],\n",
    "                                                         font=redFill))\n",
    "wb.save(filename=r'C:\\Users\\User\\Desktop\\SEO\\SEO总表(12点+18点).xlsx')\n",
    "wb.close()\n",
    "# # 保存截图\n",
    "book2 = app.books.open(r'C:\\Users\\User\\Desktop\\SEO\\SEO总表(12点+18点).xlsx')\n",
    "sheet2_shuju = book2.sheets['数据(12点)_2']\n",
    "# sheet2_ip =  book2.sheets['ip历史']\n",
    "range_shuju = sheet2_shuju.range(f'A{row_shuju+1}:U{row_shuju+11}')\n",
    "range_shuju.api.CopyPicture()\n",
    "img_shuju = ImageGrab.grabclipboard()  # 获取剪贴板的图片数据\n",
    "img_shuju.save(r'C:\\Users\\User\\Desktop\\SEO\\截图文件\\shuju(12h)-2.png')  # 保存图片\n",
    "# pyperclip.copy('')\n",
    "# # 删除行末表头\n",
    "def delete_row(sheet, row_index):\n",
    "    range_obj = sheet.range(f'A{row_index}:A{row_index}')\n",
    "    range_obj.api.EntireRow.Delete()\n",
    "delete_row(sheet2_shuju,row_shuju+11)\n",
    "time.sleep(2)\n",
    "#\n",
    "\n",
    "book2.save()\n",
    "book2.close()\n",
    "app.quit()\n",
    "# # 发送到群\n",
    "with open(r'C:\\Users\\User\\Desktop\\SEO\\截图文件\\seo_12.txt','r') as f:\n",
    "    text = f.read()\n",
    "\n",
    "bot_DA = telebot.TeleBot(\"6106076754:AAHjxPSBpyjwpY-lq1iEslUufW46XQvAfr0\")\n",
    "bot_DA.send_photo(-677235937,open(r'C:\\Users\\User\\Desktop\\SEO\\截图文件\\shuju(12h)-2.png','rb'))\n",
    "bot_DA.send_message(-677235937,text)\n",
    "bot_DA.stop_polling()\n",
    "# 查看\n",
    "print(shuju)"
   ],
   "metadata": {
    "collapsed": false
   }
  },
  {
   "cell_type": "code",
   "execution_count": 19,
   "outputs": [
    {
     "name": "stdout",
     "output_type": "stream",
     "text": [
      "<class 'pandas.core.frame.DataFrame'>\n",
      "RangeIndex: 40 entries, 0 to 39\n",
      "Data columns (total 21 columns):\n",
      " #   Column         Non-Null Count  Dtype         \n",
      "---  ------         --------------  -----         \n",
      " 0   日期             40 non-null     datetime64[ns]\n",
      " 1   时间             40 non-null     object        \n",
      " 2   人员             40 non-null     object        \n",
      " 3   总IP            40 non-null     int64         \n",
      " 4   接收IP           40 non-null     int64         \n",
      " 5   注册             39 non-null     float64       \n",
      " 6   注册率(%)         40 non-null     float64       \n",
      " 7   开户             40 non-null     float64       \n",
      " 8   转化率(%)         40 non-null     float64       \n",
      " 9   对比昨天(总IP)      40 non-null     int64         \n",
      " 10  对比前3天均值(总IP)   40 non-null     int64         \n",
      " 11  对比前7天均值(总IP)   40 non-null     int64         \n",
      " 12  对比昨天(接收IP)     10 non-null     float64       \n",
      " 13  对比前3天均值(接收IP)  10 non-null     float64       \n",
      " 14  对比前7天均值(接收IP)  10 non-null     float64       \n",
      " 15  对比昨天(总注册)      40 non-null     int64         \n",
      " 16  对比前3天均值(总注册)   40 non-null     int64         \n",
      " 17  对比前7天均值(总注册)   40 non-null     int64         \n",
      " 18  对比昨天(总开户)      40 non-null     int64         \n",
      " 19  对比前3天均值(总开户)   40 non-null     int64         \n",
      " 20  对比前7天均值(总开户)   40 non-null     int64         \n",
      "dtypes: datetime64[ns](1), float64(7), int64(11), object(2)\n",
      "memory usage: 6.7+ KB\n"
     ]
    }
   ],
   "source": [
    "his_data.info()"
   ],
   "metadata": {
    "collapsed": false
   }
  }
 ],
 "metadata": {
  "kernelspec": {
   "display_name": "Python 3",
   "language": "python",
   "name": "python3"
  },
  "language_info": {
   "codemirror_mode": {
    "name": "ipython",
    "version": 2
   },
   "file_extension": ".py",
   "mimetype": "text/x-python",
   "name": "python",
   "nbconvert_exporter": "python",
   "pygments_lexer": "ipython2",
   "version": "2.7.6"
  }
 },
 "nbformat": 4,
 "nbformat_minor": 0
}
