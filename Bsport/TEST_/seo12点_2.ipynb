{
 "cells": [
  {
   "cell_type": "code",
   "execution_count": 39,
   "outputs": [],
   "source": [
    "from IPython.core.interactiveshell import InteractiveShell\n",
    "InteractiveShell.ast_node_interactivity = 'all'"
   ],
   "metadata": {
    "collapsed": false
   }
  },
  {
   "cell_type": "code",
   "execution_count": 40,
   "outputs": [
    {
     "name": "stdout",
     "output_type": "stream",
     "text": [
      "启动cmd。。。。\n",
      "开始运行jar包： 11:12\n",
      "jar包运行结束:  11:17\n",
      "1693324800\n",
      "1693411199\n",
      "会员首存行列： (117, 7)\n",
      "用户列表行列: (403, 4)\n",
      "去重后： (341, 4)\n"
     ]
    }
   ],
   "source": [
    "import os\n",
    "from selenium import webdriver\n",
    "from selenium.webdriver.chrome.options import Options\n",
    "from selenium.webdriver.common.by import By\n",
    "from selenium.webdriver.common.keys import Keys\n",
    "import requests\n",
    "import pandas as pd\n",
    "import numpy as np\n",
    "import jsonpath\n",
    "import json\n",
    "import time\n",
    "import datetime\n",
    "import subprocess\n",
    "import xlwings as xw\n",
    "import telebot\n",
    "import hmac, base64, struct, hashlib\n",
    "from openpyxl import Workbook, load_workbook\n",
    "from openpyxl import formatting, styles\n",
    "from openpyxl.styles import Color, PatternFill, Font, Border\n",
    "from PIL import ImageGrab\n",
    "import pyperclip\n",
    "import warnings\n",
    "warnings.filterwarnings('ignore')\n",
    "\n",
    "pd.set_option('display.max_colwidth', None) #显示单元格完整信息\n",
    "pd.set_option('display.max_columns', None)\n",
    "pd.set_option('display.max_rows', None)\n",
    "\n",
    "day = 0\n",
    "pages_user = 150\n",
    "pages_fircharge = 60\n",
    "with open(r'C:\\Users\\User\\Desktop\\SEO\\SEO代码新 0903到期.txt','r') as f:\n",
    "    access_token = f.read()\n",
    "# 启动控制台\n",
    "print('启动cmd。。。。')\n",
    "command = 'java -jar C:\\\\Users\\\\User\\\\Desktop\\\\mason-excel-0.0.1-SNAPSHOT.jar'\n",
    "process = subprocess.Popen(command, shell=True)\n",
    "\n",
    "url = 'http://fundmng.bsportsadmin.com/api/manage/fund/withdraw/record/list/history'\n",
    "session = requests.session()\n",
    "\n",
    "# 第一次获取token\n",
    "submit_url = 'http://fundmng.bsportsadmin.com/api/manage/user/admin/login/submit'\n",
    "header0 = {\n",
    "    'Accept':'application/json, text/plain, */*',\n",
    "    # 'Accept-Encoding':'gzip, deflate',\n",
    "    'Accept-Language':'zh-CN,zh;q=0.9',\n",
    "    'Connection':'keep-alive',\n",
    "    'Content-Length':'48',\n",
    "    'Content-Type':'application/x-www-form-urlencoded',\n",
    "    'Cookie':'admin-uid=690; admin-token=db76bebda5274c80adaadd40bd794f24',\n",
    "    'Device_id':'1.0',\n",
    "    'Gl_version':'2.0',\n",
    "    'Host':'fundmng.bsportsadmin.com',\n",
    "    'Language':'zh_CN',\n",
    "    'Origin':'http://fundmng.bsportsadmin.com',\n",
    "    'Os_type':'0',\n",
    "    'Referer':'http://fundmng.bsportsadmin.com/login',\n",
    "    'Sign':'2bc4c378817f47731f0adf450a627d19',\n",
    "    'Some':'header',\n",
    "    'Systemid':\"\",\n",
    "    'Timestamp':'1692415901000',\n",
    "    'Token':'-1',\n",
    "    'Uid':'-1',\n",
    "    'User-Agent':'Mozilla/5.0 (Windows NT 10.0; Win64; x64) AppleWebKit/537.36 (KHTML, like Gecko) Chrome/116.0.0.0 Safari/537.36',\n",
    "    'Version':'1.0'\n",
    "}\n",
    "def get_google_code(secret):\n",
    "    key = base64.b32decode(secret, True)\n",
    "    msg = struct.pack(\">Q\", int(time.time()) // 30)\n",
    "    google_code = hmac.new(key, msg, hashlib.sha1).digest()\n",
    "    # 很多网上的代码不可用，就在于这儿，没有chr字符串\n",
    "    o = ord(chr(google_code[19])) & 15\n",
    "    # google_code = (struct.unpack(\">I\", google_code[o:o + 4])[0] & 0x7fffffff) % 1000000\n",
    "    google_code = (struct.unpack(\">I\", google_code[o:o + 4])[0] & 0x7fffffff) % 1000000\n",
    "    return '%06d' % google_code\n",
    "\n",
    "# selenium模拟浏览器,并运行jar包，生成今日数据\n",
    "# 指定文件夹路径\n",
    "folder_path = r'C:\\Users\\User\\Desktop\\SEO\\_0816'\n",
    "# 指定文件名\n",
    "file_name = '今日数据.xlsx'\n",
    "# 判断文件是否存在\n",
    "file_path = os.path.join(folder_path, file_name)\n",
    "if os.path.exists(file_path):\n",
    "    os.remove(file_path)\n",
    "\n",
    "# handless无界面浏览器设置\n",
    "url_jar = 'http://localhost:9881/swagger-ui/index.html#/Mason%20Excel%20%E4%BA%A7%E7%94%9F/index2UsingPOST'\n",
    "chrome_options = Options()\n",
    "chrome_options.add_argument('--headless')\n",
    "chrome_options.add_argument('--disable-gpu')\n",
    "path = r'C:\\Users\\User\\IdeaProjects\\project1\\Bsport\\SEO日报\\chromedriver.exe'\n",
    "chrome_options.binary_location = path\n",
    "\n",
    "# path = r'C:\\Users\\User\\IdeaProjects\\project1\\Bsport\\SEO日报\\chromedriver.exe'\n",
    "def fun_jar():\n",
    "    browser = webdriver.Chrome(options=chrome_options)\n",
    "    browser.get(url_jar)\n",
    "    time.sleep(3)\n",
    "    button = browser.find_element(By.XPATH,'//div[@class=\"try-out\"]/button')\n",
    "    button.click()\n",
    "    time.sleep(2)\n",
    "    input = browser.find_elements(By.XPATH,'//input')\n",
    "    input[0].send_keys((datetime.datetime.now()+datetime.timedelta(days=day)).strftime('%Y%m%d'))\n",
    "    time.sleep(2)\n",
    "    outpath = r'C:\\Users\\User\\Desktop\\SEO\\_0816'+'\\\\'\n",
    "    input[2].send_keys(9999)\n",
    "    time.sleep(2)\n",
    "    input[4].send_keys(outpath)\n",
    "    time.sleep(2)\n",
    "    input[5].send_keys((datetime.datetime.now()+datetime.timedelta(days=day)).strftime('%Y%m%d'))\n",
    "    textarea = browser.find_element(By.TAG_NAME,'textarea')\n",
    "    textarea.clear()\n",
    "    textarea.send_keys(access_token)\n",
    "    time.sleep(3)\n",
    "    Execute = browser.find_element(By.XPATH,'//button[@class=\"btn execute opblock-control__btn\"]')\n",
    "    Execute.click()\n",
    "    browser.quit()\n",
    "\n",
    "# 运行模拟浏览器函数\n",
    "fun_jar()\n",
    "print('开始运行jar包：',time.strftime('%H:%M',time.localtime()))\n",
    "time.sleep(300)\n",
    "print('jar包运行结束: ',time.strftime('%H:%M',time.localtime()))\n",
    "\n",
    "for i in range(3):\n",
    "    if not os.path.exists(file_path):\n",
    "        process.terminate()\n",
    "        process.wait()\n",
    "        fun_jar()\n",
    "        time.sleep(300)\n",
    "        continue\n",
    "    break\n",
    "\n",
    "# 后续采集会员列表，首充记录、数据处理\n",
    "# 读取运行jar包的数据，及历史数据\n",
    "data_today = pd.read_excel(r'C:\\Users\\User\\Desktop\\SEO\\_0816\\今日数据.xlsx')\n",
    "data_2_today = pd.read_excel(r'C:\\Users\\User\\Desktop\\SEO\\_0816\\今日数据.xlsx','趋势分析')\n",
    "daili = pd.read_excel(r'C:\\Users\\User\\Desktop\\SEO\\数据+ip历史.xlsx','代理总表')\n",
    "his_data  = pd.read_excel(r'C:\\Users\\User\\Desktop\\SEO\\SEO总表(12点+18点).xlsx','数据(12点)_2')\n",
    "\n",
    "# 采集会员列表和会员存记录\n",
    "url_fircharge = 'http://fundmng.bsportsadmin.com/api/manage/data/detail/firstRecharge'\n",
    "url_user = 'http://fundmng.bsportsadmin.com/api/manage/user/maintain/user/list'\n",
    "session = requests.session()\n",
    "\n",
    "# 采集首存报表\n",
    "dic_fir = dict({'会员名':[], '所属代理':[],'注册时间':[], '交易时间':[], '交易类型':[], '币种':[], '金额':[]})\n",
    "# 昨天开始时间戳\n",
    "yesterday = datetime.date.today() + datetime.timedelta(days=day)\n",
    "yesterday_start_time = int(time.mktime(time.strptime(str(yesterday), '%Y-%m-%d')))\n",
    "# 昨天结束时间戳\n",
    "yesterday_end_time = int(time.mktime(time.strptime(str(datetime.date.today()+ datetime.timedelta(days=day+1)), '%Y-%m-%d'))) - 1\n",
    "print(yesterday_start_time)\n",
    "print(yesterday_end_time)\n",
    "\n",
    "#---------------------token----------------------\n",
    "# 采集token\n",
    "google_code = get_google_code('64ehnxj6yily5bhv23kgb62ozuh6yuu2')\n",
    "data0 = {\n",
    "    'username': 'Marquis',\n",
    "    'password': 'qwer123456',\n",
    "    'code': google_code\n",
    "}\n",
    "session0 = requests.Session()\n",
    "response0  =session0.post(url=submit_url,data=data0,headers=header0)\n",
    "response0.encoding = 'utf-8'\n",
    "obj0 = json.loads(response0.text)\n",
    "token = obj0['data']['token']\n",
    "\n",
    "header = {\n",
    "    'Accept':'application/json, text/plain, */*',\n",
    "    # 'Accept-Encoding':'gzip, deflate',\n",
    "    'Accept-Language':'zh-CN,zh;q=0.9',\n",
    "    'Connection':'keep-alive',\n",
    "    'Content-Length':'75',\n",
    "    'Content-Type':'application/x-www-form-urlencoded',\n",
    "    'Cookie':'admin-token=67c8b1bd1b434f898ed8570a860355b8; admin-uid=690',\n",
    "    'Device_id':'1.0',\n",
    "    'Gl_version':'2.0',\n",
    "    'Host':'fundmng.bsportsadmin.com',\n",
    "    'Language':'zh_CN',\n",
    "    'Menuid':'100112',\n",
    "    'Opeartionmenu':'%u62A5%u8868%u67E5%u8BE2-%u4F1A%u5458%u9996%u5B58%u62A5%u8868',\n",
    "    'Origin':'http://fundmng.bsportsadmin.com',\n",
    "    'Os_type':'0',\n",
    "    'Referer':'http://fundmng.bsportsadmin.com/system/report-query/report-first-recharge',\n",
    "    'Sign':'ca83944852acc68fe114cbc65f1e1d22',\n",
    "    'Some':'header',\n",
    "    'Systemid':'54',\n",
    "    'Timestamp':'1692092554000',\n",
    "    'Token':token,\n",
    "    'Uid':'690',\n",
    "    'User-Agent':'Mozilla/5.0 (Windows NT 10.0; Win64; x64) AppleWebKit/537.36 (KHTML, like Gecko) Chrome/115.0.0.0 Safari/537.36',\n",
    "    'Version':'1.0'\n",
    "}\n",
    "for page in range(1,pages_fircharge+1):\n",
    "    data = {\n",
    "        'page': page,\n",
    "        'size': 20,\n",
    "        'tradeType': 0,\n",
    "        'isFake': 0,\n",
    "        'stime': yesterday_start_time*1000,\n",
    "        'etime': yesterday_end_time*1000+999\n",
    "    }\n",
    "    response = session.post(url_fircharge,headers=header,data=data,timeout=300)\n",
    "    response.encoding = 'utf-8'\n",
    "    obj = json.loads(response.text)\n",
    "\n",
    "    for i in obj['data']['list']:\n",
    "        dic_fir['会员名'].append(i['userName'])\n",
    "        dic_fir['所属代理'].append(i['parentName'])\n",
    "        dic_fir['注册时间'].append(time.strftime('%Y/%m/%d %H:%M:%S',time.localtime(i['createTime']//1000)))\n",
    "        dic_fir['交易时间'].append(time.strftime('%Y/%m/%d %H:%M:%S',time.localtime(i['regTime']//1000)))\n",
    "        dic_fir['交易类型'].append(i['tradeType'])\n",
    "        dic_fir['币种'].append(i['coinCode'])\n",
    "        dic_fir['金额'].append(i['amount'])\n",
    "firChargeUser = pd.DataFrame(dic_fir)\n",
    "print('会员首存行列：',firChargeUser.shape)\n",
    "\n",
    "# 采集会员列表\n",
    "dic_user = dict({'会员账号':[], '姓名':[],'代理':[], '注册时间':[]})\n",
    "for page in range(1,pages_user+1):\n",
    "    data2 = {\n",
    "        'page':page,\n",
    "        'size':20,\n",
    "        'userVip':'0,1,2,3,4,5,6,7,8,9,10,11',\n",
    "        'status':'0,1,2,4',\n",
    "        'sortType':'3',\n",
    "        'sortStr':'descend',\n",
    "        'searchType':'1',\n",
    "        'channelId':'34',\n",
    "        'registeredStartDate':yesterday_start_time*1000,\n",
    "        'registeredEndDate':yesterday_end_time*1000+999,\n",
    "    }\n",
    "    response2 = session.post(url_user,headers=header,data=data2,timeout=300)\n",
    "    response2.encoding = 'utf-8'\n",
    "    obj2 = json.loads(response2.text)\n",
    "    for i in obj2['data']['list']:\n",
    "        dic_user['会员账号'].append(i['username'])\n",
    "        if i['reallyName'] !='':\n",
    "            dic_user['姓名'].append(i['reallyName'])\n",
    "        else:\n",
    "            dic_user['姓名'].append('--')\n",
    "\n",
    "        dic_user['代理'].append(i['parentName'])\n",
    "        dic_user['注册时间'].append(time.strftime('%Y/%m/%d %H:%M:%S',time.localtime(i['registerDate']//1000)))\n",
    "user = pd.DataFrame(dic_user)\n",
    "print('用户列表行列:',user.shape)\n",
    "# 删除测试账号\n",
    "user = user[~user['会员账号'].str.contains('test')&~user['会员账号'].str.contains('ceshi')]\n",
    "print('去重后：',user.shape)"
   ],
   "metadata": {
    "collapsed": false
   }
  },
  {
   "cell_type": "code",
   "execution_count": 42,
   "outputs": [
    {
     "name": "stdout",
     "output_type": "stream",
     "text": [
      "开始处理shuju...\n",
      "               日期     人员2     时间  发送IP  接收IP  对比昨天(总IP)  对比前3天均值(总IP)  \\\n",
      "人员                                                                      \n",
      "Aber   2023-08-30    aber  11:20  1162   289    -1613.0  -1120.666667   \n",
      "Ben    2023-08-30     ben  11:20   279    45     -146.0    -64.666667   \n",
      "DK     2023-08-30      dk  11:20    57   682      -73.0   -106.666667   \n",
      "Hugo   2023-08-30    hugo  11:20   417     0     -922.0   -667.000000   \n",
      "Martin 2023-08-30  martin  11:20   593     0     -705.0   -938.000000   \n",
      "Max    2023-08-30     max  11:20    28    23     -177.0   -128.333333   \n",
      "Paddy  2023-08-30   paddy  11:20     0     6       -1.0     -0.666667   \n",
      "Tony   2023-08-30    tony  11:20   224     0     -223.0   -175.333333   \n",
      "Zed    2023-08-30     zed  11:20  2179    98    -2169.0  -1340.000000   \n",
      "当日汇总   2023-08-30    当日汇总  11:20  4939  1143        NaN           NaN   \n",
      "\n",
      "        对比前7天均值(总IP)  对比昨天(接收IP)  对比前3天均值(接收IP)  对比前7天均值(接收IP)  对比昨天(总注册)  \\\n",
      "人员                                                                          \n",
      "Aber          -915.8      -190.0     -31.000000           91.2      -11.0   \n",
      "Ben            -34.4       -59.0     -17.333333            7.0        1.0   \n",
      "DK             -61.6      -622.0    -176.666667          163.4       -2.0   \n",
      "Hugo          -447.4         0.0      -8.000000          -14.4      -18.0   \n",
      "Martin        -912.0         0.0     -13.000000          -24.2      -22.0   \n",
      "Max           -111.2      -154.0     -90.333333          -45.6        NaN   \n",
      "Paddy           -0.4        -8.0      -1.666667            1.2        NaN   \n",
      "Tony          -136.8         0.0      -1.000000           -4.2       -8.0   \n",
      "Zed           -919.6      -146.0     -69.000000           -7.2       -2.0   \n",
      "当日汇总             NaN         NaN            NaN            NaN        NaN   \n",
      "\n",
      "        对比前3天均值(总注册)  对比前7天均值(总注册)  对比昨天(总开户)  对比前3天均值(总开户)  对比前7天均值(总开户)  \\\n",
      "人员                                                                          \n",
      "Aber       -6.096667         2.426       -6.0    -15.703333       -13.644   \n",
      "Ben         1.286667         2.154        0.0      0.000000       -29.200   \n",
      "DK          0.673333        -4.288        2.0     -4.333333       -13.972   \n",
      "Hugo       -8.886667        -1.098       -3.0    -14.500000       -17.858   \n",
      "Martin    -15.956667        -6.694       -7.0    -14.213333       -17.518   \n",
      "Max              NaN           NaN        1.0    -65.666667       -45.666   \n",
      "Paddy            NaN           NaN        NaN           NaN           NaN   \n",
      "Tony       -6.053333        -3.676        NaN           NaN           NaN   \n",
      "Zed         0.156667         3.102        2.0    -16.183333       -25.570   \n",
      "当日汇总             NaN           NaN        NaN           NaN           NaN   \n",
      "\n",
      "          注册  注册率(%)   开户  转化率(%)  \n",
      "人员                                 \n",
      "Aber    16.0    1.38  5.0   31.25  \n",
      "Ben      4.0    1.43  2.0   50.00  \n",
      "DK       5.0    8.77  3.0   60.00  \n",
      "Hugo    15.0    3.60  5.0   33.33  \n",
      "Martin  10.0    1.69  5.0   50.00  \n",
      "Max      NaN     NaN  1.0     NaN  \n",
      "Paddy    NaN     NaN  NaN     NaN  \n",
      "Tony     3.0    1.34  NaN     NaN  \n",
      "Zed      8.0    0.37  4.0   50.00  \n",
      "当日汇总     NaN     NaN  NaN     NaN  \n"
     ]
    }
   ],
   "source": [
    "print('开始处理shuju...')\n",
    "shuju = pd.DataFrame({'人员':['Paddy', 'Tony', 'Max', 'Martin', 'Zed', 'Hugo', 'Aber', 'DK', 'Ben','当日汇总'],\n",
    "                      '日期':(datetime.datetime.now()+datetime.timedelta(days=day)).strftime('%Y/%m/%d'),\n",
    "                      '时间':(datetime.datetime.now()+datetime.timedelta(days=day)).strftime('%H:%M'),\n",
    "                      '发送IP':0,\n",
    "                      '接收IP':0,\n",
    "                      '对比昨天(总IP)':0,\n",
    "                      '对比前3天均值(总IP)':0,\n",
    "                      '对比前7天均值(总IP)':0,\n",
    "                      '对比昨天(接收IP)':0,\n",
    "                      '对比前3天均值(接收IP)':0,\n",
    "                      '对比前7天均值(接收IP)':0,\n",
    "                      '对比昨天(总注册)':0,\n",
    "                      '对比前3天均值(总注册)':0,\n",
    "                      '对比前7天均值(总注册)':0,\n",
    "                      '对比昨天(总开户)':0,\n",
    "                      '对比前3天均值(总开户)':0,\n",
    "                      '对比前7天均值(总开户)':0})\n",
    "\n",
    "shuju.set_index('人员',inplace = True)\n",
    "data_today['IP']=pd.to_numeric(data_today['IP'],errors='coerce').replace(np.nan,0).astype('int64')\n",
    "grp=data_today.groupby('网站名(domain)').agg({'IP':sum})\n",
    "try:\n",
    "    shuju.loc['Paddy','发送IP']=grp.loc['paddy.com','IP']\n",
    "except:\n",
    "    shuju.loc['Paddy','发送IP']=0\n",
    "try:\n",
    "    shuju.loc['Paddy','接收IP']=grp.loc['paddy.bty','IP']\n",
    "except:\n",
    "    shuju.loc['Paddy','接收IP']=0\n",
    "try:\n",
    "    shuju.loc['Tony','发送IP']=grp.loc['tonyb.com','IP']/2\n",
    "except:\n",
    "    shuju.loc['Tony', '发送IP'] = 0\n",
    "try:\n",
    "    shuju.loc['Tony','接收IP']=grp.loc['tony.bty','IP']\n",
    "except:\n",
    "    shuju.loc['Tony', '接收IP'] = 0\n",
    "try:\n",
    "    shuju.loc['Max','发送IP']=grp.loc['mulu.com','IP']\n",
    "except:\n",
    "    shuju.loc['Max', '发送IP'] = 0\n",
    "try:\n",
    "    shuju.loc['Max','接收IP']=grp.loc['max.bty','IP']\n",
    "except:\n",
    "    shuju.loc['Max', '接收IP'] = 0\n",
    "try:\n",
    "    shuju.loc['Martin','发送IP']=grp.loc['redquan.com','IP']\n",
    "except:\n",
    "    shuju.loc['Martin', '发送IP'] = 0\n",
    "try:\n",
    "    shuju.loc['Martin','接收IP']=grp.loc['martin.bty','IP']\n",
    "except:\n",
    "    shuju.loc['Martin','接收IP']=0\n",
    "try:\n",
    "    shuju.loc['Zed','发送IP']=grp.loc['zed.com','IP']\n",
    "except:\n",
    "    shuju.loc['Zed', '发送IP'] = 0\n",
    "try:\n",
    "    shuju.loc['Zed','接收IP']=grp.loc['zed.bty','IP']\n",
    "except:\n",
    "    shuju.loc['Zed', '接收IP'] = 0\n",
    "try:\n",
    "    shuju.loc['Hugo','发送IP']=grp.loc['hugo.com','IP']\n",
    "except:\n",
    "    shuju.loc['Hugo', '发送IP'] = 0\n",
    "try:\n",
    "    shuju.loc['Hugo','接收IP']=grp.loc['hugo.bty','IP']\n",
    "except:\n",
    "    shuju.loc['Hugo','接收IP']=0\n",
    "\n",
    "shuju.loc['Aber','发送IP']=grp.loc['aber.com','IP']/2\n",
    "shuju.loc['Aber','接收IP']=grp.loc['aber.bty','IP']\n",
    "shuju.loc['DK','发送IP']=grp.loc['dk.com','IP']/2\n",
    "shuju.loc['DK','接收IP']=grp.loc['dk.bty','IP']\n",
    "shuju.loc['Ben','发送IP']=grp.loc['ben.com','IP']/2\n",
    "shuju.loc['Ben','接收IP']=grp.loc['ben.bty','IP']\n",
    "shuju.loc['当日汇总','发送IP']=shuju['发送IP'].sum()\n",
    "shuju.loc['当日汇总','接收IP']=shuju['接收IP'].sum()\n",
    "\n",
    "shuju['日期'] = pd.to_datetime(shuju['日期'])\n",
    "shuju.insert(1,'人员2',shuju.index)\n",
    "shuju['人员2']=shuju['人员2'].str.lower()\n",
    "\n",
    "# 第1次merge前，重置索引\n",
    "shuju.reset_index(inplace=True)\n",
    "\n",
    "merge_user = pd.merge(user,daili,how = 'left',left_on='代理',right_on='代理线')\n",
    "grpSEO = merge_user.groupby('seo变化数据团队').agg({'seo变化数据团队':len})\n",
    "grpSEO.rename(columns={'seo变化数据团队':'注册'},inplace=True)\n",
    "grpSEO.reset_index(inplace=True)\n",
    "grpSEO['人员2'] = grpSEO['seo变化数据团队'].str.lower()\n",
    "grpSEO.set_index('seo变化数据团队',inplace=True)\n",
    "\n",
    "shuju=shuju.merge(grpSEO,on='人员2',how='left')\n",
    "\n",
    "shuju['注册率(%)'] = round(shuju['注册']/shuju['发送IP']*100,2)\n",
    "\n",
    "merge_charge = pd.merge(firChargeUser,daili,how='left',left_on='所属代理',right_on='代理线')\n",
    "grpCHARGE = merge_charge.groupby('seo变化数据团队').agg({'seo变化数据团队':len})\n",
    "grpCHARGE= grpCHARGE.rename(columns={'seo变化数据团队':'开户'})\n",
    "grpCHARGE.reset_index(inplace=True)\n",
    "grpCHARGE['seo变化数据团队']=grpCHARGE['seo变化数据团队'].str.lower()\n",
    "grpCHARGE= grpCHARGE.rename(columns={'seo变化数据团队':'人员2'})\n",
    "# 第2次merge\n",
    "shuju = pd.merge(shuju,grpCHARGE,how='left',on='人员2')\n",
    "shuju['转化率(%)'] = round(shuju['开户']/shuju['注册']*100,2)\n",
    "\n",
    "#------------\n",
    "# his_data  = pd.read_csv(r'C:\\Users\\User\\Desktop\\SEO\\SEO每日更新_814.csv',encoding='gbk')\n",
    "his_data['日期']= pd.to_datetime(his_data['日期'])\n",
    "be_data = his_data[his_data['日期']==(shuju['日期'][0]+datetime.timedelta(days=-1))][:-1]\n",
    "\n",
    "# shuju.sort_index(inplace=True)\n",
    "shuju.set_index('人员',inplace = True)\n",
    "shuju.sort_index(inplace=True)\n",
    "be_data.set_index('人员',inplace=True)\n",
    "be_data.sort_index(inplace=True)\n",
    "\n",
    "be3_data = his_data[his_data['日期']>=(shuju['日期'][0]+datetime.timedelta(days=-3))]\n",
    "be3_data = be3_data.groupby('人员').mean()[:-1]\n",
    "\n",
    "be7_data = his_data[his_data['日期']>=(shuju['日期'][0]+datetime.timedelta(days=-7))]\n",
    "be7_data = be7_data.groupby('人员').mean()[:-1]\n",
    "\n",
    "shuju['对比昨天(总IP)']=shuju['发送IP']-be_data['总IP']\n",
    "shuju['对比前3天均值(总IP)']= shuju['发送IP']-be3_data['总IP']\n",
    "shuju['对比前7天均值(总IP)']= shuju['发送IP']-be7_data['总IP']\n",
    "\n",
    "shuju['对比昨天(接收IP)']=shuju['接收IP']-be_data['接收IP']\n",
    "shuju['对比前3天均值(接收IP)']= shuju['接收IP']-be3_data['接收IP']\n",
    "shuju['对比前7天均值(接收IP)']= shuju['接收IP']-be7_data['接收IP']\n",
    "\n",
    "shuju['对比昨天(总注册)']=shuju['注册']-be_data['注册']\n",
    "shuju['对比前3天均值(总注册)']= shuju['注册']-be3_data['注册']\n",
    "shuju['对比前7天均值(总注册)']= shuju['注册']-be7_data['注册']\n",
    "\n",
    "shuju['对比昨天(总开户)']=shuju['开户']-be_data['开户']\n",
    "shuju['对比前3天均值(总开户)']= shuju['开户']-be3_data['开户']\n",
    "shuju['对比前7天均值(总开户)']= shuju['开户']-be7_data['开户']\n",
    "print(shuju)"
   ],
   "metadata": {
    "collapsed": false
   }
  },
  {
   "cell_type": "code",
   "execution_count": 43,
   "outputs": [
    {
     "name": "stdout",
     "output_type": "stream",
     "text": [
      "shuju处理完成。。。。\n"
     ]
    }
   ],
   "source": [
    "shuju = shuju.iloc[:,:5].join(shuju.iloc[:,-4:]).join(shuju.iloc[:,5:-4])\n",
    "shuju.fillna(0,inplace=True)\n",
    "\n",
    "shuju.loc[:,'对比昨天(总IP)':]=shuju.loc[:,'对比昨天(总IP)':].astype('int64')\n",
    "shuju['注册'] = shuju['注册'].astype('int64')\n",
    "shuju['开户'] = shuju['开户'].astype('int64')\n",
    "\n",
    "for i in shuju.iloc[:,5:].columns:\n",
    "    shuju.loc['当日汇总',i]=sum(shuju[i])\n",
    "\n",
    "# 重置三个率\n",
    "shuju.loc['当日汇总','注册率(%)']=round(shuju.loc['当日汇总','注册']/shuju.loc['当日汇总','发送IP']*100,2)\n",
    "shuju.loc['当日汇总','转化率(%)']=round(shuju.loc['当日汇总','开户']/shuju.loc['当日汇总','注册']*100,2)\n",
    "\n",
    "shuju.insert(3,'人员',shuju.index)\n",
    "shuju.drop('人员2',inplace=True,axis=1)\n",
    "print('shuju处理完成。。。。')\n",
    "be_data = his_data[his_data['日期']==(shuju['日期'][0]+datetime.timedelta(days=-1))]"
   ],
   "metadata": {
    "collapsed": false
   }
  },
  {
   "cell_type": "code",
   "execution_count": 44,
   "outputs": [
    {
     "data": {
      "text/plain": "           日期        时间      人员    总IP  接收IP     注册  注册率(%)    开户  转化率(%)  \\\n40 2023-08-29  19:06:00    Aber   2775   479   27.0    0.97  11.0   40.74   \n41 2023-08-29  19:06:00     Ben    425   104    3.0    0.71   2.0   66.67   \n42 2023-08-29  19:06:00      DK    130  1304    7.0    5.38   1.0   14.29   \n43 2023-08-29  19:06:00    Hugo   1339     0   33.0    2.46   8.0   24.24   \n44 2023-08-29  19:06:00  Martin   1298     0   32.0    2.47  12.0   37.50   \n45 2023-08-29  19:06:00     Max    205   177    0.0    0.00   0.0    0.00   \n46 2023-08-29  19:06:00   Paddy      1    14    0.0    0.00   1.0    0.00   \n47 2023-08-29  19:06:00    Tony    447     0   11.0    2.46   4.0   36.36   \n48 2023-08-29  19:06:00     Zed   4348   244   10.0    0.23   2.0   20.00   \n49 2023-08-29  19:06:00    当日汇总  10968  2322  123.0    1.12  41.0   33.33   \n\n    对比昨天(总IP)  对比前3天均值(总IP)  对比前7天均值(总IP)  对比昨天(接收IP)  对比前3天均值(接收IP)  \\\n40        177           920           871        17.0          315.0   \n41         -6           155           139        23.0           76.0   \n42         22            -4            14        37.0          877.0   \n43         82           562           593         0.0          -13.0   \n44       -640          -232          -258         0.0          -25.0   \n45         35            83            82        15.0          122.0   \n46          0             0             0         5.0           10.0   \n47        -45           117           107         0.0           -4.0   \n48        199          1647          1561        -2.0          156.0   \n49       -176          3248          3109        95.0         1514.0   \n\n    对比前7天均值(接收IP)  对比昨天(总注册)  对比前3天均值(总注册)  对比前7天均值(总注册)  对比昨天(总开户)  \\\n40          351.0        -11            13            16          2   \n41           82.0         -1             1             1         -2   \n42          981.0          3             0            -2          0   \n43          -18.0         -2            18            21         -5   \n44          -30.0        -11            15            19         -8   \n45          135.0          0             0             0          0   \n46           11.0          0             0             0          1   \n47           -5.0         -4             4             5          0   \n48          173.0         -3             5             6         -2   \n49         1680.0        -29            56            66        -14   \n\n    对比前3天均值(总开户)  对比前7天均值(总开户)  \n40            -9            -9  \n41           -32           -36  \n42           -20           -19  \n43           -16           -18  \n44           -10           -13  \n45             0             0  \n46             1             1  \n47           -49           -38  \n48           -31           -34  \n49          -166          -166  ",
      "text/html": "<div>\n<style scoped>\n    .dataframe tbody tr th:only-of-type {\n        vertical-align: middle;\n    }\n\n    .dataframe tbody tr th {\n        vertical-align: top;\n    }\n\n    .dataframe thead th {\n        text-align: right;\n    }\n</style>\n<table border=\"1\" class=\"dataframe\">\n  <thead>\n    <tr style=\"text-align: right;\">\n      <th></th>\n      <th>日期</th>\n      <th>时间</th>\n      <th>人员</th>\n      <th>总IP</th>\n      <th>接收IP</th>\n      <th>注册</th>\n      <th>注册率(%)</th>\n      <th>开户</th>\n      <th>转化率(%)</th>\n      <th>对比昨天(总IP)</th>\n      <th>对比前3天均值(总IP)</th>\n      <th>对比前7天均值(总IP)</th>\n      <th>对比昨天(接收IP)</th>\n      <th>对比前3天均值(接收IP)</th>\n      <th>对比前7天均值(接收IP)</th>\n      <th>对比昨天(总注册)</th>\n      <th>对比前3天均值(总注册)</th>\n      <th>对比前7天均值(总注册)</th>\n      <th>对比昨天(总开户)</th>\n      <th>对比前3天均值(总开户)</th>\n      <th>对比前7天均值(总开户)</th>\n    </tr>\n  </thead>\n  <tbody>\n    <tr>\n      <th>40</th>\n      <td>2023-08-29</td>\n      <td>19:06:00</td>\n      <td>Aber</td>\n      <td>2775</td>\n      <td>479</td>\n      <td>27.0</td>\n      <td>0.97</td>\n      <td>11.0</td>\n      <td>40.74</td>\n      <td>177</td>\n      <td>920</td>\n      <td>871</td>\n      <td>17.0</td>\n      <td>315.0</td>\n      <td>351.0</td>\n      <td>-11</td>\n      <td>13</td>\n      <td>16</td>\n      <td>2</td>\n      <td>-9</td>\n      <td>-9</td>\n    </tr>\n    <tr>\n      <th>41</th>\n      <td>2023-08-29</td>\n      <td>19:06:00</td>\n      <td>Ben</td>\n      <td>425</td>\n      <td>104</td>\n      <td>3.0</td>\n      <td>0.71</td>\n      <td>2.0</td>\n      <td>66.67</td>\n      <td>-6</td>\n      <td>155</td>\n      <td>139</td>\n      <td>23.0</td>\n      <td>76.0</td>\n      <td>82.0</td>\n      <td>-1</td>\n      <td>1</td>\n      <td>1</td>\n      <td>-2</td>\n      <td>-32</td>\n      <td>-36</td>\n    </tr>\n    <tr>\n      <th>42</th>\n      <td>2023-08-29</td>\n      <td>19:06:00</td>\n      <td>DK</td>\n      <td>130</td>\n      <td>1304</td>\n      <td>7.0</td>\n      <td>5.38</td>\n      <td>1.0</td>\n      <td>14.29</td>\n      <td>22</td>\n      <td>-4</td>\n      <td>14</td>\n      <td>37.0</td>\n      <td>877.0</td>\n      <td>981.0</td>\n      <td>3</td>\n      <td>0</td>\n      <td>-2</td>\n      <td>0</td>\n      <td>-20</td>\n      <td>-19</td>\n    </tr>\n    <tr>\n      <th>43</th>\n      <td>2023-08-29</td>\n      <td>19:06:00</td>\n      <td>Hugo</td>\n      <td>1339</td>\n      <td>0</td>\n      <td>33.0</td>\n      <td>2.46</td>\n      <td>8.0</td>\n      <td>24.24</td>\n      <td>82</td>\n      <td>562</td>\n      <td>593</td>\n      <td>0.0</td>\n      <td>-13.0</td>\n      <td>-18.0</td>\n      <td>-2</td>\n      <td>18</td>\n      <td>21</td>\n      <td>-5</td>\n      <td>-16</td>\n      <td>-18</td>\n    </tr>\n    <tr>\n      <th>44</th>\n      <td>2023-08-29</td>\n      <td>19:06:00</td>\n      <td>Martin</td>\n      <td>1298</td>\n      <td>0</td>\n      <td>32.0</td>\n      <td>2.47</td>\n      <td>12.0</td>\n      <td>37.50</td>\n      <td>-640</td>\n      <td>-232</td>\n      <td>-258</td>\n      <td>0.0</td>\n      <td>-25.0</td>\n      <td>-30.0</td>\n      <td>-11</td>\n      <td>15</td>\n      <td>19</td>\n      <td>-8</td>\n      <td>-10</td>\n      <td>-13</td>\n    </tr>\n    <tr>\n      <th>45</th>\n      <td>2023-08-29</td>\n      <td>19:06:00</td>\n      <td>Max</td>\n      <td>205</td>\n      <td>177</td>\n      <td>0.0</td>\n      <td>0.00</td>\n      <td>0.0</td>\n      <td>0.00</td>\n      <td>35</td>\n      <td>83</td>\n      <td>82</td>\n      <td>15.0</td>\n      <td>122.0</td>\n      <td>135.0</td>\n      <td>0</td>\n      <td>0</td>\n      <td>0</td>\n      <td>0</td>\n      <td>0</td>\n      <td>0</td>\n    </tr>\n    <tr>\n      <th>46</th>\n      <td>2023-08-29</td>\n      <td>19:06:00</td>\n      <td>Paddy</td>\n      <td>1</td>\n      <td>14</td>\n      <td>0.0</td>\n      <td>0.00</td>\n      <td>1.0</td>\n      <td>0.00</td>\n      <td>0</td>\n      <td>0</td>\n      <td>0</td>\n      <td>5.0</td>\n      <td>10.0</td>\n      <td>11.0</td>\n      <td>0</td>\n      <td>0</td>\n      <td>0</td>\n      <td>1</td>\n      <td>1</td>\n      <td>1</td>\n    </tr>\n    <tr>\n      <th>47</th>\n      <td>2023-08-29</td>\n      <td>19:06:00</td>\n      <td>Tony</td>\n      <td>447</td>\n      <td>0</td>\n      <td>11.0</td>\n      <td>2.46</td>\n      <td>4.0</td>\n      <td>36.36</td>\n      <td>-45</td>\n      <td>117</td>\n      <td>107</td>\n      <td>0.0</td>\n      <td>-4.0</td>\n      <td>-5.0</td>\n      <td>-4</td>\n      <td>4</td>\n      <td>5</td>\n      <td>0</td>\n      <td>-49</td>\n      <td>-38</td>\n    </tr>\n    <tr>\n      <th>48</th>\n      <td>2023-08-29</td>\n      <td>19:06:00</td>\n      <td>Zed</td>\n      <td>4348</td>\n      <td>244</td>\n      <td>10.0</td>\n      <td>0.23</td>\n      <td>2.0</td>\n      <td>20.00</td>\n      <td>199</td>\n      <td>1647</td>\n      <td>1561</td>\n      <td>-2.0</td>\n      <td>156.0</td>\n      <td>173.0</td>\n      <td>-3</td>\n      <td>5</td>\n      <td>6</td>\n      <td>-2</td>\n      <td>-31</td>\n      <td>-34</td>\n    </tr>\n    <tr>\n      <th>49</th>\n      <td>2023-08-29</td>\n      <td>19:06:00</td>\n      <td>当日汇总</td>\n      <td>10968</td>\n      <td>2322</td>\n      <td>123.0</td>\n      <td>1.12</td>\n      <td>41.0</td>\n      <td>33.33</td>\n      <td>-176</td>\n      <td>3248</td>\n      <td>3109</td>\n      <td>95.0</td>\n      <td>1514.0</td>\n      <td>1680.0</td>\n      <td>-29</td>\n      <td>56</td>\n      <td>66</td>\n      <td>-14</td>\n      <td>-166</td>\n      <td>-166</td>\n    </tr>\n  </tbody>\n</table>\n</div>"
     },
     "execution_count": 44,
     "metadata": {},
     "output_type": "execute_result"
    },
    {
     "data": {
      "text/plain": "               日期     时间      人员  发送IP  接收IP  注册  注册率(%)  开户  转化率(%)  \\\n人员                                                                     \nAber   2023-08-30  11:20    Aber  1162   289  16    1.38   5   31.25   \nBen    2023-08-30  11:20     Ben   279    45   4    1.43   2   50.00   \nDK     2023-08-30  11:20      DK    57   682   5    8.77   3   60.00   \nHugo   2023-08-30  11:20    Hugo   417     0  15    3.60   5   33.33   \nMartin 2023-08-30  11:20  Martin   593     0  10    1.69   5   50.00   \nMax    2023-08-30  11:20     Max    28    23   0    0.00   1    0.00   \nPaddy  2023-08-30  11:20   Paddy     0     6   0    0.00   0    0.00   \nTony   2023-08-30  11:20    Tony   224     0   3    1.34   0    0.00   \nZed    2023-08-30  11:20     Zed  2179    98   8    0.37   4   50.00   \n当日汇总   2023-08-30  11:20    当日汇总  4939  1143  61    1.24  25   40.98   \n\n        对比昨天(总IP)  对比前3天均值(总IP)  对比前7天均值(总IP)  对比昨天(接收IP)  对比前3天均值(接收IP)  \\\n人员                                                                         \nAber        -1613         -1120          -915        -190            -31   \nBen          -146           -64           -34         -59            -17   \nDK            -73          -106           -61        -622           -176   \nHugo         -922          -667          -447           0             -8   \nMartin       -705          -938          -912           0            -13   \nMax          -177          -128          -111        -154            -90   \nPaddy          -1             0             0          -8             -1   \nTony         -223          -175          -136           0             -1   \nZed         -2169         -1340          -919        -146            -69   \n当日汇总        -6029         -4538         -3535       -1179           -406   \n\n        对比前7天均值(接收IP)  对比昨天(总注册)  对比前3天均值(总注册)  对比前7天均值(总注册)  对比昨天(总开户)  \\\n人员                                                                        \nAber               91        -11            -6             2         -6   \nBen                 7          1             1             2          0   \nDK                163         -2             0            -4          2   \nHugo              -14        -18            -8            -1         -3   \nMartin            -24        -22           -15            -6         -7   \nMax               -45          0             0             0          1   \nPaddy               1          0             0             0          0   \nTony               -4         -8            -6            -3          0   \nZed                -7         -2             0             3          2   \n当日汇总              168        -62           -34            -7        -11   \n\n        对比前3天均值(总开户)  对比前7天均值(总开户)  \n人员                                  \nAber             -15           -13  \nBen                0           -29  \nDK                -4           -13  \nHugo             -14           -17  \nMartin           -14           -17  \nMax              -65           -45  \nPaddy              0             0  \nTony               0             0  \nZed              -16           -25  \n当日汇总            -128          -159  ",
      "text/html": "<div>\n<style scoped>\n    .dataframe tbody tr th:only-of-type {\n        vertical-align: middle;\n    }\n\n    .dataframe tbody tr th {\n        vertical-align: top;\n    }\n\n    .dataframe thead th {\n        text-align: right;\n    }\n</style>\n<table border=\"1\" class=\"dataframe\">\n  <thead>\n    <tr style=\"text-align: right;\">\n      <th></th>\n      <th>日期</th>\n      <th>时间</th>\n      <th>人员</th>\n      <th>发送IP</th>\n      <th>接收IP</th>\n      <th>注册</th>\n      <th>注册率(%)</th>\n      <th>开户</th>\n      <th>转化率(%)</th>\n      <th>对比昨天(总IP)</th>\n      <th>对比前3天均值(总IP)</th>\n      <th>对比前7天均值(总IP)</th>\n      <th>对比昨天(接收IP)</th>\n      <th>对比前3天均值(接收IP)</th>\n      <th>对比前7天均值(接收IP)</th>\n      <th>对比昨天(总注册)</th>\n      <th>对比前3天均值(总注册)</th>\n      <th>对比前7天均值(总注册)</th>\n      <th>对比昨天(总开户)</th>\n      <th>对比前3天均值(总开户)</th>\n      <th>对比前7天均值(总开户)</th>\n    </tr>\n    <tr>\n      <th>人员</th>\n      <th></th>\n      <th></th>\n      <th></th>\n      <th></th>\n      <th></th>\n      <th></th>\n      <th></th>\n      <th></th>\n      <th></th>\n      <th></th>\n      <th></th>\n      <th></th>\n      <th></th>\n      <th></th>\n      <th></th>\n      <th></th>\n      <th></th>\n      <th></th>\n      <th></th>\n      <th></th>\n      <th></th>\n    </tr>\n  </thead>\n  <tbody>\n    <tr>\n      <th>Aber</th>\n      <td>2023-08-30</td>\n      <td>11:20</td>\n      <td>Aber</td>\n      <td>1162</td>\n      <td>289</td>\n      <td>16</td>\n      <td>1.38</td>\n      <td>5</td>\n      <td>31.25</td>\n      <td>-1613</td>\n      <td>-1120</td>\n      <td>-915</td>\n      <td>-190</td>\n      <td>-31</td>\n      <td>91</td>\n      <td>-11</td>\n      <td>-6</td>\n      <td>2</td>\n      <td>-6</td>\n      <td>-15</td>\n      <td>-13</td>\n    </tr>\n    <tr>\n      <th>Ben</th>\n      <td>2023-08-30</td>\n      <td>11:20</td>\n      <td>Ben</td>\n      <td>279</td>\n      <td>45</td>\n      <td>4</td>\n      <td>1.43</td>\n      <td>2</td>\n      <td>50.00</td>\n      <td>-146</td>\n      <td>-64</td>\n      <td>-34</td>\n      <td>-59</td>\n      <td>-17</td>\n      <td>7</td>\n      <td>1</td>\n      <td>1</td>\n      <td>2</td>\n      <td>0</td>\n      <td>0</td>\n      <td>-29</td>\n    </tr>\n    <tr>\n      <th>DK</th>\n      <td>2023-08-30</td>\n      <td>11:20</td>\n      <td>DK</td>\n      <td>57</td>\n      <td>682</td>\n      <td>5</td>\n      <td>8.77</td>\n      <td>3</td>\n      <td>60.00</td>\n      <td>-73</td>\n      <td>-106</td>\n      <td>-61</td>\n      <td>-622</td>\n      <td>-176</td>\n      <td>163</td>\n      <td>-2</td>\n      <td>0</td>\n      <td>-4</td>\n      <td>2</td>\n      <td>-4</td>\n      <td>-13</td>\n    </tr>\n    <tr>\n      <th>Hugo</th>\n      <td>2023-08-30</td>\n      <td>11:20</td>\n      <td>Hugo</td>\n      <td>417</td>\n      <td>0</td>\n      <td>15</td>\n      <td>3.60</td>\n      <td>5</td>\n      <td>33.33</td>\n      <td>-922</td>\n      <td>-667</td>\n      <td>-447</td>\n      <td>0</td>\n      <td>-8</td>\n      <td>-14</td>\n      <td>-18</td>\n      <td>-8</td>\n      <td>-1</td>\n      <td>-3</td>\n      <td>-14</td>\n      <td>-17</td>\n    </tr>\n    <tr>\n      <th>Martin</th>\n      <td>2023-08-30</td>\n      <td>11:20</td>\n      <td>Martin</td>\n      <td>593</td>\n      <td>0</td>\n      <td>10</td>\n      <td>1.69</td>\n      <td>5</td>\n      <td>50.00</td>\n      <td>-705</td>\n      <td>-938</td>\n      <td>-912</td>\n      <td>0</td>\n      <td>-13</td>\n      <td>-24</td>\n      <td>-22</td>\n      <td>-15</td>\n      <td>-6</td>\n      <td>-7</td>\n      <td>-14</td>\n      <td>-17</td>\n    </tr>\n    <tr>\n      <th>Max</th>\n      <td>2023-08-30</td>\n      <td>11:20</td>\n      <td>Max</td>\n      <td>28</td>\n      <td>23</td>\n      <td>0</td>\n      <td>0.00</td>\n      <td>1</td>\n      <td>0.00</td>\n      <td>-177</td>\n      <td>-128</td>\n      <td>-111</td>\n      <td>-154</td>\n      <td>-90</td>\n      <td>-45</td>\n      <td>0</td>\n      <td>0</td>\n      <td>0</td>\n      <td>1</td>\n      <td>-65</td>\n      <td>-45</td>\n    </tr>\n    <tr>\n      <th>Paddy</th>\n      <td>2023-08-30</td>\n      <td>11:20</td>\n      <td>Paddy</td>\n      <td>0</td>\n      <td>6</td>\n      <td>0</td>\n      <td>0.00</td>\n      <td>0</td>\n      <td>0.00</td>\n      <td>-1</td>\n      <td>0</td>\n      <td>0</td>\n      <td>-8</td>\n      <td>-1</td>\n      <td>1</td>\n      <td>0</td>\n      <td>0</td>\n      <td>0</td>\n      <td>0</td>\n      <td>0</td>\n      <td>0</td>\n    </tr>\n    <tr>\n      <th>Tony</th>\n      <td>2023-08-30</td>\n      <td>11:20</td>\n      <td>Tony</td>\n      <td>224</td>\n      <td>0</td>\n      <td>3</td>\n      <td>1.34</td>\n      <td>0</td>\n      <td>0.00</td>\n      <td>-223</td>\n      <td>-175</td>\n      <td>-136</td>\n      <td>0</td>\n      <td>-1</td>\n      <td>-4</td>\n      <td>-8</td>\n      <td>-6</td>\n      <td>-3</td>\n      <td>0</td>\n      <td>0</td>\n      <td>0</td>\n    </tr>\n    <tr>\n      <th>Zed</th>\n      <td>2023-08-30</td>\n      <td>11:20</td>\n      <td>Zed</td>\n      <td>2179</td>\n      <td>98</td>\n      <td>8</td>\n      <td>0.37</td>\n      <td>4</td>\n      <td>50.00</td>\n      <td>-2169</td>\n      <td>-1340</td>\n      <td>-919</td>\n      <td>-146</td>\n      <td>-69</td>\n      <td>-7</td>\n      <td>-2</td>\n      <td>0</td>\n      <td>3</td>\n      <td>2</td>\n      <td>-16</td>\n      <td>-25</td>\n    </tr>\n    <tr>\n      <th>当日汇总</th>\n      <td>2023-08-30</td>\n      <td>11:20</td>\n      <td>当日汇总</td>\n      <td>4939</td>\n      <td>1143</td>\n      <td>61</td>\n      <td>1.24</td>\n      <td>25</td>\n      <td>40.98</td>\n      <td>-6029</td>\n      <td>-4538</td>\n      <td>-3535</td>\n      <td>-1179</td>\n      <td>-406</td>\n      <td>168</td>\n      <td>-62</td>\n      <td>-34</td>\n      <td>-7</td>\n      <td>-11</td>\n      <td>-128</td>\n      <td>-159</td>\n    </tr>\n  </tbody>\n</table>\n</div>"
     },
     "execution_count": 44,
     "metadata": {},
     "output_type": "execute_result"
    }
   ],
   "source": [
    "be_data\n",
    "shuju2.columns"
   ],
   "metadata": {
    "collapsed": false
   }
  },
  {
   "cell_type": "code",
   "execution_count": 67,
   "outputs": [
    {
     "data": {
      "text/plain": "True"
     },
     "execution_count": 67,
     "metadata": {},
     "output_type": "execute_result"
    }
   ],
   "source": [
    "shuju.loc['Paddy','注册']==0"
   ],
   "metadata": {
    "collapsed": false
   }
  },
  {
   "cell_type": "code",
   "execution_count": 58,
   "outputs": [
    {
     "data": {
      "text/plain": "人员\nAber      31.25\nBen       50.00\nDK        60.00\nHugo      33.33\nMartin    50.00\nMax        0.00\nPaddy      0.00\nTony       0.00\nZed       50.00\n当日汇总      40.98\nName: 转化率(%), dtype: float64"
     },
     "execution_count": 58,
     "metadata": {},
     "output_type": "execute_result"
    }
   ],
   "source": [
    "shuju2['转化率(%)']"
   ],
   "metadata": {
    "collapsed": false
   }
  },
  {
   "cell_type": "code",
   "execution_count": 69,
   "outputs": [
    {
     "name": "stdout",
     "output_type": "stream",
     "text": [
      "Max\n",
      "Paddy\n"
     ]
    }
   ],
   "source": [
    "for name in shuju2.index:\n",
    "    if shuju2.loc[name,'注册2']==0:\n",
    "        print(name)\n"
   ],
   "metadata": {
    "collapsed": false
   }
  },
  {
   "cell_type": "code",
   "execution_count": 63,
   "outputs": [
    {
     "data": {
      "text/plain": "0"
     },
     "execution_count": 63,
     "metadata": {},
     "output_type": "execute_result"
    },
    {
     "data": {
      "text/plain": "1"
     },
     "execution_count": 63,
     "metadata": {},
     "output_type": "execute_result"
    }
   ],
   "source": [
    "shuju2.loc['Max','注册2']\n",
    "shuju2.loc['Max','开户2']"
   ],
   "metadata": {
    "collapsed": false
   }
  },
  {
   "cell_type": "code",
   "execution_count": 46,
   "outputs": [
    {
     "data": {
      "text/plain": "Index(['日期', '时间', '人员', '发送IP', '接收IP2', '注册2', '注册率(%)', '开户2', '转化率(%)',\n       '总IP', '对比前3天均值(总IP)', '对比前7天均值(总IP)', '接收IP', '对比前3天均值(接收IP)',\n       '对比前7天均值(接收IP)', '注册', '对比前3天均值(总注册)', '对比前7天均值(总注册)', '开户',\n       '对比前3天均值(总开户)', '对比前7天均值(总开户)'],\n      dtype='object')"
     },
     "execution_count": 46,
     "metadata": {},
     "output_type": "execute_result"
    }
   ],
   "source": [
    "shuju2= shuju2.rename(columns={'开户':'开户2','注册':'注册2','接收IP':'接收IP2','对比昨天(总开户)':'开户','对比昨天(总注册)':'注册','对比昨天(接收IP)':'接收IP','对比昨天(总IP)':'总IP'})\n",
    "shuju2.columns"
   ],
   "metadata": {
    "collapsed": false
   }
  },
  {
   "cell_type": "code",
   "execution_count": 49,
   "outputs": [
    {
     "data": {
      "text/plain": "43"
     },
     "execution_count": 49,
     "metadata": {},
     "output_type": "execute_result"
    },
    {
     "data": {
      "text/plain": "48"
     },
     "execution_count": 49,
     "metadata": {},
     "output_type": "execute_result"
    },
    {
     "data": {
      "text/plain": "47"
     },
     "execution_count": 49,
     "metadata": {},
     "output_type": "execute_result"
    },
    {
     "data": {
      "text/plain": "1"
     },
     "execution_count": 49,
     "metadata": {},
     "output_type": "execute_result"
    },
    {
     "data": {
      "text/plain": "10"
     },
     "execution_count": 49,
     "metadata": {},
     "output_type": "execute_result"
    },
    {
     "data": {
      "text/plain": "4"
     },
     "execution_count": 49,
     "metadata": {},
     "output_type": "execute_result"
    },
    {
     "data": {
      "text/plain": "2"
     },
     "execution_count": 49,
     "metadata": {},
     "output_type": "execute_result"
    },
    {
     "data": {
      "text/plain": "102"
     },
     "execution_count": 49,
     "metadata": {},
     "output_type": "execute_result"
    },
    {
     "data": {
      "text/plain": "3"
     },
     "execution_count": 49,
     "metadata": {},
     "output_type": "execute_result"
    },
    {
     "data": {
      "text/plain": "2"
     },
     "execution_count": 49,
     "metadata": {},
     "output_type": "execute_result"
    },
    {
     "data": {
      "text/plain": "58"
     },
     "execution_count": 49,
     "metadata": {},
     "output_type": "execute_result"
    },
    {
     "data": {
      "text/plain": "2"
     },
     "execution_count": 49,
     "metadata": {},
     "output_type": "execute_result"
    },
    {
     "data": {
      "text/plain": "2"
     },
     "execution_count": 49,
     "metadata": {},
     "output_type": "execute_result"
    },
    {
     "data": {
      "text/plain": "96"
     },
     "execution_count": 49,
     "metadata": {},
     "output_type": "execute_result"
    },
    {
     "data": {
      "text/plain": "4"
     },
     "execution_count": 49,
     "metadata": {},
     "output_type": "execute_result"
    },
    {
     "data": {
      "text/plain": "2"
     },
     "execution_count": 49,
     "metadata": {},
     "output_type": "execute_result"
    },
    {
     "data": {
      "text/plain": "127"
     },
     "execution_count": 49,
     "metadata": {},
     "output_type": "execute_result"
    },
    {
     "data": {
      "text/plain": "6"
     },
     "execution_count": 49,
     "metadata": {},
     "output_type": "execute_result"
    },
    {
     "data": {
      "text/plain": "2"
     },
     "execution_count": 49,
     "metadata": {},
     "output_type": "execute_result"
    },
    {
     "data": {
      "text/plain": "127"
     },
     "execution_count": 49,
     "metadata": {},
     "output_type": "execute_result"
    },
    {
     "data": {
      "text/plain": "3"
     },
     "execution_count": 49,
     "metadata": {},
     "output_type": "execute_result"
    },
    {
     "data": {
      "text/plain": "2"
     },
     "execution_count": 49,
     "metadata": {},
     "output_type": "execute_result"
    },
    {
     "data": {
      "text/plain": "91"
     },
     "execution_count": 49,
     "metadata": {},
     "output_type": "execute_result"
    },
    {
     "data": {
      "text/plain": "5"
     },
     "execution_count": 49,
     "metadata": {},
     "output_type": "execute_result"
    },
    {
     "data": {
      "text/plain": "2"
     },
     "execution_count": 49,
     "metadata": {},
     "output_type": "execute_result"
    },
    {
     "data": {
      "text/plain": "26"
     },
     "execution_count": 49,
     "metadata": {},
     "output_type": "execute_result"
    },
    {
     "data": {
      "text/plain": "4"
     },
     "execution_count": 49,
     "metadata": {},
     "output_type": "execute_result"
    },
    {
     "data": {
      "text/plain": "2"
     },
     "execution_count": 49,
     "metadata": {},
     "output_type": "execute_result"
    },
    {
     "data": {
      "text/plain": "89"
     },
     "execution_count": 49,
     "metadata": {},
     "output_type": "execute_result"
    },
    {
     "data": {
      "text/plain": "3"
     },
     "execution_count": 49,
     "metadata": {},
     "output_type": "execute_result"
    },
    {
     "data": {
      "text/plain": "2"
     },
     "execution_count": 49,
     "metadata": {},
     "output_type": "execute_result"
    },
    {
     "data": {
      "text/plain": "97"
     },
     "execution_count": 49,
     "metadata": {},
     "output_type": "execute_result"
    },
    {
     "data": {
      "text/plain": "1"
     },
     "execution_count": 49,
     "metadata": {},
     "output_type": "execute_result"
    },
    {
     "data": {
      "text/plain": "35"
     },
     "execution_count": 49,
     "metadata": {},
     "output_type": "execute_result"
    }
   ],
   "source": [
    "with open(r'C:\\Users\\User\\Desktop\\SEO\\截图文件\\seo_12.txt','w') as f:\n",
    "    f.write(f'截止今日12点,   注册:  {shuju.loc[\"当日汇总\",\"注册\"]} ,开户:  {shuju.loc[\"当日汇总\",\"开户\"]}，整体'\n",
    "            f'转化率 : {shuju.loc[\"当日汇总\",\"转化率(%)\"]}%\\n')\n",
    "    f.write(f\"对比昨日12点,   注册:  {be_data.loc[be_data['人员']=='当日汇总','注册'].values[0]} ,开户:  {be_data.loc[be_data['人员']=='当日汇总','开户'].values[0]}，整体转化率 : {be_data.loc[be_data['人员']=='当日汇总','转化率(%)'].values[0]}%\\n\")\n",
    "    f.write(f'同比昨日变化,   注册:  {shuju.loc[\"当日汇总\",\"注册\"]-be_data.loc[be_data[\"人员\"]==\"当日汇总\",\"注册\"].values[0]} ,开户:  {shuju.loc[\"当日汇总\",\"开户\"]-be_data.loc[be_data[\"人员\"]==\"当日汇总\",\"开户\"].values[0]}，整体转化率 : {round(shuju.loc[\"当日汇总\",\"转化率(%)\"]-be_data.loc[be_data[\"人员\"]==\"当日汇总\",\"转化率(%)\"].values[0],2)}%\\n')\n",
    "    f.write('\\n')\n",
    "    f.write(f'人员下降指标如下：\\n')\n",
    "    for i in range(9):\n",
    "        f.write(shuju2.iloc[i,:]['人员'])\n",
    "        f.write(', ')\n",
    "        f.write(str(list(shuju2.iloc[:,11:].iloc[i,:][shuju2.iloc[:,11:].iloc[i,:]<0].index))+'\\n')\n",
    "    f.write('\\n')\n",
    "    f.write(f'转化率<30%的人员：{str(list(shuju[:-1].loc[shuju[:-1][\"转化率(%)\"]<30,:][\"人员\"]))}')"
   ],
   "metadata": {
    "collapsed": false
   }
  },
  {
   "cell_type": "code",
   "execution_count": null,
   "outputs": [],
   "source": [],
   "metadata": {
    "collapsed": false
   }
  },
  {
   "cell_type": "code",
   "execution_count": 36,
   "outputs": [
    {
     "data": {
      "text/plain": "True"
     },
     "execution_count": 36,
     "metadata": {},
     "output_type": "execute_result"
    },
    {
     "data": {
      "text/plain": "<telebot.types.Message at 0x20243d84210>"
     },
     "execution_count": 36,
     "metadata": {},
     "output_type": "execute_result"
    },
    {
     "data": {
      "text/plain": "<telebot.types.Message at 0x202426b0710>"
     },
     "execution_count": 36,
     "metadata": {},
     "output_type": "execute_result"
    },
    {
     "name": "stdout",
     "output_type": "stream",
     "text": [
      "                         日期     时间      人员  发送IP  接收IP   注册  注册率(%)  开户  \\\n",
      "Aber    2023-08-29 00:00:00  18:13    Aber  2231   403   27    1.21  11   \n",
      "Ben     2023-08-29 00:00:00  18:13     Ben   328    90    2    0.61   2   \n",
      "DK      2023-08-29 00:00:00  18:13      DK   107  1011    5    4.67   1   \n",
      "Hugo    2023-08-29 00:00:00  18:13    Hugo  1102     0   31    2.81   8   \n",
      "Martin  2023-08-29 00:00:00  18:13  Martin  1049     0   28    2.67  11   \n",
      "Max     2023-08-29 00:00:00  18:13     Max   170   145    0     0.0   0   \n",
      "Paddy   2023-08-29 00:00:00  18:13   Paddy     1    12    0     0.0   1   \n",
      "Tony    2023-08-29 00:00:00  18:13    Tony   374     0   11    2.94   4   \n",
      "Zed     2023-08-29 00:00:00  18:13     Zed  3537   207   10    0.28   2   \n",
      "当日汇总    2023-08-29 00:00:00  18:13    当日汇总  8899  1868  114    1.28  40   \n",
      "0                        日期     时间      人员   总IP  接收IP   注册  注册率(%)  开户   \n",
      "0                        日期     时间      人员   总IP  接收IP   注册  注册率(%)  开户   \n",
      "\n",
      "        转化率(%)  对比昨天(总IP)  对比前3天均值(总IP)  对比前7天均值(总IP)  对比昨天(接收IP)  \\\n",
      "Aber     40.74       -367           376           327         -59   \n",
      "Ben      100.0       -103            58            42           9   \n",
      "DK        20.0         -1           -27            -8        -256   \n",
      "Hugo     25.81       -155           325           356           0   \n",
      "Martin   39.29       -889          -481          -507           0   \n",
      "Max        0.0          0            48            47         -17   \n",
      "Paddy      0.0          0             0             0           3   \n",
      "Tony     36.36       -118            44            34           0   \n",
      "Zed       20.0       -612           836           750         -39   \n",
      "当日汇总     35.09      -2245          1179          1041        -359   \n",
      "0       转化率(%)  对比昨天(总IP)  对比前3天均值(总IP)  对比前7天均值(总IP)  对比昨天(接收IP)   \n",
      "0       转化率(%)  对比昨天(总IP)  对比前3天均值(总IP)  对比前7天均值(总IP)  对比昨天(接收IP)   \n",
      "\n",
      "        对比前3天均值(接收IP)  对比前7天均值(接收IP)  对比昨天(总注册)  对比前3天均值(总注册)  对比前7天均值(总注册)  \\\n",
      "Aber              239            275        -11            13            16   \n",
      "Ben                62             68         -2             0             0   \n",
      "DK                584            688          1            -2            -4   \n",
      "Hugo              -13            -18         -4            16            19   \n",
      "Martin            -25            -30        -15            11            15   \n",
      "Max                90            103          0             0             0   \n",
      "Paddy               8              9          0             0             0   \n",
      "Tony               -4             -5         -4             4             5   \n",
      "Zed               119            136         -3             5             6   \n",
      "当日汇总             1060           1226        -38            47            57   \n",
      "0       对比前3天均值(接收IP)  对比前7天均值(接收IP)  对比昨天(总注册)  对比前3天均值(总注册)  对比前7天均值(总注册)   \n",
      "0       对比前3天均值(接收IP)  对比前7天均值(接收IP)  对比昨天(总注册)  对比前3天均值(总注册)  对比前7天均值(总注册)   \n",
      "\n",
      "        对比昨天(总开户)  对比前3天均值(总开户)  对比前7天均值(总开户)  \n",
      "Aber            2            -9            -9  \n",
      "Ben            -2           -32           -36  \n",
      "DK              0           -20           -19  \n",
      "Hugo           -5           -16           -18  \n",
      "Martin         -9           -11           -14  \n",
      "Max             0             0             0  \n",
      "Paddy           1             1             1  \n",
      "Tony            0           -49           -38  \n",
      "Zed            -2           -31           -34  \n",
      "当日汇总          -15          -167          -167  \n",
      "0       对比昨天(总开户)  对比前3天均值(总开户)  对比前7天均值(总开户)  \n",
      "0       对比昨天(总开户)  对比前3天均值(总开户)  对比前7天均值(总开户)  \n"
     ]
    }
   ],
   "source": [
    "# 增加行末表头\n",
    "header_shuju = pd.DataFrame({'日期':'日期',\n",
    "                             '时间':'时间',\n",
    "                             '人员':'人员',\n",
    "                             '发送IP':'总IP',\n",
    "                             '接收IP':'接收IP',\n",
    "                             '注册':'注册',\n",
    "                             '注册率(%)':'注册率(%)',\n",
    "                             '开户':'开户',\n",
    "                             '转化率(%)':'转化率(%)',\n",
    "                             '对比昨天(总IP)':'对比昨天(总IP)',\n",
    "                             '对比前3天均值(总IP)':'对比前3天均值(总IP)',\n",
    "                             '对比前7天均值(总IP)':'对比前7天均值(总IP)',\n",
    "                             '对比昨天(接收IP)':'对比昨天(接收IP)',\n",
    "                             '对比前3天均值(接收IP)':'对比前3天均值(接收IP)',\n",
    "                             '对比前7天均值(接收IP)':'对比前7天均值(接收IP)',\n",
    "                             '对比昨天(总注册)':'对比昨天(总注册)',\n",
    "                             '对比前3天均值(总注册)':'对比前3天均值(总注册)',\n",
    "                             '对比前7天均值(总注册)':'对比前7天均值(总注册)',\n",
    "                             '对比昨天(总开户)':'对比昨天(总开户)',\n",
    "                             '对比前3天均值(总开户)':'对比前3天均值(总开户)',\n",
    "                             '对比前7天均值(总开户)':'对比前7天均值(总开户)'},index=[0])\n",
    "shuju = shuju.append(header_shuju)\n",
    "app = xw.App(visible=False,add_book=False)\n",
    "book = app.books.open(r'C:\\Users\\User\\Desktop\\SEO\\SEO总表(12点+18点).xlsx')\n",
    "\n",
    "sheet_shuju = book.sheets['数据(12点)_2']\n",
    "row_shuju = sheet_shuju.used_range.last_cell.row\n",
    "\n",
    "sheet_shuju['A'+str(row_shuju+1)].options(index=False,header = False).value = shuju\n",
    "# sheet_ip['A'+str(row_ip+1)].options(index=False,header = False).value = ip_data\n",
    "book.save()\n",
    "book.close()\n",
    "\n",
    "# # 添加条件格式\n",
    "wb = load_workbook(r'C:\\Users\\User\\Desktop\\SEO\\SEO总表(12点+18点).xlsx')\n",
    "ws = wb['数据(12点)_2']\n",
    "redFill = Font(color='FF0000')\n",
    "ws.conditional_formatting.add(f'K{row_shuju +1}:U{row_shuju+10}',\n",
    "                              formatting.rule.CellIsRule(operator='lessThan',\n",
    "                                                         formula=['0'],\n",
    "                                                         font=redFill))\n",
    "wb.save(filename=r'C:\\Users\\User\\Desktop\\SEO\\SEO总表(12点+18点).xlsx')\n",
    "wb.close()\n",
    "# # 保存截图\n",
    "book2 = app.books.open(r'C:\\Users\\User\\Desktop\\SEO\\SEO总表(12点+18点).xlsx')\n",
    "sheet2_shuju = book2.sheets['数据(12点)_2']\n",
    "# sheet2_ip =  book2.sheets['ip历史']\n",
    "range_shuju = sheet2_shuju.range(f'A{row_shuju+1}:U{row_shuju+11}')\n",
    "range_shuju.api.CopyPicture()\n",
    "img_shuju = ImageGrab.grabclipboard()  # 获取剪贴板的图片数据\n",
    "img_shuju.save(r'C:\\Users\\User\\Desktop\\SEO\\截图文件\\shuju(12h)-2.png')  # 保存图片\n",
    "# pyperclip.copy('')\n",
    "# # 删除行末表头\n",
    "def delete_row(sheet, row_index):\n",
    "    range_obj = sheet.range(f'A{row_index}:A{row_index}')\n",
    "    range_obj.api.EntireRow.Delete()\n",
    "delete_row(sheet2_shuju,row_shuju+11)\n",
    "time.sleep(2)\n",
    "#\n",
    "\n",
    "book2.save()\n",
    "book2.close()\n",
    "app.quit()\n",
    "# # 发送到群\n",
    "with open(r'C:\\Users\\User\\Desktop\\SEO\\截图文件\\seo_12.txt','r') as f:\n",
    "    text = f.read()\n",
    "\n",
    "bot_DA = telebot.TeleBot(\"6106076754:AAHjxPSBpyjwpY-lq1iEslUufW46XQvAfr0\")\n",
    "bot_DA.send_photo(-677235937,open(r'C:\\Users\\User\\Desktop\\SEO\\截图文件\\shuju(12h)-2.png','rb'))\n",
    "bot_DA.send_message(-677235937,text)\n",
    "bot_DA.stop_polling()\n",
    "# 查看\n",
    "print(shuju)"
   ],
   "metadata": {
    "collapsed": false
   }
  },
  {
   "cell_type": "code",
   "execution_count": 19,
   "outputs": [
    {
     "name": "stdout",
     "output_type": "stream",
     "text": [
      "<class 'pandas.core.frame.DataFrame'>\n",
      "RangeIndex: 40 entries, 0 to 39\n",
      "Data columns (total 21 columns):\n",
      " #   Column         Non-Null Count  Dtype         \n",
      "---  ------         --------------  -----         \n",
      " 0   日期             40 non-null     datetime64[ns]\n",
      " 1   时间             40 non-null     object        \n",
      " 2   人员             40 non-null     object        \n",
      " 3   总IP            40 non-null     int64         \n",
      " 4   接收IP           40 non-null     int64         \n",
      " 5   注册             39 non-null     float64       \n",
      " 6   注册率(%)         40 non-null     float64       \n",
      " 7   开户             40 non-null     float64       \n",
      " 8   转化率(%)         40 non-null     float64       \n",
      " 9   对比昨天(总IP)      40 non-null     int64         \n",
      " 10  对比前3天均值(总IP)   40 non-null     int64         \n",
      " 11  对比前7天均值(总IP)   40 non-null     int64         \n",
      " 12  对比昨天(接收IP)     10 non-null     float64       \n",
      " 13  对比前3天均值(接收IP)  10 non-null     float64       \n",
      " 14  对比前7天均值(接收IP)  10 non-null     float64       \n",
      " 15  对比昨天(总注册)      40 non-null     int64         \n",
      " 16  对比前3天均值(总注册)   40 non-null     int64         \n",
      " 17  对比前7天均值(总注册)   40 non-null     int64         \n",
      " 18  对比昨天(总开户)      40 non-null     int64         \n",
      " 19  对比前3天均值(总开户)   40 non-null     int64         \n",
      " 20  对比前7天均值(总开户)   40 non-null     int64         \n",
      "dtypes: datetime64[ns](1), float64(7), int64(11), object(2)\n",
      "memory usage: 6.7+ KB\n"
     ]
    }
   ],
   "source": [
    "his_data.info()"
   ],
   "metadata": {
    "collapsed": false
   }
  }
 ],
 "metadata": {
  "kernelspec": {
   "display_name": "Python 3",
   "language": "python",
   "name": "python3"
  },
  "language_info": {
   "codemirror_mode": {
    "name": "ipython",
    "version": 2
   },
   "file_extension": ".py",
   "mimetype": "text/x-python",
   "name": "python",
   "nbconvert_exporter": "python",
   "pygments_lexer": "ipython2",
   "version": "2.7.6"
  }
 },
 "nbformat": 4,
 "nbformat_minor": 0
}
