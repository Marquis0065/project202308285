{
 "cells": [
  {
   "cell_type": "code",
   "execution_count": 1,
   "metadata": {
    "collapsed": true
   },
   "outputs": [
    {
     "data": {
      "text/plain": "            会员账号          代理  用户状态        用户层级 VIP等级            注册时间 首存时间  \\\n0      robin3024  btyseo7003    正常  seo新注册默认层级  VIP0  2023/7/3 23:54   --   \n1       hiepdo62     zsdl123    正常     新注册默认层级  VIP0  2023/7/4 19:20   --   \n2       ljh58222      zh0325    正常  seo新注册默认层级  VIP0  2023/7/1 14:16   --   \n3       ata26803      zh0325    正常  seo新注册默认层级  VIP0   2023/7/2 0:37   --   \n4  testben020313  btyseo6600  完全锁定  seo新注册默认层级  VIP0   2023/7/2 3:13   --   \n\n    备注 绑定银行卡 同设备号会员  ... 未登录天数  未下注天数  未充值天数         最后成功登录时间  \\\n0  NaN     否      否  ...  39.0   50.0   50.0  2023/7/14 14:59   \n1  NaN     否      否  ...  43.0   49.0   49.0  2023/7/10 14:55   \n2  NaN     否      否  ...  52.0   52.0   52.0   2023/7/1 14:16   \n3  NaN     否      否  ...  51.0   51.0   51.0    2023/7/2 0:37   \n4  NaN     否      否  ...  51.0   51.0   51.0    2023/7/2 3:13   \n\n          最后尝试登录时间 最后存款时间   币种 最近3个月充值金额  最近3个月下注金额  最近3个月公司盈利  \n0  2023/7/14 14:59     --  NaN       0.0        0.0        0.0  \n1  2023/7/10 14:55     --  NaN       0.0        0.0        0.0  \n2   2023/7/1 14:16     --  NaN       0.0        0.0        0.0  \n3    2023/7/2 0:37     --  NaN       0.0        0.0        0.0  \n4    2023/7/2 3:13     --  NaN       0.0        0.0        0.0  \n\n[5 rows x 21 columns]",
      "text/html": "<div>\n<style scoped>\n    .dataframe tbody tr th:only-of-type {\n        vertical-align: middle;\n    }\n\n    .dataframe tbody tr th {\n        vertical-align: top;\n    }\n\n    .dataframe thead th {\n        text-align: right;\n    }\n</style>\n<table border=\"1\" class=\"dataframe\">\n  <thead>\n    <tr style=\"text-align: right;\">\n      <th></th>\n      <th>会员账号</th>\n      <th>代理</th>\n      <th>用户状态</th>\n      <th>用户层级</th>\n      <th>VIP等级</th>\n      <th>注册时间</th>\n      <th>首存时间</th>\n      <th>备注</th>\n      <th>绑定银行卡</th>\n      <th>同设备号会员</th>\n      <th>...</th>\n      <th>未登录天数</th>\n      <th>未下注天数</th>\n      <th>未充值天数</th>\n      <th>最后成功登录时间</th>\n      <th>最后尝试登录时间</th>\n      <th>最后存款时间</th>\n      <th>币种</th>\n      <th>最近3个月充值金额</th>\n      <th>最近3个月下注金额</th>\n      <th>最近3个月公司盈利</th>\n    </tr>\n  </thead>\n  <tbody>\n    <tr>\n      <th>0</th>\n      <td>robin3024</td>\n      <td>btyseo7003</td>\n      <td>正常</td>\n      <td>seo新注册默认层级</td>\n      <td>VIP0</td>\n      <td>2023/7/3 23:54</td>\n      <td>--</td>\n      <td>NaN</td>\n      <td>否</td>\n      <td>否</td>\n      <td>...</td>\n      <td>39.0</td>\n      <td>50.0</td>\n      <td>50.0</td>\n      <td>2023/7/14 14:59</td>\n      <td>2023/7/14 14:59</td>\n      <td>--</td>\n      <td>NaN</td>\n      <td>0.0</td>\n      <td>0.0</td>\n      <td>0.0</td>\n    </tr>\n    <tr>\n      <th>1</th>\n      <td>hiepdo62</td>\n      <td>zsdl123</td>\n      <td>正常</td>\n      <td>新注册默认层级</td>\n      <td>VIP0</td>\n      <td>2023/7/4 19:20</td>\n      <td>--</td>\n      <td>NaN</td>\n      <td>否</td>\n      <td>否</td>\n      <td>...</td>\n      <td>43.0</td>\n      <td>49.0</td>\n      <td>49.0</td>\n      <td>2023/7/10 14:55</td>\n      <td>2023/7/10 14:55</td>\n      <td>--</td>\n      <td>NaN</td>\n      <td>0.0</td>\n      <td>0.0</td>\n      <td>0.0</td>\n    </tr>\n    <tr>\n      <th>2</th>\n      <td>ljh58222</td>\n      <td>zh0325</td>\n      <td>正常</td>\n      <td>seo新注册默认层级</td>\n      <td>VIP0</td>\n      <td>2023/7/1 14:16</td>\n      <td>--</td>\n      <td>NaN</td>\n      <td>否</td>\n      <td>否</td>\n      <td>...</td>\n      <td>52.0</td>\n      <td>52.0</td>\n      <td>52.0</td>\n      <td>2023/7/1 14:16</td>\n      <td>2023/7/1 14:16</td>\n      <td>--</td>\n      <td>NaN</td>\n      <td>0.0</td>\n      <td>0.0</td>\n      <td>0.0</td>\n    </tr>\n    <tr>\n      <th>3</th>\n      <td>ata26803</td>\n      <td>zh0325</td>\n      <td>正常</td>\n      <td>seo新注册默认层级</td>\n      <td>VIP0</td>\n      <td>2023/7/2 0:37</td>\n      <td>--</td>\n      <td>NaN</td>\n      <td>否</td>\n      <td>否</td>\n      <td>...</td>\n      <td>51.0</td>\n      <td>51.0</td>\n      <td>51.0</td>\n      <td>2023/7/2 0:37</td>\n      <td>2023/7/2 0:37</td>\n      <td>--</td>\n      <td>NaN</td>\n      <td>0.0</td>\n      <td>0.0</td>\n      <td>0.0</td>\n    </tr>\n    <tr>\n      <th>4</th>\n      <td>testben020313</td>\n      <td>btyseo6600</td>\n      <td>完全锁定</td>\n      <td>seo新注册默认层级</td>\n      <td>VIP0</td>\n      <td>2023/7/2 3:13</td>\n      <td>--</td>\n      <td>NaN</td>\n      <td>否</td>\n      <td>否</td>\n      <td>...</td>\n      <td>51.0</td>\n      <td>51.0</td>\n      <td>51.0</td>\n      <td>2023/7/2 3:13</td>\n      <td>2023/7/2 3:13</td>\n      <td>--</td>\n      <td>NaN</td>\n      <td>0.0</td>\n      <td>0.0</td>\n      <td>0.0</td>\n    </tr>\n  </tbody>\n</table>\n<p>5 rows × 21 columns</p>\n</div>"
     },
     "execution_count": 1,
     "metadata": {},
     "output_type": "execute_result"
    }
   ],
   "source": [
    "import pandas as pd\n",
    "df = pd.read_clipboard()\n",
    "df.head()"
   ]
  },
  {
   "cell_type": "code",
   "execution_count": 6,
   "outputs": [
    {
     "data": {
      "text/plain": "'20230820'"
     },
     "execution_count": 6,
     "metadata": {},
     "output_type": "execute_result"
    }
   ],
   "source": [
    "import time\n",
    "import datetime\n",
    "(datetime.datetime.now()+datetime.timedelta(days=-2)).strftime('%Y%m%d')"
   ],
   "metadata": {
    "collapsed": false
   }
  }
 ],
 "metadata": {
  "kernelspec": {
   "name": "requestium",
   "language": "python",
   "display_name": "Requestium"
  },
  "language_info": {
   "codemirror_mode": {
    "name": "ipython",
    "version": 2
   },
   "file_extension": ".py",
   "mimetype": "text/x-python",
   "name": "python",
   "nbconvert_exporter": "python",
   "pygments_lexer": "ipython2",
   "version": "2.7.6"
  }
 },
 "nbformat": 4,
 "nbformat_minor": 0
}
