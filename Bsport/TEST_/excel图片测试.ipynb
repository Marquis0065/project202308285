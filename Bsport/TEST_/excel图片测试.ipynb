{
 "cells": [
  {
   "cell_type": "code",
   "execution_count": 1,
   "metadata": {
    "collapsed": true
   },
   "outputs": [],
   "source": [
    "# 读取excel内容转换为图片\n",
    "from PIL import ImageGrab\n",
    "import xlwings as xw\n",
    "import pythoncom\n",
    "import os\n",
    "import time"
   ]
  },
  {
   "cell_type": "code",
   "execution_count": 8,
   "outputs": [],
   "source": [
    "app = xw.App(visible=False,add_book=False)\n",
    "book = app.books.open(r'C:\\Users\\User\\Desktop\\其它\\人资行政日常管理流程及邮件规范.xlsx')\n",
    "book2 = app.books.open(r'C:\\Users\\User\\Desktop\\其它\\target.xlsx')\n",
    "sheet = book.sheets['证件申请']\n",
    "sheet1 = book2.sheets[2]\n",
    "# 获取有内容的区域\n",
    "all = sheet.used_range\n",
    "# 复制\n",
    "all.api.CopyPicture()\n",
    "time.sleep(3)\n",
    "# 粘贴\n",
    "sheet1.api.Paste()\n",
    "book2.save()\n",
    "book.close()\n",
    "book2.close()\n",
    "app.quit()"
   ],
   "metadata": {
    "collapsed": false
   }
  },
  {
   "cell_type": "code",
   "execution_count": null,
   "outputs": [],
   "source": [
    "# 当前图片\n",
    "pic = sheet.pictures[-1]\n",
    "# 复制图片\n",
    "pic.api.copy()\n",
    "time.sleep(3)# 延迟一下操作，不然获取不到图片\n",
    "# 获取剪贴板的图片数据\n",
    "img = ImageGrab.grabclipboard()\n",
    "# 保存图片\n",
    "img.save('img_name.png')\n",
    "# 删除sheet上的图片\n",
    "pic.delete()\n",
    "# 不保存，直接关闭\n",
    "wb.close()\n",
    "# 退出xlwings的app启动\n",
    "app.quit()"
   ],
   "metadata": {
    "collapsed": false
   }
  },
  {
   "cell_type": "code",
   "execution_count": 11,
   "outputs": [],
   "source": [
    "app = xw.App(visible=False,add_book=False)\n",
    "book = app.books.open(r'C:\\Users\\User\\Desktop\\其它\\target.xlsx')\n",
    "sheet = book.sheets[0]\n",
    "sheet2 = book.sheets[5]\n",
    "source = sheet.range('A1:G9')\n",
    "source.copy()\n",
    "sheet2.range('A3').paste()\n",
    "book.save()\n",
    "book.close()\n",
    "app.quit()"
   ],
   "metadata": {
    "collapsed": false
   }
  }
 ],
 "metadata": {
  "kernelspec": {
   "display_name": "Python 3",
   "language": "python",
   "name": "python3"
  },
  "language_info": {
   "codemirror_mode": {
    "name": "ipython",
    "version": 2
   },
   "file_extension": ".py",
   "mimetype": "text/x-python",
   "name": "python",
   "nbconvert_exporter": "python",
   "pygments_lexer": "ipython2",
   "version": "2.7.6"
  }
 },
 "nbformat": 4,
 "nbformat_minor": 0
}
