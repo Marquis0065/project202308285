{
 "cells": [
  {
   "cell_type": "code",
   "execution_count": 30,
   "outputs": [
    {
     "data": {
      "text/plain": "           seo变化数据团队\nseo变化数据团队           \n67直播               1\nCyrus              2\nDK                 1\nGT-B直播            18\nGT-骨头              3\nSEO掉线用户转线         11\nSEO邀请              6\nSOCO越南直播          37\naber               9\nhugo              16\nmartin            13\nmax                1\ntony               2\nzed                7\n原电销使用              2\n外部代理总线            13\n官网                11\n小Peter             1\n米乐转线               5\n雨燕直播              11\n雨燕直播-越           180\n飞哥雨燕直播            43\n鲲鹏admin            3",
      "text/html": "<div>\n<style scoped>\n    .dataframe tbody tr th:only-of-type {\n        vertical-align: middle;\n    }\n\n    .dataframe tbody tr th {\n        vertical-align: top;\n    }\n\n    .dataframe thead th {\n        text-align: right;\n    }\n</style>\n<table border=\"1\" class=\"dataframe\">\n  <thead>\n    <tr style=\"text-align: right;\">\n      <th></th>\n      <th>seo变化数据团队</th>\n    </tr>\n    <tr>\n      <th>seo变化数据团队</th>\n      <th></th>\n    </tr>\n  </thead>\n  <tbody>\n    <tr>\n      <th>67直播</th>\n      <td>1</td>\n    </tr>\n    <tr>\n      <th>Cyrus</th>\n      <td>2</td>\n    </tr>\n    <tr>\n      <th>DK</th>\n      <td>1</td>\n    </tr>\n    <tr>\n      <th>GT-B直播</th>\n      <td>18</td>\n    </tr>\n    <tr>\n      <th>GT-骨头</th>\n      <td>3</td>\n    </tr>\n    <tr>\n      <th>SEO掉线用户转线</th>\n      <td>11</td>\n    </tr>\n    <tr>\n      <th>SEO邀请</th>\n      <td>6</td>\n    </tr>\n    <tr>\n      <th>SOCO越南直播</th>\n      <td>37</td>\n    </tr>\n    <tr>\n      <th>aber</th>\n      <td>9</td>\n    </tr>\n    <tr>\n      <th>hugo</th>\n      <td>16</td>\n    </tr>\n    <tr>\n      <th>martin</th>\n      <td>13</td>\n    </tr>\n    <tr>\n      <th>max</th>\n      <td>1</td>\n    </tr>\n    <tr>\n      <th>tony</th>\n      <td>2</td>\n    </tr>\n    <tr>\n      <th>zed</th>\n      <td>7</td>\n    </tr>\n    <tr>\n      <th>原电销使用</th>\n      <td>2</td>\n    </tr>\n    <tr>\n      <th>外部代理总线</th>\n      <td>13</td>\n    </tr>\n    <tr>\n      <th>官网</th>\n      <td>11</td>\n    </tr>\n    <tr>\n      <th>小Peter</th>\n      <td>1</td>\n    </tr>\n    <tr>\n      <th>米乐转线</th>\n      <td>5</td>\n    </tr>\n    <tr>\n      <th>雨燕直播</th>\n      <td>11</td>\n    </tr>\n    <tr>\n      <th>雨燕直播-越</th>\n      <td>180</td>\n    </tr>\n    <tr>\n      <th>飞哥雨燕直播</th>\n      <td>43</td>\n    </tr>\n    <tr>\n      <th>鲲鹏admin</th>\n      <td>3</td>\n    </tr>\n  </tbody>\n</table>\n</div>"
     },
     "execution_count": 30,
     "metadata": {},
     "output_type": "execute_result"
    }
   ],
   "source": [
    "import os\n",
    "import pandas as pd\n",
    "os.chdir(r\"C:\\Users\\User\\Desktop\\SEO\\0827\")\n",
    "firChargeUser = pd.read_csv('会员首存报表.csv',encoding='gbk')\n",
    "daili = pd.read_excel(r'C:\\Users\\User\\Desktop\\SEO\\数据+ip历史.xlsx','代理总表')\n",
    "merge_charge = pd.merge(firChargeUser,daili,how='left',left_on='所属代理',right_on='代理线')\n",
    "grp3  = merge_charge[merge_charge['注册时间'].str[:9]==merge_charge['交易时间'].str[:9]].groupby('seo变化数据团队').agg({'seo变化数据团队':len})\n",
    "grp3"
   ],
   "metadata": {
    "collapsed": false
   }
  },
  {
   "cell_type": "code",
   "execution_count": 34,
   "outputs": [
    {
     "data": {
      "text/plain": "           seo变化数据团队\nseo变化数据团队           \n67直播               1\nCyrus              2\nDK                 1\nGT-B直播            18\nGT-骨头              3\nSEO掉线用户转线         11\nSEO邀请              6\nSOCO越南直播          37\naber               9\nhugo              16\nmartin            13\nmax                1\ntony               2\nzed                7\n原电销使用              2\n外部代理总线            13\n官网                11\n小Peter             1\n米乐转线               5\n雨燕直播              11\n雨燕直播-越           180\n飞哥雨燕直播            43\n鲲鹏admin            3",
      "text/html": "<div>\n<style scoped>\n    .dataframe tbody tr th:only-of-type {\n        vertical-align: middle;\n    }\n\n    .dataframe tbody tr th {\n        vertical-align: top;\n    }\n\n    .dataframe thead th {\n        text-align: right;\n    }\n</style>\n<table border=\"1\" class=\"dataframe\">\n  <thead>\n    <tr style=\"text-align: right;\">\n      <th></th>\n      <th>seo变化数据团队</th>\n    </tr>\n    <tr>\n      <th>seo变化数据团队</th>\n      <th></th>\n    </tr>\n  </thead>\n  <tbody>\n    <tr>\n      <th>67直播</th>\n      <td>1</td>\n    </tr>\n    <tr>\n      <th>Cyrus</th>\n      <td>2</td>\n    </tr>\n    <tr>\n      <th>DK</th>\n      <td>1</td>\n    </tr>\n    <tr>\n      <th>GT-B直播</th>\n      <td>18</td>\n    </tr>\n    <tr>\n      <th>GT-骨头</th>\n      <td>3</td>\n    </tr>\n    <tr>\n      <th>SEO掉线用户转线</th>\n      <td>11</td>\n    </tr>\n    <tr>\n      <th>SEO邀请</th>\n      <td>6</td>\n    </tr>\n    <tr>\n      <th>SOCO越南直播</th>\n      <td>37</td>\n    </tr>\n    <tr>\n      <th>aber</th>\n      <td>9</td>\n    </tr>\n    <tr>\n      <th>hugo</th>\n      <td>16</td>\n    </tr>\n    <tr>\n      <th>martin</th>\n      <td>13</td>\n    </tr>\n    <tr>\n      <th>max</th>\n      <td>1</td>\n    </tr>\n    <tr>\n      <th>tony</th>\n      <td>2</td>\n    </tr>\n    <tr>\n      <th>zed</th>\n      <td>7</td>\n    </tr>\n    <tr>\n      <th>原电销使用</th>\n      <td>2</td>\n    </tr>\n    <tr>\n      <th>外部代理总线</th>\n      <td>13</td>\n    </tr>\n    <tr>\n      <th>官网</th>\n      <td>11</td>\n    </tr>\n    <tr>\n      <th>小Peter</th>\n      <td>1</td>\n    </tr>\n    <tr>\n      <th>米乐转线</th>\n      <td>5</td>\n    </tr>\n    <tr>\n      <th>雨燕直播</th>\n      <td>11</td>\n    </tr>\n    <tr>\n      <th>雨燕直播-越</th>\n      <td>180</td>\n    </tr>\n    <tr>\n      <th>飞哥雨燕直播</th>\n      <td>43</td>\n    </tr>\n    <tr>\n      <th>鲲鹏admin</th>\n      <td>3</td>\n    </tr>\n  </tbody>\n</table>\n</div>"
     },
     "execution_count": 34,
     "metadata": {},
     "output_type": "execute_result"
    }
   ],
   "source": [
    "merge_charge[merge_charge['注册时间'].str[:9]==merge_charge['交易时间'].str[:9]].groupby('seo变化数据团队').agg({'seo变化数据团队':len})"
   ],
   "metadata": {
    "collapsed": false
   }
  },
  {
   "cell_type": "code",
   "execution_count": 28,
   "outputs": [
    {
     "data": {
      "text/plain": "(474, 11)"
     },
     "execution_count": 28,
     "metadata": {},
     "output_type": "execute_result"
    }
   ],
   "source": [
    "grp1 = merge_charge[merge_charge['注册时间'].str[:9]==merge_charge['交易时间'].str[:9]]\n",
    "grp1.shape"
   ],
   "metadata": {
    "collapsed": false
   }
  },
  {
   "cell_type": "code",
   "execution_count": 29,
   "outputs": [
    {
     "data": {
      "text/plain": "           seo变化数据团队\nseo变化数据团队           \n67直播               1\nCyrus              2\nDK                 1\nGT-B直播            18\nGT-骨头              3\nSEO掉线用户转线         11\nSEO邀请              6\nSOCO越南直播          37\naber               9\nhugo              16\nmartin            13\nmax                1\ntony               2\nzed                7\n原电销使用              2\n外部代理总线            13\n官网                11\n小Peter             1\n米乐转线               5\n雨燕直播              11\n雨燕直播-越           180\n飞哥雨燕直播            43\n鲲鹏admin            3",
      "text/html": "<div>\n<style scoped>\n    .dataframe tbody tr th:only-of-type {\n        vertical-align: middle;\n    }\n\n    .dataframe tbody tr th {\n        vertical-align: top;\n    }\n\n    .dataframe thead th {\n        text-align: right;\n    }\n</style>\n<table border=\"1\" class=\"dataframe\">\n  <thead>\n    <tr style=\"text-align: right;\">\n      <th></th>\n      <th>seo变化数据团队</th>\n    </tr>\n    <tr>\n      <th>seo变化数据团队</th>\n      <th></th>\n    </tr>\n  </thead>\n  <tbody>\n    <tr>\n      <th>67直播</th>\n      <td>1</td>\n    </tr>\n    <tr>\n      <th>Cyrus</th>\n      <td>2</td>\n    </tr>\n    <tr>\n      <th>DK</th>\n      <td>1</td>\n    </tr>\n    <tr>\n      <th>GT-B直播</th>\n      <td>18</td>\n    </tr>\n    <tr>\n      <th>GT-骨头</th>\n      <td>3</td>\n    </tr>\n    <tr>\n      <th>SEO掉线用户转线</th>\n      <td>11</td>\n    </tr>\n    <tr>\n      <th>SEO邀请</th>\n      <td>6</td>\n    </tr>\n    <tr>\n      <th>SOCO越南直播</th>\n      <td>37</td>\n    </tr>\n    <tr>\n      <th>aber</th>\n      <td>9</td>\n    </tr>\n    <tr>\n      <th>hugo</th>\n      <td>16</td>\n    </tr>\n    <tr>\n      <th>martin</th>\n      <td>13</td>\n    </tr>\n    <tr>\n      <th>max</th>\n      <td>1</td>\n    </tr>\n    <tr>\n      <th>tony</th>\n      <td>2</td>\n    </tr>\n    <tr>\n      <th>zed</th>\n      <td>7</td>\n    </tr>\n    <tr>\n      <th>原电销使用</th>\n      <td>2</td>\n    </tr>\n    <tr>\n      <th>外部代理总线</th>\n      <td>13</td>\n    </tr>\n    <tr>\n      <th>官网</th>\n      <td>11</td>\n    </tr>\n    <tr>\n      <th>小Peter</th>\n      <td>1</td>\n    </tr>\n    <tr>\n      <th>米乐转线</th>\n      <td>5</td>\n    </tr>\n    <tr>\n      <th>雨燕直播</th>\n      <td>11</td>\n    </tr>\n    <tr>\n      <th>雨燕直播-越</th>\n      <td>180</td>\n    </tr>\n    <tr>\n      <th>飞哥雨燕直播</th>\n      <td>43</td>\n    </tr>\n    <tr>\n      <th>鲲鹏admin</th>\n      <td>3</td>\n    </tr>\n  </tbody>\n</table>\n</div>"
     },
     "execution_count": 29,
     "metadata": {},
     "output_type": "execute_result"
    }
   ],
   "source": [
    "grp1.groupby('seo变化数据团队').agg({'seo变化数据团队':len})"
   ],
   "metadata": {
    "collapsed": false
   }
  },
  {
   "cell_type": "code",
   "execution_count": 26,
   "outputs": [
    {
     "data": {
      "text/plain": "           seo变化数据团队\nseo变化数据团队           \n67直播               1\nCyrus              2\nDK                 1\nGT-B直播            18\nGT-骨头              3\nSEO掉线用户转线         11\nSEO邀请              6\nSOCO越南直播          37\naber               9\nhugo              16\nmartin            13\nmax                1\ntony               2\nzed                7\n原电销使用              2\n外部代理总线            13\n官网                11\n小Peter             1\n米乐转线               5\n雨燕直播              11\n雨燕直播-越           180\n飞哥雨燕直播            43\n鲲鹏admin            3",
      "text/html": "<div>\n<style scoped>\n    .dataframe tbody tr th:only-of-type {\n        vertical-align: middle;\n    }\n\n    .dataframe tbody tr th {\n        vertical-align: top;\n    }\n\n    .dataframe thead th {\n        text-align: right;\n    }\n</style>\n<table border=\"1\" class=\"dataframe\">\n  <thead>\n    <tr style=\"text-align: right;\">\n      <th></th>\n      <th>seo变化数据团队</th>\n    </tr>\n    <tr>\n      <th>seo变化数据团队</th>\n      <th></th>\n    </tr>\n  </thead>\n  <tbody>\n    <tr>\n      <th>67直播</th>\n      <td>1</td>\n    </tr>\n    <tr>\n      <th>Cyrus</th>\n      <td>2</td>\n    </tr>\n    <tr>\n      <th>DK</th>\n      <td>1</td>\n    </tr>\n    <tr>\n      <th>GT-B直播</th>\n      <td>18</td>\n    </tr>\n    <tr>\n      <th>GT-骨头</th>\n      <td>3</td>\n    </tr>\n    <tr>\n      <th>SEO掉线用户转线</th>\n      <td>11</td>\n    </tr>\n    <tr>\n      <th>SEO邀请</th>\n      <td>6</td>\n    </tr>\n    <tr>\n      <th>SOCO越南直播</th>\n      <td>37</td>\n    </tr>\n    <tr>\n      <th>aber</th>\n      <td>9</td>\n    </tr>\n    <tr>\n      <th>hugo</th>\n      <td>16</td>\n    </tr>\n    <tr>\n      <th>martin</th>\n      <td>13</td>\n    </tr>\n    <tr>\n      <th>max</th>\n      <td>1</td>\n    </tr>\n    <tr>\n      <th>tony</th>\n      <td>2</td>\n    </tr>\n    <tr>\n      <th>zed</th>\n      <td>7</td>\n    </tr>\n    <tr>\n      <th>原电销使用</th>\n      <td>2</td>\n    </tr>\n    <tr>\n      <th>外部代理总线</th>\n      <td>13</td>\n    </tr>\n    <tr>\n      <th>官网</th>\n      <td>11</td>\n    </tr>\n    <tr>\n      <th>小Peter</th>\n      <td>1</td>\n    </tr>\n    <tr>\n      <th>米乐转线</th>\n      <td>5</td>\n    </tr>\n    <tr>\n      <th>雨燕直播</th>\n      <td>11</td>\n    </tr>\n    <tr>\n      <th>雨燕直播-越</th>\n      <td>180</td>\n    </tr>\n    <tr>\n      <th>飞哥雨燕直播</th>\n      <td>43</td>\n    </tr>\n    <tr>\n      <th>鲲鹏admin</th>\n      <td>3</td>\n    </tr>\n  </tbody>\n</table>\n</div>"
     },
     "execution_count": 26,
     "metadata": {},
     "output_type": "execute_result"
    }
   ],
   "source": [
    "grp2.groupby('seo变化数据团队').agg({'seo变化数据团队':len})"
   ],
   "metadata": {
    "collapsed": false
   }
  },
  {
   "cell_type": "code",
   "execution_count": 22,
   "outputs": [
    {
     "data": {
      "text/plain": "(474, 11)"
     },
     "execution_count": 22,
     "metadata": {},
     "output_type": "execute_result"
    }
   ],
   "source": [
    "merge_charge['注册时间']= pd.to_datetime(merge_charge['注册时间'])\n",
    "merge_charge['交易时间']= pd.to_datetime(merge_charge['交易时间'])\n",
    "grp2 = merge_charge[merge_charge['注册时间'].dt.strftime('%Y/%m/%d')==merge_charge['交易时间'].dt.strftime('%Y/%m/%d')]\n",
    "grp2.shape"
   ],
   "metadata": {
    "collapsed": false
   }
  },
  {
   "cell_type": "code",
   "execution_count": 6,
   "outputs": [
    {
     "name": "stdout",
     "output_type": "stream",
     "text": [
      "<class 'pandas.core.frame.DataFrame'>\n",
      "Int64Index: 668 entries, 0 to 667\n",
      "Data columns (total 11 columns):\n",
      " #   Column     Non-Null Count  Dtype         \n",
      "---  ------     --------------  -----         \n",
      " 0   会员名        668 non-null    object        \n",
      " 1   所属代理       668 non-null    object        \n",
      " 2   注册时间       668 non-null    datetime64[ns]\n",
      " 3   交易时间       668 non-null    datetime64[ns]\n",
      " 4   交易类型       668 non-null    object        \n",
      " 5   币种         668 non-null    object        \n",
      " 6   金额         668 non-null    float64       \n",
      " 7   代理线        572 non-null    object        \n",
      " 8   主线账号       572 non-null    object        \n",
      " 9   seo变化数据团队  572 non-null    object        \n",
      " 10  准点激活团队     572 non-null    object        \n",
      "dtypes: datetime64[ns](2), float64(1), object(8)\n",
      "memory usage: 62.6+ KB\n"
     ]
    }
   ],
   "source": [
    "merge_charge['注册时间']= pd.to_datetime(merge_charge['注册时间'])\n",
    "merge_charge['交易时间']= pd.to_datetime(merge_charge['交易时间'])\n",
    "merge_charge.info()"
   ],
   "metadata": {
    "collapsed": false
   }
  },
  {
   "cell_type": "code",
   "execution_count": 9,
   "outputs": [
    {
     "data": {
      "text/plain": "668"
     },
     "execution_count": 9,
     "metadata": {},
     "output_type": "execute_result"
    }
   ],
   "source": [
    "len(merge_charge['注册时间'].dt.year==merge_charge['交易时间'].dt.year)"
   ],
   "metadata": {
    "collapsed": false
   }
  },
  {
   "cell_type": "code",
   "execution_count": 17,
   "outputs": [
    {
     "data": {
      "text/plain": "           seo变化数据团队\nseo变化数据团队           \n67直播               1\nCyrus              2\nDK                 1\nGT-B直播            18\nGT-骨头              3\nSEO掉线用户转线         11\nSEO邀请              6\nSOCO越南直播          37\naber               9\nhugo              16\nmartin            13\nmax                1\ntony               2\nzed                7\n原电销使用              2\n外部代理总线            13\n官网                11\n小Peter             1\n米乐转线               5\n雨燕直播              11\n雨燕直播-越           180\n飞哥雨燕直播            43\n鲲鹏admin            3",
      "text/html": "<div>\n<style scoped>\n    .dataframe tbody tr th:only-of-type {\n        vertical-align: middle;\n    }\n\n    .dataframe tbody tr th {\n        vertical-align: top;\n    }\n\n    .dataframe thead th {\n        text-align: right;\n    }\n</style>\n<table border=\"1\" class=\"dataframe\">\n  <thead>\n    <tr style=\"text-align: right;\">\n      <th></th>\n      <th>seo变化数据团队</th>\n    </tr>\n    <tr>\n      <th>seo变化数据团队</th>\n      <th></th>\n    </tr>\n  </thead>\n  <tbody>\n    <tr>\n      <th>67直播</th>\n      <td>1</td>\n    </tr>\n    <tr>\n      <th>Cyrus</th>\n      <td>2</td>\n    </tr>\n    <tr>\n      <th>DK</th>\n      <td>1</td>\n    </tr>\n    <tr>\n      <th>GT-B直播</th>\n      <td>18</td>\n    </tr>\n    <tr>\n      <th>GT-骨头</th>\n      <td>3</td>\n    </tr>\n    <tr>\n      <th>SEO掉线用户转线</th>\n      <td>11</td>\n    </tr>\n    <tr>\n      <th>SEO邀请</th>\n      <td>6</td>\n    </tr>\n    <tr>\n      <th>SOCO越南直播</th>\n      <td>37</td>\n    </tr>\n    <tr>\n      <th>aber</th>\n      <td>9</td>\n    </tr>\n    <tr>\n      <th>hugo</th>\n      <td>16</td>\n    </tr>\n    <tr>\n      <th>martin</th>\n      <td>13</td>\n    </tr>\n    <tr>\n      <th>max</th>\n      <td>1</td>\n    </tr>\n    <tr>\n      <th>tony</th>\n      <td>2</td>\n    </tr>\n    <tr>\n      <th>zed</th>\n      <td>7</td>\n    </tr>\n    <tr>\n      <th>原电销使用</th>\n      <td>2</td>\n    </tr>\n    <tr>\n      <th>外部代理总线</th>\n      <td>13</td>\n    </tr>\n    <tr>\n      <th>官网</th>\n      <td>11</td>\n    </tr>\n    <tr>\n      <th>小Peter</th>\n      <td>1</td>\n    </tr>\n    <tr>\n      <th>米乐转线</th>\n      <td>5</td>\n    </tr>\n    <tr>\n      <th>雨燕直播</th>\n      <td>11</td>\n    </tr>\n    <tr>\n      <th>雨燕直播-越</th>\n      <td>180</td>\n    </tr>\n    <tr>\n      <th>飞哥雨燕直播</th>\n      <td>43</td>\n    </tr>\n    <tr>\n      <th>鲲鹏admin</th>\n      <td>3</td>\n    </tr>\n  </tbody>\n</table>\n</div>"
     },
     "execution_count": 17,
     "metadata": {},
     "output_type": "execute_result"
    }
   ],
   "source": [
    "merge_charge[merge_charge['注册时间'].dt.strftime('%Y/%m/%d')==merge_charge['交易时间'].dt.strftime('%Y/%m/%d')].groupby('seo变化数据团队').agg({'seo变化数据团队':len})"
   ],
   "metadata": {
    "collapsed": false
   }
  },
  {
   "cell_type": "code",
   "execution_count": 16,
   "outputs": [
    {
     "ename": "AttributeError",
     "evalue": "'tuple' object has no attribute 'value'",
     "output_type": "error",
     "traceback": [
      "\u001B[1;31m---------------------------------------------------------------------------\u001B[0m",
      "\u001B[1;31mAttributeError\u001B[0m                            Traceback (most recent call last)",
      "Cell \u001B[1;32mIn[16], line 6\u001B[0m\n\u001B[0;32m      4\u001B[0m ws \u001B[38;5;241m=\u001B[39m wb[\u001B[38;5;124m'\u001B[39m\u001B[38;5;124m数据\u001B[39m\u001B[38;5;124m'\u001B[39m]\n\u001B[0;32m      5\u001B[0m \u001B[38;5;28mrange\u001B[39m \u001B[38;5;241m=\u001B[39m ws[\u001B[38;5;124m'\u001B[39m\u001B[38;5;124mA252:K261\u001B[39m\u001B[38;5;124m'\u001B[39m]\n\u001B[1;32m----> 6\u001B[0m pd\u001B[38;5;241m.\u001B[39mDataFrame(\u001B[38;5;28mrange\u001B[39m\u001B[38;5;241m.\u001B[39mvalue)\n\u001B[0;32m      7\u001B[0m wb\u001B[38;5;241m.\u001B[39mclose()\n",
      "\u001B[1;31mAttributeError\u001B[0m: 'tuple' object has no attribute 'value'"
     ]
    }
   ],
   "source": [
    "from openpyxl import load_workbook\n",
    "import pandas as pd\n",
    "wb = load_workbook(r'C:\\Users\\User\\Desktop\\SEO\\数据+ip历史.xlsx')\n",
    "ws = wb['数据']\n",
    "range = ws['A252:K261']\n",
    "pd.DataFrame(range.value)\n",
    "wb.close()"
   ],
   "metadata": {
    "collapsed": false
   }
  },
  {
   "cell_type": "code",
   "execution_count": 21,
   "outputs": [
    {
     "ename": "ImportError",
     "evalue": "cannot import name 'ParseMode' from 'telegram' (C:\\ProgramData\\anaconda3\\envs\\schedule\\Lib\\site-packages\\telegram\\__init__.py)",
     "output_type": "error",
     "traceback": [
      "\u001B[1;31m---------------------------------------------------------------------------\u001B[0m",
      "\u001B[1;31mImportError\u001B[0m                               Traceback (most recent call last)",
      "Cell \u001B[1;32mIn[21], line 2\u001B[0m\n\u001B[0;32m      1\u001B[0m \u001B[38;5;66;03m# 发送到群\u001B[39;00m\n\u001B[1;32m----> 2\u001B[0m \u001B[38;5;28;01mfrom\u001B[39;00m \u001B[38;5;21;01mtelegram\u001B[39;00m \u001B[38;5;28;01mimport\u001B[39;00m ParseMode\n\u001B[0;32m      3\u001B[0m bot_DA \u001B[38;5;241m=\u001B[39m telebot\u001B[38;5;241m.\u001B[39mTeleBot(\u001B[38;5;124m\"\u001B[39m\u001B[38;5;124m6106076754:AAHjxPSBpyjwpY-lq1iEslUufW46XQvAfr0\u001B[39m\u001B[38;5;124m\"\u001B[39m)\n\u001B[0;32m      4\u001B[0m \u001B[38;5;66;03m# bot_m = telebot.TeleBot(\"6377312623:AAGz3ZSMVswWq0QVlihRPklw8b7skSBP16Y\")\u001B[39;00m\n",
      "\u001B[1;31mImportError\u001B[0m: cannot import name 'ParseMode' from 'telegram' (C:\\ProgramData\\anaconda3\\envs\\schedule\\Lib\\site-packages\\telegram\\__init__.py)"
     ]
    }
   ],
   "source": [
    "# 发送到群\n",
    "from telegram import ParseMode\n",
    "bot_DA = telebot.TeleBot(\"6106076754:AAHjxPSBpyjwpY-lq1iEslUufW46XQvAfr0\")\n",
    "# bot_m = telebot.TeleBot(\"6377312623:AAGz3ZSMVswWq0QVlihRPklw8b7skSBP16Y\")\n",
    "bot_DA.send_message(-812533282,shuju.to_html(index=False), parse_mode=ParseMode.HTML,timeout=600)\n",
    "bot_DA.stop_polling()"
   ],
   "metadata": {
    "collapsed": false
   }
  },
  {
   "cell_type": "code",
   "execution_count": 3,
   "outputs": [
    {
     "data": {
      "text/plain": "<coroutine object Bot.send_message at 0x00000276C3A5D140>"
     },
     "execution_count": 3,
     "metadata": {},
     "output_type": "execute_result"
    }
   ],
   "source": [
    "import telegram\n",
    "from telegram.constants import ParseMode\n",
    "import pandas as pd\n",
    "df = pd.read_clipboard()\n",
    "bot_DA = telegram.Bot(\"6106076754:AAHjxPSBpyjwpY-lq1iEslUufW46XQvAfr0\")\n",
    "bot_DA.send_message(-812533282,df.to_html(index=False),parse_mode=ParseMode.HTML)"
   ],
   "metadata": {
    "collapsed": false
   }
  },
  {
   "cell_type": "code",
   "execution_count": 5,
   "outputs": [
    {
     "ename": "ApiTelegramException",
     "evalue": "A request to the Telegram API was unsuccessful. Error code: 400. Description: Bad Request: can't parse entities: Unsupported start tag \"table\" at byte offset 0",
     "output_type": "error",
     "traceback": [
      "\u001B[1;31m---------------------------------------------------------------------------\u001B[0m",
      "\u001B[1;31mApiTelegramException\u001B[0m                      Traceback (most recent call last)",
      "Cell \u001B[1;32mIn[5], line 4\u001B[0m\n\u001B[0;32m      2\u001B[0m \u001B[38;5;28;01mfrom\u001B[39;00m \u001B[38;5;21;01mtelegram\u001B[39;00m\u001B[38;5;21;01m.\u001B[39;00m\u001B[38;5;21;01mconstants\u001B[39;00m \u001B[38;5;28;01mimport\u001B[39;00m ParseMode\n\u001B[0;32m      3\u001B[0m bot \u001B[38;5;241m=\u001B[39m telebot\u001B[38;5;241m.\u001B[39mTeleBot(\u001B[38;5;124m\"\u001B[39m\u001B[38;5;124m6106076754:AAHjxPSBpyjwpY-lq1iEslUufW46XQvAfr0\u001B[39m\u001B[38;5;124m\"\u001B[39m)\n\u001B[1;32m----> 4\u001B[0m bot\u001B[38;5;241m.\u001B[39msend_message(\u001B[38;5;241m-\u001B[39m\u001B[38;5;241m812533282\u001B[39m,df\u001B[38;5;241m.\u001B[39mto_html(index\u001B[38;5;241m=\u001B[39m\u001B[38;5;28;01mFalse\u001B[39;00m),parse_mode\u001B[38;5;241m=\u001B[39mParseMode\u001B[38;5;241m.\u001B[39mHTML)\n",
      "File \u001B[1;32m~\\AppData\\Roaming\\Python\\Python311\\site-packages\\telebot\\__init__.py:1549\u001B[0m, in \u001B[0;36mTeleBot.send_message\u001B[1;34m(self, chat_id, text, parse_mode, entities, disable_web_page_preview, disable_notification, protect_content, reply_to_message_id, allow_sending_without_reply, reply_markup, timeout, message_thread_id)\u001B[0m\n\u001B[0;32m   1545\u001B[0m protect_content \u001B[38;5;241m=\u001B[39m \u001B[38;5;28mself\u001B[39m\u001B[38;5;241m.\u001B[39mprotect_content \u001B[38;5;28;01mif\u001B[39;00m (protect_content \u001B[38;5;129;01mis\u001B[39;00m \u001B[38;5;28;01mNone\u001B[39;00m) \u001B[38;5;28;01melse\u001B[39;00m protect_content\n\u001B[0;32m   1546\u001B[0m allow_sending_without_reply \u001B[38;5;241m=\u001B[39m \u001B[38;5;28mself\u001B[39m\u001B[38;5;241m.\u001B[39mallow_sending_without_reply \u001B[38;5;28;01mif\u001B[39;00m (allow_sending_without_reply \u001B[38;5;129;01mis\u001B[39;00m \u001B[38;5;28;01mNone\u001B[39;00m) \u001B[38;5;28;01melse\u001B[39;00m allow_sending_without_reply\n\u001B[0;32m   1548\u001B[0m \u001B[38;5;28;01mreturn\u001B[39;00m types\u001B[38;5;241m.\u001B[39mMessage\u001B[38;5;241m.\u001B[39mde_json(\n\u001B[1;32m-> 1549\u001B[0m     apihelper\u001B[38;5;241m.\u001B[39msend_message(\n\u001B[0;32m   1550\u001B[0m         \u001B[38;5;28mself\u001B[39m\u001B[38;5;241m.\u001B[39mtoken, chat_id, text, disable_web_page_preview, reply_to_message_id,\n\u001B[0;32m   1551\u001B[0m         reply_markup, parse_mode, disable_notification, timeout,\n\u001B[0;32m   1552\u001B[0m         entities, allow_sending_without_reply, protect_content\u001B[38;5;241m=\u001B[39mprotect_content, message_thread_id\u001B[38;5;241m=\u001B[39mmessage_thread_id))\n",
      "File \u001B[1;32m~\\AppData\\Roaming\\Python\\Python311\\site-packages\\telebot\\apihelper.py:264\u001B[0m, in \u001B[0;36msend_message\u001B[1;34m(token, chat_id, text, disable_web_page_preview, reply_to_message_id, reply_markup, parse_mode, disable_notification, timeout, entities, allow_sending_without_reply, protect_content, message_thread_id)\u001B[0m\n\u001B[0;32m    262\u001B[0m \u001B[38;5;28;01mif\u001B[39;00m message_thread_id:\n\u001B[0;32m    263\u001B[0m     payload[\u001B[38;5;124m'\u001B[39m\u001B[38;5;124mmessage_thread_id\u001B[39m\u001B[38;5;124m'\u001B[39m] \u001B[38;5;241m=\u001B[39m message_thread_id\n\u001B[1;32m--> 264\u001B[0m \u001B[38;5;28;01mreturn\u001B[39;00m _make_request(token, method_url, params\u001B[38;5;241m=\u001B[39mpayload, method\u001B[38;5;241m=\u001B[39m\u001B[38;5;124m'\u001B[39m\u001B[38;5;124mpost\u001B[39m\u001B[38;5;124m'\u001B[39m)\n",
      "File \u001B[1;32m~\\AppData\\Roaming\\Python\\Python311\\site-packages\\telebot\\apihelper.py:162\u001B[0m, in \u001B[0;36m_make_request\u001B[1;34m(token, method_name, method, params, files)\u001B[0m\n\u001B[0;32m    156\u001B[0m     result \u001B[38;5;241m=\u001B[39m _get_req_session()\u001B[38;5;241m.\u001B[39mrequest(\n\u001B[0;32m    157\u001B[0m         method, request_url, params\u001B[38;5;241m=\u001B[39mparams, files\u001B[38;5;241m=\u001B[39mfiles,\n\u001B[0;32m    158\u001B[0m         timeout\u001B[38;5;241m=\u001B[39m(connect_timeout, read_timeout), proxies\u001B[38;5;241m=\u001B[39mproxy)\n\u001B[0;32m    160\u001B[0m logger\u001B[38;5;241m.\u001B[39mdebug(\u001B[38;5;124m\"\u001B[39m\u001B[38;5;124mThe server returned: \u001B[39m\u001B[38;5;124m'\u001B[39m\u001B[38;5;132;01m{0}\u001B[39;00m\u001B[38;5;124m'\u001B[39m\u001B[38;5;124m\"\u001B[39m\u001B[38;5;241m.\u001B[39mformat(result\u001B[38;5;241m.\u001B[39mtext\u001B[38;5;241m.\u001B[39mencode(\u001B[38;5;124m'\u001B[39m\u001B[38;5;124mutf8\u001B[39m\u001B[38;5;124m'\u001B[39m)))\n\u001B[1;32m--> 162\u001B[0m json_result \u001B[38;5;241m=\u001B[39m _check_result(method_name, result)\n\u001B[0;32m    163\u001B[0m \u001B[38;5;28;01mif\u001B[39;00m json_result:\n\u001B[0;32m    164\u001B[0m     \u001B[38;5;28;01mreturn\u001B[39;00m json_result[\u001B[38;5;124m'\u001B[39m\u001B[38;5;124mresult\u001B[39m\u001B[38;5;124m'\u001B[39m]\n",
      "File \u001B[1;32m~\\AppData\\Roaming\\Python\\Python311\\site-packages\\telebot\\apihelper.py:189\u001B[0m, in \u001B[0;36m_check_result\u001B[1;34m(method_name, result)\u001B[0m\n\u001B[0;32m    187\u001B[0m \u001B[38;5;28;01melse\u001B[39;00m:    \n\u001B[0;32m    188\u001B[0m     \u001B[38;5;28;01mif\u001B[39;00m \u001B[38;5;129;01mnot\u001B[39;00m result_json[\u001B[38;5;124m'\u001B[39m\u001B[38;5;124mok\u001B[39m\u001B[38;5;124m'\u001B[39m]:\n\u001B[1;32m--> 189\u001B[0m         \u001B[38;5;28;01mraise\u001B[39;00m ApiTelegramException(method_name, result, result_json)\n\u001B[0;32m    191\u001B[0m     \u001B[38;5;28;01mreturn\u001B[39;00m result_json\n",
      "\u001B[1;31mApiTelegramException\u001B[0m: A request to the Telegram API was unsuccessful. Error code: 400. Description: Bad Request: can't parse entities: Unsupported start tag \"table\" at byte offset 0"
     ]
    }
   ],
   "source": [
    "import telebot\n",
    "from telegram.constants import ParseMode\n",
    "bot = telebot.TeleBot(\"6106076754:AAHjxPSBpyjwpY-lq1iEslUufW46XQvAfr0\")\n",
    "bot.send_message(-812533282,df.to_html(index=False),parse_mode=ParseMode.HTML)"
   ],
   "metadata": {
    "collapsed": false
   }
  },
  {
   "cell_type": "code",
   "execution_count": 4,
   "outputs": [
    {
     "data": {
      "text/plain": "<telebot.types.Message at 0x276c46f2250>"
     },
     "execution_count": 4,
     "metadata": {},
     "output_type": "execute_result"
    }
   ],
   "source": [
    "import telebot\n",
    "from telegram.constants import ParseMode\n",
    "bot = telebot.TeleBot(\"6106076754:AAHjxPSBpyjwpY-lq1iEslUufW46XQvAfr0\")\n",
    "bot.send_message(-812533282,'test111')"
   ],
   "metadata": {
    "collapsed": false
   }
  },
  {
   "cell_type": "code",
   "execution_count": 1,
   "outputs": [
    {
     "name": "stdout",
     "output_type": "stream",
     "text": [
      "启动cmd。。。。\n",
      "开始运行jar包： 09:58\n",
      "jar包运行结束:  10:03\n",
      "会员首存行列： (480, 7)\n",
      "用户列表行列: (1388, 4)\n",
      "去重后： (1339, 4)\n",
      "开始处理shuju\n"
     ]
    },
    {
     "data": {
      "text/plain": "               日期     人员2  发送IP  接受IP    注册  注册率(%)    开户  转化率(%)  当日注册并开户  \\\n人员                                                                           \nAber   2023-08-23    aber  4669   631  38.0    0.81  11.0   28.95      7.0   \nBen    2023-08-23     ben   913   121   2.0    0.22   1.0   50.00      1.0   \nDK     2023-08-23      dk   115  1926   7.0    6.09   1.0   14.29      1.0   \nHugo   2023-08-23    hugo  1635     0  53.0    3.24  13.0   24.53     11.0   \nMartin 2023-08-23  martin  3388     0  55.0    1.62  17.0   30.91     13.0   \n\n        当日注册激活率(%)  对比昨天(总IP)  对比前3天均值(总IP)  对比前5天均值(总IP)  对比前7天均值(总IP)  \\\n人员                                                                        \nAber         18.42      178.0         27.75     24.333333        96.750   \nBen          50.00      223.0      -1077.25  -1318.166667     -1415.125   \nDK           14.29      -19.0        -70.00    -58.166667       -80.125   \nHugo         20.75      207.0        311.00    633.666667       862.250   \nMartin       23.64      391.0        -50.50      2.666667      -143.000   \n\n        对比昨天(总注册)  对比前3天均值(总注册)  对比前5天均值(总注册)  对比前7天均值(总注册)  对比昨天(总开户)  \\\n人员                                                                       \nAber         10.0          2.00     -0.833333        -2.125        1.0   \nBen          -3.0         -1.50     -2.166667        -4.125        0.0   \nDK           -4.0         -7.00     -7.833333        -7.000       -1.0   \nHugo        -19.0        -10.75     -5.500000         6.000       -6.0   \nMartin       12.0         -4.00     -7.833333       -20.750       -3.0   \n\n        对比前3天均值(总开户)  对比前5天均值(总开户)  对比前7天均值(总开户)  \n人员                                                \nAber           -2.75     -4.666667        -5.000  \nBen             0.00     -0.166667        -0.625  \nDK             -5.50     -5.666667        -6.375  \nHugo            0.00      1.833333         3.625  \nMartin         -5.00     -7.500000       -11.000  ",
      "text/html": "<div>\n<style scoped>\n    .dataframe tbody tr th:only-of-type {\n        vertical-align: middle;\n    }\n\n    .dataframe tbody tr th {\n        vertical-align: top;\n    }\n\n    .dataframe thead th {\n        text-align: right;\n    }\n</style>\n<table border=\"1\" class=\"dataframe\">\n  <thead>\n    <tr style=\"text-align: right;\">\n      <th></th>\n      <th>日期</th>\n      <th>人员2</th>\n      <th>发送IP</th>\n      <th>接受IP</th>\n      <th>注册</th>\n      <th>注册率(%)</th>\n      <th>开户</th>\n      <th>转化率(%)</th>\n      <th>当日注册并开户</th>\n      <th>当日注册激活率(%)</th>\n      <th>对比昨天(总IP)</th>\n      <th>对比前3天均值(总IP)</th>\n      <th>对比前5天均值(总IP)</th>\n      <th>对比前7天均值(总IP)</th>\n      <th>对比昨天(总注册)</th>\n      <th>对比前3天均值(总注册)</th>\n      <th>对比前5天均值(总注册)</th>\n      <th>对比前7天均值(总注册)</th>\n      <th>对比昨天(总开户)</th>\n      <th>对比前3天均值(总开户)</th>\n      <th>对比前5天均值(总开户)</th>\n      <th>对比前7天均值(总开户)</th>\n    </tr>\n    <tr>\n      <th>人员</th>\n      <th></th>\n      <th></th>\n      <th></th>\n      <th></th>\n      <th></th>\n      <th></th>\n      <th></th>\n      <th></th>\n      <th></th>\n      <th></th>\n      <th></th>\n      <th></th>\n      <th></th>\n      <th></th>\n      <th></th>\n      <th></th>\n      <th></th>\n      <th></th>\n      <th></th>\n      <th></th>\n      <th></th>\n      <th></th>\n    </tr>\n  </thead>\n  <tbody>\n    <tr>\n      <th>Aber</th>\n      <td>2023-08-23</td>\n      <td>aber</td>\n      <td>4669</td>\n      <td>631</td>\n      <td>38.0</td>\n      <td>0.81</td>\n      <td>11.0</td>\n      <td>28.95</td>\n      <td>7.0</td>\n      <td>18.42</td>\n      <td>178.0</td>\n      <td>27.75</td>\n      <td>24.333333</td>\n      <td>96.750</td>\n      <td>10.0</td>\n      <td>2.00</td>\n      <td>-0.833333</td>\n      <td>-2.125</td>\n      <td>1.0</td>\n      <td>-2.75</td>\n      <td>-4.666667</td>\n      <td>-5.000</td>\n    </tr>\n    <tr>\n      <th>Ben</th>\n      <td>2023-08-23</td>\n      <td>ben</td>\n      <td>913</td>\n      <td>121</td>\n      <td>2.0</td>\n      <td>0.22</td>\n      <td>1.0</td>\n      <td>50.00</td>\n      <td>1.0</td>\n      <td>50.00</td>\n      <td>223.0</td>\n      <td>-1077.25</td>\n      <td>-1318.166667</td>\n      <td>-1415.125</td>\n      <td>-3.0</td>\n      <td>-1.50</td>\n      <td>-2.166667</td>\n      <td>-4.125</td>\n      <td>0.0</td>\n      <td>0.00</td>\n      <td>-0.166667</td>\n      <td>-0.625</td>\n    </tr>\n    <tr>\n      <th>DK</th>\n      <td>2023-08-23</td>\n      <td>dk</td>\n      <td>115</td>\n      <td>1926</td>\n      <td>7.0</td>\n      <td>6.09</td>\n      <td>1.0</td>\n      <td>14.29</td>\n      <td>1.0</td>\n      <td>14.29</td>\n      <td>-19.0</td>\n      <td>-70.00</td>\n      <td>-58.166667</td>\n      <td>-80.125</td>\n      <td>-4.0</td>\n      <td>-7.00</td>\n      <td>-7.833333</td>\n      <td>-7.000</td>\n      <td>-1.0</td>\n      <td>-5.50</td>\n      <td>-5.666667</td>\n      <td>-6.375</td>\n    </tr>\n    <tr>\n      <th>Hugo</th>\n      <td>2023-08-23</td>\n      <td>hugo</td>\n      <td>1635</td>\n      <td>0</td>\n      <td>53.0</td>\n      <td>3.24</td>\n      <td>13.0</td>\n      <td>24.53</td>\n      <td>11.0</td>\n      <td>20.75</td>\n      <td>207.0</td>\n      <td>311.00</td>\n      <td>633.666667</td>\n      <td>862.250</td>\n      <td>-19.0</td>\n      <td>-10.75</td>\n      <td>-5.500000</td>\n      <td>6.000</td>\n      <td>-6.0</td>\n      <td>0.00</td>\n      <td>1.833333</td>\n      <td>3.625</td>\n    </tr>\n    <tr>\n      <th>Martin</th>\n      <td>2023-08-23</td>\n      <td>martin</td>\n      <td>3388</td>\n      <td>0</td>\n      <td>55.0</td>\n      <td>1.62</td>\n      <td>17.0</td>\n      <td>30.91</td>\n      <td>13.0</td>\n      <td>23.64</td>\n      <td>391.0</td>\n      <td>-50.50</td>\n      <td>2.666667</td>\n      <td>-143.000</td>\n      <td>12.0</td>\n      <td>-4.00</td>\n      <td>-7.833333</td>\n      <td>-20.750</td>\n      <td>-3.0</td>\n      <td>-5.00</td>\n      <td>-7.500000</td>\n      <td>-11.000</td>\n    </tr>\n  </tbody>\n</table>\n</div>"
     },
     "execution_count": 1,
     "metadata": {},
     "output_type": "execute_result"
    }
   ],
   "source": [
    "import os\n",
    "from selenium import webdriver\n",
    "from selenium.webdriver.chrome.options import Options\n",
    "from selenium.webdriver.common.by import By\n",
    "from selenium.webdriver.common.keys import Keys\n",
    "import warnings\n",
    "warnings.filterwarnings('ignore')\n",
    "import requests\n",
    "import pandas as pd\n",
    "import numpy as np\n",
    "import jsonpath\n",
    "import json\n",
    "import time\n",
    "import datetime\n",
    "import subprocess\n",
    "import xlwings as xw\n",
    "import telebot\n",
    "import hmac, base64, struct, hashlib\n",
    "from openpyxl import Workbook, load_workbook\n",
    "from openpyxl import formatting, styles\n",
    "from openpyxl.styles import Color, PatternFill, Font, Border\n",
    "\n",
    "pd.set_option('display.max_colwidth', None) #显示单元格完整信息\n",
    "pd.set_option('display.max_columns', None)\n",
    "pd.set_option('display.max_rows', None)\n",
    "\n",
    "day = -1\n",
    "pages_user = 100\n",
    "pages_fircharge = 50\n",
    "with open(r'C:\\Users\\User\\Desktop\\SEO\\SEO代码新 0903到期.txt','r') as f:\n",
    "    access_token = f.read()\n",
    "# 启动控制台\n",
    "print('启动cmd。。。。')\n",
    "command = 'java -jar C:\\\\Users\\\\User\\\\Desktop\\\\mason-excel-0.0.1-SNAPSHOT.jar'\n",
    "process = subprocess.Popen(command, shell=True)\n",
    "\n",
    "url = 'http://fundmng.bsportsadmin.com/api/manage/fund/withdraw/record/list/history'\n",
    "session = requests.session()\n",
    "\n",
    "# 第一次获取token\n",
    "submit_url = 'http://fundmng.bsportsadmin.com/api/manage/user/admin/login/submit'\n",
    "header0 = {\n",
    "    'Accept':'application/json, text/plain, */*',\n",
    "    # 'Accept-Encoding':'gzip, deflate',\n",
    "    'Accept-Language':'zh-CN,zh;q=0.9',\n",
    "    'Connection':'keep-alive',\n",
    "    'Content-Length':'48',\n",
    "    'Content-Type':'application/x-www-form-urlencoded',\n",
    "    'Cookie':'admin-uid=690; admin-token=db76bebda5274c80adaadd40bd794f24',\n",
    "    'Device_id':'1.0',\n",
    "    'Gl_version':'2.0',\n",
    "    'Host':'fundmng.bsportsadmin.com',\n",
    "    'Language':'zh_CN',\n",
    "    'Origin':'http://fundmng.bsportsadmin.com',\n",
    "    'Os_type':'0',\n",
    "    'Referer':'http://fundmng.bsportsadmin.com/login',\n",
    "    'Sign':'2bc4c378817f47731f0adf450a627d19',\n",
    "    'Some':'header',\n",
    "    'Systemid':\"\",\n",
    "    'Timestamp':'1692415901000',\n",
    "    'Token':'-1',\n",
    "    'Uid':'-1',\n",
    "    'User-Agent':'Mozilla/5.0 (Windows NT 10.0; Win64; x64) AppleWebKit/537.36 (KHTML, like Gecko) Chrome/116.0.0.0 Safari/537.36',\n",
    "    'Version':'1.0'\n",
    "}\n",
    "def get_google_code(secret):\n",
    "    key = base64.b32decode(secret, True)\n",
    "    msg = struct.pack(\">Q\", int(time.time()) // 30)\n",
    "    google_code = hmac.new(key, msg, hashlib.sha1).digest()\n",
    "    # 很多网上的代码不可用，就在于这儿，没有chr字符串\n",
    "    o = ord(chr(google_code[19])) & 15\n",
    "    # google_code = (struct.unpack(\">I\", google_code[o:o + 4])[0] & 0x7fffffff) % 1000000\n",
    "    google_code = (struct.unpack(\">I\", google_code[o:o + 4])[0] & 0x7fffffff) % 1000000\n",
    "    return '%06d' % google_code\n",
    "\n",
    "# selenium模拟浏览器,并运行jar包，生成今日数据\n",
    "# 指定文件夹路径\n",
    "folder_path = r'C:\\Users\\User\\Desktop\\SEO\\_0816'\n",
    "# 指定文件名\n",
    "file_name = '今日数据.xlsx'\n",
    "# 判断文件是否存在\n",
    "file_path = os.path.join(folder_path, file_name)\n",
    "if os.path.exists(file_path):\n",
    "    os.remove(file_path)\n",
    "\n",
    "# handless无界面浏览器设置\n",
    "url_jar = 'http://localhost:9881/swagger-ui/index.html#/Mason%20Excel%20%E4%BA%A7%E7%94%9F/index2UsingPOST'\n",
    "chrome_options = Options()\n",
    "chrome_options.add_argument('--headless')\n",
    "chrome_options.add_argument('--disable-gpu')\n",
    "path = r'C:\\Users\\User\\IdeaProjects\\project1\\Bsport\\SEO日报\\chromedriver.exe'\n",
    "chrome_options.binary_location = path\n",
    "\n",
    "# path = r'C:\\Users\\User\\IdeaProjects\\project1\\Bsport\\SEO日报\\chromedriver.exe'\n",
    "def fun_jar():\n",
    "    browser = webdriver.Chrome(options=chrome_options)\n",
    "    browser.get(url_jar)\n",
    "    time.sleep(3)\n",
    "    button = browser.find_element(By.XPATH,'//div[@class=\"try-out\"]/button')\n",
    "    button.click()\n",
    "    time.sleep(2)\n",
    "    input = browser.find_elements(By.XPATH,'//input')\n",
    "    input[0].send_keys((datetime.datetime.now()+datetime.timedelta(days=day)).strftime('%Y%m%d'))\n",
    "    time.sleep(2)\n",
    "    outpath = r'C:\\Users\\User\\Desktop\\SEO\\_0816'+'\\\\'\n",
    "    input[2].send_keys(9999)\n",
    "    time.sleep(2)\n",
    "    input[4].send_keys(outpath)\n",
    "    time.sleep(2)\n",
    "    input[5].send_keys((datetime.datetime.now()+datetime.timedelta(days=day)).strftime('%Y%m%d'))\n",
    "    textarea = browser.find_element(By.TAG_NAME,'textarea')\n",
    "    textarea.clear()\n",
    "    textarea.send_keys(access_token)\n",
    "    time.sleep(3)\n",
    "    Execute = browser.find_element(By.XPATH,'//button[@class=\"btn execute opblock-control__btn\"]')\n",
    "    Execute.click()\n",
    "    browser.quit()\n",
    "\n",
    "# 运行模拟浏览器函数\n",
    "fun_jar()\n",
    "print('开始运行jar包：',time.strftime('%H:%M',time.localtime()))\n",
    "time.sleep(300)\n",
    "print('jar包运行结束: ',time.strftime('%H:%M',time.localtime()))\n",
    "\n",
    "for i in range(3):\n",
    "    if not os.path.exists(file_path):\n",
    "        process.terminate()\n",
    "        process.wait()\n",
    "        fun_jar()\n",
    "        time.sleep(300)\n",
    "        continue\n",
    "    break\n",
    "\n",
    "# 后续采集会员列表，首充记录、数据处理\n",
    "# 读取运行jar包的数据，及历史数据\n",
    "data_today = pd.read_excel(r'C:\\Users\\User\\Desktop\\SEO\\_0816\\今日数据.xlsx')\n",
    "data_2_today = pd.read_excel(r'C:\\Users\\User\\Desktop\\SEO\\_0816\\今日数据.xlsx','趋势分析')\n",
    "daili = pd.read_excel(r'C:\\Users\\User\\Desktop\\SEO\\数据+ip历史.xlsx','代理总表')\n",
    "his_data  = pd.read_excel(r'C:\\Users\\User\\Desktop\\SEO\\数据+ip历史.xlsx','数据')\n",
    "\n",
    "# 采集会员列表和会员存记录\n",
    "url_fircharge = 'http://fundmng.bsportsadmin.com/api/manage/data/detail/firstRecharge'\n",
    "url_user = 'http://fundmng.bsportsadmin.com/api/manage/user/maintain/user/list'\n",
    "session = requests.session()\n",
    "\n",
    "# 采集首存报表\n",
    "dic_fir = dict({'会员名':[], '所属代理':[],'注册时间':[], '交易时间':[], '交易类型':[], '币种':[], '金额':[]})\n",
    "# 昨天开始时间戳\n",
    "yesterday = datetime.date.today() + datetime.timedelta(days=day)\n",
    "yesterday_start_time = int(time.mktime(time.strptime(str(yesterday), '%Y-%m-%d')))\n",
    "# 昨天结束时间戳\n",
    "yesterday_end_time = int(time.mktime(time.strptime(str(datetime.date.today()), '%Y-%m-%d'))) - 1\n",
    "\n",
    "#---------------------token----------------------\n",
    "# 采取token\n",
    "google_code = get_google_code('64ehnxj6yily5bhv23kgb62ozuh6yuu2')\n",
    "data0 = {\n",
    "    'username': 'Marquis',\n",
    "    'password': 'qwer123456',\n",
    "    'code': google_code\n",
    "}\n",
    "session0 = requests.Session()\n",
    "response0  =session0.post(url=submit_url,data=data0,headers=header0)\n",
    "response0.encoding = 'utf-8'\n",
    "obj0 = json.loads(response0.text)\n",
    "token = obj0['data']['token']\n",
    "\n",
    "header = {\n",
    "    'Accept':'application/json, text/plain, */*',\n",
    "    # 'Accept-Encoding':'gzip, deflate',\n",
    "    'Accept-Language':'zh-CN,zh;q=0.9',\n",
    "    'Connection':'keep-alive',\n",
    "    'Content-Length':'75',\n",
    "    'Content-Type':'application/x-www-form-urlencoded',\n",
    "    'Cookie':'admin-token=67c8b1bd1b434f898ed8570a860355b8; admin-uid=690',\n",
    "    'Device_id':'1.0',\n",
    "    'Gl_version':'2.0',\n",
    "    'Host':'fundmng.bsportsadmin.com',\n",
    "    'Language':'zh_CN',\n",
    "    'Menuid':'100112',\n",
    "    'Opeartionmenu':'%u62A5%u8868%u67E5%u8BE2-%u4F1A%u5458%u9996%u5B58%u62A5%u8868',\n",
    "    'Origin':'http://fundmng.bsportsadmin.com',\n",
    "    'Os_type':'0',\n",
    "    'Referer':'http://fundmng.bsportsadmin.com/system/report-query/report-first-recharge',\n",
    "    'Sign':'ca83944852acc68fe114cbc65f1e1d22',\n",
    "    'Some':'header',\n",
    "    'Systemid':'54',\n",
    "    'Timestamp':'1692092554000',\n",
    "    'Token':token,\n",
    "    'Uid':'690',\n",
    "    'User-Agent':'Mozilla/5.0 (Windows NT 10.0; Win64; x64) AppleWebKit/537.36 (KHTML, like Gecko) Chrome/115.0.0.0 Safari/537.36',\n",
    "    'Version':'1.0'\n",
    "}\n",
    "for page in range(1,pages_fircharge+1):\n",
    "    data = {\n",
    "        'page': page,\n",
    "        'size': 20,\n",
    "        'tradeType': 0,\n",
    "        'isFake': 0,\n",
    "        'stime': yesterday_start_time*1000,\n",
    "        'etime': yesterday_end_time*1000+999\n",
    "    }\n",
    "    response = session.post(url_fircharge,headers=header,data=data)\n",
    "    response.encoding = 'utf-8'\n",
    "    obj = json.loads(response.text)\n",
    "\n",
    "    for i in obj['data']['list']:\n",
    "        dic_fir['会员名'].append(i['userName'])\n",
    "        dic_fir['所属代理'].append(i['parentName'])\n",
    "        dic_fir['注册时间'].append(time.strftime('%Y/%m/%d %H:%M:%S',time.localtime(i['createTime']//1000)))\n",
    "        dic_fir['交易时间'].append(time.strftime('%Y/%m/%d %H:%M:%S',time.localtime(i['regTime']//1000)))\n",
    "        dic_fir['交易类型'].append(i['tradeType'])\n",
    "        dic_fir['币种'].append(i['coinCode'])\n",
    "        dic_fir['金额'].append(i['amount'])\n",
    "firChargeUser = pd.DataFrame(dic_fir)\n",
    "print('会员首存行列：',firChargeUser.shape)\n",
    "\n",
    "# 采集会员列表\n",
    "dic_user = dict({'会员账号':[], '姓名':[],'代理':[], '注册时间':[]})\n",
    "for page in range(1,pages_user+1):\n",
    "    data2 = {\n",
    "        'page':page,\n",
    "        'size':20,\n",
    "        'userVip':'0,1,2,3,4,5,6,7,8,9,10,11',\n",
    "        'status':'0,1,2,4',\n",
    "        'sortType':'3',\n",
    "        'sortStr':'descend',\n",
    "        'searchType':'1',\n",
    "        'channelId':'34',\n",
    "        'registeredStartDate':yesterday_start_time*1000,\n",
    "        'registeredEndDate':yesterday_end_time*1000+999,\n",
    "    }\n",
    "    response2 = session.post(url_user,headers=header,data=data2)\n",
    "    response2.encoding = 'utf-8'\n",
    "    obj2 = json.loads(response2.text)\n",
    "    for i in obj2['data']['list']:\n",
    "        dic_user['会员账号'].append(i['username'])\n",
    "        if i['reallyName'] !='':\n",
    "            dic_user['姓名'].append(i['reallyName'])\n",
    "        else:\n",
    "            dic_user['姓名'].append('--')\n",
    "\n",
    "        dic_user['代理'].append(i['parentName'])\n",
    "        dic_user['注册时间'].append(time.strftime('%Y/%m/%d %H:%M:%S',time.localtime(i['registerDate']//1000)))\n",
    "user = pd.DataFrame(dic_user)\n",
    "print('用户列表行列:',user.shape)\n",
    "# 删除测试账号\n",
    "user = user[~user['会员账号'].str.contains('test')&~user['会员账号'].str.contains('ceshi')]\n",
    "print('去重后：',user.shape)\n",
    "\n",
    "#  开始处理数据---------------------------------------------\n",
    "print('开始处理shuju')\n",
    "shuju = pd.DataFrame({'人员':['Paddy', 'Tony', 'Max', 'Martin', 'Zed', 'Hugo', 'Aber', 'DK', 'Ben','当日汇总'],\n",
    "                      '日期':(datetime.datetime.now()+datetime.timedelta(days=day)).strftime('%Y/%m/%d'),\n",
    "                      '发送IP':0,\n",
    "                      '接受IP':0,\n",
    "                      '对比昨天(总IP)':0,\n",
    "                      '对比前3天均值(总IP)':0,\n",
    "                      '对比前5天均值(总IP)':0,\n",
    "                      '对比前7天均值(总IP)':0,\n",
    "                      '对比昨天(总注册)':0,\n",
    "                      '对比前3天均值(总注册)':0,\n",
    "                      '对比前5天均值(总注册)':0,\n",
    "                      '对比前7天均值(总注册)':0,\n",
    "                      '对比昨天(总开户)':0,\n",
    "                      '对比前3天均值(总开户)':0,\n",
    "                      '对比前5天均值(总开户)':0,\n",
    "                      '对比前7天均值(总开户)':0})\n",
    "\n",
    "\n",
    "shuju.set_index('人员',inplace = True)\n",
    "\n",
    "data_today['IP']=pd.to_numeric(data_today['IP'],errors='coerce').replace(np.nan,0).astype('int64')\n",
    "grp=data_today.groupby('网站名(domain)').agg({'IP':sum})\n",
    "try:\n",
    "    shuju.loc['Paddy','发送IP']=grp.loc['paddy.com','IP']\n",
    "except:\n",
    "    shuju.loc['Paddy','发送IP']=0\n",
    "try:\n",
    "    shuju.loc['Paddy','接受IP']=grp.loc['paddy.bty','IP']\n",
    "except:\n",
    "    shuju.loc['Paddy','接受IP']=0\n",
    "try:\n",
    "    shuju.loc['Tony','发送IP']=grp.loc['tonyb.com','IP']/2\n",
    "except:\n",
    "    shuju.loc['Tony', '发送IP'] = 0\n",
    "try:\n",
    "    shuju.loc['Tony','接受IP']=grp.loc['tony.bty','IP']\n",
    "except:\n",
    "    shuju.loc['Tony', '接受IP'] = 0\n",
    "try:\n",
    "    shuju.loc['Max','发送IP']=grp.loc['mulu.com','IP']\n",
    "except:\n",
    "    shuju.loc['Max', '发送IP'] = 0\n",
    "try:\n",
    "    shuju.loc['Max','接受IP']=grp.loc['max.bty','IP']\n",
    "except:\n",
    "    shuju.loc['Max', '接受IP'] = 0\n",
    "try:\n",
    "    shuju.loc['Martin','发送IP']=grp.loc['redquan.com','IP']\n",
    "except:\n",
    "    shuju.loc['Martin', '发送IP'] = 0\n",
    "try:\n",
    "    shuju.loc['Martin','接受IP']=grp.loc['martin.bty','IP']\n",
    "except:\n",
    "    shuju.loc['Martin','接受IP']=0\n",
    "try:\n",
    "    shuju.loc['Zed','发送IP']=grp.loc['zed.com','IP']\n",
    "except:\n",
    "    shuju.loc['Zed', '发送IP'] = 0\n",
    "try:\n",
    "    shuju.loc['Zed','接受IP']=grp.loc['zed.bty','IP']\n",
    "except:\n",
    "    shuju.loc['Zed', '接受IP'] = 0\n",
    "try:\n",
    "    shuju.loc['Hugo','发送IP']=grp.loc['hugo.com','IP']\n",
    "except:\n",
    "    shuju.loc['Hugo', '发送IP'] = 0\n",
    "try:\n",
    "    shuju.loc['Hugo','接受IP']=grp.loc['hugo.bty','IP']\n",
    "except:\n",
    "    shuju.loc['Hugo','接受IP']=0\n",
    "\n",
    "shuju.loc['Aber','发送IP']=grp.loc['aber.com','IP']/2\n",
    "shuju.loc['Aber','接受IP']=grp.loc['aber.bty','IP']\n",
    "shuju.loc['DK','发送IP']=grp.loc['dk.com','IP']/2\n",
    "shuju.loc['DK','接受IP']=grp.loc['dk.bty','IP']\n",
    "shuju.loc['Ben','发送IP']=grp.loc['ben.com','IP']/2\n",
    "shuju.loc['Ben','接受IP']=grp.loc['ben.bty','IP']\n",
    "shuju.loc['当日汇总','发送IP']=shuju['发送IP'].sum()\n",
    "shuju.loc['当日汇总','接受IP']=shuju['接受IP'].sum()\n",
    "\n",
    "shuju['日期'] = pd.to_datetime(shuju['日期'])\n",
    "shuju.insert(1,'人员2',shuju.index)\n",
    "shuju['人员2']=shuju['人员2'].str.lower()\n",
    "\n",
    "# 第1次merge前，重置索引\n",
    "shuju.reset_index(inplace=True)\n",
    "\n",
    "merge_user = pd.merge(user,daili,how = 'left',left_on='代理',right_on='代理线')\n",
    "grpSEO = merge_user.groupby('seo变化数据团队').agg({'seo变化数据团队':len})\n",
    "grpSEO.rename(columns={'seo变化数据团队':'注册'},inplace=True)\n",
    "grpSEO.reset_index(inplace=True)\n",
    "grpSEO['人员2'] = grpSEO['seo变化数据团队'].str.lower()\n",
    "grpSEO.set_index('seo变化数据团队',inplace=True)\n",
    "\n",
    "shuju=shuju.merge(grpSEO,on='人员2',how='left')\n",
    "\n",
    "shuju['注册率(%)'] = round(shuju['注册']/shuju['发送IP']*100,2)\n",
    "\n",
    "merge_charge = pd.merge(firChargeUser,daili,how='left',left_on='所属代理',right_on='代理线')\n",
    "grpCHARGE = merge_charge.groupby('seo变化数据团队').agg({'seo变化数据团队':len})\n",
    "grpCHARGE= grpCHARGE.rename(columns={'seo变化数据团队':'开户'})\n",
    "grpCHARGE.reset_index(inplace=True)\n",
    "grpCHARGE['seo变化数据团队']=grpCHARGE['seo变化数据团队'].str.lower()\n",
    "grpCHARGE= grpCHARGE.rename(columns={'seo变化数据团队':'人员2'})\n",
    "# 第2次merge\n",
    "shuju = pd.merge(shuju,grpCHARGE,how='left',on='人员2')\n",
    "shuju['转化率(%)'] = round(shuju['开户']/shuju['注册']*100,2)\n",
    "\n",
    "grp3  = merge_charge[merge_charge['注册时间'].str[:9]==merge_charge['交易时间'].str[:9]].groupby('seo变化数据团队').agg({'seo变化数据团队':len})\n",
    "grp3.rename(columns = {'seo变化数据团队':'当日注册并开户'},inplace=True)\n",
    "grp3.reset_index(inplace=True)\n",
    "grp3['seo变化数据团队'] =grp3['seo变化数据团队'].str.lower()\n",
    "grp3.rename(columns = {'seo变化数据团队':'人员2'},inplace=True)\n",
    "# 第3次merge\n",
    "shuju  = pd.merge(shuju,grp3,how='left',on='人员2')\n",
    "shuju['当日注册激活率(%)'] = round(shuju['当日注册并开户']/shuju['注册']*100,2)\n",
    "\n",
    "#------------\n",
    "# his_data  = pd.read_csv(r'C:\\Users\\User\\Desktop\\SEO\\SEO每日更新_814.csv',encoding='gbk')\n",
    "his_data['日期']= pd.to_datetime(his_data['日期'])\n",
    "be_data = his_data[his_data['日期']==(shuju['日期'][0]+datetime.timedelta(days=-1))][:-1]\n",
    "\n",
    "# shuju.sort_index(inplace=True)\n",
    "shuju.set_index('人员',inplace = True)\n",
    "shuju.sort_index(inplace=True)\n",
    "be_data.set_index('人员',inplace=True)\n",
    "be_data.sort_index(inplace=True)\n",
    "\n",
    "be3_data = his_data[his_data['日期']>=(shuju['日期'][0]+datetime.timedelta(days=-3))]\n",
    "be3_data = be3_data.groupby('人员').mean()[:-1]\n",
    "be5_data = his_data[his_data['日期']>=(shuju['日期'][0]+datetime.timedelta(days=-5))]\n",
    "be5_data = be5_data.groupby('人员').mean()[:-1]\n",
    "be7_data = his_data[his_data['日期']>=(shuju['日期'][0]+datetime.timedelta(days=-7))]\n",
    "be7_data = be7_data.groupby('人员').mean()[:-1]\n",
    "\n",
    "shuju['对比昨天(总IP)']=shuju['发送IP']-be_data['总IP']\n",
    "\n",
    "shuju['对比前3天均值(总IP)']= shuju['发送IP']-be3_data['总IP']\n",
    "shuju['对比前5天均值(总IP)']= shuju['发送IP']-be5_data['总IP']\n",
    "shuju['对比前7天均值(总IP)']= shuju['发送IP']-be7_data['总IP']\n",
    "\n",
    "shuju['对比昨天(总注册)']=shuju['注册']-be_data['注册']\n",
    "shuju['对比前3天均值(总注册)']= shuju['注册']-be3_data['注册']\n",
    "shuju['对比前5天均值(总注册)']= shuju['注册']-be5_data['注册']\n",
    "shuju['对比前7天均值(总注册)']= shuju['注册']-be7_data['注册']\n",
    "\n",
    "shuju['对比昨天(总开户)']=shuju['开户']-be_data['开户']\n",
    "shuju['对比前3天均值(总开户)']= shuju['开户']-be3_data['开户']\n",
    "shuju['对比前5天均值(总开户)']= shuju['开户']-be5_data['开户']\n",
    "shuju['对比前7天均值(总开户)']= shuju['开户']-be7_data['开户']\n",
    "\n",
    "shuju = shuju.iloc[:,:4].join(shuju.iloc[:,-6:]).join(shuju.iloc[:,4:-6])\n",
    "shuju.fillna(0,inplace=True)\n",
    "\n",
    "shuju['注册'] = shuju['注册'].astype('int64')\n",
    "shuju['开户'] = shuju['开户'].astype('int64')\n",
    "shuju['当日注册并开户'] = shuju['当日注册并开户'].astype('int64')\n",
    "shuju.loc[:,'对比昨天(总IP)':'对比前7天均值(总开户)']=shuju.loc[:,'对比昨天(总IP)':'对比前7天均值(总开户)'].astype('int64')\n",
    "\n",
    "for i in shuju.iloc[:,4:].columns:\n",
    "    shuju.loc['当日汇总',i]=sum(shuju[i])\n",
    "# 重置三个率\n",
    "shuju.loc['当日汇总','注册率(%)']=round(shuju.loc['当日汇总','注册']/shuju.loc['当日汇总','发送IP']*100,2)\n",
    "shuju.loc['当日汇总','转化率(%)']=round(shuju.loc['当日汇总','开户']/shuju.loc['当日汇总','注册']*100,2)\n",
    "shuju.loc['当日汇总','当日注册激活率(%)']=round(shuju.loc['当日汇总','当日注册并开户']/shuju.loc['当日汇总','注册']*100,2)\n",
    "\n",
    "shuju.insert(1,'人员',shuju.index)\n",
    "shuju.drop('人员2',inplace=True,axis=1)\n",
    "print('shuju处理完成。。。。')\n",
    "\n",
    "# 开始计算ip历史数据\n",
    "print('开始计算ip历史数据。。。。')"
   ],
   "metadata": {
    "collapsed": false
   }
  },
  {
   "cell_type": "code",
   "execution_count": 7,
   "outputs": [],
   "source": [
    "dic_ip ={'日期':(datetime.datetime.now()+datetime.timedelta(days=day)).strftime('%Y/%m/%d'),\n",
    "         '人员':[i for i in ['Paddy', 'Tony', 'Max', 'Martin', 'Zed', 'Hugo', 'Aber', 'DK', 'Ben'] for j in range(7)],'指标':['接收率(%)','发送IP数','接收IP数','注册','注册率(%)','开户','开户转化率(%)']*9, '总计':0, '0-2':0, '2-4':0, '4-6':0, '6-8':0, '8-10':0, '10-12':0, '12-14':0, '14-16':0, '16-18':0, '18-20':0, '20-22':0, '22-24':0}\n",
    "ip_data = pd.DataFrame(dic_ip)\n",
    "user['注册时间']=pd.to_datetime(user['注册时间'])\n",
    "hour_user= pd.merge(user,daili,how = 'left',left_on='代理',right_on='代理线')\n",
    "hour_user['小时数']= hour_user['注册时间'].dt.hour\n",
    "hour_user['seo变化数据团队'] = hour_user['seo变化数据团队'].str.lower()\n",
    "firChargeUser['注册时间']=pd.to_datetime(firChargeUser['注册时间'])\n",
    "hour_charge = pd.merge(firChargeUser,daili,how='left',left_on='所属代理',right_on='代理线')\n",
    "hour_charge['小时数']= hour_charge['注册时间'].dt.hour\n",
    "hour_charge['seo变化数据团队'] = hour_charge['seo变化数据团队'].str.lower()\n"
   ],
   "metadata": {
    "collapsed": false
   }
  },
  {
   "cell_type": "code",
   "execution_count": 9,
   "outputs": [
    {
     "ename": "TypeError",
     "evalue": "arg must be a list, tuple, 1-d array, or Series",
     "output_type": "error",
     "traceback": [
      "\u001B[1;31m---------------------------------------------------------------------------\u001B[0m",
      "\u001B[1;31mTypeError\u001B[0m                                 Traceback (most recent call last)",
      "Cell \u001B[1;32mIn[9], line 1\u001B[0m\n\u001B[1;32m----> 1\u001B[0m data_2_today\u001B[38;5;241m.\u001B[39mloc[:,\u001B[38;5;124m'\u001B[39m\u001B[38;5;124mPV\u001B[39m\u001B[38;5;124m'\u001B[39m:\u001B[38;5;124m'\u001B[39m\u001B[38;5;124mIP\u001B[39m\u001B[38;5;124m'\u001B[39m] \u001B[38;5;241m=\u001B[39m pd\u001B[38;5;241m.\u001B[39mto_numeric(data_2_today\u001B[38;5;241m.\u001B[39mloc[:,\u001B[38;5;124m'\u001B[39m\u001B[38;5;124mPV\u001B[39m\u001B[38;5;124m'\u001B[39m:\u001B[38;5;124m'\u001B[39m\u001B[38;5;124mIP\u001B[39m\u001B[38;5;124m'\u001B[39m],errors\u001B[38;5;241m=\u001B[39m\u001B[38;5;124m'\u001B[39m\u001B[38;5;124mcoerce\u001B[39m\u001B[38;5;124m'\u001B[39m,downcast\u001B[38;5;241m=\u001B[39m\u001B[38;5;124m'\u001B[39m\u001B[38;5;124minteger\u001B[39m\u001B[38;5;124m'\u001B[39m)\n\u001B[0;32m      2\u001B[0m data_2_today\u001B[38;5;241m.\u001B[39minfo()\n",
      "File \u001B[1;32mC:\\ProgramData\\anaconda3\\envs\\schedule\\Lib\\site-packages\\pandas\\core\\tools\\numeric.py:165\u001B[0m, in \u001B[0;36mto_numeric\u001B[1;34m(arg, errors, downcast)\u001B[0m\n\u001B[0;32m    163\u001B[0m     values \u001B[38;5;241m=\u001B[39m np\u001B[38;5;241m.\u001B[39marray([arg], dtype\u001B[38;5;241m=\u001B[39m\u001B[38;5;124m\"\u001B[39m\u001B[38;5;124mO\u001B[39m\u001B[38;5;124m\"\u001B[39m)\n\u001B[0;32m    164\u001B[0m \u001B[38;5;28;01melif\u001B[39;00m \u001B[38;5;28mgetattr\u001B[39m(arg, \u001B[38;5;124m\"\u001B[39m\u001B[38;5;124mndim\u001B[39m\u001B[38;5;124m\"\u001B[39m, \u001B[38;5;241m1\u001B[39m) \u001B[38;5;241m>\u001B[39m \u001B[38;5;241m1\u001B[39m:\n\u001B[1;32m--> 165\u001B[0m     \u001B[38;5;28;01mraise\u001B[39;00m \u001B[38;5;167;01mTypeError\u001B[39;00m(\u001B[38;5;124m\"\u001B[39m\u001B[38;5;124marg must be a list, tuple, 1-d array, or Series\u001B[39m\u001B[38;5;124m\"\u001B[39m)\n\u001B[0;32m    166\u001B[0m \u001B[38;5;28;01melse\u001B[39;00m:\n\u001B[0;32m    167\u001B[0m     values \u001B[38;5;241m=\u001B[39m arg\n",
      "\u001B[1;31mTypeError\u001B[0m: arg must be a list, tuple, 1-d array, or Series"
     ]
    }
   ],
   "source": [
    "data_2_today.loc[:,'PV':'IP'] = pd.to_numeric(data_2_today.loc[:,'PV':'IP'],errors='coerce',downcast='integer')\n",
    "data_2_today.info()"
   ],
   "metadata": {
    "collapsed": false
   }
  },
  {
   "cell_type": "code",
   "execution_count": null,
   "outputs": [],
   "source": [
    "\n",
    "\n",
    "\n",
    "\n",
    "\n",
    "\n",
    "data_2_today['PV'] = pd.to_numeric(data_2_today['PV'],errors='coerce',downcast='integer')\n",
    "data_2_today['UV'] = pd.to_numeric(data_2_today['UV'],errors='coerce',downcast='integer')\n",
    "data_2_today['IP'] = pd.to_numeric(data_2_today['IP'],errors='coerce',downcast='integer')\n",
    "\n",
    "# 循环方式\n",
    "name_list = ['Martin','Paddy', 'Tony', 'Max',  'Zed', 'Hugo', 'Aber', 'DK', 'Ben']\n",
    "hour_list = ['0-2', '2-4', '4-6', '6-8', '8-10', '10-12', '12-14', '14-16', '16-18', '18-20', '20-22', '22-24']\n",
    "web_dic={'Martin':['redquan.com','martin.bty'],\n",
    "         'Paddy':['paddy.com','paddy.bty'],\n",
    "         'Tony':['tonyb.com','tony.bty'],\n",
    "         'Max':['mulu.com','max.bty'],\n",
    "         'Zed':['zed.com','zed.bty'],\n",
    "         'Hugo':['hugo.com','hugo.bty'],\n",
    "         'Aber':['aber.com','aber.bty'],\n",
    "         'DK':['dk.com','dk.bty'],\n",
    "         'Ben':['ben.com','ben.bty']}\n",
    "\n",
    "for name in name_list:\n",
    "    for h in hour_list:\n",
    "        if name in ['Tony', 'Aber', 'DK', 'Ben']:\n",
    "            ip_data.loc[(ip_data['人员'] ==name) & (ip_data['指标']=='发送IP数'),h] =data_2_today[data_2_today['网站名(domain)'].str.contains(web_dic[name][0])&(data_2_today['时间']>=int(h.split('-')[0])) & (data_2_today['时间']<int(h.split('-')[1]))]['IP'].sum() // 2\n",
    "        else:\n",
    "            ip_data.loc[(ip_data['人员']==name) & (ip_data['指标']=='发送IP数'),h] =data_2_today[data_2_today['网站名(domain)'].str.contains(web_dic[name][0])&(data_2_today['时间']>=int(h.split('-')[0])) & (data_2_today['时间']<int(h.split('-')[1]))]['IP'].sum()\n",
    "        ip_data.loc[(ip_data['人员']==name) & (ip_data['指标']=='接收IP数'),h] =data_2_today[data_2_today['网站名(domain)'].str.contains(web_dic[name][1])&(data_2_today['时间']>=int(h.split('-')[0])) & (data_2_today['时间']<int(h.split('-')[1]))]['IP'].sum()\n",
    "        ip_data.loc[(ip_data['人员']==name) & (ip_data['指标']=='注册'),h] =len(hour_user[(hour_user['seo变化数据团队']==name.lower()) & (hour_user['小时数']>=int(h.split('-')[0]))& (hour_user['小时数']<int(h.split('-')[1]))])\n",
    "        ip_data.loc[(ip_data['人员']==name) & (ip_data['指标']=='注册率(%)'),h]=round(len(hour_user[(hour_user['seo变化数据团队']==name.lower()) & (hour_user['小时数']>=int(h.split('-')[0]))& (hour_user['小时数']<int(h.split('-')[1]))])/ip_data.loc[(ip_data['人员']==name) & (ip_data['指标']=='接收IP数'),h].iloc[0]*100,2)\n",
    "        ip_data.loc[(ip_data['人员']==name) & (ip_data['指标']=='开户'),h] =len(hour_charge[(hour_charge['seo变化数据团队']==name.lower()) & (hour_charge['小时数']>=int(h.split('-')[0]))& (hour_charge['小时数']<int(h.split('-')[1]))])\n",
    "        ip_data.loc[(ip_data['人员']==name) & (ip_data['指标']=='开户转化率(%)'),h]=round(len(hour_charge[(hour_charge['seo变化数据团队']==name.lower()) & (hour_charge['小时数']>=int(h.split('-')[0]))& (hour_charge['小时数']<int(h.split('-')[1]))])/ip_data.loc[(ip_data['人员']==name) & (ip_data['指标']=='注册'),h].iloc[0]*100,2)\n",
    "        ip_data.loc[(ip_data['人员']==name) & (ip_data['指标']=='接收率(%)'),h] =round(ip_data.loc[(ip_data['人员']==name) & (ip_data['指标']=='接收IP数'),h].iloc[0] / ip_data.loc[(ip_data['人员']==name) & (ip_data['指标']=='发送IP数'),h].iloc[0]*100,2)\n",
    "\n",
    "    ip_data.loc[(ip_data['人员']==name) & (ip_data['指标']=='发送IP数'),'总计'] =ip_data.loc[(ip_data['人员']==name) & (ip_data['指标']=='发送IP数'),'0-2':].T.sum()\n",
    "    ip_data.loc[(ip_data['人员']==name) & (ip_data['指标']=='接收IP数'),'总计'] =ip_data.loc[(ip_data['人员']==name) & (ip_data['指标']=='接收IP数'),'0-2':].T.sum()\n",
    "    ip_data.loc[(ip_data['人员']==name) & (ip_data['指标']=='注册'),'总计'] =ip_data.loc[(ip_data['人员']==name) & (ip_data['指标']=='注册'),'0-2':].T.sum()\n",
    "    ip_data.loc[(ip_data['人员']==name) & (ip_data['指标']=='开户'),'总计'] =ip_data.loc[(ip_data['人员']==name) & (ip_data['指标']=='开户'),'0-2':].T.sum()\n",
    "    ip_data.loc[(ip_data['人员']==name) & (ip_data['指标']=='开户转化率(%)'),'总计'] =round(ip_data.loc[(ip_data['人员']==name) & (ip_data['指标']=='开户'),'总计'].iloc[0] / ip_data.loc[(ip_data['人员']==name) & (ip_data['指标']=='注册'),'总计'].iloc[0]*100,2)\n",
    "    ip_data.loc[(ip_data['人员']==name) & (ip_data['指标']=='注册率(%)'),'总计'] =round(ip_data.loc[(ip_data['人员']==name) & (ip_data['指标']=='注册'),'总计'].iloc[0] / ip_data.loc[(ip_data['人员']==name) & (ip_data['指标']=='接收IP数'),'总计'].iloc[0]*100,2)\n",
    "    ip_data.loc[(ip_data['人员']==name) & (ip_data['指标']=='接收率(%)'),'总计'] =round(ip_data.loc[(ip_data['人员']==name) & (ip_data['指标']=='接收IP数'),'总计'].iloc[0] / ip_data.loc[(ip_data['人员']==name) & (ip_data['指标']=='发送IP数'),'总计'].iloc[0]*100,2)\n",
    "\n",
    "# 更新每日数据--------------------------------------------------------------------------------------------------\n",
    "app = xw.App(visible=False,add_book=False)\n",
    "book = app.books.open(r'C:\\Users\\User\\Desktop\\SEO\\数据+ip历史.xlsx')\n",
    "\n",
    "sheet_shuju = book.sheets['数据']\n",
    "row_shuju = sheet_shuju.used_range.last_cell.row\n",
    "\n",
    "sheet_ip =  book.sheets['ip历史']\n",
    "row_ip = sheet_ip.used_range.last_cell.row\n",
    "\n",
    "sheet_shuju['A'+str(row_shuju+1)].options(index=False,header = False).value = shuju\n",
    "sheet_ip['A'+str(row_ip+1)].options(index=False,header = False).value = ip_data\n",
    "book.save()\n",
    "book.close()\n",
    "app.quit()\n",
    "# 添加条件格式\n",
    "wb = load_workbook(r'C:\\Users\\User\\Desktop\\数据+ip历史.xlsx')\n",
    "ws = wb['数据']\n",
    "# redFill = PatternFill(start_color='EE1111',end_color='EE1111',fill_type='solid')\n",
    "redFill = Font(color='FF0000')\n",
    "# ws.conditional_formatting.add(f'K{row_shuju-9}:V{row_shuju}',\n",
    "#                 formatting.rule.CellIsRule(operator='lessThan',\n",
    "#                 formula=['0'],\n",
    "#                 stopIfTrue=True,\n",
    "#                 fill=redFill))\n",
    "ws.conditional_formatting.add(f'K{row_shuju +1}:V{row_shuju +10}',\n",
    "                              formatting.rule.CellIsRule(operator='lessThan',\n",
    "                                                         formula=['0'],\n",
    "                                                         font=redFill))\n",
    "wb.save(filename=r'C:\\Users\\User\\Desktop\\数据+ip历史.xlsx')\n",
    "wb.close()\n",
    "# 发送到群\n",
    "bot_DA = telebot.TeleBot(\"6106076754:AAHjxPSBpyjwpY-lq1iEslUufW46XQvAfr0\")\n",
    "# bot_m = telebot.TeleBot(\"6377312623:AAGz3ZSMVswWq0QVlihRPklw8b7skSBP16Y\")\n",
    "bot_DA.send_document(-812533282,open(r\"C:\\Users\\User\\Desktop\\SEO\\数据+ip历史.xlsx\",'rb'),timeout=600)\n",
    "bot_DA.stop_polling()\n",
    "# 查看\n",
    "print(shuju)\n",
    "print(ip_data)"
   ],
   "metadata": {
    "collapsed": false
   }
  }
 ],
 "metadata": {
  "kernelspec": {
   "name": "schedule",
   "language": "python",
   "display_name": "schedule"
  },
  "language_info": {
   "codemirror_mode": {
    "name": "ipython",
    "version": 2
   },
   "file_extension": ".py",
   "mimetype": "text/x-python",
   "name": "python",
   "nbconvert_exporter": "python",
   "pygments_lexer": "ipython2",
   "version": "2.7.6"
  }
 },
 "nbformat": 4,
 "nbformat_minor": 0
}
