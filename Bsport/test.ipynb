{
 "cells": [
  {
   "cell_type": "code",
   "execution_count": null,
   "outputs": [],
   "source": [],
   "metadata": {
    "collapsed": false
   }
  },
  {
   "cell_type": "code",
   "execution_count": 3,
   "outputs": [
    {
     "data": {
      "text/plain": "(50796, 26)"
     },
     "execution_count": 3,
     "metadata": {},
     "output_type": "execute_result"
    }
   ],
   "source": [
    "df.shape"
   ],
   "metadata": {
    "collapsed": false
   }
  },
  {
   "cell_type": "code",
   "execution_count": 2,
   "outputs": [
    {
     "data": {
      "text/plain": "         会员账号   币种         日期        上级代理  vip  存款金额  提款金额  平台坐庄-投注金额  \\\n0     mac0066  CNY  2023/10/5  btydl00033    2   0.0     0        0.0   \n1  Itobspor20  CNY  2023/10/5  btyseo3636    2   0.0     0       36.0   \n2    wd210802  CNY  2023/10/5  btydl00203    1   0.0     0       60.0   \n3   liuning08  CNY  2023/10/5  btyseo3000    3   0.0     0       39.3   \n4   jun125347  CNY  2023/10/5  btyseo8003    4   0.0     0        0.0   \n\n   平台坐庄-下注金额  平台坐庄-派彩金额  ...   返水金额  投注次数  有效投注金额  会员属性       二级部门  活跃人数  \\\n0        0.0     0.0000  ...   2.13     0     0.0    正常  btydl0099     0   \n1       60.0    39.1200  ...   0.18     5    36.0    正常      鲲鹏seo     1   \n2       60.0    55.2000  ...   0.12     2    60.0    正常  btydl0020     1   \n3       39.3    26.3964  ...  12.91     6    39.3    正常      鲲鹏seo     1   \n4        0.0     0.0000  ...   0.04     0     0.0    正常      鲲鹏seo     0   \n\n     一级部门  不结算人数  月份          22  \n0    袋鼠直播      0  10  btydl00033  \n1   鲲鹏seo      0  10  btyseo3636  \n2  小Peter      0  10  btydl00203  \n3   鲲鹏seo      0  10  btyseo3000  \n4   鲲鹏seo      0  10  btyseo8003  \n\n[5 rows x 26 columns]",
      "text/html": "<div>\n<style scoped>\n    .dataframe tbody tr th:only-of-type {\n        vertical-align: middle;\n    }\n\n    .dataframe tbody tr th {\n        vertical-align: top;\n    }\n\n    .dataframe thead th {\n        text-align: right;\n    }\n</style>\n<table border=\"1\" class=\"dataframe\">\n  <thead>\n    <tr style=\"text-align: right;\">\n      <th></th>\n      <th>会员账号</th>\n      <th>币种</th>\n      <th>日期</th>\n      <th>上级代理</th>\n      <th>vip</th>\n      <th>存款金额</th>\n      <th>提款金额</th>\n      <th>平台坐庄-投注金额</th>\n      <th>平台坐庄-下注金额</th>\n      <th>平台坐庄-派彩金额</th>\n      <th>...</th>\n      <th>返水金额</th>\n      <th>投注次数</th>\n      <th>有效投注金额</th>\n      <th>会员属性</th>\n      <th>二级部门</th>\n      <th>活跃人数</th>\n      <th>一级部门</th>\n      <th>不结算人数</th>\n      <th>月份</th>\n      <th>22</th>\n    </tr>\n  </thead>\n  <tbody>\n    <tr>\n      <th>0</th>\n      <td>mac0066</td>\n      <td>CNY</td>\n      <td>2023/10/5</td>\n      <td>btydl00033</td>\n      <td>2</td>\n      <td>0.0</td>\n      <td>0</td>\n      <td>0.0</td>\n      <td>0.0</td>\n      <td>0.0000</td>\n      <td>...</td>\n      <td>2.13</td>\n      <td>0</td>\n      <td>0.0</td>\n      <td>正常</td>\n      <td>btydl0099</td>\n      <td>0</td>\n      <td>袋鼠直播</td>\n      <td>0</td>\n      <td>10</td>\n      <td>btydl00033</td>\n    </tr>\n    <tr>\n      <th>1</th>\n      <td>Itobspor20</td>\n      <td>CNY</td>\n      <td>2023/10/5</td>\n      <td>btyseo3636</td>\n      <td>2</td>\n      <td>0.0</td>\n      <td>0</td>\n      <td>36.0</td>\n      <td>60.0</td>\n      <td>39.1200</td>\n      <td>...</td>\n      <td>0.18</td>\n      <td>5</td>\n      <td>36.0</td>\n      <td>正常</td>\n      <td>鲲鹏seo</td>\n      <td>1</td>\n      <td>鲲鹏seo</td>\n      <td>0</td>\n      <td>10</td>\n      <td>btyseo3636</td>\n    </tr>\n    <tr>\n      <th>2</th>\n      <td>wd210802</td>\n      <td>CNY</td>\n      <td>2023/10/5</td>\n      <td>btydl00203</td>\n      <td>1</td>\n      <td>0.0</td>\n      <td>0</td>\n      <td>60.0</td>\n      <td>60.0</td>\n      <td>55.2000</td>\n      <td>...</td>\n      <td>0.12</td>\n      <td>2</td>\n      <td>60.0</td>\n      <td>正常</td>\n      <td>btydl0020</td>\n      <td>1</td>\n      <td>小Peter</td>\n      <td>0</td>\n      <td>10</td>\n      <td>btydl00203</td>\n    </tr>\n    <tr>\n      <th>3</th>\n      <td>liuning08</td>\n      <td>CNY</td>\n      <td>2023/10/5</td>\n      <td>btyseo3000</td>\n      <td>3</td>\n      <td>0.0</td>\n      <td>0</td>\n      <td>39.3</td>\n      <td>39.3</td>\n      <td>26.3964</td>\n      <td>...</td>\n      <td>12.91</td>\n      <td>6</td>\n      <td>39.3</td>\n      <td>正常</td>\n      <td>鲲鹏seo</td>\n      <td>1</td>\n      <td>鲲鹏seo</td>\n      <td>0</td>\n      <td>10</td>\n      <td>btyseo3000</td>\n    </tr>\n    <tr>\n      <th>4</th>\n      <td>jun125347</td>\n      <td>CNY</td>\n      <td>2023/10/5</td>\n      <td>btyseo8003</td>\n      <td>4</td>\n      <td>0.0</td>\n      <td>0</td>\n      <td>0.0</td>\n      <td>0.0</td>\n      <td>0.0000</td>\n      <td>...</td>\n      <td>0.04</td>\n      <td>0</td>\n      <td>0.0</td>\n      <td>正常</td>\n      <td>鲲鹏seo</td>\n      <td>0</td>\n      <td>鲲鹏seo</td>\n      <td>0</td>\n      <td>10</td>\n      <td>btyseo8003</td>\n    </tr>\n  </tbody>\n</table>\n<p>5 rows × 26 columns</p>\n</div>"
     },
     "execution_count": 2,
     "metadata": {},
     "output_type": "execute_result"
    }
   ],
   "source": [
    "df.head()"
   ],
   "metadata": {
    "collapsed": false
   }
  },
  {
   "cell_type": "code",
   "execution_count": 1,
   "outputs": [
    {
     "data": {
      "text/plain": "(50796, 26)"
     },
     "execution_count": 1,
     "metadata": {},
     "output_type": "execute_result"
    }
   ],
   "source": [
    "import pandas as pd\n",
    "df = pd.read_clipboard()\n",
    "df.shape"
   ],
   "metadata": {
    "collapsed": false
   }
  },
  {
   "cell_type": "code",
   "execution_count": 15,
   "outputs": [
    {
     "name": "stdout",
     "output_type": "stream",
     "text": [
      "会员首存行列： (336, 7)\n",
      "昨天+今天的会员首存行列： (435, 7)\n",
      "用户列表行列: (935, 7)\n",
      "去重后： (841, 7)\n",
      "trade: (36856, 2)\n"
     ]
    },
    {
     "data": {
      "text/plain": "            账户名        所属代理         代理线        主线账号 seo变化数据团队 准点激活团队\n0     WXQ888888  btyseo8003  btyseo8003  btyseo8003      aber    SEO\n1  l13190342180  btyseo8003  btyseo8003  btyseo8003      aber    SEO\n2        jj7289  btyseo8003  btyseo8003  btyseo8003      aber    SEO\n3    FV88888888  btyseo8003  btyseo8003  btyseo8003      aber    SEO\n4     WXQ888888  btyseo8003  btyseo8003  btyseo8003      aber    SEO",
      "text/html": "<div>\n<style scoped>\n    .dataframe tbody tr th:only-of-type {\n        vertical-align: middle;\n    }\n\n    .dataframe tbody tr th {\n        vertical-align: top;\n    }\n\n    .dataframe thead th {\n        text-align: right;\n    }\n</style>\n<table border=\"1\" class=\"dataframe\">\n  <thead>\n    <tr style=\"text-align: right;\">\n      <th></th>\n      <th>账户名</th>\n      <th>所属代理</th>\n      <th>代理线</th>\n      <th>主线账号</th>\n      <th>seo变化数据团队</th>\n      <th>准点激活团队</th>\n    </tr>\n  </thead>\n  <tbody>\n    <tr>\n      <th>0</th>\n      <td>WXQ888888</td>\n      <td>btyseo8003</td>\n      <td>btyseo8003</td>\n      <td>btyseo8003</td>\n      <td>aber</td>\n      <td>SEO</td>\n    </tr>\n    <tr>\n      <th>1</th>\n      <td>l13190342180</td>\n      <td>btyseo8003</td>\n      <td>btyseo8003</td>\n      <td>btyseo8003</td>\n      <td>aber</td>\n      <td>SEO</td>\n    </tr>\n    <tr>\n      <th>2</th>\n      <td>jj7289</td>\n      <td>btyseo8003</td>\n      <td>btyseo8003</td>\n      <td>btyseo8003</td>\n      <td>aber</td>\n      <td>SEO</td>\n    </tr>\n    <tr>\n      <th>3</th>\n      <td>FV88888888</td>\n      <td>btyseo8003</td>\n      <td>btyseo8003</td>\n      <td>btyseo8003</td>\n      <td>aber</td>\n      <td>SEO</td>\n    </tr>\n    <tr>\n      <th>4</th>\n      <td>WXQ888888</td>\n      <td>btyseo8003</td>\n      <td>btyseo8003</td>\n      <td>btyseo8003</td>\n      <td>aber</td>\n      <td>SEO</td>\n    </tr>\n  </tbody>\n</table>\n</div>"
     },
     "execution_count": 15,
     "metadata": {},
     "output_type": "execute_result"
    }
   ],
   "source": [
    "# SEO环境： schedule\n",
    "import os\n",
    "import warnings\n",
    "warnings.filterwarnings('ignore')\n",
    "import requests\n",
    "import pandas as pd\n",
    "import numpy as np\n",
    "import jsonpath\n",
    "import json\n",
    "import time\n",
    "import datetime\n",
    "import xlwings as xw\n",
    "import telebot\n",
    "import hmac, base64, struct, hashlib\n",
    "from openpyxl import Workbook, load_workbook\n",
    "from openpyxl import formatting, styles\n",
    "from openpyxl.styles import Color, PatternFill, Font, Border\n",
    "from PIL import ImageGrab\n",
    "import pyperclip\n",
    "\n",
    "pd.set_option('display.max_colwidth', None) #显示单元格完整信息\n",
    "pd.set_option('display.max_columns', None)\n",
    "pd.set_option('display.max_rows', None)\n",
    "\n",
    "day = -1\n",
    "pages_user = 150\n",
    "pages_fircharge = 60\n",
    "pages_fircharge_two = 100\n",
    "pages_trade = 150\n",
    "\n",
    "url_trade ='http://fundmng.bsportsadmin.com/api/manage/data/balance/record/list'\n",
    "url_fircharge = 'http://fundmng.bsportsadmin.com/api/manage/data/detail/firstRecharge'\n",
    "url_user = 'http://fundmng.bsportsadmin.com/api/manage/user/maintain/user/list'\n",
    "\n",
    "# 会员流失统计表\n",
    "huiyuan = pd.read_csv(r'C:\\Users\\User\\Desktop\\SEO\\SEO提单数据\\1011\\流失会员详情.csv',encoding='gbk')\n",
    "daili = pd.read_excel(r'C:\\Users\\User\\Desktop\\SEO\\SEO提单数据\\1011\\代理线.xlsx')\n",
    "# 第一次获取token\n",
    "submit_url = 'http://fundmng.bsportsadmin.com/api/manage/user/admin/login/submit'\n",
    "header0 = {\n",
    "    'Accept':'application/json, text/plain, */*',\n",
    "    # 'Accept-Encoding':'gzip, deflate',\n",
    "    'Accept-Language':'zh-CN,zh;q=0.9',\n",
    "    'Connection':'keep-alive',\n",
    "    'Content-Length':'48',\n",
    "    'Content-Type':'application/x-www-form-urlencoded',\n",
    "    'Cookie':'admin-uid=690; admin-token=db76bebda5274c80adaadd40bd794f24',\n",
    "    'Device_id':'1.0',\n",
    "    'Gl_version':'2.0',\n",
    "    'Host':'fundmng.bsportsadmin.com',\n",
    "    'Language':'zh_CN',\n",
    "    'Origin':'http://fundmng.bsportsadmin.com',\n",
    "    'Os_type':'0',\n",
    "    'Referer':'http://fundmng.bsportsadmin.com/login',\n",
    "    'Sign':'2bc4c378817f47731f0adf450a627d19',\n",
    "    'Some':'header',\n",
    "    'Systemid':\"\",\n",
    "    'Timestamp':'1692415901000',\n",
    "    'Token':'-1',\n",
    "    'Uid':'-1',\n",
    "    'User-Agent':'Mozilla/5.0 (Windows NT 10.0; Win64; x64) AppleWebKit/537.36 (KHTML, like Gecko) Chrome/116.0.0.0 Safari/537.36',\n",
    "    'Version':'1.0'\n",
    "}\n",
    "def get_google_code(secret):\n",
    "    key = base64.b32decode(secret, True)\n",
    "    msg = struct.pack(\">Q\", int(time.time()) // 30)\n",
    "    google_code = hmac.new(key, msg, hashlib.sha1).digest()\n",
    "    # 很多网上的代码不可用，就在于这儿，没有chr字符串\n",
    "    o = ord(chr(google_code[19])) & 15\n",
    "    # google_code = (struct.unpack(\">I\", google_code[o:o + 4])[0] & 0x7fffffff) % 1000000\n",
    "    google_code = (struct.unpack(\">I\", google_code[o:o + 4])[0] & 0x7fffffff) % 1000000\n",
    "    return '%06d' % google_code\n",
    "\n",
    "\n",
    "# 采集会员列表和会员首存记录\n",
    "session = requests.session()\n",
    "\n",
    "# 采集昨日首存报表\n",
    "dic_fir = dict({'会员名':[], '所属代理':[],'注册时间':[], '交易时间':[], '交易类型':[], '币种':[], '金额':[]})\n",
    "# 昨天开始时间戳\n",
    "yesterday = datetime.date.today() + datetime.timedelta(days=day)\n",
    "yesterday_start_time = int(time.mktime(time.strptime(str(yesterday), '%Y-%m-%d')))\n",
    "# 昨天结束时间戳\n",
    "yesterday_end_time = int(time.mktime(time.strptime(str(datetime.date.today()), '%Y-%m-%d'))) - 1\n",
    "\n",
    "#---------------------token----------------------\n",
    "# 采取token\n",
    "google_code = get_google_code('64ehnxj6yily5bhv23kgb62ozuh6yuu2')\n",
    "data0 = {\n",
    "    'username': 'Marquis',\n",
    "    'password': 'qwer123456',\n",
    "    'code': google_code\n",
    "}\n",
    "session0 = requests.Session()\n",
    "response0  =session0.post(url=submit_url,data=data0,headers=header0)\n",
    "response0.encoding = 'utf-8'\n",
    "obj0 = json.loads(response0.text)\n",
    "token = obj0['data']['token']\n",
    "\n",
    "header = {\n",
    "    'Accept':'application/json, text/plain, */*',\n",
    "    # 'Accept-Encoding':'gzip, deflate',\n",
    "    'Accept-Language':'zh-CN,zh;q=0.9',\n",
    "    'Connection':'keep-alive',\n",
    "    'Content-Length':'75',\n",
    "    'Content-Type':'application/x-www-form-urlencoded',\n",
    "    'Cookie':'admin-token=67c8b1bd1b434f898ed8570a860355b8; admin-uid=690',\n",
    "    'Device_id':'1.0',\n",
    "    'Gl_version':'2.0',\n",
    "    'Host':'fundmng.bsportsadmin.com',\n",
    "    'Language':'zh_CN',\n",
    "    'Menuid':'100112',\n",
    "    'Opeartionmenu':'%u62A5%u8868%u67E5%u8BE2-%u4F1A%u5458%u9996%u5B58%u62A5%u8868',\n",
    "    'Origin':'http://fundmng.bsportsadmin.com',\n",
    "    'Os_type':'0',\n",
    "    'Referer':'http://fundmng.bsportsadmin.com/system/report-query/report-first-recharge',\n",
    "    'Sign':'ca83944852acc68fe114cbc65f1e1d22',\n",
    "    'Some':'header',\n",
    "    'Systemid':'54',\n",
    "    'Timestamp':'1692092554000',\n",
    "    'Token':token,\n",
    "    'Uid':'690',\n",
    "    'User-Agent':'Mozilla/5.0 (Windows NT 10.0; Win64; x64) AppleWebKit/537.36 (KHTML, like Gecko) Chrome/115.0.0.0 Safari/537.36',\n",
    "    'Version':'1.0'\n",
    "}\n",
    "for page in range(1,pages_fircharge+1):\n",
    "    data = {\n",
    "        'page': page,\n",
    "        'size': 20,\n",
    "        'tradeType': 0,\n",
    "        'isFake': 0,\n",
    "        'stime': yesterday_start_time*1000,\n",
    "        'etime': yesterday_end_time*1000+999\n",
    "    }\n",
    "    response = session.post(url_fircharge,headers=header,data=data)\n",
    "    response.encoding = 'utf-8'\n",
    "    obj = json.loads(response.text)\n",
    "\n",
    "    for i in obj['data']['list']:\n",
    "        dic_fir['会员名'].append(i['userName'])\n",
    "        dic_fir['所属代理'].append(i['parentName'])\n",
    "        dic_fir['注册时间'].append(time.strftime('%Y/%m/%d %H:%M:%S',time.localtime(i['createTime']//1000)))\n",
    "        dic_fir['交易时间'].append(time.strftime('%Y/%m/%d %H:%M:%S',time.localtime(i['regTime']//1000)))\n",
    "        dic_fir['交易类型'].append(i['tradeType'])\n",
    "        dic_fir['币种'].append(i['coinCode'])\n",
    "        dic_fir['金额'].append(i['amount'])\n",
    "firChargeUser = pd.DataFrame(dic_fir)\n",
    "print('会员首存行列：',firChargeUser.shape)\n",
    "\n",
    "# 2.采集昨天和今天的首存报表\n",
    "dic_fir_two = dict({'会员名':[], '所属代理':[],'注册时间':[], '交易时间':[], '交易类型':[], '币种':[], '金额':[]})\n",
    "for page in range(1,pages_fircharge_two+1):\n",
    "    data = {\n",
    "        'page': page,\n",
    "        'size': 20,\n",
    "        'tradeType': 0,\n",
    "        'isFake': 0,\n",
    "        'stime': yesterday_start_time*1000,\n",
    "        'etime': int(time.time())*1000\n",
    "    }\n",
    "    response = session.post(url_fircharge,headers=header,data=data)\n",
    "    response.encoding = 'utf-8'\n",
    "    obj = json.loads(response.text)\n",
    "\n",
    "    for i in obj['data']['list']:\n",
    "        dic_fir_two['会员名'].append(i['userName'])\n",
    "        dic_fir_two['所属代理'].append(i['parentName'])\n",
    "        dic_fir_two['注册时间'].append(time.strftime('%Y/%m/%d',time.localtime(i['createTime']//1000)))\n",
    "        dic_fir_two['交易时间'].append(time.strftime('%Y/%m/%d',time.localtime(i['regTime']//1000)))\n",
    "        dic_fir_two['交易类型'].append(i['tradeType'])\n",
    "        dic_fir_two['币种'].append(i['coinCode'])\n",
    "        dic_fir_two['金额'].append(i['amount'])\n",
    "charge_two  = pd.DataFrame(dic_fir_two)\n",
    "print('昨天+今天的会员首存行列：',charge_two.shape)\n",
    "\n",
    "# 采集会员列表\n",
    "dic_user = dict({'会员账号':[], '姓名':[],'代理':[],'玩家层级':[], '注册时间':[], '首存时间':[],'备注':[]})\n",
    "for page in range(1,pages_user+1):\n",
    "    data2 = {\n",
    "        'page':page,\n",
    "        'size':20,\n",
    "        'userVip':'0,1,2,3,4,5,6,7,8,9,10,11',\n",
    "        'status':'0,1,2,4',\n",
    "        'sortType':'3',\n",
    "        'sortStr':'descend',\n",
    "        'searchType':'1',\n",
    "        'channelId':'34',\n",
    "        'registeredStartDate':yesterday_start_time*1000,\n",
    "        'registeredEndDate':yesterday_end_time*1000+999,\n",
    "    }\n",
    "    response2 = session.post(url_user,headers=header,data=data2)\n",
    "    response2.encoding = 'utf-8'\n",
    "    obj2 = json.loads(response2.text)\n",
    "    for i in obj2['data']['list']:\n",
    "        dic_user['会员账号'].append(i['username'])\n",
    "        if i['reallyName'] !='':\n",
    "            dic_user['姓名'].append(i['reallyName'])\n",
    "        else:\n",
    "            dic_user['姓名'].append('-')\n",
    "\n",
    "        dic_user['代理'].append(i['parentName'])\n",
    "        dic_user['玩家层级'].append(i['levelName'])\n",
    "        dic_user['注册时间'].append(time.strftime('%Y/%m/%d',time.localtime(i['registerDate']//1000)))\n",
    "        dic_user['首存时间'].append(time.strftime('%Y/%m/%d',time.localtime(i['firstRechargeDate']//1000)))\n",
    "        dic_user['备注'].append(i['remark'])\n",
    "user = pd.DataFrame(dic_user)\n",
    "print('用户列表行列:',user.shape)\n",
    "# 删除测试账号\n",
    "user = user[~user['会员账号'].str.contains('test')&~user['会员账号'].str.contains('ceshi')&~user['姓名'].str.contains('测试') \\\n",
    "            &~user['姓名'].str.contains('ceshi')&~user['代理'].str.contains('测试')&~user['代理'].str.contains('ceshi') \\\n",
    "            &~user['备注'].str.contains('测试')&~user['备注'].str.contains('试玩')&~user['备注'].str.contains('晒单') \\\n",
    "            &~user['玩家层级'].str.contains('测试')]\n",
    "print('去重后：',user.shape)\n",
    "\n",
    "shuju = pd.DataFrame({'人员':['paddy', 'tony', 'max', 'martin', 'zed', 'hugo', 'aber', 'dk', 'ben']})\n",
    "shuju['人员2']=shuju['人员']\n",
    "shuju.set_index('人员2',inplace=True)\n",
    "shuju.sort_index(inplace=True)\n",
    "# 注册数\n",
    "\n",
    "merge_user = pd.merge(user,daili,how = 'left',left_on='代理',right_on='代理线')\n",
    "result = merge_user.groupby('seo变化数据团队').agg({'seo变化数据团队':len})\n",
    "result.rename(columns={'seo变化数据团队':'注册数'},inplace=True)\n",
    "\n",
    "# 绑卡\n",
    "merge_user_dropna = merge_user.loc[~merge_user['seo变化数据团队'].isna()&(merge_user['姓名']!='-'),]\n",
    "bangka = merge_user_dropna.groupby('seo变化数据团队').agg({'会员账号':len})\n",
    "bangka.rename(columns={'会员账号':'绑卡数'},inplace=True)\n",
    "\n",
    "# join\n",
    "result2 = result.join(bangka).fillna(0)\n",
    "result2['绑卡率'] = result2['绑卡数']/result2['注册数']\n",
    "\n",
    "\n",
    "# 采集交易明细 trade\n",
    "# 新token\n",
    "data0 = {\n",
    "    'username': 'Marquis',\n",
    "    'password': 'qwer123456',\n",
    "    'code': get_google_code('64ehnxj6yily5bhv23kgb62ozuh6yuu2')\n",
    "}\n",
    "session0 = requests.Session()\n",
    "response0  =session0.post(url=submit_url,data=data0,headers=header0)\n",
    "response0.encoding = 'utf-8'\n",
    "obj0 = json.loads(response0.text)\n",
    "token = obj0['data']['token']\n",
    "header = {\n",
    "    'Accept':'application/json, text/plain, */*',\n",
    "    # 'Accept-Encoding':'gzip, deflate',\n",
    "    'Accept-Language':'zh-CN,zh;q=0.9',\n",
    "    'Connection':'keep-alive',\n",
    "    'Content-Length':'103',\n",
    "    'Content-Type':'application/x-www-form-urlencoded',\n",
    "    'Cookie':'admin-token=fc66d42ccb0f4ca58b184fbe5498158c; admin-uid=690',\n",
    "    'Device_id':'1.0',\n",
    "    'Gl_version':'2.0',\n",
    "    'Host':'fundmng.bsportsadmin.com',\n",
    "    'Language':'zh_CN',\n",
    "    'Menuid':'100104',\n",
    "    'Opeartionmenu':'%u62A5%u8868%u67E5%u8BE2-%u4F1A%u5458%u9996%u5B58%u62A5%u8868',\n",
    "    'Origin':'http://fundmng.bsportsadmin.com',\n",
    "    'Os_type':'0',\n",
    "    'Referer':'http://fundmng.bsportsadmin.com/system/report-query/transaction-for-user',\n",
    "    'Sign':'1abc87008c66bc0b4d3d7a3870442b16',\n",
    "    'Some':'header',\n",
    "    'Systemid':'54',\n",
    "    'Timestamp':'1697016616000',\n",
    "    'Token':token,\n",
    "    'Uid':'690',\n",
    "    'User-Agent':'Mozilla/5.0 (Windows NT 10.0; Win64; x64) AppleWebKit/537.36 (KHTML, like Gecko) Chrome/115.0.0.0 Safari/537.36',\n",
    "    'Version':'1.0'\n",
    "}\n",
    "\n",
    "dic_trade = dict({'账户名':[], '所属代理':[]})\n",
    "for page in range(1,pages_trade+1):\n",
    "    data2 = {\n",
    "        'page':page,\n",
    "        'size':500,\n",
    "        'reportType':'0',\n",
    "        'userType':'0',\n",
    "        'dateType':'0',\n",
    "        'startDate':yesterday_start_time*1000,\n",
    "        'endDate':yesterday_end_time*1000+999,\n",
    "        'type':'1'\n",
    "    }\n",
    "    response2 = session.post(url_trade,headers=header,data=data2)\n",
    "    response2.encoding = 'utf-8'\n",
    "    obj2 = json.loads(response2.text)\n",
    "    for i in obj2['data']['list']:\n",
    "        dic_trade['账户名'].append(i['username'])\n",
    "        dic_trade['所属代理'].append(i['parentName'])\n",
    "\n",
    "trade = pd.DataFrame(dic_trade)\n",
    "print('trade:',trade.shape)\n",
    "# 未拉过单\n",
    "huiyuan2 = huiyuan.loc[huiyuan['首存时间']==0,]\n",
    "merge_huiyuan = huiyuan2.merge(daili,left_on = '代理',right_on='代理线')\n",
    "# print(merge_huiyuan.shape)\n",
    "# merge_huiyuan2 = merge_huiyuan.loc[~merge_huiyuan['准点激活团队'].isna(),]\n",
    "# print('处理后：',merge_huiyuan2.shape)\n",
    "\n",
    "mingdan= set(list(merge_huiyuan['会员账号'].values)+list(charge_two['会员名'].values))\n",
    "# 删除交易测试账号\n",
    "trade2 = trade[~trade['账户名'].str.contains('test')&~trade['账户名'].str.contains('ceshi')&~trade['所属代理'].str.contains('测试')&~trade['所属代理'].str.contains('ceshi')]\n",
    "trade_daili= trade2.merge(daili,left_on='所属代理',right_on='代理线')\n",
    "trade_daili.head()"
   ],
   "metadata": {
    "collapsed": false
   }
  },
  {
   "cell_type": "code",
   "execution_count": 21,
   "outputs": [
    {
     "data": {
      "text/plain": "(388, 6)"
     },
     "execution_count": 21,
     "metadata": {},
     "output_type": "execute_result"
    }
   ],
   "source": [
    "tidan = trade_daili.loc[trade_daili['账户名'].isin(mingdan),]\n",
    "tidan.shape"
   ],
   "metadata": {
    "collapsed": false
   }
  },
  {
   "cell_type": "code",
   "execution_count": null,
   "outputs": [],
   "source": [
    "huiyuan.merge(daili,left_on='代理',right_on='代理线')"
   ],
   "metadata": {
    "collapsed": false,
    "pycharm": {
     "is_executing": true
    }
   }
  },
  {
   "cell_type": "code",
   "execution_count": null,
   "outputs": [],
   "source": [
    "tidan = trade_daili.loc[trade_daili['账户名'].isin(mingdan),]\n",
    "# 去除重复用户\n",
    "tidan.drop_duplicates('账户名',inplace=True)\n",
    "tidan_grp = tidan.groupby('seo变化数据团队').agg({'账户名':len}).rename(columns={'账户名':'提单人数'})\n",
    "shuju = shuju.join(result2).join(tidan_grp)\n",
    "shuju.fillna(0,inplace=True)\n",
    "shuju['提单率']=shuju['提单人数']/shuju['绑卡数']"
   ],
   "metadata": {
    "collapsed": false
   }
  },
  {
   "cell_type": "code",
   "execution_count": 2,
   "outputs": [
    {
     "name": "stderr",
     "output_type": "stream",
     "text": [
      "C:\\Users\\User\\AppData\\Local\\Temp\\ipykernel_6672\\3949895063.py:5: FutureWarning: The frame.append method is deprecated and will be removed from pandas in a future version. Use pandas.concat instead.\n",
      "  df =df1.append(df2).append(df3)\n"
     ]
    },
    {
     "data": {
      "text/plain": "(1158941, 11)"
     },
     "execution_count": 2,
     "metadata": {},
     "output_type": "execute_result"
    }
   ],
   "source": [
    "import pandas as pd\n",
    "df1 = pd.read_csv(r'C:\\Users\\User\\Desktop\\9月充值异常记录\\充值异常记录20231005130430-246.csv',encoding='gbk')\n",
    "df2 = pd.read_csv(r'C:\\Users\\User\\Desktop\\9月充值异常记录\\充值异常记录20231005130937-249.csv',encoding='gbk')\n",
    "df3 = pd.read_csv(r'C:\\Users\\User\\Desktop\\9月充值异常记录\\充值异常记录20231005131427-86.csv',encoding='gbk')\n",
    "df =df1.append(df2).append(df3)\n",
    "df.shape"
   ],
   "metadata": {
    "collapsed": false
   }
  },
  {
   "cell_type": "code",
   "execution_count": 24,
   "outputs": [
    {
     "data": {
      "text/plain": "(31428, 17)"
     },
     "execution_count": 24,
     "metadata": {},
     "output_type": "execute_result"
    }
   ],
   "source": [
    "merge_huiyuan.shape"
   ],
   "metadata": {
    "collapsed": false
   }
  },
  {
   "cell_type": "code",
   "execution_count": 14,
   "outputs": [
    {
     "data": {
      "text/plain": "                                                    Cds123456789异常原因次数\n异常原因                                                                  \n[质远支付_561302 超出收款金额范围, 超级支付V2_CJZF8888 超出收款金额范围]                  7215\n[超级支付V2_CJZF8888 超出收款金额范围]                                        1225\n[码上支付_M7GXJSR4AG 超出收款金额范围]                                        1041\n[超级支付V2_CJZF8888 超出收款金额范围, 质远支付_561302 超出收款金额范围]                   837\n没有符合条件的收款银行卡,请检查风控以及状态                                             421\n[质远支付_561302 超出收款金额范围, 码上支付_M7GXJSR4AG 超出收款金额范围]                   334\n没有符合条件的收款银行卡,当日交易次数以及交易总额超限                                        169\n[鑫鑫支付V2_75021365 商户余额超过收款限额, MGO支付_PF0037 超出收款金...                  49\n[质远支付_561302 超出收款金额范围, 超级支付V2_CJZF8888 超出收款金额范围...                  41\n当前IP固定时间内下单超限.                                                      35\n[超级支付V2_CJZF8888 超出收款金额范围, 新胜支付_M-bty8889 超出收款金...                  29\n[质远支付_561302 超出收款金额范围]                                              26\n当前额度较满，请更换金额提交                                                      26\n网络请求超时，稍后重试                                                          6\n通道正忙请稍后重试【日志编号：403f230fee334202859d7a6bf75ab39e】                     1\n通道正忙请稍后重试【日志编号：d6f079d235e7498ea618b1679e372e9e】                     1",
      "text/html": "<div>\n<style scoped>\n    .dataframe tbody tr th:only-of-type {\n        vertical-align: middle;\n    }\n\n    .dataframe tbody tr th {\n        vertical-align: top;\n    }\n\n    .dataframe thead th {\n        text-align: right;\n    }\n</style>\n<table border=\"1\" class=\"dataframe\">\n  <thead>\n    <tr style=\"text-align: right;\">\n      <th></th>\n      <th>Cds123456789异常原因次数</th>\n    </tr>\n    <tr>\n      <th>异常原因</th>\n      <th></th>\n    </tr>\n  </thead>\n  <tbody>\n    <tr>\n      <th>[质远支付_561302 超出收款金额范围, 超级支付V2_CJZF8888 超出收款金额范围]</th>\n      <td>7215</td>\n    </tr>\n    <tr>\n      <th>[超级支付V2_CJZF8888 超出收款金额范围]</th>\n      <td>1225</td>\n    </tr>\n    <tr>\n      <th>[码上支付_M7GXJSR4AG 超出收款金额范围]</th>\n      <td>1041</td>\n    </tr>\n    <tr>\n      <th>[超级支付V2_CJZF8888 超出收款金额范围, 质远支付_561302 超出收款金额范围]</th>\n      <td>837</td>\n    </tr>\n    <tr>\n      <th>没有符合条件的收款银行卡,请检查风控以及状态</th>\n      <td>421</td>\n    </tr>\n    <tr>\n      <th>[质远支付_561302 超出收款金额范围, 码上支付_M7GXJSR4AG 超出收款金额范围]</th>\n      <td>334</td>\n    </tr>\n    <tr>\n      <th>没有符合条件的收款银行卡,当日交易次数以及交易总额超限</th>\n      <td>169</td>\n    </tr>\n    <tr>\n      <th>[鑫鑫支付V2_75021365 商户余额超过收款限额, MGO支付_PF0037 超出收款金额范围]</th>\n      <td>49</td>\n    </tr>\n    <tr>\n      <th>[质远支付_561302 超出收款金额范围, 超级支付V2_CJZF8888 超出收款金额范围, 全通支付_d27dcad1-9b9c-41f4-aab3-360586d3f947 超出收款金额范围]</th>\n      <td>41</td>\n    </tr>\n    <tr>\n      <th>当前IP固定时间内下单超限.</th>\n      <td>35</td>\n    </tr>\n    <tr>\n      <th>[超级支付V2_CJZF8888 超出收款金额范围, 新胜支付_M-bty8889 超出收款金额范围]</th>\n      <td>29</td>\n    </tr>\n    <tr>\n      <th>[质远支付_561302 超出收款金额范围]</th>\n      <td>26</td>\n    </tr>\n    <tr>\n      <th>当前额度较满，请更换金额提交</th>\n      <td>26</td>\n    </tr>\n    <tr>\n      <th>网络请求超时，稍后重试</th>\n      <td>6</td>\n    </tr>\n    <tr>\n      <th>通道正忙请稍后重试【日志编号：403f230fee334202859d7a6bf75ab39e】</th>\n      <td>1</td>\n    </tr>\n    <tr>\n      <th>通道正忙请稍后重试【日志编号：d6f079d235e7498ea618b1679e372e9e】</th>\n      <td>1</td>\n    </tr>\n  </tbody>\n</table>\n</div>"
     },
     "execution_count": 14,
     "metadata": {},
     "output_type": "execute_result"
    }
   ],
   "source": [
    "result = df.loc[df['账户名']=='Cds123456789',].groupby('异常原因').agg({'账户名':len})\n",
    "result.rename(columns={'账户名':'Cds123456789异常原因次数'},inplace=True)\n",
    "result.sort_values('Cds123456789异常原因次数',ascending=False)"
   ],
   "metadata": {
    "collapsed": false
   }
  },
  {
   "cell_type": "code",
   "execution_count": 4,
   "outputs": [
    {
     "name": "stderr",
     "output_type": "stream",
     "text": [
      "C:\\ProgramData\\anaconda3\\envs\\schedule\\Lib\\site-packages\\openpyxl\\styles\\stylesheet.py:226: UserWarning: Workbook contains no default style, apply openpyxl's default\n",
      "  warn(\"Workbook contains no default style, apply openpyxl's default\")\n"
     ]
    },
    {
     "data": {
      "text/plain": "                  IP\n网站名(domain)         \naber.bty       562.0\naber.com     14650.0\naber.zb          0.0\naber.zz          0.0\nalen.bty         0.0\nben.bty        298.0\nben.com       5130.0\nben.zb           4.0\nben.zz           0.0\nbike.bty         1.0\nbilly.com        0.0\ndazhi.bty        2.0\ndazhi.com       98.0\ndk.bty        2160.0\ndk.com        3050.0\ndk.zb           90.0\ndk.zz            0.0\nduobo.bty       37.0\nduobo.com        0.0\ngroot.com        0.0\nhugo.cn          0.0\nhugo.com       103.0\nhugo.kty         0.0\nhugo.zb         31.0\nhugo.zz          0.0\nkiwi.com         3.0\nleslie.com       0.0\nmartin.bty    1072.0\nmartin.com       0.0\nmartin.pd        0.0\nmartin.zb       51.0\nmartin.zz        0.0\nmax.bty        225.0\nmax.zb           1.0\nmax.zz           0.0\nmaxmile.com    285.0\nmulu.com       273.0\npaddy.bty       51.0\npaddy.com        0.0\npaddy.zz         0.0\npeter.bty      183.0\nredquan.com   3445.0\ntony.bty       427.0\ntony.zb          0.0\ntony.zz          0.0\ntonyb.com     1136.0\nzed.bty        329.0\nzed.cn           0.0\nzed.com       4853.0\nzed.kty          0.0\nzed.zb           0.0\nzed.zz           0.0",
      "text/html": "<div>\n<style scoped>\n    .dataframe tbody tr th:only-of-type {\n        vertical-align: middle;\n    }\n\n    .dataframe tbody tr th {\n        vertical-align: top;\n    }\n\n    .dataframe thead th {\n        text-align: right;\n    }\n</style>\n<table border=\"1\" class=\"dataframe\">\n  <thead>\n    <tr style=\"text-align: right;\">\n      <th></th>\n      <th>IP</th>\n    </tr>\n    <tr>\n      <th>网站名(domain)</th>\n      <th></th>\n    </tr>\n  </thead>\n  <tbody>\n    <tr>\n      <th>aber.bty</th>\n      <td>562.0</td>\n    </tr>\n    <tr>\n      <th>aber.com</th>\n      <td>14650.0</td>\n    </tr>\n    <tr>\n      <th>aber.zb</th>\n      <td>0.0</td>\n    </tr>\n    <tr>\n      <th>aber.zz</th>\n      <td>0.0</td>\n    </tr>\n    <tr>\n      <th>alen.bty</th>\n      <td>0.0</td>\n    </tr>\n    <tr>\n      <th>ben.bty</th>\n      <td>298.0</td>\n    </tr>\n    <tr>\n      <th>ben.com</th>\n      <td>5130.0</td>\n    </tr>\n    <tr>\n      <th>ben.zb</th>\n      <td>4.0</td>\n    </tr>\n    <tr>\n      <th>ben.zz</th>\n      <td>0.0</td>\n    </tr>\n    <tr>\n      <th>bike.bty</th>\n      <td>1.0</td>\n    </tr>\n    <tr>\n      <th>billy.com</th>\n      <td>0.0</td>\n    </tr>\n    <tr>\n      <th>dazhi.bty</th>\n      <td>2.0</td>\n    </tr>\n    <tr>\n      <th>dazhi.com</th>\n      <td>98.0</td>\n    </tr>\n    <tr>\n      <th>dk.bty</th>\n      <td>2160.0</td>\n    </tr>\n    <tr>\n      <th>dk.com</th>\n      <td>3050.0</td>\n    </tr>\n    <tr>\n      <th>dk.zb</th>\n      <td>90.0</td>\n    </tr>\n    <tr>\n      <th>dk.zz</th>\n      <td>0.0</td>\n    </tr>\n    <tr>\n      <th>duobo.bty</th>\n      <td>37.0</td>\n    </tr>\n    <tr>\n      <th>duobo.com</th>\n      <td>0.0</td>\n    </tr>\n    <tr>\n      <th>groot.com</th>\n      <td>0.0</td>\n    </tr>\n    <tr>\n      <th>hugo.cn</th>\n      <td>0.0</td>\n    </tr>\n    <tr>\n      <th>hugo.com</th>\n      <td>103.0</td>\n    </tr>\n    <tr>\n      <th>hugo.kty</th>\n      <td>0.0</td>\n    </tr>\n    <tr>\n      <th>hugo.zb</th>\n      <td>31.0</td>\n    </tr>\n    <tr>\n      <th>hugo.zz</th>\n      <td>0.0</td>\n    </tr>\n    <tr>\n      <th>kiwi.com</th>\n      <td>3.0</td>\n    </tr>\n    <tr>\n      <th>leslie.com</th>\n      <td>0.0</td>\n    </tr>\n    <tr>\n      <th>martin.bty</th>\n      <td>1072.0</td>\n    </tr>\n    <tr>\n      <th>martin.com</th>\n      <td>0.0</td>\n    </tr>\n    <tr>\n      <th>martin.pd</th>\n      <td>0.0</td>\n    </tr>\n    <tr>\n      <th>martin.zb</th>\n      <td>51.0</td>\n    </tr>\n    <tr>\n      <th>martin.zz</th>\n      <td>0.0</td>\n    </tr>\n    <tr>\n      <th>max.bty</th>\n      <td>225.0</td>\n    </tr>\n    <tr>\n      <th>max.zb</th>\n      <td>1.0</td>\n    </tr>\n    <tr>\n      <th>max.zz</th>\n      <td>0.0</td>\n    </tr>\n    <tr>\n      <th>maxmile.com</th>\n      <td>285.0</td>\n    </tr>\n    <tr>\n      <th>mulu.com</th>\n      <td>273.0</td>\n    </tr>\n    <tr>\n      <th>paddy.bty</th>\n      <td>51.0</td>\n    </tr>\n    <tr>\n      <th>paddy.com</th>\n      <td>0.0</td>\n    </tr>\n    <tr>\n      <th>paddy.zz</th>\n      <td>0.0</td>\n    </tr>\n    <tr>\n      <th>peter.bty</th>\n      <td>183.0</td>\n    </tr>\n    <tr>\n      <th>redquan.com</th>\n      <td>3445.0</td>\n    </tr>\n    <tr>\n      <th>tony.bty</th>\n      <td>427.0</td>\n    </tr>\n    <tr>\n      <th>tony.zb</th>\n      <td>0.0</td>\n    </tr>\n    <tr>\n      <th>tony.zz</th>\n      <td>0.0</td>\n    </tr>\n    <tr>\n      <th>tonyb.com</th>\n      <td>1136.0</td>\n    </tr>\n    <tr>\n      <th>zed.bty</th>\n      <td>329.0</td>\n    </tr>\n    <tr>\n      <th>zed.cn</th>\n      <td>0.0</td>\n    </tr>\n    <tr>\n      <th>zed.com</th>\n      <td>4853.0</td>\n    </tr>\n    <tr>\n      <th>zed.kty</th>\n      <td>0.0</td>\n    </tr>\n    <tr>\n      <th>zed.zb</th>\n      <td>0.0</td>\n    </tr>\n    <tr>\n      <th>zed.zz</th>\n      <td>0.0</td>\n    </tr>\n  </tbody>\n</table>\n</div>"
     },
     "execution_count": 4,
     "metadata": {},
     "output_type": "execute_result"
    },
    {
     "data": {
      "text/plain": "               日期     人员2   发送IP  接受IP\n人员                                    \nAber   2023-08-07    aber   7325   562\nBen    2023-08-07     ben   2565   298\nDK     2023-08-07      dk   1525  2160\nHugo   2023-08-07    hugo    103     0\nMartin 2023-08-07  martin   3445  1072\nMax    2023-08-07     max    273   225\nPaddy  2023-08-07   paddy      0    51\nTony   2023-08-07    tony    568  1136\nZed    2023-08-07     zed   4853   329\n当日汇总   2023-08-07    当日汇总  20666  5842",
      "text/html": "<div>\n<style scoped>\n    .dataframe tbody tr th:only-of-type {\n        vertical-align: middle;\n    }\n\n    .dataframe tbody tr th {\n        vertical-align: top;\n    }\n\n    .dataframe thead th {\n        text-align: right;\n    }\n</style>\n<table border=\"1\" class=\"dataframe\">\n  <thead>\n    <tr style=\"text-align: right;\">\n      <th></th>\n      <th>日期</th>\n      <th>人员2</th>\n      <th>发送IP</th>\n      <th>接受IP</th>\n    </tr>\n    <tr>\n      <th>人员</th>\n      <th></th>\n      <th></th>\n      <th></th>\n      <th></th>\n    </tr>\n  </thead>\n  <tbody>\n    <tr>\n      <th>Aber</th>\n      <td>2023-08-07</td>\n      <td>aber</td>\n      <td>7325</td>\n      <td>562</td>\n    </tr>\n    <tr>\n      <th>Ben</th>\n      <td>2023-08-07</td>\n      <td>ben</td>\n      <td>2565</td>\n      <td>298</td>\n    </tr>\n    <tr>\n      <th>DK</th>\n      <td>2023-08-07</td>\n      <td>dk</td>\n      <td>1525</td>\n      <td>2160</td>\n    </tr>\n    <tr>\n      <th>Hugo</th>\n      <td>2023-08-07</td>\n      <td>hugo</td>\n      <td>103</td>\n      <td>0</td>\n    </tr>\n    <tr>\n      <th>Martin</th>\n      <td>2023-08-07</td>\n      <td>martin</td>\n      <td>3445</td>\n      <td>1072</td>\n    </tr>\n    <tr>\n      <th>Max</th>\n      <td>2023-08-07</td>\n      <td>max</td>\n      <td>273</td>\n      <td>225</td>\n    </tr>\n    <tr>\n      <th>Paddy</th>\n      <td>2023-08-07</td>\n      <td>paddy</td>\n      <td>0</td>\n      <td>51</td>\n    </tr>\n    <tr>\n      <th>Tony</th>\n      <td>2023-08-07</td>\n      <td>tony</td>\n      <td>568</td>\n      <td>1136</td>\n    </tr>\n    <tr>\n      <th>Zed</th>\n      <td>2023-08-07</td>\n      <td>zed</td>\n      <td>4853</td>\n      <td>329</td>\n    </tr>\n    <tr>\n      <th>当日汇总</th>\n      <td>2023-08-07</td>\n      <td>当日汇总</td>\n      <td>20666</td>\n      <td>5842</td>\n    </tr>\n  </tbody>\n</table>\n</div>"
     },
     "execution_count": 4,
     "metadata": {},
     "output_type": "execute_result"
    }
   ],
   "source": [
    "import pandas as pd\n",
    "import numpy as np\n",
    "import datetime\n",
    "pd.set_option('display.max_colwidth', None) #显示单元格完整信息\n",
    "pd.set_option('display.max_columns', None)\n",
    "pd.set_option('display.max_rows', None)\n",
    "\n",
    "user = pd.read_csv(r'C:\\Users\\User\\Desktop\\SEO_0807\\会员列表导出.csv',encoding='gbk')\n",
    "firChargeUser = pd.read_csv(r'C:\\Users\\User\\Desktop\\SEO_0807\\会员首存报表.csv',encoding='gbk')\n",
    "data = pd.read_excel(r'C:\\Users\\User\\Desktop\\SEO_0807\\data\\今日数据.xlsx')\n",
    "daili = pd.read_excel(r'C:\\Users\\User\\Desktop\\SEO_0807\\SEO每日模板-每日更新.xlsx','代理总表')\n",
    "\n",
    "shuju = pd.DataFrame({'人员':['Paddy', 'Tony', 'Max', 'Martin', 'Zed', 'Hugo', 'Aber', 'DK', 'Ben','当日汇总'],\n",
    "                      '日期':(datetime.datetime.now()+datetime.timedelta(days=-3)).strftime('%Y/%m/%d'),\n",
    "                      '发送IP':[i for i in range(10)],'接受IP':[i for i in range(10)]})\n",
    "\n",
    "\n",
    "shuju.set_index('人员',inplace = True)\n",
    "shuju.sort_index(inplace=True)\n",
    "data['IP']=pd.to_numeric(data['IP'],errors='coerce').replace(np.nan,0)\n",
    "grp=data.groupby('网站名(domain)').agg({'IP':sum})\n",
    "\n",
    "shuju.loc['Paddy','发送IP']=grp.loc['paddy.com','IP']\n",
    "shuju.loc['Paddy','接受IP']=grp.loc['paddy.bty','IP']\n",
    "shuju.loc['Tony','发送IP']=grp.loc['tonyb.com','IP']/2\n",
    "shuju.loc['Tony','接受IP']=grp.loc['tonyb.com','IP']\n",
    "shuju.loc['Max','发送IP']=grp.loc['mulu.com','IP']\n",
    "shuju.loc['Max','接受IP']=grp.loc['max.bty','IP']\n",
    "shuju.loc['Martin','发送IP']=grp.loc['redquan.com','IP']\n",
    "shuju.loc['Martin','接受IP']=grp.loc['martin.bty','IP']\n",
    "shuju.loc['Zed','发送IP']=grp.loc['zed.com','IP']\n",
    "shuju.loc['Zed','接受IP']=grp.loc['zed.bty','IP']\n",
    "shuju.loc['Hugo','发送IP']=grp.loc['hugo.com','IP']\n",
    "# shuju.loc['Hugo','接受IP']=grp.loc['hugo.bty','IP']\n",
    "shuju.loc['Hugo','接受IP']=0\n",
    "\n",
    "shuju.loc['Aber','发送IP']=grp.loc['aber.com','IP']/2\n",
    "shuju.loc['Aber','接受IP']=grp.loc['aber.bty','IP']\n",
    "shuju.loc['DK','发送IP']=grp.loc['dk.com','IP']/2\n",
    "shuju.loc['DK','接受IP']=grp.loc['dk.bty','IP']\n",
    "shuju.loc['Ben','发送IP']=grp.loc['ben.com','IP']/2\n",
    "shuju.loc['Ben','接受IP']=grp.loc['ben.bty','IP']\n",
    "shuju.loc['当日汇总','发送IP']=shuju['发送IP'].sum()\n",
    "shuju.loc['当日汇总','接受IP']=shuju['接受IP'].sum()\n",
    "\n",
    "shuju['日期'] = pd.to_datetime(shuju['日期'])\n",
    "shuju.insert(1,'人员2',shuju.index)\n",
    "shuju['人员2']=shuju['人员2'].str.lower()\n",
    "shuju"
   ],
   "metadata": {
    "collapsed": false
   }
  },
  {
   "cell_type": "code",
   "execution_count": 2,
   "outputs": [],
   "source": [
    "from IPython.core.interactiveshell import InteractiveShell\n",
    "InteractiveShell.ast_node_interactivity = 'all'"
   ],
   "metadata": {
    "collapsed": false
   }
  },
  {
   "cell_type": "code",
   "execution_count": 1,
   "outputs": [
    {
     "data": {
      "text/plain": "'C:\\\\ProgramData\\\\anaconda3\\\\Lib\\\\os.py'"
     },
     "execution_count": 1,
     "metadata": {},
     "output_type": "execute_result"
    }
   ],
   "source": [
    "import os\n",
    "os.__file__"
   ],
   "metadata": {
    "collapsed": false
   }
  },
  {
   "cell_type": "code",
   "execution_count": 2,
   "outputs": [],
   "source": [
    "import pandas as pd\n",
    "df = pd.read_clipboard()"
   ],
   "metadata": {
    "collapsed": false
   }
  },
  {
   "cell_type": "code",
   "execution_count": 3,
   "outputs": [
    {
     "data": {
      "text/plain": "             会员名         所属代理             注册时间            交易时间 交易类型   币种  \\\n0  ngthduyen9999  btyscnb0007   2023/8/7 23:22  2023/8/7 23:43   存款  VND   \n1   Phamvquyen91       vnzb04   2023/8/7 23:27  2023/8/7 23:39   存款  VND   \n2      Angunb666       zh0325   2023/8/7 23:03  2023/8/7 23:34   存款  CNY   \n3       Guong268      gfas001  2023/5/13 23:45  2023/8/7 23:30   存款  VND   \n4   zxcvbnm19064   btyseo7008  2022/7/30 23:35  2023/8/7 23:31   存款  CNY   \n\n           金额  \n0  11000000.0  \n1    100000.0  \n2       200.0  \n3   4000000.0  \n4       100.0  ",
      "text/html": "<div>\n<style scoped>\n    .dataframe tbody tr th:only-of-type {\n        vertical-align: middle;\n    }\n\n    .dataframe tbody tr th {\n        vertical-align: top;\n    }\n\n    .dataframe thead th {\n        text-align: right;\n    }\n</style>\n<table border=\"1\" class=\"dataframe\">\n  <thead>\n    <tr style=\"text-align: right;\">\n      <th></th>\n      <th>会员名</th>\n      <th>所属代理</th>\n      <th>注册时间</th>\n      <th>交易时间</th>\n      <th>交易类型</th>\n      <th>币种</th>\n      <th>金额</th>\n    </tr>\n  </thead>\n  <tbody>\n    <tr>\n      <th>0</th>\n      <td>ngthduyen9999</td>\n      <td>btyscnb0007</td>\n      <td>2023/8/7 23:22</td>\n      <td>2023/8/7 23:43</td>\n      <td>存款</td>\n      <td>VND</td>\n      <td>11000000.0</td>\n    </tr>\n    <tr>\n      <th>1</th>\n      <td>Phamvquyen91</td>\n      <td>vnzb04</td>\n      <td>2023/8/7 23:27</td>\n      <td>2023/8/7 23:39</td>\n      <td>存款</td>\n      <td>VND</td>\n      <td>100000.0</td>\n    </tr>\n    <tr>\n      <th>2</th>\n      <td>Angunb666</td>\n      <td>zh0325</td>\n      <td>2023/8/7 23:03</td>\n      <td>2023/8/7 23:34</td>\n      <td>存款</td>\n      <td>CNY</td>\n      <td>200.0</td>\n    </tr>\n    <tr>\n      <th>3</th>\n      <td>Guong268</td>\n      <td>gfas001</td>\n      <td>2023/5/13 23:45</td>\n      <td>2023/8/7 23:30</td>\n      <td>存款</td>\n      <td>VND</td>\n      <td>4000000.0</td>\n    </tr>\n    <tr>\n      <th>4</th>\n      <td>zxcvbnm19064</td>\n      <td>btyseo7008</td>\n      <td>2022/7/30 23:35</td>\n      <td>2023/8/7 23:31</td>\n      <td>存款</td>\n      <td>CNY</td>\n      <td>100.0</td>\n    </tr>\n  </tbody>\n</table>\n</div>"
     },
     "execution_count": 3,
     "metadata": {},
     "output_type": "execute_result"
    }
   ],
   "source": [
    "df.head()"
   ],
   "metadata": {
    "collapsed": false
   }
  },
  {
   "cell_type": "code",
   "execution_count": 6,
   "outputs": [
    {
     "data": {
      "text/plain": "'C:\\\\ProgramData\\\\anaconda3\\\\Lib\\\\os.py'"
     },
     "execution_count": 6,
     "metadata": {},
     "output_type": "execute_result"
    }
   ],
   "source": [
    "import os\n",
    "os.__file__"
   ],
   "metadata": {
    "collapsed": false
   }
  }
 ],
 "metadata": {
  "kernelspec": {
   "name": "env_da",
   "language": "python",
   "display_name": "env_da"
  },
  "language_info": {
   "codemirror_mode": {
    "name": "ipython",
    "version": 2
   },
   "file_extension": ".py",
   "mimetype": "text/x-python",
   "name": "python",
   "nbconvert_exporter": "python",
   "pygments_lexer": "ipython2",
   "version": "2.7.6"
  }
 },
 "nbformat": 4,
 "nbformat_minor": 0
}
