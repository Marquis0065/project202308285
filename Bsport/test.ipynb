{
 "cells": [
  {
   "cell_type": "code",
   "execution_count": 4,
   "outputs": [
    {
     "name": "stderr",
     "output_type": "stream",
     "text": [
      "C:\\ProgramData\\anaconda3\\envs\\schedule\\Lib\\site-packages\\openpyxl\\styles\\stylesheet.py:226: UserWarning: Workbook contains no default style, apply openpyxl's default\n",
      "  warn(\"Workbook contains no default style, apply openpyxl's default\")\n"
     ]
    },
    {
     "data": {
      "text/plain": "                  IP\n网站名(domain)         \naber.bty       562.0\naber.com     14650.0\naber.zb          0.0\naber.zz          0.0\nalen.bty         0.0\nben.bty        298.0\nben.com       5130.0\nben.zb           4.0\nben.zz           0.0\nbike.bty         1.0\nbilly.com        0.0\ndazhi.bty        2.0\ndazhi.com       98.0\ndk.bty        2160.0\ndk.com        3050.0\ndk.zb           90.0\ndk.zz            0.0\nduobo.bty       37.0\nduobo.com        0.0\ngroot.com        0.0\nhugo.cn          0.0\nhugo.com       103.0\nhugo.kty         0.0\nhugo.zb         31.0\nhugo.zz          0.0\nkiwi.com         3.0\nleslie.com       0.0\nmartin.bty    1072.0\nmartin.com       0.0\nmartin.pd        0.0\nmartin.zb       51.0\nmartin.zz        0.0\nmax.bty        225.0\nmax.zb           1.0\nmax.zz           0.0\nmaxmile.com    285.0\nmulu.com       273.0\npaddy.bty       51.0\npaddy.com        0.0\npaddy.zz         0.0\npeter.bty      183.0\nredquan.com   3445.0\ntony.bty       427.0\ntony.zb          0.0\ntony.zz          0.0\ntonyb.com     1136.0\nzed.bty        329.0\nzed.cn           0.0\nzed.com       4853.0\nzed.kty          0.0\nzed.zb           0.0\nzed.zz           0.0",
      "text/html": "<div>\n<style scoped>\n    .dataframe tbody tr th:only-of-type {\n        vertical-align: middle;\n    }\n\n    .dataframe tbody tr th {\n        vertical-align: top;\n    }\n\n    .dataframe thead th {\n        text-align: right;\n    }\n</style>\n<table border=\"1\" class=\"dataframe\">\n  <thead>\n    <tr style=\"text-align: right;\">\n      <th></th>\n      <th>IP</th>\n    </tr>\n    <tr>\n      <th>网站名(domain)</th>\n      <th></th>\n    </tr>\n  </thead>\n  <tbody>\n    <tr>\n      <th>aber.bty</th>\n      <td>562.0</td>\n    </tr>\n    <tr>\n      <th>aber.com</th>\n      <td>14650.0</td>\n    </tr>\n    <tr>\n      <th>aber.zb</th>\n      <td>0.0</td>\n    </tr>\n    <tr>\n      <th>aber.zz</th>\n      <td>0.0</td>\n    </tr>\n    <tr>\n      <th>alen.bty</th>\n      <td>0.0</td>\n    </tr>\n    <tr>\n      <th>ben.bty</th>\n      <td>298.0</td>\n    </tr>\n    <tr>\n      <th>ben.com</th>\n      <td>5130.0</td>\n    </tr>\n    <tr>\n      <th>ben.zb</th>\n      <td>4.0</td>\n    </tr>\n    <tr>\n      <th>ben.zz</th>\n      <td>0.0</td>\n    </tr>\n    <tr>\n      <th>bike.bty</th>\n      <td>1.0</td>\n    </tr>\n    <tr>\n      <th>billy.com</th>\n      <td>0.0</td>\n    </tr>\n    <tr>\n      <th>dazhi.bty</th>\n      <td>2.0</td>\n    </tr>\n    <tr>\n      <th>dazhi.com</th>\n      <td>98.0</td>\n    </tr>\n    <tr>\n      <th>dk.bty</th>\n      <td>2160.0</td>\n    </tr>\n    <tr>\n      <th>dk.com</th>\n      <td>3050.0</td>\n    </tr>\n    <tr>\n      <th>dk.zb</th>\n      <td>90.0</td>\n    </tr>\n    <tr>\n      <th>dk.zz</th>\n      <td>0.0</td>\n    </tr>\n    <tr>\n      <th>duobo.bty</th>\n      <td>37.0</td>\n    </tr>\n    <tr>\n      <th>duobo.com</th>\n      <td>0.0</td>\n    </tr>\n    <tr>\n      <th>groot.com</th>\n      <td>0.0</td>\n    </tr>\n    <tr>\n      <th>hugo.cn</th>\n      <td>0.0</td>\n    </tr>\n    <tr>\n      <th>hugo.com</th>\n      <td>103.0</td>\n    </tr>\n    <tr>\n      <th>hugo.kty</th>\n      <td>0.0</td>\n    </tr>\n    <tr>\n      <th>hugo.zb</th>\n      <td>31.0</td>\n    </tr>\n    <tr>\n      <th>hugo.zz</th>\n      <td>0.0</td>\n    </tr>\n    <tr>\n      <th>kiwi.com</th>\n      <td>3.0</td>\n    </tr>\n    <tr>\n      <th>leslie.com</th>\n      <td>0.0</td>\n    </tr>\n    <tr>\n      <th>martin.bty</th>\n      <td>1072.0</td>\n    </tr>\n    <tr>\n      <th>martin.com</th>\n      <td>0.0</td>\n    </tr>\n    <tr>\n      <th>martin.pd</th>\n      <td>0.0</td>\n    </tr>\n    <tr>\n      <th>martin.zb</th>\n      <td>51.0</td>\n    </tr>\n    <tr>\n      <th>martin.zz</th>\n      <td>0.0</td>\n    </tr>\n    <tr>\n      <th>max.bty</th>\n      <td>225.0</td>\n    </tr>\n    <tr>\n      <th>max.zb</th>\n      <td>1.0</td>\n    </tr>\n    <tr>\n      <th>max.zz</th>\n      <td>0.0</td>\n    </tr>\n    <tr>\n      <th>maxmile.com</th>\n      <td>285.0</td>\n    </tr>\n    <tr>\n      <th>mulu.com</th>\n      <td>273.0</td>\n    </tr>\n    <tr>\n      <th>paddy.bty</th>\n      <td>51.0</td>\n    </tr>\n    <tr>\n      <th>paddy.com</th>\n      <td>0.0</td>\n    </tr>\n    <tr>\n      <th>paddy.zz</th>\n      <td>0.0</td>\n    </tr>\n    <tr>\n      <th>peter.bty</th>\n      <td>183.0</td>\n    </tr>\n    <tr>\n      <th>redquan.com</th>\n      <td>3445.0</td>\n    </tr>\n    <tr>\n      <th>tony.bty</th>\n      <td>427.0</td>\n    </tr>\n    <tr>\n      <th>tony.zb</th>\n      <td>0.0</td>\n    </tr>\n    <tr>\n      <th>tony.zz</th>\n      <td>0.0</td>\n    </tr>\n    <tr>\n      <th>tonyb.com</th>\n      <td>1136.0</td>\n    </tr>\n    <tr>\n      <th>zed.bty</th>\n      <td>329.0</td>\n    </tr>\n    <tr>\n      <th>zed.cn</th>\n      <td>0.0</td>\n    </tr>\n    <tr>\n      <th>zed.com</th>\n      <td>4853.0</td>\n    </tr>\n    <tr>\n      <th>zed.kty</th>\n      <td>0.0</td>\n    </tr>\n    <tr>\n      <th>zed.zb</th>\n      <td>0.0</td>\n    </tr>\n    <tr>\n      <th>zed.zz</th>\n      <td>0.0</td>\n    </tr>\n  </tbody>\n</table>\n</div>"
     },
     "execution_count": 4,
     "metadata": {},
     "output_type": "execute_result"
    },
    {
     "data": {
      "text/plain": "               日期     人员2   发送IP  接受IP\n人员                                    \nAber   2023-08-07    aber   7325   562\nBen    2023-08-07     ben   2565   298\nDK     2023-08-07      dk   1525  2160\nHugo   2023-08-07    hugo    103     0\nMartin 2023-08-07  martin   3445  1072\nMax    2023-08-07     max    273   225\nPaddy  2023-08-07   paddy      0    51\nTony   2023-08-07    tony    568  1136\nZed    2023-08-07     zed   4853   329\n当日汇总   2023-08-07    当日汇总  20666  5842",
      "text/html": "<div>\n<style scoped>\n    .dataframe tbody tr th:only-of-type {\n        vertical-align: middle;\n    }\n\n    .dataframe tbody tr th {\n        vertical-align: top;\n    }\n\n    .dataframe thead th {\n        text-align: right;\n    }\n</style>\n<table border=\"1\" class=\"dataframe\">\n  <thead>\n    <tr style=\"text-align: right;\">\n      <th></th>\n      <th>日期</th>\n      <th>人员2</th>\n      <th>发送IP</th>\n      <th>接受IP</th>\n    </tr>\n    <tr>\n      <th>人员</th>\n      <th></th>\n      <th></th>\n      <th></th>\n      <th></th>\n    </tr>\n  </thead>\n  <tbody>\n    <tr>\n      <th>Aber</th>\n      <td>2023-08-07</td>\n      <td>aber</td>\n      <td>7325</td>\n      <td>562</td>\n    </tr>\n    <tr>\n      <th>Ben</th>\n      <td>2023-08-07</td>\n      <td>ben</td>\n      <td>2565</td>\n      <td>298</td>\n    </tr>\n    <tr>\n      <th>DK</th>\n      <td>2023-08-07</td>\n      <td>dk</td>\n      <td>1525</td>\n      <td>2160</td>\n    </tr>\n    <tr>\n      <th>Hugo</th>\n      <td>2023-08-07</td>\n      <td>hugo</td>\n      <td>103</td>\n      <td>0</td>\n    </tr>\n    <tr>\n      <th>Martin</th>\n      <td>2023-08-07</td>\n      <td>martin</td>\n      <td>3445</td>\n      <td>1072</td>\n    </tr>\n    <tr>\n      <th>Max</th>\n      <td>2023-08-07</td>\n      <td>max</td>\n      <td>273</td>\n      <td>225</td>\n    </tr>\n    <tr>\n      <th>Paddy</th>\n      <td>2023-08-07</td>\n      <td>paddy</td>\n      <td>0</td>\n      <td>51</td>\n    </tr>\n    <tr>\n      <th>Tony</th>\n      <td>2023-08-07</td>\n      <td>tony</td>\n      <td>568</td>\n      <td>1136</td>\n    </tr>\n    <tr>\n      <th>Zed</th>\n      <td>2023-08-07</td>\n      <td>zed</td>\n      <td>4853</td>\n      <td>329</td>\n    </tr>\n    <tr>\n      <th>当日汇总</th>\n      <td>2023-08-07</td>\n      <td>当日汇总</td>\n      <td>20666</td>\n      <td>5842</td>\n    </tr>\n  </tbody>\n</table>\n</div>"
     },
     "execution_count": 4,
     "metadata": {},
     "output_type": "execute_result"
    }
   ],
   "source": [
    "import pandas as pd\n",
    "import numpy as np\n",
    "import datetime\n",
    "pd.set_option('display.max_colwidth', None) #显示单元格完整信息\n",
    "pd.set_option('display.max_columns', None)\n",
    "pd.set_option('display.max_rows', None)\n",
    "\n",
    "user = pd.read_csv(r'C:\\Users\\User\\Desktop\\SEO_0807\\会员列表导出.csv',encoding='gbk')\n",
    "firChargeUser = pd.read_csv(r'C:\\Users\\User\\Desktop\\SEO_0807\\会员首存报表.csv',encoding='gbk')\n",
    "data = pd.read_excel(r'C:\\Users\\User\\Desktop\\SEO_0807\\data\\今日数据.xlsx')\n",
    "daili = pd.read_excel(r'C:\\Users\\User\\Desktop\\SEO_0807\\SEO每日模板-每日更新.xlsx','代理总表')\n",
    "\n",
    "shuju = pd.DataFrame({'人员':['Paddy', 'Tony', 'Max', 'Martin', 'Zed', 'Hugo', 'Aber', 'DK', 'Ben','当日汇总'],\n",
    "                      '日期':(datetime.datetime.now()+datetime.timedelta(days=-3)).strftime('%Y/%m/%d'),\n",
    "                      '发送IP':[i for i in range(10)],'接受IP':[i for i in range(10)]})\n",
    "\n",
    "\n",
    "shuju.set_index('人员',inplace = True)\n",
    "shuju.sort_index(inplace=True)\n",
    "data['IP']=pd.to_numeric(data['IP'],errors='coerce').replace(np.nan,0)\n",
    "grp=data.groupby('网站名(domain)').agg({'IP':sum})\n",
    "\n",
    "shuju.loc['Paddy','发送IP']=grp.loc['paddy.com','IP']\n",
    "shuju.loc['Paddy','接受IP']=grp.loc['paddy.bty','IP']\n",
    "shuju.loc['Tony','发送IP']=grp.loc['tonyb.com','IP']/2\n",
    "shuju.loc['Tony','接受IP']=grp.loc['tonyb.com','IP']\n",
    "shuju.loc['Max','发送IP']=grp.loc['mulu.com','IP']\n",
    "shuju.loc['Max','接受IP']=grp.loc['max.bty','IP']\n",
    "shuju.loc['Martin','发送IP']=grp.loc['redquan.com','IP']\n",
    "shuju.loc['Martin','接受IP']=grp.loc['martin.bty','IP']\n",
    "shuju.loc['Zed','发送IP']=grp.loc['zed.com','IP']\n",
    "shuju.loc['Zed','接受IP']=grp.loc['zed.bty','IP']\n",
    "shuju.loc['Hugo','发送IP']=grp.loc['hugo.com','IP']\n",
    "# shuju.loc['Hugo','接受IP']=grp.loc['hugo.bty','IP']\n",
    "shuju.loc['Hugo','接受IP']=0\n",
    "\n",
    "shuju.loc['Aber','发送IP']=grp.loc['aber.com','IP']/2\n",
    "shuju.loc['Aber','接受IP']=grp.loc['aber.bty','IP']\n",
    "shuju.loc['DK','发送IP']=grp.loc['dk.com','IP']/2\n",
    "shuju.loc['DK','接受IP']=grp.loc['dk.bty','IP']\n",
    "shuju.loc['Ben','发送IP']=grp.loc['ben.com','IP']/2\n",
    "shuju.loc['Ben','接受IP']=grp.loc['ben.bty','IP']\n",
    "shuju.loc['当日汇总','发送IP']=shuju['发送IP'].sum()\n",
    "shuju.loc['当日汇总','接受IP']=shuju['接受IP'].sum()\n",
    "\n",
    "shuju['日期'] = pd.to_datetime(shuju['日期'])\n",
    "shuju.insert(1,'人员2',shuju.index)\n",
    "shuju['人员2']=shuju['人员2'].str.lower()\n",
    "shuju"
   ],
   "metadata": {
    "collapsed": false
   }
  },
  {
   "cell_type": "code",
   "execution_count": 2,
   "outputs": [],
   "source": [
    "from IPython.core.interactiveshell import InteractiveShell\n",
    "InteractiveShell.ast_node_interactivity = 'all'"
   ],
   "metadata": {
    "collapsed": false
   }
  },
  {
   "cell_type": "code",
   "execution_count": 1,
   "outputs": [
    {
     "data": {
      "text/plain": "'C:\\\\ProgramData\\\\anaconda3\\\\Lib\\\\os.py'"
     },
     "execution_count": 1,
     "metadata": {},
     "output_type": "execute_result"
    }
   ],
   "source": [
    "import os\n",
    "os.__file__"
   ],
   "metadata": {
    "collapsed": false
   }
  },
  {
   "cell_type": "code",
   "execution_count": 2,
   "outputs": [],
   "source": [
    "import pandas as pd\n",
    "df = pd.read_clipboard()"
   ],
   "metadata": {
    "collapsed": false
   }
  },
  {
   "cell_type": "code",
   "execution_count": 3,
   "outputs": [
    {
     "data": {
      "text/plain": "             会员名         所属代理             注册时间            交易时间 交易类型   币种  \\\n0  ngthduyen9999  btyscnb0007   2023/8/7 23:22  2023/8/7 23:43   存款  VND   \n1   Phamvquyen91       vnzb04   2023/8/7 23:27  2023/8/7 23:39   存款  VND   \n2      Angunb666       zh0325   2023/8/7 23:03  2023/8/7 23:34   存款  CNY   \n3       Guong268      gfas001  2023/5/13 23:45  2023/8/7 23:30   存款  VND   \n4   zxcvbnm19064   btyseo7008  2022/7/30 23:35  2023/8/7 23:31   存款  CNY   \n\n           金额  \n0  11000000.0  \n1    100000.0  \n2       200.0  \n3   4000000.0  \n4       100.0  ",
      "text/html": "<div>\n<style scoped>\n    .dataframe tbody tr th:only-of-type {\n        vertical-align: middle;\n    }\n\n    .dataframe tbody tr th {\n        vertical-align: top;\n    }\n\n    .dataframe thead th {\n        text-align: right;\n    }\n</style>\n<table border=\"1\" class=\"dataframe\">\n  <thead>\n    <tr style=\"text-align: right;\">\n      <th></th>\n      <th>会员名</th>\n      <th>所属代理</th>\n      <th>注册时间</th>\n      <th>交易时间</th>\n      <th>交易类型</th>\n      <th>币种</th>\n      <th>金额</th>\n    </tr>\n  </thead>\n  <tbody>\n    <tr>\n      <th>0</th>\n      <td>ngthduyen9999</td>\n      <td>btyscnb0007</td>\n      <td>2023/8/7 23:22</td>\n      <td>2023/8/7 23:43</td>\n      <td>存款</td>\n      <td>VND</td>\n      <td>11000000.0</td>\n    </tr>\n    <tr>\n      <th>1</th>\n      <td>Phamvquyen91</td>\n      <td>vnzb04</td>\n      <td>2023/8/7 23:27</td>\n      <td>2023/8/7 23:39</td>\n      <td>存款</td>\n      <td>VND</td>\n      <td>100000.0</td>\n    </tr>\n    <tr>\n      <th>2</th>\n      <td>Angunb666</td>\n      <td>zh0325</td>\n      <td>2023/8/7 23:03</td>\n      <td>2023/8/7 23:34</td>\n      <td>存款</td>\n      <td>CNY</td>\n      <td>200.0</td>\n    </tr>\n    <tr>\n      <th>3</th>\n      <td>Guong268</td>\n      <td>gfas001</td>\n      <td>2023/5/13 23:45</td>\n      <td>2023/8/7 23:30</td>\n      <td>存款</td>\n      <td>VND</td>\n      <td>4000000.0</td>\n    </tr>\n    <tr>\n      <th>4</th>\n      <td>zxcvbnm19064</td>\n      <td>btyseo7008</td>\n      <td>2022/7/30 23:35</td>\n      <td>2023/8/7 23:31</td>\n      <td>存款</td>\n      <td>CNY</td>\n      <td>100.0</td>\n    </tr>\n  </tbody>\n</table>\n</div>"
     },
     "execution_count": 3,
     "metadata": {},
     "output_type": "execute_result"
    }
   ],
   "source": [
    "df.head()"
   ],
   "metadata": {
    "collapsed": false
   }
  },
  {
   "cell_type": "code",
   "execution_count": 6,
   "outputs": [
    {
     "data": {
      "text/plain": "'C:\\\\ProgramData\\\\anaconda3\\\\Lib\\\\os.py'"
     },
     "execution_count": 6,
     "metadata": {},
     "output_type": "execute_result"
    }
   ],
   "source": [
    "import os\n",
    "os.__file__"
   ],
   "metadata": {
    "collapsed": false
   }
  }
 ],
 "metadata": {
  "kernelspec": {
   "display_name": "Python 3",
   "language": "python",
   "name": "python3"
  },
  "language_info": {
   "codemirror_mode": {
    "name": "ipython",
    "version": 2
   },
   "file_extension": ".py",
   "mimetype": "text/x-python",
   "name": "python",
   "nbconvert_exporter": "python",
   "pygments_lexer": "ipython2",
   "version": "2.7.6"
  }
 },
 "nbformat": 4,
 "nbformat_minor": 0
}
