{
 "cells": [
  {
   "cell_type": "code",
   "execution_count": 4,
   "metadata": {
    "collapsed": true
   },
   "outputs": [
    {
     "name": "stdout",
     "output_type": "stream",
     "text": [
      "启动百度统计API----\n"
     ]
    },
    {
     "data": {
      "text/plain": "{'dk.bty': 18173781,\n 'zed.bty': 18173898,\n 'dazhi.bty': 18173904,\n 'ben.bty': 18185202,\n 'bike.bty': 18576075,\n 'duobo.bty': 18617945,\n 'alen.bty': 18659719,\n 'peter.bty': 18808332,\n 'max.bty': 19459600,\n 'aber.bty': 19409688,\n 'paddy.com': 19409639,\n 'paddy.bty': 19409636,\n 'martin.com': 17650492,\n 'groot.com': 17650496,\n 'dk.com': 17650498,\n 'aber.com': 17650500,\n 'duobo.com': 17667703,\n 'tonyb.com': 18173377,\n 'ben.com': 18185145,\n 'leslie.com': 18276831,\n 'kiwi.com': 18317053,\n 'billy.com': 19230037,\n 'dazhi.com': 16226474,\n 'redquan.com': 16234023,\n 'zed.com': 17227146,\n 'hugo.com': 17607180,\n 'maxmile.com': 18173387}"
     },
     "execution_count": 4,
     "metadata": {},
     "output_type": "execute_result"
    }
   ],
   "source": [
    "import os\n",
    "import requests\n",
    "import pandas as pd\n",
    "import numpy as np\n",
    "import jsonpath\n",
    "import json\n",
    "import time\n",
    "import datetime\n",
    "import xlwings as xw\n",
    "import telebot\n",
    "import hmac, base64, struct, hashlib\n",
    "from openpyxl import Workbook, load_workbook\n",
    "from openpyxl import formatting, styles\n",
    "from openpyxl.styles import Color, PatternFill, Font, Border\n",
    "from PIL import ImageGrab\n",
    "import pyperclip\n",
    "import warnings\n",
    "warnings.filterwarnings('ignore')\n",
    "\n",
    "# pd.set_option('display.max_colwidth', None) #显示单元格完整信息\n",
    "# pd.set_option('display.max_columns', None)\n",
    "# pd.set_option('display.max_rows', None)\n",
    "\n",
    "day = 0\n",
    "pages_user = 150\n",
    "pages_fircharge = 60\n",
    "access_token ='24.675734f72d0e4eca2188e368bb9871be.2592000.1696930532.282335-38761358'\n",
    "start_date = (datetime.datetime.now()+datetime.timedelta(days=day)).strftime('%Y%m%d')\n",
    "end_date = (datetime.datetime.now()+datetime.timedelta(days=day)).strftime('%Y%m%d')\n",
    "\n",
    "\n",
    "url = 'http://fundmng.bsportsadmin.com/api/manage/fund/withdraw/record/list/history'\n",
    "session = requests.session()\n",
    "\n",
    "# 第一次获取token\n",
    "submit_url = 'http://fundmng.bsportsadmin.com/api/manage/user/admin/login/submit'\n",
    "header0 = {\n",
    "    'Accept':'application/json, text/plain, */*',\n",
    "    # 'Accept-Encoding':'gzip, deflate',\n",
    "    'Accept-Language':'zh-CN,zh;q=0.9',\n",
    "    'Connection':'keep-alive',\n",
    "    'Content-Length':'48',\n",
    "    'Content-Type':'application/x-www-form-urlencoded',\n",
    "    'Cookie':'admin-uid=690; admin-token=db76bebda5274c80adaadd40bd794f24',\n",
    "    'Device_id':'1.0',\n",
    "    'Gl_version':'2.0',\n",
    "    'Host':'fundmng.bsportsadmin.com',\n",
    "    'Language':'zh_CN',\n",
    "    'Origin':'http://fundmng.bsportsadmin.com',\n",
    "    'Os_type':'0',\n",
    "    'Referer':'http://fundmng.bsportsadmin.com/login',\n",
    "    'Sign':'2bc4c378817f47731f0adf450a627d19',\n",
    "    'Some':'header',\n",
    "    'Systemid':\"\",\n",
    "    'Timestamp':'1692415901000',\n",
    "    'Token':'-1',\n",
    "    'Uid':'-1',\n",
    "    'User-Agent':'Mozilla/5.0 (Windows NT 10.0; Win64; x64) AppleWebKit/537.36 (KHTML, like Gecko) Chrome/116.0.0.0 Safari/537.36',\n",
    "    'Version':'1.0'\n",
    "}\n",
    "def get_google_code(secret):\n",
    "    key = base64.b32decode(secret, True)\n",
    "    msg = struct.pack(\">Q\", int(time.time()) // 30)\n",
    "    google_code = hmac.new(key, msg, hashlib.sha1).digest()\n",
    "    # 很多网上的代码不可用，就在于这儿，没有chr字符串\n",
    "    o = ord(chr(google_code[19])) & 15\n",
    "    # google_code = (struct.unpack(\">I\", google_code[o:o + 4])[0] & 0x7fffffff) % 1000000\n",
    "    google_code = (struct.unpack(\">I\", google_code[o:o + 4])[0] & 0x7fffffff) % 1000000\n",
    "    return '%06d' % google_code\n",
    "\n",
    "# 获取今日数据\n",
    "print('启动百度统计API----')\n",
    "shuju_website = {'domain':[],\n",
    "                 '日期':[],\n",
    "                 'pv':[],\n",
    "                 'uv':[],\n",
    "                 'ip':[]}\n",
    "qishi = {'domain':[],\n",
    "         '日期':[],\n",
    "         '时间':[],\n",
    "         'pv':[],\n",
    "         'uv':[],\n",
    "         'ip':[]}\n",
    "\n",
    "url_siteid = 'https://openapi.baidu.com/rest/2.0/tongji/config/getSiteList?access_token=121.1e832791a57b87542b2bb51e2f3f5bfa.Y_Uhf0W55kh6mBiTGZX0qWg0O5ZqJYZmPyHTqi8.HEyD3w'\n",
    "response = requests.get(url_siteid)\n",
    "\n",
    "dic_website = {}\n",
    "for k,v in zip(jsonpath.jsonpath(json.loads(response.text),'$..domain'),jsonpath.jsonpath(json.loads(response.text),'$..site_id')):\n",
    "    dic_website[k]=v\n",
    "# with open(r'C:\\Users\\User\\Desktop\\SEO\\12-18\\dic_website.txt','r') as f:\n",
    "#     dic_website=f.read()\n",
    "# print(dic_website)\n",
    "dic_website"
   ]
  },
  {
   "cell_type": "code",
   "execution_count": 3,
   "outputs": [
    {
     "data": {
      "text/plain": "'1111'"
     },
     "execution_count": 3,
     "metadata": {},
     "output_type": "execute_result"
    }
   ],
   "source": [
    "with open(r'C:\\Users\\User\\Desktop\\SEO\\12-18\\dic_website.txt','r') as f:\n",
    "    dic_website=f.read()\n",
    "dic_website"
   ],
   "metadata": {
    "collapsed": false
   }
  }
 ],
 "metadata": {
  "kernelspec": {
   "display_name": "Python 3",
   "language": "python",
   "name": "python3"
  },
  "language_info": {
   "codemirror_mode": {
    "name": "ipython",
    "version": 2
   },
   "file_extension": ".py",
   "mimetype": "text/x-python",
   "name": "python",
   "nbconvert_exporter": "python",
   "pygments_lexer": "ipython2",
   "version": "2.7.6"
  }
 },
 "nbformat": 4,
 "nbformat_minor": 0
}
