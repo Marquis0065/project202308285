{
 "cells": [
  {
   "cell_type": "code",
   "execution_count": 10,
   "metadata": {
    "collapsed": true
   },
   "outputs": [],
   "source": [
    "from IPython.core.interactiveshell import InteractiveShell\n",
    "InteractiveShell.ast_node_interactivity = 'all'"
   ]
  },
  {
   "cell_type": "code",
   "execution_count": 61,
   "outputs": [
    {
     "name": "stderr",
     "output_type": "stream",
     "text": [
      "C:\\ProgramData\\anaconda3\\envs\\schedule\\Lib\\site-packages\\openpyxl\\styles\\stylesheet.py:226: UserWarning: Workbook contains no default style, apply openpyxl's default\n",
      "  warn(\"Workbook contains no default style, apply openpyxl's default\")\n"
     ]
    }
   ],
   "source": [
    "import pandas as pd\n",
    "import numpy as np\n",
    "import datetime\n",
    "pd.set_option('display.max_colwidth', None) #显示单元格完整信息\n",
    "pd.set_option('display.max_columns', None)\n",
    "pd.set_option('display.max_rows', None)\n",
    "\n",
    "user = pd.read_csv(r'C:\\Users\\User\\Desktop\\SEO_0807\\会员列表导出.csv',encoding='gbk')\n",
    "firChargeUser = pd.read_csv(r'C:\\Users\\User\\Desktop\\SEO_0807\\会员首存报表.csv',encoding='gbk')\n",
    "data = pd.read_excel(r'C:\\Users\\User\\Desktop\\SEO_0807\\data\\今日数据.xlsx')\n",
    "daili = pd.read_excel(r'C:\\Users\\User\\Desktop\\SEO_0807\\SEO每日模板-每日更新.xlsx','代理总表')\n",
    "\n",
    "shuju = pd.DataFrame({'人员':['Paddy', 'Tony', 'Max', 'Martin', 'Zed', 'Hugo', 'Aber', 'DK', 'Ben','当日汇总'],\n",
    "                      '日期':(datetime.datetime.now()+datetime.timedelta(days=-3)).strftime('%Y/%m/%d'),\n",
    "                      '发送IP':0,\n",
    "                      '接受IP':0,\n",
    "                      '对比昨天(总IP)':0,\n",
    "                      '对比前3天均值(总IP)':0,\n",
    "                      '对比前5天均值(总IP)':0,\n",
    "                      '对比前7天均值(总IP)':0,\n",
    "                      '对比昨天(总注册)':0,\n",
    "                      '对比前3天均值(总注册)':0,\n",
    "                      '对比前5天均值(总注册)':0,\n",
    "                      '对比前7天均值(总注册)':0,\n",
    "                      '对比昨天(总开户)':0,\n",
    "                      '对比前3天均值(总开户)':0,\n",
    "                      '对比前5天均值(总开户)':0,\n",
    "                      '对比前7天均值(总开户)':0})\n",
    "\n",
    "shuju.set_index('人员',inplace = True)\n",
    "\n",
    "data['IP']=pd.to_numeric(data['IP'],errors='coerce').replace(np.nan,0).astype('int64')\n",
    "grp=data.groupby('网站名(domain)').agg({'IP':sum})"
   ],
   "metadata": {
    "collapsed": false
   }
  },
  {
   "cell_type": "code",
   "execution_count": 62,
   "outputs": [],
   "source": [
    "shuju.loc['Paddy','发送IP']=grp.loc['paddy.com','IP']\n",
    "shuju.loc['Paddy','接受IP']=grp.loc['paddy.bty','IP']\n",
    "shuju.loc['Tony','发送IP']=grp.loc['tonyb.com','IP']/2\n",
    "shuju.loc['Tony','接受IP']=grp.loc['tonyb.com','IP']\n",
    "shuju.loc['Max','发送IP']=grp.loc['mulu.com','IP']\n",
    "shuju.loc['Max','接受IP']=grp.loc['max.bty','IP']\n",
    "shuju.loc['Martin','发送IP']=grp.loc['redquan.com','IP']\n",
    "shuju.loc['Martin','接受IP']=grp.loc['martin.bty','IP']\n",
    "shuju.loc['Zed','发送IP']=grp.loc['zed.com','IP']\n",
    "shuju.loc['Zed','接受IP']=grp.loc['zed.bty','IP']\n",
    "shuju.loc['Hugo','发送IP']=grp.loc['hugo.com','IP']\n",
    "# shuju.loc['Hugo','接受IP']=grp.loc['hugo.bty','IP']\n",
    "shuju.loc['Hugo','接受IP']=0\n",
    "\n",
    "shuju.loc['Aber','发送IP']=grp.loc['aber.com','IP']/2\n",
    "shuju.loc['Aber','接受IP']=grp.loc['aber.bty','IP']\n",
    "shuju.loc['DK','发送IP']=grp.loc['dk.com','IP']/2\n",
    "shuju.loc['DK','接受IP']=grp.loc['dk.bty','IP']\n",
    "shuju.loc['Ben','发送IP']=grp.loc['ben.com','IP']/2\n",
    "shuju.loc['Ben','接受IP']=grp.loc['ben.bty','IP']\n",
    "shuju.loc['当日汇总','发送IP']=shuju['发送IP'].sum()\n",
    "shuju.loc['当日汇总','接受IP']=shuju['接受IP'].sum()\n",
    "\n",
    "shuju['日期'] = pd.to_datetime(shuju['日期'])\n",
    "shuju.insert(1,'人员2',shuju.index)\n",
    "shuju['人员2']=shuju['人员2'].str.lower()"
   ],
   "metadata": {
    "collapsed": false
   }
  },
  {
   "cell_type": "code",
   "execution_count": 63,
   "outputs": [
    {
     "data": {
      "text/plain": "       人员         日期     人员2   发送IP  接受IP  对比昨天(总IP)  对比前3天均值(总IP)  \\\n0   Paddy 2023-08-07   paddy      0    51          0             0   \n1    Tony 2023-08-07    tony    568  1136          0             0   \n2     Max 2023-08-07     max    273   225          0             0   \n3  Martin 2023-08-07  martin   3445  1072          0             0   \n4     Zed 2023-08-07     zed   4853   329          0             0   \n5    Hugo 2023-08-07    hugo    103     0          0             0   \n6    Aber 2023-08-07    aber   7325   562          0             0   \n7      DK 2023-08-07      dk   1525  2160          0             0   \n8     Ben 2023-08-07     ben   2565   298          0             0   \n9    当日汇总 2023-08-07    当日汇总  20657  5833          0             0   \n\n   对比前5天均值(总IP)  对比前7天均值(总IP)  对比昨天(总注册)  对比前3天均值(总注册)  对比前5天均值(总注册)  \\\n0             0             0          0             0             0   \n1             0             0          0             0             0   \n2             0             0          0             0             0   \n3             0             0          0             0             0   \n4             0             0          0             0             0   \n5             0             0          0             0             0   \n6             0             0          0             0             0   \n7             0             0          0             0             0   \n8             0             0          0             0             0   \n9             0             0          0             0             0   \n\n   对比前7天均值(总注册)  对比昨天(总开户)  对比前3天均值(总开户)  对比前5天均值(总开户)  对比前7天均值(总开户)    注册  \\\n0             0          0             0             0             0   3.0   \n1             0          0             0             0             0  15.0   \n2             0          0             0             0             0   9.0   \n3             0          0             0             0             0  81.0   \n4             0          0             0             0             0  22.0   \n5             0          0             0             0             0  16.0   \n6             0          0             0             0             0  49.0   \n7             0          0             0             0             0  52.0   \n8             0          0             0             0             0  17.0   \n9             0          0             0             0             0   NaN   \n\n     注册率  \n0   0.00  \n1   2.64  \n2   3.30  \n3   2.35  \n4   0.45  \n5  15.53  \n6   0.67  \n7   3.41  \n8   0.66  \n9    NaN  ",
      "text/html": "<div>\n<style scoped>\n    .dataframe tbody tr th:only-of-type {\n        vertical-align: middle;\n    }\n\n    .dataframe tbody tr th {\n        vertical-align: top;\n    }\n\n    .dataframe thead th {\n        text-align: right;\n    }\n</style>\n<table border=\"1\" class=\"dataframe\">\n  <thead>\n    <tr style=\"text-align: right;\">\n      <th></th>\n      <th>人员</th>\n      <th>日期</th>\n      <th>人员2</th>\n      <th>发送IP</th>\n      <th>接受IP</th>\n      <th>对比昨天(总IP)</th>\n      <th>对比前3天均值(总IP)</th>\n      <th>对比前5天均值(总IP)</th>\n      <th>对比前7天均值(总IP)</th>\n      <th>对比昨天(总注册)</th>\n      <th>对比前3天均值(总注册)</th>\n      <th>对比前5天均值(总注册)</th>\n      <th>对比前7天均值(总注册)</th>\n      <th>对比昨天(总开户)</th>\n      <th>对比前3天均值(总开户)</th>\n      <th>对比前5天均值(总开户)</th>\n      <th>对比前7天均值(总开户)</th>\n      <th>注册</th>\n      <th>注册率</th>\n    </tr>\n  </thead>\n  <tbody>\n    <tr>\n      <th>0</th>\n      <td>Paddy</td>\n      <td>2023-08-07</td>\n      <td>paddy</td>\n      <td>0</td>\n      <td>51</td>\n      <td>0</td>\n      <td>0</td>\n      <td>0</td>\n      <td>0</td>\n      <td>0</td>\n      <td>0</td>\n      <td>0</td>\n      <td>0</td>\n      <td>0</td>\n      <td>0</td>\n      <td>0</td>\n      <td>0</td>\n      <td>3.0</td>\n      <td>0.00</td>\n    </tr>\n    <tr>\n      <th>1</th>\n      <td>Tony</td>\n      <td>2023-08-07</td>\n      <td>tony</td>\n      <td>568</td>\n      <td>1136</td>\n      <td>0</td>\n      <td>0</td>\n      <td>0</td>\n      <td>0</td>\n      <td>0</td>\n      <td>0</td>\n      <td>0</td>\n      <td>0</td>\n      <td>0</td>\n      <td>0</td>\n      <td>0</td>\n      <td>0</td>\n      <td>15.0</td>\n      <td>2.64</td>\n    </tr>\n    <tr>\n      <th>2</th>\n      <td>Max</td>\n      <td>2023-08-07</td>\n      <td>max</td>\n      <td>273</td>\n      <td>225</td>\n      <td>0</td>\n      <td>0</td>\n      <td>0</td>\n      <td>0</td>\n      <td>0</td>\n      <td>0</td>\n      <td>0</td>\n      <td>0</td>\n      <td>0</td>\n      <td>0</td>\n      <td>0</td>\n      <td>0</td>\n      <td>9.0</td>\n      <td>3.30</td>\n    </tr>\n    <tr>\n      <th>3</th>\n      <td>Martin</td>\n      <td>2023-08-07</td>\n      <td>martin</td>\n      <td>3445</td>\n      <td>1072</td>\n      <td>0</td>\n      <td>0</td>\n      <td>0</td>\n      <td>0</td>\n      <td>0</td>\n      <td>0</td>\n      <td>0</td>\n      <td>0</td>\n      <td>0</td>\n      <td>0</td>\n      <td>0</td>\n      <td>0</td>\n      <td>81.0</td>\n      <td>2.35</td>\n    </tr>\n    <tr>\n      <th>4</th>\n      <td>Zed</td>\n      <td>2023-08-07</td>\n      <td>zed</td>\n      <td>4853</td>\n      <td>329</td>\n      <td>0</td>\n      <td>0</td>\n      <td>0</td>\n      <td>0</td>\n      <td>0</td>\n      <td>0</td>\n      <td>0</td>\n      <td>0</td>\n      <td>0</td>\n      <td>0</td>\n      <td>0</td>\n      <td>0</td>\n      <td>22.0</td>\n      <td>0.45</td>\n    </tr>\n    <tr>\n      <th>5</th>\n      <td>Hugo</td>\n      <td>2023-08-07</td>\n      <td>hugo</td>\n      <td>103</td>\n      <td>0</td>\n      <td>0</td>\n      <td>0</td>\n      <td>0</td>\n      <td>0</td>\n      <td>0</td>\n      <td>0</td>\n      <td>0</td>\n      <td>0</td>\n      <td>0</td>\n      <td>0</td>\n      <td>0</td>\n      <td>0</td>\n      <td>16.0</td>\n      <td>15.53</td>\n    </tr>\n    <tr>\n      <th>6</th>\n      <td>Aber</td>\n      <td>2023-08-07</td>\n      <td>aber</td>\n      <td>7325</td>\n      <td>562</td>\n      <td>0</td>\n      <td>0</td>\n      <td>0</td>\n      <td>0</td>\n      <td>0</td>\n      <td>0</td>\n      <td>0</td>\n      <td>0</td>\n      <td>0</td>\n      <td>0</td>\n      <td>0</td>\n      <td>0</td>\n      <td>49.0</td>\n      <td>0.67</td>\n    </tr>\n    <tr>\n      <th>7</th>\n      <td>DK</td>\n      <td>2023-08-07</td>\n      <td>dk</td>\n      <td>1525</td>\n      <td>2160</td>\n      <td>0</td>\n      <td>0</td>\n      <td>0</td>\n      <td>0</td>\n      <td>0</td>\n      <td>0</td>\n      <td>0</td>\n      <td>0</td>\n      <td>0</td>\n      <td>0</td>\n      <td>0</td>\n      <td>0</td>\n      <td>52.0</td>\n      <td>3.41</td>\n    </tr>\n    <tr>\n      <th>8</th>\n      <td>Ben</td>\n      <td>2023-08-07</td>\n      <td>ben</td>\n      <td>2565</td>\n      <td>298</td>\n      <td>0</td>\n      <td>0</td>\n      <td>0</td>\n      <td>0</td>\n      <td>0</td>\n      <td>0</td>\n      <td>0</td>\n      <td>0</td>\n      <td>0</td>\n      <td>0</td>\n      <td>0</td>\n      <td>0</td>\n      <td>17.0</td>\n      <td>0.66</td>\n    </tr>\n    <tr>\n      <th>9</th>\n      <td>当日汇总</td>\n      <td>2023-08-07</td>\n      <td>当日汇总</td>\n      <td>20657</td>\n      <td>5833</td>\n      <td>0</td>\n      <td>0</td>\n      <td>0</td>\n      <td>0</td>\n      <td>0</td>\n      <td>0</td>\n      <td>0</td>\n      <td>0</td>\n      <td>0</td>\n      <td>0</td>\n      <td>0</td>\n      <td>0</td>\n      <td>NaN</td>\n      <td>NaN</td>\n    </tr>\n  </tbody>\n</table>\n</div>"
     },
     "execution_count": 63,
     "metadata": {},
     "output_type": "execute_result"
    }
   ],
   "source": [
    "# 第1次merge前，重置索引\n",
    "shuju.reset_index(inplace=True)\n",
    "\n",
    "merge_user = pd.merge(user,daili,how = 'left',left_on='代理',right_on='代理线')\n",
    "grpSEO = merge_user.groupby('seo变化数据团队').agg({'seo变化数据团队':len})\n",
    "grpSEO.rename(columns={'seo变化数据团队':'注册'},inplace=True)\n",
    "grpSEO.reset_index(inplace=True)\n",
    "grpSEO['人员2'] = grpSEO['seo变化数据团队'].str.lower()\n",
    "grpSEO.set_index('seo变化数据团队',inplace=True)\n",
    "\n",
    "shuju=shuju.merge(grpSEO,on='人员2',how='left')\n",
    "shuju['注册率'] = round(shuju['注册']/shuju['发送IP']*100,2)\n",
    "shuju.replace([np.inf,-np.inf],0,inplace=True)\n",
    "shuju"
   ],
   "metadata": {
    "collapsed": false
   }
  },
  {
   "cell_type": "code",
   "execution_count": 64,
   "outputs": [
    {
     "name": "stderr",
     "output_type": "stream",
     "text": [
      "C:\\Users\\User\\AppData\\Local\\Temp\\ipykernel_5416\\2224783075.py:31: FutureWarning: The default value of numeric_only in DataFrameGroupBy.mean is deprecated. In a future version, numeric_only will default to False. Either specify numeric_only or select only columns which should be valid for the function.\n",
      "  be3_data = be3_data.groupby('人员').mean()[:-1]\n",
      "C:\\Users\\User\\AppData\\Local\\Temp\\ipykernel_5416\\2224783075.py:33: FutureWarning: The default value of numeric_only in DataFrameGroupBy.mean is deprecated. In a future version, numeric_only will default to False. Either specify numeric_only or select only columns which should be valid for the function.\n",
      "  be5_data = be5_data.groupby('人员').mean()[:-1]\n",
      "C:\\Users\\User\\AppData\\Local\\Temp\\ipykernel_5416\\2224783075.py:35: FutureWarning: The default value of numeric_only in DataFrameGroupBy.mean is deprecated. In a future version, numeric_only will default to False. Either specify numeric_only or select only columns which should be valid for the function.\n",
      "  be7_data = be7_data.groupby('人员').mean()[:-1]\n"
     ]
    }
   ],
   "source": [
    "merge_charge = pd.merge(firChargeUser,daili,how='left',left_on='所属代理',right_on='代理线')\n",
    "grpCHARGE = merge_charge.groupby('seo变化数据团队').agg({'seo变化数据团队':len})\n",
    "grpCHARGE= grpCHARGE.rename(columns={'seo变化数据团队':'开户'})\n",
    "grpCHARGE.reset_index(inplace=True)\n",
    "grpCHARGE['seo变化数据团队']=grpCHARGE['seo变化数据团队'].str.lower()\n",
    "grpCHARGE= grpCHARGE.rename(columns={'seo变化数据团队':'人员2'})\n",
    "# 第2次merge\n",
    "shuju = pd.merge(shuju,grpCHARGE,how='left',on='人员2')\n",
    "shuju['转化率'] = round(shuju['开户']/shuju['注册']*100,2)\n",
    "\n",
    "grp3  = merge_charge[merge_charge['注册时间'].str[:9]==merge_charge['交易时间'].str[:9]].groupby('seo变化数据团队').agg({'seo变化数据团队':len})\n",
    "grp3.rename(columns = {'seo变化数据团队':'当日注册并开户'},inplace=True)\n",
    "grp3.reset_index(inplace=True)\n",
    "grp3['seo变化数据团队'] =grp3['seo变化数据团队'].str.lower()\n",
    "grp3.rename(columns = {'seo变化数据团队':'人员2'},inplace=True)\n",
    "# 第3次merge\n",
    "shuju  = pd.merge(shuju,grp3,how='left',on='人员2')\n",
    "shuju['当日注册激活率'] = round(shuju['当日注册并开户']/shuju['注册']*100,2)\n",
    "\n",
    "#------------\n",
    "his_data  = pd.read_excel(r'C:\\Users\\User\\Desktop\\SEO_0807\\SEO每日模板-每日更新.xlsx','历史')\n",
    "be_data = his_data[his_data['日期']==(shuju['日期'][0]+datetime.timedelta(days=-2))][:-1]\n",
    "\n",
    "# shuju.sort_index(inplace=True)\n",
    "shuju.set_index('人员',inplace = True)\n",
    "shuju.sort_index(inplace=True)\n",
    "be_data.set_index('人员',inplace=True)\n",
    "be_data.sort_index(inplace=True)\n",
    "\n",
    "be3_data = his_data[his_data['日期']>(shuju['日期'][0]+datetime.timedelta(days=-3))]\n",
    "be3_data = be3_data.groupby('人员').mean()[:-1]\n",
    "be5_data = his_data[his_data['日期']>(shuju['日期'][0]+datetime.timedelta(days=-5))]\n",
    "be5_data = be5_data.groupby('人员').mean()[:-1]\n",
    "be7_data = his_data[his_data['日期']>(shuju['日期'][0]+datetime.timedelta(days=-7))]\n",
    "be7_data = be7_data.groupby('人员').mean()[:-1]\n",
    "\n",
    "shuju['对比昨天(总IP)']=shuju['发送IP']-be_data['总IP']\n",
    "shuju['对比前3天均值(总IP)']= shuju['发送IP']-be3_data['总IP']\n",
    "shuju['对比前5天均值(总IP)']= shuju['发送IP']-be5_data['总IP']\n",
    "shuju['对比前7天均值(总IP)']= shuju['发送IP']-be7_data['总IP']\n",
    "\n",
    "shuju['对比昨天(总注册)']=shuju['发送IP']-be_data['总IP']\n",
    "shuju['对比前3天均值(总注册)']= shuju['注册']-be3_data['注册']\n",
    "shuju['对比前5天均值(总注册)']= shuju['注册']-be5_data['注册']\n",
    "shuju['对比前7天均值(总注册)']= shuju['注册']-be7_data['注册']\n",
    "\n",
    "shuju['对比昨天(总开户)']=shuju['发送IP']-be_data['总IP']\n",
    "shuju['对比前3天均值(总开户)']= shuju['开户']-be3_data['开户']\n",
    "shuju['对比前5天均值(总开户)']= shuju['开户']-be5_data['开户']\n",
    "shuju['对比前7天均值(总开户)']= shuju['开户']-be7_data['开户']\n",
    "shuju = shuju.iloc[:,:4].join(shuju.iloc[:,-6:]).join(shuju.iloc[:,4:-6])\n",
    "shuju.fillna(0,inplace=True)"
   ],
   "metadata": {
    "collapsed": false
   }
  },
  {
   "cell_type": "code",
   "execution_count": 69,
   "outputs": [
    {
     "data": {
      "text/plain": "               日期     人员2   发送IP  接受IP  注册    注册率  开户    转化率  当日注册并开户  \\\n人员                                                                      \nAber   2023-08-07    aber   7325   562  49   0.67  13  26.53        9   \nBen    2023-08-07     ben   2565   298  17   0.66   6  35.29        3   \nDK     2023-08-07      dk   1525  2160  52   3.41   5   9.62        5   \nHugo   2023-08-07    hugo    103     0  16  15.53   5  31.25        2   \nMartin 2023-08-07  martin   3445  1072  81   2.35  24  29.63       18   \nMax    2023-08-07     max    273   225   9   3.30   0   0.00        0   \nPaddy  2023-08-07   paddy      0    51   3   0.00   2  66.67        2   \nTony   2023-08-07    tony    568  1136  15   2.64   3  20.00        3   \nZed    2023-08-07     zed   4853   329  22   0.45   8  36.36        8   \n当日汇总   2023-08-07    当日汇总  20657  5833   0   0.00   0   0.00        0   \n\n        当日注册激活率  对比昨天(总IP)  对比前3天均值(总IP)  对比前5天均值(总IP)  对比前7天均值(总IP)  \\\n人员                                                                     \nAber      18.37      -2150         -1503         -1483          -768   \nBen       17.65       -433          -144          -793         -2063   \nDK         9.62        149            83            57            47   \nHugo      12.50        -83           -35          -225          -446   \nMartin    22.22        352           181           285           620   \nMax        0.00         -8            -7            -5            -5   \nPaddy     66.67          0             0             0           -59   \nTony      20.00       -130           -51           -69           -71   \nZed       36.36        623           260           422           610   \n当日汇总       0.00          0             0             0             0   \n\n        对比昨天(总注册)  对比前3天均值(总注册)  对比前5天均值(总注册)  对比前7天均值(总注册)  对比昨天(总开户)  \\\n人员                                                                       \nAber        -2150             7             8             9      -2150   \nBen          -433             7             5             4       -433   \nDK            149            21            21            20        149   \nHugo          -83             5             1             0        -83   \nMartin        352            10            20            27        352   \nMax            -8             3             3             3         -8   \nPaddy           0             1             1             1          0   \nTony         -130             0             0             1       -130   \nZed           623             9            12            13        623   \n当日汇总            0             0             0             0          0   \n\n        对比前3天均值(总开户)  对比前5天均值(总开户)  对比前7天均值(总开户)  \n人员                                                \nAber              -3            -1             0  \nBen                3             3             3  \nDK                -3            -3            -4  \nHugo               0            -1            -1  \nMartin             4             6             8  \nMax                0             0             0  \nPaddy              1             1             1  \nTony              -2            -2            -2  \nZed                1             2             3  \n当日汇总               0             0             0  ",
      "text/html": "<div>\n<style scoped>\n    .dataframe tbody tr th:only-of-type {\n        vertical-align: middle;\n    }\n\n    .dataframe tbody tr th {\n        vertical-align: top;\n    }\n\n    .dataframe thead th {\n        text-align: right;\n    }\n</style>\n<table border=\"1\" class=\"dataframe\">\n  <thead>\n    <tr style=\"text-align: right;\">\n      <th></th>\n      <th>日期</th>\n      <th>人员2</th>\n      <th>发送IP</th>\n      <th>接受IP</th>\n      <th>注册</th>\n      <th>注册率</th>\n      <th>开户</th>\n      <th>转化率</th>\n      <th>当日注册并开户</th>\n      <th>当日注册激活率</th>\n      <th>对比昨天(总IP)</th>\n      <th>对比前3天均值(总IP)</th>\n      <th>对比前5天均值(总IP)</th>\n      <th>对比前7天均值(总IP)</th>\n      <th>对比昨天(总注册)</th>\n      <th>对比前3天均值(总注册)</th>\n      <th>对比前5天均值(总注册)</th>\n      <th>对比前7天均值(总注册)</th>\n      <th>对比昨天(总开户)</th>\n      <th>对比前3天均值(总开户)</th>\n      <th>对比前5天均值(总开户)</th>\n      <th>对比前7天均值(总开户)</th>\n    </tr>\n    <tr>\n      <th>人员</th>\n      <th></th>\n      <th></th>\n      <th></th>\n      <th></th>\n      <th></th>\n      <th></th>\n      <th></th>\n      <th></th>\n      <th></th>\n      <th></th>\n      <th></th>\n      <th></th>\n      <th></th>\n      <th></th>\n      <th></th>\n      <th></th>\n      <th></th>\n      <th></th>\n      <th></th>\n      <th></th>\n      <th></th>\n      <th></th>\n    </tr>\n  </thead>\n  <tbody>\n    <tr>\n      <th>Aber</th>\n      <td>2023-08-07</td>\n      <td>aber</td>\n      <td>7325</td>\n      <td>562</td>\n      <td>49</td>\n      <td>0.67</td>\n      <td>13</td>\n      <td>26.53</td>\n      <td>9</td>\n      <td>18.37</td>\n      <td>-2150</td>\n      <td>-1503</td>\n      <td>-1483</td>\n      <td>-768</td>\n      <td>-2150</td>\n      <td>7</td>\n      <td>8</td>\n      <td>9</td>\n      <td>-2150</td>\n      <td>-3</td>\n      <td>-1</td>\n      <td>0</td>\n    </tr>\n    <tr>\n      <th>Ben</th>\n      <td>2023-08-07</td>\n      <td>ben</td>\n      <td>2565</td>\n      <td>298</td>\n      <td>17</td>\n      <td>0.66</td>\n      <td>6</td>\n      <td>35.29</td>\n      <td>3</td>\n      <td>17.65</td>\n      <td>-433</td>\n      <td>-144</td>\n      <td>-793</td>\n      <td>-2063</td>\n      <td>-433</td>\n      <td>7</td>\n      <td>5</td>\n      <td>4</td>\n      <td>-433</td>\n      <td>3</td>\n      <td>3</td>\n      <td>3</td>\n    </tr>\n    <tr>\n      <th>DK</th>\n      <td>2023-08-07</td>\n      <td>dk</td>\n      <td>1525</td>\n      <td>2160</td>\n      <td>52</td>\n      <td>3.41</td>\n      <td>5</td>\n      <td>9.62</td>\n      <td>5</td>\n      <td>9.62</td>\n      <td>149</td>\n      <td>83</td>\n      <td>57</td>\n      <td>47</td>\n      <td>149</td>\n      <td>21</td>\n      <td>21</td>\n      <td>20</td>\n      <td>149</td>\n      <td>-3</td>\n      <td>-3</td>\n      <td>-4</td>\n    </tr>\n    <tr>\n      <th>Hugo</th>\n      <td>2023-08-07</td>\n      <td>hugo</td>\n      <td>103</td>\n      <td>0</td>\n      <td>16</td>\n      <td>15.53</td>\n      <td>5</td>\n      <td>31.25</td>\n      <td>2</td>\n      <td>12.50</td>\n      <td>-83</td>\n      <td>-35</td>\n      <td>-225</td>\n      <td>-446</td>\n      <td>-83</td>\n      <td>5</td>\n      <td>1</td>\n      <td>0</td>\n      <td>-83</td>\n      <td>0</td>\n      <td>-1</td>\n      <td>-1</td>\n    </tr>\n    <tr>\n      <th>Martin</th>\n      <td>2023-08-07</td>\n      <td>martin</td>\n      <td>3445</td>\n      <td>1072</td>\n      <td>81</td>\n      <td>2.35</td>\n      <td>24</td>\n      <td>29.63</td>\n      <td>18</td>\n      <td>22.22</td>\n      <td>352</td>\n      <td>181</td>\n      <td>285</td>\n      <td>620</td>\n      <td>352</td>\n      <td>10</td>\n      <td>20</td>\n      <td>27</td>\n      <td>352</td>\n      <td>4</td>\n      <td>6</td>\n      <td>8</td>\n    </tr>\n    <tr>\n      <th>Max</th>\n      <td>2023-08-07</td>\n      <td>max</td>\n      <td>273</td>\n      <td>225</td>\n      <td>9</td>\n      <td>3.30</td>\n      <td>0</td>\n      <td>0.00</td>\n      <td>0</td>\n      <td>0.00</td>\n      <td>-8</td>\n      <td>-7</td>\n      <td>-5</td>\n      <td>-5</td>\n      <td>-8</td>\n      <td>3</td>\n      <td>3</td>\n      <td>3</td>\n      <td>-8</td>\n      <td>0</td>\n      <td>0</td>\n      <td>0</td>\n    </tr>\n    <tr>\n      <th>Paddy</th>\n      <td>2023-08-07</td>\n      <td>paddy</td>\n      <td>0</td>\n      <td>51</td>\n      <td>3</td>\n      <td>0.00</td>\n      <td>2</td>\n      <td>66.67</td>\n      <td>2</td>\n      <td>66.67</td>\n      <td>0</td>\n      <td>0</td>\n      <td>0</td>\n      <td>-59</td>\n      <td>0</td>\n      <td>1</td>\n      <td>1</td>\n      <td>1</td>\n      <td>0</td>\n      <td>1</td>\n      <td>1</td>\n      <td>1</td>\n    </tr>\n    <tr>\n      <th>Tony</th>\n      <td>2023-08-07</td>\n      <td>tony</td>\n      <td>568</td>\n      <td>1136</td>\n      <td>15</td>\n      <td>2.64</td>\n      <td>3</td>\n      <td>20.00</td>\n      <td>3</td>\n      <td>20.00</td>\n      <td>-130</td>\n      <td>-51</td>\n      <td>-69</td>\n      <td>-71</td>\n      <td>-130</td>\n      <td>0</td>\n      <td>0</td>\n      <td>1</td>\n      <td>-130</td>\n      <td>-2</td>\n      <td>-2</td>\n      <td>-2</td>\n    </tr>\n    <tr>\n      <th>Zed</th>\n      <td>2023-08-07</td>\n      <td>zed</td>\n      <td>4853</td>\n      <td>329</td>\n      <td>22</td>\n      <td>0.45</td>\n      <td>8</td>\n      <td>36.36</td>\n      <td>8</td>\n      <td>36.36</td>\n      <td>623</td>\n      <td>260</td>\n      <td>422</td>\n      <td>610</td>\n      <td>623</td>\n      <td>9</td>\n      <td>12</td>\n      <td>13</td>\n      <td>623</td>\n      <td>1</td>\n      <td>2</td>\n      <td>3</td>\n    </tr>\n    <tr>\n      <th>当日汇总</th>\n      <td>2023-08-07</td>\n      <td>当日汇总</td>\n      <td>20657</td>\n      <td>5833</td>\n      <td>0</td>\n      <td>0.00</td>\n      <td>0</td>\n      <td>0.00</td>\n      <td>0</td>\n      <td>0.00</td>\n      <td>0</td>\n      <td>0</td>\n      <td>0</td>\n      <td>0</td>\n      <td>0</td>\n      <td>0</td>\n      <td>0</td>\n      <td>0</td>\n      <td>0</td>\n      <td>0</td>\n      <td>0</td>\n      <td>0</td>\n    </tr>\n  </tbody>\n</table>\n</div>"
     },
     "execution_count": 69,
     "metadata": {},
     "output_type": "execute_result"
    }
   ],
   "source": [
    "shuju['对比昨天(总IP)'] =shuju['对比昨天(总IP)'].astype('int64')\n",
    "shuju['对比前3天均值(总IP)'] = shuju['对比前3天均值(总IP)'].astype('int64')\n",
    "shuju['对比前5天均值(总IP)'] = shuju['对比前5天均值(总IP)'].astype('int64')\n",
    "shuju['对比前7天均值(总IP)'] = shuju['对比前7天均值(总IP)'].astype('int64')\n",
    "\n",
    "shuju['对比昨天(总注册)'] =shuju['对比昨天(总注册)'].astype('int64')\n",
    "shuju['对比前3天均值(总注册)'] = shuju['对比前3天均值(总注册)'].astype('int64')\n",
    "shuju['对比前5天均值(总注册)'] = shuju['对比前5天均值(总注册)'].astype('int64')\n",
    "shuju['对比前7天均值(总注册)'] = shuju['对比前7天均值(总注册)'].astype('int64')\n",
    "\n",
    "shuju['对比昨天(总开户)'] =shuju['对比昨天(总开户)'].astype('int64')\n",
    "shuju['对比前3天均值(总开户)'] = shuju['对比前3天均值(总开户)'].astype('int64')\n",
    "shuju['对比前5天均值(总开户)'] = shuju['对比前5天均值(总开户)'].astype('int64')\n",
    "shuju['对比前7天均值(总开户)'] = shuju['对比前7天均值(总开户)'].astype('int64')\n",
    "shuju['注册'] = shuju['注册'].astype('int64')\n",
    "shuju['开户'] = shuju['开户'].astype('int64')\n",
    "shuju['当日注册并开户'] = shuju['当日注册并开户'].astype('int64')\n"
   ],
   "metadata": {
    "collapsed": false
   }
  },
  {
   "cell_type": "code",
   "execution_count": 70,
   "outputs": [
    {
     "data": {
      "text/plain": "Index(['注册', '注册率', '开户', '转化率', '当日注册并开户', '当日注册激活率', '对比昨天(总IP)',\n       '对比前3天均值(总IP)', '对比前5天均值(总IP)', '对比前7天均值(总IP)', '对比昨天(总注册)',\n       '对比前3天均值(总注册)', '对比前5天均值(总注册)', '对比前7天均值(总注册)', '对比昨天(总开户)',\n       '对比前3天均值(总开户)', '对比前5天均值(总开户)', '对比前7天均值(总开户)'],\n      dtype='object')"
     },
     "execution_count": 70,
     "metadata": {},
     "output_type": "execute_result"
    }
   ],
   "source": [
    "tem = shuju.iloc[:,4:]\n",
    "tem.columns"
   ],
   "metadata": {
    "collapsed": false
   }
  },
  {
   "cell_type": "code",
   "execution_count": 72,
   "outputs": [
    {
     "data": {
      "text/plain": "               日期     人员2   发送IP  接受IP   注册    注册率  开户     转化率  当日注册并开户  \\\n人员                                                                        \nAber   2023-08-07    aber   7325   562   49   0.67  13   26.53        9   \nBen    2023-08-07     ben   2565   298   17   0.66   6   35.29        3   \nDK     2023-08-07      dk   1525  2160   52   3.41   5    9.62        5   \nHugo   2023-08-07    hugo    103     0   16  15.53   5   31.25        2   \nMartin 2023-08-07  martin   3445  1072   81   2.35  24   29.63       18   \nMax    2023-08-07     max    273   225    9   3.30   0    0.00        0   \nPaddy  2023-08-07   paddy      0    51    3   0.00   2   66.67        2   \nTony   2023-08-07    tony    568  1136   15   2.64   3   20.00        3   \nZed    2023-08-07     zed   4853   329   22   0.45   8   36.36        8   \n当日汇总   2023-08-07    当日汇总  20657  5833  264  29.01  66  255.35       50   \n\n        当日注册激活率  对比昨天(总IP)  对比前3天均值(总IP)  对比前5天均值(总IP)  对比前7天均值(总IP)  \\\n人员                                                                     \nAber      18.37      -2150         -1503         -1483          -768   \nBen       17.65       -433          -144          -793         -2063   \nDK         9.62        149            83            57            47   \nHugo      12.50        -83           -35          -225          -446   \nMartin    22.22        352           181           285           620   \nMax        0.00         -8            -7            -5            -5   \nPaddy     66.67          0             0             0           -59   \nTony      20.00       -130           -51           -69           -71   \nZed       36.36        623           260           422           610   \n当日汇总     203.39      -1680         -1216         -1811         -2135   \n\n        对比昨天(总注册)  对比前3天均值(总注册)  对比前5天均值(总注册)  对比前7天均值(总注册)  对比昨天(总开户)  \\\n人员                                                                       \nAber        -2150             7             8             9      -2150   \nBen          -433             7             5             4       -433   \nDK            149            21            21            20        149   \nHugo          -83             5             1             0        -83   \nMartin        352            10            20            27        352   \nMax            -8             3             3             3         -8   \nPaddy           0             1             1             1          0   \nTony         -130             0             0             1       -130   \nZed           623             9            12            13        623   \n当日汇总        -1680            63            71            78      -1680   \n\n        对比前3天均值(总开户)  对比前5天均值(总开户)  对比前7天均值(总开户)  \n人员                                                \nAber              -3            -1             0  \nBen                3             3             3  \nDK                -3            -3            -4  \nHugo               0            -1            -1  \nMartin             4             6             8  \nMax                0             0             0  \nPaddy              1             1             1  \nTony              -2            -2            -2  \nZed                1             2             3  \n当日汇总               1             5             8  ",
      "text/html": "<div>\n<style scoped>\n    .dataframe tbody tr th:only-of-type {\n        vertical-align: middle;\n    }\n\n    .dataframe tbody tr th {\n        vertical-align: top;\n    }\n\n    .dataframe thead th {\n        text-align: right;\n    }\n</style>\n<table border=\"1\" class=\"dataframe\">\n  <thead>\n    <tr style=\"text-align: right;\">\n      <th></th>\n      <th>日期</th>\n      <th>人员2</th>\n      <th>发送IP</th>\n      <th>接受IP</th>\n      <th>注册</th>\n      <th>注册率</th>\n      <th>开户</th>\n      <th>转化率</th>\n      <th>当日注册并开户</th>\n      <th>当日注册激活率</th>\n      <th>对比昨天(总IP)</th>\n      <th>对比前3天均值(总IP)</th>\n      <th>对比前5天均值(总IP)</th>\n      <th>对比前7天均值(总IP)</th>\n      <th>对比昨天(总注册)</th>\n      <th>对比前3天均值(总注册)</th>\n      <th>对比前5天均值(总注册)</th>\n      <th>对比前7天均值(总注册)</th>\n      <th>对比昨天(总开户)</th>\n      <th>对比前3天均值(总开户)</th>\n      <th>对比前5天均值(总开户)</th>\n      <th>对比前7天均值(总开户)</th>\n    </tr>\n    <tr>\n      <th>人员</th>\n      <th></th>\n      <th></th>\n      <th></th>\n      <th></th>\n      <th></th>\n      <th></th>\n      <th></th>\n      <th></th>\n      <th></th>\n      <th></th>\n      <th></th>\n      <th></th>\n      <th></th>\n      <th></th>\n      <th></th>\n      <th></th>\n      <th></th>\n      <th></th>\n      <th></th>\n      <th></th>\n      <th></th>\n      <th></th>\n    </tr>\n  </thead>\n  <tbody>\n    <tr>\n      <th>Aber</th>\n      <td>2023-08-07</td>\n      <td>aber</td>\n      <td>7325</td>\n      <td>562</td>\n      <td>49</td>\n      <td>0.67</td>\n      <td>13</td>\n      <td>26.53</td>\n      <td>9</td>\n      <td>18.37</td>\n      <td>-2150</td>\n      <td>-1503</td>\n      <td>-1483</td>\n      <td>-768</td>\n      <td>-2150</td>\n      <td>7</td>\n      <td>8</td>\n      <td>9</td>\n      <td>-2150</td>\n      <td>-3</td>\n      <td>-1</td>\n      <td>0</td>\n    </tr>\n    <tr>\n      <th>Ben</th>\n      <td>2023-08-07</td>\n      <td>ben</td>\n      <td>2565</td>\n      <td>298</td>\n      <td>17</td>\n      <td>0.66</td>\n      <td>6</td>\n      <td>35.29</td>\n      <td>3</td>\n      <td>17.65</td>\n      <td>-433</td>\n      <td>-144</td>\n      <td>-793</td>\n      <td>-2063</td>\n      <td>-433</td>\n      <td>7</td>\n      <td>5</td>\n      <td>4</td>\n      <td>-433</td>\n      <td>3</td>\n      <td>3</td>\n      <td>3</td>\n    </tr>\n    <tr>\n      <th>DK</th>\n      <td>2023-08-07</td>\n      <td>dk</td>\n      <td>1525</td>\n      <td>2160</td>\n      <td>52</td>\n      <td>3.41</td>\n      <td>5</td>\n      <td>9.62</td>\n      <td>5</td>\n      <td>9.62</td>\n      <td>149</td>\n      <td>83</td>\n      <td>57</td>\n      <td>47</td>\n      <td>149</td>\n      <td>21</td>\n      <td>21</td>\n      <td>20</td>\n      <td>149</td>\n      <td>-3</td>\n      <td>-3</td>\n      <td>-4</td>\n    </tr>\n    <tr>\n      <th>Hugo</th>\n      <td>2023-08-07</td>\n      <td>hugo</td>\n      <td>103</td>\n      <td>0</td>\n      <td>16</td>\n      <td>15.53</td>\n      <td>5</td>\n      <td>31.25</td>\n      <td>2</td>\n      <td>12.50</td>\n      <td>-83</td>\n      <td>-35</td>\n      <td>-225</td>\n      <td>-446</td>\n      <td>-83</td>\n      <td>5</td>\n      <td>1</td>\n      <td>0</td>\n      <td>-83</td>\n      <td>0</td>\n      <td>-1</td>\n      <td>-1</td>\n    </tr>\n    <tr>\n      <th>Martin</th>\n      <td>2023-08-07</td>\n      <td>martin</td>\n      <td>3445</td>\n      <td>1072</td>\n      <td>81</td>\n      <td>2.35</td>\n      <td>24</td>\n      <td>29.63</td>\n      <td>18</td>\n      <td>22.22</td>\n      <td>352</td>\n      <td>181</td>\n      <td>285</td>\n      <td>620</td>\n      <td>352</td>\n      <td>10</td>\n      <td>20</td>\n      <td>27</td>\n      <td>352</td>\n      <td>4</td>\n      <td>6</td>\n      <td>8</td>\n    </tr>\n    <tr>\n      <th>Max</th>\n      <td>2023-08-07</td>\n      <td>max</td>\n      <td>273</td>\n      <td>225</td>\n      <td>9</td>\n      <td>3.30</td>\n      <td>0</td>\n      <td>0.00</td>\n      <td>0</td>\n      <td>0.00</td>\n      <td>-8</td>\n      <td>-7</td>\n      <td>-5</td>\n      <td>-5</td>\n      <td>-8</td>\n      <td>3</td>\n      <td>3</td>\n      <td>3</td>\n      <td>-8</td>\n      <td>0</td>\n      <td>0</td>\n      <td>0</td>\n    </tr>\n    <tr>\n      <th>Paddy</th>\n      <td>2023-08-07</td>\n      <td>paddy</td>\n      <td>0</td>\n      <td>51</td>\n      <td>3</td>\n      <td>0.00</td>\n      <td>2</td>\n      <td>66.67</td>\n      <td>2</td>\n      <td>66.67</td>\n      <td>0</td>\n      <td>0</td>\n      <td>0</td>\n      <td>-59</td>\n      <td>0</td>\n      <td>1</td>\n      <td>1</td>\n      <td>1</td>\n      <td>0</td>\n      <td>1</td>\n      <td>1</td>\n      <td>1</td>\n    </tr>\n    <tr>\n      <th>Tony</th>\n      <td>2023-08-07</td>\n      <td>tony</td>\n      <td>568</td>\n      <td>1136</td>\n      <td>15</td>\n      <td>2.64</td>\n      <td>3</td>\n      <td>20.00</td>\n      <td>3</td>\n      <td>20.00</td>\n      <td>-130</td>\n      <td>-51</td>\n      <td>-69</td>\n      <td>-71</td>\n      <td>-130</td>\n      <td>0</td>\n      <td>0</td>\n      <td>1</td>\n      <td>-130</td>\n      <td>-2</td>\n      <td>-2</td>\n      <td>-2</td>\n    </tr>\n    <tr>\n      <th>Zed</th>\n      <td>2023-08-07</td>\n      <td>zed</td>\n      <td>4853</td>\n      <td>329</td>\n      <td>22</td>\n      <td>0.45</td>\n      <td>8</td>\n      <td>36.36</td>\n      <td>8</td>\n      <td>36.36</td>\n      <td>623</td>\n      <td>260</td>\n      <td>422</td>\n      <td>610</td>\n      <td>623</td>\n      <td>9</td>\n      <td>12</td>\n      <td>13</td>\n      <td>623</td>\n      <td>1</td>\n      <td>2</td>\n      <td>3</td>\n    </tr>\n    <tr>\n      <th>当日汇总</th>\n      <td>2023-08-07</td>\n      <td>当日汇总</td>\n      <td>20657</td>\n      <td>5833</td>\n      <td>264</td>\n      <td>29.01</td>\n      <td>66</td>\n      <td>255.35</td>\n      <td>50</td>\n      <td>203.39</td>\n      <td>-1680</td>\n      <td>-1216</td>\n      <td>-1811</td>\n      <td>-2135</td>\n      <td>-1680</td>\n      <td>63</td>\n      <td>71</td>\n      <td>78</td>\n      <td>-1680</td>\n      <td>1</td>\n      <td>5</td>\n      <td>8</td>\n    </tr>\n  </tbody>\n</table>\n</div>"
     },
     "execution_count": 72,
     "metadata": {},
     "output_type": "execute_result"
    }
   ],
   "source": [
    "for i in shuju.iloc[:,4:].columns:\n",
    "    shuju.loc['当日汇总',i]=sum(shuju[i])\n",
    "shuju"
   ],
   "metadata": {
    "collapsed": false
   }
  },
  {
   "cell_type": "code",
   "execution_count": 73,
   "outputs": [
    {
     "name": "stdout",
     "output_type": "stream",
     "text": [
      "<class 'pandas.core.frame.DataFrame'>\n",
      "RangeIndex: 109 entries, 0 to 108\n",
      "Data columns (total 22 columns):\n",
      " #   Column     Non-Null Count  Dtype         \n",
      "---  ------     --------------  -----         \n",
      " 0   日期         109 non-null    datetime64[ns]\n",
      " 1   人员         109 non-null    object        \n",
      " 2   总IP        109 non-null    int64         \n",
      " 3   接受IP       104 non-null    float64       \n",
      " 4   注册         109 non-null    int64         \n",
      " 5   注册率        109 non-null    float64       \n",
      " 6   开户         109 non-null    int64         \n",
      " 7   转化率        109 non-null    float64       \n",
      " 8   当日注册当日开户   109 non-null    int64         \n",
      " 9   当日注册当日激活率  109 non-null    float64       \n",
      " 10  对比前天       109 non-null    int64         \n",
      " 11  对比前3天均值    109 non-null    float64       \n",
      " 12  对比前5天均值    109 non-null    float64       \n",
      " 13  对比前7天均值    109 non-null    float64       \n",
      " 14  对比前天.1     109 non-null    int64         \n",
      " 15  对比前3天均值.1  109 non-null    float64       \n",
      " 16  对比前5天均值.1  109 non-null    float64       \n",
      " 17  对比前7天均值.1  109 non-null    float64       \n",
      " 18  对比前天.2     109 non-null    int64         \n",
      " 19  对比前3天均值.2  109 non-null    float64       \n",
      " 20  对比前5天均值.2  109 non-null    float64       \n",
      " 21  对比前7天均值.2  109 non-null    float64       \n",
      "dtypes: datetime64[ns](1), float64(13), int64(7), object(1)\n",
      "memory usage: 18.9+ KB\n"
     ]
    }
   ],
   "source": [
    "his_data.info()"
   ],
   "metadata": {
    "collapsed": false
   }
  }
 ],
 "metadata": {
  "kernelspec": {
   "display_name": "Python 3",
   "language": "python",
   "name": "python3"
  },
  "language_info": {
   "codemirror_mode": {
    "name": "ipython",
    "version": 2
   },
   "file_extension": ".py",
   "mimetype": "text/x-python",
   "name": "python",
   "nbconvert_exporter": "python",
   "pygments_lexer": "ipython2",
   "version": "2.7.6"
  }
 },
 "nbformat": 4,
 "nbformat_minor": 0
}
