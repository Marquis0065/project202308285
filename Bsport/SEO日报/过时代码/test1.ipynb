{
 "cells": [
  {
   "cell_type": "code",
   "execution_count": 1,
   "outputs": [
    {
     "data": {
      "text/plain": "   游戏平台   币种   转入   转出  投注人数(公司)  投注次数(公司)  下注金额(公司)  投注金额(公司)  游戏人数(玩家对战)  \\\n0  AG真人  JPY  0.0  0.0         0         0       0.0       0.0           0   \n1  AG真人  MXN  0.0  0.0         0         0       0.0       0.0           0   \n2  AG真人  NGN  0.0  0.0         0         0       0.0       0.0           0   \n3  AG真人  MYR  0.0  0.0         0         0       0.0       0.0           0   \n4  AG真人  USD  0.0  0.0         0         0       0.0       0.0           0   \n\n   投注次数(玩家对战)  ...  总投注金额  总有效投注  派彩额  公司输赢  人均投注额  人均投注次数        日期  游戏大类  \\\n0           0  ...    0.0    0.0  0.0   0.0    0.0     0.0  2023/8/1    真人   \n1           0  ...    0.0    0.0  0.0   0.0    0.0     0.0  2023/8/1    真人   \n2           0  ...    0.0    0.0  0.0   0.0    0.0     0.0  2023/8/1    真人   \n3           0  ...    0.0    0.0  0.0   0.0    0.0     0.0  2023/8/1    真人   \n4           0  ...    0.0    0.0  0.0   0.0    0.0     0.0  2023/8/1    真人   \n\n   游戏人数  月份  \n0     0  8月  \n1     0  8月  \n2     0  8月  \n3     0  8月  \n4     0  8月  \n\n[5 rows x 25 columns]",
      "text/html": "<div>\n<style scoped>\n    .dataframe tbody tr th:only-of-type {\n        vertical-align: middle;\n    }\n\n    .dataframe tbody tr th {\n        vertical-align: top;\n    }\n\n    .dataframe thead th {\n        text-align: right;\n    }\n</style>\n<table border=\"1\" class=\"dataframe\">\n  <thead>\n    <tr style=\"text-align: right;\">\n      <th></th>\n      <th>游戏平台</th>\n      <th>币种</th>\n      <th>转入</th>\n      <th>转出</th>\n      <th>投注人数(公司)</th>\n      <th>投注次数(公司)</th>\n      <th>下注金额(公司)</th>\n      <th>投注金额(公司)</th>\n      <th>游戏人数(玩家对战)</th>\n      <th>投注次数(玩家对战)</th>\n      <th>...</th>\n      <th>总投注金额</th>\n      <th>总有效投注</th>\n      <th>派彩额</th>\n      <th>公司输赢</th>\n      <th>人均投注额</th>\n      <th>人均投注次数</th>\n      <th>日期</th>\n      <th>游戏大类</th>\n      <th>游戏人数</th>\n      <th>月份</th>\n    </tr>\n  </thead>\n  <tbody>\n    <tr>\n      <th>0</th>\n      <td>AG真人</td>\n      <td>JPY</td>\n      <td>0.0</td>\n      <td>0.0</td>\n      <td>0</td>\n      <td>0</td>\n      <td>0.0</td>\n      <td>0.0</td>\n      <td>0</td>\n      <td>0</td>\n      <td>...</td>\n      <td>0.0</td>\n      <td>0.0</td>\n      <td>0.0</td>\n      <td>0.0</td>\n      <td>0.0</td>\n      <td>0.0</td>\n      <td>2023/8/1</td>\n      <td>真人</td>\n      <td>0</td>\n      <td>8月</td>\n    </tr>\n    <tr>\n      <th>1</th>\n      <td>AG真人</td>\n      <td>MXN</td>\n      <td>0.0</td>\n      <td>0.0</td>\n      <td>0</td>\n      <td>0</td>\n      <td>0.0</td>\n      <td>0.0</td>\n      <td>0</td>\n      <td>0</td>\n      <td>...</td>\n      <td>0.0</td>\n      <td>0.0</td>\n      <td>0.0</td>\n      <td>0.0</td>\n      <td>0.0</td>\n      <td>0.0</td>\n      <td>2023/8/1</td>\n      <td>真人</td>\n      <td>0</td>\n      <td>8月</td>\n    </tr>\n    <tr>\n      <th>2</th>\n      <td>AG真人</td>\n      <td>NGN</td>\n      <td>0.0</td>\n      <td>0.0</td>\n      <td>0</td>\n      <td>0</td>\n      <td>0.0</td>\n      <td>0.0</td>\n      <td>0</td>\n      <td>0</td>\n      <td>...</td>\n      <td>0.0</td>\n      <td>0.0</td>\n      <td>0.0</td>\n      <td>0.0</td>\n      <td>0.0</td>\n      <td>0.0</td>\n      <td>2023/8/1</td>\n      <td>真人</td>\n      <td>0</td>\n      <td>8月</td>\n    </tr>\n    <tr>\n      <th>3</th>\n      <td>AG真人</td>\n      <td>MYR</td>\n      <td>0.0</td>\n      <td>0.0</td>\n      <td>0</td>\n      <td>0</td>\n      <td>0.0</td>\n      <td>0.0</td>\n      <td>0</td>\n      <td>0</td>\n      <td>...</td>\n      <td>0.0</td>\n      <td>0.0</td>\n      <td>0.0</td>\n      <td>0.0</td>\n      <td>0.0</td>\n      <td>0.0</td>\n      <td>2023/8/1</td>\n      <td>真人</td>\n      <td>0</td>\n      <td>8月</td>\n    </tr>\n    <tr>\n      <th>4</th>\n      <td>AG真人</td>\n      <td>USD</td>\n      <td>0.0</td>\n      <td>0.0</td>\n      <td>0</td>\n      <td>0</td>\n      <td>0.0</td>\n      <td>0.0</td>\n      <td>0</td>\n      <td>0</td>\n      <td>...</td>\n      <td>0.0</td>\n      <td>0.0</td>\n      <td>0.0</td>\n      <td>0.0</td>\n      <td>0.0</td>\n      <td>0.0</td>\n      <td>2023/8/1</td>\n      <td>真人</td>\n      <td>0</td>\n      <td>8月</td>\n    </tr>\n  </tbody>\n</table>\n<p>5 rows × 25 columns</p>\n</div>"
     },
     "execution_count": 1,
     "metadata": {},
     "output_type": "execute_result"
    }
   ],
   "source": [
    "import pandas as pd\n",
    "df = pd.read_clipboard()\n",
    "df.head()"
   ],
   "metadata": {
    "collapsed": false
   }
  },
  {
   "cell_type": "code",
   "execution_count": 14,
   "outputs": [
    {
     "name": "stderr",
     "output_type": "stream",
     "text": [
      "C:\\ProgramData\\anaconda3\\envs\\schedule\\Lib\\site-packages\\IPython\\core\\events.py:89: UserWarning: Glyph 30495 (\\N{CJK UNIFIED IDEOGRAPH-771F}) missing from current font.\n",
      "  func(*args, **kwargs)\n",
      "C:\\ProgramData\\anaconda3\\envs\\schedule\\Lib\\site-packages\\IPython\\core\\events.py:89: UserWarning: Glyph 20154 (\\N{CJK UNIFIED IDEOGRAPH-4EBA}) missing from current font.\n",
      "  func(*args, **kwargs)\n",
      "C:\\ProgramData\\anaconda3\\envs\\schedule\\Lib\\site-packages\\IPython\\core\\events.py:89: UserWarning: Glyph 30005 (\\N{CJK UNIFIED IDEOGRAPH-7535}) missing from current font.\n",
      "  func(*args, **kwargs)\n",
      "C:\\ProgramData\\anaconda3\\envs\\schedule\\Lib\\site-packages\\IPython\\core\\events.py:89: UserWarning: Glyph 23376 (\\N{CJK UNIFIED IDEOGRAPH-5B50}) missing from current font.\n",
      "  func(*args, **kwargs)\n",
      "C:\\ProgramData\\anaconda3\\envs\\schedule\\Lib\\site-packages\\IPython\\core\\events.py:89: UserWarning: Glyph 25429 (\\N{CJK UNIFIED IDEOGRAPH-6355}) missing from current font.\n",
      "  func(*args, **kwargs)\n",
      "C:\\ProgramData\\anaconda3\\envs\\schedule\\Lib\\site-packages\\IPython\\core\\events.py:89: UserWarning: Glyph 40060 (\\N{CJK UNIFIED IDEOGRAPH-9C7C}) missing from current font.\n",
      "  func(*args, **kwargs)\n",
      "C:\\ProgramData\\anaconda3\\envs\\schedule\\Lib\\site-packages\\IPython\\core\\events.py:89: UserWarning: Glyph 31454 (\\N{CJK UNIFIED IDEOGRAPH-7ADE}) missing from current font.\n",
      "  func(*args, **kwargs)\n",
      "C:\\ProgramData\\anaconda3\\envs\\schedule\\Lib\\site-packages\\IPython\\core\\events.py:89: UserWarning: Glyph 24425 (\\N{CJK UNIFIED IDEOGRAPH-5F69}) missing from current font.\n",
      "  func(*args, **kwargs)\n",
      "C:\\ProgramData\\anaconda3\\envs\\schedule\\Lib\\site-packages\\IPython\\core\\events.py:89: UserWarning: Glyph 31080 (\\N{CJK UNIFIED IDEOGRAPH-7968}) missing from current font.\n",
      "  func(*args, **kwargs)\n",
      "C:\\ProgramData\\anaconda3\\envs\\schedule\\Lib\\site-packages\\IPython\\core\\events.py:89: UserWarning: Glyph 20307 (\\N{CJK UNIFIED IDEOGRAPH-4F53}) missing from current font.\n",
      "  func(*args, **kwargs)\n",
      "C:\\ProgramData\\anaconda3\\envs\\schedule\\Lib\\site-packages\\IPython\\core\\events.py:89: UserWarning: Glyph 32946 (\\N{CJK UNIFIED IDEOGRAPH-80B2}) missing from current font.\n",
      "  func(*args, **kwargs)\n",
      "C:\\ProgramData\\anaconda3\\envs\\schedule\\Lib\\site-packages\\IPython\\core\\events.py:89: UserWarning: Glyph 26827 (\\N{CJK UNIFIED IDEOGRAPH-68CB}) missing from current font.\n",
      "  func(*args, **kwargs)\n",
      "C:\\ProgramData\\anaconda3\\envs\\schedule\\Lib\\site-packages\\IPython\\core\\events.py:89: UserWarning: Glyph 29260 (\\N{CJK UNIFIED IDEOGRAPH-724C}) missing from current font.\n",
      "  func(*args, **kwargs)\n",
      "C:\\ProgramData\\anaconda3\\envs\\schedule\\Lib\\site-packages\\IPython\\core\\events.py:89: UserWarning: Glyph 21452 (\\N{CJK UNIFIED IDEOGRAPH-53CC}) missing from current font.\n",
      "  func(*args, **kwargs)\n",
      "C:\\ProgramData\\anaconda3\\envs\\schedule\\Lib\\site-packages\\IPython\\core\\events.py:89: UserWarning: Glyph 36194 (\\N{CJK UNIFIED IDEOGRAPH-8D62}) missing from current font.\n",
      "  func(*args, **kwargs)\n",
      "C:\\ProgramData\\anaconda3\\envs\\schedule\\Lib\\site-packages\\IPython\\core\\events.py:89: UserWarning: Glyph 21338 (\\N{CJK UNIFIED IDEOGRAPH-535A}) missing from current font.\n",
      "  func(*args, **kwargs)\n",
      "C:\\ProgramData\\anaconda3\\envs\\schedule\\Lib\\site-packages\\IPython\\core\\events.py:89: UserWarning: Glyph 38597 (\\N{CJK UNIFIED IDEOGRAPH-96C5}) missing from current font.\n",
      "  func(*args, **kwargs)\n",
      "C:\\ProgramData\\anaconda3\\envs\\schedule\\Lib\\site-packages\\IPython\\core\\events.py:89: UserWarning: Glyph 27801 (\\N{CJK UNIFIED IDEOGRAPH-6C99}) missing from current font.\n",
      "  func(*args, **kwargs)\n",
      "C:\\ProgramData\\anaconda3\\envs\\schedule\\Lib\\site-packages\\IPython\\core\\events.py:89: UserWarning: Glyph 24052 (\\N{CJK UNIFIED IDEOGRAPH-5DF4}) missing from current font.\n",
      "  func(*args, **kwargs)\n",
      "C:\\ProgramData\\anaconda3\\envs\\schedule\\Lib\\site-packages\\IPython\\core\\events.py:89: UserWarning: Glyph 26007 (\\N{CJK UNIFIED IDEOGRAPH-6597}) missing from current font.\n",
      "  func(*args, **kwargs)\n",
      "C:\\ProgramData\\anaconda3\\envs\\schedule\\Lib\\site-packages\\IPython\\core\\events.py:89: UserWarning: Glyph 40481 (\\N{CJK UNIFIED IDEOGRAPH-9E21}) missing from current font.\n",
      "  func(*args, **kwargs)\n",
      "C:\\ProgramData\\anaconda3\\envs\\schedule\\Lib\\site-packages\\IPython\\core\\events.py:89: UserWarning: Glyph 24320 (\\N{CJK UNIFIED IDEOGRAPH-5F00}) missing from current font.\n",
      "  func(*args, **kwargs)\n",
      "C:\\ProgramData\\anaconda3\\envs\\schedule\\Lib\\site-packages\\IPython\\core\\events.py:89: UserWarning: Glyph 20803 (\\N{CJK UNIFIED IDEOGRAPH-5143}) missing from current font.\n",
      "  func(*args, **kwargs)\n",
      "C:\\ProgramData\\anaconda3\\envs\\schedule\\Lib\\site-packages\\IPython\\core\\events.py:89: UserWarning: Glyph 29926 (\\N{CJK UNIFIED IDEOGRAPH-74E6}) missing from current font.\n",
      "  func(*args, **kwargs)\n",
      "C:\\ProgramData\\anaconda3\\envs\\schedule\\Lib\\site-packages\\IPython\\core\\events.py:89: UserWarning: Glyph 21147 (\\N{CJK UNIFIED IDEOGRAPH-529B}) missing from current font.\n",
      "  func(*args, **kwargs)\n",
      "C:\\ProgramData\\anaconda3\\envs\\schedule\\Lib\\site-packages\\IPython\\core\\events.py:89: UserWarning: Glyph 26087 (\\N{CJK UNIFIED IDEOGRAPH-65E7}) missing from current font.\n",
      "  func(*args, **kwargs)\n",
      "C:\\ProgramData\\anaconda3\\envs\\schedule\\Lib\\site-packages\\IPython\\core\\pylabtools.py:152: UserWarning: Glyph 30495 (\\N{CJK UNIFIED IDEOGRAPH-771F}) missing from current font.\n",
      "  fig.canvas.print_figure(bytes_io, **kw)\n",
      "C:\\ProgramData\\anaconda3\\envs\\schedule\\Lib\\site-packages\\IPython\\core\\pylabtools.py:152: UserWarning: Glyph 20154 (\\N{CJK UNIFIED IDEOGRAPH-4EBA}) missing from current font.\n",
      "  fig.canvas.print_figure(bytes_io, **kw)\n",
      "C:\\ProgramData\\anaconda3\\envs\\schedule\\Lib\\site-packages\\IPython\\core\\pylabtools.py:152: UserWarning: Glyph 30005 (\\N{CJK UNIFIED IDEOGRAPH-7535}) missing from current font.\n",
      "  fig.canvas.print_figure(bytes_io, **kw)\n",
      "C:\\ProgramData\\anaconda3\\envs\\schedule\\Lib\\site-packages\\IPython\\core\\pylabtools.py:152: UserWarning: Glyph 23376 (\\N{CJK UNIFIED IDEOGRAPH-5B50}) missing from current font.\n",
      "  fig.canvas.print_figure(bytes_io, **kw)\n",
      "C:\\ProgramData\\anaconda3\\envs\\schedule\\Lib\\site-packages\\IPython\\core\\pylabtools.py:152: UserWarning: Glyph 25429 (\\N{CJK UNIFIED IDEOGRAPH-6355}) missing from current font.\n",
      "  fig.canvas.print_figure(bytes_io, **kw)\n",
      "C:\\ProgramData\\anaconda3\\envs\\schedule\\Lib\\site-packages\\IPython\\core\\pylabtools.py:152: UserWarning: Glyph 40060 (\\N{CJK UNIFIED IDEOGRAPH-9C7C}) missing from current font.\n",
      "  fig.canvas.print_figure(bytes_io, **kw)\n",
      "C:\\ProgramData\\anaconda3\\envs\\schedule\\Lib\\site-packages\\IPython\\core\\pylabtools.py:152: UserWarning: Glyph 31454 (\\N{CJK UNIFIED IDEOGRAPH-7ADE}) missing from current font.\n",
      "  fig.canvas.print_figure(bytes_io, **kw)\n",
      "C:\\ProgramData\\anaconda3\\envs\\schedule\\Lib\\site-packages\\IPython\\core\\pylabtools.py:152: UserWarning: Glyph 24425 (\\N{CJK UNIFIED IDEOGRAPH-5F69}) missing from current font.\n",
      "  fig.canvas.print_figure(bytes_io, **kw)\n",
      "C:\\ProgramData\\anaconda3\\envs\\schedule\\Lib\\site-packages\\IPython\\core\\pylabtools.py:152: UserWarning: Glyph 31080 (\\N{CJK UNIFIED IDEOGRAPH-7968}) missing from current font.\n",
      "  fig.canvas.print_figure(bytes_io, **kw)\n",
      "C:\\ProgramData\\anaconda3\\envs\\schedule\\Lib\\site-packages\\IPython\\core\\pylabtools.py:152: UserWarning: Glyph 20307 (\\N{CJK UNIFIED IDEOGRAPH-4F53}) missing from current font.\n",
      "  fig.canvas.print_figure(bytes_io, **kw)\n",
      "C:\\ProgramData\\anaconda3\\envs\\schedule\\Lib\\site-packages\\IPython\\core\\pylabtools.py:152: UserWarning: Glyph 32946 (\\N{CJK UNIFIED IDEOGRAPH-80B2}) missing from current font.\n",
      "  fig.canvas.print_figure(bytes_io, **kw)\n",
      "C:\\ProgramData\\anaconda3\\envs\\schedule\\Lib\\site-packages\\IPython\\core\\pylabtools.py:152: UserWarning: Glyph 26827 (\\N{CJK UNIFIED IDEOGRAPH-68CB}) missing from current font.\n",
      "  fig.canvas.print_figure(bytes_io, **kw)\n",
      "C:\\ProgramData\\anaconda3\\envs\\schedule\\Lib\\site-packages\\IPython\\core\\pylabtools.py:152: UserWarning: Glyph 29260 (\\N{CJK UNIFIED IDEOGRAPH-724C}) missing from current font.\n",
      "  fig.canvas.print_figure(bytes_io, **kw)\n",
      "C:\\ProgramData\\anaconda3\\envs\\schedule\\Lib\\site-packages\\IPython\\core\\pylabtools.py:152: UserWarning: Glyph 21452 (\\N{CJK UNIFIED IDEOGRAPH-53CC}) missing from current font.\n",
      "  fig.canvas.print_figure(bytes_io, **kw)\n",
      "C:\\ProgramData\\anaconda3\\envs\\schedule\\Lib\\site-packages\\IPython\\core\\pylabtools.py:152: UserWarning: Glyph 36194 (\\N{CJK UNIFIED IDEOGRAPH-8D62}) missing from current font.\n",
      "  fig.canvas.print_figure(bytes_io, **kw)\n",
      "C:\\ProgramData\\anaconda3\\envs\\schedule\\Lib\\site-packages\\IPython\\core\\pylabtools.py:152: UserWarning: Glyph 21338 (\\N{CJK UNIFIED IDEOGRAPH-535A}) missing from current font.\n",
      "  fig.canvas.print_figure(bytes_io, **kw)\n",
      "C:\\ProgramData\\anaconda3\\envs\\schedule\\Lib\\site-packages\\IPython\\core\\pylabtools.py:152: UserWarning: Glyph 38597 (\\N{CJK UNIFIED IDEOGRAPH-96C5}) missing from current font.\n",
      "  fig.canvas.print_figure(bytes_io, **kw)\n",
      "C:\\ProgramData\\anaconda3\\envs\\schedule\\Lib\\site-packages\\IPython\\core\\pylabtools.py:152: UserWarning: Glyph 27801 (\\N{CJK UNIFIED IDEOGRAPH-6C99}) missing from current font.\n",
      "  fig.canvas.print_figure(bytes_io, **kw)\n",
      "C:\\ProgramData\\anaconda3\\envs\\schedule\\Lib\\site-packages\\IPython\\core\\pylabtools.py:152: UserWarning: Glyph 24052 (\\N{CJK UNIFIED IDEOGRAPH-5DF4}) missing from current font.\n",
      "  fig.canvas.print_figure(bytes_io, **kw)\n",
      "C:\\ProgramData\\anaconda3\\envs\\schedule\\Lib\\site-packages\\IPython\\core\\pylabtools.py:152: UserWarning: Glyph 26007 (\\N{CJK UNIFIED IDEOGRAPH-6597}) missing from current font.\n",
      "  fig.canvas.print_figure(bytes_io, **kw)\n",
      "C:\\ProgramData\\anaconda3\\envs\\schedule\\Lib\\site-packages\\IPython\\core\\pylabtools.py:152: UserWarning: Glyph 40481 (\\N{CJK UNIFIED IDEOGRAPH-9E21}) missing from current font.\n",
      "  fig.canvas.print_figure(bytes_io, **kw)\n",
      "C:\\ProgramData\\anaconda3\\envs\\schedule\\Lib\\site-packages\\IPython\\core\\pylabtools.py:152: UserWarning: Glyph 24320 (\\N{CJK UNIFIED IDEOGRAPH-5F00}) missing from current font.\n",
      "  fig.canvas.print_figure(bytes_io, **kw)\n",
      "C:\\ProgramData\\anaconda3\\envs\\schedule\\Lib\\site-packages\\IPython\\core\\pylabtools.py:152: UserWarning: Glyph 20803 (\\N{CJK UNIFIED IDEOGRAPH-5143}) missing from current font.\n",
      "  fig.canvas.print_figure(bytes_io, **kw)\n",
      "C:\\ProgramData\\anaconda3\\envs\\schedule\\Lib\\site-packages\\IPython\\core\\pylabtools.py:152: UserWarning: Glyph 29926 (\\N{CJK UNIFIED IDEOGRAPH-74E6}) missing from current font.\n",
      "  fig.canvas.print_figure(bytes_io, **kw)\n",
      "C:\\ProgramData\\anaconda3\\envs\\schedule\\Lib\\site-packages\\IPython\\core\\pylabtools.py:152: UserWarning: Glyph 21147 (\\N{CJK UNIFIED IDEOGRAPH-529B}) missing from current font.\n",
      "  fig.canvas.print_figure(bytes_io, **kw)\n",
      "C:\\ProgramData\\anaconda3\\envs\\schedule\\Lib\\site-packages\\IPython\\core\\pylabtools.py:152: UserWarning: Glyph 26087 (\\N{CJK UNIFIED IDEOGRAPH-65E7}) missing from current font.\n",
      "  fig.canvas.print_figure(bytes_io, **kw)\n"
     ]
    },
    {
     "data": {
      "text/plain": "<Figure size 640x480 with 1 Axes>",
      "image/png": "[encoded data removed]"
     },
     "metadata": {},
     "output_type": "display_data"
    }
   ],
   "source": [],
   "metadata": {
    "collapsed": false
   }
  },
  {
   "cell_type": "code",
   "execution_count": 67,
   "outputs": [
    {
     "data": {
      "text/plain": "'804c9d614ed44b7d815462f294dbcac6'"
     },
     "execution_count": 67,
     "metadata": {},
     "output_type": "execute_result"
    }
   ],
   "source": [
    "import time\n",
    "import requests\n",
    "import json\n",
    "import telebot\n",
    "import hmac, base64, struct, hashlib\n",
    "import platform\n",
    "from selenium import webdriver\n",
    "\n",
    "submit_url = 'http://fundmng.bsportsadmin.com/api/manage/user/admin/login/submit'\n",
    "header0 = {\n",
    "    'Accept':'application/json, text/plain, */*',\n",
    "    # 'Accept-Encoding':'gzip, deflate',\n",
    "    'Accept-Language':'zh-CN,zh;q=0.9',\n",
    "    'Connection':'keep-alive',\n",
    "    'Content-Length':'48',\n",
    "    'Content-Type':'application/x-www-form-urlencoded',\n",
    "    'Cookie':'admin-uid=690; admin-token=db76bebda5274c80adaadd40bd794f24',\n",
    "    'Device_id':'1.0',\n",
    "    'Gl_version':'2.0',\n",
    "    'Host':'fundmng.bsportsadmin.com',\n",
    "    'Language':'zh_CN',\n",
    "    'Origin':'http://fundmng.bsportsadmin.com',\n",
    "    'Os_type':'0',\n",
    "    'Referer':'http://fundmng.bsportsadmin.com/login',\n",
    "    'Sign':'2bc4c378817f47731f0adf450a627d19',\n",
    "    'Some':'header',\n",
    "    'Systemid':\"\",\n",
    "    'Timestamp':'1692415901000',\n",
    "    'Token':'-1',\n",
    "    'Uid':'-1',\n",
    "    'User-Agent':'Mozilla/5.0 (Windows NT 10.0; Win64; x64) AppleWebKit/537.36 (KHTML, like Gecko) Chrome/116.0.0.0 Safari/537.36',\n",
    "    'Version':'1.0'\n",
    "}\n",
    "def get_google_code(secret):\n",
    "    key = base64.b32decode(secret, True)\n",
    "    msg = struct.pack(\">Q\", int(time.time()) // 30)\n",
    "    google_code = hmac.new(key, msg, hashlib.sha1).digest()\n",
    "    # 很多网上的代码不可用，就在于这儿，没有chr字符串\n",
    "    o = ord(chr(google_code[19])) & 15\n",
    "    # google_code = (struct.unpack(\">I\", google_code[o:o + 4])[0] & 0x7fffffff) % 1000000\n",
    "    google_code = (struct.unpack(\">I\", google_code[o:o + 4])[0] & 0x7fffffff) % 1000000\n",
    "    return '%06d' % google_code\n",
    "# 生成验证码\n",
    "google_code = get_google_code('64ehnxj6yily5bhv23kgb62ozuh6yuu2')\n",
    "data0 = {\n",
    "    'username': 'Marquis',\n",
    "    'password': 'qwer123456',\n",
    "    'code': google_code\n",
    "}\n",
    "session0 = requests.Session()\n",
    "response0  =session0.post(url=submit_url,data=data0,headers=header0)\n",
    "response0.encoding = 'utf-8'\n",
    "obj0 = json.loads(response0.text)\n",
    "token = obj0['data']['token']\n",
    "token"
   ],
   "metadata": {
    "collapsed": false
   }
  },
  {
   "cell_type": "code",
   "execution_count": 51,
   "outputs": [
    {
     "name": "stdout",
     "output_type": "stream",
     "text": [
      "{'code': 1, 'data': {'endRow': 14, 'glWithdrawAllCollect': None, 'hasNextPage': False, 'hasPreviousPage': False, 'isFirstPage': True, 'isLastPage': True, 'list': [{'actualAmount': 0, 'actualUsdtAmount': 0, 'address': 'TAVTu2KunPVErRXEqyP5rcncVkid9GCXWw', 'aisleType': 1, 'amount': 49999.0, 'approveTime': None, 'approver': '', 'attachments': '', 'bankId': 1002, 'bankName': 'USDT提现', 'batchNumber': '', 'c2cMerchantIds': '', 'c2cToNormal': False, 'cardNo': 'USDT**RC20', 'channelId': 0, 'channelName': '', 'clientType': 2, 'coin': 'CNY', 'createDate': 1692430902000, 'durationEnd': 0, 'durationStart': 0, 'fee': 0.0, 'freeStatus': 0, 'ip': '223.153.141.42', 'isReserveWithdraw': False, 'isSeparate': None, 'lastUpdate': 1692430943000, 'matchRechargeOrderId': '', 'matchRechargeUsername': '', 'matchedDate': None, 'merchant': '', 'merchantCode': '', 'merchantFee': 0, 'merchantId': 0, 'name': '哦哦哦', 'operator': '', 'orderId': 'TX2023081915415DTCYX', 'paymentDate': None, 'pendingByC2C': False, 'protocol': 'USDT_TRC20', 'rate': 7.35, 'reallyName': '彭丁', 'realtimeRate': 7.32, 'realtimeUsdtAmount': 6830.46, 'receiveDate': None, 'rechargeName': '', 'rejectReason': '', 'remark': '', 'reserveDueDate': None, 'reserveDuration': 0, 'riskApprover': 'huamei', 'riskApvRemark': '', 'riskApvTime': 1692430943000, 'riskType': '[2,3,5,6]', 'seperateCreator': '系统自动', 'seperateDate': 1692430943000, 'seperateReason': '无匹配条件', 'seperator': '', 'splitStatus': 0, 'status': 0, 'tag': '', 'telephone': '181****5453', 'thirdOrderId': '', 'transferBankCardNo': '', 'transferBankName': '', 'transferName': '', 'txHash': '', 'usdtAmount': 6802.58, 'userId': 1223420, 'userLevel': '充U提U层级', 'userLockStatus': 0, 'userRegisterDate': None, 'userType': 0, 'username': 'ainiaa80', 'vipLevel': 5, 'withdrawType': -1}, {'actualAmount': 0, 'actualUsdtAmount': 0, 'address': '', 'aisleType': 4, 'amount': 10000.0, 'approveTime': 1692430914000, 'approver': 'admin', 'attachments': '', 'bankId': 58, 'bankName': '安徽省农村信用社', 'batchNumber': '', 'c2cMerchantIds': '', 'c2cToNormal': False, 'cardNo': '6217***********2460', 'channelId': 0, 'channelName': '', 'clientType': 3, 'coin': 'CNY', 'createDate': 1692430829000, 'durationEnd': 0, 'durationStart': 0, 'fee': 0.0, 'freeStatus': 1, 'ip': '210.12.105.67', 'isReserveWithdraw': False, 'isSeparate': None, 'lastUpdate': 1692430975000, 'matchRechargeOrderId': '', 'matchRechargeUsername': '', 'matchedDate': 1692430961000, 'merchant': 'C2C支付', 'merchantCode': 'BTY-C2C-0001', 'merchantFee': 0, 'merchantId': 68, 'name': '文少凡', 'operator': '', 'orderId': 'TX2023081915405DSXP3', 'paymentDate': None, 'pendingByC2C': True, 'protocol': '', 'rate': 0, 'reallyName': '文少凡', 'realtimeRate': 0, 'realtimeUsdtAmount': 0, 'receiveDate': None, 'rechargeName': '', 'rejectReason': '', 'remark': '待撮合', 'reserveDueDate': None, 'reserveDuration': 0, 'riskApprover': 'huamei', 'riskApvRemark': '', 'riskApvTime': 1692430913000, 'riskType': '[2,7,8]', 'seperateCreator': '系统自动', 'seperateDate': 1692430913000, 'seperateReason': '自动出款', 'seperator': '', 'splitStatus': 0, 'status': 10, 'tag': '', 'telephone': '180****2235', 'thirdOrderId': '20230819154240BTY-C2C-0001116749', 'transferBankCardNo': '', 'transferBankName': '', 'transferName': '', 'txHash': '', 'usdtAmount': 0, 'userId': 1053066, 'userLevel': 'seo正常层级3', 'userLockStatus': 0, 'userRegisterDate': None, 'userType': 0, 'username': 'wenshao719621', 'vipLevel': 6, 'withdrawType': 1}, {'actualAmount': 0, 'actualUsdtAmount': 0, 'address': '', 'aisleType': 4, 'amount': 10000.0, 'approveTime': 1692430784000, 'approver': 'admin', 'attachments': '', 'bankId': 9, 'bankName': '浦发银行', 'batchNumber': '', 'c2cMerchantIds': '', 'c2cToNormal': False, 'cardNo': '6217********9816', 'channelId': 0, 'channelName': '', 'clientType': 3, 'coin': 'CNY', 'createDate': 1692430757000, 'durationEnd': 0, 'durationStart': 0, 'fee': 0.0, 'freeStatus': 1, 'ip': '112.32.123.90', 'isReserveWithdraw': False, 'isSeparate': None, 'lastUpdate': 1692430912000, 'matchRechargeOrderId': '', 'matchRechargeUsername': '', 'matchedDate': 1692430907000, 'merchant': 'C2C支付', 'merchantCode': 'BTY-C2C-0001', 'merchantFee': 0, 'merchantId': 68, 'name': '沈萍', 'operator': '', 'orderId': 'TX2023081915395DSIO0', 'paymentDate': None, 'pendingByC2C': True, 'protocol': '', 'rate': 0, 'reallyName': '沈萍', 'realtimeRate': 0, 'realtimeUsdtAmount': 0, 'receiveDate': None, 'rechargeName': '', 'rejectReason': '', 'remark': '待撮合', 'reserveDueDate': None, 'reserveDuration': 0, 'riskApprover': 'huamei', 'riskApvRemark': '', 'riskApvTime': 1692430783000, 'riskType': '[1,2,11]', 'seperateCreator': '系统自动', 'seperateDate': 1692430783000, 'seperateReason': '自动出款', 'seperator': '', 'splitStatus': 0, 'status': 10, 'tag': '', 'telephone': '152****3531', 'thirdOrderId': '20230819154147BTY-C2C-00011097642', 'transferBankCardNo': '', 'transferBankName': '', 'transferName': '', 'txHash': '', 'usdtAmount': 0, 'userId': 1312976, 'userLevel': '初审后层级', 'userLockStatus': 0, 'userRegisterDate': None, 'userType': 0, 'username': 'qsawqeqq1122', 'vipLevel': 2, 'withdrawType': 1}, {'actualAmount': 0, 'actualUsdtAmount': 0, 'address': '', 'aisleType': 1, 'amount': 35000.0, 'approveTime': 1692430499000, 'approver': 'pixel', 'attachments': '', 'bankId': 5, 'bankName': '中国银行', 'batchNumber': '', 'c2cMerchantIds': '', 'c2cToNormal': False, 'cardNo': '6217***********2748', 'channelId': 0, 'channelName': '', 'clientType': 1, 'coin': 'CNY', 'createDate': 1692430372000, 'durationEnd': 0, 'durationStart': 0, 'fee': 0.0, 'freeStatus': 0, 'ip': '220.200.240.137', 'isReserveWithdraw': False, 'isSeparate': None, 'lastUpdate': 1692430499000, 'matchRechargeOrderId': '', 'matchRechargeUsername': '', 'matchedDate': None, 'merchant': '新皇支付V2', 'merchantCode': '90069375', 'merchantFee': 0, 'merchantId': 180, 'name': '商进', 'operator': '', 'orderId': 'TX2023081915325DQWSQ', 'paymentDate': None, 'pendingByC2C': False, 'protocol': '', 'rate': 0, 'reallyName': '商进', 'realtimeRate': 0, 'realtimeUsdtAmount': 0, 'receiveDate': None, 'rechargeName': '', 'rejectReason': '', 'remark': '代付申请成功', 'reserveDueDate': None, 'reserveDuration': 0, 'riskApprover': 'hank', 'riskApvRemark': '', 'riskApvTime': 1692430425000, 'riskType': '[1,2]', 'seperateCreator': '系统自动', 'seperateDate': 1692430425000, 'seperateReason': '无匹配条件', 'seperator': '', 'splitStatus': 0, 'status': 10, 'tag': '', 'telephone': '135****6991', 'thirdOrderId': '', 'transferBankCardNo': '', 'transferBankName': '', 'transferName': '', 'txHash': '', 'usdtAmount': 0, 'userId': 346679, 'userLevel': '大客会员层级', 'userLockStatus': 0, 'userRegisterDate': None, 'userType': 0, 'username': 'jiyi333', 'vipLevel': 6, 'withdrawType': 2}, {'actualAmount': 0, 'actualUsdtAmount': 0, 'address': '', 'aisleType': 1, 'amount': 50000.0, 'approveTime': 1692430265000, 'approver': 'pixel', 'attachments': '', 'bankId': 7, 'bankName': '广发银行', 'batchNumber': '', 'c2cMerchantIds': '', 'c2cToNormal': False, 'cardNo': '6214***********5814', 'channelId': 0, 'channelName': '', 'clientType': 3, 'coin': 'CNY', 'createDate': 1692430107000, 'durationEnd': 0, 'durationStart': 0, 'fee': 0.0, 'freeStatus': 0, 'ip': '39.144.103.126', 'isReserveWithdraw': False, 'isSeparate': None, 'lastUpdate': 1692430265000, 'matchRechargeOrderId': '', 'matchRechargeUsername': '', 'matchedDate': None, 'merchant': 'MG支付', 'merchantCode': 'bty12121', 'merchantFee': 0, 'merchantId': 201, 'name': '赵勇', 'operator': '', 'orderId': 'TX2023081915285DPIDV', 'paymentDate': None, 'pendingByC2C': False, 'protocol': '', 'rate': 0, 'reallyName': '赵勇', 'realtimeRate': 0, 'realtimeUsdtAmount': 0, 'receiveDate': None, 'rechargeName': '', 'rejectReason': '', 'remark': '代付申请成功', 'reserveDueDate': None, 'reserveDuration': 0, 'riskApprover': 'huamei', 'riskApvRemark': '', 'riskApvTime': 1692430170000, 'riskType': '[1,2]', 'seperateCreator': '系统自动', 'seperateDate': 1692430170000, 'seperateReason': '无匹配条件', 'seperator': '', 'splitStatus': 0, 'status': 10, 'tag': '', 'telephone': '188****8985', 'thirdOrderId': '', 'transferBankCardNo': '', 'transferBankName': '', 'transferName': '', 'txHash': '', 'usdtAmount': 0, 'userId': 240345, 'userLevel': 'seo正常层级3', 'userLockStatus': 0, 'userRegisterDate': None, 'userType': 0, 'username': 'zy199637', 'vipLevel': 6, 'withdrawType': 2}, {'actualAmount': 0, 'actualUsdtAmount': 0, 'address': '', 'aisleType': 1, 'amount': 40000.0, 'approveTime': 1692429097000, 'approver': 'pixel', 'attachments': '', 'bankId': 58, 'bankName': '安徽省农村信用社', 'batchNumber': '', 'c2cMerchantIds': '', 'c2cToNormal': False, 'cardNo': '6217***********1392', 'channelId': 0, 'channelName': '', 'clientType': 1, 'coin': 'CNY', 'createDate': 1692429051000, 'durationEnd': 0, 'durationStart': 0, 'fee': 0.0, 'freeStatus': 0, 'ip': '220.205.232.166', 'isReserveWithdraw': False, 'isSeparate': None, 'lastUpdate': 1692429097000, 'matchRechargeOrderId': '', 'matchRechargeUsername': '', 'matchedDate': None, 'merchant': '佳运支付', 'merchantCode': '111004', 'merchantFee': 0, 'merchantId': 222, 'name': '余陶子昊', 'operator': '', 'orderId': 'TX2023081915105DKO74', 'paymentDate': None, 'pendingByC2C': False, 'protocol': '', 'rate': 0, 'reallyName': '余陶子昊', 'realtimeRate': 0, 'realtimeUsdtAmount': 0, 'receiveDate': None, 'rechargeName': '', 'rejectReason': '', 'remark': '代付申请成功', 'reserveDueDate': None, 'reserveDuration': 0, 'riskApprover': 'huamei', 'riskApvRemark': '', 'riskApvTime': 1692429065000, 'riskType': '[1,2,3,6]', 'seperateCreator': '系统自动', 'seperateDate': 1692429065000, 'seperateReason': '无匹配条件', 'seperator': '', 'splitStatus': 0, 'status': 10, 'tag': '', 'telephone': '185****9642', 'thirdOrderId': '', 'transferBankCardNo': '', 'transferBankName': '', 'transferName': '', 'txHash': '', 'usdtAmount': 0, 'userId': 368109, 'userLevel': '信息变更层级', 'userLockStatus': 0, 'userRegisterDate': None, 'userType': 0, 'username': 'ytt1111', 'vipLevel': 5, 'withdrawType': 2}, {'actualAmount': 0, 'actualUsdtAmount': 0, 'address': '', 'aisleType': 1, 'amount': 50000.0, 'approveTime': 1692429249000, 'approver': 'pixel', 'attachments': '', 'bankId': 7, 'bankName': '广发银行', 'batchNumber': '', 'c2cMerchantIds': '', 'c2cToNormal': False, 'cardNo': '6214***********4424', 'channelId': 0, 'channelName': '', 'clientType': 0, 'coin': 'CNY', 'createDate': 1692428765000, 'durationEnd': 24.0, 'durationStart': 0.0, 'fee': 0.0, 'freeStatus': 0, 'ip': '59.174.55.19', 'isReserveWithdraw': True, 'isSeparate': None, 'lastUpdate': 1692429249000, 'matchRechargeOrderId': '', 'matchRechargeUsername': '', 'matchedDate': None, 'merchant': '佳运支付', 'merchantCode': '111004', 'merchantFee': 0, 'merchantId': 222, 'name': '李曦', 'operator': '', 'orderId': 'TX2023081915065DJ6IM', 'paymentDate': None, 'pendingByC2C': False, 'protocol': '', 'rate': 0, 'reallyName': '李曦', 'realtimeRate': 0, 'realtimeUsdtAmount': 0, 'receiveDate': None, 'rechargeName': '', 'rejectReason': '', 'remark': '代付申请成功', 'reserveDueDate': None, 'reserveDuration': 0, 'riskApprover': 'kai', 'riskApvRemark': '', 'riskApvTime': 1692429045000, 'riskType': '[2,3,6]', 'seperateCreator': '', 'seperateDate': None, 'seperateReason': '', 'seperator': '', 'splitStatus': 0, 'status': 10, 'tag': '', 'telephone': '189****4625', 'thirdOrderId': '', 'transferBankCardNo': '', 'transferBankName': '', 'transferName': '', 'txHash': '', 'usdtAmount': 0, 'userId': 736266, 'userLevel': '大客会员层级', 'userLockStatus': 0, 'userRegisterDate': None, 'userType': 0, 'username': 'lixiljs20000', 'vipLevel': 8, 'withdrawType': 2}, {'actualAmount': 0, 'actualUsdtAmount': 0, 'address': '', 'aisleType': 1, 'amount': 40000.0, 'approveTime': 1692427540000, 'approver': 'pixel', 'attachments': '', 'bankId': 3, 'bankName': '建设银行', 'batchNumber': '', 'c2cMerchantIds': '', 'c2cToNormal': False, 'cardNo': '6214***********6111', 'channelId': 0, 'channelName': '', 'clientType': 3, 'coin': 'CNY', 'createDate': 1692427236000, 'durationEnd': 12.0, 'durationStart': 0.0, 'fee': 0.0, 'freeStatus': 0, 'ip': '36.96.209.198', 'isReserveWithdraw': True, 'isSeparate': None, 'lastUpdate': 1692427540000, 'matchRechargeOrderId': '', 'matchRechargeUsername': '', 'matchedDate': None, 'merchant': '佳运支付', 'merchantCode': '111004', 'merchantFee': 0, 'merchantId': 222, 'name': '杨良', 'operator': '', 'orderId': 'TX2023081914405DBTC4', 'paymentDate': None, 'pendingByC2C': False, 'protocol': '', 'rate': 0, 'reallyName': '杨良', 'realtimeRate': 0, 'realtimeUsdtAmount': 0, 'receiveDate': None, 'rechargeName': '', 'rejectReason': '', 'remark': '代付申请成功', 'reserveDueDate': None, 'reserveDuration': 0, 'riskApprover': 'kai', 'riskApvRemark': '', 'riskApvTime': 1692427373000, 'riskType': '[1,2]', 'seperateCreator': '', 'seperateDate': None, 'seperateReason': '', 'seperator': '', 'splitStatus': 0, 'status': 10, 'tag': '', 'telephone': '153****2222', 'thirdOrderId': '', 'transferBankCardNo': '', 'transferBankName': '', 'transferName': '', 'txHash': '', 'usdtAmount': 0, 'userId': 144277, 'userLevel': 'seo正常层级', 'userLockStatus': 0, 'userRegisterDate': None, 'userType': 0, 'username': 'YL888888', 'vipLevel': 6, 'withdrawType': 2}, {'actualAmount': 0, 'actualUsdtAmount': 0, 'address': '', 'aisleType': 1, 'amount': 50000.0, 'approveTime': 1692427319000, 'approver': 'laura', 'attachments': '', 'bankId': 6, 'bankName': '交通银行', 'batchNumber': '', 'c2cMerchantIds': '', 'c2cToNormal': False, 'cardNo': '6222***********5648', 'channelId': 0, 'channelName': '', 'clientType': 2, 'coin': 'CNY', 'createDate': 1692427122000, 'durationEnd': 0, 'durationStart': 0, 'fee': 0.0, 'freeStatus': 0, 'ip': '223.104.237.29', 'isReserveWithdraw': False, 'isSeparate': None, 'lastUpdate': 1692427319000, 'matchRechargeOrderId': '', 'matchRechargeUsername': '', 'matchedDate': None, 'merchant': '佳运支付', 'merchantCode': '111004', 'merchantFee': 0, 'merchantId': 222, 'name': '赵永亮', 'operator': '', 'orderId': 'TX2023081914385DB63M', 'paymentDate': None, 'pendingByC2C': False, 'protocol': '', 'rate': 0, 'reallyName': '赵永亮', 'realtimeRate': 0, 'realtimeUsdtAmount': 0, 'receiveDate': None, 'rechargeName': '', 'rejectReason': '', 'remark': '代付申请成功', 'reserveDueDate': None, 'reserveDuration': 0, 'riskApprover': 'huamei', 'riskApvRemark': '', 'riskApvTime': 1692427228000, 'riskType': '[2,3,5]', 'seperateCreator': '系统自动', 'seperateDate': 1692427228000, 'seperateReason': '无匹配条件', 'seperator': '', 'splitStatus': 0, 'status': 10, 'tag': '', 'telephone': '151****3665', 'thirdOrderId': '', 'transferBankCardNo': '', 'transferBankName': '', 'transferName': '', 'txHash': '', 'usdtAmount': 0, 'userId': 1287240, 'userLevel': 'seo初审后层级2.1', 'userLockStatus': 0, 'userRegisterDate': None, 'userType': 0, 'username': 'yah1314520', 'vipLevel': 5, 'withdrawType': 2}, {'actualAmount': 0, 'actualUsdtAmount': 0, 'address': '', 'aisleType': 1, 'amount': 49999.0, 'approveTime': 1692425599000, 'approver': 'pixel', 'attachments': '', 'bankId': 83, 'bankName': '龙江银行', 'batchNumber': '', 'c2cMerchantIds': '', 'c2cToNormal': False, 'cardNo': '6235***********9157', 'channelId': 0, 'channelName': '', 'clientType': 1, 'coin': 'CNY', 'createDate': 1692425358000, 'durationEnd': 0, 'durationStart': 0, 'fee': 0.0, 'freeStatus': 0, 'ip': '223.104.116.150', 'isReserveWithdraw': False, 'isSeparate': None, 'lastUpdate': 1692425599000, 'matchRechargeOrderId': '', 'matchRechargeUsername': '', 'matchedDate': None, 'merchant': '佳运支付', 'merchantCode': '111004', 'merchantFee': 0, 'merchantId': 222, 'name': '王利', 'operator': '', 'orderId': 'TX2023081914095D3A65', 'paymentDate': None, 'pendingByC2C': False, 'protocol': '', 'rate': 0, 'reallyName': '王利', 'realtimeRate': 0, 'realtimeUsdtAmount': 0, 'receiveDate': None, 'rechargeName': '', 'rejectReason': '', 'remark': '代付申请成功', 'reserveDueDate': None, 'reserveDuration': 0, 'riskApprover': 'Xiaozeng11', 'riskApvRemark': '', 'riskApvTime': 1692425535000, 'riskType': '[1,2]', 'seperateCreator': '系统自动', 'seperateDate': 1692425535000, 'seperateReason': '无匹配条件', 'seperator': '', 'splitStatus': 0, 'status': 10, 'tag': '', 'telephone': '159****1666', 'thirdOrderId': '', 'transferBankCardNo': '', 'transferBankName': '', 'transferName': '', 'txHash': '', 'usdtAmount': 0, 'userId': 110892, 'userLevel': 'seo大客层级会员', 'userLockStatus': 0, 'userRegisterDate': None, 'userType': 0, 'username': 'wl215612', 'vipLevel': 5, 'withdrawType': 2}, {'actualAmount': 0, 'actualUsdtAmount': 0, 'address': '重庆 - 重庆', 'aisleType': 1, 'amount': 50000.0, 'approveTime': 1692425396000, 'approver': 'pixel', 'attachments': '', 'bankId': 4, 'bankName': '农业银行', 'batchNumber': '', 'c2cMerchantIds': '', 'c2cToNormal': False, 'cardNo': '6228***********3673', 'channelId': 0, 'channelName': '', 'clientType': 3, 'coin': 'CNY', 'createDate': 1692425218000, 'durationEnd': 0, 'durationStart': 0, 'fee': 0.0, 'freeStatus': 0, 'ip': '106.61.238.83', 'isReserveWithdraw': False, 'isSeparate': None, 'lastUpdate': 1692425396000, 'matchRechargeOrderId': '', 'matchRechargeUsername': '', 'matchedDate': None, 'merchant': '佳运支付', 'merchantCode': '111004', 'merchantFee': 0, 'merchantId': 222, 'name': '肖春', 'operator': '', 'orderId': 'TX2023081914065D2P8P', 'paymentDate': None, 'pendingByC2C': False, 'protocol': '', 'rate': 0, 'reallyName': '肖春', 'realtimeRate': 0, 'realtimeUsdtAmount': 0, 'receiveDate': None, 'rechargeName': '', 'rejectReason': '', 'remark': '代付申请成功', 'reserveDueDate': None, 'reserveDuration': 0, 'riskApprover': 'huamei', 'riskApvRemark': '', 'riskApvTime': 1692425331000, 'riskType': '[1,2,3,6]', 'seperateCreator': '系统自动', 'seperateDate': 1692425331000, 'seperateReason': '无匹配条件', 'seperator': '', 'splitStatus': 0, 'status': 10, 'tag': '', 'telephone': '133****9520', 'thirdOrderId': '', 'transferBankCardNo': '', 'transferBankName': '', 'transferName': '', 'txHash': '', 'usdtAmount': 0, 'userId': 381475, 'userLevel': 'seo初审后层级2.1', 'userLockStatus': 0, 'userRegisterDate': None, 'userType': 0, 'username': 'xiaochun1989', 'vipLevel': 6, 'withdrawType': 2}, {'actualAmount': 0, 'actualUsdtAmount': 0, 'address': '', 'aisleType': 1, 'amount': 50000.0, 'approveTime': 1692425187000, 'approver': 'pixel', 'attachments': '', 'bankId': 3, 'bankName': '建设银行', 'batchNumber': '', 'c2cMerchantIds': '', 'c2cToNormal': False, 'cardNo': '6217***********4491', 'channelId': 0, 'channelName': '', 'clientType': 3, 'coin': 'CNY', 'createDate': 1692425026000, 'durationEnd': 0, 'durationStart': 0, 'fee': 0.0, 'freeStatus': 0, 'ip': '14.153.6.141', 'isReserveWithdraw': False, 'isSeparate': None, 'lastUpdate': 1692425187000, 'matchRechargeOrderId': '', 'matchRechargeUsername': '', 'matchedDate': None, 'merchant': '佳运支付', 'merchantCode': '111004', 'merchantFee': 0, 'merchantId': 222, 'name': '邱丽菲', 'operator': '', 'orderId': 'TX2023081914035D1JU9', 'paymentDate': None, 'pendingByC2C': False, 'protocol': '', 'rate': 0, 'reallyName': '邱丽菲', 'realtimeRate': 0, 'realtimeUsdtAmount': 0, 'receiveDate': None, 'rechargeName': '', 'rejectReason': '', 'remark': '代付申请成功', 'reserveDueDate': None, 'reserveDuration': 0, 'riskApprover': 'huamei', 'riskApvRemark': '', 'riskApvTime': 1692425130000, 'riskType': '[1,2,3,11]', 'seperateCreator': '系统自动', 'seperateDate': 1692425130000, 'seperateReason': '无匹配条件', 'seperator': '', 'splitStatus': 0, 'status': 10, 'tag': '', 'telephone': '181****8598', 'thirdOrderId': '', 'transferBankCardNo': '', 'transferBankName': '', 'transferName': '', 'txHash': '', 'usdtAmount': 0, 'userId': 1300162, 'userLevel': '初审后层级2.1', 'userLockStatus': 0, 'userRegisterDate': None, 'userType': 0, 'username': 'xiaocao2023', 'vipLevel': 3, 'withdrawType': 2}, {'actualAmount': 0, 'actualUsdtAmount': 0, 'address': '', 'aisleType': 1, 'amount': 19468.0, 'approveTime': 1692424866000, 'approver': 'pixel', 'attachments': '', 'bankId': 1, 'bankName': '招商银行', 'batchNumber': '', 'c2cMerchantIds': '', 'c2cToNormal': False, 'cardNo': '6214********7076', 'channelId': 0, 'channelName': '', 'clientType': 3, 'coin': 'CNY', 'createDate': 1692424790000, 'durationEnd': 0, 'durationStart': 0, 'fee': 0.0, 'freeStatus': 0, 'ip': '113.127.186.248', 'isReserveWithdraw': False, 'isSeparate': None, 'lastUpdate': 1692424866000, 'matchRechargeOrderId': '', 'matchRechargeUsername': '', 'matchedDate': None, 'merchant': '佳运支付', 'merchantCode': '111004', 'merchantFee': 0, 'merchantId': 222, 'name': '赵世豪', 'operator': '', 'orderId': 'TX2023081913595D0AKS', 'paymentDate': None, 'pendingByC2C': False, 'protocol': '', 'rate': 0, 'reallyName': '赵世豪', 'realtimeRate': 0, 'realtimeUsdtAmount': 0, 'receiveDate': None, 'rechargeName': '', 'rejectReason': '', 'remark': '代付申请成功', 'reserveDueDate': None, 'reserveDuration': 0, 'riskApprover': 'hanzo', 'riskApvRemark': '', 'riskApvTime': 1692424828000, 'riskType': '[2]', 'seperateCreator': '系统自动', 'seperateDate': 1692424828000, 'seperateReason': '无匹配条件', 'seperator': '', 'splitStatus': 0, 'status': 10, 'tag': '', 'telephone': '186****0089', 'thirdOrderId': '', 'transferBankCardNo': '', 'transferBankName': '', 'transferName': '', 'txHash': '', 'usdtAmount': 0, 'userId': 362573, 'userLevel': '正常层级', 'userLockStatus': 0, 'userRegisterDate': None, 'userType': 0, 'username': 'zsh930720', 'vipLevel': 7, 'withdrawType': 2}, {'actualAmount': 0, 'actualUsdtAmount': 0, 'address': '', 'aisleType': 1, 'amount': 18000.0, 'approveTime': 1692424418000, 'approver': 'pixel', 'attachments': '', 'bankId': 2, 'bankName': '工商银行', 'batchNumber': '', 'c2cMerchantIds': '', 'c2cToNormal': False, 'cardNo': '6217***********5668', 'channelId': 0, 'channelName': '', 'clientType': 1, 'coin': 'CNY', 'createDate': 1692421712000, 'durationEnd': 0, 'durationStart': 0, 'fee': 0.0, 'freeStatus': 0, 'ip': '223.104.90.175', 'isReserveWithdraw': False, 'isSeparate': None, 'lastUpdate': 1692424418000, 'matchRechargeOrderId': '', 'matchRechargeUsername': '', 'matchedDate': None, 'merchant': '佳运支付', 'merchantCode': '111004', 'merchantFee': 0, 'merchantId': 222, 'name': '方鑫', 'operator': '', 'orderId': 'TX2023081913085CL50K', 'paymentDate': None, 'pendingByC2C': False, 'protocol': '', 'rate': 0, 'reallyName': '方鑫', 'realtimeRate': 0, 'realtimeUsdtAmount': 0, 'receiveDate': None, 'rechargeName': '', 'rejectReason': '', 'remark': '代付申请成功', 'reserveDueDate': None, 'reserveDuration': 0, 'riskApprover': 'hanzo', 'riskApvRemark': '', 'riskApvTime': 1692421809000, 'riskType': '[1,2,7]', 'seperateCreator': '系统自动', 'seperateDate': 1692421809000, 'seperateReason': '无匹配条件', 'seperator': '', 'splitStatus': 0, 'status': 10, 'tag': '', 'telephone': '188****7744', 'thirdOrderId': '', 'transferBankCardNo': '', 'transferBankName': '', 'transferName': '', 'txHash': '', 'usdtAmount': 0, 'userId': 1200685, 'userLevel': 'seo初审后层级2.1', 'userLockStatus': 0, 'userRegisterDate': None, 'userType': 0, 'username': 'aaa7744', 'vipLevel': 5, 'withdrawType': 2}], 'navigateFirstPage': 1, 'navigateLastPage': 1, 'navigatePages': 8, 'navigatepageNums': [1], 'nextPage': 0, 'pageNum': 1, 'pageSize': 20, 'pages': 1, 'prePage': 0, 'queryStrategy': '', 'size': 14, 'startRow': 1, 'total': 14}, 'keyConfig': None, 'languagePassVal': None, 'message': 'SUCCESS'}\n",
      "{'code': 1, 'data': {'endRow': 0, 'glWithdrawAllCollect': None, 'hasNextPage': False, 'hasPreviousPage': True, 'isFirstPage': False, 'isLastPage': False, 'list': [], 'navigateFirstPage': 1, 'navigateLastPage': 1, 'navigatePages': 8, 'navigatepageNums': [1], 'nextPage': 0, 'pageNum': 2, 'pageSize': 20, 'pages': 1, 'prePage': 1, 'queryStrategy': '', 'size': 0, 'startRow': 0, 'total': 14}, 'keyConfig': None, 'languagePassVal': None, 'message': 'SUCCESS'}\n",
      "{'code': 1, 'data': {'endRow': 0, 'glWithdrawAllCollect': None, 'hasNextPage': False, 'hasPreviousPage': True, 'isFirstPage': False, 'isLastPage': False, 'list': [], 'navigateFirstPage': 1, 'navigateLastPage': 1, 'navigatePages': 8, 'navigatepageNums': [1], 'nextPage': 0, 'pageNum': 3, 'pageSize': 20, 'pages': 1, 'prePage': 2, 'queryStrategy': '', 'size': 0, 'startRow': 0, 'total': 14}, 'keyConfig': None, 'languagePassVal': None, 'message': 'SUCCESS'}\n",
      "{'code': 1, 'data': {'endRow': 0, 'glWithdrawAllCollect': None, 'hasNextPage': False, 'hasPreviousPage': True, 'isFirstPage': False, 'isLastPage': False, 'list': [], 'navigateFirstPage': 1, 'navigateLastPage': 1, 'navigatePages': 8, 'navigatepageNums': [1], 'nextPage': 0, 'pageNum': 4, 'pageSize': 20, 'pages': 1, 'prePage': 3, 'queryStrategy': '', 'size': 0, 'startRow': 0, 'total': 14}, 'keyConfig': None, 'languagePassVal': None, 'message': 'SUCCESS'}\n",
      "{'code': 1, 'data': {'endRow': 0, 'glWithdrawAllCollect': None, 'hasNextPage': False, 'hasPreviousPage': True, 'isFirstPage': False, 'isLastPage': False, 'list': [], 'navigateFirstPage': 1, 'navigateLastPage': 1, 'navigatePages': 8, 'navigatepageNums': [1], 'nextPage': 0, 'pageNum': 5, 'pageSize': 20, 'pages': 1, 'prePage': 4, 'queryStrategy': '', 'size': 0, 'startRow': 0, 'total': 14}, 'keyConfig': None, 'languagePassVal': None, 'message': 'SUCCESS'}\n",
      "{'code': 1, 'data': {'endRow': 0, 'glWithdrawAllCollect': None, 'hasNextPage': False, 'hasPreviousPage': True, 'isFirstPage': False, 'isLastPage': False, 'list': [], 'navigateFirstPage': 1, 'navigateLastPage': 1, 'navigatePages': 8, 'navigatepageNums': [1], 'nextPage': 0, 'pageNum': 6, 'pageSize': 20, 'pages': 1, 'prePage': 5, 'queryStrategy': '', 'size': 0, 'startRow': 0, 'total': 14}, 'keyConfig': None, 'languagePassVal': None, 'message': 'SUCCESS'}\n",
      "{'code': 1, 'data': {'endRow': 0, 'glWithdrawAllCollect': None, 'hasNextPage': False, 'hasPreviousPage': True, 'isFirstPage': False, 'isLastPage': False, 'list': [], 'navigateFirstPage': 1, 'navigateLastPage': 1, 'navigatePages': 8, 'navigatepageNums': [1], 'nextPage': 0, 'pageNum': 7, 'pageSize': 20, 'pages': 1, 'prePage': 6, 'queryStrategy': '', 'size': 0, 'startRow': 0, 'total': 14}, 'keyConfig': None, 'languagePassVal': None, 'message': 'SUCCESS'}\n",
      "{'code': 1, 'data': {'endRow': 0, 'glWithdrawAllCollect': None, 'hasNextPage': False, 'hasPreviousPage': True, 'isFirstPage': False, 'isLastPage': False, 'list': [], 'navigateFirstPage': 1, 'navigateLastPage': 1, 'navigatePages': 8, 'navigatepageNums': [1], 'nextPage': 0, 'pageNum': 8, 'pageSize': 20, 'pages': 1, 'prePage': 7, 'queryStrategy': '', 'size': 0, 'startRow': 0, 'total': 14}, 'keyConfig': None, 'languagePassVal': None, 'message': 'SUCCESS'}\n",
      "{'code': 1, 'data': {'endRow': 0, 'glWithdrawAllCollect': None, 'hasNextPage': False, 'hasPreviousPage': True, 'isFirstPage': False, 'isLastPage': False, 'list': [], 'navigateFirstPage': 1, 'navigateLastPage': 1, 'navigatePages': 8, 'navigatepageNums': [1], 'nextPage': 0, 'pageNum': 9, 'pageSize': 20, 'pages': 1, 'prePage': 8, 'queryStrategy': '', 'size': 0, 'startRow': 0, 'total': 14}, 'keyConfig': None, 'languagePassVal': None, 'message': 'SUCCESS'}\n",
      "{'code': 1, 'data': {'endRow': 0, 'glWithdrawAllCollect': None, 'hasNextPage': False, 'hasPreviousPage': True, 'isFirstPage': False, 'isLastPage': False, 'list': [], 'navigateFirstPage': 1, 'navigateLastPage': 1, 'navigatePages': 8, 'navigatepageNums': [1], 'nextPage': 0, 'pageNum': 10, 'pageSize': 20, 'pages': 1, 'prePage': 9, 'queryStrategy': '', 'size': 0, 'startRow': 0, 'total': 14}, 'keyConfig': None, 'languagePassVal': None, 'message': 'SUCCESS'}\n",
      "{'code': 1, 'data': {'endRow': 0, 'glWithdrawAllCollect': None, 'hasNextPage': False, 'hasPreviousPage': True, 'isFirstPage': False, 'isLastPage': False, 'list': [], 'navigateFirstPage': 1, 'navigateLastPage': 1, 'navigatePages': 8, 'navigatepageNums': [1], 'nextPage': 0, 'pageNum': 11, 'pageSize': 20, 'pages': 1, 'prePage': 10, 'queryStrategy': '', 'size': 0, 'startRow': 0, 'total': 14}, 'keyConfig': None, 'languagePassVal': None, 'message': 'SUCCESS'}\n",
      "{'code': 1, 'data': {'endRow': 0, 'glWithdrawAllCollect': None, 'hasNextPage': False, 'hasPreviousPage': True, 'isFirstPage': False, 'isLastPage': False, 'list': [], 'navigateFirstPage': 1, 'navigateLastPage': 1, 'navigatePages': 8, 'navigatepageNums': [1], 'nextPage': 0, 'pageNum': 12, 'pageSize': 20, 'pages': 1, 'prePage': 11, 'queryStrategy': '', 'size': 0, 'startRow': 0, 'total': 14}, 'keyConfig': None, 'languagePassVal': None, 'message': 'SUCCESS'}\n",
      "{'code': 1, 'data': {'endRow': 0, 'glWithdrawAllCollect': None, 'hasNextPage': False, 'hasPreviousPage': True, 'isFirstPage': False, 'isLastPage': False, 'list': [], 'navigateFirstPage': 1, 'navigateLastPage': 1, 'navigatePages': 8, 'navigatepageNums': [1], 'nextPage': 0, 'pageNum': 13, 'pageSize': 20, 'pages': 1, 'prePage': 12, 'queryStrategy': '', 'size': 0, 'startRow': 0, 'total': 14}, 'keyConfig': None, 'languagePassVal': None, 'message': 'SUCCESS'}\n",
      "{'code': 1, 'data': {'endRow': 0, 'glWithdrawAllCollect': None, 'hasNextPage': False, 'hasPreviousPage': True, 'isFirstPage': False, 'isLastPage': False, 'list': [], 'navigateFirstPage': 1, 'navigateLastPage': 1, 'navigatePages': 8, 'navigatepageNums': [1], 'nextPage': 0, 'pageNum': 14, 'pageSize': 20, 'pages': 1, 'prePage': 13, 'queryStrategy': '', 'size': 0, 'startRow': 0, 'total': 14}, 'keyConfig': None, 'languagePassVal': None, 'message': 'SUCCESS'}\n",
      "{'code': 1, 'data': {'endRow': 0, 'glWithdrawAllCollect': None, 'hasNextPage': False, 'hasPreviousPage': True, 'isFirstPage': False, 'isLastPage': False, 'list': [], 'navigateFirstPage': 1, 'navigateLastPage': 1, 'navigatePages': 8, 'navigatepageNums': [1], 'nextPage': 0, 'pageNum': 15, 'pageSize': 20, 'pages': 1, 'prePage': 14, 'queryStrategy': '', 'size': 0, 'startRow': 0, 'total': 14}, 'keyConfig': None, 'languagePassVal': None, 'message': 'SUCCESS'}\n",
      "{'code': 1, 'data': {'endRow': 0, 'glWithdrawAllCollect': None, 'hasNextPage': False, 'hasPreviousPage': True, 'isFirstPage': False, 'isLastPage': False, 'list': [], 'navigateFirstPage': 1, 'navigateLastPage': 1, 'navigatePages': 8, 'navigatepageNums': [1], 'nextPage': 0, 'pageNum': 16, 'pageSize': 20, 'pages': 1, 'prePage': 15, 'queryStrategy': '', 'size': 0, 'startRow': 0, 'total': 14}, 'keyConfig': None, 'languagePassVal': None, 'message': 'SUCCESS'}\n",
      "{'code': 1, 'data': {'endRow': 0, 'glWithdrawAllCollect': None, 'hasNextPage': False, 'hasPreviousPage': True, 'isFirstPage': False, 'isLastPage': False, 'list': [], 'navigateFirstPage': 1, 'navigateLastPage': 1, 'navigatePages': 8, 'navigatepageNums': [1], 'nextPage': 0, 'pageNum': 17, 'pageSize': 20, 'pages': 1, 'prePage': 16, 'queryStrategy': '', 'size': 0, 'startRow': 0, 'total': 14}, 'keyConfig': None, 'languagePassVal': None, 'message': 'SUCCESS'}\n",
      "{'code': 1, 'data': {'endRow': 0, 'glWithdrawAllCollect': None, 'hasNextPage': False, 'hasPreviousPage': True, 'isFirstPage': False, 'isLastPage': False, 'list': [], 'navigateFirstPage': 1, 'navigateLastPage': 1, 'navigatePages': 8, 'navigatepageNums': [1], 'nextPage': 0, 'pageNum': 18, 'pageSize': 20, 'pages': 1, 'prePage': 17, 'queryStrategy': '', 'size': 0, 'startRow': 0, 'total': 14}, 'keyConfig': None, 'languagePassVal': None, 'message': 'SUCCESS'}\n",
      "{'code': 1, 'data': {'endRow': 0, 'glWithdrawAllCollect': None, 'hasNextPage': False, 'hasPreviousPage': True, 'isFirstPage': False, 'isLastPage': False, 'list': [], 'navigateFirstPage': 1, 'navigateLastPage': 1, 'navigatePages': 8, 'navigatepageNums': [1], 'nextPage': 0, 'pageNum': 19, 'pageSize': 20, 'pages': 1, 'prePage': 18, 'queryStrategy': '', 'size': 0, 'startRow': 0, 'total': 14}, 'keyConfig': None, 'languagePassVal': None, 'message': 'SUCCESS'}\n"
     ]
    }
   ],
   "source": [
    "import time\n",
    "import requests\n",
    "import json\n",
    "import telebot\n",
    "import hmac, base64, struct, hashlib\n",
    "submit_url = 'http://fundmng.bsportsadmin.com/api/manage/user/admin/login/submit'\n",
    "header0 = {\n",
    "    'Accept':'application/json, text/plain, */*',\n",
    "    # 'Accept-Encoding':'gzip, deflate',\n",
    "    'Accept-Language':'zh-CN,zh;q=0.9',\n",
    "    'Connection':'keep-alive',\n",
    "    'Content-Length':'48',\n",
    "    'Content-Type':'application/x-www-form-urlencoded',\n",
    "    'Cookie':'admin-uid=690; admin-token=db76bebda5274c80adaadd40bd794f24',\n",
    "    'Device_id':'1.0',\n",
    "    'Gl_version':'2.0',\n",
    "    'Host':'fundmng.bsportsadmin.com',\n",
    "    'Language':'zh_CN',\n",
    "    'Origin':'http://fundmng.bsportsadmin.com',\n",
    "    'Os_type':'0',\n",
    "    'Referer':'http://fundmng.bsportsadmin.com/login',\n",
    "    'Sign':'2bc4c378817f47731f0adf450a627d19',\n",
    "    'Some':'header',\n",
    "    'Systemid':\"\",\n",
    "    'Timestamp':'1692415901000',\n",
    "    'Token':'-1',\n",
    "    'Uid':'-1',\n",
    "    'User-Agent':'Mozilla/5.0 (Windows NT 10.0; Win64; x64) AppleWebKit/537.36 (KHTML, like Gecko) Chrome/116.0.0.0 Safari/537.36',\n",
    "    'Version':'1.0'\n",
    "}\n",
    "def get_google_code(secret):\n",
    "    key = base64.b32decode(secret, True)\n",
    "    msg = struct.pack(\">Q\", int(time.time()) // 30)\n",
    "    google_code = hmac.new(key, msg, hashlib.sha1).digest()\n",
    "    # 很多网上的代码不可用，就在于这儿，没有chr字符串\n",
    "    o = ord(chr(google_code[19])) & 15\n",
    "    # google_code = (struct.unpack(\">I\", google_code[o:o + 4])[0] & 0x7fffffff) % 1000000\n",
    "    google_code = (struct.unpack(\">I\", google_code[o:o + 4])[0] & 0x7fffffff) % 1000000\n",
    "    return '%06d' % google_code\n",
    "\n",
    "# 生成验证码\n",
    "google_code = get_google_code('64ehnxj6yily5bhv23kgb62ozuh6yuu2')\n",
    "data0 = {\n",
    "    'username': 'Marquis',\n",
    "    'password': 'qwer123456',\n",
    "    'code': google_code\n",
    "}\n",
    "session = requests.session()\n",
    "response0  =session.post(url=submit_url,data=data0,headers=header0)\n",
    "response0.encoding = 'utf-8'\n",
    "obj0 = json.loads(response0.text)\n",
    "token = obj0['data']['token']\n",
    "pages = 20\n",
    "now_time = int(time.time())\n",
    "day_time = (now_time - (now_time-time.timezone)%86400)*1000\n",
    "bot_da = telebot.TeleBot('6106076754:AAHjxPSBpyjwpY-lq1iEslUufW46XQvAfr0')\n",
    "#bot_m = telebot.TeleBot(\"6377312623:AAGz3ZSMVswWq0QVlihRPklw8b7skSBP16Y\")\n",
    "\n",
    "url = 'http://fundmng.bsportsadmin.com/api/manage/fund/withdraw/record/list/history'\n",
    "session = requests.session()\n",
    "\n",
    "header = {\n",
    "    # 'Accept': 'application/json, text/plain, */*',\n",
    "    # 'Accept-Encoding':'gzip, deflate',\n",
    "    # 'Accept-Language': 'zh-CN,zh;q=0.9,en-US;q=0.8,en;q=0.7',\n",
    "    # 'Connection': 'keep-alive',\n",
    "    # 'Content-Length': '292',\n",
    "    # 'Content-Type': 'application/x-www-form-urlencoded',\n",
    "    # 'Cookie': 'admin-token=67c8b1bd1b434f898ed8570a860355b8; admin-uid=690',\n",
    "    'Device_id': '1.0',\n",
    "    # 'Gl_version': '2.0',\n",
    "    # 'Host': 'fundmng.bsportsadmin.com',\n",
    "    # 'Language': 'zh_CN',\n",
    "    # 'Menuid': '100504',\n",
    "    # 'Opeartionmenu': '%u8D22%u52A1%u7BA1%u7406-%u63D0%u73B0%u8BA2%u5355%u8BB0%u5F55',\n",
    "    # 'Origin': 'http://fundmng.bsportsadmin.com',\n",
    "    'Os_type': '0',\n",
    "    # 'Referer': 'http://fundmng.bsportsadmin.com/system/financial-management/withdraw-record',\n",
    "    'Sign': '525f286b21988b7c6a79f623f62f9695',\n",
    "    # 'Some': 'header',\n",
    "    # 'Systemid': '50',\n",
    "    'Timestamp': '1691886184000',\n",
    "    'Token': token,\n",
    "    'Uid': '690',\n",
    "    # 'User-Agent': 'Mozilla/5.0 (Windows NT 10.0; Win64; x64) AppleWebKit/537.36 (KHTML, like Gecko) Chrome/115.0.0.0 Safari/537.36',\n",
    "    'Version': '1.0'\n",
    "}\n",
    "\n",
    "dict_orderID = {}\n",
    "\n",
    "for i in range(1, pages):\n",
    "    data = {\n",
    "        'page': i,\n",
    "        'size': 20,\n",
    "        'aisleType': '1,2,3,4',\n",
    "        'vipLevel': '0,1,2,3,4,5,6,7,8,9,10,11',\n",
    "        'dateType': '1',\n",
    "        'withdrawStatus[0]': '0',\n",
    "        'withdrawStatus[1]': '10',\n",
    "        'withdrawStatus[2]': '11',\n",
    "        'withdrawStatus[3]': '16',\n",
    "        'userType': '-1',\n",
    "        'minAmount': 10000,\n",
    "        'coinCode': 'CNY',\n",
    "        'startTime': day_time,\n",
    "        'endTime': 1725206399999\n",
    "    }\n",
    "\n",
    "    response = session.post(url=url, data=data, headers=header,timeout=100)\n",
    "    # print(response.status_code,page)\n",
    "    response.encoding = 'utf-8'\n",
    "\n",
    "    obj = json.loads(response.text)\n",
    "    print(obj)"
   ],
   "metadata": {
    "collapsed": false
   }
  },
  {
   "cell_type": "code",
   "execution_count": 15,
   "outputs": [
    {
     "data": {
      "text/plain": "200"
     },
     "execution_count": 15,
     "metadata": {},
     "output_type": "execute_result"
    },
    {
     "data": {
      "text/plain": "'{\"code\":1,\"data\":{\"jobName\":\"数据组2\",\"creator\":\"icke\",\"lastOperator\":\"ari888\",\"accountType\":0,\"remark\":\"\",\"userId\":690,\"token\":\"1d41086a969d44d0bac66d8f74f3a517\",\"jobId\":29,\"password\":\"e6e407b1edb2cca3def82992c8ef32d9\",\"loginTime\":1692416692000,\"createTime\":1690432575000,\"lastUpdate\":1690618057000,\"status\":0,\"username\":\"Marquis\"},\"keyConfig\":null,\"languagePassVal\":null,\"message\":\"SUCCESS\"}'"
     },
     "execution_count": 15,
     "metadata": {},
     "output_type": "execute_result"
    },
    {
     "data": {
      "text/plain": "'1d41086a969d44d0bac66d8f74f3a517'"
     },
     "execution_count": 15,
     "metadata": {},
     "output_type": "execute_result"
    }
   ],
   "source": [
    "import requests\n",
    "import json\n",
    "init_list_url = 'http://fundmng.bsportsadmin.com/api/manage/system/auth/init/system/list'\n",
    "submit_url = 'http://fundmng.bsportsadmin.com/api/manage/user/admin/login/submit'\n",
    "header = {\n",
    "    'Accept':'application/json, text/plain, */*',\n",
    "    # 'Accept-Encoding':'gzip, deflate',\n",
    "    'Accept-Language':'zh-CN,zh;q=0.9',\n",
    "    'Connection':'keep-alive',\n",
    "    'Content-Length':'48',\n",
    "    'Content-Type':'application/x-www-form-urlencoded',\n",
    "    'Cookie':'admin-uid=690; admin-token=db76bebda5274c80adaadd40bd794f24',\n",
    "    'Device_id':'1.0',\n",
    "    'Gl_version':'2.0',\n",
    "    'Host':'fundmng.bsportsadmin.com',\n",
    "    'Language':'zh_CN',\n",
    "    'Origin':'http://fundmng.bsportsadmin.com',\n",
    "    'Os_type':'0',\n",
    "    'Referer':'http://fundmng.bsportsadmin.com/login',\n",
    "    'Sign':'2bc4c378817f47731f0adf450a627d19',\n",
    "    'Some':'header',\n",
    "    'Systemid':\"\",\n",
    "    'Timestamp':'1692415901000',\n",
    "    'Token':'-1',\n",
    "    'Uid':'-1',\n",
    "    'User-Agent':'Mozilla/5.0 (Windows NT 10.0; Win64; x64) AppleWebKit/537.36 (KHTML, like Gecko) Chrome/116.0.0.0 Safari/537.36',\n",
    "    'Version':'1.0'\n",
    "}\n",
    "data = {\n",
    "    'username': 'Marquis',\n",
    "    'password': 'qwer123456',\n",
    "    'code': '732997'\n",
    "}\n",
    "response  = requests.post(url=submit_url,data=data,headers=header)\n",
    "response.status_code\n",
    "response.encoding = 'utf-8'\n",
    "response.text\n",
    "obj = json.loads(response.text)\n",
    "token = obj['data']['token']\n",
    "token"
   ],
   "metadata": {
    "collapsed": false
   }
  },
  {
   "cell_type": "code",
   "execution_count": 2,
   "outputs": [
    {
     "data": {
      "text/plain": "<telebot.types.Message at 0x1facb6cfe80>"
     },
     "execution_count": 2,
     "metadata": {},
     "output_type": "execute_result"
    }
   ],
   "source": [
    "import telebot\n",
    "import time\n",
    "bot_DA = telebot.TeleBot(\"6106076754:AAHjxPSBpyjwpY-lq1iEslUufW46XQvAfr0\")\n",
    "#bot_m = telebot.TeleBot(\"6377312623:AAGz3ZSMVswWq0QVlihRPklw8b7skSBP16Y\")\n",
    "bot_DA.send_document(-812533282,open(r\"C:\\Users\\User\\Desktop\\SEO\\数据+ip历史.xlsx\",'rb'))\n",
    "bot_DA.send_message(-677235937,time.time())"
   ],
   "metadata": {
    "collapsed": false
   }
  },
  {
   "cell_type": "code",
   "execution_count": 7,
   "outputs": [
    {
     "ename": "WebDriverException",
     "evalue": "Message: unknown error: Chrome failed to start: was killed.\n  (unknown error: DevToolsActivePort file doesn't exist)\n  (The process started from chrome location C:\\Users\\User\\IdeaProjects\\project1\\chromedriver.exe is no longer running, so ChromeDriver is assuming that Chrome has crashed.)\n",
     "output_type": "error",
     "traceback": [
      "\u001B[1;31m---------------------------------------------------------------------------\u001B[0m",
      "\u001B[1;31mWebDriverException\u001B[0m                        Traceback (most recent call last)",
      "Cell \u001B[1;32mIn[7], line 12\u001B[0m\n\u001B[0;32m     10\u001B[0m path \u001B[38;5;241m=\u001B[39m \u001B[38;5;124mr\u001B[39m\u001B[38;5;124m'\u001B[39m\u001B[38;5;124mC:\u001B[39m\u001B[38;5;124m\\\u001B[39m\u001B[38;5;124mUsers\u001B[39m\u001B[38;5;124m\\\u001B[39m\u001B[38;5;124mUser\u001B[39m\u001B[38;5;124m\\\u001B[39m\u001B[38;5;124mIdeaProjects\u001B[39m\u001B[38;5;124m\\\u001B[39m\u001B[38;5;124mproject1\u001B[39m\u001B[38;5;124m\\\u001B[39m\u001B[38;5;124mchromedriver.exe\u001B[39m\u001B[38;5;124m'\u001B[39m\n\u001B[0;32m     11\u001B[0m chrome_options\u001B[38;5;241m.\u001B[39mbinary_location \u001B[38;5;241m=\u001B[39m path\n\u001B[1;32m---> 12\u001B[0m browser \u001B[38;5;241m=\u001B[39m \u001B[43mwebdriver\u001B[49m\u001B[38;5;241;43m.\u001B[39;49m\u001B[43mChrome\u001B[49m\u001B[43m(\u001B[49m\u001B[43moptions\u001B[49m\u001B[38;5;241;43m=\u001B[39;49m\u001B[43mchrome_options\u001B[49m\u001B[43m)\u001B[49m\n\u001B[0;32m     13\u001B[0m browser\u001B[38;5;241m.\u001B[39mget(url_login)\n\u001B[0;32m     14\u001B[0m user_input \u001B[38;5;241m=\u001B[39m browser\u001B[38;5;241m.\u001B[39mfind_element(By\u001B[38;5;241m.\u001B[39mID,\u001B[38;5;124m'\u001B[39m\u001B[38;5;124mlonin_username\u001B[39m\u001B[38;5;124m'\u001B[39m)\n",
      "File \u001B[1;32mC:\\ProgramData\\anaconda3\\envs\\telegram\\lib\\site-packages\\selenium\\webdriver\\chrome\\webdriver.py:76\u001B[0m, in \u001B[0;36mWebDriver.__init__\u001B[1;34m(self, executable_path, port, options, service_args, desired_capabilities, service_log_path, chrome_options, keep_alive)\u001B[0m\n\u001B[0;32m     73\u001B[0m \u001B[38;5;28mself\u001B[39m\u001B[38;5;241m.\u001B[39mservice\u001B[38;5;241m.\u001B[39mstart()\n\u001B[0;32m     75\u001B[0m \u001B[38;5;28;01mtry\u001B[39;00m:\n\u001B[1;32m---> 76\u001B[0m     \u001B[43mRemoteWebDriver\u001B[49m\u001B[38;5;241;43m.\u001B[39;49m\u001B[38;5;21;43m__init__\u001B[39;49m\u001B[43m(\u001B[49m\n\u001B[0;32m     77\u001B[0m \u001B[43m        \u001B[49m\u001B[38;5;28;43mself\u001B[39;49m\u001B[43m,\u001B[49m\n\u001B[0;32m     78\u001B[0m \u001B[43m        \u001B[49m\u001B[43mcommand_executor\u001B[49m\u001B[38;5;241;43m=\u001B[39;49m\u001B[43mChromeRemoteConnection\u001B[49m\u001B[43m(\u001B[49m\n\u001B[0;32m     79\u001B[0m \u001B[43m            \u001B[49m\u001B[43mremote_server_addr\u001B[49m\u001B[38;5;241;43m=\u001B[39;49m\u001B[38;5;28;43mself\u001B[39;49m\u001B[38;5;241;43m.\u001B[39;49m\u001B[43mservice\u001B[49m\u001B[38;5;241;43m.\u001B[39;49m\u001B[43mservice_url\u001B[49m\u001B[43m,\u001B[49m\n\u001B[0;32m     80\u001B[0m \u001B[43m            \u001B[49m\u001B[43mkeep_alive\u001B[49m\u001B[38;5;241;43m=\u001B[39;49m\u001B[43mkeep_alive\u001B[49m\u001B[43m)\u001B[49m\u001B[43m,\u001B[49m\n\u001B[0;32m     81\u001B[0m \u001B[43m        \u001B[49m\u001B[43mdesired_capabilities\u001B[49m\u001B[38;5;241;43m=\u001B[39;49m\u001B[43mdesired_capabilities\u001B[49m\u001B[43m)\u001B[49m\n\u001B[0;32m     82\u001B[0m \u001B[38;5;28;01mexcept\u001B[39;00m \u001B[38;5;167;01mException\u001B[39;00m:\n\u001B[0;32m     83\u001B[0m     \u001B[38;5;28mself\u001B[39m\u001B[38;5;241m.\u001B[39mquit()\n",
      "File \u001B[1;32mC:\\ProgramData\\anaconda3\\envs\\telegram\\lib\\site-packages\\selenium\\webdriver\\remote\\webdriver.py:157\u001B[0m, in \u001B[0;36mWebDriver.__init__\u001B[1;34m(self, command_executor, desired_capabilities, browser_profile, proxy, keep_alive, file_detector, options)\u001B[0m\n\u001B[0;32m    154\u001B[0m \u001B[38;5;28;01mif\u001B[39;00m browser_profile \u001B[38;5;129;01mis\u001B[39;00m \u001B[38;5;129;01mnot\u001B[39;00m \u001B[38;5;28;01mNone\u001B[39;00m:\n\u001B[0;32m    155\u001B[0m     warnings\u001B[38;5;241m.\u001B[39mwarn(\u001B[38;5;124m\"\u001B[39m\u001B[38;5;124mPlease use FirefoxOptions to set browser profile\u001B[39m\u001B[38;5;124m\"\u001B[39m,\n\u001B[0;32m    156\u001B[0m                   \u001B[38;5;167;01mDeprecationWarning\u001B[39;00m, stacklevel\u001B[38;5;241m=\u001B[39m\u001B[38;5;241m2\u001B[39m)\n\u001B[1;32m--> 157\u001B[0m \u001B[38;5;28;43mself\u001B[39;49m\u001B[38;5;241;43m.\u001B[39;49m\u001B[43mstart_session\u001B[49m\u001B[43m(\u001B[49m\u001B[43mcapabilities\u001B[49m\u001B[43m,\u001B[49m\u001B[43m \u001B[49m\u001B[43mbrowser_profile\u001B[49m\u001B[43m)\u001B[49m\n\u001B[0;32m    158\u001B[0m \u001B[38;5;28mself\u001B[39m\u001B[38;5;241m.\u001B[39m_switch_to \u001B[38;5;241m=\u001B[39m SwitchTo(\u001B[38;5;28mself\u001B[39m)\n\u001B[0;32m    159\u001B[0m \u001B[38;5;28mself\u001B[39m\u001B[38;5;241m.\u001B[39m_mobile \u001B[38;5;241m=\u001B[39m Mobile(\u001B[38;5;28mself\u001B[39m)\n",
      "File \u001B[1;32mC:\\ProgramData\\anaconda3\\envs\\telegram\\lib\\site-packages\\selenium\\webdriver\\remote\\webdriver.py:252\u001B[0m, in \u001B[0;36mWebDriver.start_session\u001B[1;34m(self, capabilities, browser_profile)\u001B[0m\n\u001B[0;32m    249\u001B[0m w3c_caps \u001B[38;5;241m=\u001B[39m _make_w3c_caps(capabilities)\n\u001B[0;32m    250\u001B[0m parameters \u001B[38;5;241m=\u001B[39m {\u001B[38;5;124m\"\u001B[39m\u001B[38;5;124mcapabilities\u001B[39m\u001B[38;5;124m\"\u001B[39m: w3c_caps,\n\u001B[0;32m    251\u001B[0m               \u001B[38;5;124m\"\u001B[39m\u001B[38;5;124mdesiredCapabilities\u001B[39m\u001B[38;5;124m\"\u001B[39m: capabilities}\n\u001B[1;32m--> 252\u001B[0m response \u001B[38;5;241m=\u001B[39m \u001B[38;5;28;43mself\u001B[39;49m\u001B[38;5;241;43m.\u001B[39;49m\u001B[43mexecute\u001B[49m\u001B[43m(\u001B[49m\u001B[43mCommand\u001B[49m\u001B[38;5;241;43m.\u001B[39;49m\u001B[43mNEW_SESSION\u001B[49m\u001B[43m,\u001B[49m\u001B[43m \u001B[49m\u001B[43mparameters\u001B[49m\u001B[43m)\u001B[49m\n\u001B[0;32m    253\u001B[0m \u001B[38;5;28;01mif\u001B[39;00m \u001B[38;5;124m'\u001B[39m\u001B[38;5;124msessionId\u001B[39m\u001B[38;5;124m'\u001B[39m \u001B[38;5;129;01mnot\u001B[39;00m \u001B[38;5;129;01min\u001B[39;00m response:\n\u001B[0;32m    254\u001B[0m     response \u001B[38;5;241m=\u001B[39m response[\u001B[38;5;124m'\u001B[39m\u001B[38;5;124mvalue\u001B[39m\u001B[38;5;124m'\u001B[39m]\n",
      "File \u001B[1;32mC:\\ProgramData\\anaconda3\\envs\\telegram\\lib\\site-packages\\selenium\\webdriver\\remote\\webdriver.py:321\u001B[0m, in \u001B[0;36mWebDriver.execute\u001B[1;34m(self, driver_command, params)\u001B[0m\n\u001B[0;32m    319\u001B[0m response \u001B[38;5;241m=\u001B[39m \u001B[38;5;28mself\u001B[39m\u001B[38;5;241m.\u001B[39mcommand_executor\u001B[38;5;241m.\u001B[39mexecute(driver_command, params)\n\u001B[0;32m    320\u001B[0m \u001B[38;5;28;01mif\u001B[39;00m response:\n\u001B[1;32m--> 321\u001B[0m     \u001B[38;5;28;43mself\u001B[39;49m\u001B[38;5;241;43m.\u001B[39;49m\u001B[43merror_handler\u001B[49m\u001B[38;5;241;43m.\u001B[39;49m\u001B[43mcheck_response\u001B[49m\u001B[43m(\u001B[49m\u001B[43mresponse\u001B[49m\u001B[43m)\u001B[49m\n\u001B[0;32m    322\u001B[0m     response[\u001B[38;5;124m'\u001B[39m\u001B[38;5;124mvalue\u001B[39m\u001B[38;5;124m'\u001B[39m] \u001B[38;5;241m=\u001B[39m \u001B[38;5;28mself\u001B[39m\u001B[38;5;241m.\u001B[39m_unwrap_value(\n\u001B[0;32m    323\u001B[0m         response\u001B[38;5;241m.\u001B[39mget(\u001B[38;5;124m'\u001B[39m\u001B[38;5;124mvalue\u001B[39m\u001B[38;5;124m'\u001B[39m, \u001B[38;5;28;01mNone\u001B[39;00m))\n\u001B[0;32m    324\u001B[0m     \u001B[38;5;28;01mreturn\u001B[39;00m response\n",
      "File \u001B[1;32mC:\\ProgramData\\anaconda3\\envs\\telegram\\lib\\site-packages\\selenium\\webdriver\\remote\\errorhandler.py:242\u001B[0m, in \u001B[0;36mErrorHandler.check_response\u001B[1;34m(self, response)\u001B[0m\n\u001B[0;32m    240\u001B[0m         alert_text \u001B[38;5;241m=\u001B[39m value[\u001B[38;5;124m'\u001B[39m\u001B[38;5;124malert\u001B[39m\u001B[38;5;124m'\u001B[39m]\u001B[38;5;241m.\u001B[39mget(\u001B[38;5;124m'\u001B[39m\u001B[38;5;124mtext\u001B[39m\u001B[38;5;124m'\u001B[39m)\n\u001B[0;32m    241\u001B[0m     \u001B[38;5;28;01mraise\u001B[39;00m exception_class(message, screen, stacktrace, alert_text)\n\u001B[1;32m--> 242\u001B[0m \u001B[38;5;28;01mraise\u001B[39;00m exception_class(message, screen, stacktrace)\n",
      "\u001B[1;31mWebDriverException\u001B[0m: Message: unknown error: Chrome failed to start: was killed.\n  (unknown error: DevToolsActivePort file doesn't exist)\n  (The process started from chrome location C:\\Users\\User\\IdeaProjects\\project1\\chromedriver.exe is no longer running, so ChromeDriver is assuming that Chrome has crashed.)\n"
     ]
    }
   ],
   "source": [
    "import requests\n",
    "from selenium import webdriver\n",
    "from selenium.webdriver.chrome.options import Options\n",
    "from selenium.webdriver.common.by import By\n",
    "\n",
    "url_login = 'http://fundmng.bsportsadmin.com/login'\n",
    "chrome_options = Options()\n",
    "chrome_options.add_argument('--headless')\n",
    "chrome_options.add_argument('--disable-gpu')\n",
    "path = r'C:\\Users\\User\\IdeaProjects\\project1\\chromedriver.exe'\n",
    "chrome_options.binary_location = path\n",
    "browser = webdriver.Chrome(options=chrome_options)\n",
    "browser.get(url_login)\n",
    "user_input = browser.find_element(By.ID,'lonin_username')\n",
    "user_input.send_keys('Marquis')\n",
    "pw_input = browser.find_element(By.ID,'lonin_password')\n",
    "pw_input.send_keys('Marquis')\n",
    "code_input = browser.find_element(By.ID,'lonin_code')\n",
    "code_input.send_keys('Marquis')\n",
    "user_input\n",
    "pw_input\n",
    "code_input\n",
    "browser.quit()"
   ],
   "metadata": {
    "collapsed": false
   }
  },
  {
   "cell_type": "code",
   "execution_count": 4,
   "outputs": [],
   "source": [
    "from IPython.core.interactiveshell import InteractiveShell\n",
    "InteractiveShell.ast_node_interactivity = \"all\""
   ],
   "metadata": {
    "collapsed": false
   }
  },
  {
   "cell_type": "code",
   "execution_count": null,
   "outputs": [],
   "source": [
    "import time\n",
    "import requests\n",
    "import json\n",
    "import telebot\n",
    "import jsonpath\n",
    "\n",
    "\n",
    "pages = 20\n",
    "now_time = int(time.time())\n",
    "day_time = (now_time - (now_time-time.timezone)%86400)*1000\n",
    "# bot_da = telebot.TeleBot('6106076754:AAHjxPSBpyjwpY-lq1iEslUufW46XQvAfr0')\n",
    "# bot_m = telebot.TeleBot(\"6377312623:AAGz3ZSMVswWq0QVlihRPklw8b7skSBP16Y\")\n",
    "bot_a = telebot.TeleBot( '6321364690:AAFvTiujKew0Fqi6OfL6awyM5Nx2LscJbVs')\n",
    "\n",
    "url = 'http://fundmng.bsportsadmin.com/api/manage/fund/withdraw/record/list/history'\n",
    "session = requests.session()\n",
    "\n",
    "header = {\n",
    "    'Accept': 'application/json, text/plain, */*',\n",
    "    # 'Accept-Encoding':'gzip, deflate',\n",
    "    'Accept-Language': 'zh-CN,zh;q=0.9,en-US;q=0.8,en;q=0.7',\n",
    "    'Connection': 'keep-alive',\n",
    "    'Content-Length': '292',\n",
    "    'Content-Type': 'application/x-www-form-urlencoded',\n",
    "    'Cookie': 'admin-token=dab7d273580c4138922f8f44392da506; admin-uid=690',\n",
    "    'Device_id': '1.0',\n",
    "    'Gl_version': '2.0',\n",
    "    'Host': 'fundmng.bsportsadmin.com',\n",
    "    'Language': 'zh_CN',\n",
    "    'Menuid': '100504',\n",
    "    'Opeartionmenu': '%u8D22%u52A1%u7BA1%u7406-%u63D0%u73B0%u8BA2%u5355%u8BB0%u5F55',\n",
    "    'Origin': 'http://fundmng.bsportsadmin.com',\n",
    "    'Os_type': '0',\n",
    "    'Referer': 'http://fundmng.bsportsadmin.com/system/financial-management/withdraw-record',\n",
    "    'Sign': '58bed60de7efb957402684857d72aa8a',\n",
    "    'Some': 'header',\n",
    "    'Systemid': '50',\n",
    "    'Timestamp': '1691040206000',\n",
    "    'Token': '42a86cf01d154e859d772aa6c79e481b',\n",
    "    'Uid': '690',\n",
    "    'User-Agent': 'Mozilla/5.0 (Windows NT 10.0; Win64; x64) AppleWebKit/537.36 (KHTML, like Gecko) Chrome/115.0.0.0 Safari/537.36',\n",
    "    'Version': '1.0'\n",
    "}\n",
    "\n",
    "dict_orderID = {}\n",
    "\n",
    "for i in range(1, pages):\n",
    "    data = {\n",
    "        'page': i,\n",
    "        'size': 20,\n",
    "        'aisleType': '1,2,3,4',\n",
    "        'vipLevel': '0,1,2,3,4,5,6,7,8,9,10,11',\n",
    "        'dateType': '1',\n",
    "        'withdrawStatus[0]': '0',\n",
    "        'withdrawStatus[1]': '10',\n",
    "        'withdrawStatus[2]': '11',\n",
    "        'withdrawStatus[3]': '16',\n",
    "        'userType': '-1',\n",
    "        'minAmount': 10000,\n",
    "        'coinCode': 'CNY',\n",
    "        'startTime': day_time,\n",
    "        'endTime': 1725206399999\n",
    "    }\n",
    "\n",
    "    response = session.post(url=url, data=data, headers=header,timeout=100)\n",
    "    # print(response.status_code,page)\n",
    "    response.encoding = 'utf-8'\n",
    "\n",
    "    obj = json.loads(response.text)\n",
    "\n",
    "    for i in obj['data']['list']:\n",
    "        if (i[\"durationEnd\"] == 0) and (i[\"vipLevel\"] > 5) and (now_time - (i[\"createDate\"] // 1000)> 0):\n",
    "            dict_orderID[i[\"orderId\"]] = now_time - (i[\"createDate\"] // 1000)\n",
    "    # print(len(jsonpath.jsonpath(obj,'$..createDate')),jsonpath.jsonpath(obj,'$..createDate'))\n",
    "    # print(len(jsonpath.jsonpath(obj,'$..vipLevel')),jsonpath.jsonpath(obj,'$..vipLevel'))\n",
    "    # print(len(jsonpath.jsonpath(obj,'$..reallyName')),jsonpath.jsonpath(obj,'$..reallyName'))\n",
    "    # print(len(jsonpath.jsonpath(obj,'$..username')),jsonpath.jsonpath(obj,'$..username'))\n",
    "    # print(len(jsonpath.jsonpath(obj,'$..amount')),jsonpath.jsonpath(obj,'$..amount'))\n",
    "    # print(len(jsonpath.jsonpath(obj,'$..orderId')),jsonpath.jsonpath(obj,'$..orderId'))\n",
    "\n",
    "\n",
    "def job():\n",
    "    fp = open('大客户提款预警_word.txt', 'w')\n",
    "    now_current = int(time.time())\n",
    "    day_current = (now_current - (now_time - time.timezone) % 86400) * 1000\n",
    "    sum_ = 0\n",
    "    for page in range(1, 20):\n",
    "        data = {\n",
    "            'page': page,\n",
    "            'size': 20,\n",
    "            'aisleType': '1,2,3,4',\n",
    "            'vipLevel': '0,1,2,3,4,5,6,7,8,9,10,11',\n",
    "            'dateType': '1',\n",
    "            'withdrawStatus[0]': '0',\n",
    "            'withdrawStatus[1]': '10',\n",
    "            'withdrawStatus[2]': '11',\n",
    "            'withdrawStatus[3]': '16',\n",
    "            'userType': '-1',\n",
    "            'minAmount': 10000,\n",
    "            'coinCode': 'CNY',\n",
    "            'startTime': day_current,\n",
    "            'endTime': 1725206399999\n",
    "        }\n",
    "\n",
    "        response = session.post(url=url, data=data, headers=header,timeout=100)\n",
    "        # print(response.status_code,page)\n",
    "        response.encoding = 'utf-8'\n",
    "\n",
    "        obj = json.loads(response.text)\n",
    "\n",
    "        for i in obj['data']['list']:\n",
    "            if (i[\"durationEnd\"] == 0) and (i[\"vipLevel\"] > 5) and (now_current - (i[\"createDate\"] // 1000) > 0):\n",
    "                try:\n",
    "                    print([i[\"vipLevel\"], i[\"reallyName\"], i['username'], '金额:{}'.format(int(i[\"amount\"])),\n",
    "                           '风控审核时间：'+str((divmod((now_current * 1000) - i[\"riskApvTime\"], 60000))[0]) + '分钟',\n",
    "                           '总耗时：' + str((divmod((now_current * 1000) - i[\"createDate\"], 60000))[0]) + '分钟',\n",
    "                           '提现单号'+i[\"orderId\"]])\n",
    "                except:\n",
    "                    print([i[\"vipLevel\"], i[\"reallyName\"], i['username'], '金额:{}'.format(int(i[\"amount\"])),\n",
    "                           '风控审核时间：无',\n",
    "                           '总耗时：' + str((divmod((now_current * 1000) - i[\"createDate\"], 60000))[0]) + '分钟',\n",
    "                           '提现单号' + i[\"orderId\"]])\n",
    "                if i[\"orderId\"] in dict_orderID:\n",
    "                    if ((now_current - (i[\"createDate\"] // 1000)) - dict_orderID[i[\"orderId\"]]) >= 600:\n",
    "                        # '\\033[1m粗体文本\\033[0m'\n",
    "                        fp.write(f'会员等级：{i[\"vipLevel\"]}\\n')\n",
    "                        try:\n",
    "                            fp.write(f'姓名：{i[\"reallyName\"]}\\n')\n",
    "                        except:\n",
    "                            fp.write(f'姓名：{\"未核实\"}\\n')\n",
    "                        fp.write(f'账号：{i[\"username\"]}\\n')\n",
    "                        fp.write(f'金额：{i[\"amount\"]}\\n')\n",
    "                        fp.write(f'提现单号：{i[\"orderId\"]}\\n')\n",
    "                        fp.write(f'状态：{\"风险审核通过\"}\\n')\n",
    "                        try:\n",
    "                            fp.write(f'出款耗时：{divmod((now_current * 1000) - i[\"riskApvTime\"], 60000)[0]}{\"分钟\"}\\n')\n",
    "                        except:\n",
    "                            fp.write(f'出款耗时：{\"无\"}\\n')\n",
    "                        fp.write(\n",
    "                            f'总耗时：{divmod((now_current * 1000) - i[\"createDate\"], 60000)[0]}{\"分钟\"}\\n')\n",
    "                        fp.write('-------------------------------------\\n')\n",
    "                        sum_ += 1\n",
    "                        dict_orderID[i[\"orderId\"]] = now_current - (i[\"createDate\"] // 1000)\n",
    "                else:\n",
    "                    dict_orderID[i[\"orderId\"]] = now_current - (i[\"createDate\"] // 1000)\n",
    "                    fp.write(f'会员等级：{i[\"vipLevel\"]}\\n')\n",
    "                    try:\n",
    "                        fp.write(f'姓名：{i[\"reallyName\"]}\\n')\n",
    "                    except:\n",
    "                        fp.write(f'姓名：{\"未核实\"}\\n')\n",
    "                    fp.write(f'账号：{i[\"username\"]}\\n')\n",
    "                    fp.write(f'金额：{i[\"amount\"]}\\n')\n",
    "                    fp.write(f'提现单号：{i[\"orderId\"]}\\n')\n",
    "                    fp.write(f'状态：{\"风险审核通过\"}\\n')\n",
    "                    try:\n",
    "                        fp.write(f'出款耗时：{divmod((now_current * 1000) - i[\"riskApvTime\"], 60000)[0]}{\"分钟\"}\\n')\n",
    "                    except:\n",
    "                        fp.write(f'出款耗时：{\"无\"}\\n')\n",
    "                    fp.write(f'总耗时：{divmod((now_current * 1000) - i[\"createDate\"], 60000)[0]}{\"分钟\"}\\n')\n",
    "                    fp.write('-------------------------------------\\n')\n",
    "                    sum_ += 1\n",
    "\n",
    "    print(f'当前时间：{time.strftime(\"%H:%M:%S\",time.localtime())}')\n",
    "    print('字典人数: '+str(len(dict_orderID)))\n",
    "    print(dict_orderID)\n",
    "    print(f'sum_: {sum_}')\n",
    "    if sum_ > 0:\n",
    "        fp.write(f'总计：{sum_}')\n",
    "        fp.close()\n",
    "        r_fp = open('大客户提款预警_word.txt', 'r')\n",
    "\n",
    "        bot_m.send_message(-677235937, '姓名、账号、提款金额、提款时间已超出60分钟请协助推进！')\n",
    "        bot_m.send_message(-677235937, r_fp.read())\n",
    "        # bot_da.send_message(-677235937, '姓名、账号、提款金额、提款时间已超出60分钟请协助推进！')\n",
    "        # bot_da.send_message(-677235937, r_fp.read())\n",
    "        r_fp.close()\n",
    "    else:\n",
    "        bot_m.send_message(-677235937, '大客户提款预警当前无数据：'+time.strftime('%H:%M:%S',time.localtime()))\n",
    "        print('大客户提款预警当前无数据：'+time.strftime('%H:%M:%S',time.localtime()))\n",
    "\n",
    "\n",
    "def loop():\n",
    "    while 1:\n",
    "        job()\n",
    "        time.sleep(300)\n",
    "if __name__ == '__main__':\n",
    "    loop()"
   ],
   "metadata": {
    "collapsed": false
   }
  },
  {
   "cell_type": "code",
   "execution_count": 2,
   "outputs": [
    {
     "data": {
      "text/plain": "<telebot.types.Message at 0x2531391d7c0>"
     },
     "execution_count": 2,
     "metadata": {},
     "output_type": "execute_result"
    }
   ],
   "source": [
    "import telebot\n",
    "bot_a = telebot.TeleBot( '6321364690:AAFvTiujKew0Fqi6OfL6awyM5Nx2LscJbVs')\n",
    "bot_a.send_message(-677235937,'token2,test')"
   ],
   "metadata": {
    "collapsed": false
   }
  },
  {
   "cell_type": "code",
   "execution_count": 4,
   "outputs": [
    {
     "ename": "AttributeError",
     "evalue": "module 'telegram' has no attribute 'Bot'",
     "output_type": "error",
     "traceback": [
      "\u001B[1;31m---------------------------------------------------------------------------\u001B[0m",
      "\u001B[1;31mAttributeError\u001B[0m                            Traceback (most recent call last)",
      "Cell \u001B[1;32mIn[4], line 3\u001B[0m\n\u001B[0;32m      1\u001B[0m \u001B[38;5;28;01mimport\u001B[39;00m \u001B[38;5;21;01mtelegram\u001B[39;00m\n\u001B[0;32m      2\u001B[0m \u001B[38;5;66;03m# 获取最新的消息\u001B[39;00m\n\u001B[1;32m----> 3\u001B[0m bot \u001B[38;5;241m=\u001B[39m \u001B[43mtelegram\u001B[49m\u001B[38;5;241;43m.\u001B[39;49m\u001B[43mBot\u001B[49m(\u001B[38;5;124m\"\u001B[39m\u001B[38;5;124m6377312623:AAGz3ZSMVswWq0QVlihRPklw8b7skSBP16Y\u001B[39m\u001B[38;5;124m\"\u001B[39m)\n\u001B[0;32m      4\u001B[0m updates \u001B[38;5;241m=\u001B[39m bot\u001B[38;5;241m.\u001B[39mgetUpdates()\n\u001B[0;32m      6\u001B[0m \u001B[38;5;66;03m# 打印消息的chat_id\u001B[39;00m\n",
      "\u001B[1;31mAttributeError\u001B[0m: module 'telegram' has no attribute 'Bot'"
     ]
    }
   ],
   "source": [
    "import telegram\n",
    "# 获取最新的消息\n",
    "bot = telegram.Bot(\"6377312623:AAGz3ZSMVswWq0QVlihRPklw8b7skSBP16Y\")\n",
    "updates = bot.getUpdates()\n",
    "\n",
    "# 打印消息的chat_id\n",
    "for update in updates:\n",
    "    chat_id = update.message.chat_id\n",
    "    print(chat_id)"
   ],
   "metadata": {
    "collapsed": false
   }
  },
  {
   "cell_type": "code",
   "execution_count": 2,
   "outputs": [
    {
     "data": {
      "text/plain": "<telebot.types.Message at 0x281450a6460>"
     },
     "execution_count": 2,
     "metadata": {},
     "output_type": "execute_result"
    }
   ],
   "source": [
    "import telebot\n",
    "bot_m = telebot.TeleBot(\"6377312623:AAGz3ZSMVswWq0QVlihRPklw8b7skSBP16Y\")\n",
    "bot_m.send_document(-677235937, open(r'C:\\Users\\User\\Desktop\\SEO\\数据+ip历史.xlsx','rb'))"
   ],
   "metadata": {
    "collapsed": false
   }
  },
  {
   "cell_type": "code",
   "execution_count": 5,
   "outputs": [
    {
     "ename": "AttributeError",
     "evalue": "'TeleBot' object has no attribute 'getChat'",
     "output_type": "error",
     "traceback": [
      "\u001B[1;31m---------------------------------------------------------------------------\u001B[0m",
      "\u001B[1;31mAttributeError\u001B[0m                            Traceback (most recent call last)",
      "Cell \u001B[1;32mIn[5], line 3\u001B[0m\n\u001B[0;32m      1\u001B[0m \u001B[38;5;28;01mimport\u001B[39;00m \u001B[38;5;21;01mtelebot\u001B[39;00m\n\u001B[0;32m      2\u001B[0m bot \u001B[38;5;241m=\u001B[39m telebot\u001B[38;5;241m.\u001B[39mTeleBot(\u001B[38;5;124m\"\u001B[39m\u001B[38;5;124m6377312623:AAGz3ZSMVswWq0QVlihRPklw8b7skSBP16Y\u001B[39m\u001B[38;5;124m\"\u001B[39m)\n\u001B[1;32m----> 3\u001B[0m chat \u001B[38;5;241m=\u001B[39m \u001B[43mbot\u001B[49m\u001B[38;5;241;43m.\u001B[39;49m\u001B[43mgetChat\u001B[49m(chat_id\u001B[38;5;241m=\u001B[39m\u001B[38;5;124m'\u001B[39m\u001B[38;5;124mseo测试群\u001B[39m\u001B[38;5;124m'\u001B[39m)\n\u001B[0;32m      4\u001B[0m chat\u001B[38;5;241m.\u001B[39mid\n",
      "\u001B[1;31mAttributeError\u001B[0m: 'TeleBot' object has no attribute 'getChat'"
     ]
    }
   ],
   "source": [
    "import telebot\n",
    "bot = telebot.TeleBot(\"6377312623:AAGz3ZSMVswWq0QVlihRPklw8b7skSBP16Y\")\n",
    "chat = bot.getChat(chat_id='seo测试群')\n",
    "chat.id"
   ],
   "metadata": {
    "collapsed": false
   }
  },
  {
   "cell_type": "code",
   "execution_count": 7,
   "outputs": [
    {
     "data": {
      "text/plain": "<telebot.types.Message at 0x2814992d670>"
     },
     "execution_count": 7,
     "metadata": {},
     "output_type": "execute_result"
    }
   ],
   "source": [
    "\n",
    "import telebot\n",
    "bot_DA = telebot.TeleBot(\"6106076754:AAHjxPSBpyjwpY-lq1iEslUufW46XQvAfr0\")\n",
    "bot_m = telebot.TeleBot(\"6377312623:AAGz3ZSMVswWq0QVlihRPklw8b7skSBP16Y\")\n",
    "bot_DA.send_message(-812533282,'seo测试')"
   ],
   "metadata": {
    "collapsed": false
   }
  },
  {
   "cell_type": "code",
   "execution_count": null,
   "outputs": [],
   "source": [
    "from IPython.core.interactiveshell import InteractiveShell\n",
    "InteractiveShell.ast_node_interactivity = 'all'"
   ],
   "metadata": {
    "collapsed": false,
    "pycharm": {
     "is_executing": true
    }
   }
  },
  {
   "cell_type": "code",
   "execution_count": 3,
   "outputs": [
    {
     "name": "stderr",
     "output_type": "stream",
     "text": [
      "C:\\ProgramData\\anaconda3\\envs\\telegram\\lib\\site-packages\\openpyxl\\styles\\stylesheet.py:226: UserWarning: Workbook contains no default style, apply openpyxl's default\n",
      "  warn(\"Workbook contains no default style, apply openpyxl's default\")\n"
     ]
    },
    {
     "data": {
      "text/plain": "               日期     人员2   发送IP  接受IP  对比昨天(总IP)  对比前3天均值(总IP)  对比前5天均值(总IP)  \\\n人员                                                                              \nPaddy  2023-08-07   paddy      0    51          0             0             0   \nTony   2023-08-07    tony    568  1136          0             0             0   \nMax    2023-08-07     max    273   225          0             0             0   \nMartin 2023-08-07  martin   3445  1072          0             0             0   \nZed    2023-08-07     zed   4853   329          0             0             0   \nHugo   2023-08-07    hugo    103     0          0             0             0   \nAber   2023-08-07    aber   7325   562          0             0             0   \nDK     2023-08-07      dk   1525  2160          0             0             0   \nBen    2023-08-07     ben   2565   298          0             0             0   \n当日汇总   2023-08-07    当日汇总  20657  5833          0             0             0   \n\n        对比前7天均值(总IP)  对比昨天(总注册)  对比前3天均值(总注册)  对比前5天均值(总注册)  对比前7天均值(总注册)  \\\n人员                                                                          \nPaddy              0          0             0             0             0   \nTony               0          0             0             0             0   \nMax                0          0             0             0             0   \nMartin             0          0             0             0             0   \nZed                0          0             0             0             0   \nHugo               0          0             0             0             0   \nAber               0          0             0             0             0   \nDK                 0          0             0             0             0   \nBen                0          0             0             0             0   \n当日汇总               0          0             0             0             0   \n\n        对比昨天(总开户)  对比前3天均值(总开户)  对比前5天均值(总开户)  对比前7天均值(总开户)  \n人员                                                           \nPaddy           0             0             0             0  \nTony            0             0             0             0  \nMax             0             0             0             0  \nMartin          0             0             0             0  \nZed             0             0             0             0  \nHugo            0             0             0             0  \nAber            0             0             0             0  \nDK              0             0             0             0  \nBen             0             0             0             0  \n当日汇总            0             0             0             0  ",
      "text/html": "<div>\n<style scoped>\n    .dataframe tbody tr th:only-of-type {\n        vertical-align: middle;\n    }\n\n    .dataframe tbody tr th {\n        vertical-align: top;\n    }\n\n    .dataframe thead th {\n        text-align: right;\n    }\n</style>\n<table border=\"1\" class=\"dataframe\">\n  <thead>\n    <tr style=\"text-align: right;\">\n      <th></th>\n      <th>日期</th>\n      <th>人员2</th>\n      <th>发送IP</th>\n      <th>接受IP</th>\n      <th>对比昨天(总IP)</th>\n      <th>对比前3天均值(总IP)</th>\n      <th>对比前5天均值(总IP)</th>\n      <th>对比前7天均值(总IP)</th>\n      <th>对比昨天(总注册)</th>\n      <th>对比前3天均值(总注册)</th>\n      <th>对比前5天均值(总注册)</th>\n      <th>对比前7天均值(总注册)</th>\n      <th>对比昨天(总开户)</th>\n      <th>对比前3天均值(总开户)</th>\n      <th>对比前5天均值(总开户)</th>\n      <th>对比前7天均值(总开户)</th>\n    </tr>\n    <tr>\n      <th>人员</th>\n      <th></th>\n      <th></th>\n      <th></th>\n      <th></th>\n      <th></th>\n      <th></th>\n      <th></th>\n      <th></th>\n      <th></th>\n      <th></th>\n      <th></th>\n      <th></th>\n      <th></th>\n      <th></th>\n      <th></th>\n      <th></th>\n    </tr>\n  </thead>\n  <tbody>\n    <tr>\n      <th>Paddy</th>\n      <td>2023-08-07</td>\n      <td>paddy</td>\n      <td>0</td>\n      <td>51</td>\n      <td>0</td>\n      <td>0</td>\n      <td>0</td>\n      <td>0</td>\n      <td>0</td>\n      <td>0</td>\n      <td>0</td>\n      <td>0</td>\n      <td>0</td>\n      <td>0</td>\n      <td>0</td>\n      <td>0</td>\n    </tr>\n    <tr>\n      <th>Tony</th>\n      <td>2023-08-07</td>\n      <td>tony</td>\n      <td>568</td>\n      <td>1136</td>\n      <td>0</td>\n      <td>0</td>\n      <td>0</td>\n      <td>0</td>\n      <td>0</td>\n      <td>0</td>\n      <td>0</td>\n      <td>0</td>\n      <td>0</td>\n      <td>0</td>\n      <td>0</td>\n      <td>0</td>\n    </tr>\n    <tr>\n      <th>Max</th>\n      <td>2023-08-07</td>\n      <td>max</td>\n      <td>273</td>\n      <td>225</td>\n      <td>0</td>\n      <td>0</td>\n      <td>0</td>\n      <td>0</td>\n      <td>0</td>\n      <td>0</td>\n      <td>0</td>\n      <td>0</td>\n      <td>0</td>\n      <td>0</td>\n      <td>0</td>\n      <td>0</td>\n    </tr>\n    <tr>\n      <th>Martin</th>\n      <td>2023-08-07</td>\n      <td>martin</td>\n      <td>3445</td>\n      <td>1072</td>\n      <td>0</td>\n      <td>0</td>\n      <td>0</td>\n      <td>0</td>\n      <td>0</td>\n      <td>0</td>\n      <td>0</td>\n      <td>0</td>\n      <td>0</td>\n      <td>0</td>\n      <td>0</td>\n      <td>0</td>\n    </tr>\n    <tr>\n      <th>Zed</th>\n      <td>2023-08-07</td>\n      <td>zed</td>\n      <td>4853</td>\n      <td>329</td>\n      <td>0</td>\n      <td>0</td>\n      <td>0</td>\n      <td>0</td>\n      <td>0</td>\n      <td>0</td>\n      <td>0</td>\n      <td>0</td>\n      <td>0</td>\n      <td>0</td>\n      <td>0</td>\n      <td>0</td>\n    </tr>\n    <tr>\n      <th>Hugo</th>\n      <td>2023-08-07</td>\n      <td>hugo</td>\n      <td>103</td>\n      <td>0</td>\n      <td>0</td>\n      <td>0</td>\n      <td>0</td>\n      <td>0</td>\n      <td>0</td>\n      <td>0</td>\n      <td>0</td>\n      <td>0</td>\n      <td>0</td>\n      <td>0</td>\n      <td>0</td>\n      <td>0</td>\n    </tr>\n    <tr>\n      <th>Aber</th>\n      <td>2023-08-07</td>\n      <td>aber</td>\n      <td>7325</td>\n      <td>562</td>\n      <td>0</td>\n      <td>0</td>\n      <td>0</td>\n      <td>0</td>\n      <td>0</td>\n      <td>0</td>\n      <td>0</td>\n      <td>0</td>\n      <td>0</td>\n      <td>0</td>\n      <td>0</td>\n      <td>0</td>\n    </tr>\n    <tr>\n      <th>DK</th>\n      <td>2023-08-07</td>\n      <td>dk</td>\n      <td>1525</td>\n      <td>2160</td>\n      <td>0</td>\n      <td>0</td>\n      <td>0</td>\n      <td>0</td>\n      <td>0</td>\n      <td>0</td>\n      <td>0</td>\n      <td>0</td>\n      <td>0</td>\n      <td>0</td>\n      <td>0</td>\n      <td>0</td>\n    </tr>\n    <tr>\n      <th>Ben</th>\n      <td>2023-08-07</td>\n      <td>ben</td>\n      <td>2565</td>\n      <td>298</td>\n      <td>0</td>\n      <td>0</td>\n      <td>0</td>\n      <td>0</td>\n      <td>0</td>\n      <td>0</td>\n      <td>0</td>\n      <td>0</td>\n      <td>0</td>\n      <td>0</td>\n      <td>0</td>\n      <td>0</td>\n    </tr>\n    <tr>\n      <th>当日汇总</th>\n      <td>2023-08-07</td>\n      <td>当日汇总</td>\n      <td>20657</td>\n      <td>5833</td>\n      <td>0</td>\n      <td>0</td>\n      <td>0</td>\n      <td>0</td>\n      <td>0</td>\n      <td>0</td>\n      <td>0</td>\n      <td>0</td>\n      <td>0</td>\n      <td>0</td>\n      <td>0</td>\n      <td>0</td>\n    </tr>\n  </tbody>\n</table>\n</div>"
     },
     "execution_count": 3,
     "metadata": {},
     "output_type": "execute_result"
    }
   ],
   "source": [
    "import pandas as pd\n",
    "import numpy as np\n",
    "import datetime\n",
    "pd.set_option('display.max_colwidth', None) #显示单元格完整信息\n",
    "pd.set_option('display.max_columns', None)\n",
    "pd.set_option('display.max_rows', None)\n",
    "\n",
    "user = pd.read_csv(r'C:\\Users\\User\\Desktop\\SEO_0807\\会员列表导出.csv',encoding='gbk')\n",
    "firChargeUser = pd.read_csv(r'C:\\Users\\User\\Desktop\\SEO_0807\\会员首存报表.csv',encoding='gbk')\n",
    "data = pd.read_excel(r'C:\\Users\\User\\Desktop\\SEO_0807\\data\\今日数据.xlsx')\n",
    "daili = pd.read_excel(r'C:\\Users\\User\\Desktop\\SEO_0807\\SEO每日模板-每日更新.xlsx','代理总表')\n",
    "\n",
    "shuju = pd.DataFrame({'人员':['Paddy', 'Tony', 'Max', 'Martin', 'Zed', 'Hugo', 'Aber', 'DK', 'Ben','当日汇总'],\n",
    "                      '日期':(datetime.datetime.now()+datetime.timedelta(days=-3)).strftime('%Y/%m/%d'),\n",
    "                      '发送IP':0,\n",
    "                      '接受IP':0,\n",
    "                      '对比昨天(总IP)':0,\n",
    "                      '对比前3天均值(总IP)':0,\n",
    "                      '对比前5天均值(总IP)':0,\n",
    "                      '对比前7天均值(总IP)':0,\n",
    "                      '对比昨天(总注册)':0,\n",
    "                      '对比前3天均值(总注册)':0,\n",
    "                      '对比前5天均值(总注册)':0,\n",
    "                      '对比前7天均值(总注册)':0,\n",
    "                      '对比昨天(总开户)':0,\n",
    "                      '对比前3天均值(总开户)':0,\n",
    "                      '对比前5天均值(总开户)':0,\n",
    "                      '对比前7天均值(总开户)':0})\n",
    "\n",
    "shuju.set_index('人员',inplace = True)\n",
    "\n",
    "data['IP']=pd.to_numeric(data['IP'],errors='coerce').replace(np.nan,0).astype('int64')\n",
    "grp=data.groupby('网站名(domain)').agg({'IP':sum})\n",
    "\n",
    "shuju.loc['Paddy','发送IP']=grp.loc['paddy.com','IP']\n",
    "shuju.loc['Paddy','接受IP']=grp.loc['paddy.bty','IP']\n",
    "shuju.loc['Tony','发送IP']=grp.loc['tonyb.com','IP']/2\n",
    "shuju.loc['Tony','接受IP']=grp.loc['tonyb.com','IP']\n",
    "shuju.loc['Max','发送IP']=grp.loc['mulu.com','IP']\n",
    "shuju.loc['Max','接受IP']=grp.loc['max.bty','IP']\n",
    "shuju.loc['Martin','发送IP']=grp.loc['redquan.com','IP']\n",
    "shuju.loc['Martin','接受IP']=grp.loc['martin.bty','IP']\n",
    "shuju.loc['Zed','发送IP']=grp.loc['zed.com','IP']\n",
    "shuju.loc['Zed','接受IP']=grp.loc['zed.bty','IP']\n",
    "shuju.loc['Hugo','发送IP']=grp.loc['hugo.com','IP']\n",
    "# shuju.loc['Hugo','接受IP']=grp.loc['hugo.bty','IP']\n",
    "shuju.loc['Hugo','接受IP']=0\n",
    "\n",
    "shuju.loc['Aber','发送IP']=grp.loc['aber.com','IP']/2\n",
    "shuju.loc['Aber','接受IP']=grp.loc['aber.bty','IP']\n",
    "shuju.loc['DK','发送IP']=grp.loc['dk.com','IP']/2\n",
    "shuju.loc['DK','接受IP']=grp.loc['dk.bty','IP']\n",
    "shuju.loc['Ben','发送IP']=grp.loc['ben.com','IP']/2\n",
    "shuju.loc['Ben','接受IP']=grp.loc['ben.bty','IP']\n",
    "shuju.loc['当日汇总','发送IP']=shuju['发送IP'].sum()\n",
    "shuju.loc['当日汇总','接受IP']=shuju['接受IP'].sum()\n",
    "\n",
    "shuju['日期'] = pd.to_datetime(shuju['日期'])\n",
    "shuju.insert(1,'人员2',shuju.index)\n",
    "shuju['人员2']=shuju['人员2'].str.lower()\n",
    "\n",
    "shuju"
   ],
   "metadata": {
    "collapsed": false
   }
  },
  {
   "cell_type": "code",
   "execution_count": 4,
   "outputs": [
    {
     "data": {
      "text/plain": "            注册        人员2\nseo变化数据团队                \n178直播        3      178直播\nAdmin邀请      2    admin邀请\nCyrus        2      cyrus\nDK          52         dk\nGT-B直播      16     gt-b直播\nGT-越南线       2     gt-越南线\nGT-骨头       63      gt-骨头\nMM           1         mm\nSEO掉线用户转线    8  seo掉线用户转线\nSEO邀请       44      seo邀请\nSOCO越南直播    96   soco越南直播\naber        49       aber\nben         17        ben\nduobo        1      duobo\nhugo        16       hugo\nkk6699       2     kk6699\nmartin      81     martin\nmax          9        max\npaddy        3      paddy\nseo转线        4      seo转线\ntony        15       tony\nzed         22        zed\n原电销使用        3      原电销使用\n外代-越        13       外代-越\n外部代理总线     179     外部代理总线\n官网         114         官网\n小Peter       3     小peter\n小Peter越南线    1  小peter越南线\n技术测试         2       技术测试\n斌哥           1         斌哥\n电销拉回专用       2     电销拉回专用\n真实数据测试账号     1   真实数据测试账号\n米乐转线         3       米乐转线\n袋鼠           1         袋鼠\n酷币           1         酷币\n雨燕直播        32       雨燕直播\n雨燕直播-越     346     雨燕直播-越\n飞哥雨燕直播     117     飞哥雨燕直播\n鲲鹏admin     13    鲲鹏admin",
      "text/html": "<div>\n<style scoped>\n    .dataframe tbody tr th:only-of-type {\n        vertical-align: middle;\n    }\n\n    .dataframe tbody tr th {\n        vertical-align: top;\n    }\n\n    .dataframe thead th {\n        text-align: right;\n    }\n</style>\n<table border=\"1\" class=\"dataframe\">\n  <thead>\n    <tr style=\"text-align: right;\">\n      <th></th>\n      <th>注册</th>\n      <th>人员2</th>\n    </tr>\n    <tr>\n      <th>seo变化数据团队</th>\n      <th></th>\n      <th></th>\n    </tr>\n  </thead>\n  <tbody>\n    <tr>\n      <th>178直播</th>\n      <td>3</td>\n      <td>178直播</td>\n    </tr>\n    <tr>\n      <th>Admin邀请</th>\n      <td>2</td>\n      <td>admin邀请</td>\n    </tr>\n    <tr>\n      <th>Cyrus</th>\n      <td>2</td>\n      <td>cyrus</td>\n    </tr>\n    <tr>\n      <th>DK</th>\n      <td>52</td>\n      <td>dk</td>\n    </tr>\n    <tr>\n      <th>GT-B直播</th>\n      <td>16</td>\n      <td>gt-b直播</td>\n    </tr>\n    <tr>\n      <th>GT-越南线</th>\n      <td>2</td>\n      <td>gt-越南线</td>\n    </tr>\n    <tr>\n      <th>GT-骨头</th>\n      <td>63</td>\n      <td>gt-骨头</td>\n    </tr>\n    <tr>\n      <th>MM</th>\n      <td>1</td>\n      <td>mm</td>\n    </tr>\n    <tr>\n      <th>SEO掉线用户转线</th>\n      <td>8</td>\n      <td>seo掉线用户转线</td>\n    </tr>\n    <tr>\n      <th>SEO邀请</th>\n      <td>44</td>\n      <td>seo邀请</td>\n    </tr>\n    <tr>\n      <th>SOCO越南直播</th>\n      <td>96</td>\n      <td>soco越南直播</td>\n    </tr>\n    <tr>\n      <th>aber</th>\n      <td>49</td>\n      <td>aber</td>\n    </tr>\n    <tr>\n      <th>ben</th>\n      <td>17</td>\n      <td>ben</td>\n    </tr>\n    <tr>\n      <th>duobo</th>\n      <td>1</td>\n      <td>duobo</td>\n    </tr>\n    <tr>\n      <th>hugo</th>\n      <td>16</td>\n      <td>hugo</td>\n    </tr>\n    <tr>\n      <th>kk6699</th>\n      <td>2</td>\n      <td>kk6699</td>\n    </tr>\n    <tr>\n      <th>martin</th>\n      <td>81</td>\n      <td>martin</td>\n    </tr>\n    <tr>\n      <th>max</th>\n      <td>9</td>\n      <td>max</td>\n    </tr>\n    <tr>\n      <th>paddy</th>\n      <td>3</td>\n      <td>paddy</td>\n    </tr>\n    <tr>\n      <th>seo转线</th>\n      <td>4</td>\n      <td>seo转线</td>\n    </tr>\n    <tr>\n      <th>tony</th>\n      <td>15</td>\n      <td>tony</td>\n    </tr>\n    <tr>\n      <th>zed</th>\n      <td>22</td>\n      <td>zed</td>\n    </tr>\n    <tr>\n      <th>原电销使用</th>\n      <td>3</td>\n      <td>原电销使用</td>\n    </tr>\n    <tr>\n      <th>外代-越</th>\n      <td>13</td>\n      <td>外代-越</td>\n    </tr>\n    <tr>\n      <th>外部代理总线</th>\n      <td>179</td>\n      <td>外部代理总线</td>\n    </tr>\n    <tr>\n      <th>官网</th>\n      <td>114</td>\n      <td>官网</td>\n    </tr>\n    <tr>\n      <th>小Peter</th>\n      <td>3</td>\n      <td>小peter</td>\n    </tr>\n    <tr>\n      <th>小Peter越南线</th>\n      <td>1</td>\n      <td>小peter越南线</td>\n    </tr>\n    <tr>\n      <th>技术测试</th>\n      <td>2</td>\n      <td>技术测试</td>\n    </tr>\n    <tr>\n      <th>斌哥</th>\n      <td>1</td>\n      <td>斌哥</td>\n    </tr>\n    <tr>\n      <th>电销拉回专用</th>\n      <td>2</td>\n      <td>电销拉回专用</td>\n    </tr>\n    <tr>\n      <th>真实数据测试账号</th>\n      <td>1</td>\n      <td>真实数据测试账号</td>\n    </tr>\n    <tr>\n      <th>米乐转线</th>\n      <td>3</td>\n      <td>米乐转线</td>\n    </tr>\n    <tr>\n      <th>袋鼠</th>\n      <td>1</td>\n      <td>袋鼠</td>\n    </tr>\n    <tr>\n      <th>酷币</th>\n      <td>1</td>\n      <td>酷币</td>\n    </tr>\n    <tr>\n      <th>雨燕直播</th>\n      <td>32</td>\n      <td>雨燕直播</td>\n    </tr>\n    <tr>\n      <th>雨燕直播-越</th>\n      <td>346</td>\n      <td>雨燕直播-越</td>\n    </tr>\n    <tr>\n      <th>飞哥雨燕直播</th>\n      <td>117</td>\n      <td>飞哥雨燕直播</td>\n    </tr>\n    <tr>\n      <th>鲲鹏admin</th>\n      <td>13</td>\n      <td>鲲鹏admin</td>\n    </tr>\n  </tbody>\n</table>\n</div>"
     },
     "execution_count": 4,
     "metadata": {},
     "output_type": "execute_result"
    }
   ],
   "source": [
    "# 第1次merge前，重置索引\n",
    "shuju.reset_index(inplace=True)\n",
    "\n",
    "merge_user = pd.merge(user,daili,how = 'left',left_on='代理',right_on='代理线')\n",
    "grpSEO = merge_user.groupby('seo变化数据团队').agg({'seo变化数据团队':len})\n",
    "grpSEO.rename(columns={'seo变化数据团队':'注册'},inplace=True)\n",
    "grpSEO.reset_index(inplace=True)\n",
    "grpSEO['人员2'] = grpSEO['seo变化数据团队'].str.lower()\n",
    "grpSEO.set_index('seo变化数据团队',inplace=True)\n",
    "grpSEO"
   ],
   "metadata": {
    "collapsed": false
   }
  },
  {
   "cell_type": "code",
   "execution_count": 5,
   "outputs": [
    {
     "data": {
      "text/plain": "       人员         日期     人员2   发送IP  接受IP  对比昨天(总IP)  对比前3天均值(总IP)  \\\n0   Paddy 2023-08-07   paddy      0    51          0             0   \n1    Tony 2023-08-07    tony    568  1136          0             0   \n2     Max 2023-08-07     max    273   225          0             0   \n3  Martin 2023-08-07  martin   3445  1072          0             0   \n4     Zed 2023-08-07     zed   4853   329          0             0   \n5    Hugo 2023-08-07    hugo    103     0          0             0   \n6    Aber 2023-08-07    aber   7325   562          0             0   \n7      DK 2023-08-07      dk   1525  2160          0             0   \n8     Ben 2023-08-07     ben   2565   298          0             0   \n9    当日汇总 2023-08-07    当日汇总  20657  5833          0             0   \n\n   对比前5天均值(总IP)  对比前7天均值(总IP)  对比昨天(总注册)  对比前3天均值(总注册)  对比前5天均值(总注册)  \\\n0             0             0          0             0             0   \n1             0             0          0             0             0   \n2             0             0          0             0             0   \n3             0             0          0             0             0   \n4             0             0          0             0             0   \n5             0             0          0             0             0   \n6             0             0          0             0             0   \n7             0             0          0             0             0   \n8             0             0          0             0             0   \n9             0             0          0             0             0   \n\n   对比前7天均值(总注册)  对比昨天(总开户)  对比前3天均值(总开户)  对比前5天均值(总开户)  对比前7天均值(总开户)    注册  \\\n0             0          0             0             0             0   3.0   \n1             0          0             0             0             0  15.0   \n2             0          0             0             0             0   9.0   \n3             0          0             0             0             0  81.0   \n4             0          0             0             0             0  22.0   \n5             0          0             0             0             0  16.0   \n6             0          0             0             0             0  49.0   \n7             0          0             0             0             0  52.0   \n8             0          0             0             0             0  17.0   \n9             0          0             0             0             0   NaN   \n\n         注册率  \n0        inf  \n1   2.640845  \n2   3.296703  \n3   2.351234  \n4   0.453328  \n5  15.533981  \n6   0.668942  \n7   3.409836  \n8   0.662768  \n9        NaN  ",
      "text/html": "<div>\n<style scoped>\n    .dataframe tbody tr th:only-of-type {\n        vertical-align: middle;\n    }\n\n    .dataframe tbody tr th {\n        vertical-align: top;\n    }\n\n    .dataframe thead th {\n        text-align: right;\n    }\n</style>\n<table border=\"1\" class=\"dataframe\">\n  <thead>\n    <tr style=\"text-align: right;\">\n      <th></th>\n      <th>人员</th>\n      <th>日期</th>\n      <th>人员2</th>\n      <th>发送IP</th>\n      <th>接受IP</th>\n      <th>对比昨天(总IP)</th>\n      <th>对比前3天均值(总IP)</th>\n      <th>对比前5天均值(总IP)</th>\n      <th>对比前7天均值(总IP)</th>\n      <th>对比昨天(总注册)</th>\n      <th>对比前3天均值(总注册)</th>\n      <th>对比前5天均值(总注册)</th>\n      <th>对比前7天均值(总注册)</th>\n      <th>对比昨天(总开户)</th>\n      <th>对比前3天均值(总开户)</th>\n      <th>对比前5天均值(总开户)</th>\n      <th>对比前7天均值(总开户)</th>\n      <th>注册</th>\n      <th>注册率</th>\n    </tr>\n  </thead>\n  <tbody>\n    <tr>\n      <th>0</th>\n      <td>Paddy</td>\n      <td>2023-08-07</td>\n      <td>paddy</td>\n      <td>0</td>\n      <td>51</td>\n      <td>0</td>\n      <td>0</td>\n      <td>0</td>\n      <td>0</td>\n      <td>0</td>\n      <td>0</td>\n      <td>0</td>\n      <td>0</td>\n      <td>0</td>\n      <td>0</td>\n      <td>0</td>\n      <td>0</td>\n      <td>3.0</td>\n      <td>inf</td>\n    </tr>\n    <tr>\n      <th>1</th>\n      <td>Tony</td>\n      <td>2023-08-07</td>\n      <td>tony</td>\n      <td>568</td>\n      <td>1136</td>\n      <td>0</td>\n      <td>0</td>\n      <td>0</td>\n      <td>0</td>\n      <td>0</td>\n      <td>0</td>\n      <td>0</td>\n      <td>0</td>\n      <td>0</td>\n      <td>0</td>\n      <td>0</td>\n      <td>0</td>\n      <td>15.0</td>\n      <td>2.640845</td>\n    </tr>\n    <tr>\n      <th>2</th>\n      <td>Max</td>\n      <td>2023-08-07</td>\n      <td>max</td>\n      <td>273</td>\n      <td>225</td>\n      <td>0</td>\n      <td>0</td>\n      <td>0</td>\n      <td>0</td>\n      <td>0</td>\n      <td>0</td>\n      <td>0</td>\n      <td>0</td>\n      <td>0</td>\n      <td>0</td>\n      <td>0</td>\n      <td>0</td>\n      <td>9.0</td>\n      <td>3.296703</td>\n    </tr>\n    <tr>\n      <th>3</th>\n      <td>Martin</td>\n      <td>2023-08-07</td>\n      <td>martin</td>\n      <td>3445</td>\n      <td>1072</td>\n      <td>0</td>\n      <td>0</td>\n      <td>0</td>\n      <td>0</td>\n      <td>0</td>\n      <td>0</td>\n      <td>0</td>\n      <td>0</td>\n      <td>0</td>\n      <td>0</td>\n      <td>0</td>\n      <td>0</td>\n      <td>81.0</td>\n      <td>2.351234</td>\n    </tr>\n    <tr>\n      <th>4</th>\n      <td>Zed</td>\n      <td>2023-08-07</td>\n      <td>zed</td>\n      <td>4853</td>\n      <td>329</td>\n      <td>0</td>\n      <td>0</td>\n      <td>0</td>\n      <td>0</td>\n      <td>0</td>\n      <td>0</td>\n      <td>0</td>\n      <td>0</td>\n      <td>0</td>\n      <td>0</td>\n      <td>0</td>\n      <td>0</td>\n      <td>22.0</td>\n      <td>0.453328</td>\n    </tr>\n    <tr>\n      <th>5</th>\n      <td>Hugo</td>\n      <td>2023-08-07</td>\n      <td>hugo</td>\n      <td>103</td>\n      <td>0</td>\n      <td>0</td>\n      <td>0</td>\n      <td>0</td>\n      <td>0</td>\n      <td>0</td>\n      <td>0</td>\n      <td>0</td>\n      <td>0</td>\n      <td>0</td>\n      <td>0</td>\n      <td>0</td>\n      <td>0</td>\n      <td>16.0</td>\n      <td>15.533981</td>\n    </tr>\n    <tr>\n      <th>6</th>\n      <td>Aber</td>\n      <td>2023-08-07</td>\n      <td>aber</td>\n      <td>7325</td>\n      <td>562</td>\n      <td>0</td>\n      <td>0</td>\n      <td>0</td>\n      <td>0</td>\n      <td>0</td>\n      <td>0</td>\n      <td>0</td>\n      <td>0</td>\n      <td>0</td>\n      <td>0</td>\n      <td>0</td>\n      <td>0</td>\n      <td>49.0</td>\n      <td>0.668942</td>\n    </tr>\n    <tr>\n      <th>7</th>\n      <td>DK</td>\n      <td>2023-08-07</td>\n      <td>dk</td>\n      <td>1525</td>\n      <td>2160</td>\n      <td>0</td>\n      <td>0</td>\n      <td>0</td>\n      <td>0</td>\n      <td>0</td>\n      <td>0</td>\n      <td>0</td>\n      <td>0</td>\n      <td>0</td>\n      <td>0</td>\n      <td>0</td>\n      <td>0</td>\n      <td>52.0</td>\n      <td>3.409836</td>\n    </tr>\n    <tr>\n      <th>8</th>\n      <td>Ben</td>\n      <td>2023-08-07</td>\n      <td>ben</td>\n      <td>2565</td>\n      <td>298</td>\n      <td>0</td>\n      <td>0</td>\n      <td>0</td>\n      <td>0</td>\n      <td>0</td>\n      <td>0</td>\n      <td>0</td>\n      <td>0</td>\n      <td>0</td>\n      <td>0</td>\n      <td>0</td>\n      <td>0</td>\n      <td>17.0</td>\n      <td>0.662768</td>\n    </tr>\n    <tr>\n      <th>9</th>\n      <td>当日汇总</td>\n      <td>2023-08-07</td>\n      <td>当日汇总</td>\n      <td>20657</td>\n      <td>5833</td>\n      <td>0</td>\n      <td>0</td>\n      <td>0</td>\n      <td>0</td>\n      <td>0</td>\n      <td>0</td>\n      <td>0</td>\n      <td>0</td>\n      <td>0</td>\n      <td>0</td>\n      <td>0</td>\n      <td>0</td>\n      <td>NaN</td>\n      <td>NaN</td>\n    </tr>\n  </tbody>\n</table>\n</div>"
     },
     "execution_count": 5,
     "metadata": {},
     "output_type": "execute_result"
    }
   ],
   "source": [
    "shuju=shuju.merge(grpSEO,on='人员2',how='left')\n",
    "shuju['注册率'] = shuju['注册']/shuju['发送IP']*100\n",
    "shuju"
   ],
   "metadata": {
    "collapsed": false
   }
  },
  {
   "cell_type": "code",
   "execution_count": 6,
   "outputs": [
    {
     "ename": "KeyError",
     "evalue": "'注册'",
     "output_type": "error",
     "traceback": [
      "\u001B[1;31m---------------------------------------------------------------------------\u001B[0m",
      "\u001B[1;31mKeyError\u001B[0m                                  Traceback (most recent call last)",
      "File \u001B[1;32mC:\\ProgramData\\anaconda3\\envs\\telegram\\lib\\site-packages\\pandas\\core\\indexes\\base.py:3802\u001B[0m, in \u001B[0;36mIndex.get_loc\u001B[1;34m(self, key, method, tolerance)\u001B[0m\n\u001B[0;32m   3801\u001B[0m \u001B[38;5;28;01mtry\u001B[39;00m:\n\u001B[1;32m-> 3802\u001B[0m     \u001B[38;5;28;01mreturn\u001B[39;00m \u001B[38;5;28;43mself\u001B[39;49m\u001B[38;5;241;43m.\u001B[39;49m\u001B[43m_engine\u001B[49m\u001B[38;5;241;43m.\u001B[39;49m\u001B[43mget_loc\u001B[49m\u001B[43m(\u001B[49m\u001B[43mcasted_key\u001B[49m\u001B[43m)\u001B[49m\n\u001B[0;32m   3803\u001B[0m \u001B[38;5;28;01mexcept\u001B[39;00m \u001B[38;5;167;01mKeyError\u001B[39;00m \u001B[38;5;28;01mas\u001B[39;00m err:\n",
      "File \u001B[1;32mC:\\ProgramData\\anaconda3\\envs\\telegram\\lib\\site-packages\\pandas\\_libs\\index.pyx:138\u001B[0m, in \u001B[0;36mpandas._libs.index.IndexEngine.get_loc\u001B[1;34m()\u001B[0m\n",
      "File \u001B[1;32mC:\\ProgramData\\anaconda3\\envs\\telegram\\lib\\site-packages\\pandas\\_libs\\index.pyx:165\u001B[0m, in \u001B[0;36mpandas._libs.index.IndexEngine.get_loc\u001B[1;34m()\u001B[0m\n",
      "File \u001B[1;32mpandas\\_libs\\hashtable_class_helper.pxi:5745\u001B[0m, in \u001B[0;36mpandas._libs.hashtable.PyObjectHashTable.get_item\u001B[1;34m()\u001B[0m\n",
      "File \u001B[1;32mpandas\\_libs\\hashtable_class_helper.pxi:5753\u001B[0m, in \u001B[0;36mpandas._libs.hashtable.PyObjectHashTable.get_item\u001B[1;34m()\u001B[0m\n",
      "\u001B[1;31mKeyError\u001B[0m: '注册'",
      "\nThe above exception was the direct cause of the following exception:\n",
      "\u001B[1;31mKeyError\u001B[0m                                  Traceback (most recent call last)",
      "Cell \u001B[1;32mIn[6], line 11\u001B[0m\n\u001B[0;32m      8\u001B[0m grpSEO\u001B[38;5;241m.\u001B[39mset_index(\u001B[38;5;124m'\u001B[39m\u001B[38;5;124mseo变化数据团队\u001B[39m\u001B[38;5;124m'\u001B[39m,inplace\u001B[38;5;241m=\u001B[39m\u001B[38;5;28;01mTrue\u001B[39;00m)\n\u001B[0;32m     10\u001B[0m shuju \u001B[38;5;241m=\u001B[39m pd\u001B[38;5;241m.\u001B[39mmerge(shuju,grpSEO,on\u001B[38;5;241m=\u001B[39m\u001B[38;5;124m'\u001B[39m\u001B[38;5;124m人员2\u001B[39m\u001B[38;5;124m'\u001B[39m)\n\u001B[1;32m---> 11\u001B[0m shuju[\u001B[38;5;124m'\u001B[39m\u001B[38;5;124m注册率\u001B[39m\u001B[38;5;124m'\u001B[39m] \u001B[38;5;241m=\u001B[39m \u001B[43mshuju\u001B[49m\u001B[43m[\u001B[49m\u001B[38;5;124;43m'\u001B[39;49m\u001B[38;5;124;43m注册\u001B[39;49m\u001B[38;5;124;43m'\u001B[39;49m\u001B[43m]\u001B[49m\u001B[38;5;241m/\u001B[39mshuju[\u001B[38;5;124m'\u001B[39m\u001B[38;5;124m发送IP\u001B[39m\u001B[38;5;124m'\u001B[39m]\u001B[38;5;241m*\u001B[39m\u001B[38;5;241m100\u001B[39m\n\u001B[0;32m     12\u001B[0m shuju\u001B[38;5;241m.\u001B[39mloc[\u001B[38;5;124m'\u001B[39m\u001B[38;5;124m当日汇总\u001B[39m\u001B[38;5;124m'\u001B[39m,\u001B[38;5;124m'\u001B[39m\u001B[38;5;124m注册\u001B[39m\u001B[38;5;124m'\u001B[39m]\u001B[38;5;241m=\u001B[39mshuju[\u001B[38;5;124m'\u001B[39m\u001B[38;5;124m注册\u001B[39m\u001B[38;5;124m'\u001B[39m]\u001B[38;5;241m.\u001B[39msum()\n\u001B[0;32m     13\u001B[0m shuju\u001B[38;5;241m.\u001B[39mloc[\u001B[38;5;124m'\u001B[39m\u001B[38;5;124m当日汇总\u001B[39m\u001B[38;5;124m'\u001B[39m,\u001B[38;5;124m'\u001B[39m\u001B[38;5;124m注册率\u001B[39m\u001B[38;5;124m'\u001B[39m]\u001B[38;5;241m=\u001B[39mshuju[\u001B[38;5;124m'\u001B[39m\u001B[38;5;124m注册率\u001B[39m\u001B[38;5;124m'\u001B[39m]\u001B[38;5;241m.\u001B[39msum()\n",
      "File \u001B[1;32mC:\\ProgramData\\anaconda3\\envs\\telegram\\lib\\site-packages\\pandas\\core\\frame.py:3807\u001B[0m, in \u001B[0;36mDataFrame.__getitem__\u001B[1;34m(self, key)\u001B[0m\n\u001B[0;32m   3805\u001B[0m \u001B[38;5;28;01mif\u001B[39;00m \u001B[38;5;28mself\u001B[39m\u001B[38;5;241m.\u001B[39mcolumns\u001B[38;5;241m.\u001B[39mnlevels \u001B[38;5;241m>\u001B[39m \u001B[38;5;241m1\u001B[39m:\n\u001B[0;32m   3806\u001B[0m     \u001B[38;5;28;01mreturn\u001B[39;00m \u001B[38;5;28mself\u001B[39m\u001B[38;5;241m.\u001B[39m_getitem_multilevel(key)\n\u001B[1;32m-> 3807\u001B[0m indexer \u001B[38;5;241m=\u001B[39m \u001B[38;5;28;43mself\u001B[39;49m\u001B[38;5;241;43m.\u001B[39;49m\u001B[43mcolumns\u001B[49m\u001B[38;5;241;43m.\u001B[39;49m\u001B[43mget_loc\u001B[49m\u001B[43m(\u001B[49m\u001B[43mkey\u001B[49m\u001B[43m)\u001B[49m\n\u001B[0;32m   3808\u001B[0m \u001B[38;5;28;01mif\u001B[39;00m is_integer(indexer):\n\u001B[0;32m   3809\u001B[0m     indexer \u001B[38;5;241m=\u001B[39m [indexer]\n",
      "File \u001B[1;32mC:\\ProgramData\\anaconda3\\envs\\telegram\\lib\\site-packages\\pandas\\core\\indexes\\base.py:3804\u001B[0m, in \u001B[0;36mIndex.get_loc\u001B[1;34m(self, key, method, tolerance)\u001B[0m\n\u001B[0;32m   3802\u001B[0m     \u001B[38;5;28;01mreturn\u001B[39;00m \u001B[38;5;28mself\u001B[39m\u001B[38;5;241m.\u001B[39m_engine\u001B[38;5;241m.\u001B[39mget_loc(casted_key)\n\u001B[0;32m   3803\u001B[0m \u001B[38;5;28;01mexcept\u001B[39;00m \u001B[38;5;167;01mKeyError\u001B[39;00m \u001B[38;5;28;01mas\u001B[39;00m err:\n\u001B[1;32m-> 3804\u001B[0m     \u001B[38;5;28;01mraise\u001B[39;00m \u001B[38;5;167;01mKeyError\u001B[39;00m(key) \u001B[38;5;28;01mfrom\u001B[39;00m \u001B[38;5;21;01merr\u001B[39;00m\n\u001B[0;32m   3805\u001B[0m \u001B[38;5;28;01mexcept\u001B[39;00m \u001B[38;5;167;01mTypeError\u001B[39;00m:\n\u001B[0;32m   3806\u001B[0m     \u001B[38;5;66;03m# If we have a listlike key, _check_indexing_error will raise\u001B[39;00m\n\u001B[0;32m   3807\u001B[0m     \u001B[38;5;66;03m#  InvalidIndexError. Otherwise we fall through and re-raise\u001B[39;00m\n\u001B[0;32m   3808\u001B[0m     \u001B[38;5;66;03m#  the TypeError.\u001B[39;00m\n\u001B[0;32m   3809\u001B[0m     \u001B[38;5;28mself\u001B[39m\u001B[38;5;241m.\u001B[39m_check_indexing_error(key)\n",
      "\u001B[1;31mKeyError\u001B[0m: '注册'"
     ]
    }
   ],
   "source": [
    "# 第1次merge前，重置索引\n",
    "shuju.reset_index(inplace=True)\n",
    "merge_user = pd.merge(user,daili,how = 'left',left_on='代理',right_on='代理线')\n",
    "grpSEO = merge_user.groupby('seo变化数据团队').agg({'seo变化数据团队':len})\n",
    "grpSEO.rename(columns={'seo变化数据团队':'注册'},inplace=True)\n",
    "grpSEO.reset_index(inplace=True)\n",
    "grpSEO['人员2'] = grpSEO['seo变化数据团队'].str.lower()\n",
    "grpSEO.set_index('seo变化数据团队',inplace=True)\n",
    "\n",
    "shuju = pd.merge(shuju,grpSEO,on='人员2')\n",
    "shuju['注册率'] = shuju['注册']/shuju['发送IP']*100\n",
    "shuju.loc['当日汇总','注册']=shuju['注册'].sum()\n",
    "shuju.loc['当日汇总','注册率']=shuju['注册率'].sum()\n",
    "shuju"
   ],
   "metadata": {
    "collapsed": false
   }
  },
  {
   "cell_type": "code",
   "execution_count": 7,
   "outputs": [
    {
     "ename": "KeyError",
     "evalue": "'注册'",
     "output_type": "error",
     "traceback": [
      "\u001B[1;31m---------------------------------------------------------------------------\u001B[0m",
      "\u001B[1;31mKeyError\u001B[0m                                  Traceback (most recent call last)",
      "File \u001B[1;32mC:\\ProgramData\\anaconda3\\envs\\telegram\\lib\\site-packages\\pandas\\core\\indexes\\base.py:3802\u001B[0m, in \u001B[0;36mIndex.get_loc\u001B[1;34m(self, key, method, tolerance)\u001B[0m\n\u001B[0;32m   3801\u001B[0m \u001B[38;5;28;01mtry\u001B[39;00m:\n\u001B[1;32m-> 3802\u001B[0m     \u001B[38;5;28;01mreturn\u001B[39;00m \u001B[38;5;28;43mself\u001B[39;49m\u001B[38;5;241;43m.\u001B[39;49m\u001B[43m_engine\u001B[49m\u001B[38;5;241;43m.\u001B[39;49m\u001B[43mget_loc\u001B[49m\u001B[43m(\u001B[49m\u001B[43mcasted_key\u001B[49m\u001B[43m)\u001B[49m\n\u001B[0;32m   3803\u001B[0m \u001B[38;5;28;01mexcept\u001B[39;00m \u001B[38;5;167;01mKeyError\u001B[39;00m \u001B[38;5;28;01mas\u001B[39;00m err:\n",
      "File \u001B[1;32mC:\\ProgramData\\anaconda3\\envs\\telegram\\lib\\site-packages\\pandas\\_libs\\index.pyx:138\u001B[0m, in \u001B[0;36mpandas._libs.index.IndexEngine.get_loc\u001B[1;34m()\u001B[0m\n",
      "File \u001B[1;32mC:\\ProgramData\\anaconda3\\envs\\telegram\\lib\\site-packages\\pandas\\_libs\\index.pyx:165\u001B[0m, in \u001B[0;36mpandas._libs.index.IndexEngine.get_loc\u001B[1;34m()\u001B[0m\n",
      "File \u001B[1;32mpandas\\_libs\\hashtable_class_helper.pxi:5745\u001B[0m, in \u001B[0;36mpandas._libs.hashtable.PyObjectHashTable.get_item\u001B[1;34m()\u001B[0m\n",
      "File \u001B[1;32mpandas\\_libs\\hashtable_class_helper.pxi:5753\u001B[0m, in \u001B[0;36mpandas._libs.hashtable.PyObjectHashTable.get_item\u001B[1;34m()\u001B[0m\n",
      "\u001B[1;31mKeyError\u001B[0m: '注册'",
      "\nThe above exception was the direct cause of the following exception:\n",
      "\u001B[1;31mKeyError\u001B[0m                                  Traceback (most recent call last)",
      "Cell \u001B[1;32mIn[7], line 9\u001B[0m\n\u001B[0;32m      7\u001B[0m \u001B[38;5;66;03m# 第2次merge\u001B[39;00m\n\u001B[0;32m      8\u001B[0m shuju \u001B[38;5;241m=\u001B[39m pd\u001B[38;5;241m.\u001B[39mmerge(shuju,grpCHARGE,how\u001B[38;5;241m=\u001B[39m\u001B[38;5;124m'\u001B[39m\u001B[38;5;124mleft\u001B[39m\u001B[38;5;124m'\u001B[39m,on\u001B[38;5;241m=\u001B[39m\u001B[38;5;124m'\u001B[39m\u001B[38;5;124m人员2\u001B[39m\u001B[38;5;124m'\u001B[39m)\n\u001B[1;32m----> 9\u001B[0m shuju[\u001B[38;5;124m'\u001B[39m\u001B[38;5;124m转化率\u001B[39m\u001B[38;5;124m'\u001B[39m] \u001B[38;5;241m=\u001B[39m shuju[\u001B[38;5;124m'\u001B[39m\u001B[38;5;124m开户\u001B[39m\u001B[38;5;124m'\u001B[39m]\u001B[38;5;241m/\u001B[39m\u001B[43mshuju\u001B[49m\u001B[43m[\u001B[49m\u001B[38;5;124;43m'\u001B[39;49m\u001B[38;5;124;43m注册\u001B[39;49m\u001B[38;5;124;43m'\u001B[39;49m\u001B[43m]\u001B[49m\u001B[38;5;241m*\u001B[39m\u001B[38;5;241m100\u001B[39m\n\u001B[0;32m     11\u001B[0m grp3  \u001B[38;5;241m=\u001B[39m merge_charge[merge_charge[\u001B[38;5;124m'\u001B[39m\u001B[38;5;124m注册时间\u001B[39m\u001B[38;5;124m'\u001B[39m]\u001B[38;5;241m.\u001B[39mstr[:\u001B[38;5;241m9\u001B[39m]\u001B[38;5;241m==\u001B[39mmerge_charge[\u001B[38;5;124m'\u001B[39m\u001B[38;5;124m交易时间\u001B[39m\u001B[38;5;124m'\u001B[39m]\u001B[38;5;241m.\u001B[39mstr[:\u001B[38;5;241m9\u001B[39m]]\u001B[38;5;241m.\u001B[39mgroupby(\u001B[38;5;124m'\u001B[39m\u001B[38;5;124mseo变化数据团队\u001B[39m\u001B[38;5;124m'\u001B[39m)\u001B[38;5;241m.\u001B[39magg({\u001B[38;5;124m'\u001B[39m\u001B[38;5;124mseo变化数据团队\u001B[39m\u001B[38;5;124m'\u001B[39m:\u001B[38;5;28mlen\u001B[39m})\n\u001B[0;32m     12\u001B[0m grp3\u001B[38;5;241m.\u001B[39mrename(columns \u001B[38;5;241m=\u001B[39m {\u001B[38;5;124m'\u001B[39m\u001B[38;5;124mseo变化数据团队\u001B[39m\u001B[38;5;124m'\u001B[39m:\u001B[38;5;124m'\u001B[39m\u001B[38;5;124m当日注册并开户\u001B[39m\u001B[38;5;124m'\u001B[39m},inplace\u001B[38;5;241m=\u001B[39m\u001B[38;5;28;01mTrue\u001B[39;00m)\n",
      "File \u001B[1;32mC:\\ProgramData\\anaconda3\\envs\\telegram\\lib\\site-packages\\pandas\\core\\frame.py:3807\u001B[0m, in \u001B[0;36mDataFrame.__getitem__\u001B[1;34m(self, key)\u001B[0m\n\u001B[0;32m   3805\u001B[0m \u001B[38;5;28;01mif\u001B[39;00m \u001B[38;5;28mself\u001B[39m\u001B[38;5;241m.\u001B[39mcolumns\u001B[38;5;241m.\u001B[39mnlevels \u001B[38;5;241m>\u001B[39m \u001B[38;5;241m1\u001B[39m:\n\u001B[0;32m   3806\u001B[0m     \u001B[38;5;28;01mreturn\u001B[39;00m \u001B[38;5;28mself\u001B[39m\u001B[38;5;241m.\u001B[39m_getitem_multilevel(key)\n\u001B[1;32m-> 3807\u001B[0m indexer \u001B[38;5;241m=\u001B[39m \u001B[38;5;28;43mself\u001B[39;49m\u001B[38;5;241;43m.\u001B[39;49m\u001B[43mcolumns\u001B[49m\u001B[38;5;241;43m.\u001B[39;49m\u001B[43mget_loc\u001B[49m\u001B[43m(\u001B[49m\u001B[43mkey\u001B[49m\u001B[43m)\u001B[49m\n\u001B[0;32m   3808\u001B[0m \u001B[38;5;28;01mif\u001B[39;00m is_integer(indexer):\n\u001B[0;32m   3809\u001B[0m     indexer \u001B[38;5;241m=\u001B[39m [indexer]\n",
      "File \u001B[1;32mC:\\ProgramData\\anaconda3\\envs\\telegram\\lib\\site-packages\\pandas\\core\\indexes\\base.py:3804\u001B[0m, in \u001B[0;36mIndex.get_loc\u001B[1;34m(self, key, method, tolerance)\u001B[0m\n\u001B[0;32m   3802\u001B[0m     \u001B[38;5;28;01mreturn\u001B[39;00m \u001B[38;5;28mself\u001B[39m\u001B[38;5;241m.\u001B[39m_engine\u001B[38;5;241m.\u001B[39mget_loc(casted_key)\n\u001B[0;32m   3803\u001B[0m \u001B[38;5;28;01mexcept\u001B[39;00m \u001B[38;5;167;01mKeyError\u001B[39;00m \u001B[38;5;28;01mas\u001B[39;00m err:\n\u001B[1;32m-> 3804\u001B[0m     \u001B[38;5;28;01mraise\u001B[39;00m \u001B[38;5;167;01mKeyError\u001B[39;00m(key) \u001B[38;5;28;01mfrom\u001B[39;00m \u001B[38;5;21;01merr\u001B[39;00m\n\u001B[0;32m   3805\u001B[0m \u001B[38;5;28;01mexcept\u001B[39;00m \u001B[38;5;167;01mTypeError\u001B[39;00m:\n\u001B[0;32m   3806\u001B[0m     \u001B[38;5;66;03m# If we have a listlike key, _check_indexing_error will raise\u001B[39;00m\n\u001B[0;32m   3807\u001B[0m     \u001B[38;5;66;03m#  InvalidIndexError. Otherwise we fall through and re-raise\u001B[39;00m\n\u001B[0;32m   3808\u001B[0m     \u001B[38;5;66;03m#  the TypeError.\u001B[39;00m\n\u001B[0;32m   3809\u001B[0m     \u001B[38;5;28mself\u001B[39m\u001B[38;5;241m.\u001B[39m_check_indexing_error(key)\n",
      "\u001B[1;31mKeyError\u001B[0m: '注册'"
     ]
    }
   ],
   "source": [
    "merge_charge = pd.merge(firChargeUser,daili,how='left',left_on='所属代理',right_on='代理线')\n",
    "grpCHARGE = merge_charge.groupby('seo变化数据团队').agg({'seo变化数据团队':len})\n",
    "grpCHARGE= grpCHARGE.rename(columns={'seo变化数据团队':'开户'})\n",
    "grpCHARGE.reset_index(inplace=True)\n",
    "grpCHARGE['seo变化数据团队']=grpCHARGE['seo变化数据团队'].str.lower()\n",
    "grpCHARGE= grpCHARGE.rename(columns={'seo变化数据团队':'人员2'})\n",
    "# 第2次merge\n",
    "shuju = pd.merge(shuju,grpCHARGE,how='left',on='人员2')\n",
    "shuju['转化率'] = shuju['开户']/shuju['注册']*100\n",
    "\n",
    "grp3  = merge_charge[merge_charge['注册时间'].str[:9]==merge_charge['交易时间'].str[:9]].groupby('seo变化数据团队').agg({'seo变化数据团队':len})\n",
    "grp3.rename(columns = {'seo变化数据团队':'当日注册并开户'},inplace=True)\n",
    "grp3.reset_index(inplace=True)\n",
    "grp3['seo变化数据团队'] =grp3['seo变化数据团队'].str.lower()\n",
    "grp3.rename(columns = {'seo变化数据团队':'人员2'},inplace=True)\n",
    "# 第3次merge\n",
    "shuju  = pd.merge(shuju,grp3,how='left',on='人员2')\n",
    "shuju['当日注册激活率'] = shuju['当日注册并开户']/shuju['注册']*100\n",
    "shuju"
   ],
   "metadata": {
    "collapsed": false
   }
  },
  {
   "cell_type": "code",
   "execution_count": 8,
   "outputs": [
    {
     "name": "stderr",
     "output_type": "stream",
     "text": [
      "C:\\ProgramData\\anaconda3\\envs\\telegram\\lib\\site-packages\\openpyxl\\styles\\stylesheet.py:226: UserWarning: Workbook contains no default style, apply openpyxl's default\n",
      "  warn(\"Workbook contains no default style, apply openpyxl's default\")\n",
      "C:\\Users\\User\\AppData\\Local\\Temp\\ipykernel_5324\\844052512.py:105: FutureWarning: The default value of numeric_only in DataFrameGroupBy.mean is deprecated. In a future version, numeric_only will default to False. Either specify numeric_only or select only columns which should be valid for the function.\n",
      "  be3_data = be3_data.groupby('人员').mean()[:-1]\n",
      "C:\\Users\\User\\AppData\\Local\\Temp\\ipykernel_5324\\844052512.py:107: FutureWarning: The default value of numeric_only in DataFrameGroupBy.mean is deprecated. In a future version, numeric_only will default to False. Either specify numeric_only or select only columns which should be valid for the function.\n",
      "  be5_data = be5_data.groupby('人员').mean()[:-1]\n",
      "C:\\Users\\User\\AppData\\Local\\Temp\\ipykernel_5324\\844052512.py:109: FutureWarning: The default value of numeric_only in DataFrameGroupBy.mean is deprecated. In a future version, numeric_only will default to False. Either specify numeric_only or select only columns which should be valid for the function.\n",
      "  be7_data = be7_data.groupby('人员').mean()[:-1]\n"
     ]
    },
    {
     "data": {
      "text/plain": "               日期     人员2   发送IP  接受IP  对比昨天(总IP)  对比前3天均值(总IP)  对比前5天均值(总IP)  \\\n人员                                                                              \nAber   2023-08-07    aber   7325   562    -2150.0  -1503.000000       -1483.6   \nBen    2023-08-07     ben   2565   298     -433.0   -144.333333        -793.8   \nDK     2023-08-07      dk   1525  2160      149.0     83.666667          57.8   \nHugo   2023-08-07    hugo    103     0      -83.0    -35.000000        -225.2   \nMartin 2023-08-07  martin   3445  1072      352.0    181.666667         285.6   \nMax    2023-08-07     max    273   225       -8.0     -7.333333          -5.0   \nPaddy  2023-08-07   paddy      0    51        0.0      0.000000           0.0   \nTony   2023-08-07    tony    568  1136     -130.0    -51.000000         -69.6   \nZed    2023-08-07     zed   4853   329      623.0    260.000000         422.4   \n当日汇总   2023-08-07    当日汇总  20657  5833        NaN           NaN           NaN   \n\n        对比前7天均值(总IP)  对比昨天(总注册)  对比前3天均值(总注册)  对比前5天均值(总注册)  对比前7天均值(总注册)  \\\n人员                                                                          \nAber     -768.142857    -2150.0      7.000000           8.4      9.000000   \nBen     -2063.714286     -433.0      7.333333           5.8      4.285714   \nDK         47.857143      149.0     21.000000          21.4     20.571429   \nHugo     -446.000000      -83.0      5.333333           1.8     -0.285714   \nMartin    620.714286      352.0     10.000000          20.8     27.714286   \nMax        -5.428571       -8.0      3.333333           3.2      3.571429   \nPaddy     -59.285714        0.0      1.666667           1.2      1.714286   \nTony      -71.285714     -130.0     -0.333333           0.4      1.857143   \nZed       610.857143      623.0      9.666667          12.0     13.000000   \n当日汇总             NaN        NaN           NaN           NaN           NaN   \n\n        对比昨天(总开户)  对比前3天均值(总开户)  对比前5天均值(总开户)  对比前7天均值(总开户)    注册        注册率  \\\n人员                                                                             \nAber      -2150.0     -3.666667          -1.8     -0.857143  49.0   0.668942   \nBen        -433.0      3.000000           3.4      3.285714  17.0   0.662768   \nDK          149.0     -3.000000          -3.8     -4.714286  52.0   3.409836   \nHugo        -83.0      0.000000          -1.6     -1.714286  16.0  15.533981   \nMartin      352.0      4.000000           6.6      8.571429  81.0   2.351234   \nMax          -8.0           NaN           NaN           NaN   9.0   3.296703   \nPaddy         0.0      1.333333           1.4      1.428571   3.0        inf   \nTony       -130.0     -2.000000          -2.2     -2.714286  15.0   2.640845   \nZed         623.0      1.333333           2.6      3.714286  22.0   0.453328   \n当日汇总          NaN           NaN           NaN           NaN   NaN        NaN   \n\n          开户        转化率  当日注册并开户    当日注册激活率  \n人员                                           \nAber    13.0  26.530612      9.0  18.367347  \nBen      6.0  35.294118      3.0  17.647059  \nDK       5.0   9.615385      5.0   9.615385  \nHugo     5.0  31.250000      2.0  12.500000  \nMartin  24.0  29.629630     18.0  22.222222  \nMax      NaN        NaN      NaN        NaN  \nPaddy    2.0  66.666667      2.0  66.666667  \nTony     3.0  20.000000      3.0  20.000000  \nZed      8.0  36.363636      8.0  36.363636  \n当日汇总     NaN        NaN      NaN        NaN  ",
      "text/html": "<div>\n<style scoped>\n    .dataframe tbody tr th:only-of-type {\n        vertical-align: middle;\n    }\n\n    .dataframe tbody tr th {\n        vertical-align: top;\n    }\n\n    .dataframe thead th {\n        text-align: right;\n    }\n</style>\n<table border=\"1\" class=\"dataframe\">\n  <thead>\n    <tr style=\"text-align: right;\">\n      <th></th>\n      <th>日期</th>\n      <th>人员2</th>\n      <th>发送IP</th>\n      <th>接受IP</th>\n      <th>对比昨天(总IP)</th>\n      <th>对比前3天均值(总IP)</th>\n      <th>对比前5天均值(总IP)</th>\n      <th>对比前7天均值(总IP)</th>\n      <th>对比昨天(总注册)</th>\n      <th>对比前3天均值(总注册)</th>\n      <th>对比前5天均值(总注册)</th>\n      <th>对比前7天均值(总注册)</th>\n      <th>对比昨天(总开户)</th>\n      <th>对比前3天均值(总开户)</th>\n      <th>对比前5天均值(总开户)</th>\n      <th>对比前7天均值(总开户)</th>\n      <th>注册</th>\n      <th>注册率</th>\n      <th>开户</th>\n      <th>转化率</th>\n      <th>当日注册并开户</th>\n      <th>当日注册激活率</th>\n    </tr>\n    <tr>\n      <th>人员</th>\n      <th></th>\n      <th></th>\n      <th></th>\n      <th></th>\n      <th></th>\n      <th></th>\n      <th></th>\n      <th></th>\n      <th></th>\n      <th></th>\n      <th></th>\n      <th></th>\n      <th></th>\n      <th></th>\n      <th></th>\n      <th></th>\n      <th></th>\n      <th></th>\n      <th></th>\n      <th></th>\n      <th></th>\n      <th></th>\n    </tr>\n  </thead>\n  <tbody>\n    <tr>\n      <th>Aber</th>\n      <td>2023-08-07</td>\n      <td>aber</td>\n      <td>7325</td>\n      <td>562</td>\n      <td>-2150.0</td>\n      <td>-1503.000000</td>\n      <td>-1483.6</td>\n      <td>-768.142857</td>\n      <td>-2150.0</td>\n      <td>7.000000</td>\n      <td>8.4</td>\n      <td>9.000000</td>\n      <td>-2150.0</td>\n      <td>-3.666667</td>\n      <td>-1.8</td>\n      <td>-0.857143</td>\n      <td>49.0</td>\n      <td>0.668942</td>\n      <td>13.0</td>\n      <td>26.530612</td>\n      <td>9.0</td>\n      <td>18.367347</td>\n    </tr>\n    <tr>\n      <th>Ben</th>\n      <td>2023-08-07</td>\n      <td>ben</td>\n      <td>2565</td>\n      <td>298</td>\n      <td>-433.0</td>\n      <td>-144.333333</td>\n      <td>-793.8</td>\n      <td>-2063.714286</td>\n      <td>-433.0</td>\n      <td>7.333333</td>\n      <td>5.8</td>\n      <td>4.285714</td>\n      <td>-433.0</td>\n      <td>3.000000</td>\n      <td>3.4</td>\n      <td>3.285714</td>\n      <td>17.0</td>\n      <td>0.662768</td>\n      <td>6.0</td>\n      <td>35.294118</td>\n      <td>3.0</td>\n      <td>17.647059</td>\n    </tr>\n    <tr>\n      <th>DK</th>\n      <td>2023-08-07</td>\n      <td>dk</td>\n      <td>1525</td>\n      <td>2160</td>\n      <td>149.0</td>\n      <td>83.666667</td>\n      <td>57.8</td>\n      <td>47.857143</td>\n      <td>149.0</td>\n      <td>21.000000</td>\n      <td>21.4</td>\n      <td>20.571429</td>\n      <td>149.0</td>\n      <td>-3.000000</td>\n      <td>-3.8</td>\n      <td>-4.714286</td>\n      <td>52.0</td>\n      <td>3.409836</td>\n      <td>5.0</td>\n      <td>9.615385</td>\n      <td>5.0</td>\n      <td>9.615385</td>\n    </tr>\n    <tr>\n      <th>Hugo</th>\n      <td>2023-08-07</td>\n      <td>hugo</td>\n      <td>103</td>\n      <td>0</td>\n      <td>-83.0</td>\n      <td>-35.000000</td>\n      <td>-225.2</td>\n      <td>-446.000000</td>\n      <td>-83.0</td>\n      <td>5.333333</td>\n      <td>1.8</td>\n      <td>-0.285714</td>\n      <td>-83.0</td>\n      <td>0.000000</td>\n      <td>-1.6</td>\n      <td>-1.714286</td>\n      <td>16.0</td>\n      <td>15.533981</td>\n      <td>5.0</td>\n      <td>31.250000</td>\n      <td>2.0</td>\n      <td>12.500000</td>\n    </tr>\n    <tr>\n      <th>Martin</th>\n      <td>2023-08-07</td>\n      <td>martin</td>\n      <td>3445</td>\n      <td>1072</td>\n      <td>352.0</td>\n      <td>181.666667</td>\n      <td>285.6</td>\n      <td>620.714286</td>\n      <td>352.0</td>\n      <td>10.000000</td>\n      <td>20.8</td>\n      <td>27.714286</td>\n      <td>352.0</td>\n      <td>4.000000</td>\n      <td>6.6</td>\n      <td>8.571429</td>\n      <td>81.0</td>\n      <td>2.351234</td>\n      <td>24.0</td>\n      <td>29.629630</td>\n      <td>18.0</td>\n      <td>22.222222</td>\n    </tr>\n    <tr>\n      <th>Max</th>\n      <td>2023-08-07</td>\n      <td>max</td>\n      <td>273</td>\n      <td>225</td>\n      <td>-8.0</td>\n      <td>-7.333333</td>\n      <td>-5.0</td>\n      <td>-5.428571</td>\n      <td>-8.0</td>\n      <td>3.333333</td>\n      <td>3.2</td>\n      <td>3.571429</td>\n      <td>-8.0</td>\n      <td>NaN</td>\n      <td>NaN</td>\n      <td>NaN</td>\n      <td>9.0</td>\n      <td>3.296703</td>\n      <td>NaN</td>\n      <td>NaN</td>\n      <td>NaN</td>\n      <td>NaN</td>\n    </tr>\n    <tr>\n      <th>Paddy</th>\n      <td>2023-08-07</td>\n      <td>paddy</td>\n      <td>0</td>\n      <td>51</td>\n      <td>0.0</td>\n      <td>0.000000</td>\n      <td>0.0</td>\n      <td>-59.285714</td>\n      <td>0.0</td>\n      <td>1.666667</td>\n      <td>1.2</td>\n      <td>1.714286</td>\n      <td>0.0</td>\n      <td>1.333333</td>\n      <td>1.4</td>\n      <td>1.428571</td>\n      <td>3.0</td>\n      <td>inf</td>\n      <td>2.0</td>\n      <td>66.666667</td>\n      <td>2.0</td>\n      <td>66.666667</td>\n    </tr>\n    <tr>\n      <th>Tony</th>\n      <td>2023-08-07</td>\n      <td>tony</td>\n      <td>568</td>\n      <td>1136</td>\n      <td>-130.0</td>\n      <td>-51.000000</td>\n      <td>-69.6</td>\n      <td>-71.285714</td>\n      <td>-130.0</td>\n      <td>-0.333333</td>\n      <td>0.4</td>\n      <td>1.857143</td>\n      <td>-130.0</td>\n      <td>-2.000000</td>\n      <td>-2.2</td>\n      <td>-2.714286</td>\n      <td>15.0</td>\n      <td>2.640845</td>\n      <td>3.0</td>\n      <td>20.000000</td>\n      <td>3.0</td>\n      <td>20.000000</td>\n    </tr>\n    <tr>\n      <th>Zed</th>\n      <td>2023-08-07</td>\n      <td>zed</td>\n      <td>4853</td>\n      <td>329</td>\n      <td>623.0</td>\n      <td>260.000000</td>\n      <td>422.4</td>\n      <td>610.857143</td>\n      <td>623.0</td>\n      <td>9.666667</td>\n      <td>12.0</td>\n      <td>13.000000</td>\n      <td>623.0</td>\n      <td>1.333333</td>\n      <td>2.6</td>\n      <td>3.714286</td>\n      <td>22.0</td>\n      <td>0.453328</td>\n      <td>8.0</td>\n      <td>36.363636</td>\n      <td>8.0</td>\n      <td>36.363636</td>\n    </tr>\n    <tr>\n      <th>当日汇总</th>\n      <td>2023-08-07</td>\n      <td>当日汇总</td>\n      <td>20657</td>\n      <td>5833</td>\n      <td>NaN</td>\n      <td>NaN</td>\n      <td>NaN</td>\n      <td>NaN</td>\n      <td>NaN</td>\n      <td>NaN</td>\n      <td>NaN</td>\n      <td>NaN</td>\n      <td>NaN</td>\n      <td>NaN</td>\n      <td>NaN</td>\n      <td>NaN</td>\n      <td>NaN</td>\n      <td>NaN</td>\n      <td>NaN</td>\n      <td>NaN</td>\n      <td>NaN</td>\n      <td>NaN</td>\n    </tr>\n  </tbody>\n</table>\n</div>"
     },
     "execution_count": 8,
     "metadata": {},
     "output_type": "execute_result"
    }
   ],
   "source": [
    "import pandas as pd\n",
    "import numpy as np\n",
    "import datetime\n",
    "pd.set_option('display.max_colwidth', None) #显示单元格完整信息\n",
    "pd.set_option('display.max_columns', None)\n",
    "pd.set_option('display.max_rows', None)\n",
    "\n",
    "user = pd.read_csv(r'C:\\Users\\User\\Desktop\\SEO_0807\\会员列表导出.csv',encoding='gbk')\n",
    "firChargeUser = pd.read_csv(r'C:\\Users\\User\\Desktop\\SEO_0807\\会员首存报表.csv',encoding='gbk')\n",
    "data = pd.read_excel(r'C:\\Users\\User\\Desktop\\SEO_0807\\data\\今日数据.xlsx')\n",
    "daili = pd.read_excel(r'C:\\Users\\User\\Desktop\\SEO_0807\\SEO每日模板-每日更新.xlsx','代理总表')\n",
    "\n",
    "shuju = pd.DataFrame({'人员':['Paddy', 'Tony', 'Max', 'Martin', 'Zed', 'Hugo', 'Aber', 'DK', 'Ben','当日汇总'],\n",
    "                      '日期':(datetime.datetime.now()+datetime.timedelta(days=-3)).strftime('%Y/%m/%d'),\n",
    "                      '发送IP':0,\n",
    "                      '接受IP':0,\n",
    "                      '对比昨天(总IP)':0,\n",
    "                      '对比前3天均值(总IP)':0,\n",
    "                      '对比前5天均值(总IP)':0,\n",
    "                      '对比前7天均值(总IP)':0,\n",
    "                      '对比昨天(总注册)':0,\n",
    "                      '对比前3天均值(总注册)':0,\n",
    "                      '对比前5天均值(总注册)':0,\n",
    "                      '对比前7天均值(总注册)':0,\n",
    "                      '对比昨天(总开户)':0,\n",
    "                      '对比前3天均值(总开户)':0,\n",
    "                      '对比前5天均值(总开户)':0,\n",
    "                      '对比前7天均值(总开户)':0})\n",
    "\n",
    "shuju.set_index('人员',inplace = True)\n",
    "\n",
    "data['IP']=pd.to_numeric(data['IP'],errors='coerce').replace(np.nan,0).astype('int64')\n",
    "grp=data.groupby('网站名(domain)').agg({'IP':sum})\n",
    "\n",
    "shuju.loc['Paddy','发送IP']=grp.loc['paddy.com','IP']\n",
    "shuju.loc['Paddy','接受IP']=grp.loc['paddy.bty','IP']\n",
    "shuju.loc['Tony','发送IP']=grp.loc['tonyb.com','IP']/2\n",
    "shuju.loc['Tony','接受IP']=grp.loc['tonyb.com','IP']\n",
    "shuju.loc['Max','发送IP']=grp.loc['mulu.com','IP']\n",
    "shuju.loc['Max','接受IP']=grp.loc['max.bty','IP']\n",
    "shuju.loc['Martin','发送IP']=grp.loc['redquan.com','IP']\n",
    "shuju.loc['Martin','接受IP']=grp.loc['martin.bty','IP']\n",
    "shuju.loc['Zed','发送IP']=grp.loc['zed.com','IP']\n",
    "shuju.loc['Zed','接受IP']=grp.loc['zed.bty','IP']\n",
    "shuju.loc['Hugo','发送IP']=grp.loc['hugo.com','IP']\n",
    "# shuju.loc['Hugo','接受IP']=grp.loc['hugo.bty','IP']\n",
    "shuju.loc['Hugo','接受IP']=0\n",
    "\n",
    "shuju.loc['Aber','发送IP']=grp.loc['aber.com','IP']/2\n",
    "shuju.loc['Aber','接受IP']=grp.loc['aber.bty','IP']\n",
    "shuju.loc['DK','发送IP']=grp.loc['dk.com','IP']/2\n",
    "shuju.loc['DK','接受IP']=grp.loc['dk.bty','IP']\n",
    "shuju.loc['Ben','发送IP']=grp.loc['ben.com','IP']/2\n",
    "shuju.loc['Ben','接受IP']=grp.loc['ben.bty','IP']\n",
    "shuju.loc['当日汇总','发送IP']=shuju['发送IP'].sum()\n",
    "shuju.loc['当日汇总','接受IP']=shuju['接受IP'].sum()\n",
    "\n",
    "shuju['日期'] = pd.to_datetime(shuju['日期'])\n",
    "shuju.insert(1,'人员2',shuju.index)\n",
    "shuju['人员2']=shuju['人员2'].str.lower()\n",
    "\n",
    "# 第1次merge前，重置索引\n",
    "shuju.reset_index(inplace=True)\n",
    "\n",
    "merge_user = pd.merge(user,daili,how = 'left',left_on='代理',right_on='代理线')\n",
    "grpSEO = merge_user.groupby('seo变化数据团队').agg({'seo变化数据团队':len})\n",
    "grpSEO.rename(columns={'seo变化数据团队':'注册'},inplace=True)\n",
    "grpSEO.reset_index(inplace=True)\n",
    "grpSEO['人员2'] = grpSEO['seo变化数据团队'].str.lower()\n",
    "grpSEO.set_index('seo变化数据团队',inplace=True)\n",
    "\n",
    "shuju=shuju.merge(grpSEO,on='人员2',how='left')\n",
    "shuju['注册率'] = shuju['注册']/shuju['发送IP']*100\n",
    "\n",
    "merge_charge = pd.merge(firChargeUser,daili,how='left',left_on='所属代理',right_on='代理线')\n",
    "grpCHARGE = merge_charge.groupby('seo变化数据团队').agg({'seo变化数据团队':len})\n",
    "grpCHARGE= grpCHARGE.rename(columns={'seo变化数据团队':'开户'})\n",
    "grpCHARGE.reset_index(inplace=True)\n",
    "grpCHARGE['seo变化数据团队']=grpCHARGE['seo变化数据团队'].str.lower()\n",
    "grpCHARGE= grpCHARGE.rename(columns={'seo变化数据团队':'人员2'})\n",
    "# 第2次merge\n",
    "shuju = pd.merge(shuju,grpCHARGE,how='left',on='人员2')\n",
    "shuju['转化率'] = shuju['开户']/shuju['注册']*100\n",
    "\n",
    "grp3  = merge_charge[merge_charge['注册时间'].str[:9]==merge_charge['交易时间'].str[:9]].groupby('seo变化数据团队').agg({'seo变化数据团队':len})\n",
    "grp3.rename(columns = {'seo变化数据团队':'当日注册并开户'},inplace=True)\n",
    "grp3.reset_index(inplace=True)\n",
    "grp3['seo变化数据团队'] =grp3['seo变化数据团队'].str.lower()\n",
    "grp3.rename(columns = {'seo变化数据团队':'人员2'},inplace=True)\n",
    "# 第3次merge\n",
    "shuju  = pd.merge(shuju,grp3,how='left',on='人员2')\n",
    "shuju['当日注册激活率'] = shuju['当日注册并开户']/shuju['注册']*100\n",
    "\n",
    "#------------\n",
    "his_data  = pd.read_excel(r'C:\\Users\\User\\Desktop\\SEO_0807\\SEO每日模板-每日更新.xlsx','历史')\n",
    "be_data = his_data[his_data['日期']==(shuju['日期'][0]+datetime.timedelta(days=-2))][:-1]\n",
    "\n",
    "# shuju.sort_index(inplace=True)\n",
    "shuju.set_index('人员',inplace = True)\n",
    "shuju.sort_index(inplace=True)\n",
    "be_data.set_index('人员',inplace=True)\n",
    "be_data.sort_index(inplace=True)\n",
    "\n",
    "be3_data = his_data[his_data['日期']>(shuju['日期'][0]+datetime.timedelta(days=-3))]\n",
    "be3_data = be3_data.groupby('人员').mean()[:-1]\n",
    "be5_data = his_data[his_data['日期']>(shuju['日期'][0]+datetime.timedelta(days=-5))]\n",
    "be5_data = be5_data.groupby('人员').mean()[:-1]\n",
    "be7_data = his_data[his_data['日期']>(shuju['日期'][0]+datetime.timedelta(days=-7))]\n",
    "be7_data = be7_data.groupby('人员').mean()[:-1]\n",
    "\n",
    "shuju['对比昨天(总IP)']=shuju['发送IP']-be_data['总IP']\n",
    "shuju['对比前3天均值(总IP)']= shuju['发送IP']-be3_data['总IP']\n",
    "shuju['对比前5天均值(总IP)']= shuju['发送IP']-be5_data['总IP']\n",
    "shuju['对比前7天均值(总IP)']= shuju['发送IP']-be7_data['总IP']\n",
    "\n",
    "shuju['对比昨天(总注册)']=shuju['发送IP']-be_data['总IP']\n",
    "shuju['对比前3天均值(总注册)']= shuju['注册']-be3_data['注册']\n",
    "shuju['对比前5天均值(总注册)']= shuju['注册']-be5_data['注册']\n",
    "shuju['对比前7天均值(总注册)']= shuju['注册']-be7_data['注册']\n",
    "\n",
    "shuju['对比昨天(总开户)']=shuju['发送IP']-be_data['总IP']\n",
    "shuju['对比前3天均值(总开户)']= shuju['开户']-be3_data['开户']\n",
    "shuju['对比前5天均值(总开户)']= shuju['开户']-be5_data['开户']\n",
    "shuju['对比前7天均值(总开户)']= shuju['开户']-be7_data['开户']\n",
    "\n",
    "shuju"
   ],
   "metadata": {
    "collapsed": false
   }
  },
  {
   "cell_type": "code",
   "execution_count": 11,
   "outputs": [
    {
     "data": {
      "text/plain": "               日期     人员2   发送IP  接受IP    注册        注册率    开户        转化率  \\\n人员                                                                         \nAber   2023-08-07    aber   7325   562  49.0   0.668942  13.0  26.530612   \nBen    2023-08-07     ben   2565   298  17.0   0.662768   6.0  35.294118   \nDK     2023-08-07      dk   1525  2160  52.0   3.409836   5.0   9.615385   \nHugo   2023-08-07    hugo    103     0  16.0  15.533981   5.0  31.250000   \nMartin 2023-08-07  martin   3445  1072  81.0   2.351234  24.0  29.629630   \nMax    2023-08-07     max    273   225   9.0   3.296703   NaN        NaN   \nPaddy  2023-08-07   paddy      0    51   3.0        inf   2.0  66.666667   \nTony   2023-08-07    tony    568  1136  15.0   2.640845   3.0  20.000000   \nZed    2023-08-07     zed   4853   329  22.0   0.453328   8.0  36.363636   \n当日汇总   2023-08-07    当日汇总  20657  5833   NaN        NaN   NaN        NaN   \n\n        当日注册并开户    当日注册激活率  对比昨天(总IP)  对比前3天均值(总IP)  对比前5天均值(总IP)  \\\n人员                                                                  \nAber        9.0  18.367347    -2150.0  -1503.000000       -1483.6   \nBen         3.0  17.647059     -433.0   -144.333333        -793.8   \nDK          5.0   9.615385      149.0     83.666667          57.8   \nHugo        2.0  12.500000      -83.0    -35.000000        -225.2   \nMartin     18.0  22.222222      352.0    181.666667         285.6   \nMax         NaN        NaN       -8.0     -7.333333          -5.0   \nPaddy       2.0  66.666667        0.0      0.000000           0.0   \nTony        3.0  20.000000     -130.0    -51.000000         -69.6   \nZed         8.0  36.363636      623.0    260.000000         422.4   \n当日汇总        NaN        NaN        NaN           NaN           NaN   \n\n        对比前7天均值(总IP)  对比昨天(总注册)  对比前3天均值(总注册)  对比前5天均值(总注册)  对比前7天均值(总注册)  \\\n人员                                                                          \nAber     -768.142857    -2150.0      7.000000           8.4      9.000000   \nBen     -2063.714286     -433.0      7.333333           5.8      4.285714   \nDK         47.857143      149.0     21.000000          21.4     20.571429   \nHugo     -446.000000      -83.0      5.333333           1.8     -0.285714   \nMartin    620.714286      352.0     10.000000          20.8     27.714286   \nMax        -5.428571       -8.0      3.333333           3.2      3.571429   \nPaddy     -59.285714        0.0      1.666667           1.2      1.714286   \nTony      -71.285714     -130.0     -0.333333           0.4      1.857143   \nZed       610.857143      623.0      9.666667          12.0     13.000000   \n当日汇总             NaN        NaN           NaN           NaN           NaN   \n\n        对比昨天(总开户)  对比前3天均值(总开户)  对比前5天均值(总开户)  对比前7天均值(总开户)  \n人员                                                           \nAber      -2150.0     -3.666667          -1.8     -0.857143  \nBen        -433.0      3.000000           3.4      3.285714  \nDK          149.0     -3.000000          -3.8     -4.714286  \nHugo        -83.0      0.000000          -1.6     -1.714286  \nMartin      352.0      4.000000           6.6      8.571429  \nMax          -8.0           NaN           NaN           NaN  \nPaddy         0.0      1.333333           1.4      1.428571  \nTony       -130.0     -2.000000          -2.2     -2.714286  \nZed         623.0      1.333333           2.6      3.714286  \n当日汇总          NaN           NaN           NaN           NaN  ",
      "text/html": "<div>\n<style scoped>\n    .dataframe tbody tr th:only-of-type {\n        vertical-align: middle;\n    }\n\n    .dataframe tbody tr th {\n        vertical-align: top;\n    }\n\n    .dataframe thead th {\n        text-align: right;\n    }\n</style>\n<table border=\"1\" class=\"dataframe\">\n  <thead>\n    <tr style=\"text-align: right;\">\n      <th></th>\n      <th>日期</th>\n      <th>人员2</th>\n      <th>发送IP</th>\n      <th>接受IP</th>\n      <th>注册</th>\n      <th>注册率</th>\n      <th>开户</th>\n      <th>转化率</th>\n      <th>当日注册并开户</th>\n      <th>当日注册激活率</th>\n      <th>对比昨天(总IP)</th>\n      <th>对比前3天均值(总IP)</th>\n      <th>对比前5天均值(总IP)</th>\n      <th>对比前7天均值(总IP)</th>\n      <th>对比昨天(总注册)</th>\n      <th>对比前3天均值(总注册)</th>\n      <th>对比前5天均值(总注册)</th>\n      <th>对比前7天均值(总注册)</th>\n      <th>对比昨天(总开户)</th>\n      <th>对比前3天均值(总开户)</th>\n      <th>对比前5天均值(总开户)</th>\n      <th>对比前7天均值(总开户)</th>\n    </tr>\n    <tr>\n      <th>人员</th>\n      <th></th>\n      <th></th>\n      <th></th>\n      <th></th>\n      <th></th>\n      <th></th>\n      <th></th>\n      <th></th>\n      <th></th>\n      <th></th>\n      <th></th>\n      <th></th>\n      <th></th>\n      <th></th>\n      <th></th>\n      <th></th>\n      <th></th>\n      <th></th>\n      <th></th>\n      <th></th>\n      <th></th>\n      <th></th>\n    </tr>\n  </thead>\n  <tbody>\n    <tr>\n      <th>Aber</th>\n      <td>2023-08-07</td>\n      <td>aber</td>\n      <td>7325</td>\n      <td>562</td>\n      <td>49.0</td>\n      <td>0.668942</td>\n      <td>13.0</td>\n      <td>26.530612</td>\n      <td>9.0</td>\n      <td>18.367347</td>\n      <td>-2150.0</td>\n      <td>-1503.000000</td>\n      <td>-1483.6</td>\n      <td>-768.142857</td>\n      <td>-2150.0</td>\n      <td>7.000000</td>\n      <td>8.4</td>\n      <td>9.000000</td>\n      <td>-2150.0</td>\n      <td>-3.666667</td>\n      <td>-1.8</td>\n      <td>-0.857143</td>\n    </tr>\n    <tr>\n      <th>Ben</th>\n      <td>2023-08-07</td>\n      <td>ben</td>\n      <td>2565</td>\n      <td>298</td>\n      <td>17.0</td>\n      <td>0.662768</td>\n      <td>6.0</td>\n      <td>35.294118</td>\n      <td>3.0</td>\n      <td>17.647059</td>\n      <td>-433.0</td>\n      <td>-144.333333</td>\n      <td>-793.8</td>\n      <td>-2063.714286</td>\n      <td>-433.0</td>\n      <td>7.333333</td>\n      <td>5.8</td>\n      <td>4.285714</td>\n      <td>-433.0</td>\n      <td>3.000000</td>\n      <td>3.4</td>\n      <td>3.285714</td>\n    </tr>\n    <tr>\n      <th>DK</th>\n      <td>2023-08-07</td>\n      <td>dk</td>\n      <td>1525</td>\n      <td>2160</td>\n      <td>52.0</td>\n      <td>3.409836</td>\n      <td>5.0</td>\n      <td>9.615385</td>\n      <td>5.0</td>\n      <td>9.615385</td>\n      <td>149.0</td>\n      <td>83.666667</td>\n      <td>57.8</td>\n      <td>47.857143</td>\n      <td>149.0</td>\n      <td>21.000000</td>\n      <td>21.4</td>\n      <td>20.571429</td>\n      <td>149.0</td>\n      <td>-3.000000</td>\n      <td>-3.8</td>\n      <td>-4.714286</td>\n    </tr>\n    <tr>\n      <th>Hugo</th>\n      <td>2023-08-07</td>\n      <td>hugo</td>\n      <td>103</td>\n      <td>0</td>\n      <td>16.0</td>\n      <td>15.533981</td>\n      <td>5.0</td>\n      <td>31.250000</td>\n      <td>2.0</td>\n      <td>12.500000</td>\n      <td>-83.0</td>\n      <td>-35.000000</td>\n      <td>-225.2</td>\n      <td>-446.000000</td>\n      <td>-83.0</td>\n      <td>5.333333</td>\n      <td>1.8</td>\n      <td>-0.285714</td>\n      <td>-83.0</td>\n      <td>0.000000</td>\n      <td>-1.6</td>\n      <td>-1.714286</td>\n    </tr>\n    <tr>\n      <th>Martin</th>\n      <td>2023-08-07</td>\n      <td>martin</td>\n      <td>3445</td>\n      <td>1072</td>\n      <td>81.0</td>\n      <td>2.351234</td>\n      <td>24.0</td>\n      <td>29.629630</td>\n      <td>18.0</td>\n      <td>22.222222</td>\n      <td>352.0</td>\n      <td>181.666667</td>\n      <td>285.6</td>\n      <td>620.714286</td>\n      <td>352.0</td>\n      <td>10.000000</td>\n      <td>20.8</td>\n      <td>27.714286</td>\n      <td>352.0</td>\n      <td>4.000000</td>\n      <td>6.6</td>\n      <td>8.571429</td>\n    </tr>\n    <tr>\n      <th>Max</th>\n      <td>2023-08-07</td>\n      <td>max</td>\n      <td>273</td>\n      <td>225</td>\n      <td>9.0</td>\n      <td>3.296703</td>\n      <td>NaN</td>\n      <td>NaN</td>\n      <td>NaN</td>\n      <td>NaN</td>\n      <td>-8.0</td>\n      <td>-7.333333</td>\n      <td>-5.0</td>\n      <td>-5.428571</td>\n      <td>-8.0</td>\n      <td>3.333333</td>\n      <td>3.2</td>\n      <td>3.571429</td>\n      <td>-8.0</td>\n      <td>NaN</td>\n      <td>NaN</td>\n      <td>NaN</td>\n    </tr>\n    <tr>\n      <th>Paddy</th>\n      <td>2023-08-07</td>\n      <td>paddy</td>\n      <td>0</td>\n      <td>51</td>\n      <td>3.0</td>\n      <td>inf</td>\n      <td>2.0</td>\n      <td>66.666667</td>\n      <td>2.0</td>\n      <td>66.666667</td>\n      <td>0.0</td>\n      <td>0.000000</td>\n      <td>0.0</td>\n      <td>-59.285714</td>\n      <td>0.0</td>\n      <td>1.666667</td>\n      <td>1.2</td>\n      <td>1.714286</td>\n      <td>0.0</td>\n      <td>1.333333</td>\n      <td>1.4</td>\n      <td>1.428571</td>\n    </tr>\n    <tr>\n      <th>Tony</th>\n      <td>2023-08-07</td>\n      <td>tony</td>\n      <td>568</td>\n      <td>1136</td>\n      <td>15.0</td>\n      <td>2.640845</td>\n      <td>3.0</td>\n      <td>20.000000</td>\n      <td>3.0</td>\n      <td>20.000000</td>\n      <td>-130.0</td>\n      <td>-51.000000</td>\n      <td>-69.6</td>\n      <td>-71.285714</td>\n      <td>-130.0</td>\n      <td>-0.333333</td>\n      <td>0.4</td>\n      <td>1.857143</td>\n      <td>-130.0</td>\n      <td>-2.000000</td>\n      <td>-2.2</td>\n      <td>-2.714286</td>\n    </tr>\n    <tr>\n      <th>Zed</th>\n      <td>2023-08-07</td>\n      <td>zed</td>\n      <td>4853</td>\n      <td>329</td>\n      <td>22.0</td>\n      <td>0.453328</td>\n      <td>8.0</td>\n      <td>36.363636</td>\n      <td>8.0</td>\n      <td>36.363636</td>\n      <td>623.0</td>\n      <td>260.000000</td>\n      <td>422.4</td>\n      <td>610.857143</td>\n      <td>623.0</td>\n      <td>9.666667</td>\n      <td>12.0</td>\n      <td>13.000000</td>\n      <td>623.0</td>\n      <td>1.333333</td>\n      <td>2.6</td>\n      <td>3.714286</td>\n    </tr>\n    <tr>\n      <th>当日汇总</th>\n      <td>2023-08-07</td>\n      <td>当日汇总</td>\n      <td>20657</td>\n      <td>5833</td>\n      <td>NaN</td>\n      <td>NaN</td>\n      <td>NaN</td>\n      <td>NaN</td>\n      <td>NaN</td>\n      <td>NaN</td>\n      <td>NaN</td>\n      <td>NaN</td>\n      <td>NaN</td>\n      <td>NaN</td>\n      <td>NaN</td>\n      <td>NaN</td>\n      <td>NaN</td>\n      <td>NaN</td>\n      <td>NaN</td>\n      <td>NaN</td>\n      <td>NaN</td>\n      <td>NaN</td>\n    </tr>\n  </tbody>\n</table>\n</div>"
     },
     "execution_count": 11,
     "metadata": {},
     "output_type": "execute_result"
    }
   ],
   "source": [
    "shuju = shuju.iloc[:,:4].join(shuju.iloc[:,-6:]).join(shuju.iloc[:,4:-6])"
   ],
   "metadata": {
    "collapsed": false
   }
  }
 ],
 "metadata": {
  "kernelspec": {
   "name": "schedule",
   "language": "python",
   "display_name": "schedule"
  },
  "language_info": {
   "codemirror_mode": {
    "name": "ipython",
    "version": 2
   },
   "file_extension": ".py",
   "mimetype": "text/x-python",
   "name": "python",
   "nbconvert_exporter": "python",
   "pygments_lexer": "ipython2",
   "version": "2.7.6"
  }
 },
 "nbformat": 4,
 "nbformat_minor": 0
}
