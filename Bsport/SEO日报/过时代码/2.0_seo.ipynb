{
 "cells": [
  {
   "cell_type": "code",
   "execution_count": 1,
   "outputs": [],
   "source": [
    "from IPython.core.interactiveshell import InteractiveShell\n",
    "InteractiveShell.ast_node_interactivity = 'all'"
   ],
   "metadata": {
    "collapsed": false
   }
  },
  {
   "cell_type": "code",
   "execution_count": 5,
   "outputs": [
    {
     "name": "stderr",
     "output_type": "stream",
     "text": [
      "C:\\ProgramData\\anaconda3\\envs\\schedule\\Lib\\site-packages\\openpyxl\\styles\\stylesheet.py:226: UserWarning: Workbook contains no default style, apply openpyxl's default\n",
      "  warn(\"Workbook contains no default style, apply openpyxl's default\")\n",
      "C:\\Users\\User\\AppData\\Local\\Temp\\ipykernel_11320\\809906320.py:85: SettingWithCopyWarning: \n",
      "A value is trying to be set on a copy of a slice from a DataFrame\n",
      "\n",
      "See the caveats in the documentation: https://pandas.pydata.org/pandas-docs/stable/user_guide/indexing.html#returning-a-view-versus-a-copy\n",
      "  be_data.sort_index(inplace=True)\n",
      "C:\\Users\\User\\AppData\\Local\\Temp\\ipykernel_11320\\809906320.py:88: FutureWarning: The default value of numeric_only in DataFrameGroupBy.mean is deprecated. In a future version, numeric_only will default to False. Either specify numeric_only or select only columns which should be valid for the function.\n",
      "  be3_data = be3_data.groupby('人员').mean()\n",
      "C:\\Users\\User\\AppData\\Local\\Temp\\ipykernel_11320\\809906320.py:90: FutureWarning: The default value of numeric_only in DataFrameGroupBy.mean is deprecated. In a future version, numeric_only will default to False. Either specify numeric_only or select only columns which should be valid for the function.\n",
      "  be5_data = be5_data.groupby('人员').mean()\n",
      "C:\\Users\\User\\AppData\\Local\\Temp\\ipykernel_11320\\809906320.py:92: FutureWarning: The default value of numeric_only in DataFrameGroupBy.mean is deprecated. In a future version, numeric_only will default to False. Either specify numeric_only or select only columns which should be valid for the function.\n",
      "  be7_data = be7_data.groupby('人员').mean()\n"
     ]
    }
   ],
   "source": [
    "import pandas as pd\n",
    "import numpy as np\n",
    "import datetime\n",
    "pd.set_option('display.max_colwidth', None) #显示单元格完整信息\n",
    "pd.set_option('display.max_columns', None)\n",
    "pd.set_option('display.max_rows', None)\n",
    "\n",
    "user = pd.read_csv(r'C:\\Users\\User\\Desktop\\SEO_0807\\会员列表导出.csv',encoding='gbk')\n",
    "firChargeUser = pd.read_csv(r'C:\\Users\\User\\Desktop\\SEO_0807\\会员首存报表.csv',encoding='gbk')\n",
    "data = pd.read_excel(r'C:\\Users\\User\\Desktop\\SEO_0807\\data\\今日数据.xlsx')\n",
    "daili = pd.read_excel(r'C:\\Users\\User\\Desktop\\SEO_0807\\SEO每日模板-每日更新.xlsx','代理总表')\n",
    "\n",
    "shuju = pd.DataFrame({'人员':['Paddy', 'Tony', 'Max', 'Martin', 'Zed', 'Hugo', 'Aber', 'DK', 'Ben','当日汇总'],\n",
    "                      '日期':(datetime.datetime.now()+datetime.timedelta(days=-3)).strftime('%Y/%m/%d'),\n",
    "                      '发送IP':[i for i in range(10)],'接受IP':[i for i in range(10)]})\n",
    "shuju.set_index('人员',inplace = True)\n",
    "shuju.sort_index(inplace=True)\n",
    "\n",
    "data['IP']=pd.to_numeric(data['IP'],errors='coerce').replace(np.nan,0)\n",
    "grp=data.groupby('网站名(domain)').agg({'IP':sum})\n",
    "\n",
    "shuju.loc['Paddy','发送IP']=grp.loc['paddy.com','IP']\n",
    "shuju.loc['Paddy','接受IP']=grp.loc['paddy.bty','IP']\n",
    "shuju.loc['Tony','发送IP']=grp.loc['tonyb.com','IP']/2\n",
    "shuju.loc['Tony','接受IP']=grp.loc['tonyb.com','IP']\n",
    "shuju.loc['Max','发送IP']=grp.loc['mulu.com','IP']\n",
    "shuju.loc['Max','接受IP']=grp.loc['max.bty','IP']\n",
    "shuju.loc['Martin','发送IP']=grp.loc['redquan.com','IP']\n",
    "shuju.loc['Martin','接受IP']=grp.loc['martin.bty','IP']\n",
    "shuju.loc['Zed','发送IP']=grp.loc['zed.com','IP']\n",
    "shuju.loc['Zed','接受IP']=grp.loc['zed.bty','IP']\n",
    "shuju.loc['Hugo','发送IP']=grp.loc['hugo.com','IP']\n",
    "# shuju.loc['Hugo','接受IP']=grp.loc['hugo.bty','IP']\n",
    "shuju.loc['Hugo','接受IP']=0\n",
    "\n",
    "shuju.loc['Aber','发送IP']=grp.loc['aber.com','IP']/2\n",
    "shuju.loc['Aber','接受IP']=grp.loc['aber.bty','IP']\n",
    "shuju.loc['DK','发送IP']=grp.loc['dk.com','IP']/2\n",
    "shuju.loc['DK','接受IP']=grp.loc['dk.bty','IP']\n",
    "shuju.loc['Ben','发送IP']=grp.loc['ben.com','IP']/2\n",
    "shuju.loc['Ben','接受IP']=grp.loc['ben.bty','IP']\n",
    "\n",
    "shuju['日期'] = pd.to_datetime(shuju['日期'])\n",
    "shuju.insert(1,'人员2',shuju.index)\n",
    "shuju['人员2']=shuju['人员2'].str.lower()\n",
    "shuju.reset_index(inplace=True)\n",
    "\n",
    "merge_user = pd.merge(user,daili,how = 'left',left_on='代理',right_on='代理线')\n",
    "grpSEO = merge_user.groupby('seo变化数据团队').agg({'seo变化数据团队':len})\n",
    "grpSEO.rename(columns={'seo变化数据团队':'注册'},inplace=True)\n",
    "grpSEO.reset_index(inplace=True)\n",
    "grpSEO['人员2'] = grpSEO['seo变化数据团队'].str.lower()\n",
    "grpSEO.set_index('seo变化数据团队',inplace=True)\n",
    "\n",
    "# 第1次merge\n",
    "shuju = pd.merge(shuju,grpSEO,on='人员2')\n",
    "shuju['注册率'] = shuju['注册']/shuju['发送IP']*100\n",
    "\n",
    "merge_charge = pd.merge(firChargeUser,daili,how='left',left_on='所属代理',right_on='代理线')\n",
    "grpCHARGE = merge_charge.groupby('seo变化数据团队').agg({'seo变化数据团队':len})\n",
    "grpCHARGE= grpCHARGE.rename(columns={'seo变化数据团队':'开户'})\n",
    "grpCHARGE.reset_index(inplace=True)\n",
    "grpCHARGE['seo变化数据团队']=grpCHARGE['seo变化数据团队'].str.lower()\n",
    "grpCHARGE= grpCHARGE.rename(columns={'seo变化数据团队':'人员2'})\n",
    "\n",
    "# 第2次merge\n",
    "shuju = pd.merge(shuju,grpCHARGE,how='left',on='人员2')\n",
    "shuju['转化率'] = shuju['开户']/shuju['注册']*100\n",
    "\n",
    "grp3  = merge_charge[merge_charge['注册时间'].str[:9]==merge_charge['交易时间'].str[:9]].groupby('seo变化数据团队').agg({'seo变化数据团队':len})\n",
    "grp3.rename(columns = {'seo变化数据团队':'当日注册并开户'},inplace=True)\n",
    "grp3.reset_index(inplace=True)\n",
    "grp3['seo变化数据团队'] =grp3['seo变化数据团队'].str.lower()\n",
    "grp3.rename(columns = {'seo变化数据团队':'人员2'},inplace=True)\n",
    "# 第3次merge\n",
    "shuju  = pd.merge(shuju,grp3,how='left',on='人员2')\n",
    "shuju['当日注册激活率'] = shuju['当日注册并开户']/shuju['注册']*100\n",
    "\n",
    "his_data  = pd.read_excel(r'C:\\Users\\User\\Desktop\\SEO_0807\\SEO每日模板-每日更新.xlsx','历史')\n",
    "be_data = his_data[his_data['日期']==(shuju['日期'][0]+datetime.timedelta(days=-2))]\n",
    "\n",
    "shuju.set_index('人员',inplace=True)\n",
    "shuju.sort_index(inplace=True)\n",
    "be_data.set_index('人员',inplace=True)\n",
    "be_data.sort_index(inplace=True)\n",
    "\n",
    "be3_data = his_data[his_data['日期']>(shuju['日期'][0]+datetime.timedelta(days=-3))]\n",
    "be3_data = be3_data.groupby('人员').mean()\n",
    "be5_data = his_data[his_data['日期']>(shuju['日期'][0]+datetime.timedelta(days=-5))]\n",
    "be5_data = be5_data.groupby('人员').mean()\n",
    "be7_data = his_data[his_data['日期']>(shuju['日期'][0]+datetime.timedelta(days=-7))]\n",
    "be7_data = be7_data.groupby('人员').mean()\n",
    "\n",
    "all_ip= shuju.iloc[:,:3]\n",
    "all_ip['对比昨天(总IP)']=shuju['发送IP']-be_data['总IP']\n",
    "all_ip['对比前3天均值(总IP)']= shuju['发送IP']-be3_data['总IP']\n",
    "all_ip['对比前5天均值(总IP)']= shuju['发送IP']-be5_data['总IP']\n",
    "all_ip['对比前7天均值(总IP)']= shuju['发送IP']-be7_data['总IP']\n",
    "\n",
    "all_ip['对比昨天(总注册)']=shuju['发送IP']-be_data['总IP']\n",
    "all_ip['对比前3天均值(总注册)']= shuju['注册']-be3_data['注册']\n",
    "all_ip['对比前5天均值(总注册)']= shuju['注册']-be5_data['注册']\n",
    "all_ip['对比前7天均值(总注册)']= shuju['注册']-be7_data['注册']\n",
    "\n",
    "all_ip['对比昨天(总开户)']=shuju['发送IP']-be_data['总IP']\n",
    "all_ip['对比前3天均值(总开户)']= shuju['开户']-be3_data['开户']\n",
    "all_ip['对比前5天均值(总开户)']= shuju['开户']-be5_data['开户']\n",
    "all_ip['对比前7天均值(总开户)']= shuju['开户']-be7_data['开户']\n",
    "# 纵向连接表格\n",
    "shuju=shuju.join(all_ip,rsuffix='_2')\n",
    "shuju.drop(['日期_2','人员2_2','发送IP_2'],inplace=True,axis=1)"
   ],
   "metadata": {
    "collapsed": false
   }
  },
  {
   "cell_type": "code",
   "execution_count": 6,
   "outputs": [
    {
     "data": {
      "text/plain": "               日期     人员2  发送IP  接受IP  注册        注册率    开户        转化率  \\\n人员                                                                      \nAber   2023-08-07    aber  7325   562  49   0.668942  13.0  26.530612   \nBen    2023-08-07     ben  2565   298  17   0.662768   6.0  35.294118   \nDK     2023-08-07      dk  1525  2160  52   3.409836   5.0   9.615385   \nHugo   2023-08-07    hugo   103     0  16  15.533981   5.0  31.250000   \nMartin 2023-08-07  martin  3445  1072  81   2.351234  24.0  29.629630   \nMax    2023-08-07     max   273   225   9   3.296703   NaN        NaN   \nPaddy  2023-08-07   paddy     0    51   3        inf   2.0  66.666667   \nTony   2023-08-07    tony   568  1136  15   2.640845   3.0  20.000000   \nZed    2023-08-07     zed  4853   329  22   0.453328   8.0  36.363636   \n\n        当日注册并开户    当日注册激活率  对比昨天(总IP)  对比前3天均值(总IP)  对比前5天均值(总IP)  \\\n人员                                                                  \nAber        9.0  18.367347    -2150.0  -1503.000000       -1483.6   \nBen         3.0  17.647059     -433.0   -144.333333        -793.8   \nDK          5.0   9.615385      149.0     83.666667          57.8   \nHugo        2.0  12.500000      -83.0    -35.000000        -225.2   \nMartin     18.0  22.222222      352.0    181.666667         285.6   \nMax         NaN        NaN       -8.0     -7.333333          -5.0   \nPaddy       2.0  66.666667        0.0      0.000000           0.0   \nTony        3.0  20.000000     -130.0    -51.000000         -69.6   \nZed         8.0  36.363636      623.0    260.000000         422.4   \n\n        对比前7天均值(总IP)  对比昨天(总注册)  对比前3天均值(总注册)  对比前5天均值(总注册)  对比前7天均值(总注册)  \\\n人员                                                                          \nAber     -768.142857    -2150.0      7.000000           8.4      9.000000   \nBen     -2063.714286     -433.0      7.333333           5.8      4.285714   \nDK         47.857143      149.0     21.000000          21.4     20.571429   \nHugo     -446.000000      -83.0      5.333333           1.8     -0.285714   \nMartin    620.714286      352.0     10.000000          20.8     27.714286   \nMax        -5.428571       -8.0      3.333333           3.2      3.571429   \nPaddy     -59.285714        0.0      1.666667           1.2      1.714286   \nTony      -71.285714     -130.0     -0.333333           0.4      1.857143   \nZed       610.857143      623.0      9.666667          12.0     13.000000   \n\n        对比昨天(总开户)  对比前3天均值(总开户)  对比前5天均值(总开户)  对比前7天均值(总开户)  \n人员                                                           \nAber      -2150.0     -3.666667          -1.8     -0.857143  \nBen        -433.0      3.000000           3.4      3.285714  \nDK          149.0     -3.000000          -3.8     -4.714286  \nHugo        -83.0      0.000000          -1.6     -1.714286  \nMartin      352.0      4.000000           6.6      8.571429  \nMax          -8.0           NaN           NaN           NaN  \nPaddy         0.0      1.333333           1.4      1.428571  \nTony       -130.0     -2.000000          -2.2     -2.714286  \nZed         623.0      1.333333           2.6      3.714286  ",
      "text/html": "<div>\n<style scoped>\n    .dataframe tbody tr th:only-of-type {\n        vertical-align: middle;\n    }\n\n    .dataframe tbody tr th {\n        vertical-align: top;\n    }\n\n    .dataframe thead th {\n        text-align: right;\n    }\n</style>\n<table border=\"1\" class=\"dataframe\">\n  <thead>\n    <tr style=\"text-align: right;\">\n      <th></th>\n      <th>日期</th>\n      <th>人员2</th>\n      <th>发送IP</th>\n      <th>接受IP</th>\n      <th>注册</th>\n      <th>注册率</th>\n      <th>开户</th>\n      <th>转化率</th>\n      <th>当日注册并开户</th>\n      <th>当日注册激活率</th>\n      <th>对比昨天(总IP)</th>\n      <th>对比前3天均值(总IP)</th>\n      <th>对比前5天均值(总IP)</th>\n      <th>对比前7天均值(总IP)</th>\n      <th>对比昨天(总注册)</th>\n      <th>对比前3天均值(总注册)</th>\n      <th>对比前5天均值(总注册)</th>\n      <th>对比前7天均值(总注册)</th>\n      <th>对比昨天(总开户)</th>\n      <th>对比前3天均值(总开户)</th>\n      <th>对比前5天均值(总开户)</th>\n      <th>对比前7天均值(总开户)</th>\n    </tr>\n    <tr>\n      <th>人员</th>\n      <th></th>\n      <th></th>\n      <th></th>\n      <th></th>\n      <th></th>\n      <th></th>\n      <th></th>\n      <th></th>\n      <th></th>\n      <th></th>\n      <th></th>\n      <th></th>\n      <th></th>\n      <th></th>\n      <th></th>\n      <th></th>\n      <th></th>\n      <th></th>\n      <th></th>\n      <th></th>\n      <th></th>\n      <th></th>\n    </tr>\n  </thead>\n  <tbody>\n    <tr>\n      <th>Aber</th>\n      <td>2023-08-07</td>\n      <td>aber</td>\n      <td>7325</td>\n      <td>562</td>\n      <td>49</td>\n      <td>0.668942</td>\n      <td>13.0</td>\n      <td>26.530612</td>\n      <td>9.0</td>\n      <td>18.367347</td>\n      <td>-2150.0</td>\n      <td>-1503.000000</td>\n      <td>-1483.6</td>\n      <td>-768.142857</td>\n      <td>-2150.0</td>\n      <td>7.000000</td>\n      <td>8.4</td>\n      <td>9.000000</td>\n      <td>-2150.0</td>\n      <td>-3.666667</td>\n      <td>-1.8</td>\n      <td>-0.857143</td>\n    </tr>\n    <tr>\n      <th>Ben</th>\n      <td>2023-08-07</td>\n      <td>ben</td>\n      <td>2565</td>\n      <td>298</td>\n      <td>17</td>\n      <td>0.662768</td>\n      <td>6.0</td>\n      <td>35.294118</td>\n      <td>3.0</td>\n      <td>17.647059</td>\n      <td>-433.0</td>\n      <td>-144.333333</td>\n      <td>-793.8</td>\n      <td>-2063.714286</td>\n      <td>-433.0</td>\n      <td>7.333333</td>\n      <td>5.8</td>\n      <td>4.285714</td>\n      <td>-433.0</td>\n      <td>3.000000</td>\n      <td>3.4</td>\n      <td>3.285714</td>\n    </tr>\n    <tr>\n      <th>DK</th>\n      <td>2023-08-07</td>\n      <td>dk</td>\n      <td>1525</td>\n      <td>2160</td>\n      <td>52</td>\n      <td>3.409836</td>\n      <td>5.0</td>\n      <td>9.615385</td>\n      <td>5.0</td>\n      <td>9.615385</td>\n      <td>149.0</td>\n      <td>83.666667</td>\n      <td>57.8</td>\n      <td>47.857143</td>\n      <td>149.0</td>\n      <td>21.000000</td>\n      <td>21.4</td>\n      <td>20.571429</td>\n      <td>149.0</td>\n      <td>-3.000000</td>\n      <td>-3.8</td>\n      <td>-4.714286</td>\n    </tr>\n    <tr>\n      <th>Hugo</th>\n      <td>2023-08-07</td>\n      <td>hugo</td>\n      <td>103</td>\n      <td>0</td>\n      <td>16</td>\n      <td>15.533981</td>\n      <td>5.0</td>\n      <td>31.250000</td>\n      <td>2.0</td>\n      <td>12.500000</td>\n      <td>-83.0</td>\n      <td>-35.000000</td>\n      <td>-225.2</td>\n      <td>-446.000000</td>\n      <td>-83.0</td>\n      <td>5.333333</td>\n      <td>1.8</td>\n      <td>-0.285714</td>\n      <td>-83.0</td>\n      <td>0.000000</td>\n      <td>-1.6</td>\n      <td>-1.714286</td>\n    </tr>\n    <tr>\n      <th>Martin</th>\n      <td>2023-08-07</td>\n      <td>martin</td>\n      <td>3445</td>\n      <td>1072</td>\n      <td>81</td>\n      <td>2.351234</td>\n      <td>24.0</td>\n      <td>29.629630</td>\n      <td>18.0</td>\n      <td>22.222222</td>\n      <td>352.0</td>\n      <td>181.666667</td>\n      <td>285.6</td>\n      <td>620.714286</td>\n      <td>352.0</td>\n      <td>10.000000</td>\n      <td>20.8</td>\n      <td>27.714286</td>\n      <td>352.0</td>\n      <td>4.000000</td>\n      <td>6.6</td>\n      <td>8.571429</td>\n    </tr>\n    <tr>\n      <th>Max</th>\n      <td>2023-08-07</td>\n      <td>max</td>\n      <td>273</td>\n      <td>225</td>\n      <td>9</td>\n      <td>3.296703</td>\n      <td>NaN</td>\n      <td>NaN</td>\n      <td>NaN</td>\n      <td>NaN</td>\n      <td>-8.0</td>\n      <td>-7.333333</td>\n      <td>-5.0</td>\n      <td>-5.428571</td>\n      <td>-8.0</td>\n      <td>3.333333</td>\n      <td>3.2</td>\n      <td>3.571429</td>\n      <td>-8.0</td>\n      <td>NaN</td>\n      <td>NaN</td>\n      <td>NaN</td>\n    </tr>\n    <tr>\n      <th>Paddy</th>\n      <td>2023-08-07</td>\n      <td>paddy</td>\n      <td>0</td>\n      <td>51</td>\n      <td>3</td>\n      <td>inf</td>\n      <td>2.0</td>\n      <td>66.666667</td>\n      <td>2.0</td>\n      <td>66.666667</td>\n      <td>0.0</td>\n      <td>0.000000</td>\n      <td>0.0</td>\n      <td>-59.285714</td>\n      <td>0.0</td>\n      <td>1.666667</td>\n      <td>1.2</td>\n      <td>1.714286</td>\n      <td>0.0</td>\n      <td>1.333333</td>\n      <td>1.4</td>\n      <td>1.428571</td>\n    </tr>\n    <tr>\n      <th>Tony</th>\n      <td>2023-08-07</td>\n      <td>tony</td>\n      <td>568</td>\n      <td>1136</td>\n      <td>15</td>\n      <td>2.640845</td>\n      <td>3.0</td>\n      <td>20.000000</td>\n      <td>3.0</td>\n      <td>20.000000</td>\n      <td>-130.0</td>\n      <td>-51.000000</td>\n      <td>-69.6</td>\n      <td>-71.285714</td>\n      <td>-130.0</td>\n      <td>-0.333333</td>\n      <td>0.4</td>\n      <td>1.857143</td>\n      <td>-130.0</td>\n      <td>-2.000000</td>\n      <td>-2.2</td>\n      <td>-2.714286</td>\n    </tr>\n    <tr>\n      <th>Zed</th>\n      <td>2023-08-07</td>\n      <td>zed</td>\n      <td>4853</td>\n      <td>329</td>\n      <td>22</td>\n      <td>0.453328</td>\n      <td>8.0</td>\n      <td>36.363636</td>\n      <td>8.0</td>\n      <td>36.363636</td>\n      <td>623.0</td>\n      <td>260.000000</td>\n      <td>422.4</td>\n      <td>610.857143</td>\n      <td>623.0</td>\n      <td>9.666667</td>\n      <td>12.0</td>\n      <td>13.000000</td>\n      <td>623.0</td>\n      <td>1.333333</td>\n      <td>2.6</td>\n      <td>3.714286</td>\n    </tr>\n  </tbody>\n</table>\n</div>"
     },
     "execution_count": 6,
     "metadata": {},
     "output_type": "execute_result"
    }
   ],
   "source": [
    "shuju"
   ],
   "metadata": {
    "collapsed": false
   }
  }
 ],
 "metadata": {
  "kernelspec": {
   "display_name": "Python 3",
   "language": "python",
   "name": "python3"
  },
  "language_info": {
   "codemirror_mode": {
    "name": "ipython",
    "version": 2
   },
   "file_extension": ".py",
   "mimetype": "text/x-python",
   "name": "python",
   "nbconvert_exporter": "python",
   "pygments_lexer": "ipython2",
   "version": "2.7.6"
  }
 },
 "nbformat": 4,
 "nbformat_minor": 0
}
