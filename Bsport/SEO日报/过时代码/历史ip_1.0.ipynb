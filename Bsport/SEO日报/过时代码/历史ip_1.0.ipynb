{
 "cells": [
  {
   "cell_type": "code",
   "execution_count": 1,
   "metadata": {
    "collapsed": true
   },
   "outputs": [],
   "source": [
    "from IPython.core.interactiveshell import InteractiveShell\n",
    "InteractiveShell.ast_node_interactivity = 'all'"
   ]
  },
  {
   "cell_type": "code",
   "execution_count": 36,
   "outputs": [
    {
     "name": "stderr",
     "output_type": "stream",
     "text": [
      "C:\\ProgramData\\anaconda3\\envs\\schedule\\Lib\\site-packages\\openpyxl\\styles\\stylesheet.py:226: UserWarning: Workbook contains no default style, apply openpyxl's default\n",
      "  warn(\"Workbook contains no default style, apply openpyxl's default\")\n"
     ]
    }
   ],
   "source": [
    "import pandas as pd\n",
    "import numpy as np\n",
    "import datetime\n",
    "# pd.set_option('display.max_colwidth', None) #显示单元格完整信息\n",
    "# pd.set_option('display.max_columns', None)\n",
    "# pd.set_option('display.max_rows', None)\n",
    "\n",
    "user = pd.read_csv(r'C:\\Users\\User\\Desktop\\SEO_0807\\会员列表导出.csv',encoding='gbk')\n",
    "firChargeUser = pd.read_csv(r'C:\\Users\\User\\Desktop\\SEO_0807\\会员首存报表.csv',encoding='gbk')\n",
    "data = pd.read_excel(r'C:\\Users\\User\\Desktop\\SEO_0807\\data\\今日数据.xlsx')\n",
    "daili = pd.read_excel(r'C:\\Users\\User\\Desktop\\SEO_0807\\SEO每日模板-每日更新.xlsx','代理总表')"
   ],
   "metadata": {
    "collapsed": false
   }
  },
  {
   "cell_type": "code",
   "execution_count": 45,
   "outputs": [
    {
     "data": {
      "text/plain": "              会员账号                       姓名         手机号码       代理  国家  \\\n0          ysb1757                      殷赛兵  155****1757    admin  中国   \n1        Vuarong39                      NaN    907****65  gfas001  越南   \n2       biiuhieu94                      NaN          NaN  gfas001  越南   \n3      Suyengo1997                      NaN    563****72  gfas001  越南   \n4         Nnta2376                      NaN          NaN  gfas001  越南   \n...            ...                      ...          ...      ...  ..   \n1417   Quanghai144         NGUYEN HAI QUANG    388****43  gfas001  越南   \n1418  bukuthue7879                      NaN          NaN   vnzb03  中国   \n1419   phuongem123  NGUYEN THI THANH PHUONG    396****16  gfas001  越南   \n1420      Hung2000           HO TRONG PHUOC    588****19  gfas001  越南   \n1421       Lyty123          Nguyen van hong    946****01   vnzb06  越南   \n\n         玩家层级 层级状态 VIP等级 VIP状态   币种  ...              注册域名  注册端  \\\n0      初审后层级2   锁定  VIP1   未锁定  CNY  ...        m.bty9.com   H5   \n1     新注册默认层级  未锁定  VIP0   未锁定  VND  ...  m-sn7.btytg3.com   H5   \n2     新注册默认层级  未锁定  VIP0   未锁定  VND  ...  m-sn7.btytg2.com   H5   \n3     新注册默认层级  未锁定  VIP0   未锁定  VND  ...  m-sn7.btytg3.com   H5   \n4     新注册默认层级  未锁定  VIP0   未锁定  VND  ...  m-sn7.btytg3.com   H5   \n...       ...  ...   ...   ...  ...  ...               ...  ...   \n1417  新注册默认层级  未锁定  VIP0   未锁定  VND  ...  m-sn7.btytg2.com   H5   \n1418  新注册默认层级  未锁定  VIP0   未锁定  CNY  ...     m.bty1032.com   H5   \n1419  新注册默认层级  未锁定  VIP0   未锁定  VND  ...  m-sn7.btytg3.com   H5   \n1420  新注册默认层级  未锁定  VIP0   未锁定  VND  ...  m-sn7.btytg3.com   H5   \n1421  新注册默认层级  未锁定  VIP0   未锁定  VND  ...     m.bty6151.com   H5   \n\n               首充时间          最后登陆时间           最后登陆IP     注册IP属地  \\\n0     2023/8/8 0:27  2023/8/8 12:17   222.84.188.187  中国|广西|桂林|   \n1                 -   2023/8/8 0:07    58.186.14.175    越南|河内||   \n2                 -  2023/8/7 23:58   14.191.197.244    越南|同奈||   \n3                 -  2023/8/7 23:57  171.253.132.164   越南|胡志明||   \n4                 -  2023/8/8 11:37    171.236.4.169    越南|海阳||   \n...             ...             ...              ...        ...   \n1417              -   2023/8/7 0:01  113.183.208.238    越南|同奈||   \n1418              -   2023/8/7 0:02   14.228.255.186    越南|北江||   \n1419              -   2023/8/7 0:05    42.112.78.245    越南|河内||   \n1420              -   2023/8/7 0:04   125.235.235.35    越南|岘港||   \n1421              -  2023/8/7 17:46    115.73.41.167    越南|坚江||   \n\n     最后登陆IP属地（登录成功）  状态   备注 小时数  \n0         中国|广西|桂林|  正常  NaN  23  \n1           越南|河内||  正常  NaN  23  \n2           越南|同奈||  正常  NaN  23  \n3          越南|胡志明||  正常  NaN  23  \n4           越南|海阳||  正常  NaN  23  \n...             ...  ..  ...  ..  \n1417        越南|同奈||  正常  NaN   0  \n1418        越南|北江||  正常  NaN   0  \n1419        越南|河内||  正常  NaN   0  \n1420        越南|岘港||  正常  NaN   0  \n1421        越南|坚江||  正常  NaN   0  \n\n[1422 rows x 24 columns]",
      "text/html": "<div>\n<style scoped>\n    .dataframe tbody tr th:only-of-type {\n        vertical-align: middle;\n    }\n\n    .dataframe tbody tr th {\n        vertical-align: top;\n    }\n\n    .dataframe thead th {\n        text-align: right;\n    }\n</style>\n<table border=\"1\" class=\"dataframe\">\n  <thead>\n    <tr style=\"text-align: right;\">\n      <th></th>\n      <th>会员账号</th>\n      <th>姓名</th>\n      <th>手机号码</th>\n      <th>代理</th>\n      <th>国家</th>\n      <th>玩家层级</th>\n      <th>层级状态</th>\n      <th>VIP等级</th>\n      <th>VIP状态</th>\n      <th>币种</th>\n      <th>...</th>\n      <th>注册域名</th>\n      <th>注册端</th>\n      <th>首充时间</th>\n      <th>最后登陆时间</th>\n      <th>最后登陆IP</th>\n      <th>注册IP属地</th>\n      <th>最后登陆IP属地（登录成功）</th>\n      <th>状态</th>\n      <th>备注</th>\n      <th>小时数</th>\n    </tr>\n  </thead>\n  <tbody>\n    <tr>\n      <th>0</th>\n      <td>ysb1757</td>\n      <td>殷赛兵</td>\n      <td>155****1757</td>\n      <td>admin</td>\n      <td>中国</td>\n      <td>初审后层级2</td>\n      <td>锁定</td>\n      <td>VIP1</td>\n      <td>未锁定</td>\n      <td>CNY</td>\n      <td>...</td>\n      <td>m.bty9.com</td>\n      <td>H5</td>\n      <td>2023/8/8 0:27</td>\n      <td>2023/8/8 12:17</td>\n      <td>222.84.188.187</td>\n      <td>中国|广西|桂林|</td>\n      <td>中国|广西|桂林|</td>\n      <td>正常</td>\n      <td>NaN</td>\n      <td>23</td>\n    </tr>\n    <tr>\n      <th>1</th>\n      <td>Vuarong39</td>\n      <td>NaN</td>\n      <td>907****65</td>\n      <td>gfas001</td>\n      <td>越南</td>\n      <td>新注册默认层级</td>\n      <td>未锁定</td>\n      <td>VIP0</td>\n      <td>未锁定</td>\n      <td>VND</td>\n      <td>...</td>\n      <td>m-sn7.btytg3.com</td>\n      <td>H5</td>\n      <td>-</td>\n      <td>2023/8/8 0:07</td>\n      <td>58.186.14.175</td>\n      <td>越南|河内||</td>\n      <td>越南|河内||</td>\n      <td>正常</td>\n      <td>NaN</td>\n      <td>23</td>\n    </tr>\n    <tr>\n      <th>2</th>\n      <td>biiuhieu94</td>\n      <td>NaN</td>\n      <td>NaN</td>\n      <td>gfas001</td>\n      <td>越南</td>\n      <td>新注册默认层级</td>\n      <td>未锁定</td>\n      <td>VIP0</td>\n      <td>未锁定</td>\n      <td>VND</td>\n      <td>...</td>\n      <td>m-sn7.btytg2.com</td>\n      <td>H5</td>\n      <td>-</td>\n      <td>2023/8/7 23:58</td>\n      <td>14.191.197.244</td>\n      <td>越南|同奈||</td>\n      <td>越南|同奈||</td>\n      <td>正常</td>\n      <td>NaN</td>\n      <td>23</td>\n    </tr>\n    <tr>\n      <th>3</th>\n      <td>Suyengo1997</td>\n      <td>NaN</td>\n      <td>563****72</td>\n      <td>gfas001</td>\n      <td>越南</td>\n      <td>新注册默认层级</td>\n      <td>未锁定</td>\n      <td>VIP0</td>\n      <td>未锁定</td>\n      <td>VND</td>\n      <td>...</td>\n      <td>m-sn7.btytg3.com</td>\n      <td>H5</td>\n      <td>-</td>\n      <td>2023/8/7 23:57</td>\n      <td>171.253.132.164</td>\n      <td>越南|胡志明||</td>\n      <td>越南|胡志明||</td>\n      <td>正常</td>\n      <td>NaN</td>\n      <td>23</td>\n    </tr>\n    <tr>\n      <th>4</th>\n      <td>Nnta2376</td>\n      <td>NaN</td>\n      <td>NaN</td>\n      <td>gfas001</td>\n      <td>越南</td>\n      <td>新注册默认层级</td>\n      <td>未锁定</td>\n      <td>VIP0</td>\n      <td>未锁定</td>\n      <td>VND</td>\n      <td>...</td>\n      <td>m-sn7.btytg3.com</td>\n      <td>H5</td>\n      <td>-</td>\n      <td>2023/8/8 11:37</td>\n      <td>171.236.4.169</td>\n      <td>越南|海阳||</td>\n      <td>越南|海阳||</td>\n      <td>正常</td>\n      <td>NaN</td>\n      <td>23</td>\n    </tr>\n    <tr>\n      <th>...</th>\n      <td>...</td>\n      <td>...</td>\n      <td>...</td>\n      <td>...</td>\n      <td>...</td>\n      <td>...</td>\n      <td>...</td>\n      <td>...</td>\n      <td>...</td>\n      <td>...</td>\n      <td>...</td>\n      <td>...</td>\n      <td>...</td>\n      <td>...</td>\n      <td>...</td>\n      <td>...</td>\n      <td>...</td>\n      <td>...</td>\n      <td>...</td>\n      <td>...</td>\n      <td>...</td>\n    </tr>\n    <tr>\n      <th>1417</th>\n      <td>Quanghai144</td>\n      <td>NGUYEN HAI QUANG</td>\n      <td>388****43</td>\n      <td>gfas001</td>\n      <td>越南</td>\n      <td>新注册默认层级</td>\n      <td>未锁定</td>\n      <td>VIP0</td>\n      <td>未锁定</td>\n      <td>VND</td>\n      <td>...</td>\n      <td>m-sn7.btytg2.com</td>\n      <td>H5</td>\n      <td>-</td>\n      <td>2023/8/7 0:01</td>\n      <td>113.183.208.238</td>\n      <td>越南|同奈||</td>\n      <td>越南|同奈||</td>\n      <td>正常</td>\n      <td>NaN</td>\n      <td>0</td>\n    </tr>\n    <tr>\n      <th>1418</th>\n      <td>bukuthue7879</td>\n      <td>NaN</td>\n      <td>NaN</td>\n      <td>vnzb03</td>\n      <td>中国</td>\n      <td>新注册默认层级</td>\n      <td>未锁定</td>\n      <td>VIP0</td>\n      <td>未锁定</td>\n      <td>CNY</td>\n      <td>...</td>\n      <td>m.bty1032.com</td>\n      <td>H5</td>\n      <td>-</td>\n      <td>2023/8/7 0:02</td>\n      <td>14.228.255.186</td>\n      <td>越南|北江||</td>\n      <td>越南|北江||</td>\n      <td>正常</td>\n      <td>NaN</td>\n      <td>0</td>\n    </tr>\n    <tr>\n      <th>1419</th>\n      <td>phuongem123</td>\n      <td>NGUYEN THI THANH PHUONG</td>\n      <td>396****16</td>\n      <td>gfas001</td>\n      <td>越南</td>\n      <td>新注册默认层级</td>\n      <td>未锁定</td>\n      <td>VIP0</td>\n      <td>未锁定</td>\n      <td>VND</td>\n      <td>...</td>\n      <td>m-sn7.btytg3.com</td>\n      <td>H5</td>\n      <td>-</td>\n      <td>2023/8/7 0:05</td>\n      <td>42.112.78.245</td>\n      <td>越南|河内||</td>\n      <td>越南|河内||</td>\n      <td>正常</td>\n      <td>NaN</td>\n      <td>0</td>\n    </tr>\n    <tr>\n      <th>1420</th>\n      <td>Hung2000</td>\n      <td>HO TRONG PHUOC</td>\n      <td>588****19</td>\n      <td>gfas001</td>\n      <td>越南</td>\n      <td>新注册默认层级</td>\n      <td>未锁定</td>\n      <td>VIP0</td>\n      <td>未锁定</td>\n      <td>VND</td>\n      <td>...</td>\n      <td>m-sn7.btytg3.com</td>\n      <td>H5</td>\n      <td>-</td>\n      <td>2023/8/7 0:04</td>\n      <td>125.235.235.35</td>\n      <td>越南|岘港||</td>\n      <td>越南|岘港||</td>\n      <td>正常</td>\n      <td>NaN</td>\n      <td>0</td>\n    </tr>\n    <tr>\n      <th>1421</th>\n      <td>Lyty123</td>\n      <td>Nguyen van hong</td>\n      <td>946****01</td>\n      <td>vnzb06</td>\n      <td>越南</td>\n      <td>新注册默认层级</td>\n      <td>未锁定</td>\n      <td>VIP0</td>\n      <td>未锁定</td>\n      <td>VND</td>\n      <td>...</td>\n      <td>m.bty6151.com</td>\n      <td>H5</td>\n      <td>-</td>\n      <td>2023/8/7 17:46</td>\n      <td>115.73.41.167</td>\n      <td>越南|坚江||</td>\n      <td>越南|坚江||</td>\n      <td>正常</td>\n      <td>NaN</td>\n      <td>0</td>\n    </tr>\n  </tbody>\n</table>\n<p>1422 rows × 24 columns</p>\n</div>"
     },
     "execution_count": 45,
     "metadata": {},
     "output_type": "execute_result"
    }
   ],
   "source": [
    "user['小时数']=user['注册时间'].dt.hour\n",
    "user"
   ],
   "metadata": {
    "collapsed": false
   }
  },
  {
   "cell_type": "code",
   "execution_count": 47,
   "outputs": [],
   "source": [
    "hour_user= pd.merge(user,daili,how = 'left',left_on='代理',right_on='代理线')"
   ],
   "metadata": {
    "collapsed": false
   }
  },
  {
   "cell_type": "code",
   "execution_count": 6,
   "outputs": [],
   "source": [
    "tem = ['日期','人员','指标', '总计', '0-2', '2-4', '4-6', '6-8', '8-10', '10-12', '12-14', '14-16', '16-18', '18-20', '20-22', '22-24']"
   ],
   "metadata": {
    "collapsed": false
   }
  },
  {
   "cell_type": "code",
   "execution_count": 18,
   "outputs": [
    {
     "data": {
      "text/plain": "['接收率', '发送IP数', '接收IP数', '注册', '注册率', '开户', '开户转化率']"
     },
     "execution_count": 18,
     "metadata": {},
     "output_type": "execute_result"
    }
   ],
   "source": [
    "tem = pd.read_clipboard()\n",
    "list(tem)"
   ],
   "metadata": {
    "collapsed": false
   }
  },
  {
   "cell_type": "code",
   "execution_count": 20,
   "outputs": [
    {
     "data": {
      "text/plain": "63"
     },
     "execution_count": 20,
     "metadata": {},
     "output_type": "execute_result"
    }
   ],
   "source": [
    "len(['接收率', '发送IP数', '接收IP数', '注册', '注册率', '开户', '开户转化率']*9)"
   ],
   "metadata": {
    "collapsed": false
   }
  },
  {
   "cell_type": "code",
   "execution_count": 13,
   "outputs": [
    {
     "data": {
      "text/plain": "['Paddy', 'Tony', 'Max', 'Martin', 'Zed', 'Hugo', 'Aber', 'DK', 'Ben']"
     },
     "execution_count": 13,
     "metadata": {},
     "output_type": "execute_result"
    }
   ],
   "source": [
    "tem = pd.read_clipboard()\n",
    "list(tem)"
   ],
   "metadata": {
    "collapsed": false
   }
  },
  {
   "cell_type": "code",
   "execution_count": 24,
   "outputs": [
    {
     "data": {
      "text/plain": "['PaddyPaddyPaddyPaddyPaddyPaddyPaddy',\n 'TonyTonyTonyTonyTonyTonyTony',\n 'MaxMaxMaxMaxMaxMaxMax',\n 'MartinMartinMartinMartinMartinMartinMartin',\n 'ZedZedZedZedZedZedZed',\n 'HugoHugoHugoHugoHugoHugoHugo',\n 'AberAberAberAberAberAberAber',\n 'DKDKDKDKDKDKDK',\n 'BenBenBenBenBenBenBen']"
     },
     "execution_count": 24,
     "metadata": {},
     "output_type": "execute_result"
    }
   ],
   "source": [
    "[i*7 for i in ['Paddy', 'Tony', 'Max', 'Martin', 'Zed', 'Hugo', 'Aber', 'DK', 'Ben']]"
   ],
   "metadata": {
    "collapsed": false
   }
  },
  {
   "cell_type": "code",
   "execution_count": 28,
   "outputs": [
    {
     "data": {
      "text/plain": "['Paddy',\n 'Paddy',\n 'Paddy',\n 'Paddy',\n 'Paddy',\n 'Paddy',\n 'Paddy',\n 'Paddy',\n 'Paddy',\n 'Tony',\n 'Tony',\n 'Tony',\n 'Tony',\n 'Tony',\n 'Tony',\n 'Tony',\n 'Tony',\n 'Tony',\n 'Max',\n 'Max',\n 'Max',\n 'Max',\n 'Max',\n 'Max',\n 'Max',\n 'Max',\n 'Max',\n 'Martin',\n 'Martin',\n 'Martin',\n 'Martin',\n 'Martin',\n 'Martin',\n 'Martin',\n 'Martin',\n 'Martin',\n 'Zed',\n 'Zed',\n 'Zed',\n 'Zed',\n 'Zed',\n 'Zed',\n 'Zed',\n 'Zed',\n 'Zed',\n 'Hugo',\n 'Hugo',\n 'Hugo',\n 'Hugo',\n 'Hugo',\n 'Hugo',\n 'Hugo',\n 'Hugo',\n 'Hugo',\n 'Aber',\n 'Aber',\n 'Aber',\n 'Aber',\n 'Aber',\n 'Aber',\n 'Aber',\n 'Aber',\n 'Aber',\n 'DK',\n 'DK',\n 'DK',\n 'DK',\n 'DK',\n 'DK',\n 'DK',\n 'DK',\n 'DK',\n 'Ben',\n 'Ben',\n 'Ben',\n 'Ben',\n 'Ben',\n 'Ben',\n 'Ben',\n 'Ben',\n 'Ben']"
     },
     "execution_count": 28,
     "metadata": {},
     "output_type": "execute_result"
    }
   ],
   "source": [
    "[i for i in ['Paddy', 'Tony', 'Max', 'Martin', 'Zed', 'Hugo', 'Aber', 'DK', 'Ben'] for j in range(9)]"
   ],
   "metadata": {
    "collapsed": false
   }
  },
  {
   "cell_type": "code",
   "execution_count": 3,
   "outputs": [
    {
     "data": {
      "text/plain": "            日期     人员     指标  总计  0-2  2-4  4-6  6-8  8-10  10-12  12-14  \\\n0   2023/08/07  Paddy    接收率   0    0    0    0    0     0      0      0   \n1   2023/08/07  Paddy  发送IP数   0    0    0    0    0     0      0      0   \n2   2023/08/07  Paddy  接收IP数   0    0    0    0    0     0      0      0   \n3   2023/08/07  Paddy     注册   0    0    0    0    0     0      0      0   \n4   2023/08/07  Paddy    注册率   0    0    0    0    0     0      0      0   \n..         ...    ...    ...  ..  ...  ...  ...  ...   ...    ...    ...   \n58  2023/08/07    Ben  接收IP数   0    0    0    0    0     0      0      0   \n59  2023/08/07    Ben     注册   0    0    0    0    0     0      0      0   \n60  2023/08/07    Ben    注册率   0    0    0    0    0     0      0      0   \n61  2023/08/07    Ben     开户   0    0    0    0    0     0      0      0   \n62  2023/08/07    Ben  开户转化率   0    0    0    0    0     0      0      0   \n\n    14-16  16-18  18-20  20-22  22-24  \n0       0      0      0      0      0  \n1       0      0      0      0      0  \n2       0      0      0      0      0  \n3       0      0      0      0      0  \n4       0      0      0      0      0  \n..    ...    ...    ...    ...    ...  \n58      0      0      0      0      0  \n59      0      0      0      0      0  \n60      0      0      0      0      0  \n61      0      0      0      0      0  \n62      0      0      0      0      0  \n\n[63 rows x 16 columns]",
      "text/html": "<div>\n<style scoped>\n    .dataframe tbody tr th:only-of-type {\n        vertical-align: middle;\n    }\n\n    .dataframe tbody tr th {\n        vertical-align: top;\n    }\n\n    .dataframe thead th {\n        text-align: right;\n    }\n</style>\n<table border=\"1\" class=\"dataframe\">\n  <thead>\n    <tr style=\"text-align: right;\">\n      <th></th>\n      <th>日期</th>\n      <th>人员</th>\n      <th>指标</th>\n      <th>总计</th>\n      <th>0-2</th>\n      <th>2-4</th>\n      <th>4-6</th>\n      <th>6-8</th>\n      <th>8-10</th>\n      <th>10-12</th>\n      <th>12-14</th>\n      <th>14-16</th>\n      <th>16-18</th>\n      <th>18-20</th>\n      <th>20-22</th>\n      <th>22-24</th>\n    </tr>\n  </thead>\n  <tbody>\n    <tr>\n      <th>0</th>\n      <td>2023/08/07</td>\n      <td>Paddy</td>\n      <td>接收率</td>\n      <td>0</td>\n      <td>0</td>\n      <td>0</td>\n      <td>0</td>\n      <td>0</td>\n      <td>0</td>\n      <td>0</td>\n      <td>0</td>\n      <td>0</td>\n      <td>0</td>\n      <td>0</td>\n      <td>0</td>\n      <td>0</td>\n    </tr>\n    <tr>\n      <th>1</th>\n      <td>2023/08/07</td>\n      <td>Paddy</td>\n      <td>发送IP数</td>\n      <td>0</td>\n      <td>0</td>\n      <td>0</td>\n      <td>0</td>\n      <td>0</td>\n      <td>0</td>\n      <td>0</td>\n      <td>0</td>\n      <td>0</td>\n      <td>0</td>\n      <td>0</td>\n      <td>0</td>\n      <td>0</td>\n    </tr>\n    <tr>\n      <th>2</th>\n      <td>2023/08/07</td>\n      <td>Paddy</td>\n      <td>接收IP数</td>\n      <td>0</td>\n      <td>0</td>\n      <td>0</td>\n      <td>0</td>\n      <td>0</td>\n      <td>0</td>\n      <td>0</td>\n      <td>0</td>\n      <td>0</td>\n      <td>0</td>\n      <td>0</td>\n      <td>0</td>\n      <td>0</td>\n    </tr>\n    <tr>\n      <th>3</th>\n      <td>2023/08/07</td>\n      <td>Paddy</td>\n      <td>注册</td>\n      <td>0</td>\n      <td>0</td>\n      <td>0</td>\n      <td>0</td>\n      <td>0</td>\n      <td>0</td>\n      <td>0</td>\n      <td>0</td>\n      <td>0</td>\n      <td>0</td>\n      <td>0</td>\n      <td>0</td>\n      <td>0</td>\n    </tr>\n    <tr>\n      <th>4</th>\n      <td>2023/08/07</td>\n      <td>Paddy</td>\n      <td>注册率</td>\n      <td>0</td>\n      <td>0</td>\n      <td>0</td>\n      <td>0</td>\n      <td>0</td>\n      <td>0</td>\n      <td>0</td>\n      <td>0</td>\n      <td>0</td>\n      <td>0</td>\n      <td>0</td>\n      <td>0</td>\n      <td>0</td>\n    </tr>\n    <tr>\n      <th>...</th>\n      <td>...</td>\n      <td>...</td>\n      <td>...</td>\n      <td>...</td>\n      <td>...</td>\n      <td>...</td>\n      <td>...</td>\n      <td>...</td>\n      <td>...</td>\n      <td>...</td>\n      <td>...</td>\n      <td>...</td>\n      <td>...</td>\n      <td>...</td>\n      <td>...</td>\n      <td>...</td>\n    </tr>\n    <tr>\n      <th>58</th>\n      <td>2023/08/07</td>\n      <td>Ben</td>\n      <td>接收IP数</td>\n      <td>0</td>\n      <td>0</td>\n      <td>0</td>\n      <td>0</td>\n      <td>0</td>\n      <td>0</td>\n      <td>0</td>\n      <td>0</td>\n      <td>0</td>\n      <td>0</td>\n      <td>0</td>\n      <td>0</td>\n      <td>0</td>\n    </tr>\n    <tr>\n      <th>59</th>\n      <td>2023/08/07</td>\n      <td>Ben</td>\n      <td>注册</td>\n      <td>0</td>\n      <td>0</td>\n      <td>0</td>\n      <td>0</td>\n      <td>0</td>\n      <td>0</td>\n      <td>0</td>\n      <td>0</td>\n      <td>0</td>\n      <td>0</td>\n      <td>0</td>\n      <td>0</td>\n      <td>0</td>\n    </tr>\n    <tr>\n      <th>60</th>\n      <td>2023/08/07</td>\n      <td>Ben</td>\n      <td>注册率</td>\n      <td>0</td>\n      <td>0</td>\n      <td>0</td>\n      <td>0</td>\n      <td>0</td>\n      <td>0</td>\n      <td>0</td>\n      <td>0</td>\n      <td>0</td>\n      <td>0</td>\n      <td>0</td>\n      <td>0</td>\n      <td>0</td>\n    </tr>\n    <tr>\n      <th>61</th>\n      <td>2023/08/07</td>\n      <td>Ben</td>\n      <td>开户</td>\n      <td>0</td>\n      <td>0</td>\n      <td>0</td>\n      <td>0</td>\n      <td>0</td>\n      <td>0</td>\n      <td>0</td>\n      <td>0</td>\n      <td>0</td>\n      <td>0</td>\n      <td>0</td>\n      <td>0</td>\n      <td>0</td>\n    </tr>\n    <tr>\n      <th>62</th>\n      <td>2023/08/07</td>\n      <td>Ben</td>\n      <td>开户转化率</td>\n      <td>0</td>\n      <td>0</td>\n      <td>0</td>\n      <td>0</td>\n      <td>0</td>\n      <td>0</td>\n      <td>0</td>\n      <td>0</td>\n      <td>0</td>\n      <td>0</td>\n      <td>0</td>\n      <td>0</td>\n      <td>0</td>\n    </tr>\n  </tbody>\n</table>\n<p>63 rows × 16 columns</p>\n</div>"
     },
     "execution_count": 3,
     "metadata": {},
     "output_type": "execute_result"
    }
   ],
   "source": [
    "import datetime\n",
    "dic ={'日期':(datetime.datetime.now()+datetime.timedelta(days=-4)).strftime('%Y/%m/%d'),\n",
    "      '人员':[i for i in ['Paddy', 'Tony', 'Max', 'Martin', 'Zed', 'Hugo', 'Aber', 'DK', 'Ben'] for j in range(7)],'指标':['接收率','发送IP数','接收IP数','注册','注册率','开户','开户转化率']*9, '总计':0, '0-2':0, '2-4':0, '4-6':0, '6-8':0, '8-10':0, '10-12':0, '12-14':0, '14-16':0, '16-18':0, '18-20':0, '20-22':0, '22-24':0}\n",
    "df = pd.DataFrame(dic)\n",
    "df"
   ],
   "metadata": {
    "collapsed": false
   }
  },
  {
   "cell_type": "code",
   "execution_count": 4,
   "outputs": [
    {
     "name": "stderr",
     "output_type": "stream",
     "text": [
      "C:\\ProgramData\\anaconda3\\envs\\schedule\\Lib\\site-packages\\openpyxl\\styles\\stylesheet.py:226: UserWarning: Workbook contains no default style, apply openpyxl's default\n",
      "  warn(\"Workbook contains no default style, apply openpyxl's default\")\n"
     ]
    },
    {
     "data": {
      "text/plain": "  网站名(domain)          日期  时间  PV  UV  IP\n0  martin.com  2023/08/07  23  --  --  --\n1  martin.com  2023/08/07  22  --  --  --\n2  martin.com  2023/08/07  21  --  --  --\n3  martin.com  2023/08/07  20  --  --  --\n4  martin.com  2023/08/07  19  --  --  --",
      "text/html": "<div>\n<style scoped>\n    .dataframe tbody tr th:only-of-type {\n        vertical-align: middle;\n    }\n\n    .dataframe tbody tr th {\n        vertical-align: top;\n    }\n\n    .dataframe thead th {\n        text-align: right;\n    }\n</style>\n<table border=\"1\" class=\"dataframe\">\n  <thead>\n    <tr style=\"text-align: right;\">\n      <th></th>\n      <th>网站名(domain)</th>\n      <th>日期</th>\n      <th>时间</th>\n      <th>PV</th>\n      <th>UV</th>\n      <th>IP</th>\n    </tr>\n  </thead>\n  <tbody>\n    <tr>\n      <th>0</th>\n      <td>martin.com</td>\n      <td>2023/08/07</td>\n      <td>23</td>\n      <td>--</td>\n      <td>--</td>\n      <td>--</td>\n    </tr>\n    <tr>\n      <th>1</th>\n      <td>martin.com</td>\n      <td>2023/08/07</td>\n      <td>22</td>\n      <td>--</td>\n      <td>--</td>\n      <td>--</td>\n    </tr>\n    <tr>\n      <th>2</th>\n      <td>martin.com</td>\n      <td>2023/08/07</td>\n      <td>21</td>\n      <td>--</td>\n      <td>--</td>\n      <td>--</td>\n    </tr>\n    <tr>\n      <th>3</th>\n      <td>martin.com</td>\n      <td>2023/08/07</td>\n      <td>20</td>\n      <td>--</td>\n      <td>--</td>\n      <td>--</td>\n    </tr>\n    <tr>\n      <th>4</th>\n      <td>martin.com</td>\n      <td>2023/08/07</td>\n      <td>19</td>\n      <td>--</td>\n      <td>--</td>\n      <td>--</td>\n    </tr>\n  </tbody>\n</table>\n</div>"
     },
     "execution_count": 4,
     "metadata": {},
     "output_type": "execute_result"
    }
   ],
   "source": [
    "data_2 = pd.read_excel(r'C:\\Users\\User\\Desktop\\SEO_0807\\data\\今日数据.xlsx','趋势分析')\n",
    "data_2.head()"
   ],
   "metadata": {
    "collapsed": false
   }
  },
  {
   "cell_type": "code",
   "execution_count": 41,
   "outputs": [
    {
     "name": "stdout",
     "output_type": "stream",
     "text": [
      "<class 'pandas.core.frame.DataFrame'>\n",
      "RangeIndex: 1368 entries, 0 to 1367\n",
      "Data columns (total 6 columns):\n",
      " #   Column       Non-Null Count  Dtype \n",
      "---  ------       --------------  ----- \n",
      " 0   网站名(domain)  1368 non-null   object\n",
      " 1   日期           1368 non-null   object\n",
      " 2   时间           1368 non-null   int64 \n",
      " 3   PV           1368 non-null   object\n",
      " 4   UV           1368 non-null   object\n",
      " 5   IP           1368 non-null   object\n",
      "dtypes: int64(1), object(5)\n",
      "memory usage: 64.3+ KB\n"
     ]
    }
   ],
   "source": [
    "data_2.info()"
   ],
   "metadata": {
    "collapsed": false
   }
  },
  {
   "cell_type": "code",
   "execution_count": 57,
   "outputs": [
    {
     "data": {
      "text/plain": "     网站名(domain)          日期  时间  PV  UV  IP\n22    martin.com  2023/08/07   1  --  --  --\n23    martin.com  2023/08/07   0  --  --  --\n46     groot.com  2023/08/07   1  --  --  --\n47     groot.com  2023/08/07   0  --  --  --\n70        dk.com  2023/08/07   1  92  49  47\n...          ...         ...  ..  ..  ..  ..\n1319    alen.bty  2023/08/07   0  --  --  --\n1342   peter.bty  2023/08/07   1  21  15  16\n1343   peter.bty  2023/08/07   0  21  15  11\n1366   martin.pd  2023/08/07   1  --  --  --\n1367   martin.pd  2023/08/07   0  --  --  --\n\n[114 rows x 6 columns]",
      "text/html": "<div>\n<style scoped>\n    .dataframe tbody tr th:only-of-type {\n        vertical-align: middle;\n    }\n\n    .dataframe tbody tr th {\n        vertical-align: top;\n    }\n\n    .dataframe thead th {\n        text-align: right;\n    }\n</style>\n<table border=\"1\" class=\"dataframe\">\n  <thead>\n    <tr style=\"text-align: right;\">\n      <th></th>\n      <th>网站名(domain)</th>\n      <th>日期</th>\n      <th>时间</th>\n      <th>PV</th>\n      <th>UV</th>\n      <th>IP</th>\n    </tr>\n  </thead>\n  <tbody>\n    <tr>\n      <th>22</th>\n      <td>martin.com</td>\n      <td>2023/08/07</td>\n      <td>1</td>\n      <td>--</td>\n      <td>--</td>\n      <td>--</td>\n    </tr>\n    <tr>\n      <th>23</th>\n      <td>martin.com</td>\n      <td>2023/08/07</td>\n      <td>0</td>\n      <td>--</td>\n      <td>--</td>\n      <td>--</td>\n    </tr>\n    <tr>\n      <th>46</th>\n      <td>groot.com</td>\n      <td>2023/08/07</td>\n      <td>1</td>\n      <td>--</td>\n      <td>--</td>\n      <td>--</td>\n    </tr>\n    <tr>\n      <th>47</th>\n      <td>groot.com</td>\n      <td>2023/08/07</td>\n      <td>0</td>\n      <td>--</td>\n      <td>--</td>\n      <td>--</td>\n    </tr>\n    <tr>\n      <th>70</th>\n      <td>dk.com</td>\n      <td>2023/08/07</td>\n      <td>1</td>\n      <td>92</td>\n      <td>49</td>\n      <td>47</td>\n    </tr>\n    <tr>\n      <th>...</th>\n      <td>...</td>\n      <td>...</td>\n      <td>...</td>\n      <td>...</td>\n      <td>...</td>\n      <td>...</td>\n    </tr>\n    <tr>\n      <th>1319</th>\n      <td>alen.bty</td>\n      <td>2023/08/07</td>\n      <td>0</td>\n      <td>--</td>\n      <td>--</td>\n      <td>--</td>\n    </tr>\n    <tr>\n      <th>1342</th>\n      <td>peter.bty</td>\n      <td>2023/08/07</td>\n      <td>1</td>\n      <td>21</td>\n      <td>15</td>\n      <td>16</td>\n    </tr>\n    <tr>\n      <th>1343</th>\n      <td>peter.bty</td>\n      <td>2023/08/07</td>\n      <td>0</td>\n      <td>21</td>\n      <td>15</td>\n      <td>11</td>\n    </tr>\n    <tr>\n      <th>1366</th>\n      <td>martin.pd</td>\n      <td>2023/08/07</td>\n      <td>1</td>\n      <td>--</td>\n      <td>--</td>\n      <td>--</td>\n    </tr>\n    <tr>\n      <th>1367</th>\n      <td>martin.pd</td>\n      <td>2023/08/07</td>\n      <td>0</td>\n      <td>--</td>\n      <td>--</td>\n      <td>--</td>\n    </tr>\n  </tbody>\n</table>\n<p>114 rows × 6 columns</p>\n</div>"
     },
     "execution_count": 57,
     "metadata": {},
     "output_type": "execute_result"
    }
   ],
   "source": [
    "data_2[(data_2['时间']<2)]"
   ],
   "metadata": {
    "collapsed": false
   }
  },
  {
   "cell_type": "code",
   "execution_count": 5,
   "outputs": [
    {
     "name": "stdout",
     "output_type": "stream",
     "text": [
      "<class 'pandas.core.frame.DataFrame'>\n",
      "RangeIndex: 1368 entries, 0 to 1367\n",
      "Data columns (total 6 columns):\n",
      " #   Column       Non-Null Count  Dtype  \n",
      "---  ------       --------------  -----  \n",
      " 0   网站名(domain)  1368 non-null   object \n",
      " 1   日期           1368 non-null   object \n",
      " 2   时间           1368 non-null   int64  \n",
      " 3   PV           643 non-null    float64\n",
      " 4   UV           643 non-null    float64\n",
      " 5   IP           643 non-null    float64\n",
      "dtypes: float64(3), int64(1), object(2)\n",
      "memory usage: 64.3+ KB\n"
     ]
    }
   ],
   "source": [
    "data_2['网站名(domain)'] = data_2['网站名(domain)'].astype(str)\n",
    "data_2['PV'] = pd.to_numeric(data_2['PV'],errors='coerce',downcast='integer')\n",
    "data_2['UV'] = pd.to_numeric(data_2['UV'],errors='coerce',downcast='integer')\n",
    "data_2['IP'] = pd.to_numeric(data_2['IP'],errors='coerce',downcast='integer')\n",
    "data_2.info()"
   ],
   "metadata": {
    "collapsed": false
   }
  },
  {
   "cell_type": "code",
   "execution_count": 67,
   "outputs": [
    {
     "data": {
      "text/plain": "    网站名(domain)          日期  时间     PV     UV     IP\n288     zed.com  2023/08/07  23  394.0  319.0  311.0\n289     zed.com  2023/08/07  22  411.0  351.0  302.0\n290     zed.com  2023/08/07  21  332.0  268.0  250.0\n291     zed.com  2023/08/07  20  311.0  253.0  228.0\n292     zed.com  2023/08/07  19  238.0  197.0  192.0\n293     zed.com  2023/08/07  18  244.0  207.0  204.0\n294     zed.com  2023/08/07  17  333.0  243.0  246.0\n295     zed.com  2023/08/07  16  275.0  219.0  219.0\n296     zed.com  2023/08/07  15  302.0  240.0  235.0\n297     zed.com  2023/08/07  14  308.0  251.0  237.0\n298     zed.com  2023/08/07  13  329.0  270.0  261.0\n299     zed.com  2023/08/07  12  299.0  252.0  234.0\n300     zed.com  2023/08/07  11  295.0  240.0  225.0\n301     zed.com  2023/08/07  10  266.0  232.0  218.0\n302     zed.com  2023/08/07   9  284.0  244.0  241.0\n303     zed.com  2023/08/07   8  211.0  182.0  175.0\n304     zed.com  2023/08/07   7  176.0  143.0  137.0\n305     zed.com  2023/08/07   6  117.0  101.0   97.0\n306     zed.com  2023/08/07   5  118.0  100.0   92.0\n307     zed.com  2023/08/07   4  127.0  103.0   95.0\n308     zed.com  2023/08/07   3  129.0  102.0   99.0\n309     zed.com  2023/08/07   2  149.0  124.0  126.0\n310     zed.com  2023/08/07   1  200.0  165.0  167.0\n311     zed.com  2023/08/07   0  322.0  259.0  262.0",
      "text/html": "<div>\n<style scoped>\n    .dataframe tbody tr th:only-of-type {\n        vertical-align: middle;\n    }\n\n    .dataframe tbody tr th {\n        vertical-align: top;\n    }\n\n    .dataframe thead th {\n        text-align: right;\n    }\n</style>\n<table border=\"1\" class=\"dataframe\">\n  <thead>\n    <tr style=\"text-align: right;\">\n      <th></th>\n      <th>网站名(domain)</th>\n      <th>日期</th>\n      <th>时间</th>\n      <th>PV</th>\n      <th>UV</th>\n      <th>IP</th>\n    </tr>\n  </thead>\n  <tbody>\n    <tr>\n      <th>288</th>\n      <td>zed.com</td>\n      <td>2023/08/07</td>\n      <td>23</td>\n      <td>394.0</td>\n      <td>319.0</td>\n      <td>311.0</td>\n    </tr>\n    <tr>\n      <th>289</th>\n      <td>zed.com</td>\n      <td>2023/08/07</td>\n      <td>22</td>\n      <td>411.0</td>\n      <td>351.0</td>\n      <td>302.0</td>\n    </tr>\n    <tr>\n      <th>290</th>\n      <td>zed.com</td>\n      <td>2023/08/07</td>\n      <td>21</td>\n      <td>332.0</td>\n      <td>268.0</td>\n      <td>250.0</td>\n    </tr>\n    <tr>\n      <th>291</th>\n      <td>zed.com</td>\n      <td>2023/08/07</td>\n      <td>20</td>\n      <td>311.0</td>\n      <td>253.0</td>\n      <td>228.0</td>\n    </tr>\n    <tr>\n      <th>292</th>\n      <td>zed.com</td>\n      <td>2023/08/07</td>\n      <td>19</td>\n      <td>238.0</td>\n      <td>197.0</td>\n      <td>192.0</td>\n    </tr>\n    <tr>\n      <th>293</th>\n      <td>zed.com</td>\n      <td>2023/08/07</td>\n      <td>18</td>\n      <td>244.0</td>\n      <td>207.0</td>\n      <td>204.0</td>\n    </tr>\n    <tr>\n      <th>294</th>\n      <td>zed.com</td>\n      <td>2023/08/07</td>\n      <td>17</td>\n      <td>333.0</td>\n      <td>243.0</td>\n      <td>246.0</td>\n    </tr>\n    <tr>\n      <th>295</th>\n      <td>zed.com</td>\n      <td>2023/08/07</td>\n      <td>16</td>\n      <td>275.0</td>\n      <td>219.0</td>\n      <td>219.0</td>\n    </tr>\n    <tr>\n      <th>296</th>\n      <td>zed.com</td>\n      <td>2023/08/07</td>\n      <td>15</td>\n      <td>302.0</td>\n      <td>240.0</td>\n      <td>235.0</td>\n    </tr>\n    <tr>\n      <th>297</th>\n      <td>zed.com</td>\n      <td>2023/08/07</td>\n      <td>14</td>\n      <td>308.0</td>\n      <td>251.0</td>\n      <td>237.0</td>\n    </tr>\n    <tr>\n      <th>298</th>\n      <td>zed.com</td>\n      <td>2023/08/07</td>\n      <td>13</td>\n      <td>329.0</td>\n      <td>270.0</td>\n      <td>261.0</td>\n    </tr>\n    <tr>\n      <th>299</th>\n      <td>zed.com</td>\n      <td>2023/08/07</td>\n      <td>12</td>\n      <td>299.0</td>\n      <td>252.0</td>\n      <td>234.0</td>\n    </tr>\n    <tr>\n      <th>300</th>\n      <td>zed.com</td>\n      <td>2023/08/07</td>\n      <td>11</td>\n      <td>295.0</td>\n      <td>240.0</td>\n      <td>225.0</td>\n    </tr>\n    <tr>\n      <th>301</th>\n      <td>zed.com</td>\n      <td>2023/08/07</td>\n      <td>10</td>\n      <td>266.0</td>\n      <td>232.0</td>\n      <td>218.0</td>\n    </tr>\n    <tr>\n      <th>302</th>\n      <td>zed.com</td>\n      <td>2023/08/07</td>\n      <td>9</td>\n      <td>284.0</td>\n      <td>244.0</td>\n      <td>241.0</td>\n    </tr>\n    <tr>\n      <th>303</th>\n      <td>zed.com</td>\n      <td>2023/08/07</td>\n      <td>8</td>\n      <td>211.0</td>\n      <td>182.0</td>\n      <td>175.0</td>\n    </tr>\n    <tr>\n      <th>304</th>\n      <td>zed.com</td>\n      <td>2023/08/07</td>\n      <td>7</td>\n      <td>176.0</td>\n      <td>143.0</td>\n      <td>137.0</td>\n    </tr>\n    <tr>\n      <th>305</th>\n      <td>zed.com</td>\n      <td>2023/08/07</td>\n      <td>6</td>\n      <td>117.0</td>\n      <td>101.0</td>\n      <td>97.0</td>\n    </tr>\n    <tr>\n      <th>306</th>\n      <td>zed.com</td>\n      <td>2023/08/07</td>\n      <td>5</td>\n      <td>118.0</td>\n      <td>100.0</td>\n      <td>92.0</td>\n    </tr>\n    <tr>\n      <th>307</th>\n      <td>zed.com</td>\n      <td>2023/08/07</td>\n      <td>4</td>\n      <td>127.0</td>\n      <td>103.0</td>\n      <td>95.0</td>\n    </tr>\n    <tr>\n      <th>308</th>\n      <td>zed.com</td>\n      <td>2023/08/07</td>\n      <td>3</td>\n      <td>129.0</td>\n      <td>102.0</td>\n      <td>99.0</td>\n    </tr>\n    <tr>\n      <th>309</th>\n      <td>zed.com</td>\n      <td>2023/08/07</td>\n      <td>2</td>\n      <td>149.0</td>\n      <td>124.0</td>\n      <td>126.0</td>\n    </tr>\n    <tr>\n      <th>310</th>\n      <td>zed.com</td>\n      <td>2023/08/07</td>\n      <td>1</td>\n      <td>200.0</td>\n      <td>165.0</td>\n      <td>167.0</td>\n    </tr>\n    <tr>\n      <th>311</th>\n      <td>zed.com</td>\n      <td>2023/08/07</td>\n      <td>0</td>\n      <td>322.0</td>\n      <td>259.0</td>\n      <td>262.0</td>\n    </tr>\n  </tbody>\n</table>\n</div>"
     },
     "execution_count": 67,
     "metadata": {},
     "output_type": "execute_result"
    }
   ],
   "source": [
    "data_2[data_2['网站名(domain)'].str.contains('zed.com')]"
   ],
   "metadata": {
    "collapsed": false
   }
  },
  {
   "cell_type": "code",
   "execution_count": 72,
   "outputs": [
    {
     "data": {
      "text/plain": "     网站名(domain)          日期  时间  PV  UV  IP\n0     martin.com  2023/08/07  23 NaN NaN NaN\n1     martin.com  2023/08/07  22 NaN NaN NaN\n2     martin.com  2023/08/07  21 NaN NaN NaN\n3     martin.com  2023/08/07  20 NaN NaN NaN\n4     martin.com  2023/08/07  19 NaN NaN NaN\n...          ...         ...  ..  ..  ..  ..\n1361   martin.pd  2023/08/07   6 NaN NaN NaN\n1362   martin.pd  2023/08/07   5 NaN NaN NaN\n1363   martin.pd  2023/08/07   4 NaN NaN NaN\n1364   martin.pd  2023/08/07   3 NaN NaN NaN\n1365   martin.pd  2023/08/07   2 NaN NaN NaN\n\n[1254 rows x 6 columns]",
      "text/html": "<div>\n<style scoped>\n    .dataframe tbody tr th:only-of-type {\n        vertical-align: middle;\n    }\n\n    .dataframe tbody tr th {\n        vertical-align: top;\n    }\n\n    .dataframe thead th {\n        text-align: right;\n    }\n</style>\n<table border=\"1\" class=\"dataframe\">\n  <thead>\n    <tr style=\"text-align: right;\">\n      <th></th>\n      <th>网站名(domain)</th>\n      <th>日期</th>\n      <th>时间</th>\n      <th>PV</th>\n      <th>UV</th>\n      <th>IP</th>\n    </tr>\n  </thead>\n  <tbody>\n    <tr>\n      <th>0</th>\n      <td>martin.com</td>\n      <td>2023/08/07</td>\n      <td>23</td>\n      <td>NaN</td>\n      <td>NaN</td>\n      <td>NaN</td>\n    </tr>\n    <tr>\n      <th>1</th>\n      <td>martin.com</td>\n      <td>2023/08/07</td>\n      <td>22</td>\n      <td>NaN</td>\n      <td>NaN</td>\n      <td>NaN</td>\n    </tr>\n    <tr>\n      <th>2</th>\n      <td>martin.com</td>\n      <td>2023/08/07</td>\n      <td>21</td>\n      <td>NaN</td>\n      <td>NaN</td>\n      <td>NaN</td>\n    </tr>\n    <tr>\n      <th>3</th>\n      <td>martin.com</td>\n      <td>2023/08/07</td>\n      <td>20</td>\n      <td>NaN</td>\n      <td>NaN</td>\n      <td>NaN</td>\n    </tr>\n    <tr>\n      <th>4</th>\n      <td>martin.com</td>\n      <td>2023/08/07</td>\n      <td>19</td>\n      <td>NaN</td>\n      <td>NaN</td>\n      <td>NaN</td>\n    </tr>\n    <tr>\n      <th>...</th>\n      <td>...</td>\n      <td>...</td>\n      <td>...</td>\n      <td>...</td>\n      <td>...</td>\n      <td>...</td>\n    </tr>\n    <tr>\n      <th>1361</th>\n      <td>martin.pd</td>\n      <td>2023/08/07</td>\n      <td>6</td>\n      <td>NaN</td>\n      <td>NaN</td>\n      <td>NaN</td>\n    </tr>\n    <tr>\n      <th>1362</th>\n      <td>martin.pd</td>\n      <td>2023/08/07</td>\n      <td>5</td>\n      <td>NaN</td>\n      <td>NaN</td>\n      <td>NaN</td>\n    </tr>\n    <tr>\n      <th>1363</th>\n      <td>martin.pd</td>\n      <td>2023/08/07</td>\n      <td>4</td>\n      <td>NaN</td>\n      <td>NaN</td>\n      <td>NaN</td>\n    </tr>\n    <tr>\n      <th>1364</th>\n      <td>martin.pd</td>\n      <td>2023/08/07</td>\n      <td>3</td>\n      <td>NaN</td>\n      <td>NaN</td>\n      <td>NaN</td>\n    </tr>\n    <tr>\n      <th>1365</th>\n      <td>martin.pd</td>\n      <td>2023/08/07</td>\n      <td>2</td>\n      <td>NaN</td>\n      <td>NaN</td>\n      <td>NaN</td>\n    </tr>\n  </tbody>\n</table>\n<p>1254 rows × 6 columns</p>\n</div>"
     },
     "execution_count": 72,
     "metadata": {},
     "output_type": "execute_result"
    }
   ],
   "source": [
    "data_2[data_2['时间']>1]"
   ],
   "metadata": {
    "collapsed": false
   }
  },
  {
   "cell_type": "code",
   "execution_count": 75,
   "outputs": [
    {
     "data": {
      "text/plain": "    网站名(domain)          日期  时间     PV    UV    IP\n960    aber.bty  2023/08/07  23  125.0  27.0  33.0\n961    aber.bty  2023/08/07  22   93.0  25.0  28.0\n962    aber.bty  2023/08/07  21  114.0  24.0  37.0\n963    aber.bty  2023/08/07  20   83.0  17.0  19.0\n964    aber.bty  2023/08/07  19   91.0  23.0  26.0\n965    aber.bty  2023/08/07  18   95.0  21.0  21.0\n966    aber.bty  2023/08/07  17  111.0  18.0  24.0\n967    aber.bty  2023/08/07  16  105.0  19.0  21.0\n968    aber.bty  2023/08/07  15  108.0  29.0  32.0\n969    aber.bty  2023/08/07  14   79.0  22.0  27.0\n970    aber.bty  2023/08/07  13   84.0  21.0  26.0\n971    aber.bty  2023/08/07  12   53.0  12.0  16.0\n972    aber.bty  2023/08/07  11   73.0  21.0  22.0\n973    aber.bty  2023/08/07  10   47.0  15.0  18.0\n974    aber.bty  2023/08/07   9   50.0  13.0  23.0\n975    aber.bty  2023/08/07   8   64.0  22.0  23.0\n976    aber.bty  2023/08/07   7   38.0   7.0  14.0\n977    aber.bty  2023/08/07   6   47.0  11.0  12.0\n978    aber.bty  2023/08/07   5   34.0   7.0   9.0\n979    aber.bty  2023/08/07   4   72.0  17.0  22.0\n980    aber.bty  2023/08/07   3   42.0  10.0  15.0\n981    aber.bty  2023/08/07   2   63.0  12.0  18.0",
      "text/html": "<div>\n<style scoped>\n    .dataframe tbody tr th:only-of-type {\n        vertical-align: middle;\n    }\n\n    .dataframe tbody tr th {\n        vertical-align: top;\n    }\n\n    .dataframe thead th {\n        text-align: right;\n    }\n</style>\n<table border=\"1\" class=\"dataframe\">\n  <thead>\n    <tr style=\"text-align: right;\">\n      <th></th>\n      <th>网站名(domain)</th>\n      <th>日期</th>\n      <th>时间</th>\n      <th>PV</th>\n      <th>UV</th>\n      <th>IP</th>\n    </tr>\n  </thead>\n  <tbody>\n    <tr>\n      <th>960</th>\n      <td>aber.bty</td>\n      <td>2023/08/07</td>\n      <td>23</td>\n      <td>125.0</td>\n      <td>27.0</td>\n      <td>33.0</td>\n    </tr>\n    <tr>\n      <th>961</th>\n      <td>aber.bty</td>\n      <td>2023/08/07</td>\n      <td>22</td>\n      <td>93.0</td>\n      <td>25.0</td>\n      <td>28.0</td>\n    </tr>\n    <tr>\n      <th>962</th>\n      <td>aber.bty</td>\n      <td>2023/08/07</td>\n      <td>21</td>\n      <td>114.0</td>\n      <td>24.0</td>\n      <td>37.0</td>\n    </tr>\n    <tr>\n      <th>963</th>\n      <td>aber.bty</td>\n      <td>2023/08/07</td>\n      <td>20</td>\n      <td>83.0</td>\n      <td>17.0</td>\n      <td>19.0</td>\n    </tr>\n    <tr>\n      <th>964</th>\n      <td>aber.bty</td>\n      <td>2023/08/07</td>\n      <td>19</td>\n      <td>91.0</td>\n      <td>23.0</td>\n      <td>26.0</td>\n    </tr>\n    <tr>\n      <th>965</th>\n      <td>aber.bty</td>\n      <td>2023/08/07</td>\n      <td>18</td>\n      <td>95.0</td>\n      <td>21.0</td>\n      <td>21.0</td>\n    </tr>\n    <tr>\n      <th>966</th>\n      <td>aber.bty</td>\n      <td>2023/08/07</td>\n      <td>17</td>\n      <td>111.0</td>\n      <td>18.0</td>\n      <td>24.0</td>\n    </tr>\n    <tr>\n      <th>967</th>\n      <td>aber.bty</td>\n      <td>2023/08/07</td>\n      <td>16</td>\n      <td>105.0</td>\n      <td>19.0</td>\n      <td>21.0</td>\n    </tr>\n    <tr>\n      <th>968</th>\n      <td>aber.bty</td>\n      <td>2023/08/07</td>\n      <td>15</td>\n      <td>108.0</td>\n      <td>29.0</td>\n      <td>32.0</td>\n    </tr>\n    <tr>\n      <th>969</th>\n      <td>aber.bty</td>\n      <td>2023/08/07</td>\n      <td>14</td>\n      <td>79.0</td>\n      <td>22.0</td>\n      <td>27.0</td>\n    </tr>\n    <tr>\n      <th>970</th>\n      <td>aber.bty</td>\n      <td>2023/08/07</td>\n      <td>13</td>\n      <td>84.0</td>\n      <td>21.0</td>\n      <td>26.0</td>\n    </tr>\n    <tr>\n      <th>971</th>\n      <td>aber.bty</td>\n      <td>2023/08/07</td>\n      <td>12</td>\n      <td>53.0</td>\n      <td>12.0</td>\n      <td>16.0</td>\n    </tr>\n    <tr>\n      <th>972</th>\n      <td>aber.bty</td>\n      <td>2023/08/07</td>\n      <td>11</td>\n      <td>73.0</td>\n      <td>21.0</td>\n      <td>22.0</td>\n    </tr>\n    <tr>\n      <th>973</th>\n      <td>aber.bty</td>\n      <td>2023/08/07</td>\n      <td>10</td>\n      <td>47.0</td>\n      <td>15.0</td>\n      <td>18.0</td>\n    </tr>\n    <tr>\n      <th>974</th>\n      <td>aber.bty</td>\n      <td>2023/08/07</td>\n      <td>9</td>\n      <td>50.0</td>\n      <td>13.0</td>\n      <td>23.0</td>\n    </tr>\n    <tr>\n      <th>975</th>\n      <td>aber.bty</td>\n      <td>2023/08/07</td>\n      <td>8</td>\n      <td>64.0</td>\n      <td>22.0</td>\n      <td>23.0</td>\n    </tr>\n    <tr>\n      <th>976</th>\n      <td>aber.bty</td>\n      <td>2023/08/07</td>\n      <td>7</td>\n      <td>38.0</td>\n      <td>7.0</td>\n      <td>14.0</td>\n    </tr>\n    <tr>\n      <th>977</th>\n      <td>aber.bty</td>\n      <td>2023/08/07</td>\n      <td>6</td>\n      <td>47.0</td>\n      <td>11.0</td>\n      <td>12.0</td>\n    </tr>\n    <tr>\n      <th>978</th>\n      <td>aber.bty</td>\n      <td>2023/08/07</td>\n      <td>5</td>\n      <td>34.0</td>\n      <td>7.0</td>\n      <td>9.0</td>\n    </tr>\n    <tr>\n      <th>979</th>\n      <td>aber.bty</td>\n      <td>2023/08/07</td>\n      <td>4</td>\n      <td>72.0</td>\n      <td>17.0</td>\n      <td>22.0</td>\n    </tr>\n    <tr>\n      <th>980</th>\n      <td>aber.bty</td>\n      <td>2023/08/07</td>\n      <td>3</td>\n      <td>42.0</td>\n      <td>10.0</td>\n      <td>15.0</td>\n    </tr>\n    <tr>\n      <th>981</th>\n      <td>aber.bty</td>\n      <td>2023/08/07</td>\n      <td>2</td>\n      <td>63.0</td>\n      <td>12.0</td>\n      <td>18.0</td>\n    </tr>\n  </tbody>\n</table>\n</div>"
     },
     "execution_count": 75,
     "metadata": {},
     "output_type": "execute_result"
    }
   ],
   "source": [
    "data_2[(data_2['时间']>1) & (data_2['网站名(domain)'].str.contains('aber.bty'))]"
   ],
   "metadata": {
    "collapsed": false
   }
  },
  {
   "cell_type": "code",
   "execution_count": 20,
   "outputs": [
    {
     "data": {
      "text/plain": "           日期     人员     指标  总计  0-2  2-4  4-6  6-8  8-10  10-12  12-14  \\\n0  2023/08/07  Paddy    接收率   0    0    0    0    0     0      0      0   \n1  2023/08/07  Paddy  发送IP数   0    0    0    0    0     0      0      0   \n\n   14-16  16-18  18-20  20-22  22-24  \n0      0      0      0      0      0  \n1      0      0      0      0      0  ",
      "text/html": "<div>\n<style scoped>\n    .dataframe tbody tr th:only-of-type {\n        vertical-align: middle;\n    }\n\n    .dataframe tbody tr th {\n        vertical-align: top;\n    }\n\n    .dataframe thead th {\n        text-align: right;\n    }\n</style>\n<table border=\"1\" class=\"dataframe\">\n  <thead>\n    <tr style=\"text-align: right;\">\n      <th></th>\n      <th>日期</th>\n      <th>人员</th>\n      <th>指标</th>\n      <th>总计</th>\n      <th>0-2</th>\n      <th>2-4</th>\n      <th>4-6</th>\n      <th>6-8</th>\n      <th>8-10</th>\n      <th>10-12</th>\n      <th>12-14</th>\n      <th>14-16</th>\n      <th>16-18</th>\n      <th>18-20</th>\n      <th>20-22</th>\n      <th>22-24</th>\n    </tr>\n  </thead>\n  <tbody>\n    <tr>\n      <th>0</th>\n      <td>2023/08/07</td>\n      <td>Paddy</td>\n      <td>接收率</td>\n      <td>0</td>\n      <td>0</td>\n      <td>0</td>\n      <td>0</td>\n      <td>0</td>\n      <td>0</td>\n      <td>0</td>\n      <td>0</td>\n      <td>0</td>\n      <td>0</td>\n      <td>0</td>\n      <td>0</td>\n      <td>0</td>\n    </tr>\n    <tr>\n      <th>1</th>\n      <td>2023/08/07</td>\n      <td>Paddy</td>\n      <td>发送IP数</td>\n      <td>0</td>\n      <td>0</td>\n      <td>0</td>\n      <td>0</td>\n      <td>0</td>\n      <td>0</td>\n      <td>0</td>\n      <td>0</td>\n      <td>0</td>\n      <td>0</td>\n      <td>0</td>\n      <td>0</td>\n      <td>0</td>\n    </tr>\n  </tbody>\n</table>\n</div>"
     },
     "execution_count": 20,
     "metadata": {},
     "output_type": "execute_result"
    }
   ],
   "source": [
    "df.head(2)"
   ],
   "metadata": {
    "collapsed": false
   }
  },
  {
   "cell_type": "code",
   "execution_count": 28,
   "outputs": [
    {
     "data": {
      "text/plain": "            日期     人员     指标  总计  0-2  2-4  4-6  6-8  8-10  10-12  12-14  \\\n0   2023/08/07  Paddy    接收率   0    2    0    0    0     0      0      0   \n1   2023/08/07  Paddy  发送IP数   0    0    0    0    0     0      0      0   \n2   2023/08/07  Paddy  接收IP数   0    0    0    0    0     0      0      0   \n3   2023/08/07  Paddy     注册   0    0    0    0    0     0      0      0   \n4   2023/08/07  Paddy    注册率   0    0    0    0    0     0      0      0   \n..         ...    ...    ...  ..  ...  ...  ...  ...   ...    ...    ...   \n58  2023/08/07    Ben  接收IP数   0    0    0    0    0     0      0      0   \n59  2023/08/07    Ben     注册   0    0    0    0    0     0      0      0   \n60  2023/08/07    Ben    注册率   0    0    0    0    0     0      0      0   \n61  2023/08/07    Ben     开户   0    0    0    0    0     0      0      0   \n62  2023/08/07    Ben  开户转化率   0    0    0    0    0     0      0      0   \n\n    14-16  16-18  18-20  20-22  22-24  \n0       0      0      0      0      0  \n1       0      0      0      0      0  \n2       0      0      0      0      0  \n3       0      0      0      0      0  \n4       0      0      0      0      0  \n..    ...    ...    ...    ...    ...  \n58      0      0      0      0      0  \n59      0      0      0      0      0  \n60      0      0      0      0      0  \n61      0      0      0      0      0  \n62      0      0      0      0      0  \n\n[63 rows x 16 columns]",
      "text/html": "<div>\n<style scoped>\n    .dataframe tbody tr th:only-of-type {\n        vertical-align: middle;\n    }\n\n    .dataframe tbody tr th {\n        vertical-align: top;\n    }\n\n    .dataframe thead th {\n        text-align: right;\n    }\n</style>\n<table border=\"1\" class=\"dataframe\">\n  <thead>\n    <tr style=\"text-align: right;\">\n      <th></th>\n      <th>日期</th>\n      <th>人员</th>\n      <th>指标</th>\n      <th>总计</th>\n      <th>0-2</th>\n      <th>2-4</th>\n      <th>4-6</th>\n      <th>6-8</th>\n      <th>8-10</th>\n      <th>10-12</th>\n      <th>12-14</th>\n      <th>14-16</th>\n      <th>16-18</th>\n      <th>18-20</th>\n      <th>20-22</th>\n      <th>22-24</th>\n    </tr>\n  </thead>\n  <tbody>\n    <tr>\n      <th>0</th>\n      <td>2023/08/07</td>\n      <td>Paddy</td>\n      <td>接收率</td>\n      <td>0</td>\n      <td>2</td>\n      <td>0</td>\n      <td>0</td>\n      <td>0</td>\n      <td>0</td>\n      <td>0</td>\n      <td>0</td>\n      <td>0</td>\n      <td>0</td>\n      <td>0</td>\n      <td>0</td>\n      <td>0</td>\n    </tr>\n    <tr>\n      <th>1</th>\n      <td>2023/08/07</td>\n      <td>Paddy</td>\n      <td>发送IP数</td>\n      <td>0</td>\n      <td>0</td>\n      <td>0</td>\n      <td>0</td>\n      <td>0</td>\n      <td>0</td>\n      <td>0</td>\n      <td>0</td>\n      <td>0</td>\n      <td>0</td>\n      <td>0</td>\n      <td>0</td>\n      <td>0</td>\n    </tr>\n    <tr>\n      <th>2</th>\n      <td>2023/08/07</td>\n      <td>Paddy</td>\n      <td>接收IP数</td>\n      <td>0</td>\n      <td>0</td>\n      <td>0</td>\n      <td>0</td>\n      <td>0</td>\n      <td>0</td>\n      <td>0</td>\n      <td>0</td>\n      <td>0</td>\n      <td>0</td>\n      <td>0</td>\n      <td>0</td>\n      <td>0</td>\n    </tr>\n    <tr>\n      <th>3</th>\n      <td>2023/08/07</td>\n      <td>Paddy</td>\n      <td>注册</td>\n      <td>0</td>\n      <td>0</td>\n      <td>0</td>\n      <td>0</td>\n      <td>0</td>\n      <td>0</td>\n      <td>0</td>\n      <td>0</td>\n      <td>0</td>\n      <td>0</td>\n      <td>0</td>\n      <td>0</td>\n      <td>0</td>\n    </tr>\n    <tr>\n      <th>4</th>\n      <td>2023/08/07</td>\n      <td>Paddy</td>\n      <td>注册率</td>\n      <td>0</td>\n      <td>0</td>\n      <td>0</td>\n      <td>0</td>\n      <td>0</td>\n      <td>0</td>\n      <td>0</td>\n      <td>0</td>\n      <td>0</td>\n      <td>0</td>\n      <td>0</td>\n      <td>0</td>\n      <td>0</td>\n    </tr>\n    <tr>\n      <th>...</th>\n      <td>...</td>\n      <td>...</td>\n      <td>...</td>\n      <td>...</td>\n      <td>...</td>\n      <td>...</td>\n      <td>...</td>\n      <td>...</td>\n      <td>...</td>\n      <td>...</td>\n      <td>...</td>\n      <td>...</td>\n      <td>...</td>\n      <td>...</td>\n      <td>...</td>\n      <td>...</td>\n    </tr>\n    <tr>\n      <th>58</th>\n      <td>2023/08/07</td>\n      <td>Ben</td>\n      <td>接收IP数</td>\n      <td>0</td>\n      <td>0</td>\n      <td>0</td>\n      <td>0</td>\n      <td>0</td>\n      <td>0</td>\n      <td>0</td>\n      <td>0</td>\n      <td>0</td>\n      <td>0</td>\n      <td>0</td>\n      <td>0</td>\n      <td>0</td>\n    </tr>\n    <tr>\n      <th>59</th>\n      <td>2023/08/07</td>\n      <td>Ben</td>\n      <td>注册</td>\n      <td>0</td>\n      <td>0</td>\n      <td>0</td>\n      <td>0</td>\n      <td>0</td>\n      <td>0</td>\n      <td>0</td>\n      <td>0</td>\n      <td>0</td>\n      <td>0</td>\n      <td>0</td>\n      <td>0</td>\n      <td>0</td>\n    </tr>\n    <tr>\n      <th>60</th>\n      <td>2023/08/07</td>\n      <td>Ben</td>\n      <td>注册率</td>\n      <td>0</td>\n      <td>0</td>\n      <td>0</td>\n      <td>0</td>\n      <td>0</td>\n      <td>0</td>\n      <td>0</td>\n      <td>0</td>\n      <td>0</td>\n      <td>0</td>\n      <td>0</td>\n      <td>0</td>\n      <td>0</td>\n    </tr>\n    <tr>\n      <th>61</th>\n      <td>2023/08/07</td>\n      <td>Ben</td>\n      <td>开户</td>\n      <td>0</td>\n      <td>0</td>\n      <td>0</td>\n      <td>0</td>\n      <td>0</td>\n      <td>0</td>\n      <td>0</td>\n      <td>0</td>\n      <td>0</td>\n      <td>0</td>\n      <td>0</td>\n      <td>0</td>\n      <td>0</td>\n    </tr>\n    <tr>\n      <th>62</th>\n      <td>2023/08/07</td>\n      <td>Ben</td>\n      <td>开户转化率</td>\n      <td>0</td>\n      <td>0</td>\n      <td>0</td>\n      <td>0</td>\n      <td>0</td>\n      <td>0</td>\n      <td>0</td>\n      <td>0</td>\n      <td>0</td>\n      <td>0</td>\n      <td>0</td>\n      <td>0</td>\n      <td>0</td>\n    </tr>\n  </tbody>\n</table>\n<p>63 rows × 16 columns</p>\n</div>"
     },
     "execution_count": 28,
     "metadata": {},
     "output_type": "execute_result"
    }
   ],
   "source": [
    "df.loc[(df['人员']=='Paddy') & (df['指标']=='接收率'),'0-2']="
   ],
   "metadata": {
    "collapsed": false
   }
  },
  {
   "cell_type": "code",
   "execution_count": 34,
   "outputs": [
    {
     "data": {
      "text/plain": "            日期     人员     指标  总计  0-2  2-4  4-6  6-8  8-10  10-12  12-14  \\\n0   2023/08/07  Paddy    接收率   0    2    0    0    0     0      0      0   \n1   2023/08/07  Paddy  发送IP数   0  327  176  120  124   210    227    278   \n2   2023/08/07  Paddy  接收IP数   0    0    0    0    0     0      0      0   \n3   2023/08/07  Paddy     注册   0    0    0    0    0     0      0      0   \n4   2023/08/07  Paddy    注册率   0    0    0    0    0     0      0      0   \n..         ...    ...    ...  ..  ...  ...  ...  ...   ...    ...    ...   \n58  2023/08/07    Ben  接收IP数   0    0    0    0    0     0      0      0   \n59  2023/08/07    Ben     注册   0    0    0    0    0     0      0      0   \n60  2023/08/07    Ben    注册率   0    0    0    0    0     0      0      0   \n61  2023/08/07    Ben     开户   0    0    0    0    0     0      0      0   \n62  2023/08/07    Ben  开户转化率   0    0    0    0    0     0      0      0   \n\n    14-16  16-18  18-20  20-22  22-24  \n0       0      0      0      0      0  \n1     350    328    307    533    998  \n2       0      0      0      0      0  \n3       0      0      0      0      0  \n4       0      0      0      0      0  \n..    ...    ...    ...    ...    ...  \n58      0      0      0      0      0  \n59      0      0      0      0      0  \n60      0      0      0      0      0  \n61      0      0      0      0      0  \n62      0      0      0      0      0  \n\n[63 rows x 16 columns]",
      "text/html": "<div>\n<style scoped>\n    .dataframe tbody tr th:only-of-type {\n        vertical-align: middle;\n    }\n\n    .dataframe tbody tr th {\n        vertical-align: top;\n    }\n\n    .dataframe thead th {\n        text-align: right;\n    }\n</style>\n<table border=\"1\" class=\"dataframe\">\n  <thead>\n    <tr style=\"text-align: right;\">\n      <th></th>\n      <th>日期</th>\n      <th>人员</th>\n      <th>指标</th>\n      <th>总计</th>\n      <th>0-2</th>\n      <th>2-4</th>\n      <th>4-6</th>\n      <th>6-8</th>\n      <th>8-10</th>\n      <th>10-12</th>\n      <th>12-14</th>\n      <th>14-16</th>\n      <th>16-18</th>\n      <th>18-20</th>\n      <th>20-22</th>\n      <th>22-24</th>\n    </tr>\n  </thead>\n  <tbody>\n    <tr>\n      <th>0</th>\n      <td>2023/08/07</td>\n      <td>Paddy</td>\n      <td>接收率</td>\n      <td>0</td>\n      <td>2</td>\n      <td>0</td>\n      <td>0</td>\n      <td>0</td>\n      <td>0</td>\n      <td>0</td>\n      <td>0</td>\n      <td>0</td>\n      <td>0</td>\n      <td>0</td>\n      <td>0</td>\n      <td>0</td>\n    </tr>\n    <tr>\n      <th>1</th>\n      <td>2023/08/07</td>\n      <td>Paddy</td>\n      <td>发送IP数</td>\n      <td>0</td>\n      <td>327</td>\n      <td>176</td>\n      <td>120</td>\n      <td>124</td>\n      <td>210</td>\n      <td>227</td>\n      <td>278</td>\n      <td>350</td>\n      <td>328</td>\n      <td>307</td>\n      <td>533</td>\n      <td>998</td>\n    </tr>\n    <tr>\n      <th>2</th>\n      <td>2023/08/07</td>\n      <td>Paddy</td>\n      <td>接收IP数</td>\n      <td>0</td>\n      <td>0</td>\n      <td>0</td>\n      <td>0</td>\n      <td>0</td>\n      <td>0</td>\n      <td>0</td>\n      <td>0</td>\n      <td>0</td>\n      <td>0</td>\n      <td>0</td>\n      <td>0</td>\n      <td>0</td>\n    </tr>\n    <tr>\n      <th>3</th>\n      <td>2023/08/07</td>\n      <td>Paddy</td>\n      <td>注册</td>\n      <td>0</td>\n      <td>0</td>\n      <td>0</td>\n      <td>0</td>\n      <td>0</td>\n      <td>0</td>\n      <td>0</td>\n      <td>0</td>\n      <td>0</td>\n      <td>0</td>\n      <td>0</td>\n      <td>0</td>\n      <td>0</td>\n    </tr>\n    <tr>\n      <th>4</th>\n      <td>2023/08/07</td>\n      <td>Paddy</td>\n      <td>注册率</td>\n      <td>0</td>\n      <td>0</td>\n      <td>0</td>\n      <td>0</td>\n      <td>0</td>\n      <td>0</td>\n      <td>0</td>\n      <td>0</td>\n      <td>0</td>\n      <td>0</td>\n      <td>0</td>\n      <td>0</td>\n      <td>0</td>\n    </tr>\n    <tr>\n      <th>...</th>\n      <td>...</td>\n      <td>...</td>\n      <td>...</td>\n      <td>...</td>\n      <td>...</td>\n      <td>...</td>\n      <td>...</td>\n      <td>...</td>\n      <td>...</td>\n      <td>...</td>\n      <td>...</td>\n      <td>...</td>\n      <td>...</td>\n      <td>...</td>\n      <td>...</td>\n      <td>...</td>\n    </tr>\n    <tr>\n      <th>58</th>\n      <td>2023/08/07</td>\n      <td>Ben</td>\n      <td>接收IP数</td>\n      <td>0</td>\n      <td>0</td>\n      <td>0</td>\n      <td>0</td>\n      <td>0</td>\n      <td>0</td>\n      <td>0</td>\n      <td>0</td>\n      <td>0</td>\n      <td>0</td>\n      <td>0</td>\n      <td>0</td>\n      <td>0</td>\n    </tr>\n    <tr>\n      <th>59</th>\n      <td>2023/08/07</td>\n      <td>Ben</td>\n      <td>注册</td>\n      <td>0</td>\n      <td>0</td>\n      <td>0</td>\n      <td>0</td>\n      <td>0</td>\n      <td>0</td>\n      <td>0</td>\n      <td>0</td>\n      <td>0</td>\n      <td>0</td>\n      <td>0</td>\n      <td>0</td>\n      <td>0</td>\n    </tr>\n    <tr>\n      <th>60</th>\n      <td>2023/08/07</td>\n      <td>Ben</td>\n      <td>注册率</td>\n      <td>0</td>\n      <td>0</td>\n      <td>0</td>\n      <td>0</td>\n      <td>0</td>\n      <td>0</td>\n      <td>0</td>\n      <td>0</td>\n      <td>0</td>\n      <td>0</td>\n      <td>0</td>\n      <td>0</td>\n      <td>0</td>\n    </tr>\n    <tr>\n      <th>61</th>\n      <td>2023/08/07</td>\n      <td>Ben</td>\n      <td>开户</td>\n      <td>0</td>\n      <td>0</td>\n      <td>0</td>\n      <td>0</td>\n      <td>0</td>\n      <td>0</td>\n      <td>0</td>\n      <td>0</td>\n      <td>0</td>\n      <td>0</td>\n      <td>0</td>\n      <td>0</td>\n      <td>0</td>\n    </tr>\n    <tr>\n      <th>62</th>\n      <td>2023/08/07</td>\n      <td>Ben</td>\n      <td>开户转化率</td>\n      <td>0</td>\n      <td>0</td>\n      <td>0</td>\n      <td>0</td>\n      <td>0</td>\n      <td>0</td>\n      <td>0</td>\n      <td>0</td>\n      <td>0</td>\n      <td>0</td>\n      <td>0</td>\n      <td>0</td>\n      <td>0</td>\n    </tr>\n  </tbody>\n</table>\n<p>63 rows × 16 columns</p>\n</div>"
     },
     "execution_count": 34,
     "metadata": {},
     "output_type": "execute_result"
    }
   ],
   "source": [
    "df.loc[(df['人员']=='Martin') & (df['指标']=='发送IP数'),'0-2'] =data_2[data_2['网站名(domain)'].str.contains('redquan.com') & (data_2['时间']<2)]['IP'].sum()\n",
    "df.loc[(df['人员']=='Martin') & (df['指标']=='发送IP数'),'2-4'] =data_2[data_2['网站名(domain)'].str.contains('redquan.com') &(data_2['时间']>=2) &(data_2['时间']<4)]['IP'].sum()\n",
    "df.loc[(df['人员']=='Martin') & (df['指标']=='发送IP数'),'4-6'] =data_2[data_2['网站名(domain)'].str.contains('redquan.com') &(data_2['时间']>=4)& (data_2['时间']<6)]['IP'].sum()\n",
    "df.loc[(df['人员']=='Martin') & (df['指标']=='发送IP数'),'6-8'] =data_2[data_2['网站名(domain)'].str.contains('redquan.com') &(data_2['时间']>=6)& (data_2['时间']<8)]['IP'].sum()\n",
    "df.loc[(df['人员']=='Martin') & (df['指标']=='发送IP数'),'8-10'] =data_2[data_2['网站名(domain)'].str.contains('redquan.com') &(data_2['时间']>=8)& (data_2['时间']<10)]['IP'].sum()\n",
    "df.loc[(df['人员']=='Martin') & (df['指标']=='发送IP数'),'10-12'] =data_2[data_2['网站名(domain)'].str.contains('redquan.com') &(data_2['时间']>=10)& (data_2['时间']<12)]['IP'].sum()\n",
    "df.loc[(df['人员']=='Martin') & (df['指标']=='发送IP数'),'12-14'] =data_2[data_2['网站名(domain)'].str.contains('redquan.com') &(data_2['时间']>=12)& (data_2['时间']<14)]['IP'].sum()\n",
    "df.loc[(df['人员']=='Martin') & (df['指标']=='发送IP数'),'14-16'] =data_2[data_2['网站名(domain)'].str.contains('redquan.com') &(data_2['时间']>=14)& (data_2['时间']<16)]['IP'].sum()\n",
    "df.loc[(df['人员']=='Martin') & (df['指标']=='发送IP数'),'16-18'] =data_2[data_2['网站名(domain)'].str.contains('redquan.com') &(data_2['时间']>=16)& (data_2['时间']<18)]['IP'].sum()\n",
    "df.loc[(df['人员']=='Martin') & (df['指标']=='发送IP数'),'18-20'] =data_2[data_2['网站名(domain)'].str.contains('redquan.com') &(data_2['时间']>=18)& (data_2['时间']<20)]['IP'].sum()\n",
    "df.loc[(df['人员']=='Martin') & (df['指标']=='发送IP数'),'20-22'] =data_2[data_2['网站名(domain)'].str.contains('redquan.com') &(data_2['时间']>=20)& (data_2['时间']<22)]['IP'].sum()\n",
    "df.loc[(df['人员']=='Martin') & (df['指标']=='发送IP数'),'22-24'] =data_2[data_2['网站名(domain)'].str.contains('redquan.com')&(data_2['时间']>=20) & (data_2['时间']<24)]['IP'].sum()\n",
    "df"
   ],
   "metadata": {
    "collapsed": false
   }
  },
  {
   "cell_type": "code",
   "execution_count": 33,
   "outputs": [
    {
     "data": {
      "text/plain": "            日期     人员     指标  总计  0-2  2-4  4-6  6-8  8-10  10-12  12-14  \\\n0   2023/08/07  Paddy    接收率   0    2    0    0    0     0      0      0   \n1   2023/08/07  Paddy  发送IP数   0  327  176  120  124   210    227    278   \n2   2023/08/07  Paddy  接收IP数   0    0    0    0    0     0      0      0   \n3   2023/08/07  Paddy     注册   0    0    0    0    0     0      0      0   \n4   2023/08/07  Paddy    注册率   0    0    0    0    0     0      0      0   \n..         ...    ...    ...  ..  ...  ...  ...  ...   ...    ...    ...   \n58  2023/08/07    Ben  接收IP数   0    0    0    0    0     0      0      0   \n59  2023/08/07    Ben     注册   0    0    0    0    0     0      0      0   \n60  2023/08/07    Ben    注册率   0    0    0    0    0     0      0      0   \n61  2023/08/07    Ben     开户   0    0    0    0    0     0      0      0   \n62  2023/08/07    Ben  开户转化率   0    0    0    0    0     0      0      0   \n\n    14-16  16-18  18-20  20-22  22-24  \n0       0      0      0      0      0  \n1     350    328    307    533    998  \n2       0      0      0      0      0  \n3       0      0      0      0      0  \n4       0      0      0      0      0  \n..    ...    ...    ...    ...    ...  \n58      0      0      0      0      0  \n59      0      0      0      0      0  \n60      0      0      0      0      0  \n61      0      0      0      0      0  \n62      0      0      0      0      0  \n\n[63 rows x 16 columns]",
      "text/html": "<div>\n<style scoped>\n    .dataframe tbody tr th:only-of-type {\n        vertical-align: middle;\n    }\n\n    .dataframe tbody tr th {\n        vertical-align: top;\n    }\n\n    .dataframe thead th {\n        text-align: right;\n    }\n</style>\n<table border=\"1\" class=\"dataframe\">\n  <thead>\n    <tr style=\"text-align: right;\">\n      <th></th>\n      <th>日期</th>\n      <th>人员</th>\n      <th>指标</th>\n      <th>总计</th>\n      <th>0-2</th>\n      <th>2-4</th>\n      <th>4-6</th>\n      <th>6-8</th>\n      <th>8-10</th>\n      <th>10-12</th>\n      <th>12-14</th>\n      <th>14-16</th>\n      <th>16-18</th>\n      <th>18-20</th>\n      <th>20-22</th>\n      <th>22-24</th>\n    </tr>\n  </thead>\n  <tbody>\n    <tr>\n      <th>0</th>\n      <td>2023/08/07</td>\n      <td>Paddy</td>\n      <td>接收率</td>\n      <td>0</td>\n      <td>2</td>\n      <td>0</td>\n      <td>0</td>\n      <td>0</td>\n      <td>0</td>\n      <td>0</td>\n      <td>0</td>\n      <td>0</td>\n      <td>0</td>\n      <td>0</td>\n      <td>0</td>\n      <td>0</td>\n    </tr>\n    <tr>\n      <th>1</th>\n      <td>2023/08/07</td>\n      <td>Paddy</td>\n      <td>发送IP数</td>\n      <td>0</td>\n      <td>327</td>\n      <td>176</td>\n      <td>120</td>\n      <td>124</td>\n      <td>210</td>\n      <td>227</td>\n      <td>278</td>\n      <td>350</td>\n      <td>328</td>\n      <td>307</td>\n      <td>533</td>\n      <td>998</td>\n    </tr>\n    <tr>\n      <th>2</th>\n      <td>2023/08/07</td>\n      <td>Paddy</td>\n      <td>接收IP数</td>\n      <td>0</td>\n      <td>0</td>\n      <td>0</td>\n      <td>0</td>\n      <td>0</td>\n      <td>0</td>\n      <td>0</td>\n      <td>0</td>\n      <td>0</td>\n      <td>0</td>\n      <td>0</td>\n      <td>0</td>\n      <td>0</td>\n    </tr>\n    <tr>\n      <th>3</th>\n      <td>2023/08/07</td>\n      <td>Paddy</td>\n      <td>注册</td>\n      <td>0</td>\n      <td>0</td>\n      <td>0</td>\n      <td>0</td>\n      <td>0</td>\n      <td>0</td>\n      <td>0</td>\n      <td>0</td>\n      <td>0</td>\n      <td>0</td>\n      <td>0</td>\n      <td>0</td>\n      <td>0</td>\n    </tr>\n    <tr>\n      <th>4</th>\n      <td>2023/08/07</td>\n      <td>Paddy</td>\n      <td>注册率</td>\n      <td>0</td>\n      <td>0</td>\n      <td>0</td>\n      <td>0</td>\n      <td>0</td>\n      <td>0</td>\n      <td>0</td>\n      <td>0</td>\n      <td>0</td>\n      <td>0</td>\n      <td>0</td>\n      <td>0</td>\n      <td>0</td>\n    </tr>\n    <tr>\n      <th>...</th>\n      <td>...</td>\n      <td>...</td>\n      <td>...</td>\n      <td>...</td>\n      <td>...</td>\n      <td>...</td>\n      <td>...</td>\n      <td>...</td>\n      <td>...</td>\n      <td>...</td>\n      <td>...</td>\n      <td>...</td>\n      <td>...</td>\n      <td>...</td>\n      <td>...</td>\n      <td>...</td>\n    </tr>\n    <tr>\n      <th>58</th>\n      <td>2023/08/07</td>\n      <td>Ben</td>\n      <td>接收IP数</td>\n      <td>0</td>\n      <td>0</td>\n      <td>0</td>\n      <td>0</td>\n      <td>0</td>\n      <td>0</td>\n      <td>0</td>\n      <td>0</td>\n      <td>0</td>\n      <td>0</td>\n      <td>0</td>\n      <td>0</td>\n      <td>0</td>\n    </tr>\n    <tr>\n      <th>59</th>\n      <td>2023/08/07</td>\n      <td>Ben</td>\n      <td>注册</td>\n      <td>0</td>\n      <td>0</td>\n      <td>0</td>\n      <td>0</td>\n      <td>0</td>\n      <td>0</td>\n      <td>0</td>\n      <td>0</td>\n      <td>0</td>\n      <td>0</td>\n      <td>0</td>\n      <td>0</td>\n      <td>0</td>\n    </tr>\n    <tr>\n      <th>60</th>\n      <td>2023/08/07</td>\n      <td>Ben</td>\n      <td>注册率</td>\n      <td>0</td>\n      <td>0</td>\n      <td>0</td>\n      <td>0</td>\n      <td>0</td>\n      <td>0</td>\n      <td>0</td>\n      <td>0</td>\n      <td>0</td>\n      <td>0</td>\n      <td>0</td>\n      <td>0</td>\n      <td>0</td>\n    </tr>\n    <tr>\n      <th>61</th>\n      <td>2023/08/07</td>\n      <td>Ben</td>\n      <td>开户</td>\n      <td>0</td>\n      <td>0</td>\n      <td>0</td>\n      <td>0</td>\n      <td>0</td>\n      <td>0</td>\n      <td>0</td>\n      <td>0</td>\n      <td>0</td>\n      <td>0</td>\n      <td>0</td>\n      <td>0</td>\n      <td>0</td>\n    </tr>\n    <tr>\n      <th>62</th>\n      <td>2023/08/07</td>\n      <td>Ben</td>\n      <td>开户转化率</td>\n      <td>0</td>\n      <td>0</td>\n      <td>0</td>\n      <td>0</td>\n      <td>0</td>\n      <td>0</td>\n      <td>0</td>\n      <td>0</td>\n      <td>0</td>\n      <td>0</td>\n      <td>0</td>\n      <td>0</td>\n      <td>0</td>\n    </tr>\n  </tbody>\n</table>\n<p>63 rows × 16 columns</p>\n</div>"
     },
     "execution_count": 33,
     "metadata": {},
     "output_type": "execute_result"
    }
   ],
   "source": [
    "df.loc[(df['人员']=='Martin') & (df['指标']=='接收IP数'),'0-2'] =data_2[data_2['网站名(domain)'].str.contains('martin.bty') & (data_2['时间']<2)]['IP'].sum()\n",
    "df.loc[(df['人员']=='Martin') & (df['指标']=='接收IP数'),'2-4'] =data_2[data_2['网站名(domain)'].str.contains('martin.bty') &(data_2['时间']>=2) &(data_2['时间']<4)]['IP'].sum()\n",
    "df.loc[(df['人员']=='Martin') & (df['指标']=='接收IP数'),'4-6'] =data_2[data_2['网站名(domain)'].str.contains('martin.bty') &(data_2['时间']>=4)& (data_2['时间']<6)]['IP'].sum()\n",
    "df.loc[(df['人员']=='Martin') & (df['指标']=='接收IP数'),'6-8'] =data_2[data_2['网站名(domain)'].str.contains('martin.bty') &(data_2['时间']>=6)& (data_2['时间']<8)]['IP'].sum()\n",
    "df.loc[(df['人员']=='Martin') & (df['指标']=='接收IP数'),'8-10'] =data_2[data_2['网站名(domain)'].str.contains('martin.bty') &(data_2['时间']>=8)& (data_2['时间']<10)]['IP'].sum()\n",
    "df.loc[(df['人员']=='Martin') & (df['指标']=='接收IP数'),'10-12'] =data_2[data_2['网站名(domain)'].str.contains('martin.bty') &(data_2['时间']>=10)& (data_2['时间']<12)]['IP'].sum()\n",
    "df.loc[(df['人员']=='Martin') & (df['指标']=='接收IP数'),'12-14'] =data_2[data_2['网站名(domain)'].str.contains('martin.bty') &(data_2['时间']>=12)& (data_2['时间']<14)]['IP'].sum()\n",
    "df.loc[(df['人员']=='Martin') & (df['指标']=='接收IP数'),'14-16'] =data_2[data_2['网站名(domain)'].str.contains('martin.bty') &(data_2['时间']>=14)& (data_2['时间']<16)]['IP'].sum()\n",
    "df.loc[(df['人员']=='Martin') & (df['指标']=='接收IP数'),'16-18'] =data_2[data_2['网站名(domain)'].str.contains('martin.bty') &(data_2['时间']>=16)& (data_2['时间']<18)]['IP'].sum()\n",
    "df.loc[(df['人员']=='Martin') & (df['指标']=='接收IP数'),'18-20'] =data_2[data_2['网站名(domain)'].str.contains('martin.bty') &(data_2['时间']>=18)& (data_2['时间']<20)]['IP'].sum()\n",
    "df.loc[(df['人员']=='Martin') & (df['指标']=='接收IP数'),'20-22'] =data_2[data_2['网站名(domain)'].str.contains('martin.bty') &(data_2['时间']>=20)& (data_2['时间']<22)]['IP'].sum()\n",
    "df.loc[(df['人员']=='Martin') & (df['指标']=='接收IP数'),'22-24'] =data_2[data_2['网站名(domain)'].str.contains('martin.bty')&(data_2['时间']>=20) & (data_2['时间']<24)]['IP'].sum()\n",
    "df"
   ],
   "metadata": {
    "collapsed": false
   }
  },
  {
   "cell_type": "code",
   "execution_count": 54,
   "outputs": [
    {
     "data": {
      "text/plain": "7"
     },
     "execution_count": 54,
     "metadata": {},
     "output_type": "execute_result"
    }
   ],
   "source": [
    "len(hour_user[(hour_user['seo变化数据团队']=='martin') & (hour_user['小时数']<2)])"
   ],
   "metadata": {
    "collapsed": false
   }
  },
  {
   "cell_type": "code",
   "execution_count": 55,
   "outputs": [
    {
     "data": {
      "text/plain": "            日期     人员     指标  总计  0-2  2-4  4-6  6-8  8-10  10-12  12-14  \\\n0   2023/08/07  Paddy    接收率   0    2    0    0    0     0      0      0   \n1   2023/08/07  Paddy  发送IP数   0  327  176  120  124   210    227    278   \n2   2023/08/07  Paddy  接收IP数   0    0    0    0    0     0      0      0   \n3   2023/08/07  Paddy     注册   0    0    0    0    0     0      0      0   \n4   2023/08/07  Paddy    注册率   0    0    0    0    0     0      0      0   \n..         ...    ...    ...  ..  ...  ...  ...  ...   ...    ...    ...   \n58  2023/08/07    Ben  接收IP数   0    0    0    0    0     0      0      0   \n59  2023/08/07    Ben     注册   0    0    0    0    0     0      0      0   \n60  2023/08/07    Ben    注册率   0    0    0    0    0     0      0      0   \n61  2023/08/07    Ben     开户   0    0    0    0    0     0      0      0   \n62  2023/08/07    Ben  开户转化率   0    0    0    0    0     0      0      0   \n\n    14-16  16-18  18-20  20-22  22-24  \n0       0      0      0      0      0  \n1     350    328    307    533    998  \n2       0      0      0      0      0  \n3       0      0      0      0      0  \n4       0      0      0      0      0  \n..    ...    ...    ...    ...    ...  \n58      0      0      0      0      0  \n59      0      0      0      0      0  \n60      0      0      0      0      0  \n61      0      0      0      0      0  \n62      0      0      0      0      0  \n\n[63 rows x 16 columns]",
      "text/html": "<div>\n<style scoped>\n    .dataframe tbody tr th:only-of-type {\n        vertical-align: middle;\n    }\n\n    .dataframe tbody tr th {\n        vertical-align: top;\n    }\n\n    .dataframe thead th {\n        text-align: right;\n    }\n</style>\n<table border=\"1\" class=\"dataframe\">\n  <thead>\n    <tr style=\"text-align: right;\">\n      <th></th>\n      <th>日期</th>\n      <th>人员</th>\n      <th>指标</th>\n      <th>总计</th>\n      <th>0-2</th>\n      <th>2-4</th>\n      <th>4-6</th>\n      <th>6-8</th>\n      <th>8-10</th>\n      <th>10-12</th>\n      <th>12-14</th>\n      <th>14-16</th>\n      <th>16-18</th>\n      <th>18-20</th>\n      <th>20-22</th>\n      <th>22-24</th>\n    </tr>\n  </thead>\n  <tbody>\n    <tr>\n      <th>0</th>\n      <td>2023/08/07</td>\n      <td>Paddy</td>\n      <td>接收率</td>\n      <td>0</td>\n      <td>2</td>\n      <td>0</td>\n      <td>0</td>\n      <td>0</td>\n      <td>0</td>\n      <td>0</td>\n      <td>0</td>\n      <td>0</td>\n      <td>0</td>\n      <td>0</td>\n      <td>0</td>\n      <td>0</td>\n    </tr>\n    <tr>\n      <th>1</th>\n      <td>2023/08/07</td>\n      <td>Paddy</td>\n      <td>发送IP数</td>\n      <td>0</td>\n      <td>327</td>\n      <td>176</td>\n      <td>120</td>\n      <td>124</td>\n      <td>210</td>\n      <td>227</td>\n      <td>278</td>\n      <td>350</td>\n      <td>328</td>\n      <td>307</td>\n      <td>533</td>\n      <td>998</td>\n    </tr>\n    <tr>\n      <th>2</th>\n      <td>2023/08/07</td>\n      <td>Paddy</td>\n      <td>接收IP数</td>\n      <td>0</td>\n      <td>0</td>\n      <td>0</td>\n      <td>0</td>\n      <td>0</td>\n      <td>0</td>\n      <td>0</td>\n      <td>0</td>\n      <td>0</td>\n      <td>0</td>\n      <td>0</td>\n      <td>0</td>\n      <td>0</td>\n    </tr>\n    <tr>\n      <th>3</th>\n      <td>2023/08/07</td>\n      <td>Paddy</td>\n      <td>注册</td>\n      <td>0</td>\n      <td>0</td>\n      <td>0</td>\n      <td>0</td>\n      <td>0</td>\n      <td>0</td>\n      <td>0</td>\n      <td>0</td>\n      <td>0</td>\n      <td>0</td>\n      <td>0</td>\n      <td>0</td>\n      <td>0</td>\n    </tr>\n    <tr>\n      <th>4</th>\n      <td>2023/08/07</td>\n      <td>Paddy</td>\n      <td>注册率</td>\n      <td>0</td>\n      <td>0</td>\n      <td>0</td>\n      <td>0</td>\n      <td>0</td>\n      <td>0</td>\n      <td>0</td>\n      <td>0</td>\n      <td>0</td>\n      <td>0</td>\n      <td>0</td>\n      <td>0</td>\n      <td>0</td>\n    </tr>\n    <tr>\n      <th>...</th>\n      <td>...</td>\n      <td>...</td>\n      <td>...</td>\n      <td>...</td>\n      <td>...</td>\n      <td>...</td>\n      <td>...</td>\n      <td>...</td>\n      <td>...</td>\n      <td>...</td>\n      <td>...</td>\n      <td>...</td>\n      <td>...</td>\n      <td>...</td>\n      <td>...</td>\n      <td>...</td>\n    </tr>\n    <tr>\n      <th>58</th>\n      <td>2023/08/07</td>\n      <td>Ben</td>\n      <td>接收IP数</td>\n      <td>0</td>\n      <td>0</td>\n      <td>0</td>\n      <td>0</td>\n      <td>0</td>\n      <td>0</td>\n      <td>0</td>\n      <td>0</td>\n      <td>0</td>\n      <td>0</td>\n      <td>0</td>\n      <td>0</td>\n      <td>0</td>\n    </tr>\n    <tr>\n      <th>59</th>\n      <td>2023/08/07</td>\n      <td>Ben</td>\n      <td>注册</td>\n      <td>0</td>\n      <td>0</td>\n      <td>0</td>\n      <td>0</td>\n      <td>0</td>\n      <td>0</td>\n      <td>0</td>\n      <td>0</td>\n      <td>0</td>\n      <td>0</td>\n      <td>0</td>\n      <td>0</td>\n      <td>0</td>\n    </tr>\n    <tr>\n      <th>60</th>\n      <td>2023/08/07</td>\n      <td>Ben</td>\n      <td>注册率</td>\n      <td>0</td>\n      <td>0</td>\n      <td>0</td>\n      <td>0</td>\n      <td>0</td>\n      <td>0</td>\n      <td>0</td>\n      <td>0</td>\n      <td>0</td>\n      <td>0</td>\n      <td>0</td>\n      <td>0</td>\n      <td>0</td>\n    </tr>\n    <tr>\n      <th>61</th>\n      <td>2023/08/07</td>\n      <td>Ben</td>\n      <td>开户</td>\n      <td>0</td>\n      <td>0</td>\n      <td>0</td>\n      <td>0</td>\n      <td>0</td>\n      <td>0</td>\n      <td>0</td>\n      <td>0</td>\n      <td>0</td>\n      <td>0</td>\n      <td>0</td>\n      <td>0</td>\n      <td>0</td>\n    </tr>\n    <tr>\n      <th>62</th>\n      <td>2023/08/07</td>\n      <td>Ben</td>\n      <td>开户转化率</td>\n      <td>0</td>\n      <td>0</td>\n      <td>0</td>\n      <td>0</td>\n      <td>0</td>\n      <td>0</td>\n      <td>0</td>\n      <td>0</td>\n      <td>0</td>\n      <td>0</td>\n      <td>0</td>\n      <td>0</td>\n      <td>0</td>\n    </tr>\n  </tbody>\n</table>\n<p>63 rows × 16 columns</p>\n</div>"
     },
     "execution_count": 55,
     "metadata": {},
     "output_type": "execute_result"
    }
   ],
   "source": [
    "df.loc[(df['人员']=='Martin') & (df['指标']=='注册'),'0-2'] =len(hour_user[(hour_user['seo变化数据团队']=='martin') & (hour_user['小时数']<2)])\n",
    "df.loc[(df['人员']=='Martin') & (df['指标']=='注册'),'2-4'] =len(hour_user[(hour_user['seo变化数据团队']=='martin') & (hour_user['小时数']>=2)& (hour_user['小时数']<4)])\n",
    "df.loc[(df['人员']=='Martin') & (df['指标']=='注册'),'4-6'] =len(hour_user[(hour_user['seo变化数据团队']=='martin') & (hour_user['小时数']>=4)& (hour_user['小时数']<6)])\n",
    "df.loc[(df['人员']=='Martin') & (df['指标']=='注册'),'6-8'] =len(hour_user[(hour_user['seo变化数据团队']=='martin') & (hour_user['小时数']>=6)& (hour_user['小时数']<8)])\n",
    "df.loc[(df['人员']=='Martin') & (df['指标']=='注册'),'8-10'] =len(hour_user[(hour_user['seo变化数据团队']=='martin') & (hour_user['小时数']>=8)& (hour_user['小时数']<10)])\n",
    "df.loc[(df['人员']=='Martin') & (df['指标']=='注册'),'10-12'] =len(hour_user[(hour_user['seo变化数据团队']=='martin') & (hour_user['小时数']>=10)& (hour_user['小时数']<12)])\n",
    "df.loc[(df['人员']=='Martin') & (df['指标']=='注册'),'12-14'] =len(hour_user[(hour_user['seo变化数据团队']=='martin') & (hour_user['小时数']>=12)& (hour_user['小时数']<14)])\n",
    "df.loc[(df['人员']=='Martin') & (df['指标']=='注册'),'14-16'] =len(hour_user[(hour_user['seo变化数据团队']=='martin') & (hour_user['小时数']>=14)& (hour_user['小时数']<16)])\n",
    "df.loc[(df['人员']=='Martin') & (df['指标']=='注册'),'16-18'] =len(hour_user[(hour_user['seo变化数据团队']=='martin') & (hour_user['小时数']>=16)& (hour_user['小时数']<18)])\n",
    "df.loc[(df['人员']=='Martin') & (df['指标']=='注册'),'18-20'] =len(hour_user[(hour_user['seo变化数据团队']=='martin') & (hour_user['小时数']>=18)& (hour_user['小时数']<20)])\n",
    "df.loc[(df['人员']=='Martin') & (df['指标']=='注册'),'20-22'] =len(hour_user[(hour_user['seo变化数据团队']=='martin') & (hour_user['小时数']>=20)& (hour_user['小时数']<22)])\n",
    "df.loc[(df['人员']=='Martin') & (df['指标']=='注册'),'22-24'] =len(hour_user[(hour_user['seo变化数据团队']=='martin') & (hour_user['小时数']>=22)& (hour_user['小时数']<24)])\n",
    "df"
   ],
   "metadata": {
    "collapsed": false
   }
  },
  {
   "cell_type": "code",
   "execution_count": 68,
   "outputs": [
    {
     "data": {
      "text/plain": "124"
     },
     "execution_count": 68,
     "metadata": {},
     "output_type": "execute_result"
    }
   ],
   "source": [
    "df.loc[(df['人员']=='Martin') & (df['指标']=='接收IP数'),'0-2'].iloc[0]"
   ],
   "metadata": {
    "collapsed": false
   }
  },
  {
   "cell_type": "code",
   "execution_count": 71,
   "outputs": [
    {
     "data": {
      "text/plain": "            日期     人员     指标  总计    0-2    2-4    4-6    6-8   8-10  10-12  \\\n0   2023/08/07  Paddy    接收率   0    2.0    0.0    0.0    0.0    0.0    0.0   \n1   2023/08/07  Paddy  发送IP数   0  327.0  176.0  120.0  124.0  210.0  227.0   \n2   2023/08/07  Paddy  接收IP数   0    0.0    0.0    0.0    0.0    0.0    0.0   \n3   2023/08/07  Paddy     注册   0    0.0    0.0    0.0    0.0    0.0    0.0   \n4   2023/08/07  Paddy    注册率   0    0.0    0.0    0.0    0.0    0.0    0.0   \n..         ...    ...    ...  ..    ...    ...    ...    ...    ...    ...   \n58  2023/08/07    Ben  接收IP数   0    0.0    0.0    0.0    0.0    0.0    0.0   \n59  2023/08/07    Ben     注册   0    0.0    0.0    0.0    0.0    0.0    0.0   \n60  2023/08/07    Ben    注册率   0    0.0    0.0    0.0    0.0    0.0    0.0   \n61  2023/08/07    Ben     开户   0    0.0    0.0    0.0    0.0    0.0    0.0   \n62  2023/08/07    Ben  开户转化率   0    0.0    0.0    0.0    0.0    0.0    0.0   \n\n    12-14  14-16  16-18  18-20  20-22  22-24  \n0     0.0    0.0    0.0    0.0    0.0    0.0  \n1   278.0  350.0  328.0  307.0  533.0  998.0  \n2     0.0    0.0    0.0    0.0    0.0    0.0  \n3     0.0    0.0    0.0    0.0    0.0    0.0  \n4     0.0    0.0    0.0    0.0    0.0    0.0  \n..    ...    ...    ...    ...    ...    ...  \n58    0.0    0.0    0.0    0.0    0.0    0.0  \n59    0.0    0.0    0.0    0.0    0.0    0.0  \n60    0.0    0.0    0.0    0.0    0.0    0.0  \n61    0.0    0.0    0.0    0.0    0.0    0.0  \n62    0.0    0.0    0.0    0.0    0.0    0.0  \n\n[63 rows x 16 columns]",
      "text/html": "<div>\n<style scoped>\n    .dataframe tbody tr th:only-of-type {\n        vertical-align: middle;\n    }\n\n    .dataframe tbody tr th {\n        vertical-align: top;\n    }\n\n    .dataframe thead th {\n        text-align: right;\n    }\n</style>\n<table border=\"1\" class=\"dataframe\">\n  <thead>\n    <tr style=\"text-align: right;\">\n      <th></th>\n      <th>日期</th>\n      <th>人员</th>\n      <th>指标</th>\n      <th>总计</th>\n      <th>0-2</th>\n      <th>2-4</th>\n      <th>4-6</th>\n      <th>6-8</th>\n      <th>8-10</th>\n      <th>10-12</th>\n      <th>12-14</th>\n      <th>14-16</th>\n      <th>16-18</th>\n      <th>18-20</th>\n      <th>20-22</th>\n      <th>22-24</th>\n    </tr>\n  </thead>\n  <tbody>\n    <tr>\n      <th>0</th>\n      <td>2023/08/07</td>\n      <td>Paddy</td>\n      <td>接收率</td>\n      <td>0</td>\n      <td>2.0</td>\n      <td>0.0</td>\n      <td>0.0</td>\n      <td>0.0</td>\n      <td>0.0</td>\n      <td>0.0</td>\n      <td>0.0</td>\n      <td>0.0</td>\n      <td>0.0</td>\n      <td>0.0</td>\n      <td>0.0</td>\n      <td>0.0</td>\n    </tr>\n    <tr>\n      <th>1</th>\n      <td>2023/08/07</td>\n      <td>Paddy</td>\n      <td>发送IP数</td>\n      <td>0</td>\n      <td>327.0</td>\n      <td>176.0</td>\n      <td>120.0</td>\n      <td>124.0</td>\n      <td>210.0</td>\n      <td>227.0</td>\n      <td>278.0</td>\n      <td>350.0</td>\n      <td>328.0</td>\n      <td>307.0</td>\n      <td>533.0</td>\n      <td>998.0</td>\n    </tr>\n    <tr>\n      <th>2</th>\n      <td>2023/08/07</td>\n      <td>Paddy</td>\n      <td>接收IP数</td>\n      <td>0</td>\n      <td>0.0</td>\n      <td>0.0</td>\n      <td>0.0</td>\n      <td>0.0</td>\n      <td>0.0</td>\n      <td>0.0</td>\n      <td>0.0</td>\n      <td>0.0</td>\n      <td>0.0</td>\n      <td>0.0</td>\n      <td>0.0</td>\n      <td>0.0</td>\n    </tr>\n    <tr>\n      <th>3</th>\n      <td>2023/08/07</td>\n      <td>Paddy</td>\n      <td>注册</td>\n      <td>0</td>\n      <td>0.0</td>\n      <td>0.0</td>\n      <td>0.0</td>\n      <td>0.0</td>\n      <td>0.0</td>\n      <td>0.0</td>\n      <td>0.0</td>\n      <td>0.0</td>\n      <td>0.0</td>\n      <td>0.0</td>\n      <td>0.0</td>\n      <td>0.0</td>\n    </tr>\n    <tr>\n      <th>4</th>\n      <td>2023/08/07</td>\n      <td>Paddy</td>\n      <td>注册率</td>\n      <td>0</td>\n      <td>0.0</td>\n      <td>0.0</td>\n      <td>0.0</td>\n      <td>0.0</td>\n      <td>0.0</td>\n      <td>0.0</td>\n      <td>0.0</td>\n      <td>0.0</td>\n      <td>0.0</td>\n      <td>0.0</td>\n      <td>0.0</td>\n      <td>0.0</td>\n    </tr>\n    <tr>\n      <th>...</th>\n      <td>...</td>\n      <td>...</td>\n      <td>...</td>\n      <td>...</td>\n      <td>...</td>\n      <td>...</td>\n      <td>...</td>\n      <td>...</td>\n      <td>...</td>\n      <td>...</td>\n      <td>...</td>\n      <td>...</td>\n      <td>...</td>\n      <td>...</td>\n      <td>...</td>\n      <td>...</td>\n    </tr>\n    <tr>\n      <th>58</th>\n      <td>2023/08/07</td>\n      <td>Ben</td>\n      <td>接收IP数</td>\n      <td>0</td>\n      <td>0.0</td>\n      <td>0.0</td>\n      <td>0.0</td>\n      <td>0.0</td>\n      <td>0.0</td>\n      <td>0.0</td>\n      <td>0.0</td>\n      <td>0.0</td>\n      <td>0.0</td>\n      <td>0.0</td>\n      <td>0.0</td>\n      <td>0.0</td>\n    </tr>\n    <tr>\n      <th>59</th>\n      <td>2023/08/07</td>\n      <td>Ben</td>\n      <td>注册</td>\n      <td>0</td>\n      <td>0.0</td>\n      <td>0.0</td>\n      <td>0.0</td>\n      <td>0.0</td>\n      <td>0.0</td>\n      <td>0.0</td>\n      <td>0.0</td>\n      <td>0.0</td>\n      <td>0.0</td>\n      <td>0.0</td>\n      <td>0.0</td>\n      <td>0.0</td>\n    </tr>\n    <tr>\n      <th>60</th>\n      <td>2023/08/07</td>\n      <td>Ben</td>\n      <td>注册率</td>\n      <td>0</td>\n      <td>0.0</td>\n      <td>0.0</td>\n      <td>0.0</td>\n      <td>0.0</td>\n      <td>0.0</td>\n      <td>0.0</td>\n      <td>0.0</td>\n      <td>0.0</td>\n      <td>0.0</td>\n      <td>0.0</td>\n      <td>0.0</td>\n      <td>0.0</td>\n    </tr>\n    <tr>\n      <th>61</th>\n      <td>2023/08/07</td>\n      <td>Ben</td>\n      <td>开户</td>\n      <td>0</td>\n      <td>0.0</td>\n      <td>0.0</td>\n      <td>0.0</td>\n      <td>0.0</td>\n      <td>0.0</td>\n      <td>0.0</td>\n      <td>0.0</td>\n      <td>0.0</td>\n      <td>0.0</td>\n      <td>0.0</td>\n      <td>0.0</td>\n      <td>0.0</td>\n    </tr>\n    <tr>\n      <th>62</th>\n      <td>2023/08/07</td>\n      <td>Ben</td>\n      <td>开户转化率</td>\n      <td>0</td>\n      <td>0.0</td>\n      <td>0.0</td>\n      <td>0.0</td>\n      <td>0.0</td>\n      <td>0.0</td>\n      <td>0.0</td>\n      <td>0.0</td>\n      <td>0.0</td>\n      <td>0.0</td>\n      <td>0.0</td>\n      <td>0.0</td>\n      <td>0.0</td>\n    </tr>\n  </tbody>\n</table>\n<p>63 rows × 16 columns</p>\n</div>"
     },
     "execution_count": 71,
     "metadata": {},
     "output_type": "execute_result"
    }
   ],
   "source": [
    "# 注册率\n",
    "df.loc[(df['人员']=='Martin') & (df['指标']=='注册率'),'0-2'] =round(len(hour_user[(hour_user['seo变化数据团队']=='martin') & (hour_user['小时数']<2)])/df.loc[(df['人员']=='Martin') & (df['指标']=='接收IP数'),'0-2'].iloc[0]*100,2)\n",
    "df.loc[(df['人员']=='Martin') & (df['指标']=='注册率'),'2-4'] =round(len(hour_user[(hour_user['seo变化数据团队']=='martin') & (hour_user['小时数']>=2)& (hour_user['小时数']<4)])/df.loc[(df['人员']=='Martin') & (df['指标']=='接收IP数'),'2-4'].iloc[0]*100,2)\n",
    "df.loc[(df['人员']=='Martin') & (df['指标']=='注册率'),'4-6'] =round(len(hour_user[(hour_user['seo变化数据团队']=='martin') & (hour_user['小时数']>=4)& (hour_user['小时数']<6)])/df.loc[(df['人员']=='Martin') & (df['指标']=='接收IP数'),'4-6'].iloc[0]*100,2)\n",
    "df.loc[(df['人员']=='Martin') & (df['指标']=='注册率'),'6-8'] =round(len(hour_user[(hour_user['seo变化数据团队']=='martin') & (hour_user['小时数']>=6)& (hour_user['小时数']<8)])/df.loc[(df['人员']=='Martin') & (df['指标']=='接收IP数'),'6-8'].iloc[0]*100,2)\n",
    "df.loc[(df['人员']=='Martin') & (df['指标']=='注册率'),'8-10'] =round(len(hour_user[(hour_user['seo变化数据团队']=='martin') & (hour_user['小时数']>=8)& (hour_user['小时数']<10)])/df.loc[(df['人员']=='Martin') & (df['指标']=='接收IP数'),'8-10'].iloc[0]*100,2)\n",
    "df.loc[(df['人员']=='Martin') & (df['指标']=='注册率'),'10-12']=round(len(hour_user[(hour_user['seo变化数据团队']=='martin') & (hour_user['小时数']>=10)& (hour_user['小时数']<12)])/df.loc[(df['人员']=='Martin') & (df['指标']=='接收IP数'),'10-12'].iloc[0]*100,2)\n",
    "df.loc[(df['人员']=='Martin') & (df['指标']=='注册率'),'12-14']=round(len(hour_user[(hour_user['seo变化数据团队']=='martin') & (hour_user['小时数']>=12)& (hour_user['小时数']<14)])/df.loc[(df['人员']=='Martin') & (df['指标']=='接收IP数'),'12-14'].iloc[0]*100,2)\n",
    "df.loc[(df['人员']=='Martin') & (df['指标']=='注册率'),'14-16']=round(len(hour_user[(hour_user['seo变化数据团队']=='martin') & (hour_user['小时数']>=14)& (hour_user['小时数']<16)])/df.loc[(df['人员']=='Martin') & (df['指标']=='接收IP数'),'14-16'].iloc[0]*100,2)\n",
    "df.loc[(df['人员']=='Martin') & (df['指标']=='注册率'),'16-18']=round(len(hour_user[(hour_user['seo变化数据团队']=='martin') & (hour_user['小时数']>=16)& (hour_user['小时数']<18)])/df.loc[(df['人员']=='Martin') & (df['指标']=='接收IP数'),'16-18'].iloc[0]*100,2)\n",
    "df.loc[(df['人员']=='Martin') & (df['指标']=='注册率'),'18-20']=round(len(hour_user[(hour_user['seo变化数据团队']=='martin') & (hour_user['小时数']>=18)& (hour_user['小时数']<20)])/df.loc[(df['人员']=='Martin') & (df['指标']=='接收IP数'),'18-20'].iloc[0]*100,2)\n",
    "df.loc[(df['人员']=='Martin') & (df['指标']=='注册率'),'20-22']=round(len(hour_user[(hour_user['seo变化数据团队']=='martin') & (hour_user['小时数']>=20)& (hour_user['小时数']<22)])/df.loc[(df['人员']=='Martin') & (df['指标']=='接收IP数'),'20-22'].iloc[0]*100,2)\n",
    "df.loc[(df['人员']=='Martin') & (df['指标']=='注册率'),'22-24']=round(len(hour_user[(hour_user['seo变化数据团队']=='martin') & (hour_user['小时数']>=22)& (hour_user['小时数']<24)])/df.loc[(df['人员']=='Martin') & (df['指标']=='接收IP数'),'22-24'].iloc[0]*100,2)\n",
    "df"
   ],
   "metadata": {
    "collapsed": false
   }
  },
  {
   "cell_type": "code",
   "execution_count": 73,
   "outputs": [
    {
     "data": {
      "text/plain": "             会员名         所属代理             注册时间            交易时间 交易类型   币种  \\\n0  ngthduyen9999  btyscnb0007   2023/8/7 23:22  2023/8/7 23:43   存款  VND   \n1   Phamvquyen91       vnzb04   2023/8/7 23:27  2023/8/7 23:39   存款  VND   \n2      Angunb666       zh0325   2023/8/7 23:03  2023/8/7 23:34   存款  CNY   \n3       Guong268      gfas001  2023/5/13 23:45  2023/8/7 23:30   存款  VND   \n4   zxcvbnm19064   btyseo7008  2022/7/30 23:35  2023/8/7 23:31   存款  CNY   \n\n           金额         代理线        主线账号 seo变化数据团队        准点激活团队  \n0  11000000.0         NaN         NaN       NaN           NaN  \n1    100000.0      vnzb04      ffvn66    雨燕直播-越  雨燕直播-越ffvn66  \n2       200.0      zh0325      zh0325     SEO邀请           SEO  \n3   4000000.0     gfas001      zh0808    外部代理总线  外部代理总线zh0808  \n4       100.0  btyseo7008  btyseo7008    martin           SEO  ",
      "text/html": "<div>\n<style scoped>\n    .dataframe tbody tr th:only-of-type {\n        vertical-align: middle;\n    }\n\n    .dataframe tbody tr th {\n        vertical-align: top;\n    }\n\n    .dataframe thead th {\n        text-align: right;\n    }\n</style>\n<table border=\"1\" class=\"dataframe\">\n  <thead>\n    <tr style=\"text-align: right;\">\n      <th></th>\n      <th>会员名</th>\n      <th>所属代理</th>\n      <th>注册时间</th>\n      <th>交易时间</th>\n      <th>交易类型</th>\n      <th>币种</th>\n      <th>金额</th>\n      <th>代理线</th>\n      <th>主线账号</th>\n      <th>seo变化数据团队</th>\n      <th>准点激活团队</th>\n    </tr>\n  </thead>\n  <tbody>\n    <tr>\n      <th>0</th>\n      <td>ngthduyen9999</td>\n      <td>btyscnb0007</td>\n      <td>2023/8/7 23:22</td>\n      <td>2023/8/7 23:43</td>\n      <td>存款</td>\n      <td>VND</td>\n      <td>11000000.0</td>\n      <td>NaN</td>\n      <td>NaN</td>\n      <td>NaN</td>\n      <td>NaN</td>\n    </tr>\n    <tr>\n      <th>1</th>\n      <td>Phamvquyen91</td>\n      <td>vnzb04</td>\n      <td>2023/8/7 23:27</td>\n      <td>2023/8/7 23:39</td>\n      <td>存款</td>\n      <td>VND</td>\n      <td>100000.0</td>\n      <td>vnzb04</td>\n      <td>ffvn66</td>\n      <td>雨燕直播-越</td>\n      <td>雨燕直播-越ffvn66</td>\n    </tr>\n    <tr>\n      <th>2</th>\n      <td>Angunb666</td>\n      <td>zh0325</td>\n      <td>2023/8/7 23:03</td>\n      <td>2023/8/7 23:34</td>\n      <td>存款</td>\n      <td>CNY</td>\n      <td>200.0</td>\n      <td>zh0325</td>\n      <td>zh0325</td>\n      <td>SEO邀请</td>\n      <td>SEO</td>\n    </tr>\n    <tr>\n      <th>3</th>\n      <td>Guong268</td>\n      <td>gfas001</td>\n      <td>2023/5/13 23:45</td>\n      <td>2023/8/7 23:30</td>\n      <td>存款</td>\n      <td>VND</td>\n      <td>4000000.0</td>\n      <td>gfas001</td>\n      <td>zh0808</td>\n      <td>外部代理总线</td>\n      <td>外部代理总线zh0808</td>\n    </tr>\n    <tr>\n      <th>4</th>\n      <td>zxcvbnm19064</td>\n      <td>btyseo7008</td>\n      <td>2022/7/30 23:35</td>\n      <td>2023/8/7 23:31</td>\n      <td>存款</td>\n      <td>CNY</td>\n      <td>100.0</td>\n      <td>btyseo7008</td>\n      <td>btyseo7008</td>\n      <td>martin</td>\n      <td>SEO</td>\n    </tr>\n  </tbody>\n</table>\n</div>"
     },
     "execution_count": 73,
     "metadata": {},
     "output_type": "execute_result"
    }
   ],
   "source": [
    "hour_charge = pd.merge(firChargeUser,daili,how='left',left_on='所属代理',right_on='代理线')\n",
    "hour_charge.head()"
   ],
   "metadata": {
    "collapsed": false
   }
  },
  {
   "cell_type": "code",
   "execution_count": 76,
   "outputs": [
    {
     "name": "stdout",
     "output_type": "stream",
     "text": [
      "<class 'pandas.core.frame.DataFrame'>\n",
      "Int64Index: 467 entries, 0 to 466\n",
      "Data columns (total 11 columns):\n",
      " #   Column     Non-Null Count  Dtype         \n",
      "---  ------     --------------  -----         \n",
      " 0   会员名        467 non-null    object        \n",
      " 1   所属代理       467 non-null    object        \n",
      " 2   注册时间       467 non-null    datetime64[ns]\n",
      " 3   交易时间       467 non-null    object        \n",
      " 4   交易类型       467 non-null    object        \n",
      " 5   币种         467 non-null    object        \n",
      " 6   金额         467 non-null    float64       \n",
      " 7   代理线        432 non-null    object        \n",
      " 8   主线账号       432 non-null    object        \n",
      " 9   seo变化数据团队  432 non-null    object        \n",
      " 10  准点激活团队     432 non-null    object        \n",
      "dtypes: datetime64[ns](1), float64(1), object(9)\n",
      "memory usage: 43.8+ KB\n"
     ]
    }
   ],
   "source": [
    "hour_charge['注册时间']= pd.to_datetime(hour_charge['注册时间'])\n",
    "hour_charge.info()"
   ],
   "metadata": {
    "collapsed": false
   }
  },
  {
   "cell_type": "code",
   "execution_count": 77,
   "outputs": [
    {
     "data": {
      "text/plain": "             会员名         所属代理                注册时间            交易时间 交易类型   币种  \\\n0  ngthduyen9999  btyscnb0007 2023-08-07 23:22:00  2023/8/7 23:43   存款  VND   \n1   Phamvquyen91       vnzb04 2023-08-07 23:27:00  2023/8/7 23:39   存款  VND   \n\n           金额     代理线    主线账号 seo变化数据团队        准点激活团队  小时数  \n0  11000000.0     NaN     NaN       NaN           NaN   23  \n1    100000.0  vnzb04  ffvn66    雨燕直播-越  雨燕直播-越ffvn66   23  ",
      "text/html": "<div>\n<style scoped>\n    .dataframe tbody tr th:only-of-type {\n        vertical-align: middle;\n    }\n\n    .dataframe tbody tr th {\n        vertical-align: top;\n    }\n\n    .dataframe thead th {\n        text-align: right;\n    }\n</style>\n<table border=\"1\" class=\"dataframe\">\n  <thead>\n    <tr style=\"text-align: right;\">\n      <th></th>\n      <th>会员名</th>\n      <th>所属代理</th>\n      <th>注册时间</th>\n      <th>交易时间</th>\n      <th>交易类型</th>\n      <th>币种</th>\n      <th>金额</th>\n      <th>代理线</th>\n      <th>主线账号</th>\n      <th>seo变化数据团队</th>\n      <th>准点激活团队</th>\n      <th>小时数</th>\n    </tr>\n  </thead>\n  <tbody>\n    <tr>\n      <th>0</th>\n      <td>ngthduyen9999</td>\n      <td>btyscnb0007</td>\n      <td>2023-08-07 23:22:00</td>\n      <td>2023/8/7 23:43</td>\n      <td>存款</td>\n      <td>VND</td>\n      <td>11000000.0</td>\n      <td>NaN</td>\n      <td>NaN</td>\n      <td>NaN</td>\n      <td>NaN</td>\n      <td>23</td>\n    </tr>\n    <tr>\n      <th>1</th>\n      <td>Phamvquyen91</td>\n      <td>vnzb04</td>\n      <td>2023-08-07 23:27:00</td>\n      <td>2023/8/7 23:39</td>\n      <td>存款</td>\n      <td>VND</td>\n      <td>100000.0</td>\n      <td>vnzb04</td>\n      <td>ffvn66</td>\n      <td>雨燕直播-越</td>\n      <td>雨燕直播-越ffvn66</td>\n      <td>23</td>\n    </tr>\n  </tbody>\n</table>\n</div>"
     },
     "execution_count": 77,
     "metadata": {},
     "output_type": "execute_result"
    }
   ],
   "source": [
    "hour_charge['小时数']= hour_charge['注册时间'].dt.hour\n",
    "hour_charge.head(2)"
   ],
   "metadata": {
    "collapsed": false
   }
  },
  {
   "cell_type": "code",
   "execution_count": 78,
   "outputs": [
    {
     "data": {
      "text/plain": "               会员名         所属代理                注册时间            交易时间 交易类型   币种  \\\n0    ngthduyen9999  btyscnb0007 2023-08-07 23:22:00  2023/8/7 23:43   存款  VND   \n1     Phamvquyen91       vnzb04 2023-08-07 23:27:00  2023/8/7 23:39   存款  VND   \n2        Angunb666       zh0325 2023-08-07 23:03:00  2023/8/7 23:34   存款  CNY   \n3         Guong268      gfas001 2023-05-13 23:45:00  2023/8/7 23:30   存款  VND   \n4     zxcvbnm19064   btyseo7008 2022-07-30 23:35:00  2023/8/7 23:31   存款  CNY   \n..             ...          ...                 ...             ...  ...  ...   \n462  Shuai12345678       bs9Don 2023-08-06 23:37:00   2023/8/7 0:08   存款  CNY   \n463       HAkiss09       vnzb03 2023-08-06 23:37:00   2023/8/7 0:06   存款  VND   \n464   0778626696pv       vnzb01 2023-08-06 23:48:00   2023/8/7 0:00   存款  VND   \n465     Thuy034871       vnzb01 2023-08-06 23:45:00   2023/8/7 0:00   存款  VND   \n466     mmm2580693       zh0317 2023-07-13 02:38:00   2023/8/7 0:09   存款  CNY   \n\n             金额         代理线        主线账号 seo变化数据团队        准点激活团队  小时数  \n0    11000000.0         NaN         NaN       NaN           NaN   23  \n1      100000.0      vnzb04      ffvn66    雨燕直播-越  雨燕直播-越ffvn66   23  \n2         200.0      zh0325      zh0325     SEO邀请           SEO   23  \n3     4000000.0     gfas001      zh0808    外部代理总线  外部代理总线zh0808   23  \n4         100.0  btyseo7008  btyseo7008    martin           SEO   23  \n..          ...         ...         ...       ...           ...  ...  \n462       200.0      bs9Don      ffmk88    飞哥雨燕直播  飞哥雨燕直播ffmk88   23  \n463    200000.0      vnzb03      ffvn66    雨燕直播-越  雨燕直播-越ffvn66   23  \n464     50000.0      vnzb01      ffvn66    雨燕直播-越  雨燕直播-越ffvn66   23  \n465    100000.0      vnzb01      ffvn66    雨燕直播-越  雨燕直播-越ffvn66   23  \n466       100.0      zh0317      zh0317      米乐转线           SEO    2  \n\n[467 rows x 12 columns]",
      "text/html": "<div>\n<style scoped>\n    .dataframe tbody tr th:only-of-type {\n        vertical-align: middle;\n    }\n\n    .dataframe tbody tr th {\n        vertical-align: top;\n    }\n\n    .dataframe thead th {\n        text-align: right;\n    }\n</style>\n<table border=\"1\" class=\"dataframe\">\n  <thead>\n    <tr style=\"text-align: right;\">\n      <th></th>\n      <th>会员名</th>\n      <th>所属代理</th>\n      <th>注册时间</th>\n      <th>交易时间</th>\n      <th>交易类型</th>\n      <th>币种</th>\n      <th>金额</th>\n      <th>代理线</th>\n      <th>主线账号</th>\n      <th>seo变化数据团队</th>\n      <th>准点激活团队</th>\n      <th>小时数</th>\n    </tr>\n  </thead>\n  <tbody>\n    <tr>\n      <th>0</th>\n      <td>ngthduyen9999</td>\n      <td>btyscnb0007</td>\n      <td>2023-08-07 23:22:00</td>\n      <td>2023/8/7 23:43</td>\n      <td>存款</td>\n      <td>VND</td>\n      <td>11000000.0</td>\n      <td>NaN</td>\n      <td>NaN</td>\n      <td>NaN</td>\n      <td>NaN</td>\n      <td>23</td>\n    </tr>\n    <tr>\n      <th>1</th>\n      <td>Phamvquyen91</td>\n      <td>vnzb04</td>\n      <td>2023-08-07 23:27:00</td>\n      <td>2023/8/7 23:39</td>\n      <td>存款</td>\n      <td>VND</td>\n      <td>100000.0</td>\n      <td>vnzb04</td>\n      <td>ffvn66</td>\n      <td>雨燕直播-越</td>\n      <td>雨燕直播-越ffvn66</td>\n      <td>23</td>\n    </tr>\n    <tr>\n      <th>2</th>\n      <td>Angunb666</td>\n      <td>zh0325</td>\n      <td>2023-08-07 23:03:00</td>\n      <td>2023/8/7 23:34</td>\n      <td>存款</td>\n      <td>CNY</td>\n      <td>200.0</td>\n      <td>zh0325</td>\n      <td>zh0325</td>\n      <td>SEO邀请</td>\n      <td>SEO</td>\n      <td>23</td>\n    </tr>\n    <tr>\n      <th>3</th>\n      <td>Guong268</td>\n      <td>gfas001</td>\n      <td>2023-05-13 23:45:00</td>\n      <td>2023/8/7 23:30</td>\n      <td>存款</td>\n      <td>VND</td>\n      <td>4000000.0</td>\n      <td>gfas001</td>\n      <td>zh0808</td>\n      <td>外部代理总线</td>\n      <td>外部代理总线zh0808</td>\n      <td>23</td>\n    </tr>\n    <tr>\n      <th>4</th>\n      <td>zxcvbnm19064</td>\n      <td>btyseo7008</td>\n      <td>2022-07-30 23:35:00</td>\n      <td>2023/8/7 23:31</td>\n      <td>存款</td>\n      <td>CNY</td>\n      <td>100.0</td>\n      <td>btyseo7008</td>\n      <td>btyseo7008</td>\n      <td>martin</td>\n      <td>SEO</td>\n      <td>23</td>\n    </tr>\n    <tr>\n      <th>...</th>\n      <td>...</td>\n      <td>...</td>\n      <td>...</td>\n      <td>...</td>\n      <td>...</td>\n      <td>...</td>\n      <td>...</td>\n      <td>...</td>\n      <td>...</td>\n      <td>...</td>\n      <td>...</td>\n      <td>...</td>\n    </tr>\n    <tr>\n      <th>462</th>\n      <td>Shuai12345678</td>\n      <td>bs9Don</td>\n      <td>2023-08-06 23:37:00</td>\n      <td>2023/8/7 0:08</td>\n      <td>存款</td>\n      <td>CNY</td>\n      <td>200.0</td>\n      <td>bs9Don</td>\n      <td>ffmk88</td>\n      <td>飞哥雨燕直播</td>\n      <td>飞哥雨燕直播ffmk88</td>\n      <td>23</td>\n    </tr>\n    <tr>\n      <th>463</th>\n      <td>HAkiss09</td>\n      <td>vnzb03</td>\n      <td>2023-08-06 23:37:00</td>\n      <td>2023/8/7 0:06</td>\n      <td>存款</td>\n      <td>VND</td>\n      <td>200000.0</td>\n      <td>vnzb03</td>\n      <td>ffvn66</td>\n      <td>雨燕直播-越</td>\n      <td>雨燕直播-越ffvn66</td>\n      <td>23</td>\n    </tr>\n    <tr>\n      <th>464</th>\n      <td>0778626696pv</td>\n      <td>vnzb01</td>\n      <td>2023-08-06 23:48:00</td>\n      <td>2023/8/7 0:00</td>\n      <td>存款</td>\n      <td>VND</td>\n      <td>50000.0</td>\n      <td>vnzb01</td>\n      <td>ffvn66</td>\n      <td>雨燕直播-越</td>\n      <td>雨燕直播-越ffvn66</td>\n      <td>23</td>\n    </tr>\n    <tr>\n      <th>465</th>\n      <td>Thuy034871</td>\n      <td>vnzb01</td>\n      <td>2023-08-06 23:45:00</td>\n      <td>2023/8/7 0:00</td>\n      <td>存款</td>\n      <td>VND</td>\n      <td>100000.0</td>\n      <td>vnzb01</td>\n      <td>ffvn66</td>\n      <td>雨燕直播-越</td>\n      <td>雨燕直播-越ffvn66</td>\n      <td>23</td>\n    </tr>\n    <tr>\n      <th>466</th>\n      <td>mmm2580693</td>\n      <td>zh0317</td>\n      <td>2023-07-13 02:38:00</td>\n      <td>2023/8/7 0:09</td>\n      <td>存款</td>\n      <td>CNY</td>\n      <td>100.0</td>\n      <td>zh0317</td>\n      <td>zh0317</td>\n      <td>米乐转线</td>\n      <td>SEO</td>\n      <td>2</td>\n    </tr>\n  </tbody>\n</table>\n<p>467 rows × 12 columns</p>\n</div>"
     },
     "execution_count": 78,
     "metadata": {},
     "output_type": "execute_result"
    }
   ],
   "source": [
    "hour_charge"
   ],
   "metadata": {
    "collapsed": false
   }
  },
  {
   "cell_type": "code",
   "execution_count": 79,
   "outputs": [
    {
     "data": {
      "text/plain": "            日期     人员     指标  总计    0-2    2-4    4-6    6-8   8-10  10-12  \\\n0   2023/08/07  Paddy    接收率   0    2.0    0.0    0.0    0.0    0.0    0.0   \n1   2023/08/07  Paddy  发送IP数   0  327.0  176.0  120.0  124.0  210.0  227.0   \n2   2023/08/07  Paddy  接收IP数   0    0.0    0.0    0.0    0.0    0.0    0.0   \n3   2023/08/07  Paddy     注册   0    0.0    0.0    0.0    0.0    0.0    0.0   \n4   2023/08/07  Paddy    注册率   0    0.0    0.0    0.0    0.0    0.0    0.0   \n..         ...    ...    ...  ..    ...    ...    ...    ...    ...    ...   \n58  2023/08/07    Ben  接收IP数   0    0.0    0.0    0.0    0.0    0.0    0.0   \n59  2023/08/07    Ben     注册   0    0.0    0.0    0.0    0.0    0.0    0.0   \n60  2023/08/07    Ben    注册率   0    0.0    0.0    0.0    0.0    0.0    0.0   \n61  2023/08/07    Ben     开户   0    0.0    0.0    0.0    0.0    0.0    0.0   \n62  2023/08/07    Ben  开户转化率   0    0.0    0.0    0.0    0.0    0.0    0.0   \n\n    12-14  14-16  16-18  18-20  20-22  22-24  \n0     0.0    0.0    0.0    0.0    0.0    0.0  \n1   278.0  350.0  328.0  307.0  533.0  998.0  \n2     0.0    0.0    0.0    0.0    0.0    0.0  \n3     0.0    0.0    0.0    0.0    0.0    0.0  \n4     0.0    0.0    0.0    0.0    0.0    0.0  \n..    ...    ...    ...    ...    ...    ...  \n58    0.0    0.0    0.0    0.0    0.0    0.0  \n59    0.0    0.0    0.0    0.0    0.0    0.0  \n60    0.0    0.0    0.0    0.0    0.0    0.0  \n61    0.0    0.0    0.0    0.0    0.0    0.0  \n62    0.0    0.0    0.0    0.0    0.0    0.0  \n\n[63 rows x 16 columns]",
      "text/html": "<div>\n<style scoped>\n    .dataframe tbody tr th:only-of-type {\n        vertical-align: middle;\n    }\n\n    .dataframe tbody tr th {\n        vertical-align: top;\n    }\n\n    .dataframe thead th {\n        text-align: right;\n    }\n</style>\n<table border=\"1\" class=\"dataframe\">\n  <thead>\n    <tr style=\"text-align: right;\">\n      <th></th>\n      <th>日期</th>\n      <th>人员</th>\n      <th>指标</th>\n      <th>总计</th>\n      <th>0-2</th>\n      <th>2-4</th>\n      <th>4-6</th>\n      <th>6-8</th>\n      <th>8-10</th>\n      <th>10-12</th>\n      <th>12-14</th>\n      <th>14-16</th>\n      <th>16-18</th>\n      <th>18-20</th>\n      <th>20-22</th>\n      <th>22-24</th>\n    </tr>\n  </thead>\n  <tbody>\n    <tr>\n      <th>0</th>\n      <td>2023/08/07</td>\n      <td>Paddy</td>\n      <td>接收率</td>\n      <td>0</td>\n      <td>2.0</td>\n      <td>0.0</td>\n      <td>0.0</td>\n      <td>0.0</td>\n      <td>0.0</td>\n      <td>0.0</td>\n      <td>0.0</td>\n      <td>0.0</td>\n      <td>0.0</td>\n      <td>0.0</td>\n      <td>0.0</td>\n      <td>0.0</td>\n    </tr>\n    <tr>\n      <th>1</th>\n      <td>2023/08/07</td>\n      <td>Paddy</td>\n      <td>发送IP数</td>\n      <td>0</td>\n      <td>327.0</td>\n      <td>176.0</td>\n      <td>120.0</td>\n      <td>124.0</td>\n      <td>210.0</td>\n      <td>227.0</td>\n      <td>278.0</td>\n      <td>350.0</td>\n      <td>328.0</td>\n      <td>307.0</td>\n      <td>533.0</td>\n      <td>998.0</td>\n    </tr>\n    <tr>\n      <th>2</th>\n      <td>2023/08/07</td>\n      <td>Paddy</td>\n      <td>接收IP数</td>\n      <td>0</td>\n      <td>0.0</td>\n      <td>0.0</td>\n      <td>0.0</td>\n      <td>0.0</td>\n      <td>0.0</td>\n      <td>0.0</td>\n      <td>0.0</td>\n      <td>0.0</td>\n      <td>0.0</td>\n      <td>0.0</td>\n      <td>0.0</td>\n      <td>0.0</td>\n    </tr>\n    <tr>\n      <th>3</th>\n      <td>2023/08/07</td>\n      <td>Paddy</td>\n      <td>注册</td>\n      <td>0</td>\n      <td>0.0</td>\n      <td>0.0</td>\n      <td>0.0</td>\n      <td>0.0</td>\n      <td>0.0</td>\n      <td>0.0</td>\n      <td>0.0</td>\n      <td>0.0</td>\n      <td>0.0</td>\n      <td>0.0</td>\n      <td>0.0</td>\n      <td>0.0</td>\n    </tr>\n    <tr>\n      <th>4</th>\n      <td>2023/08/07</td>\n      <td>Paddy</td>\n      <td>注册率</td>\n      <td>0</td>\n      <td>0.0</td>\n      <td>0.0</td>\n      <td>0.0</td>\n      <td>0.0</td>\n      <td>0.0</td>\n      <td>0.0</td>\n      <td>0.0</td>\n      <td>0.0</td>\n      <td>0.0</td>\n      <td>0.0</td>\n      <td>0.0</td>\n      <td>0.0</td>\n    </tr>\n    <tr>\n      <th>...</th>\n      <td>...</td>\n      <td>...</td>\n      <td>...</td>\n      <td>...</td>\n      <td>...</td>\n      <td>...</td>\n      <td>...</td>\n      <td>...</td>\n      <td>...</td>\n      <td>...</td>\n      <td>...</td>\n      <td>...</td>\n      <td>...</td>\n      <td>...</td>\n      <td>...</td>\n      <td>...</td>\n    </tr>\n    <tr>\n      <th>58</th>\n      <td>2023/08/07</td>\n      <td>Ben</td>\n      <td>接收IP数</td>\n      <td>0</td>\n      <td>0.0</td>\n      <td>0.0</td>\n      <td>0.0</td>\n      <td>0.0</td>\n      <td>0.0</td>\n      <td>0.0</td>\n      <td>0.0</td>\n      <td>0.0</td>\n      <td>0.0</td>\n      <td>0.0</td>\n      <td>0.0</td>\n      <td>0.0</td>\n    </tr>\n    <tr>\n      <th>59</th>\n      <td>2023/08/07</td>\n      <td>Ben</td>\n      <td>注册</td>\n      <td>0</td>\n      <td>0.0</td>\n      <td>0.0</td>\n      <td>0.0</td>\n      <td>0.0</td>\n      <td>0.0</td>\n      <td>0.0</td>\n      <td>0.0</td>\n      <td>0.0</td>\n      <td>0.0</td>\n      <td>0.0</td>\n      <td>0.0</td>\n      <td>0.0</td>\n    </tr>\n    <tr>\n      <th>60</th>\n      <td>2023/08/07</td>\n      <td>Ben</td>\n      <td>注册率</td>\n      <td>0</td>\n      <td>0.0</td>\n      <td>0.0</td>\n      <td>0.0</td>\n      <td>0.0</td>\n      <td>0.0</td>\n      <td>0.0</td>\n      <td>0.0</td>\n      <td>0.0</td>\n      <td>0.0</td>\n      <td>0.0</td>\n      <td>0.0</td>\n      <td>0.0</td>\n    </tr>\n    <tr>\n      <th>61</th>\n      <td>2023/08/07</td>\n      <td>Ben</td>\n      <td>开户</td>\n      <td>0</td>\n      <td>0.0</td>\n      <td>0.0</td>\n      <td>0.0</td>\n      <td>0.0</td>\n      <td>0.0</td>\n      <td>0.0</td>\n      <td>0.0</td>\n      <td>0.0</td>\n      <td>0.0</td>\n      <td>0.0</td>\n      <td>0.0</td>\n      <td>0.0</td>\n    </tr>\n    <tr>\n      <th>62</th>\n      <td>2023/08/07</td>\n      <td>Ben</td>\n      <td>开户转化率</td>\n      <td>0</td>\n      <td>0.0</td>\n      <td>0.0</td>\n      <td>0.0</td>\n      <td>0.0</td>\n      <td>0.0</td>\n      <td>0.0</td>\n      <td>0.0</td>\n      <td>0.0</td>\n      <td>0.0</td>\n      <td>0.0</td>\n      <td>0.0</td>\n      <td>0.0</td>\n    </tr>\n  </tbody>\n</table>\n<p>63 rows × 16 columns</p>\n</div>"
     },
     "execution_count": 79,
     "metadata": {},
     "output_type": "execute_result"
    }
   ],
   "source": [
    "df.loc[(df['人员']=='Martin') & (df['指标']=='开户'),'0-2'] =len(hour_charge[(hour_charge['seo变化数据团队']=='martin') & (hour_charge['小时数']<2)])\n",
    "df.loc[(df['人员']=='Martin') & (df['指标']=='开户'),'2-4'] =len(hour_charge[(hour_charge['seo变化数据团队']=='martin') & (hour_charge['小时数']>=2)& (hour_charge['小时数']<4)])\n",
    "df.loc[(df['人员']=='Martin') & (df['指标']=='开户'),'4-6'] =len(hour_charge[(hour_charge['seo变化数据团队']=='martin') & (hour_charge['小时数']>=4)& (hour_charge['小时数']<6)])\n",
    "df.loc[(df['人员']=='Martin') & (df['指标']=='开户'),'6-8'] =len(hour_charge[(hour_charge['seo变化数据团队']=='martin') & (hour_charge['小时数']>=6)& (hour_charge['小时数']<8)])\n",
    "df.loc[(df['人员']=='Martin') & (df['指标']=='开户'),'8-10'] =len(hour_charge[(hour_charge['seo变化数据团队']=='martin') & (hour_charge['小时数']>=8)& (hour_charge['小时数']<10)])\n",
    "df.loc[(df['人员']=='Martin') & (df['指标']=='开户'),'10-12'] =len(hour_charge[(hour_charge['seo变化数据团队']=='martin') & (hour_charge['小时数']>=10)& (hour_charge['小时数']<12)])\n",
    "df.loc[(df['人员']=='Martin') & (df['指标']=='开户'),'12-14'] =len(hour_charge[(hour_charge['seo变化数据团队']=='martin') & (hour_charge['小时数']>=12)& (hour_charge['小时数']<14)])\n",
    "df.loc[(df['人员']=='Martin') & (df['指标']=='开户'),'14-16'] =len(hour_charge[(hour_charge['seo变化数据团队']=='martin') & (hour_charge['小时数']>=14)& (hour_charge['小时数']<16)])\n",
    "df.loc[(df['人员']=='Martin') & (df['指标']=='开户'),'16-18'] =len(hour_charge[(hour_charge['seo变化数据团队']=='martin') & (hour_charge['小时数']>=16)& (hour_charge['小时数']<18)])\n",
    "df.loc[(df['人员']=='Martin') & (df['指标']=='开户'),'18-20'] =len(hour_charge[(hour_charge['seo变化数据团队']=='martin') & (hour_charge['小时数']>=18)& (hour_charge['小时数']<20)])\n",
    "df.loc[(df['人员']=='Martin') & (df['指标']=='开户'),'20-22'] =len(hour_charge[(hour_charge['seo变化数据团队']=='martin') & (hour_charge['小时数']>=20)& (hour_charge['小时数']<22)])\n",
    "df.loc[(df['人员']=='Martin') & (df['指标']=='开户'),'22-24'] =len(hour_charge[(hour_charge['seo变化数据团队']=='martin') & (hour_charge['小时数']>=22)& (hour_charge['小时数']<24)])\n",
    "df"
   ],
   "metadata": {
    "collapsed": false
   }
  },
  {
   "cell_type": "code",
   "execution_count": 80,
   "outputs": [
    {
     "data": {
      "text/plain": "            日期     人员     指标  总计    0-2    2-4    4-6    6-8   8-10  10-12  \\\n0   2023/08/07  Paddy    接收率   0    2.0    0.0    0.0    0.0    0.0    0.0   \n1   2023/08/07  Paddy  发送IP数   0  327.0  176.0  120.0  124.0  210.0  227.0   \n2   2023/08/07  Paddy  接收IP数   0    0.0    0.0    0.0    0.0    0.0    0.0   \n3   2023/08/07  Paddy     注册   0    0.0    0.0    0.0    0.0    0.0    0.0   \n4   2023/08/07  Paddy    注册率   0    0.0    0.0    0.0    0.0    0.0    0.0   \n..         ...    ...    ...  ..    ...    ...    ...    ...    ...    ...   \n58  2023/08/07    Ben  接收IP数   0    0.0    0.0    0.0    0.0    0.0    0.0   \n59  2023/08/07    Ben     注册   0    0.0    0.0    0.0    0.0    0.0    0.0   \n60  2023/08/07    Ben    注册率   0    0.0    0.0    0.0    0.0    0.0    0.0   \n61  2023/08/07    Ben     开户   0    0.0    0.0    0.0    0.0    0.0    0.0   \n62  2023/08/07    Ben  开户转化率   0    0.0    0.0    0.0    0.0    0.0    0.0   \n\n    12-14  14-16  16-18  18-20  20-22  22-24  \n0     0.0    0.0    0.0    0.0    0.0    0.0  \n1   278.0  350.0  328.0  307.0  533.0  998.0  \n2     0.0    0.0    0.0    0.0    0.0    0.0  \n3     0.0    0.0    0.0    0.0    0.0    0.0  \n4     0.0    0.0    0.0    0.0    0.0    0.0  \n..    ...    ...    ...    ...    ...    ...  \n58    0.0    0.0    0.0    0.0    0.0    0.0  \n59    0.0    0.0    0.0    0.0    0.0    0.0  \n60    0.0    0.0    0.0    0.0    0.0    0.0  \n61    0.0    0.0    0.0    0.0    0.0    0.0  \n62    0.0    0.0    0.0    0.0    0.0    0.0  \n\n[63 rows x 16 columns]",
      "text/html": "<div>\n<style scoped>\n    .dataframe tbody tr th:only-of-type {\n        vertical-align: middle;\n    }\n\n    .dataframe tbody tr th {\n        vertical-align: top;\n    }\n\n    .dataframe thead th {\n        text-align: right;\n    }\n</style>\n<table border=\"1\" class=\"dataframe\">\n  <thead>\n    <tr style=\"text-align: right;\">\n      <th></th>\n      <th>日期</th>\n      <th>人员</th>\n      <th>指标</th>\n      <th>总计</th>\n      <th>0-2</th>\n      <th>2-4</th>\n      <th>4-6</th>\n      <th>6-8</th>\n      <th>8-10</th>\n      <th>10-12</th>\n      <th>12-14</th>\n      <th>14-16</th>\n      <th>16-18</th>\n      <th>18-20</th>\n      <th>20-22</th>\n      <th>22-24</th>\n    </tr>\n  </thead>\n  <tbody>\n    <tr>\n      <th>0</th>\n      <td>2023/08/07</td>\n      <td>Paddy</td>\n      <td>接收率</td>\n      <td>0</td>\n      <td>2.0</td>\n      <td>0.0</td>\n      <td>0.0</td>\n      <td>0.0</td>\n      <td>0.0</td>\n      <td>0.0</td>\n      <td>0.0</td>\n      <td>0.0</td>\n      <td>0.0</td>\n      <td>0.0</td>\n      <td>0.0</td>\n      <td>0.0</td>\n    </tr>\n    <tr>\n      <th>1</th>\n      <td>2023/08/07</td>\n      <td>Paddy</td>\n      <td>发送IP数</td>\n      <td>0</td>\n      <td>327.0</td>\n      <td>176.0</td>\n      <td>120.0</td>\n      <td>124.0</td>\n      <td>210.0</td>\n      <td>227.0</td>\n      <td>278.0</td>\n      <td>350.0</td>\n      <td>328.0</td>\n      <td>307.0</td>\n      <td>533.0</td>\n      <td>998.0</td>\n    </tr>\n    <tr>\n      <th>2</th>\n      <td>2023/08/07</td>\n      <td>Paddy</td>\n      <td>接收IP数</td>\n      <td>0</td>\n      <td>0.0</td>\n      <td>0.0</td>\n      <td>0.0</td>\n      <td>0.0</td>\n      <td>0.0</td>\n      <td>0.0</td>\n      <td>0.0</td>\n      <td>0.0</td>\n      <td>0.0</td>\n      <td>0.0</td>\n      <td>0.0</td>\n      <td>0.0</td>\n    </tr>\n    <tr>\n      <th>3</th>\n      <td>2023/08/07</td>\n      <td>Paddy</td>\n      <td>注册</td>\n      <td>0</td>\n      <td>0.0</td>\n      <td>0.0</td>\n      <td>0.0</td>\n      <td>0.0</td>\n      <td>0.0</td>\n      <td>0.0</td>\n      <td>0.0</td>\n      <td>0.0</td>\n      <td>0.0</td>\n      <td>0.0</td>\n      <td>0.0</td>\n      <td>0.0</td>\n    </tr>\n    <tr>\n      <th>4</th>\n      <td>2023/08/07</td>\n      <td>Paddy</td>\n      <td>注册率</td>\n      <td>0</td>\n      <td>0.0</td>\n      <td>0.0</td>\n      <td>0.0</td>\n      <td>0.0</td>\n      <td>0.0</td>\n      <td>0.0</td>\n      <td>0.0</td>\n      <td>0.0</td>\n      <td>0.0</td>\n      <td>0.0</td>\n      <td>0.0</td>\n      <td>0.0</td>\n    </tr>\n    <tr>\n      <th>...</th>\n      <td>...</td>\n      <td>...</td>\n      <td>...</td>\n      <td>...</td>\n      <td>...</td>\n      <td>...</td>\n      <td>...</td>\n      <td>...</td>\n      <td>...</td>\n      <td>...</td>\n      <td>...</td>\n      <td>...</td>\n      <td>...</td>\n      <td>...</td>\n      <td>...</td>\n      <td>...</td>\n    </tr>\n    <tr>\n      <th>58</th>\n      <td>2023/08/07</td>\n      <td>Ben</td>\n      <td>接收IP数</td>\n      <td>0</td>\n      <td>0.0</td>\n      <td>0.0</td>\n      <td>0.0</td>\n      <td>0.0</td>\n      <td>0.0</td>\n      <td>0.0</td>\n      <td>0.0</td>\n      <td>0.0</td>\n      <td>0.0</td>\n      <td>0.0</td>\n      <td>0.0</td>\n      <td>0.0</td>\n    </tr>\n    <tr>\n      <th>59</th>\n      <td>2023/08/07</td>\n      <td>Ben</td>\n      <td>注册</td>\n      <td>0</td>\n      <td>0.0</td>\n      <td>0.0</td>\n      <td>0.0</td>\n      <td>0.0</td>\n      <td>0.0</td>\n      <td>0.0</td>\n      <td>0.0</td>\n      <td>0.0</td>\n      <td>0.0</td>\n      <td>0.0</td>\n      <td>0.0</td>\n      <td>0.0</td>\n    </tr>\n    <tr>\n      <th>60</th>\n      <td>2023/08/07</td>\n      <td>Ben</td>\n      <td>注册率</td>\n      <td>0</td>\n      <td>0.0</td>\n      <td>0.0</td>\n      <td>0.0</td>\n      <td>0.0</td>\n      <td>0.0</td>\n      <td>0.0</td>\n      <td>0.0</td>\n      <td>0.0</td>\n      <td>0.0</td>\n      <td>0.0</td>\n      <td>0.0</td>\n      <td>0.0</td>\n    </tr>\n    <tr>\n      <th>61</th>\n      <td>2023/08/07</td>\n      <td>Ben</td>\n      <td>开户</td>\n      <td>0</td>\n      <td>0.0</td>\n      <td>0.0</td>\n      <td>0.0</td>\n      <td>0.0</td>\n      <td>0.0</td>\n      <td>0.0</td>\n      <td>0.0</td>\n      <td>0.0</td>\n      <td>0.0</td>\n      <td>0.0</td>\n      <td>0.0</td>\n      <td>0.0</td>\n    </tr>\n    <tr>\n      <th>62</th>\n      <td>2023/08/07</td>\n      <td>Ben</td>\n      <td>开户转化率</td>\n      <td>0</td>\n      <td>0.0</td>\n      <td>0.0</td>\n      <td>0.0</td>\n      <td>0.0</td>\n      <td>0.0</td>\n      <td>0.0</td>\n      <td>0.0</td>\n      <td>0.0</td>\n      <td>0.0</td>\n      <td>0.0</td>\n      <td>0.0</td>\n      <td>0.0</td>\n    </tr>\n  </tbody>\n</table>\n<p>63 rows × 16 columns</p>\n</div>"
     },
     "execution_count": 80,
     "metadata": {},
     "output_type": "execute_result"
    }
   ],
   "source": [
    "# 开户转化率\n",
    "df.loc[(df['人员']=='Martin') & (df['指标']=='开户转化率'),'0-2'] =round(len(hour_charge[(hour_charge['seo变化数据团队']=='martin') & (hour_charge['小时数']<2)])/df.loc[(df['人员']=='Martin') & (df['指标']=='注册'),'0-2'].iloc[0]*100,2)\n",
    "df.loc[(df['人员']=='Martin') & (df['指标']=='开户转化率'),'2-4'] =round(len(hour_charge[(hour_charge['seo变化数据团队']=='martin') & (hour_charge['小时数']>=2)& (hour_charge['小时数']<4)])/df.loc[(df['人员']=='Martin') & (df['指标']=='注册'),'2-4'].iloc[0]*100,2)\n",
    "df.loc[(df['人员']=='Martin') & (df['指标']=='开户转化率'),'4-6'] =round(len(hour_charge[(hour_charge['seo变化数据团队']=='martin') & (hour_charge['小时数']>=4)& (hour_charge['小时数']<6)])/df.loc[(df['人员']=='Martin') & (df['指标']=='注册'),'4-6'].iloc[0]*100,2)\n",
    "df.loc[(df['人员']=='Martin') & (df['指标']=='开户转化率'),'6-8'] =round(len(hour_charge[(hour_charge['seo变化数据团队']=='martin') & (hour_charge['小时数']>=6)& (hour_charge['小时数']<8)])/df.loc[(df['人员']=='Martin') & (df['指标']=='注册'),'6-8'].iloc[0]*100,2)\n",
    "df.loc[(df['人员']=='Martin') & (df['指标']=='开户转化率'),'8-10'] =round(len(hour_charge[(hour_charge['seo变化数据团队']=='martin') & (hour_charge['小时数']>=8)& (hour_charge['小时数']<10)])/df.loc[(df['人员']=='Martin') & (df['指标']=='注册'),'8-10'].iloc[0]*100,2)\n",
    "df.loc[(df['人员']=='Martin') & (df['指标']=='开户转化率'),'10-12']=round(len(hour_charge[(hour_charge['seo变化数据团队']=='martin') & (hour_charge['小时数']>=10)& (hour_charge['小时数']<12)])/df.loc[(df['人员']=='Martin') & (df['指标']=='注册'),'10-12'].iloc[0]*100,2)\n",
    "df.loc[(df['人员']=='Martin') & (df['指标']=='开户转化率'),'12-14']=round(len(hour_charge[(hour_charge['seo变化数据团队']=='martin') & (hour_charge['小时数']>=12)& (hour_charge['小时数']<14)])/df.loc[(df['人员']=='Martin') & (df['指标']=='注册'),'12-14'].iloc[0]*100,2)\n",
    "df.loc[(df['人员']=='Martin') & (df['指标']=='开户转化率'),'14-16']=round(len(hour_charge[(hour_charge['seo变化数据团队']=='martin') & (hour_charge['小时数']>=14)& (hour_charge['小时数']<16)])/df.loc[(df['人员']=='Martin') & (df['指标']=='注册'),'14-16'].iloc[0]*100,2)\n",
    "df.loc[(df['人员']=='Martin') & (df['指标']=='开户转化率'),'16-18']=round(len(hour_charge[(hour_charge['seo变化数据团队']=='martin') & (hour_charge['小时数']>=16)& (hour_charge['小时数']<18)])/df.loc[(df['人员']=='Martin') & (df['指标']=='注册'),'16-18'].iloc[0]*100,2)\n",
    "df.loc[(df['人员']=='Martin') & (df['指标']=='开户转化率'),'18-20']=round(len(hour_charge[(hour_charge['seo变化数据团队']=='martin') & (hour_charge['小时数']>=18)& (hour_charge['小时数']<20)])/df.loc[(df['人员']=='Martin') & (df['指标']=='注册'),'18-20'].iloc[0]*100,2)\n",
    "df.loc[(df['人员']=='Martin') & (df['指标']=='开户转化率'),'20-22']=round(len(hour_charge[(hour_charge['seo变化数据团队']=='martin') & (hour_charge['小时数']>=20)& (hour_charge['小时数']<22)])/df.loc[(df['人员']=='Martin') & (df['指标']=='注册'),'20-22'].iloc[0]*100,2)\n",
    "df.loc[(df['人员']=='Martin') & (df['指标']=='开户转化率'),'22-24']=round(len(hour_charge[(hour_charge['seo变化数据团队']=='martin') & (hour_charge['小时数']>=22)& (hour_charge['小时数']<24)])/df.loc[(df['人员']=='Martin') & (df['指标']=='注册'),'22-24'].iloc[0]*100,2)\n",
    "df"
   ],
   "metadata": {
    "collapsed": false
   }
  },
  {
   "cell_type": "code",
   "execution_count": 113,
   "outputs": [
    {
     "data": {
      "text/plain": "6.73"
     },
     "execution_count": 113,
     "metadata": {},
     "output_type": "execute_result"
    }
   ],
   "source": [
    "round(df.loc[(df['人员']=='Martin') & (df['指标']=='注册'),'总计'].iloc[0] / df.loc[(df['人员']=='Martin') & (df['指标']=='接收IP数'),'总计'].iloc[0]*100,2)"
   ],
   "metadata": {
    "collapsed": false
   }
  },
  {
   "cell_type": "code",
   "execution_count": 111,
   "outputs": [
    {
     "data": {
      "text/plain": "1204.0"
     },
     "execution_count": 111,
     "metadata": {},
     "output_type": "execute_result"
    }
   ],
   "source": [
    "df.loc[(df['人员']=='Martin') & (df['指标']=='接收IP数'),'总计'].iloc[0]"
   ],
   "metadata": {
    "collapsed": false
   }
  },
  {
   "cell_type": "code",
   "execution_count": 114,
   "outputs": [],
   "source": [
    "df.loc[(df['人员']=='Martin') & (df['指标']=='发送IP数'),'总计'] =df.loc[(df['人员']=='Martin') & (df['指标']=='发送IP数'),'0-2':].T.sum()\n",
    "df.loc[(df['人员']=='Martin') & (df['指标']=='接收IP数'),'总计'] =df.loc[(df['人员']=='Martin') & (df['指标']=='接收IP数'),'0-2':].T.sum()\n",
    "df.loc[(df['人员']=='Martin') & (df['指标']=='注册'),'总计'] =df.loc[(df['人员']=='Martin') & (df['指标']=='注册'),'0-2':].T.sum()\n",
    "df.loc[(df['人员']=='Martin') & (df['指标']=='开户'),'总计'] =df.loc[(df['人员']=='Martin') & (df['指标']=='开户'),'0-2':].T.sum()\n",
    "df.loc[(df['人员']=='Martin') & (df['指标']=='开户转化率'),'总计'] =round(df.loc[(df['人员']=='Martin') & (df['指标']=='开户'),'总计'].iloc[0] / df.loc[(df['人员']=='Martin') & (df['指标']=='注册'),'总计'].iloc[0]*100,2)\n",
    "df.loc[(df['人员']=='Martin') & (df['指标']=='注册率'),'总计'] =round(df.loc[(df['人员']=='Martin') & (df['指标']=='注册'),'总计'].iloc[0] / df.loc[(df['人员']=='Martin') & (df['指标']=='接收IP数'),'总计'].iloc[0]*100,2)\n",
    "df.loc[(df['人员']=='Martin') & (df['指标']=='接收率'),'总计'] =round(df.loc[(df['人员']=='Martin') & (df['指标']=='接收IP数'),'总计'].iloc[0] / df.loc[(df['人员']=='Martin') & (df['指标']=='发送IP数'),'总计'].iloc[0]*100,2)"
   ],
   "metadata": {
    "collapsed": false
   }
  },
  {
   "cell_type": "code",
   "execution_count": 101,
   "outputs": [
    {
     "data": {
      "text/plain": "22    3978.0\ndtype: float64"
     },
     "execution_count": 101,
     "metadata": {},
     "output_type": "execute_result"
    }
   ],
   "source": [
    "df.loc[(df['人员']=='Martin') & (df['指标']=='接收率'),'0-2'] =round(df.loc[(df['人员']=='Martin') & (df['指标']=='接收IP数'),'0-2'].iloc[0] / df.loc[(df['人员']=='Martin') & (df['指标']=='发送IP数'),'0-2'].iloc[0]*100,2)\n",
    "df.loc[(df['人员']=='Martin') & (df['指标']=='接收率'),'2-4'] =round(df.loc[(df['人员']=='Martin') & (df['指标']=='接收IP数'),'2-4'].iloc[0] / df.loc[(df['人员']=='Martin') & (df['指标']=='发送IP数'),'2-4'].iloc[0]*100,2)\n",
    "df.loc[(df['人员']=='Martin') & (df['指标']=='接收率'),'4-6'] =round(df.loc[(df['人员']=='Martin') & (df['指标']=='接收IP数'),'4-6'].iloc[0] / df.loc[(df['人员']=='Martin') & (df['指标']=='发送IP数'),'4-6'].iloc[0]*100,2)\n",
    "df.loc[(df['人员']=='Martin') & (df['指标']=='接收率'),'6-8'] =round(df.loc[(df['人员']=='Martin') & (df['指标']=='接收IP数'),'6-8'].iloc[0] / df.loc[(df['人员']=='Martin') & (df['指标']=='发送IP数'),'6-8'].iloc[0]*100,2)\n",
    "df.loc[(df['人员']=='Martin') & (df['指标']=='接收率'),'8-10'] =round(df.loc[(df['人员']=='Martin') & (df['指标']=='接收IP数'),'8-10'].iloc[0] / df.loc[(df['人员']=='Martin') & (df['指标']=='发送IP数'),'8-10'].iloc[0]*100,2)\n",
    "df.loc[(df['人员']=='Martin') & (df['指标']=='接收率'),'10-12'] =round(df.loc[(df['人员']=='Martin') & (df['指标']=='接收IP数'),'10-12'].iloc[0] / df.loc[(df['人员']=='Martin') & (df['指标']=='发送IP数'),'10-12'].iloc[0]*100,2)\n",
    "df.loc[(df['人员']=='Martin') & (df['指标']=='接收率'),'12-14'] =round(df.loc[(df['人员']=='Martin') & (df['指标']=='接收IP数'),'12-14'].iloc[0] / df.loc[(df['人员']=='Martin') & (df['指标']=='发送IP数'),'12-14'].iloc[0]*100,2)\n",
    "df.loc[(df['人员']=='Martin') & (df['指标']=='接收率'),'14-16'] =round(df.loc[(df['人员']=='Martin') & (df['指标']=='接收IP数'),'14-16'].iloc[0] / df.loc[(df['人员']=='Martin') & (df['指标']=='发送IP数'),'14-16'].iloc[0]*100,2)\n",
    "df.loc[(df['人员']=='Martin') & (df['指标']=='接收率'),'16-18'] =round(df.loc[(df['人员']=='Martin') & (df['指标']=='接收IP数'),'16-18'].iloc[0] / df.loc[(df['人员']=='Martin') & (df['指标']=='发送IP数'),'16-18'].iloc[0]*100,2)\n",
    "df.loc[(df['人员']=='Martin') & (df['指标']=='接收率'),'18-20'] =round(df.loc[(df['人员']=='Martin') & (df['指标']=='接收IP数'),'18-20'].iloc[0] / df.loc[(df['人员']=='Martin') & (df['指标']=='发送IP数'),'18-20'].iloc[0]*100,2)\n",
    "df.loc[(df['人员']=='Martin') & (df['指标']=='接收率'),'20-22'] =round(df.loc[(df['人员']=='Martin') & (df['指标']=='接收IP数'),'20-22'].iloc[0] / df.loc[(df['人员']=='Martin') & (df['指标']=='发送IP数'),'20-22'].iloc[0]*100,2)\n",
    "df.loc[(df['人员']=='Martin') & (df['指标']=='接收率'),'22-24'] =round(df.loc[(df['人员']=='Martin') & (df['指标']=='接收IP数'),'22-24'].iloc[0] / df.loc[(df['人员']=='Martin') & (df['指标']=='发送IP数'),'22-24'].iloc[0]*100,2)\n"
   ],
   "metadata": {
    "collapsed": false
   }
  },
  {
   "cell_type": "code",
   "execution_count": 81,
   "outputs": [
    {
     "name": "stdout",
     "output_type": "stream",
     "text": [
      "<class 'pandas.core.frame.DataFrame'>\n",
      "RangeIndex: 63 entries, 0 to 62\n",
      "Data columns (total 16 columns):\n",
      " #   Column  Non-Null Count  Dtype  \n",
      "---  ------  --------------  -----  \n",
      " 0   日期      63 non-null     object \n",
      " 1   人员      63 non-null     object \n",
      " 2   指标      63 non-null     object \n",
      " 3   总计      63 non-null     int64  \n",
      " 4   0-2     63 non-null     float64\n",
      " 5   2-4     63 non-null     float64\n",
      " 6   4-6     63 non-null     float64\n",
      " 7   6-8     63 non-null     float64\n",
      " 8   8-10    63 non-null     float64\n",
      " 9   10-12   63 non-null     float64\n",
      " 10  12-14   63 non-null     float64\n",
      " 11  14-16   63 non-null     float64\n",
      " 12  16-18   63 non-null     float64\n",
      " 13  18-20   63 non-null     float64\n",
      " 14  20-22   63 non-null     float64\n",
      " 15  22-24   63 non-null     float64\n",
      "dtypes: float64(12), int64(1), object(3)\n",
      "memory usage: 8.0+ KB\n"
     ]
    }
   ],
   "source": [
    "#总计\n",
    "df.loc[(df['人员']=='Martin') & (df['指标']=='总计'),'总计']=df.loc[(df['人员']=='Martin') & (df['指标']=='开户转化率'),'总计']"
   ],
   "metadata": {
    "collapsed": false
   }
  },
  {
   "cell_type": "code",
   "execution_count": 116,
   "outputs": [
    {
     "data": {
      "text/plain": "            日期     人员     指标   总计    0-2    2-4    4-6    6-8   8-10  10-12  \\\n0   2023/08/07  Paddy    接收率  0.0    2.0    0.0    0.0    0.0    0.0    0.0   \n1   2023/08/07  Paddy  发送IP数  0.0  327.0  176.0  120.0  124.0  210.0  227.0   \n2   2023/08/07  Paddy  接收IP数  0.0    0.0    0.0    0.0    0.0    0.0    0.0   \n3   2023/08/07  Paddy     注册  0.0    0.0    0.0    0.0    0.0    0.0    0.0   \n4   2023/08/07  Paddy    注册率  0.0    0.0    0.0    0.0    0.0    0.0    0.0   \n..         ...    ...    ...  ...    ...    ...    ...    ...    ...    ...   \n58  2023/08/07    Ben  接收IP数  0.0    0.0    0.0    0.0    0.0    0.0    0.0   \n59  2023/08/07    Ben     注册  0.0    0.0    0.0    0.0    0.0    0.0    0.0   \n60  2023/08/07    Ben    注册率  0.0    0.0    0.0    0.0    0.0    0.0    0.0   \n61  2023/08/07    Ben     开户  0.0    0.0    0.0    0.0    0.0    0.0    0.0   \n62  2023/08/07    Ben  开户转化率  0.0    0.0    0.0    0.0    0.0    0.0    0.0   \n\n    12-14  14-16  16-18  18-20  20-22  22-24  \n0     0.0    0.0    0.0    0.0    0.0    0.0  \n1   278.0  350.0  328.0  307.0  533.0  998.0  \n2     0.0    0.0    0.0    0.0    0.0    0.0  \n3     0.0    0.0    0.0    0.0    0.0    0.0  \n4     0.0    0.0    0.0    0.0    0.0    0.0  \n..    ...    ...    ...    ...    ...    ...  \n58    0.0    0.0    0.0    0.0    0.0    0.0  \n59    0.0    0.0    0.0    0.0    0.0    0.0  \n60    0.0    0.0    0.0    0.0    0.0    0.0  \n61    0.0    0.0    0.0    0.0    0.0    0.0  \n62    0.0    0.0    0.0    0.0    0.0    0.0  \n\n[63 rows x 16 columns]",
      "text/html": "<div>\n<style scoped>\n    .dataframe tbody tr th:only-of-type {\n        vertical-align: middle;\n    }\n\n    .dataframe tbody tr th {\n        vertical-align: top;\n    }\n\n    .dataframe thead th {\n        text-align: right;\n    }\n</style>\n<table border=\"1\" class=\"dataframe\">\n  <thead>\n    <tr style=\"text-align: right;\">\n      <th></th>\n      <th>日期</th>\n      <th>人员</th>\n      <th>指标</th>\n      <th>总计</th>\n      <th>0-2</th>\n      <th>2-4</th>\n      <th>4-6</th>\n      <th>6-8</th>\n      <th>8-10</th>\n      <th>10-12</th>\n      <th>12-14</th>\n      <th>14-16</th>\n      <th>16-18</th>\n      <th>18-20</th>\n      <th>20-22</th>\n      <th>22-24</th>\n    </tr>\n  </thead>\n  <tbody>\n    <tr>\n      <th>0</th>\n      <td>2023/08/07</td>\n      <td>Paddy</td>\n      <td>接收率</td>\n      <td>0.0</td>\n      <td>2.0</td>\n      <td>0.0</td>\n      <td>0.0</td>\n      <td>0.0</td>\n      <td>0.0</td>\n      <td>0.0</td>\n      <td>0.0</td>\n      <td>0.0</td>\n      <td>0.0</td>\n      <td>0.0</td>\n      <td>0.0</td>\n      <td>0.0</td>\n    </tr>\n    <tr>\n      <th>1</th>\n      <td>2023/08/07</td>\n      <td>Paddy</td>\n      <td>发送IP数</td>\n      <td>0.0</td>\n      <td>327.0</td>\n      <td>176.0</td>\n      <td>120.0</td>\n      <td>124.0</td>\n      <td>210.0</td>\n      <td>227.0</td>\n      <td>278.0</td>\n      <td>350.0</td>\n      <td>328.0</td>\n      <td>307.0</td>\n      <td>533.0</td>\n      <td>998.0</td>\n    </tr>\n    <tr>\n      <th>2</th>\n      <td>2023/08/07</td>\n      <td>Paddy</td>\n      <td>接收IP数</td>\n      <td>0.0</td>\n      <td>0.0</td>\n      <td>0.0</td>\n      <td>0.0</td>\n      <td>0.0</td>\n      <td>0.0</td>\n      <td>0.0</td>\n      <td>0.0</td>\n      <td>0.0</td>\n      <td>0.0</td>\n      <td>0.0</td>\n      <td>0.0</td>\n      <td>0.0</td>\n    </tr>\n    <tr>\n      <th>3</th>\n      <td>2023/08/07</td>\n      <td>Paddy</td>\n      <td>注册</td>\n      <td>0.0</td>\n      <td>0.0</td>\n      <td>0.0</td>\n      <td>0.0</td>\n      <td>0.0</td>\n      <td>0.0</td>\n      <td>0.0</td>\n      <td>0.0</td>\n      <td>0.0</td>\n      <td>0.0</td>\n      <td>0.0</td>\n      <td>0.0</td>\n      <td>0.0</td>\n    </tr>\n    <tr>\n      <th>4</th>\n      <td>2023/08/07</td>\n      <td>Paddy</td>\n      <td>注册率</td>\n      <td>0.0</td>\n      <td>0.0</td>\n      <td>0.0</td>\n      <td>0.0</td>\n      <td>0.0</td>\n      <td>0.0</td>\n      <td>0.0</td>\n      <td>0.0</td>\n      <td>0.0</td>\n      <td>0.0</td>\n      <td>0.0</td>\n      <td>0.0</td>\n      <td>0.0</td>\n    </tr>\n    <tr>\n      <th>...</th>\n      <td>...</td>\n      <td>...</td>\n      <td>...</td>\n      <td>...</td>\n      <td>...</td>\n      <td>...</td>\n      <td>...</td>\n      <td>...</td>\n      <td>...</td>\n      <td>...</td>\n      <td>...</td>\n      <td>...</td>\n      <td>...</td>\n      <td>...</td>\n      <td>...</td>\n      <td>...</td>\n    </tr>\n    <tr>\n      <th>58</th>\n      <td>2023/08/07</td>\n      <td>Ben</td>\n      <td>接收IP数</td>\n      <td>0.0</td>\n      <td>0.0</td>\n      <td>0.0</td>\n      <td>0.0</td>\n      <td>0.0</td>\n      <td>0.0</td>\n      <td>0.0</td>\n      <td>0.0</td>\n      <td>0.0</td>\n      <td>0.0</td>\n      <td>0.0</td>\n      <td>0.0</td>\n      <td>0.0</td>\n    </tr>\n    <tr>\n      <th>59</th>\n      <td>2023/08/07</td>\n      <td>Ben</td>\n      <td>注册</td>\n      <td>0.0</td>\n      <td>0.0</td>\n      <td>0.0</td>\n      <td>0.0</td>\n      <td>0.0</td>\n      <td>0.0</td>\n      <td>0.0</td>\n      <td>0.0</td>\n      <td>0.0</td>\n      <td>0.0</td>\n      <td>0.0</td>\n      <td>0.0</td>\n      <td>0.0</td>\n    </tr>\n    <tr>\n      <th>60</th>\n      <td>2023/08/07</td>\n      <td>Ben</td>\n      <td>注册率</td>\n      <td>0.0</td>\n      <td>0.0</td>\n      <td>0.0</td>\n      <td>0.0</td>\n      <td>0.0</td>\n      <td>0.0</td>\n      <td>0.0</td>\n      <td>0.0</td>\n      <td>0.0</td>\n      <td>0.0</td>\n      <td>0.0</td>\n      <td>0.0</td>\n      <td>0.0</td>\n    </tr>\n    <tr>\n      <th>61</th>\n      <td>2023/08/07</td>\n      <td>Ben</td>\n      <td>开户</td>\n      <td>0.0</td>\n      <td>0.0</td>\n      <td>0.0</td>\n      <td>0.0</td>\n      <td>0.0</td>\n      <td>0.0</td>\n      <td>0.0</td>\n      <td>0.0</td>\n      <td>0.0</td>\n      <td>0.0</td>\n      <td>0.0</td>\n      <td>0.0</td>\n      <td>0.0</td>\n    </tr>\n    <tr>\n      <th>62</th>\n      <td>2023/08/07</td>\n      <td>Ben</td>\n      <td>开户转化率</td>\n      <td>0.0</td>\n      <td>0.0</td>\n      <td>0.0</td>\n      <td>0.0</td>\n      <td>0.0</td>\n      <td>0.0</td>\n      <td>0.0</td>\n      <td>0.0</td>\n      <td>0.0</td>\n      <td>0.0</td>\n      <td>0.0</td>\n      <td>0.0</td>\n      <td>0.0</td>\n    </tr>\n  </tbody>\n</table>\n<p>63 rows × 16 columns</p>\n</div>"
     },
     "execution_count": 116,
     "metadata": {},
     "output_type": "execute_result"
    }
   ],
   "source": [
    "df.loc[(df['人员']=='Martin') & (df['指标']=='接收率'),'0-2'] =round(df.loc[(df['人员']=='Martin') & (df['指标']=='接收IP数'),'0-2'].iloc[0] / df.loc[(df['人员']=='Martin') & (df['指标']=='发送IP数'),'0-2'].iloc[0]*100,2)\n",
    "df.loc[(df['人员']=='Martin') & (df['指标']=='接收率'),'2-4'] =round(df.loc[(df['人员']=='Martin') & (df['指标']=='接收IP数'),'2-4'].iloc[0] / df.loc[(df['人员']=='Martin') & (df['指标']=='发送IP数'),'2-4'].iloc[0]*100,2)\n",
    "df.loc[(df['人员']=='Martin') & (df['指标']=='接收率'),'4-6'] =round(df.loc[(df['人员']=='Martin') & (df['指标']=='接收IP数'),'4-6'].iloc[0] / df.loc[(df['人员']=='Martin') & (df['指标']=='发送IP数'),'4-6'].iloc[0]*100,2)\n",
    "df.loc[(df['人员']=='Martin') & (df['指标']=='接收率'),'6-8'] =round(df.loc[(df['人员']=='Martin') & (df['指标']=='接收IP数'),'6-8'].iloc[0] / df.loc[(df['人员']=='Martin') & (df['指标']=='发送IP数'),'6-8'].iloc[0]*100,2)\n",
    "df.loc[(df['人员']=='Martin') & (df['指标']=='接收率'),'8-10'] =round(df.loc[(df['人员']=='Martin') & (df['指标']=='接收IP数'),'8-10'].iloc[0] / df.loc[(df['人员']=='Martin') & (df['指标']=='发送IP数'),'8-10'].iloc[0]*100,2)\n",
    "df.loc[(df['人员']=='Martin') & (df['指标']=='接收率'),'10-12'] =round(df.loc[(df['人员']=='Martin') & (df['指标']=='接收IP数'),'10-12'].iloc[0] / df.loc[(df['人员']=='Martin') & (df['指标']=='发送IP数'),'10-12'].iloc[0]*100,2)\n",
    "df.loc[(df['人员']=='Martin') & (df['指标']=='接收率'),'12-14'] =round(df.loc[(df['人员']=='Martin') & (df['指标']=='接收IP数'),'12-14'].iloc[0] / df.loc[(df['人员']=='Martin') & (df['指标']=='发送IP数'),'12-14'].iloc[0]*100,2)\n",
    "df.loc[(df['人员']=='Martin') & (df['指标']=='接收率'),'14-16'] =round(df.loc[(df['人员']=='Martin') & (df['指标']=='接收IP数'),'14-16'].iloc[0] / df.loc[(df['人员']=='Martin') & (df['指标']=='发送IP数'),'14-16'].iloc[0]*100,2)\n",
    "df.loc[(df['人员']=='Martin') & (df['指标']=='接收率'),'16-18'] =round(df.loc[(df['人员']=='Martin') & (df['指标']=='接收IP数'),'16-18'].iloc[0] / df.loc[(df['人员']=='Martin') & (df['指标']=='发送IP数'),'16-18'].iloc[0]*100,2)\n",
    "df.loc[(df['人员']=='Martin') & (df['指标']=='接收率'),'18-20'] =round(df.loc[(df['人员']=='Martin') & (df['指标']=='接收IP数'),'18-20'].iloc[0] / df.loc[(df['人员']=='Martin') & (df['指标']=='发送IP数'),'18-20'].iloc[0]*100,2)\n",
    "df.loc[(df['人员']=='Martin') & (df['指标']=='接收率'),'20-22'] =round(df.loc[(df['人员']=='Martin') & (df['指标']=='接收IP数'),'20-22'].iloc[0] / df.loc[(df['人员']=='Martin') & (df['指标']=='发送IP数'),'20-22'].iloc[0]*100,2)\n",
    "df.loc[(df['人员']=='Martin') & (df['指标']=='接收率'),'22-24'] =round(df.loc[(df['人员']=='Martin') & (df['指标']=='接收IP数'),'22-24'].iloc[0] / df.loc[(df['人员']=='Martin') & (df['指标']=='发送IP数'),'22-24'].iloc[0]*100,2)\n",
    "df"
   ],
   "metadata": {
    "collapsed": false
   }
  },
  {
   "cell_type": "code",
   "execution_count": 117,
   "outputs": [
    {
     "data": {
      "text/plain": "['Paddy', 'Tony', 'Max', 'Martin', 'Zed', 'Hugo', 'Aber', 'DK', 'Ben']"
     },
     "execution_count": 117,
     "metadata": {},
     "output_type": "execute_result"
    }
   ],
   "source": [
    "name_list = ['Paddy', 'Tony', 'Max', 'Martin', 'Zed', 'Hugo', 'Aber', 'DK', 'Ben']\n",
    "name_list"
   ],
   "metadata": {
    "collapsed": false
   }
  }
 ],
 "metadata": {
  "kernelspec": {
   "display_name": "Python 3",
   "language": "python",
   "name": "python3"
  },
  "language_info": {
   "codemirror_mode": {
    "name": "ipython",
    "version": 2
   },
   "file_extension": ".py",
   "mimetype": "text/x-python",
   "name": "python",
   "nbconvert_exporter": "python",
   "pygments_lexer": "ipython2",
   "version": "2.7.6"
  }
 },
 "nbformat": 4,
 "nbformat_minor": 0
}
