{
 "cells": [
  {
   "cell_type": "code",
   "execution_count": 1,
   "metadata": {
    "collapsed": true
   },
   "outputs": [],
   "source": [
    "from IPython.core.interactiveshell import InteractiveShell\n",
    "InteractiveShell.ast_node_interactivity=\"all\""
   ]
  },
  {
   "cell_type": "code",
   "execution_count": 3,
   "outputs": [],
   "source": [
    "url = 'http://localhost:9881/swagger-ui/index.html#/Mason%20Excel%20%E4%BA%A7%E7%94%9F/index2UsingPOST'\n",
    "from selenium import webdriver\n",
    "path = r'C:\\Users\\User\\IdeaProjects\\project1\\Bsport\\SEO日报\\chromedriver.exe'\n",
    "browser = webdriver.Chrome()\n",
    "browser.get(url)\n",
    "import time\n",
    "time.sleep(5)\n",
    "button = browser.find_element()"
   ],
   "metadata": {
    "collapsed": false
   }
  },
  {
   "cell_type": "code",
   "execution_count": 6,
   "outputs": [
    {
     "data": {
      "text/plain": "'C:\\\\Users\\\\User\\\\Desktop\\\\SEO\\\\_0816\\\\今日数据.xlsx'"
     },
     "execution_count": 6,
     "metadata": {},
     "output_type": "execute_result"
    }
   ],
   "source": [
    "import os\n",
    "folder_path = r'C:\\Users\\User\\Desktop\\SEO\\_0816'\n",
    "# 指定文件名\n",
    "file_name = '今日数据.xlsx'\n",
    "# 判断文件是否存在\n",
    "file_path = os.path.join(folder_path, file_name)\n",
    "file_path"
   ],
   "metadata": {
    "collapsed": false
   }
  },
  {
   "cell_type": "code",
   "execution_count": 8,
   "outputs": [
    {
     "name": "stdout",
     "output_type": "stream",
     "text": [
      "文件存在\n",
      "文件不存在\n"
     ]
    }
   ],
   "source": [
    "import os\n",
    "\n",
    "# 指定文件夹路径\n",
    "folder_path = r'C:\\Users\\User\\Desktop\\SEO\\_0816'\n",
    "# 指定文件名\n",
    "file_name = '今日数据.xlsx'\n",
    "# 判断文件是否存在\n",
    "file_path = os.path.join(folder_path, file_name)\n",
    "if os.path.exists(file_path):\n",
    "    print('文件存在')\n",
    "    os.remove(file_path)\n",
    "if not os.path.exists(file_path):\n",
    "    print('文件不存在')"
   ],
   "metadata": {
    "collapsed": false
   }
  }
 ],
 "metadata": {
  "kernelspec": {
   "display_name": "Python 3",
   "language": "python",
   "name": "python3"
  },
  "language_info": {
   "codemirror_mode": {
    "name": "ipython",
    "version": 2
   },
   "file_extension": ".py",
   "mimetype": "text/x-python",
   "name": "python",
   "nbconvert_exporter": "python",
   "pygments_lexer": "ipython2",
   "version": "2.7.6"
  }
 },
 "nbformat": 4,
 "nbformat_minor": 0
}
