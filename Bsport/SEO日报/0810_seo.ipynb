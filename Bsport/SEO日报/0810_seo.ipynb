{
 "cells": [
  {
   "cell_type": "code",
   "execution_count": 2,
   "outputs": [],
   "source": [
    "from IPython.core.interactiveshell import InteractiveShell\n",
    "InteractiveShell.ast_node_interactivity = 'all'"
   ],
   "metadata": {
    "collapsed": false
   }
  },
  {
   "cell_type": "code",
   "execution_count": 15,
   "outputs": [
    {
     "name": "stderr",
     "output_type": "stream",
     "text": [
      "C:\\ProgramData\\anaconda3\\envs\\schedule\\Lib\\site-packages\\openpyxl\\styles\\stylesheet.py:226: UserWarning: Workbook contains no default style, apply openpyxl's default\n",
      "  warn(\"Workbook contains no default style, apply openpyxl's default\")\n"
     ]
    }
   ],
   "source": [
    "import pandas as pd\n",
    "import numpy as np\n",
    "import datetime\n",
    "pd.set_option('display.max_colwidth', None) #显示单元格完整信息\n",
    "pd.set_option('display.max_columns', None)\n",
    "pd.set_option('display.max_rows', None)\n",
    "\n",
    "user = pd.read_csv(r'C:\\Users\\User\\Desktop\\SEO_0807\\会员列表导出.csv',encoding='gbk')\n",
    "firChargeUser = pd.read_csv(r'C:\\Users\\User\\Desktop\\SEO_0807\\会员首存报表.csv',encoding='gbk')\n",
    "data = pd.read_excel(r'C:\\Users\\User\\Desktop\\SEO_0807\\data\\今日数据.xlsx')\n",
    "daili = pd.read_excel(r'C:\\Users\\User\\Desktop\\SEO_0807\\SEO每日模板-每日更新.xlsx','代理总表')\n",
    "\n",
    "shuju = pd.DataFrame({'人员':['Paddy', 'Tony', 'Max', 'Martin', 'Zed', 'Hugo', 'Aber', 'DK', 'Ben','当日汇总'],\n",
    "                      '日期':(datetime.datetime.now()+datetime.timedelta(days=-3)).strftime('%Y/%m/%d'),\n",
    "                      '发送IP':0,\n",
    "                      '接受IP':0,\n",
    "                      '对比昨天(总IP)':0,\n",
    "                      '对比前3天均值(总IP)':0,\n",
    "                      '对比前5天均值(总IP)':0,\n",
    "                      '对比前7天均值(总IP)':0,\n",
    "                      '对比昨天(总注册)':0,\n",
    "                      '对比前3天均值(总注册)':0,\n",
    "                      '对比前5天均值(总注册)':0,\n",
    "                      '对比前7天均值(总注册)':0,\n",
    "                      '对比昨天(总开户)':0,\n",
    "                      '对比前3天均值(总开户)':0,\n",
    "                      '对比前5天均值(总开户)':0,\n",
    "                      '对比前7天均值(总开户)':0})\n",
    "\n",
    "shuju.set_index('人员',inplace = True)\n",
    "\n",
    "data['IP']=pd.to_numeric(data['IP'],errors='coerce').replace(np.nan,0).astype('int64')\n",
    "grp=data.groupby('网站名(domain)').agg({'IP':sum})\n",
    "\n",
    "shuju.loc['Paddy','发送IP']=grp.loc['paddy.com','IP']\n",
    "shuju.loc['Paddy','接受IP']=grp.loc['paddy.bty','IP']\n",
    "shuju.loc['Tony','发送IP']=grp.loc['tonyb.com','IP']/2\n",
    "shuju.loc['Tony','接受IP']=grp.loc['tonyb.com','IP']\n",
    "shuju.loc['Max','发送IP']=grp.loc['mulu.com','IP']\n",
    "shuju.loc['Max','接受IP']=grp.loc['max.bty','IP']\n",
    "shuju.loc['Martin','发送IP']=grp.loc['redquan.com','IP']\n",
    "shuju.loc['Martin','接受IP']=grp.loc['martin.bty','IP']\n",
    "shuju.loc['Zed','发送IP']=grp.loc['zed.com','IP']\n",
    "shuju.loc['Zed','接受IP']=grp.loc['zed.bty','IP']\n",
    "shuju.loc['Hugo','发送IP']=grp.loc['hugo.com','IP']\n",
    "# shuju.loc['Hugo','接受IP']=grp.loc['hugo.bty','IP']\n",
    "shuju.loc['Hugo','接受IP']=0\n",
    "\n",
    "shuju.loc['Aber','发送IP']=grp.loc['aber.com','IP']/2\n",
    "shuju.loc['Aber','接受IP']=grp.loc['aber.bty','IP']\n",
    "shuju.loc['DK','发送IP']=grp.loc['dk.com','IP']/2\n",
    "shuju.loc['DK','接受IP']=grp.loc['dk.bty','IP']\n",
    "shuju.loc['Ben','发送IP']=grp.loc['ben.com','IP']/2\n",
    "shuju.loc['Ben','接受IP']=grp.loc['ben.bty','IP']\n",
    "shuju.loc['当日汇总','发送IP']=shuju['发送IP'].sum()\n",
    "shuju.loc['当日汇总','接受IP']=shuju['接受IP'].sum()\n",
    "\n",
    "shuju['日期'] = pd.to_datetime(shuju['日期'])\n",
    "shuju.insert(1,'人员2',shuju.index)\n",
    "shuju['人员2']=shuju['人员2'].str.lower()\n",
    "\n",
    "merge_user = pd.merge(user,daili,how = 'left',left_on='代理',right_on='代理线')\n",
    "grpSEO = merge_user.groupby('seo变化数据团队').agg({'seo变化数据团队':len})\n",
    "grpSEO.rename(columns={'seo变化数据团队':'注册'},inplace=True)\n",
    "grpSEO.reset_index(inplace=True)\n",
    "grpSEO['人员2'] = grpSEO['seo变化数据团队'].str.lower()\n",
    "grpSEO.set_index('seo变化数据团队',inplace=True)\n",
    "\n",
    "\n",
    "# 第1次merge前，重置索引\n",
    "shuju.reset_index(inplace=True)\n",
    "\n",
    "shuju = pd.merge(shuju,grpSEO,on='人员2')\n",
    "shuju['注册率'] = shuju['注册']/shuju['发送IP']*100\n",
    "shuju.loc['当日汇总','注册']=shuju['注册'].sum()\n",
    "shuju.loc['当日汇总','注册率']=shuju['注册率'].sum()\n",
    "\n",
    "merge_charge = pd.merge(firChargeUser,daili,how='left',left_on='所属代理',right_on='代理线')\n",
    "grpCHARGE = merge_charge.groupby('seo变化数据团队').agg({'seo变化数据团队':len})\n",
    "grpCHARGE= grpCHARGE.rename(columns={'seo变化数据团队':'开户'})\n",
    "grpCHARGE.reset_index(inplace=True)\n",
    "grpCHARGE['seo变化数据团队']=grpCHARGE['seo变化数据团队'].str.lower()\n",
    "grpCHARGE= grpCHARGE.rename(columns={'seo变化数据团队':'人员2'})\n",
    "# 第2次merge\n",
    "shuju = pd.merge(shuju,grpCHARGE,how='left',on='人员2')\n",
    "shuju['转化率'] = shuju['开户']/shuju['注册']*100\n",
    "shuju.loc['当日汇总','开户']=shuju['开户'].sum()\n",
    "shuju.loc['当日汇总','转化率']=shuju['转化率'].sum()\n",
    "\n",
    "grp3  = merge_charge[merge_charge['注册时间'].str[:9]==merge_charge['交易时间'].str[:9]].groupby('seo变化数据团队').agg({'seo变化数据团队':len})\n",
    "grp3.rename(columns = {'seo变化数据团队':'当日注册并开户'},inplace=True)\n",
    "grp3.reset_index(inplace=True)\n",
    "grp3['seo变化数据团队'] =grp3['seo变化数据团队'].str.lower()\n",
    "grp3.rename(columns = {'seo变化数据团队':'人员2'},inplace=True)\n",
    "# 第3次merge\n",
    "shuju  = pd.merge(shuju,grp3,how='left',on='人员2')\n",
    "shuju['当日注册激活率'] = shuju['当日注册并开户']/shuju['注册']*100\n",
    "shuju.loc['当日汇总','当日注册并开户']=shuju['当日注册并开户'].sum()\n",
    "shuju.loc['当日汇总','当日注册激活率']=shuju['当日注册激活率'].sum()"
   ],
   "metadata": {
    "collapsed": false
   }
  },
  {
   "cell_type": "code",
   "execution_count": 16,
   "outputs": [
    {
     "data": {
      "text/plain": "          人员         日期     人员2    发送IP    接受IP  对比昨天(总IP)  对比前3天均值(总IP)  \\\n0      Paddy 2023-08-07   paddy     0.0    51.0        0.0           0.0   \n1       Tony 2023-08-07    tony   568.0  1136.0        0.0           0.0   \n2        Max 2023-08-07     max   273.0   225.0        0.0           0.0   \n3     Martin 2023-08-07  martin  3445.0  1072.0        0.0           0.0   \n4        Zed 2023-08-07     zed  4853.0   329.0        0.0           0.0   \n5       Hugo 2023-08-07    hugo   103.0     0.0        0.0           0.0   \n6       Aber 2023-08-07    aber  7325.0   562.0        0.0           0.0   \n7         DK 2023-08-07      dk  1525.0  2160.0        0.0           0.0   \n8        Ben 2023-08-07     ben  2565.0   298.0        0.0           0.0   \n9        NaN        NaT     NaN     NaN     NaN        NaN           NaN   \n10       NaN        NaT     NaN     NaN     NaN        NaN           NaN   \n当日汇总     NaN        NaT     NaN     NaN     NaN        NaN           NaN   \n\n      对比前5天均值(总IP)  对比前7天均值(总IP)  对比昨天(总注册)  对比前3天均值(总注册)  对比前5天均值(总注册)  \\\n0              0.0           0.0        0.0           0.0           0.0   \n1              0.0           0.0        0.0           0.0           0.0   \n2              0.0           0.0        0.0           0.0           0.0   \n3              0.0           0.0        0.0           0.0           0.0   \n4              0.0           0.0        0.0           0.0           0.0   \n5              0.0           0.0        0.0           0.0           0.0   \n6              0.0           0.0        0.0           0.0           0.0   \n7              0.0           0.0        0.0           0.0           0.0   \n8              0.0           0.0        0.0           0.0           0.0   \n9              NaN           NaN        NaN           NaN           NaN   \n10             NaN           NaN        NaN           NaN           NaN   \n当日汇总           NaN           NaN        NaN           NaN           NaN   \n\n      对比前7天均值(总注册)  对比昨天(总开户)  对比前3天均值(总开户)  对比前5天均值(总开户)  对比前7天均值(总开户)  \\\n0              0.0        0.0           0.0           0.0           0.0   \n1              0.0        0.0           0.0           0.0           0.0   \n2              0.0        0.0           0.0           0.0           0.0   \n3              0.0        0.0           0.0           0.0           0.0   \n4              0.0        0.0           0.0           0.0           0.0   \n5              0.0        0.0           0.0           0.0           0.0   \n6              0.0        0.0           0.0           0.0           0.0   \n7              0.0        0.0           0.0           0.0           0.0   \n8              0.0        0.0           0.0           0.0           0.0   \n9              NaN        NaN           NaN           NaN           NaN   \n10             NaN        NaN           NaN           NaN           NaN   \n当日汇总           NaN        NaN           NaN           NaN           NaN   \n\n         注册        注册率    开户         转化率  当日注册并开户     当日注册激活率  \n0       3.0        inf   2.0   66.666667      2.0   66.666667  \n1      15.0   2.640845   3.0   20.000000      3.0   20.000000  \n2       9.0   3.296703   NaN         NaN      NaN         NaN  \n3      81.0   2.351234  24.0   29.629630     18.0   22.222222  \n4      22.0   0.453328   8.0   36.363636      8.0   36.363636  \n5      16.0  15.533981   5.0   31.250000      2.0   12.500000  \n6      49.0   0.668942  13.0   26.530612      9.0   18.367347  \n7      52.0   3.409836   5.0    9.615385      5.0    9.615385  \n8      17.0   0.662768   6.0   35.294118      3.0   17.647059  \n9     264.0        inf   NaN         NaN      NaN         NaN  \n10      NaN        NaN  66.0  255.350047      NaN         NaN  \n当日汇总    NaN        NaN   NaN         NaN     50.0  203.382316  ",
      "text/html": "<div>\n<style scoped>\n    .dataframe tbody tr th:only-of-type {\n        vertical-align: middle;\n    }\n\n    .dataframe tbody tr th {\n        vertical-align: top;\n    }\n\n    .dataframe thead th {\n        text-align: right;\n    }\n</style>\n<table border=\"1\" class=\"dataframe\">\n  <thead>\n    <tr style=\"text-align: right;\">\n      <th></th>\n      <th>人员</th>\n      <th>日期</th>\n      <th>人员2</th>\n      <th>发送IP</th>\n      <th>接受IP</th>\n      <th>对比昨天(总IP)</th>\n      <th>对比前3天均值(总IP)</th>\n      <th>对比前5天均值(总IP)</th>\n      <th>对比前7天均值(总IP)</th>\n      <th>对比昨天(总注册)</th>\n      <th>对比前3天均值(总注册)</th>\n      <th>对比前5天均值(总注册)</th>\n      <th>对比前7天均值(总注册)</th>\n      <th>对比昨天(总开户)</th>\n      <th>对比前3天均值(总开户)</th>\n      <th>对比前5天均值(总开户)</th>\n      <th>对比前7天均值(总开户)</th>\n      <th>注册</th>\n      <th>注册率</th>\n      <th>开户</th>\n      <th>转化率</th>\n      <th>当日注册并开户</th>\n      <th>当日注册激活率</th>\n    </tr>\n  </thead>\n  <tbody>\n    <tr>\n      <th>0</th>\n      <td>Paddy</td>\n      <td>2023-08-07</td>\n      <td>paddy</td>\n      <td>0.0</td>\n      <td>51.0</td>\n      <td>0.0</td>\n      <td>0.0</td>\n      <td>0.0</td>\n      <td>0.0</td>\n      <td>0.0</td>\n      <td>0.0</td>\n      <td>0.0</td>\n      <td>0.0</td>\n      <td>0.0</td>\n      <td>0.0</td>\n      <td>0.0</td>\n      <td>0.0</td>\n      <td>3.0</td>\n      <td>inf</td>\n      <td>2.0</td>\n      <td>66.666667</td>\n      <td>2.0</td>\n      <td>66.666667</td>\n    </tr>\n    <tr>\n      <th>1</th>\n      <td>Tony</td>\n      <td>2023-08-07</td>\n      <td>tony</td>\n      <td>568.0</td>\n      <td>1136.0</td>\n      <td>0.0</td>\n      <td>0.0</td>\n      <td>0.0</td>\n      <td>0.0</td>\n      <td>0.0</td>\n      <td>0.0</td>\n      <td>0.0</td>\n      <td>0.0</td>\n      <td>0.0</td>\n      <td>0.0</td>\n      <td>0.0</td>\n      <td>0.0</td>\n      <td>15.0</td>\n      <td>2.640845</td>\n      <td>3.0</td>\n      <td>20.000000</td>\n      <td>3.0</td>\n      <td>20.000000</td>\n    </tr>\n    <tr>\n      <th>2</th>\n      <td>Max</td>\n      <td>2023-08-07</td>\n      <td>max</td>\n      <td>273.0</td>\n      <td>225.0</td>\n      <td>0.0</td>\n      <td>0.0</td>\n      <td>0.0</td>\n      <td>0.0</td>\n      <td>0.0</td>\n      <td>0.0</td>\n      <td>0.0</td>\n      <td>0.0</td>\n      <td>0.0</td>\n      <td>0.0</td>\n      <td>0.0</td>\n      <td>0.0</td>\n      <td>9.0</td>\n      <td>3.296703</td>\n      <td>NaN</td>\n      <td>NaN</td>\n      <td>NaN</td>\n      <td>NaN</td>\n    </tr>\n    <tr>\n      <th>3</th>\n      <td>Martin</td>\n      <td>2023-08-07</td>\n      <td>martin</td>\n      <td>3445.0</td>\n      <td>1072.0</td>\n      <td>0.0</td>\n      <td>0.0</td>\n      <td>0.0</td>\n      <td>0.0</td>\n      <td>0.0</td>\n      <td>0.0</td>\n      <td>0.0</td>\n      <td>0.0</td>\n      <td>0.0</td>\n      <td>0.0</td>\n      <td>0.0</td>\n      <td>0.0</td>\n      <td>81.0</td>\n      <td>2.351234</td>\n      <td>24.0</td>\n      <td>29.629630</td>\n      <td>18.0</td>\n      <td>22.222222</td>\n    </tr>\n    <tr>\n      <th>4</th>\n      <td>Zed</td>\n      <td>2023-08-07</td>\n      <td>zed</td>\n      <td>4853.0</td>\n      <td>329.0</td>\n      <td>0.0</td>\n      <td>0.0</td>\n      <td>0.0</td>\n      <td>0.0</td>\n      <td>0.0</td>\n      <td>0.0</td>\n      <td>0.0</td>\n      <td>0.0</td>\n      <td>0.0</td>\n      <td>0.0</td>\n      <td>0.0</td>\n      <td>0.0</td>\n      <td>22.0</td>\n      <td>0.453328</td>\n      <td>8.0</td>\n      <td>36.363636</td>\n      <td>8.0</td>\n      <td>36.363636</td>\n    </tr>\n    <tr>\n      <th>5</th>\n      <td>Hugo</td>\n      <td>2023-08-07</td>\n      <td>hugo</td>\n      <td>103.0</td>\n      <td>0.0</td>\n      <td>0.0</td>\n      <td>0.0</td>\n      <td>0.0</td>\n      <td>0.0</td>\n      <td>0.0</td>\n      <td>0.0</td>\n      <td>0.0</td>\n      <td>0.0</td>\n      <td>0.0</td>\n      <td>0.0</td>\n      <td>0.0</td>\n      <td>0.0</td>\n      <td>16.0</td>\n      <td>15.533981</td>\n      <td>5.0</td>\n      <td>31.250000</td>\n      <td>2.0</td>\n      <td>12.500000</td>\n    </tr>\n    <tr>\n      <th>6</th>\n      <td>Aber</td>\n      <td>2023-08-07</td>\n      <td>aber</td>\n      <td>7325.0</td>\n      <td>562.0</td>\n      <td>0.0</td>\n      <td>0.0</td>\n      <td>0.0</td>\n      <td>0.0</td>\n      <td>0.0</td>\n      <td>0.0</td>\n      <td>0.0</td>\n      <td>0.0</td>\n      <td>0.0</td>\n      <td>0.0</td>\n      <td>0.0</td>\n      <td>0.0</td>\n      <td>49.0</td>\n      <td>0.668942</td>\n      <td>13.0</td>\n      <td>26.530612</td>\n      <td>9.0</td>\n      <td>18.367347</td>\n    </tr>\n    <tr>\n      <th>7</th>\n      <td>DK</td>\n      <td>2023-08-07</td>\n      <td>dk</td>\n      <td>1525.0</td>\n      <td>2160.0</td>\n      <td>0.0</td>\n      <td>0.0</td>\n      <td>0.0</td>\n      <td>0.0</td>\n      <td>0.0</td>\n      <td>0.0</td>\n      <td>0.0</td>\n      <td>0.0</td>\n      <td>0.0</td>\n      <td>0.0</td>\n      <td>0.0</td>\n      <td>0.0</td>\n      <td>52.0</td>\n      <td>3.409836</td>\n      <td>5.0</td>\n      <td>9.615385</td>\n      <td>5.0</td>\n      <td>9.615385</td>\n    </tr>\n    <tr>\n      <th>8</th>\n      <td>Ben</td>\n      <td>2023-08-07</td>\n      <td>ben</td>\n      <td>2565.0</td>\n      <td>298.0</td>\n      <td>0.0</td>\n      <td>0.0</td>\n      <td>0.0</td>\n      <td>0.0</td>\n      <td>0.0</td>\n      <td>0.0</td>\n      <td>0.0</td>\n      <td>0.0</td>\n      <td>0.0</td>\n      <td>0.0</td>\n      <td>0.0</td>\n      <td>0.0</td>\n      <td>17.0</td>\n      <td>0.662768</td>\n      <td>6.0</td>\n      <td>35.294118</td>\n      <td>3.0</td>\n      <td>17.647059</td>\n    </tr>\n    <tr>\n      <th>9</th>\n      <td>NaN</td>\n      <td>NaT</td>\n      <td>NaN</td>\n      <td>NaN</td>\n      <td>NaN</td>\n      <td>NaN</td>\n      <td>NaN</td>\n      <td>NaN</td>\n      <td>NaN</td>\n      <td>NaN</td>\n      <td>NaN</td>\n      <td>NaN</td>\n      <td>NaN</td>\n      <td>NaN</td>\n      <td>NaN</td>\n      <td>NaN</td>\n      <td>NaN</td>\n      <td>264.0</td>\n      <td>inf</td>\n      <td>NaN</td>\n      <td>NaN</td>\n      <td>NaN</td>\n      <td>NaN</td>\n    </tr>\n    <tr>\n      <th>10</th>\n      <td>NaN</td>\n      <td>NaT</td>\n      <td>NaN</td>\n      <td>NaN</td>\n      <td>NaN</td>\n      <td>NaN</td>\n      <td>NaN</td>\n      <td>NaN</td>\n      <td>NaN</td>\n      <td>NaN</td>\n      <td>NaN</td>\n      <td>NaN</td>\n      <td>NaN</td>\n      <td>NaN</td>\n      <td>NaN</td>\n      <td>NaN</td>\n      <td>NaN</td>\n      <td>NaN</td>\n      <td>NaN</td>\n      <td>66.0</td>\n      <td>255.350047</td>\n      <td>NaN</td>\n      <td>NaN</td>\n    </tr>\n    <tr>\n      <th>当日汇总</th>\n      <td>NaN</td>\n      <td>NaT</td>\n      <td>NaN</td>\n      <td>NaN</td>\n      <td>NaN</td>\n      <td>NaN</td>\n      <td>NaN</td>\n      <td>NaN</td>\n      <td>NaN</td>\n      <td>NaN</td>\n      <td>NaN</td>\n      <td>NaN</td>\n      <td>NaN</td>\n      <td>NaN</td>\n      <td>NaN</td>\n      <td>NaN</td>\n      <td>NaN</td>\n      <td>NaN</td>\n      <td>NaN</td>\n      <td>NaN</td>\n      <td>NaN</td>\n      <td>50.0</td>\n      <td>203.382316</td>\n    </tr>\n  </tbody>\n</table>\n</div>"
     },
     "execution_count": 16,
     "metadata": {},
     "output_type": "execute_result"
    }
   ],
   "source": [
    "shuju"
   ],
   "metadata": {
    "collapsed": false
   }
  },
  {
   "cell_type": "code",
   "execution_count": 6,
   "outputs": [
    {
     "data": {
      "text/plain": "            注册        人员2\nseo变化数据团队                \n178直播        3      178直播\nAdmin邀请      2    admin邀请\nCyrus        2      cyrus\nDK          52         dk\nGT-B直播      16     gt-b直播\nGT-越南线       2     gt-越南线\nGT-骨头       63      gt-骨头\nMM           1         mm\nSEO掉线用户转线    8  seo掉线用户转线\nSEO邀请       44      seo邀请\nSOCO越南直播    96   soco越南直播\naber        49       aber\nben         17        ben\nduobo        1      duobo\nhugo        16       hugo\nkk6699       2     kk6699\nmartin      81     martin\nmax          9        max\npaddy        3      paddy\nseo转线        4      seo转线\ntony        15       tony\nzed         22        zed\n原电销使用        3      原电销使用\n外代-越        13       外代-越\n外部代理总线     179     外部代理总线\n官网         114         官网\n小Peter       3     小peter\n小Peter越南线    1  小peter越南线\n技术测试         2       技术测试\n斌哥           1         斌哥\n电销拉回专用       2     电销拉回专用\n真实数据测试账号     1   真实数据测试账号\n米乐转线         3       米乐转线\n袋鼠           1         袋鼠\n酷币           1         酷币\n雨燕直播        32       雨燕直播\n雨燕直播-越     346     雨燕直播-越\n飞哥雨燕直播     117     飞哥雨燕直播\n鲲鹏admin     13    鲲鹏admin",
      "text/html": "<div>\n<style scoped>\n    .dataframe tbody tr th:only-of-type {\n        vertical-align: middle;\n    }\n\n    .dataframe tbody tr th {\n        vertical-align: top;\n    }\n\n    .dataframe thead th {\n        text-align: right;\n    }\n</style>\n<table border=\"1\" class=\"dataframe\">\n  <thead>\n    <tr style=\"text-align: right;\">\n      <th></th>\n      <th>注册</th>\n      <th>人员2</th>\n    </tr>\n    <tr>\n      <th>seo变化数据团队</th>\n      <th></th>\n      <th></th>\n    </tr>\n  </thead>\n  <tbody>\n    <tr>\n      <th>178直播</th>\n      <td>3</td>\n      <td>178直播</td>\n    </tr>\n    <tr>\n      <th>Admin邀请</th>\n      <td>2</td>\n      <td>admin邀请</td>\n    </tr>\n    <tr>\n      <th>Cyrus</th>\n      <td>2</td>\n      <td>cyrus</td>\n    </tr>\n    <tr>\n      <th>DK</th>\n      <td>52</td>\n      <td>dk</td>\n    </tr>\n    <tr>\n      <th>GT-B直播</th>\n      <td>16</td>\n      <td>gt-b直播</td>\n    </tr>\n    <tr>\n      <th>GT-越南线</th>\n      <td>2</td>\n      <td>gt-越南线</td>\n    </tr>\n    <tr>\n      <th>GT-骨头</th>\n      <td>63</td>\n      <td>gt-骨头</td>\n    </tr>\n    <tr>\n      <th>MM</th>\n      <td>1</td>\n      <td>mm</td>\n    </tr>\n    <tr>\n      <th>SEO掉线用户转线</th>\n      <td>8</td>\n      <td>seo掉线用户转线</td>\n    </tr>\n    <tr>\n      <th>SEO邀请</th>\n      <td>44</td>\n      <td>seo邀请</td>\n    </tr>\n    <tr>\n      <th>SOCO越南直播</th>\n      <td>96</td>\n      <td>soco越南直播</td>\n    </tr>\n    <tr>\n      <th>aber</th>\n      <td>49</td>\n      <td>aber</td>\n    </tr>\n    <tr>\n      <th>ben</th>\n      <td>17</td>\n      <td>ben</td>\n    </tr>\n    <tr>\n      <th>duobo</th>\n      <td>1</td>\n      <td>duobo</td>\n    </tr>\n    <tr>\n      <th>hugo</th>\n      <td>16</td>\n      <td>hugo</td>\n    </tr>\n    <tr>\n      <th>kk6699</th>\n      <td>2</td>\n      <td>kk6699</td>\n    </tr>\n    <tr>\n      <th>martin</th>\n      <td>81</td>\n      <td>martin</td>\n    </tr>\n    <tr>\n      <th>max</th>\n      <td>9</td>\n      <td>max</td>\n    </tr>\n    <tr>\n      <th>paddy</th>\n      <td>3</td>\n      <td>paddy</td>\n    </tr>\n    <tr>\n      <th>seo转线</th>\n      <td>4</td>\n      <td>seo转线</td>\n    </tr>\n    <tr>\n      <th>tony</th>\n      <td>15</td>\n      <td>tony</td>\n    </tr>\n    <tr>\n      <th>zed</th>\n      <td>22</td>\n      <td>zed</td>\n    </tr>\n    <tr>\n      <th>原电销使用</th>\n      <td>3</td>\n      <td>原电销使用</td>\n    </tr>\n    <tr>\n      <th>外代-越</th>\n      <td>13</td>\n      <td>外代-越</td>\n    </tr>\n    <tr>\n      <th>外部代理总线</th>\n      <td>179</td>\n      <td>外部代理总线</td>\n    </tr>\n    <tr>\n      <th>官网</th>\n      <td>114</td>\n      <td>官网</td>\n    </tr>\n    <tr>\n      <th>小Peter</th>\n      <td>3</td>\n      <td>小peter</td>\n    </tr>\n    <tr>\n      <th>小Peter越南线</th>\n      <td>1</td>\n      <td>小peter越南线</td>\n    </tr>\n    <tr>\n      <th>技术测试</th>\n      <td>2</td>\n      <td>技术测试</td>\n    </tr>\n    <tr>\n      <th>斌哥</th>\n      <td>1</td>\n      <td>斌哥</td>\n    </tr>\n    <tr>\n      <th>电销拉回专用</th>\n      <td>2</td>\n      <td>电销拉回专用</td>\n    </tr>\n    <tr>\n      <th>真实数据测试账号</th>\n      <td>1</td>\n      <td>真实数据测试账号</td>\n    </tr>\n    <tr>\n      <th>米乐转线</th>\n      <td>3</td>\n      <td>米乐转线</td>\n    </tr>\n    <tr>\n      <th>袋鼠</th>\n      <td>1</td>\n      <td>袋鼠</td>\n    </tr>\n    <tr>\n      <th>酷币</th>\n      <td>1</td>\n      <td>酷币</td>\n    </tr>\n    <tr>\n      <th>雨燕直播</th>\n      <td>32</td>\n      <td>雨燕直播</td>\n    </tr>\n    <tr>\n      <th>雨燕直播-越</th>\n      <td>346</td>\n      <td>雨燕直播-越</td>\n    </tr>\n    <tr>\n      <th>飞哥雨燕直播</th>\n      <td>117</td>\n      <td>飞哥雨燕直播</td>\n    </tr>\n    <tr>\n      <th>鲲鹏admin</th>\n      <td>13</td>\n      <td>鲲鹏admin</td>\n    </tr>\n  </tbody>\n</table>\n</div>"
     },
     "execution_count": 6,
     "metadata": {},
     "output_type": "execute_result"
    }
   ],
   "source": [
    "merge_user = pd.merge(user,daili,how = 'left',left_on='代理',right_on='代理线')\n",
    "grpSEO = merge_user.groupby('seo变化数据团队').agg({'seo变化数据团队':len})\n",
    "grpSEO.rename(columns={'seo变化数据团队':'注册'},inplace=True)\n",
    "grpSEO.reset_index(inplace=True)\n",
    "grpSEO['人员2'] = grpSEO['seo变化数据团队'].str.lower()\n",
    "grpSEO.set_index('seo变化数据团队',inplace=True)\n",
    "grpSEO"
   ],
   "metadata": {
    "collapsed": false
   }
  },
  {
   "cell_type": "code",
   "execution_count": 7,
   "outputs": [
    {
     "data": {
      "text/plain": "          人员2   开户\n0     admin邀请    1\n1       cyrus    1\n2          dk    5\n3      gt-b直播    5\n4       gt-骨头   20\n5   seo掉线用户转线   16\n6       seo邀请    4\n7    soco越南直播   46\n8        aber   13\n9         ben    6\n10      duobo    1\n11       hugo    5\n12     martin   24\n13      paddy    2\n14       tony    3\n15        zed    8\n16      原电销使用    2\n17       外代-越    3\n18     外部代理总线   31\n19         官网   18\n20        宝马会    1\n21     小peter    2\n22       米乐转线    1\n23         袋鼠    1\n24         酷币    1\n25       雨燕直播   12\n26     雨燕直播-越  145\n27     飞哥雨燕直播   55",
      "text/html": "<div>\n<style scoped>\n    .dataframe tbody tr th:only-of-type {\n        vertical-align: middle;\n    }\n\n    .dataframe tbody tr th {\n        vertical-align: top;\n    }\n\n    .dataframe thead th {\n        text-align: right;\n    }\n</style>\n<table border=\"1\" class=\"dataframe\">\n  <thead>\n    <tr style=\"text-align: right;\">\n      <th></th>\n      <th>人员2</th>\n      <th>开户</th>\n    </tr>\n  </thead>\n  <tbody>\n    <tr>\n      <th>0</th>\n      <td>admin邀请</td>\n      <td>1</td>\n    </tr>\n    <tr>\n      <th>1</th>\n      <td>cyrus</td>\n      <td>1</td>\n    </tr>\n    <tr>\n      <th>2</th>\n      <td>dk</td>\n      <td>5</td>\n    </tr>\n    <tr>\n      <th>3</th>\n      <td>gt-b直播</td>\n      <td>5</td>\n    </tr>\n    <tr>\n      <th>4</th>\n      <td>gt-骨头</td>\n      <td>20</td>\n    </tr>\n    <tr>\n      <th>5</th>\n      <td>seo掉线用户转线</td>\n      <td>16</td>\n    </tr>\n    <tr>\n      <th>6</th>\n      <td>seo邀请</td>\n      <td>4</td>\n    </tr>\n    <tr>\n      <th>7</th>\n      <td>soco越南直播</td>\n      <td>46</td>\n    </tr>\n    <tr>\n      <th>8</th>\n      <td>aber</td>\n      <td>13</td>\n    </tr>\n    <tr>\n      <th>9</th>\n      <td>ben</td>\n      <td>6</td>\n    </tr>\n    <tr>\n      <th>10</th>\n      <td>duobo</td>\n      <td>1</td>\n    </tr>\n    <tr>\n      <th>11</th>\n      <td>hugo</td>\n      <td>5</td>\n    </tr>\n    <tr>\n      <th>12</th>\n      <td>martin</td>\n      <td>24</td>\n    </tr>\n    <tr>\n      <th>13</th>\n      <td>paddy</td>\n      <td>2</td>\n    </tr>\n    <tr>\n      <th>14</th>\n      <td>tony</td>\n      <td>3</td>\n    </tr>\n    <tr>\n      <th>15</th>\n      <td>zed</td>\n      <td>8</td>\n    </tr>\n    <tr>\n      <th>16</th>\n      <td>原电销使用</td>\n      <td>2</td>\n    </tr>\n    <tr>\n      <th>17</th>\n      <td>外代-越</td>\n      <td>3</td>\n    </tr>\n    <tr>\n      <th>18</th>\n      <td>外部代理总线</td>\n      <td>31</td>\n    </tr>\n    <tr>\n      <th>19</th>\n      <td>官网</td>\n      <td>18</td>\n    </tr>\n    <tr>\n      <th>20</th>\n      <td>宝马会</td>\n      <td>1</td>\n    </tr>\n    <tr>\n      <th>21</th>\n      <td>小peter</td>\n      <td>2</td>\n    </tr>\n    <tr>\n      <th>22</th>\n      <td>米乐转线</td>\n      <td>1</td>\n    </tr>\n    <tr>\n      <th>23</th>\n      <td>袋鼠</td>\n      <td>1</td>\n    </tr>\n    <tr>\n      <th>24</th>\n      <td>酷币</td>\n      <td>1</td>\n    </tr>\n    <tr>\n      <th>25</th>\n      <td>雨燕直播</td>\n      <td>12</td>\n    </tr>\n    <tr>\n      <th>26</th>\n      <td>雨燕直播-越</td>\n      <td>145</td>\n    </tr>\n    <tr>\n      <th>27</th>\n      <td>飞哥雨燕直播</td>\n      <td>55</td>\n    </tr>\n  </tbody>\n</table>\n</div>"
     },
     "execution_count": 7,
     "metadata": {},
     "output_type": "execute_result"
    }
   ],
   "source": [
    "merge_charge = pd.merge(firChargeUser,daili,how='left',left_on='所属代理',right_on='代理线')\n",
    "grpCHARGE = merge_charge.groupby('seo变化数据团队').agg({'seo变化数据团队':len})\n",
    "grpCHARGE= grpCHARGE.rename(columns={'seo变化数据团队':'开户'})\n",
    "grpCHARGE.reset_index(inplace=True)\n",
    "grpCHARGE['seo变化数据团队']=grpCHARGE['seo变化数据团队'].str.lower()\n",
    "grpCHARGE= grpCHARGE.rename(columns={'seo变化数据团队':'人员2'})\n",
    "grpCHARGE"
   ],
   "metadata": {
    "collapsed": false
   }
  },
  {
   "cell_type": "code",
   "execution_count": 8,
   "outputs": [
    {
     "data": {
      "text/plain": "            开户        人员2\nseo变化数据团队                \nAdmin邀请      1    admin邀请\nCyrus        1      cyrus\nDK           5         dk\nGT-B直播       5     gt-b直播\nGT-骨头       20      gt-骨头\nSEO掉线用户转线   16  seo掉线用户转线\nSEO邀请        4      seo邀请\nSOCO越南直播    46   soco越南直播\naber        13       aber\nben          6        ben\nduobo        1      duobo\nhugo         5       hugo\nmartin      24     martin\npaddy        2      paddy\ntony         3       tony\nzed          8        zed\n原电销使用        2      原电销使用\n外代-越         3       外代-越\n外部代理总线      31     外部代理总线\n官网          18         官网\n宝马会          1        宝马会\n小Peter       2     小peter\n米乐转线         1       米乐转线\n袋鼠           1         袋鼠\n酷币           1         酷币\n雨燕直播        12       雨燕直播\n雨燕直播-越     145     雨燕直播-越\n飞哥雨燕直播      55     飞哥雨燕直播",
      "text/html": "<div>\n<style scoped>\n    .dataframe tbody tr th:only-of-type {\n        vertical-align: middle;\n    }\n\n    .dataframe tbody tr th {\n        vertical-align: top;\n    }\n\n    .dataframe thead th {\n        text-align: right;\n    }\n</style>\n<table border=\"1\" class=\"dataframe\">\n  <thead>\n    <tr style=\"text-align: right;\">\n      <th></th>\n      <th>开户</th>\n      <th>人员2</th>\n    </tr>\n    <tr>\n      <th>seo变化数据团队</th>\n      <th></th>\n      <th></th>\n    </tr>\n  </thead>\n  <tbody>\n    <tr>\n      <th>Admin邀请</th>\n      <td>1</td>\n      <td>admin邀请</td>\n    </tr>\n    <tr>\n      <th>Cyrus</th>\n      <td>1</td>\n      <td>cyrus</td>\n    </tr>\n    <tr>\n      <th>DK</th>\n      <td>5</td>\n      <td>dk</td>\n    </tr>\n    <tr>\n      <th>GT-B直播</th>\n      <td>5</td>\n      <td>gt-b直播</td>\n    </tr>\n    <tr>\n      <th>GT-骨头</th>\n      <td>20</td>\n      <td>gt-骨头</td>\n    </tr>\n    <tr>\n      <th>SEO掉线用户转线</th>\n      <td>16</td>\n      <td>seo掉线用户转线</td>\n    </tr>\n    <tr>\n      <th>SEO邀请</th>\n      <td>4</td>\n      <td>seo邀请</td>\n    </tr>\n    <tr>\n      <th>SOCO越南直播</th>\n      <td>46</td>\n      <td>soco越南直播</td>\n    </tr>\n    <tr>\n      <th>aber</th>\n      <td>13</td>\n      <td>aber</td>\n    </tr>\n    <tr>\n      <th>ben</th>\n      <td>6</td>\n      <td>ben</td>\n    </tr>\n    <tr>\n      <th>duobo</th>\n      <td>1</td>\n      <td>duobo</td>\n    </tr>\n    <tr>\n      <th>hugo</th>\n      <td>5</td>\n      <td>hugo</td>\n    </tr>\n    <tr>\n      <th>martin</th>\n      <td>24</td>\n      <td>martin</td>\n    </tr>\n    <tr>\n      <th>paddy</th>\n      <td>2</td>\n      <td>paddy</td>\n    </tr>\n    <tr>\n      <th>tony</th>\n      <td>3</td>\n      <td>tony</td>\n    </tr>\n    <tr>\n      <th>zed</th>\n      <td>8</td>\n      <td>zed</td>\n    </tr>\n    <tr>\n      <th>原电销使用</th>\n      <td>2</td>\n      <td>原电销使用</td>\n    </tr>\n    <tr>\n      <th>外代-越</th>\n      <td>3</td>\n      <td>外代-越</td>\n    </tr>\n    <tr>\n      <th>外部代理总线</th>\n      <td>31</td>\n      <td>外部代理总线</td>\n    </tr>\n    <tr>\n      <th>官网</th>\n      <td>18</td>\n      <td>官网</td>\n    </tr>\n    <tr>\n      <th>宝马会</th>\n      <td>1</td>\n      <td>宝马会</td>\n    </tr>\n    <tr>\n      <th>小Peter</th>\n      <td>2</td>\n      <td>小peter</td>\n    </tr>\n    <tr>\n      <th>米乐转线</th>\n      <td>1</td>\n      <td>米乐转线</td>\n    </tr>\n    <tr>\n      <th>袋鼠</th>\n      <td>1</td>\n      <td>袋鼠</td>\n    </tr>\n    <tr>\n      <th>酷币</th>\n      <td>1</td>\n      <td>酷币</td>\n    </tr>\n    <tr>\n      <th>雨燕直播</th>\n      <td>12</td>\n      <td>雨燕直播</td>\n    </tr>\n    <tr>\n      <th>雨燕直播-越</th>\n      <td>145</td>\n      <td>雨燕直播-越</td>\n    </tr>\n    <tr>\n      <th>飞哥雨燕直播</th>\n      <td>55</td>\n      <td>飞哥雨燕直播</td>\n    </tr>\n  </tbody>\n</table>\n</div>"
     },
     "execution_count": 8,
     "metadata": {},
     "output_type": "execute_result"
    }
   ],
   "source": [
    "merge_charge = pd.merge(firChargeUser,daili,how='left',left_on='所属代理',right_on='代理线')\n",
    "grpCHARGE = merge_charge.groupby('seo变化数据团队').agg({'seo变化数据团队':len})\n",
    "grpCHARGE= grpCHARGE.rename(columns={'seo变化数据团队':'开户'})\n",
    "grpCHARGE.reset_index(inplace=True)\n",
    "grpCHARGE['人员2']=grpCHARGE['seo变化数据团队'].str.lower()\n",
    "grpCHARGE.set_index('seo变化数据团队',inplace=True)\n",
    "grpCHARGE"
   ],
   "metadata": {
    "collapsed": false
   }
  },
  {
   "cell_type": "code",
   "execution_count": 10,
   "outputs": [
    {
     "data": {
      "text/plain": "           当日注册并开户        人员2\nseo变化数据团队                    \nDK               5         dk\nGT-B直播           2     gt-b直播\nGT-骨头           15      gt-骨头\nSEO掉线用户转线        1  seo掉线用户转线\nSEO邀请            3      seo邀请\nSOCO越南直播        21   soco越南直播\naber             9       aber\nben              3        ben\nduobo            1      duobo\nhugo             2       hugo\nmartin          18     martin\npaddy            2      paddy\ntony             3       tony\nzed              8        zed\n原电销使用            2      原电销使用\n外代-越             3       外代-越\n外部代理总线          24     外部代理总线\n官网              17         官网\n袋鼠               1         袋鼠\n酷币               1         酷币\n雨燕直播             6       雨燕直播\n雨燕直播-越         119     雨燕直播-越\n飞哥雨燕直播          39     飞哥雨燕直播",
      "text/html": "<div>\n<style scoped>\n    .dataframe tbody tr th:only-of-type {\n        vertical-align: middle;\n    }\n\n    .dataframe tbody tr th {\n        vertical-align: top;\n    }\n\n    .dataframe thead th {\n        text-align: right;\n    }\n</style>\n<table border=\"1\" class=\"dataframe\">\n  <thead>\n    <tr style=\"text-align: right;\">\n      <th></th>\n      <th>当日注册并开户</th>\n      <th>人员2</th>\n    </tr>\n    <tr>\n      <th>seo变化数据团队</th>\n      <th></th>\n      <th></th>\n    </tr>\n  </thead>\n  <tbody>\n    <tr>\n      <th>DK</th>\n      <td>5</td>\n      <td>dk</td>\n    </tr>\n    <tr>\n      <th>GT-B直播</th>\n      <td>2</td>\n      <td>gt-b直播</td>\n    </tr>\n    <tr>\n      <th>GT-骨头</th>\n      <td>15</td>\n      <td>gt-骨头</td>\n    </tr>\n    <tr>\n      <th>SEO掉线用户转线</th>\n      <td>1</td>\n      <td>seo掉线用户转线</td>\n    </tr>\n    <tr>\n      <th>SEO邀请</th>\n      <td>3</td>\n      <td>seo邀请</td>\n    </tr>\n    <tr>\n      <th>SOCO越南直播</th>\n      <td>21</td>\n      <td>soco越南直播</td>\n    </tr>\n    <tr>\n      <th>aber</th>\n      <td>9</td>\n      <td>aber</td>\n    </tr>\n    <tr>\n      <th>ben</th>\n      <td>3</td>\n      <td>ben</td>\n    </tr>\n    <tr>\n      <th>duobo</th>\n      <td>1</td>\n      <td>duobo</td>\n    </tr>\n    <tr>\n      <th>hugo</th>\n      <td>2</td>\n      <td>hugo</td>\n    </tr>\n    <tr>\n      <th>martin</th>\n      <td>18</td>\n      <td>martin</td>\n    </tr>\n    <tr>\n      <th>paddy</th>\n      <td>2</td>\n      <td>paddy</td>\n    </tr>\n    <tr>\n      <th>tony</th>\n      <td>3</td>\n      <td>tony</td>\n    </tr>\n    <tr>\n      <th>zed</th>\n      <td>8</td>\n      <td>zed</td>\n    </tr>\n    <tr>\n      <th>原电销使用</th>\n      <td>2</td>\n      <td>原电销使用</td>\n    </tr>\n    <tr>\n      <th>外代-越</th>\n      <td>3</td>\n      <td>外代-越</td>\n    </tr>\n    <tr>\n      <th>外部代理总线</th>\n      <td>24</td>\n      <td>外部代理总线</td>\n    </tr>\n    <tr>\n      <th>官网</th>\n      <td>17</td>\n      <td>官网</td>\n    </tr>\n    <tr>\n      <th>袋鼠</th>\n      <td>1</td>\n      <td>袋鼠</td>\n    </tr>\n    <tr>\n      <th>酷币</th>\n      <td>1</td>\n      <td>酷币</td>\n    </tr>\n    <tr>\n      <th>雨燕直播</th>\n      <td>6</td>\n      <td>雨燕直播</td>\n    </tr>\n    <tr>\n      <th>雨燕直播-越</th>\n      <td>119</td>\n      <td>雨燕直播-越</td>\n    </tr>\n    <tr>\n      <th>飞哥雨燕直播</th>\n      <td>39</td>\n      <td>飞哥雨燕直播</td>\n    </tr>\n  </tbody>\n</table>\n</div>"
     },
     "execution_count": 10,
     "metadata": {},
     "output_type": "execute_result"
    }
   ],
   "source": [
    "grp3  = merge_charge[merge_charge['注册时间'].str[:9]==merge_charge['交易时间'].str[:9]].groupby('seo变化数据团队').agg({'seo变化数据团队':len})\n",
    "grp3.rename(columns = {'seo变化数据团队':'当日注册并开户'},inplace=True)\n",
    "grp3.reset_index(inplace=True)\n",
    "grp3['人员2'] =grp3['seo变化数据团队'].str.lower()\n",
    "grp3.set_index('seo变化数据团队',inplace=True)\n",
    "grp3"
   ],
   "metadata": {
    "collapsed": false
   }
  },
  {
   "cell_type": "code",
   "execution_count": 11,
   "outputs": [
    {
     "data": {
      "text/plain": "          人员         日期     人员2    发送IP    接受IP  对比昨天(总IP)  对比前3天均值(总IP)  \\\n0      Paddy 2023-08-07   paddy     0.0    51.0        0.0           0.0   \n1       Tony 2023-08-07    tony   568.0  1136.0        0.0           0.0   \n2        Max 2023-08-07     max   273.0   225.0        0.0           0.0   \n3     Martin 2023-08-07  martin  3445.0  1072.0        0.0           0.0   \n4        Zed 2023-08-07     zed  4853.0   329.0        0.0           0.0   \n5       Hugo 2023-08-07    hugo   103.0     0.0        0.0           0.0   \n6       Aber 2023-08-07    aber  7325.0   562.0        0.0           0.0   \n7         DK 2023-08-07      dk  1525.0  2160.0        0.0           0.0   \n8        Ben 2023-08-07     ben  2565.0   298.0        0.0           0.0   \n9        NaN        NaT     NaN     NaN     NaN        NaN           NaN   \n10       NaN        NaT     NaN     NaN     NaN        NaN           NaN   \n当日汇总     NaN        NaT     NaN     NaN     NaN        NaN           NaN   \n\n      对比前5天均值(总IP)  对比前7天均值(总IP)  对比昨天(总注册)  对比前3天均值(总注册)  对比前5天均值(总注册)  \\\n0              0.0           0.0        0.0           0.0           0.0   \n1              0.0           0.0        0.0           0.0           0.0   \n2              0.0           0.0        0.0           0.0           0.0   \n3              0.0           0.0        0.0           0.0           0.0   \n4              0.0           0.0        0.0           0.0           0.0   \n5              0.0           0.0        0.0           0.0           0.0   \n6              0.0           0.0        0.0           0.0           0.0   \n7              0.0           0.0        0.0           0.0           0.0   \n8              0.0           0.0        0.0           0.0           0.0   \n9              NaN           NaN        NaN           NaN           NaN   \n10             NaN           NaN        NaN           NaN           NaN   \n当日汇总           NaN           NaN        NaN           NaN           NaN   \n\n      对比前7天均值(总注册)  对比昨天(总开户)  对比前3天均值(总开户)  对比前5天均值(总开户)  对比前7天均值(总开户)  \\\n0              0.0        0.0           0.0           0.0           0.0   \n1              0.0        0.0           0.0           0.0           0.0   \n2              0.0        0.0           0.0           0.0           0.0   \n3              0.0        0.0           0.0           0.0           0.0   \n4              0.0        0.0           0.0           0.0           0.0   \n5              0.0        0.0           0.0           0.0           0.0   \n6              0.0        0.0           0.0           0.0           0.0   \n7              0.0        0.0           0.0           0.0           0.0   \n8              0.0        0.0           0.0           0.0           0.0   \n9              NaN        NaN           NaN           NaN           NaN   \n10             NaN        NaN           NaN           NaN           NaN   \n当日汇总           NaN        NaN           NaN           NaN           NaN   \n\n         注册        注册率    开户         转化率  当日注册并开户     当日注册激活率  \n0       3.0        inf   2.0   66.666667      2.0   66.666667  \n1      15.0   2.640845   3.0   20.000000      3.0   20.000000  \n2       9.0   3.296703   NaN         NaN      NaN         NaN  \n3      81.0   2.351234  24.0   29.629630     18.0   22.222222  \n4      22.0   0.453328   8.0   36.363636      8.0   36.363636  \n5      16.0  15.533981   5.0   31.250000      2.0   12.500000  \n6      49.0   0.668942  13.0   26.530612      9.0   18.367347  \n7      52.0   3.409836   5.0    9.615385      5.0    9.615385  \n8      17.0   0.662768   6.0   35.294118      3.0   17.647059  \n9     264.0        inf   NaN         NaN      NaN         NaN  \n10      NaN        NaN  66.0  255.350047      NaN         NaN  \n当日汇总    NaN        NaN   NaN         NaN     50.0  203.382316  ",
      "text/html": "<div>\n<style scoped>\n    .dataframe tbody tr th:only-of-type {\n        vertical-align: middle;\n    }\n\n    .dataframe tbody tr th {\n        vertical-align: top;\n    }\n\n    .dataframe thead th {\n        text-align: right;\n    }\n</style>\n<table border=\"1\" class=\"dataframe\">\n  <thead>\n    <tr style=\"text-align: right;\">\n      <th></th>\n      <th>人员</th>\n      <th>日期</th>\n      <th>人员2</th>\n      <th>发送IP</th>\n      <th>接受IP</th>\n      <th>对比昨天(总IP)</th>\n      <th>对比前3天均值(总IP)</th>\n      <th>对比前5天均值(总IP)</th>\n      <th>对比前7天均值(总IP)</th>\n      <th>对比昨天(总注册)</th>\n      <th>对比前3天均值(总注册)</th>\n      <th>对比前5天均值(总注册)</th>\n      <th>对比前7天均值(总注册)</th>\n      <th>对比昨天(总开户)</th>\n      <th>对比前3天均值(总开户)</th>\n      <th>对比前5天均值(总开户)</th>\n      <th>对比前7天均值(总开户)</th>\n      <th>注册</th>\n      <th>注册率</th>\n      <th>开户</th>\n      <th>转化率</th>\n      <th>当日注册并开户</th>\n      <th>当日注册激活率</th>\n    </tr>\n  </thead>\n  <tbody>\n    <tr>\n      <th>0</th>\n      <td>Paddy</td>\n      <td>2023-08-07</td>\n      <td>paddy</td>\n      <td>0.0</td>\n      <td>51.0</td>\n      <td>0.0</td>\n      <td>0.0</td>\n      <td>0.0</td>\n      <td>0.0</td>\n      <td>0.0</td>\n      <td>0.0</td>\n      <td>0.0</td>\n      <td>0.0</td>\n      <td>0.0</td>\n      <td>0.0</td>\n      <td>0.0</td>\n      <td>0.0</td>\n      <td>3.0</td>\n      <td>inf</td>\n      <td>2.0</td>\n      <td>66.666667</td>\n      <td>2.0</td>\n      <td>66.666667</td>\n    </tr>\n    <tr>\n      <th>1</th>\n      <td>Tony</td>\n      <td>2023-08-07</td>\n      <td>tony</td>\n      <td>568.0</td>\n      <td>1136.0</td>\n      <td>0.0</td>\n      <td>0.0</td>\n      <td>0.0</td>\n      <td>0.0</td>\n      <td>0.0</td>\n      <td>0.0</td>\n      <td>0.0</td>\n      <td>0.0</td>\n      <td>0.0</td>\n      <td>0.0</td>\n      <td>0.0</td>\n      <td>0.0</td>\n      <td>15.0</td>\n      <td>2.640845</td>\n      <td>3.0</td>\n      <td>20.000000</td>\n      <td>3.0</td>\n      <td>20.000000</td>\n    </tr>\n    <tr>\n      <th>2</th>\n      <td>Max</td>\n      <td>2023-08-07</td>\n      <td>max</td>\n      <td>273.0</td>\n      <td>225.0</td>\n      <td>0.0</td>\n      <td>0.0</td>\n      <td>0.0</td>\n      <td>0.0</td>\n      <td>0.0</td>\n      <td>0.0</td>\n      <td>0.0</td>\n      <td>0.0</td>\n      <td>0.0</td>\n      <td>0.0</td>\n      <td>0.0</td>\n      <td>0.0</td>\n      <td>9.0</td>\n      <td>3.296703</td>\n      <td>NaN</td>\n      <td>NaN</td>\n      <td>NaN</td>\n      <td>NaN</td>\n    </tr>\n    <tr>\n      <th>3</th>\n      <td>Martin</td>\n      <td>2023-08-07</td>\n      <td>martin</td>\n      <td>3445.0</td>\n      <td>1072.0</td>\n      <td>0.0</td>\n      <td>0.0</td>\n      <td>0.0</td>\n      <td>0.0</td>\n      <td>0.0</td>\n      <td>0.0</td>\n      <td>0.0</td>\n      <td>0.0</td>\n      <td>0.0</td>\n      <td>0.0</td>\n      <td>0.0</td>\n      <td>0.0</td>\n      <td>81.0</td>\n      <td>2.351234</td>\n      <td>24.0</td>\n      <td>29.629630</td>\n      <td>18.0</td>\n      <td>22.222222</td>\n    </tr>\n    <tr>\n      <th>4</th>\n      <td>Zed</td>\n      <td>2023-08-07</td>\n      <td>zed</td>\n      <td>4853.0</td>\n      <td>329.0</td>\n      <td>0.0</td>\n      <td>0.0</td>\n      <td>0.0</td>\n      <td>0.0</td>\n      <td>0.0</td>\n      <td>0.0</td>\n      <td>0.0</td>\n      <td>0.0</td>\n      <td>0.0</td>\n      <td>0.0</td>\n      <td>0.0</td>\n      <td>0.0</td>\n      <td>22.0</td>\n      <td>0.453328</td>\n      <td>8.0</td>\n      <td>36.363636</td>\n      <td>8.0</td>\n      <td>36.363636</td>\n    </tr>\n    <tr>\n      <th>5</th>\n      <td>Hugo</td>\n      <td>2023-08-07</td>\n      <td>hugo</td>\n      <td>103.0</td>\n      <td>0.0</td>\n      <td>0.0</td>\n      <td>0.0</td>\n      <td>0.0</td>\n      <td>0.0</td>\n      <td>0.0</td>\n      <td>0.0</td>\n      <td>0.0</td>\n      <td>0.0</td>\n      <td>0.0</td>\n      <td>0.0</td>\n      <td>0.0</td>\n      <td>0.0</td>\n      <td>16.0</td>\n      <td>15.533981</td>\n      <td>5.0</td>\n      <td>31.250000</td>\n      <td>2.0</td>\n      <td>12.500000</td>\n    </tr>\n    <tr>\n      <th>6</th>\n      <td>Aber</td>\n      <td>2023-08-07</td>\n      <td>aber</td>\n      <td>7325.0</td>\n      <td>562.0</td>\n      <td>0.0</td>\n      <td>0.0</td>\n      <td>0.0</td>\n      <td>0.0</td>\n      <td>0.0</td>\n      <td>0.0</td>\n      <td>0.0</td>\n      <td>0.0</td>\n      <td>0.0</td>\n      <td>0.0</td>\n      <td>0.0</td>\n      <td>0.0</td>\n      <td>49.0</td>\n      <td>0.668942</td>\n      <td>13.0</td>\n      <td>26.530612</td>\n      <td>9.0</td>\n      <td>18.367347</td>\n    </tr>\n    <tr>\n      <th>7</th>\n      <td>DK</td>\n      <td>2023-08-07</td>\n      <td>dk</td>\n      <td>1525.0</td>\n      <td>2160.0</td>\n      <td>0.0</td>\n      <td>0.0</td>\n      <td>0.0</td>\n      <td>0.0</td>\n      <td>0.0</td>\n      <td>0.0</td>\n      <td>0.0</td>\n      <td>0.0</td>\n      <td>0.0</td>\n      <td>0.0</td>\n      <td>0.0</td>\n      <td>0.0</td>\n      <td>52.0</td>\n      <td>3.409836</td>\n      <td>5.0</td>\n      <td>9.615385</td>\n      <td>5.0</td>\n      <td>9.615385</td>\n    </tr>\n    <tr>\n      <th>8</th>\n      <td>Ben</td>\n      <td>2023-08-07</td>\n      <td>ben</td>\n      <td>2565.0</td>\n      <td>298.0</td>\n      <td>0.0</td>\n      <td>0.0</td>\n      <td>0.0</td>\n      <td>0.0</td>\n      <td>0.0</td>\n      <td>0.0</td>\n      <td>0.0</td>\n      <td>0.0</td>\n      <td>0.0</td>\n      <td>0.0</td>\n      <td>0.0</td>\n      <td>0.0</td>\n      <td>17.0</td>\n      <td>0.662768</td>\n      <td>6.0</td>\n      <td>35.294118</td>\n      <td>3.0</td>\n      <td>17.647059</td>\n    </tr>\n    <tr>\n      <th>9</th>\n      <td>NaN</td>\n      <td>NaT</td>\n      <td>NaN</td>\n      <td>NaN</td>\n      <td>NaN</td>\n      <td>NaN</td>\n      <td>NaN</td>\n      <td>NaN</td>\n      <td>NaN</td>\n      <td>NaN</td>\n      <td>NaN</td>\n      <td>NaN</td>\n      <td>NaN</td>\n      <td>NaN</td>\n      <td>NaN</td>\n      <td>NaN</td>\n      <td>NaN</td>\n      <td>264.0</td>\n      <td>inf</td>\n      <td>NaN</td>\n      <td>NaN</td>\n      <td>NaN</td>\n      <td>NaN</td>\n    </tr>\n    <tr>\n      <th>10</th>\n      <td>NaN</td>\n      <td>NaT</td>\n      <td>NaN</td>\n      <td>NaN</td>\n      <td>NaN</td>\n      <td>NaN</td>\n      <td>NaN</td>\n      <td>NaN</td>\n      <td>NaN</td>\n      <td>NaN</td>\n      <td>NaN</td>\n      <td>NaN</td>\n      <td>NaN</td>\n      <td>NaN</td>\n      <td>NaN</td>\n      <td>NaN</td>\n      <td>NaN</td>\n      <td>NaN</td>\n      <td>NaN</td>\n      <td>66.0</td>\n      <td>255.350047</td>\n      <td>NaN</td>\n      <td>NaN</td>\n    </tr>\n    <tr>\n      <th>当日汇总</th>\n      <td>NaN</td>\n      <td>NaT</td>\n      <td>NaN</td>\n      <td>NaN</td>\n      <td>NaN</td>\n      <td>NaN</td>\n      <td>NaN</td>\n      <td>NaN</td>\n      <td>NaN</td>\n      <td>NaN</td>\n      <td>NaN</td>\n      <td>NaN</td>\n      <td>NaN</td>\n      <td>NaN</td>\n      <td>NaN</td>\n      <td>NaN</td>\n      <td>NaN</td>\n      <td>NaN</td>\n      <td>NaN</td>\n      <td>NaN</td>\n      <td>NaN</td>\n      <td>50.0</td>\n      <td>203.382316</td>\n    </tr>\n  </tbody>\n</table>\n</div>"
     },
     "execution_count": 11,
     "metadata": {},
     "output_type": "execute_result"
    }
   ],
   "source": [
    "shuju"
   ],
   "metadata": {
    "collapsed": false
   }
  },
  {
   "cell_type": "code",
   "execution_count": 12,
   "outputs": [
    {
     "ename": "KeyError",
     "evalue": "'注册'",
     "output_type": "error",
     "traceback": [
      "\u001B[1;31m---------------------------------------------------------------------------\u001B[0m",
      "\u001B[1;31mKeyError\u001B[0m                                  Traceback (most recent call last)",
      "File \u001B[1;32mC:\\ProgramData\\anaconda3\\envs\\schedule\\Lib\\site-packages\\pandas\\core\\indexes\\base.py:3802\u001B[0m, in \u001B[0;36mIndex.get_loc\u001B[1;34m(self, key, method, tolerance)\u001B[0m\n\u001B[0;32m   3801\u001B[0m \u001B[38;5;28;01mtry\u001B[39;00m:\n\u001B[1;32m-> 3802\u001B[0m     \u001B[38;5;28;01mreturn\u001B[39;00m \u001B[38;5;28mself\u001B[39m\u001B[38;5;241m.\u001B[39m_engine\u001B[38;5;241m.\u001B[39mget_loc(casted_key)\n\u001B[0;32m   3803\u001B[0m \u001B[38;5;28;01mexcept\u001B[39;00m \u001B[38;5;167;01mKeyError\u001B[39;00m \u001B[38;5;28;01mas\u001B[39;00m err:\n",
      "File \u001B[1;32mC:\\ProgramData\\anaconda3\\envs\\schedule\\Lib\\site-packages\\pandas\\_libs\\index.pyx:138\u001B[0m, in \u001B[0;36mpandas._libs.index.IndexEngine.get_loc\u001B[1;34m()\u001B[0m\n",
      "File \u001B[1;32mC:\\ProgramData\\anaconda3\\envs\\schedule\\Lib\\site-packages\\pandas\\_libs\\index.pyx:165\u001B[0m, in \u001B[0;36mpandas._libs.index.IndexEngine.get_loc\u001B[1;34m()\u001B[0m\n",
      "File \u001B[1;32mpandas\\_libs\\hashtable_class_helper.pxi:5745\u001B[0m, in \u001B[0;36mpandas._libs.hashtable.PyObjectHashTable.get_item\u001B[1;34m()\u001B[0m\n",
      "File \u001B[1;32mpandas\\_libs\\hashtable_class_helper.pxi:5753\u001B[0m, in \u001B[0;36mpandas._libs.hashtable.PyObjectHashTable.get_item\u001B[1;34m()\u001B[0m\n",
      "\u001B[1;31mKeyError\u001B[0m: '注册'",
      "\nThe above exception was the direct cause of the following exception:\n",
      "\u001B[1;31mKeyError\u001B[0m                                  Traceback (most recent call last)",
      "Cell \u001B[1;32mIn[12], line 2\u001B[0m\n\u001B[0;32m      1\u001B[0m shuju \u001B[38;5;241m=\u001B[39m pd\u001B[38;5;241m.\u001B[39mmerge(shuju,grpSEO,on\u001B[38;5;241m=\u001B[39m\u001B[38;5;124m'\u001B[39m\u001B[38;5;124m人员2\u001B[39m\u001B[38;5;124m'\u001B[39m)\n\u001B[1;32m----> 2\u001B[0m shuju[\u001B[38;5;124m'\u001B[39m\u001B[38;5;124m注册率\u001B[39m\u001B[38;5;124m'\u001B[39m] \u001B[38;5;241m=\u001B[39m shuju[\u001B[38;5;124m'\u001B[39m\u001B[38;5;124m注册\u001B[39m\u001B[38;5;124m'\u001B[39m]\u001B[38;5;241m/\u001B[39mshuju[\u001B[38;5;124m'\u001B[39m\u001B[38;5;124m发送IP\u001B[39m\u001B[38;5;124m'\u001B[39m]\u001B[38;5;241m*\u001B[39m\u001B[38;5;241m100\u001B[39m\n\u001B[0;32m      3\u001B[0m shuju\u001B[38;5;241m.\u001B[39mloc[\u001B[38;5;124m'\u001B[39m\u001B[38;5;124m当日汇总\u001B[39m\u001B[38;5;124m'\u001B[39m,\u001B[38;5;124m'\u001B[39m\u001B[38;5;124m注册\u001B[39m\u001B[38;5;124m'\u001B[39m]\u001B[38;5;241m=\u001B[39mshuju[\u001B[38;5;124m'\u001B[39m\u001B[38;5;124m注册\u001B[39m\u001B[38;5;124m'\u001B[39m]\u001B[38;5;241m.\u001B[39msum()\n\u001B[0;32m      4\u001B[0m shuju\u001B[38;5;241m.\u001B[39mloc[\u001B[38;5;124m'\u001B[39m\u001B[38;5;124m当日汇总\u001B[39m\u001B[38;5;124m'\u001B[39m,\u001B[38;5;124m'\u001B[39m\u001B[38;5;124m注册率\u001B[39m\u001B[38;5;124m'\u001B[39m]\u001B[38;5;241m=\u001B[39mshuju[\u001B[38;5;124m'\u001B[39m\u001B[38;5;124m注册率\u001B[39m\u001B[38;5;124m'\u001B[39m]\u001B[38;5;241m.\u001B[39msum()\n",
      "File \u001B[1;32mC:\\ProgramData\\anaconda3\\envs\\schedule\\Lib\\site-packages\\pandas\\core\\frame.py:3807\u001B[0m, in \u001B[0;36mDataFrame.__getitem__\u001B[1;34m(self, key)\u001B[0m\n\u001B[0;32m   3805\u001B[0m \u001B[38;5;28;01mif\u001B[39;00m \u001B[38;5;28mself\u001B[39m\u001B[38;5;241m.\u001B[39mcolumns\u001B[38;5;241m.\u001B[39mnlevels \u001B[38;5;241m>\u001B[39m \u001B[38;5;241m1\u001B[39m:\n\u001B[0;32m   3806\u001B[0m     \u001B[38;5;28;01mreturn\u001B[39;00m \u001B[38;5;28mself\u001B[39m\u001B[38;5;241m.\u001B[39m_getitem_multilevel(key)\n\u001B[1;32m-> 3807\u001B[0m indexer \u001B[38;5;241m=\u001B[39m \u001B[38;5;28mself\u001B[39m\u001B[38;5;241m.\u001B[39mcolumns\u001B[38;5;241m.\u001B[39mget_loc(key)\n\u001B[0;32m   3808\u001B[0m \u001B[38;5;28;01mif\u001B[39;00m is_integer(indexer):\n\u001B[0;32m   3809\u001B[0m     indexer \u001B[38;5;241m=\u001B[39m [indexer]\n",
      "File \u001B[1;32mC:\\ProgramData\\anaconda3\\envs\\schedule\\Lib\\site-packages\\pandas\\core\\indexes\\base.py:3804\u001B[0m, in \u001B[0;36mIndex.get_loc\u001B[1;34m(self, key, method, tolerance)\u001B[0m\n\u001B[0;32m   3802\u001B[0m     \u001B[38;5;28;01mreturn\u001B[39;00m \u001B[38;5;28mself\u001B[39m\u001B[38;5;241m.\u001B[39m_engine\u001B[38;5;241m.\u001B[39mget_loc(casted_key)\n\u001B[0;32m   3803\u001B[0m \u001B[38;5;28;01mexcept\u001B[39;00m \u001B[38;5;167;01mKeyError\u001B[39;00m \u001B[38;5;28;01mas\u001B[39;00m err:\n\u001B[1;32m-> 3804\u001B[0m     \u001B[38;5;28;01mraise\u001B[39;00m \u001B[38;5;167;01mKeyError\u001B[39;00m(key) \u001B[38;5;28;01mfrom\u001B[39;00m \u001B[38;5;21;01merr\u001B[39;00m\n\u001B[0;32m   3805\u001B[0m \u001B[38;5;28;01mexcept\u001B[39;00m \u001B[38;5;167;01mTypeError\u001B[39;00m:\n\u001B[0;32m   3806\u001B[0m     \u001B[38;5;66;03m# If we have a listlike key, _check_indexing_error will raise\u001B[39;00m\n\u001B[0;32m   3807\u001B[0m     \u001B[38;5;66;03m#  InvalidIndexError. Otherwise we fall through and re-raise\u001B[39;00m\n\u001B[0;32m   3808\u001B[0m     \u001B[38;5;66;03m#  the TypeError.\u001B[39;00m\n\u001B[0;32m   3809\u001B[0m     \u001B[38;5;28mself\u001B[39m\u001B[38;5;241m.\u001B[39m_check_indexing_error(key)\n",
      "\u001B[1;31mKeyError\u001B[0m: '注册'"
     ]
    }
   ],
   "source": [
    "shuju = pd.merge(shuju,grpSEO,on='人员2')\n",
    "shuju['注册率'] = shuju['注册']/shuju['发送IP']*100\n",
    "shuju.loc['当日汇总','注册']=shuju['注册'].sum()\n",
    "shuju.loc['当日汇总','注册率']=shuju['注册率'].sum()\n",
    "# 第2次merge\n",
    "shuju = pd.merge(shuju,grpCHARGE,how='left',on='人员2')\n",
    "shuju['转化率'] = shuju['开户']/shuju['注册']*100\n",
    "shuju.loc['当日汇总','开户']=shuju['开户'].sum()\n",
    "shuju.loc['当日汇总','转化率']=shuju['转化率'].sum()\n",
    "shuju  = pd.merge(shuju,grp3,how='left',on='人员2')\n",
    "shuju['当日注册激活率'] = shuju['当日注册并开户']/shuju['注册']*100\n",
    "shuju.loc['当日汇总','当日注册并开户']=shuju['当日注册并开户'].sum()\n",
    "shuju.loc['当日汇总','当日注册激活率']=shuju['当日注册激活率'].sum()\n",
    "shuju"
   ],
   "metadata": {
    "collapsed": false
   }
  }
 ],
 "metadata": {
  "kernelspec": {
   "display_name": "Python 3",
   "language": "python",
   "name": "python3"
  },
  "language_info": {
   "codemirror_mode": {
    "name": "ipython",
    "version": 2
   },
   "file_extension": ".py",
   "mimetype": "text/x-python",
   "name": "python",
   "nbconvert_exporter": "python",
   "pygments_lexer": "ipython2",
   "version": "2.7.6"
  }
 },
 "nbformat": 4,
 "nbformat_minor": 0
}
