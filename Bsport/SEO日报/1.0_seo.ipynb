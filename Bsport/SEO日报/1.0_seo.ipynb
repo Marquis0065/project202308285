{
 "cells": [
  {
   "cell_type": "code",
   "execution_count": 1,
   "outputs": [],
   "source": [
    "import datetime\n",
    "\n",
    "from IPython.core.interactiveshell import InteractiveShell\n",
    "InteractiveShell.ast_node_interactivity = 'all'"
   ],
   "metadata": {
    "collapsed": false
   }
  },
  {
   "cell_type": "code",
   "execution_count": 2,
   "outputs": [
    {
     "data": {
      "text/plain": "'C:\\\\ProgramData\\\\anaconda3\\\\envs\\\\telegram\\\\lib\\\\os.py'"
     },
     "execution_count": 2,
     "metadata": {},
     "output_type": "execute_result"
    },
    {
     "data": {
      "text/plain": "'C:\\\\Users\\\\User\\\\IdeaProjects\\\\project1\\\\Bsport\\\\SEO日报'"
     },
     "execution_count": 2,
     "metadata": {},
     "output_type": "execute_result"
    }
   ],
   "source": [
    "import os\n",
    "os.__file__\n",
    "os.getcwd()"
   ],
   "metadata": {
    "collapsed": false
   }
  },
  {
   "cell_type": "code",
   "execution_count": 7,
   "outputs": [
    {
     "data": {
      "text/plain": "'C:\\\\Users\\\\User\\\\IdeaProjects\\\\project1\\\\Bsport\\\\SEO日报\\\\源数据'"
     },
     "execution_count": 7,
     "metadata": {},
     "output_type": "execute_result"
    }
   ],
   "source": [
    "os.getcwd()"
   ],
   "metadata": {
    "collapsed": false
   }
  },
  {
   "cell_type": "code",
   "execution_count": 2,
   "outputs": [
    {
     "data": {
      "text/plain": "'C:\\\\ProgramData\\\\anaconda3\\\\envs\\\\telegram\\\\lib\\\\os.py'"
     },
     "execution_count": 2,
     "metadata": {},
     "output_type": "execute_result"
    }
   ],
   "source": [
    "import os\n",
    "os.__file__"
   ],
   "metadata": {
    "collapsed": false
   }
  },
  {
   "cell_type": "code",
   "execution_count": 2,
   "outputs": [
    {
     "data": {
      "text/plain": "'C:\\\\ProgramData\\\\anaconda3\\\\envs\\\\telegram\\\\lib\\\\os.py'"
     },
     "execution_count": 1,
     "metadata": {},
     "output_type": "execute_result"
    },
    {
     "data": {
      "text/plain": "'C:\\\\ProgramData\\\\anaconda3\\\\envs\\\\telegram\\\\lib\\\\os.py'"
     },
     "execution_count": 2,
     "metadata": {},
     "output_type": "execute_result"
    }
   ],
   "source": [
    "import os\n",
    "os.__file__"
   ],
   "metadata": {
    "collapsed": false
   }
  },
  {
   "cell_type": "code",
   "execution_count": 2,
   "outputs": [
    {
     "data": {
      "text/plain": "'C:\\\\ProgramData\\\\anaconda3\\\\envs\\\\telegram\\\\python.exe'"
     },
     "execution_count": 2,
     "metadata": {},
     "output_type": "execute_result"
    }
   ],
   "source": [
    "import sys\n",
    "sys.executable"
   ],
   "metadata": {
    "collapsed": false
   }
  },
  {
   "cell_type": "code",
   "execution_count": 3,
   "outputs": [
    {
     "data": {
      "text/plain": "          会员账号   姓名         手机号码       代理  国家     玩家层级 层级状态 VIP等级 VIP状态   币种  \\\n0      ysb1757  殷赛兵  155****1757    admin  中国   初审后层级2   锁定  VIP1   未锁定  CNY   \n1    Vuarong39  NaN    907****65  gfas001  越南  新注册默认层级  未锁定  VIP0   未锁定  VND   \n2   biiuhieu94  NaN          NaN  gfas001  越南  新注册默认层级  未锁定  VIP0   未锁定  VND   \n3  Suyengo1997  NaN    563****72  gfas001  越南  新注册默认层级  未锁定  VIP0   未锁定  VND   \n4     Nnta2376  NaN          NaN  gfas001  越南  新注册默认层级  未锁定  VIP0   未锁定  VND   \n\n   ...             注册IP              注册域名 注册端           首充时间          最后登陆时间  \\\n0  ...   222.84.188.187        m.bty9.com  H5  2023/8/8 0:27  2023/8/8 12:17   \n1  ...    58.186.14.175  m-sn7.btytg3.com  H5              -   2023/8/8 0:07   \n2  ...   14.191.197.244  m-sn7.btytg2.com  H5              -  2023/8/7 23:58   \n3  ...  171.253.132.164  m-sn7.btytg3.com  H5              -  2023/8/7 23:57   \n4  ...    171.236.4.170  m-sn7.btytg3.com  H5              -  2023/8/8 11:37   \n\n            最后登陆IP     注册IP属地 最后登陆IP属地（登录成功）  状态   备注  \n0   222.84.188.187  中国|广西|桂林|      中国|广西|桂林|  正常  NaN  \n1    58.186.14.175    越南|河内||        越南|河内||  正常  NaN  \n2   14.191.197.244    越南|同奈||        越南|同奈||  正常  NaN  \n3  171.253.132.164   越南|胡志明||       越南|胡志明||  正常  NaN  \n4    171.236.4.169    越南|海阳||        越南|海阳||  正常  NaN  \n\n[5 rows x 23 columns]",
      "text/html": "<div>\n<style scoped>\n    .dataframe tbody tr th:only-of-type {\n        vertical-align: middle;\n    }\n\n    .dataframe tbody tr th {\n        vertical-align: top;\n    }\n\n    .dataframe thead th {\n        text-align: right;\n    }\n</style>\n<table border=\"1\" class=\"dataframe\">\n  <thead>\n    <tr style=\"text-align: right;\">\n      <th></th>\n      <th>会员账号</th>\n      <th>姓名</th>\n      <th>手机号码</th>\n      <th>代理</th>\n      <th>国家</th>\n      <th>玩家层级</th>\n      <th>层级状态</th>\n      <th>VIP等级</th>\n      <th>VIP状态</th>\n      <th>币种</th>\n      <th>...</th>\n      <th>注册IP</th>\n      <th>注册域名</th>\n      <th>注册端</th>\n      <th>首充时间</th>\n      <th>最后登陆时间</th>\n      <th>最后登陆IP</th>\n      <th>注册IP属地</th>\n      <th>最后登陆IP属地（登录成功）</th>\n      <th>状态</th>\n      <th>备注</th>\n    </tr>\n  </thead>\n  <tbody>\n    <tr>\n      <th>0</th>\n      <td>ysb1757</td>\n      <td>殷赛兵</td>\n      <td>155****1757</td>\n      <td>admin</td>\n      <td>中国</td>\n      <td>初审后层级2</td>\n      <td>锁定</td>\n      <td>VIP1</td>\n      <td>未锁定</td>\n      <td>CNY</td>\n      <td>...</td>\n      <td>222.84.188.187</td>\n      <td>m.bty9.com</td>\n      <td>H5</td>\n      <td>2023/8/8 0:27</td>\n      <td>2023/8/8 12:17</td>\n      <td>222.84.188.187</td>\n      <td>中国|广西|桂林|</td>\n      <td>中国|广西|桂林|</td>\n      <td>正常</td>\n      <td>NaN</td>\n    </tr>\n    <tr>\n      <th>1</th>\n      <td>Vuarong39</td>\n      <td>NaN</td>\n      <td>907****65</td>\n      <td>gfas001</td>\n      <td>越南</td>\n      <td>新注册默认层级</td>\n      <td>未锁定</td>\n      <td>VIP0</td>\n      <td>未锁定</td>\n      <td>VND</td>\n      <td>...</td>\n      <td>58.186.14.175</td>\n      <td>m-sn7.btytg3.com</td>\n      <td>H5</td>\n      <td>-</td>\n      <td>2023/8/8 0:07</td>\n      <td>58.186.14.175</td>\n      <td>越南|河内||</td>\n      <td>越南|河内||</td>\n      <td>正常</td>\n      <td>NaN</td>\n    </tr>\n    <tr>\n      <th>2</th>\n      <td>biiuhieu94</td>\n      <td>NaN</td>\n      <td>NaN</td>\n      <td>gfas001</td>\n      <td>越南</td>\n      <td>新注册默认层级</td>\n      <td>未锁定</td>\n      <td>VIP0</td>\n      <td>未锁定</td>\n      <td>VND</td>\n      <td>...</td>\n      <td>14.191.197.244</td>\n      <td>m-sn7.btytg2.com</td>\n      <td>H5</td>\n      <td>-</td>\n      <td>2023/8/7 23:58</td>\n      <td>14.191.197.244</td>\n      <td>越南|同奈||</td>\n      <td>越南|同奈||</td>\n      <td>正常</td>\n      <td>NaN</td>\n    </tr>\n    <tr>\n      <th>3</th>\n      <td>Suyengo1997</td>\n      <td>NaN</td>\n      <td>563****72</td>\n      <td>gfas001</td>\n      <td>越南</td>\n      <td>新注册默认层级</td>\n      <td>未锁定</td>\n      <td>VIP0</td>\n      <td>未锁定</td>\n      <td>VND</td>\n      <td>...</td>\n      <td>171.253.132.164</td>\n      <td>m-sn7.btytg3.com</td>\n      <td>H5</td>\n      <td>-</td>\n      <td>2023/8/7 23:57</td>\n      <td>171.253.132.164</td>\n      <td>越南|胡志明||</td>\n      <td>越南|胡志明||</td>\n      <td>正常</td>\n      <td>NaN</td>\n    </tr>\n    <tr>\n      <th>4</th>\n      <td>Nnta2376</td>\n      <td>NaN</td>\n      <td>NaN</td>\n      <td>gfas001</td>\n      <td>越南</td>\n      <td>新注册默认层级</td>\n      <td>未锁定</td>\n      <td>VIP0</td>\n      <td>未锁定</td>\n      <td>VND</td>\n      <td>...</td>\n      <td>171.236.4.170</td>\n      <td>m-sn7.btytg3.com</td>\n      <td>H5</td>\n      <td>-</td>\n      <td>2023/8/8 11:37</td>\n      <td>171.236.4.169</td>\n      <td>越南|海阳||</td>\n      <td>越南|海阳||</td>\n      <td>正常</td>\n      <td>NaN</td>\n    </tr>\n  </tbody>\n</table>\n<p>5 rows × 23 columns</p>\n</div>"
     },
     "execution_count": 3,
     "metadata": {},
     "output_type": "execute_result"
    }
   ],
   "source": [
    "import pandas as pd\n",
    "user = pd.read_csv(r'C:\\Users\\User\\Desktop\\SEO_0807\\会员列表导出.csv',encoding='gbk')\n",
    "user.shape\n",
    "user.head()"
   ],
   "metadata": {
    "collapsed": false
   }
  },
  {
   "cell_type": "code",
   "execution_count": 4,
   "outputs": [
    {
     "data": {
      "text/plain": "(466, 7)"
     },
     "execution_count": 4,
     "metadata": {},
     "output_type": "execute_result"
    }
   ],
   "source": [
    "firChargeUser = pd.read_csv(r'C:\\Users\\User\\Desktop\\SEO_0807\\会员首存报表.csv',encoding='gbk')\n",
    "firChargeUser.head()\n",
    "firChargeUser.shape"
   ],
   "metadata": {
    "collapsed": false
   }
  },
  {
   "cell_type": "code",
   "execution_count": 5,
   "outputs": [
    {
     "name": "stderr",
     "output_type": "stream",
     "text": [
      "C:\\ProgramData\\anaconda3\\envs\\telegram\\lib\\site-packages\\openpyxl\\styles\\stylesheet.py:226: UserWarning: Workbook contains no default style, apply openpyxl's default\n",
      "  warn(\"Workbook contains no default style, apply openpyxl's default\")\n"
     ]
    },
    {
     "data": {
      "text/plain": "  网站名(domain)          日期  PV  UV  IP\n0  martin.com  2023/08/07  --  --  --\n1  martin.com  2023/08/07  --  --  --\n2  martin.com  2023/08/07  --  --  --\n3  martin.com  2023/08/07  --  --  --\n4  martin.com  2023/08/07  --  --  --",
      "text/html": "<div>\n<style scoped>\n    .dataframe tbody tr th:only-of-type {\n        vertical-align: middle;\n    }\n\n    .dataframe tbody tr th {\n        vertical-align: top;\n    }\n\n    .dataframe thead th {\n        text-align: right;\n    }\n</style>\n<table border=\"1\" class=\"dataframe\">\n  <thead>\n    <tr style=\"text-align: right;\">\n      <th></th>\n      <th>网站名(domain)</th>\n      <th>日期</th>\n      <th>PV</th>\n      <th>UV</th>\n      <th>IP</th>\n    </tr>\n  </thead>\n  <tbody>\n    <tr>\n      <th>0</th>\n      <td>martin.com</td>\n      <td>2023/08/07</td>\n      <td>--</td>\n      <td>--</td>\n      <td>--</td>\n    </tr>\n    <tr>\n      <th>1</th>\n      <td>martin.com</td>\n      <td>2023/08/07</td>\n      <td>--</td>\n      <td>--</td>\n      <td>--</td>\n    </tr>\n    <tr>\n      <th>2</th>\n      <td>martin.com</td>\n      <td>2023/08/07</td>\n      <td>--</td>\n      <td>--</td>\n      <td>--</td>\n    </tr>\n    <tr>\n      <th>3</th>\n      <td>martin.com</td>\n      <td>2023/08/07</td>\n      <td>--</td>\n      <td>--</td>\n      <td>--</td>\n    </tr>\n    <tr>\n      <th>4</th>\n      <td>martin.com</td>\n      <td>2023/08/07</td>\n      <td>--</td>\n      <td>--</td>\n      <td>--</td>\n    </tr>\n  </tbody>\n</table>\n</div>"
     },
     "execution_count": 5,
     "metadata": {},
     "output_type": "execute_result"
    }
   ],
   "source": [
    "data = pd.read_excel(r'C:\\Users\\User\\Desktop\\SEO_0807\\data\\今日数据.xlsx')\n",
    "data.shape\n",
    "data.head()"
   ],
   "metadata": {
    "collapsed": false
   }
  },
  {
   "cell_type": "code",
   "execution_count": 6,
   "outputs": [
    {
     "data": {
      "text/plain": "                  IP\n网站名(domain)         \naber.bty       562.0\naber.com     14650.0\naber.zb          0.0\naber.zz          0.0\nalen.bty         0.0\nben.bty        298.0\nben.com       5130.0\nben.zb           4.0\nben.zz           0.0\nbike.bty         1.0\nbilly.com        0.0\ndazhi.bty        2.0\ndazhi.com       98.0\ndk.bty        2160.0\ndk.com        3050.0\ndk.zb           90.0\ndk.zz            0.0\nduobo.bty       37.0\nduobo.com        0.0\ngroot.com        0.0\nhugo.cn          0.0\nhugo.com       103.0\nhugo.kty         0.0\nhugo.zb         31.0\nhugo.zz          0.0\nkiwi.com         3.0\nleslie.com       0.0\nmartin.bty    1072.0\nmartin.com       0.0\nmartin.pd        0.0\nmartin.zb       51.0\nmartin.zz        0.0\nmax.bty        225.0\nmax.zb           1.0\nmax.zz           0.0\nmaxmile.com    285.0\nmulu.com       273.0\npaddy.bty       51.0\npaddy.com        0.0\npaddy.zz         0.0\npeter.bty      183.0\nredquan.com   3445.0\ntony.bty       427.0\ntony.zb          0.0\ntony.zz          0.0\ntonyb.com     1136.0\nzed.bty        329.0\nzed.cn           0.0\nzed.com       4853.0\nzed.kty          0.0\nzed.zb           0.0\nzed.zz           0.0",
      "text/html": "<div>\n<style scoped>\n    .dataframe tbody tr th:only-of-type {\n        vertical-align: middle;\n    }\n\n    .dataframe tbody tr th {\n        vertical-align: top;\n    }\n\n    .dataframe thead th {\n        text-align: right;\n    }\n</style>\n<table border=\"1\" class=\"dataframe\">\n  <thead>\n    <tr style=\"text-align: right;\">\n      <th></th>\n      <th>IP</th>\n    </tr>\n    <tr>\n      <th>网站名(domain)</th>\n      <th></th>\n    </tr>\n  </thead>\n  <tbody>\n    <tr>\n      <th>aber.bty</th>\n      <td>562.0</td>\n    </tr>\n    <tr>\n      <th>aber.com</th>\n      <td>14650.0</td>\n    </tr>\n    <tr>\n      <th>aber.zb</th>\n      <td>0.0</td>\n    </tr>\n    <tr>\n      <th>aber.zz</th>\n      <td>0.0</td>\n    </tr>\n    <tr>\n      <th>alen.bty</th>\n      <td>0.0</td>\n    </tr>\n    <tr>\n      <th>ben.bty</th>\n      <td>298.0</td>\n    </tr>\n    <tr>\n      <th>ben.com</th>\n      <td>5130.0</td>\n    </tr>\n    <tr>\n      <th>ben.zb</th>\n      <td>4.0</td>\n    </tr>\n    <tr>\n      <th>ben.zz</th>\n      <td>0.0</td>\n    </tr>\n    <tr>\n      <th>bike.bty</th>\n      <td>1.0</td>\n    </tr>\n    <tr>\n      <th>billy.com</th>\n      <td>0.0</td>\n    </tr>\n    <tr>\n      <th>dazhi.bty</th>\n      <td>2.0</td>\n    </tr>\n    <tr>\n      <th>dazhi.com</th>\n      <td>98.0</td>\n    </tr>\n    <tr>\n      <th>dk.bty</th>\n      <td>2160.0</td>\n    </tr>\n    <tr>\n      <th>dk.com</th>\n      <td>3050.0</td>\n    </tr>\n    <tr>\n      <th>dk.zb</th>\n      <td>90.0</td>\n    </tr>\n    <tr>\n      <th>dk.zz</th>\n      <td>0.0</td>\n    </tr>\n    <tr>\n      <th>duobo.bty</th>\n      <td>37.0</td>\n    </tr>\n    <tr>\n      <th>duobo.com</th>\n      <td>0.0</td>\n    </tr>\n    <tr>\n      <th>groot.com</th>\n      <td>0.0</td>\n    </tr>\n    <tr>\n      <th>hugo.cn</th>\n      <td>0.0</td>\n    </tr>\n    <tr>\n      <th>hugo.com</th>\n      <td>103.0</td>\n    </tr>\n    <tr>\n      <th>hugo.kty</th>\n      <td>0.0</td>\n    </tr>\n    <tr>\n      <th>hugo.zb</th>\n      <td>31.0</td>\n    </tr>\n    <tr>\n      <th>hugo.zz</th>\n      <td>0.0</td>\n    </tr>\n    <tr>\n      <th>kiwi.com</th>\n      <td>3.0</td>\n    </tr>\n    <tr>\n      <th>leslie.com</th>\n      <td>0.0</td>\n    </tr>\n    <tr>\n      <th>martin.bty</th>\n      <td>1072.0</td>\n    </tr>\n    <tr>\n      <th>martin.com</th>\n      <td>0.0</td>\n    </tr>\n    <tr>\n      <th>martin.pd</th>\n      <td>0.0</td>\n    </tr>\n    <tr>\n      <th>martin.zb</th>\n      <td>51.0</td>\n    </tr>\n    <tr>\n      <th>martin.zz</th>\n      <td>0.0</td>\n    </tr>\n    <tr>\n      <th>max.bty</th>\n      <td>225.0</td>\n    </tr>\n    <tr>\n      <th>max.zb</th>\n      <td>1.0</td>\n    </tr>\n    <tr>\n      <th>max.zz</th>\n      <td>0.0</td>\n    </tr>\n    <tr>\n      <th>maxmile.com</th>\n      <td>285.0</td>\n    </tr>\n    <tr>\n      <th>mulu.com</th>\n      <td>273.0</td>\n    </tr>\n    <tr>\n      <th>paddy.bty</th>\n      <td>51.0</td>\n    </tr>\n    <tr>\n      <th>paddy.com</th>\n      <td>0.0</td>\n    </tr>\n    <tr>\n      <th>paddy.zz</th>\n      <td>0.0</td>\n    </tr>\n    <tr>\n      <th>peter.bty</th>\n      <td>183.0</td>\n    </tr>\n    <tr>\n      <th>redquan.com</th>\n      <td>3445.0</td>\n    </tr>\n    <tr>\n      <th>tony.bty</th>\n      <td>427.0</td>\n    </tr>\n    <tr>\n      <th>tony.zb</th>\n      <td>0.0</td>\n    </tr>\n    <tr>\n      <th>tony.zz</th>\n      <td>0.0</td>\n    </tr>\n    <tr>\n      <th>tonyb.com</th>\n      <td>1136.0</td>\n    </tr>\n    <tr>\n      <th>zed.bty</th>\n      <td>329.0</td>\n    </tr>\n    <tr>\n      <th>zed.cn</th>\n      <td>0.0</td>\n    </tr>\n    <tr>\n      <th>zed.com</th>\n      <td>4853.0</td>\n    </tr>\n    <tr>\n      <th>zed.kty</th>\n      <td>0.0</td>\n    </tr>\n    <tr>\n      <th>zed.zb</th>\n      <td>0.0</td>\n    </tr>\n    <tr>\n      <th>zed.zz</th>\n      <td>0.0</td>\n    </tr>\n  </tbody>\n</table>\n</div>"
     },
     "execution_count": 6,
     "metadata": {},
     "output_type": "execute_result"
    }
   ],
   "source": [
    "import numpy as np\n",
    "data['IP']=pd.to_numeric(data['IP'],errors='coerce').replace(np.nan,0)\n",
    "grp=data.groupby('网站名(domain)').agg({'IP':sum})\n",
    "grp"
   ],
   "metadata": {
    "collapsed": false
   }
  },
  {
   "cell_type": "code",
   "execution_count": 9,
   "outputs": [],
   "source": [
    "tem = pd.read_clipboard()"
   ],
   "metadata": {
    "collapsed": false
   }
  },
  {
   "cell_type": "code",
   "execution_count": 10,
   "outputs": [
    {
     "data": {
      "text/plain": "['Paddy', 'Tony', 'Max', 'Martin', 'Zed', 'Hugo', 'Aber', 'DK', 'Ben']"
     },
     "execution_count": 10,
     "metadata": {},
     "output_type": "execute_result"
    }
   ],
   "source": [
    "list(tem['人员'])"
   ],
   "metadata": {
    "collapsed": false
   }
  },
  {
   "cell_type": "code",
   "execution_count": 11,
   "outputs": [
    {
     "data": {
      "text/plain": "       人员  发送IP  接受IP\n0   Paddy     0     0\n1    Tony     1     1\n2     Max     2     2\n3  Martin     3     3\n4     Zed     4     4\n5    Hugo     5     5\n6    Aber     6     6\n7      DK     7     7\n8     Ben     8     8",
      "text/html": "<div>\n<style scoped>\n    .dataframe tbody tr th:only-of-type {\n        vertical-align: middle;\n    }\n\n    .dataframe tbody tr th {\n        vertical-align: top;\n    }\n\n    .dataframe thead th {\n        text-align: right;\n    }\n</style>\n<table border=\"1\" class=\"dataframe\">\n  <thead>\n    <tr style=\"text-align: right;\">\n      <th></th>\n      <th>人员</th>\n      <th>发送IP</th>\n      <th>接受IP</th>\n    </tr>\n  </thead>\n  <tbody>\n    <tr>\n      <th>0</th>\n      <td>Paddy</td>\n      <td>0</td>\n      <td>0</td>\n    </tr>\n    <tr>\n      <th>1</th>\n      <td>Tony</td>\n      <td>1</td>\n      <td>1</td>\n    </tr>\n    <tr>\n      <th>2</th>\n      <td>Max</td>\n      <td>2</td>\n      <td>2</td>\n    </tr>\n    <tr>\n      <th>3</th>\n      <td>Martin</td>\n      <td>3</td>\n      <td>3</td>\n    </tr>\n    <tr>\n      <th>4</th>\n      <td>Zed</td>\n      <td>4</td>\n      <td>4</td>\n    </tr>\n    <tr>\n      <th>5</th>\n      <td>Hugo</td>\n      <td>5</td>\n      <td>5</td>\n    </tr>\n    <tr>\n      <th>6</th>\n      <td>Aber</td>\n      <td>6</td>\n      <td>6</td>\n    </tr>\n    <tr>\n      <th>7</th>\n      <td>DK</td>\n      <td>7</td>\n      <td>7</td>\n    </tr>\n    <tr>\n      <th>8</th>\n      <td>Ben</td>\n      <td>8</td>\n      <td>8</td>\n    </tr>\n  </tbody>\n</table>\n</div>"
     },
     "execution_count": 11,
     "metadata": {},
     "output_type": "execute_result"
    }
   ],
   "source": [
    "shuju = pd.DataFrame({'人员':list(tem['人员']),'发送IP':[i for i in range(9)],'接受IP':[i for i in range(9)]})\n",
    "shuju"
   ],
   "metadata": {
    "collapsed": false
   }
  },
  {
   "cell_type": "code",
   "execution_count": 31,
   "outputs": [],
   "source": [
    "shuju[shuju['人员']=='Paddy']['发送IP'].values[0] = grp.loc['paddy.com','IP']\n",
    "shuju[shuju['人员']=='Paddy']['接受IP'].values[0] = grp.loc['paddy.bty','IP']\n",
    "shuju[shuju['人员']=='Tony']['发送IP'].values[0] = grp.loc['tonyb.com','IP']/2\n",
    "shuju[shuju['人员']=='Tony']['接受IP'].values[0] = grp.loc['tonyb.com','IP']\n",
    "shuju[shuju['人员']=='Max']['发送IP'].values[0] = grp.loc['mulu.com','IP']\n",
    "shuju[shuju['人员']=='Max']['接受IP'].values[0] = grp.loc['max.bty','IP']\n",
    "shuju[shuju['人员']=='Martin']['发送IP'].values[0] = grp.loc['redquan.com','IP']\n",
    "shuju[shuju['人员']=='Martin']['接受IP'].values[0] = grp.loc['martin.bty','IP']\n",
    "shuju[shuju['人员']=='Zed']['发送IP'].values[0] = grp.loc['zed.com','IP']\n",
    "shuju[shuju['人员']=='Zed']['接受IP'].values[0] = grp.loc['zed.bty','IP']\n",
    "shuju[shuju['人员']=='Hugo']['发送IP'].values[0] = grp.loc['hugo.com','IP']\n",
    "# shuju[shuju['人员']=='Hugo']['接受IP'].values[0] = grp.loc['hugo.bty','IP']\n",
    "shuju[shuju['人员']=='Hugo']['接受IP'].values[0] = 0\n",
    "\n",
    "shuju[shuju['人员']=='Aber']['发送IP'].values[0] = grp.loc['aber.com','IP']/2\n",
    "shuju[shuju['人员']=='Aber']['接受IP'].values[0] = grp.loc['aber.bty','IP']\n",
    "shuju[shuju['人员']=='DK']['发送IP'].values[0] = grp.loc['dk.com','IP']/2\n",
    "shuju[shuju['人员']=='DK']['接受IP'].values[0] = grp.loc['dk.bty','IP']\n",
    "shuju[shuju['人员']=='Ben']['发送IP'].values[0] = grp.loc['ben.com','IP']/2\n",
    "shuju[shuju['人员']=='Ben']['接受IP'].values[0] = grp.loc['ben.bty','IP']"
   ],
   "metadata": {
    "collapsed": false
   }
  },
  {
   "cell_type": "code",
   "execution_count": 290,
   "outputs": [
    {
     "data": {
      "text/plain": "0"
     },
     "execution_count": 290,
     "metadata": {},
     "output_type": "execute_result"
    }
   ],
   "source": [
    "shuju.loc['Paddy','发送IP']"
   ],
   "metadata": {
    "collapsed": false
   }
  },
  {
   "cell_type": "code",
   "execution_count": 35,
   "outputs": [
    {
     "data": {
      "text/plain": "        发送IP  接受IP\n人员                \nPaddy      0     0\nTony       1     1\nMax        2     2\nMartin     3     3\nZed        4     4\nHugo       5     5\nAber       6     6\nDK         7     7\nBen        8     8",
      "text/html": "<div>\n<style scoped>\n    .dataframe tbody tr th:only-of-type {\n        vertical-align: middle;\n    }\n\n    .dataframe tbody tr th {\n        vertical-align: top;\n    }\n\n    .dataframe thead th {\n        text-align: right;\n    }\n</style>\n<table border=\"1\" class=\"dataframe\">\n  <thead>\n    <tr style=\"text-align: right;\">\n      <th></th>\n      <th>发送IP</th>\n      <th>接受IP</th>\n    </tr>\n    <tr>\n      <th>人员</th>\n      <th></th>\n      <th></th>\n    </tr>\n  </thead>\n  <tbody>\n    <tr>\n      <th>Paddy</th>\n      <td>0</td>\n      <td>0</td>\n    </tr>\n    <tr>\n      <th>Tony</th>\n      <td>1</td>\n      <td>1</td>\n    </tr>\n    <tr>\n      <th>Max</th>\n      <td>2</td>\n      <td>2</td>\n    </tr>\n    <tr>\n      <th>Martin</th>\n      <td>3</td>\n      <td>3</td>\n    </tr>\n    <tr>\n      <th>Zed</th>\n      <td>4</td>\n      <td>4</td>\n    </tr>\n    <tr>\n      <th>Hugo</th>\n      <td>5</td>\n      <td>5</td>\n    </tr>\n    <tr>\n      <th>Aber</th>\n      <td>6</td>\n      <td>6</td>\n    </tr>\n    <tr>\n      <th>DK</th>\n      <td>7</td>\n      <td>7</td>\n    </tr>\n    <tr>\n      <th>Ben</th>\n      <td>8</td>\n      <td>8</td>\n    </tr>\n  </tbody>\n</table>\n</div>"
     },
     "execution_count": 35,
     "metadata": {},
     "output_type": "execute_result"
    }
   ],
   "source": [
    "shuju"
   ],
   "metadata": {
    "collapsed": false
   }
  },
  {
   "cell_type": "code",
   "execution_count": 34,
   "outputs": [],
   "source": [
    "shuju.set_index('人员',inplace=True)"
   ],
   "metadata": {
    "collapsed": false
   }
  },
  {
   "cell_type": "code",
   "execution_count": 36,
   "outputs": [
    {
     "data": {
      "text/plain": "        发送IP  接受IP\n人员                \nPaddy      0    51\nTony     568  1136\nMax      273   225\nMartin  3445  1072\nZed     4853   329\nHugo     103     0\nAber    7325   562\nDK      1525  2160\nBen     2565   298",
      "text/html": "<div>\n<style scoped>\n    .dataframe tbody tr th:only-of-type {\n        vertical-align: middle;\n    }\n\n    .dataframe tbody tr th {\n        vertical-align: top;\n    }\n\n    .dataframe thead th {\n        text-align: right;\n    }\n</style>\n<table border=\"1\" class=\"dataframe\">\n  <thead>\n    <tr style=\"text-align: right;\">\n      <th></th>\n      <th>发送IP</th>\n      <th>接受IP</th>\n    </tr>\n    <tr>\n      <th>人员</th>\n      <th></th>\n      <th></th>\n    </tr>\n  </thead>\n  <tbody>\n    <tr>\n      <th>Paddy</th>\n      <td>0</td>\n      <td>51</td>\n    </tr>\n    <tr>\n      <th>Tony</th>\n      <td>568</td>\n      <td>1136</td>\n    </tr>\n    <tr>\n      <th>Max</th>\n      <td>273</td>\n      <td>225</td>\n    </tr>\n    <tr>\n      <th>Martin</th>\n      <td>3445</td>\n      <td>1072</td>\n    </tr>\n    <tr>\n      <th>Zed</th>\n      <td>4853</td>\n      <td>329</td>\n    </tr>\n    <tr>\n      <th>Hugo</th>\n      <td>103</td>\n      <td>0</td>\n    </tr>\n    <tr>\n      <th>Aber</th>\n      <td>7325</td>\n      <td>562</td>\n    </tr>\n    <tr>\n      <th>DK</th>\n      <td>1525</td>\n      <td>2160</td>\n    </tr>\n    <tr>\n      <th>Ben</th>\n      <td>2565</td>\n      <td>298</td>\n    </tr>\n  </tbody>\n</table>\n</div>"
     },
     "execution_count": 36,
     "metadata": {},
     "output_type": "execute_result"
    }
   ],
   "source": [
    "shuju.loc['Paddy','发送IP']=grp.loc['paddy.com','IP']\n",
    "shuju.loc['Paddy','接受IP']=grp.loc['paddy.bty','IP']\n",
    "shuju.loc['Tony','发送IP']=grp.loc['tonyb.com','IP']/2\n",
    "shuju.loc['Tony','接受IP']=grp.loc['tonyb.com','IP']\n",
    "shuju.loc['Max','发送IP']=grp.loc['mulu.com','IP']\n",
    "shuju.loc['Max','接受IP']=grp.loc['max.bty','IP']\n",
    "shuju.loc['Martin','发送IP']=grp.loc['redquan.com','IP']\n",
    "shuju.loc['Martin','接受IP']=grp.loc['martin.bty','IP']\n",
    "shuju.loc['Zed','发送IP']=grp.loc['zed.com','IP']\n",
    "shuju.loc['Zed','接受IP']=grp.loc['zed.bty','IP']\n",
    "shuju.loc['Hugo','发送IP']=grp.loc['hugo.com','IP']\n",
    "# shuju.loc['Hugo','接受IP']=grp.loc['hugo.bty','IP']\n",
    "shuju.loc['Hugo','接受IP']=0\n",
    "\n",
    "shuju.loc['Aber','发送IP']=grp.loc['aber.com','IP']/2\n",
    "shuju.loc['Aber','接受IP']=grp.loc['aber.bty','IP']\n",
    "shuju.loc['DK','发送IP']=grp.loc['dk.com','IP']/2\n",
    "shuju.loc['DK','接受IP']=grp.loc['dk.bty','IP']\n",
    "shuju.loc['Ben','发送IP']=grp.loc['ben.com','IP']/2\n",
    "shuju.loc['Ben','接受IP']=grp.loc['ben.bty','IP']\n",
    "shuju"
   ],
   "metadata": {
    "collapsed": false
   }
  },
  {
   "cell_type": "code",
   "execution_count": 23,
   "outputs": [
    {
     "data": {
      "text/plain": "       人员  发送IP  接受IP\n0   Paddy     0     0\n1    Tony     1     1\n2     Max     2     2\n3  Martin     3     3\n4     Zed     4     4\n5    Hugo     5     5\n6    Aber     6     6\n7      DK     7     7\n8     Ben     8     8",
      "text/html": "<div>\n<style scoped>\n    .dataframe tbody tr th:only-of-type {\n        vertical-align: middle;\n    }\n\n    .dataframe tbody tr th {\n        vertical-align: top;\n    }\n\n    .dataframe thead th {\n        text-align: right;\n    }\n</style>\n<table border=\"1\" class=\"dataframe\">\n  <thead>\n    <tr style=\"text-align: right;\">\n      <th></th>\n      <th>人员</th>\n      <th>发送IP</th>\n      <th>接受IP</th>\n    </tr>\n  </thead>\n  <tbody>\n    <tr>\n      <th>0</th>\n      <td>Paddy</td>\n      <td>0</td>\n      <td>0</td>\n    </tr>\n    <tr>\n      <th>1</th>\n      <td>Tony</td>\n      <td>1</td>\n      <td>1</td>\n    </tr>\n    <tr>\n      <th>2</th>\n      <td>Max</td>\n      <td>2</td>\n      <td>2</td>\n    </tr>\n    <tr>\n      <th>3</th>\n      <td>Martin</td>\n      <td>3</td>\n      <td>3</td>\n    </tr>\n    <tr>\n      <th>4</th>\n      <td>Zed</td>\n      <td>4</td>\n      <td>4</td>\n    </tr>\n    <tr>\n      <th>5</th>\n      <td>Hugo</td>\n      <td>5</td>\n      <td>5</td>\n    </tr>\n    <tr>\n      <th>6</th>\n      <td>Aber</td>\n      <td>6</td>\n      <td>6</td>\n    </tr>\n    <tr>\n      <th>7</th>\n      <td>DK</td>\n      <td>7</td>\n      <td>7</td>\n    </tr>\n    <tr>\n      <th>8</th>\n      <td>Ben</td>\n      <td>8</td>\n      <td>8</td>\n    </tr>\n  </tbody>\n</table>\n</div>"
     },
     "execution_count": 23,
     "metadata": {},
     "output_type": "execute_result"
    }
   ],
   "source": [
    "shuju"
   ],
   "metadata": {
    "collapsed": false
   }
  },
  {
   "cell_type": "code",
   "execution_count": 27,
   "outputs": [
    {
     "name": "stdout",
     "output_type": "stream",
     "text": [
      "DataFrame\t InteractiveShell\t MultiIndex\t column\t data\t firChargeUser\t grp\t np\t os\t \n",
      "pd\t pydev_jupyter_vars\t remove_imported_pydev_package\t shuju\t shuju2\t sys\t tem\t user\t \n"
     ]
    }
   ],
   "source": [
    "who"
   ],
   "metadata": {
    "collapsed": false
   }
  },
  {
   "cell_type": "code",
   "execution_count": 28,
   "outputs": [
    {
     "data": {
      "text/plain": "          会员账号   姓名         手机号码       代理  国家     玩家层级 层级状态 VIP等级 VIP状态   币种  \\\n0      ysb1757  殷赛兵  155****1757    admin  中国   初审后层级2   锁定  VIP1   未锁定  CNY   \n1    Vuarong39  NaN    907****65  gfas001  越南  新注册默认层级  未锁定  VIP0   未锁定  VND   \n2   biiuhieu94  NaN          NaN  gfas001  越南  新注册默认层级  未锁定  VIP0   未锁定  VND   \n3  Suyengo1997  NaN    563****72  gfas001  越南  新注册默认层级  未锁定  VIP0   未锁定  VND   \n4     Nnta2376  NaN          NaN  gfas001  越南  新注册默认层级  未锁定  VIP0   未锁定  VND   \n\n   ...             注册IP              注册域名 注册端           首充时间          最后登陆时间  \\\n0  ...   222.84.188.187        m.bty9.com  H5  2023/8/8 0:27  2023/8/8 12:17   \n1  ...    58.186.14.175  m-sn7.btytg3.com  H5              -   2023/8/8 0:07   \n2  ...   14.191.197.244  m-sn7.btytg2.com  H5              -  2023/8/7 23:58   \n3  ...  171.253.132.164  m-sn7.btytg3.com  H5              -  2023/8/7 23:57   \n4  ...    171.236.4.170  m-sn7.btytg3.com  H5              -  2023/8/8 11:37   \n\n            最后登陆IP     注册IP属地 最后登陆IP属地（登录成功）  状态   备注  \n0   222.84.188.187  中国|广西|桂林|      中国|广西|桂林|  正常  NaN  \n1    58.186.14.175    越南|河内||        越南|河内||  正常  NaN  \n2   14.191.197.244    越南|同奈||        越南|同奈||  正常  NaN  \n3  171.253.132.164   越南|胡志明||       越南|胡志明||  正常  NaN  \n4    171.236.4.169    越南|海阳||        越南|海阳||  正常  NaN  \n\n[5 rows x 23 columns]",
      "text/html": "<div>\n<style scoped>\n    .dataframe tbody tr th:only-of-type {\n        vertical-align: middle;\n    }\n\n    .dataframe tbody tr th {\n        vertical-align: top;\n    }\n\n    .dataframe thead th {\n        text-align: right;\n    }\n</style>\n<table border=\"1\" class=\"dataframe\">\n  <thead>\n    <tr style=\"text-align: right;\">\n      <th></th>\n      <th>会员账号</th>\n      <th>姓名</th>\n      <th>手机号码</th>\n      <th>代理</th>\n      <th>国家</th>\n      <th>玩家层级</th>\n      <th>层级状态</th>\n      <th>VIP等级</th>\n      <th>VIP状态</th>\n      <th>币种</th>\n      <th>...</th>\n      <th>注册IP</th>\n      <th>注册域名</th>\n      <th>注册端</th>\n      <th>首充时间</th>\n      <th>最后登陆时间</th>\n      <th>最后登陆IP</th>\n      <th>注册IP属地</th>\n      <th>最后登陆IP属地（登录成功）</th>\n      <th>状态</th>\n      <th>备注</th>\n    </tr>\n  </thead>\n  <tbody>\n    <tr>\n      <th>0</th>\n      <td>ysb1757</td>\n      <td>殷赛兵</td>\n      <td>155****1757</td>\n      <td>admin</td>\n      <td>中国</td>\n      <td>初审后层级2</td>\n      <td>锁定</td>\n      <td>VIP1</td>\n      <td>未锁定</td>\n      <td>CNY</td>\n      <td>...</td>\n      <td>222.84.188.187</td>\n      <td>m.bty9.com</td>\n      <td>H5</td>\n      <td>2023/8/8 0:27</td>\n      <td>2023/8/8 12:17</td>\n      <td>222.84.188.187</td>\n      <td>中国|广西|桂林|</td>\n      <td>中国|广西|桂林|</td>\n      <td>正常</td>\n      <td>NaN</td>\n    </tr>\n    <tr>\n      <th>1</th>\n      <td>Vuarong39</td>\n      <td>NaN</td>\n      <td>907****65</td>\n      <td>gfas001</td>\n      <td>越南</td>\n      <td>新注册默认层级</td>\n      <td>未锁定</td>\n      <td>VIP0</td>\n      <td>未锁定</td>\n      <td>VND</td>\n      <td>...</td>\n      <td>58.186.14.175</td>\n      <td>m-sn7.btytg3.com</td>\n      <td>H5</td>\n      <td>-</td>\n      <td>2023/8/8 0:07</td>\n      <td>58.186.14.175</td>\n      <td>越南|河内||</td>\n      <td>越南|河内||</td>\n      <td>正常</td>\n      <td>NaN</td>\n    </tr>\n    <tr>\n      <th>2</th>\n      <td>biiuhieu94</td>\n      <td>NaN</td>\n      <td>NaN</td>\n      <td>gfas001</td>\n      <td>越南</td>\n      <td>新注册默认层级</td>\n      <td>未锁定</td>\n      <td>VIP0</td>\n      <td>未锁定</td>\n      <td>VND</td>\n      <td>...</td>\n      <td>14.191.197.244</td>\n      <td>m-sn7.btytg2.com</td>\n      <td>H5</td>\n      <td>-</td>\n      <td>2023/8/7 23:58</td>\n      <td>14.191.197.244</td>\n      <td>越南|同奈||</td>\n      <td>越南|同奈||</td>\n      <td>正常</td>\n      <td>NaN</td>\n    </tr>\n    <tr>\n      <th>3</th>\n      <td>Suyengo1997</td>\n      <td>NaN</td>\n      <td>563****72</td>\n      <td>gfas001</td>\n      <td>越南</td>\n      <td>新注册默认层级</td>\n      <td>未锁定</td>\n      <td>VIP0</td>\n      <td>未锁定</td>\n      <td>VND</td>\n      <td>...</td>\n      <td>171.253.132.164</td>\n      <td>m-sn7.btytg3.com</td>\n      <td>H5</td>\n      <td>-</td>\n      <td>2023/8/7 23:57</td>\n      <td>171.253.132.164</td>\n      <td>越南|胡志明||</td>\n      <td>越南|胡志明||</td>\n      <td>正常</td>\n      <td>NaN</td>\n    </tr>\n    <tr>\n      <th>4</th>\n      <td>Nnta2376</td>\n      <td>NaN</td>\n      <td>NaN</td>\n      <td>gfas001</td>\n      <td>越南</td>\n      <td>新注册默认层级</td>\n      <td>未锁定</td>\n      <td>VIP0</td>\n      <td>未锁定</td>\n      <td>VND</td>\n      <td>...</td>\n      <td>171.236.4.170</td>\n      <td>m-sn7.btytg3.com</td>\n      <td>H5</td>\n      <td>-</td>\n      <td>2023/8/8 11:37</td>\n      <td>171.236.4.169</td>\n      <td>越南|海阳||</td>\n      <td>越南|海阳||</td>\n      <td>正常</td>\n      <td>NaN</td>\n    </tr>\n  </tbody>\n</table>\n<p>5 rows × 23 columns</p>\n</div>"
     },
     "execution_count": 28,
     "metadata": {},
     "output_type": "execute_result"
    }
   ],
   "source": [
    "user.head()"
   ],
   "metadata": {
    "collapsed": false
   }
  },
  {
   "cell_type": "code",
   "execution_count": 39,
   "outputs": [
    {
     "data": {
      "text/plain": "(2721, 4)"
     },
     "execution_count": 39,
     "metadata": {},
     "output_type": "execute_result"
    }
   ],
   "source": [
    "daili = pd.read_excel(r'C:\\Users\\User\\Desktop\\SEO_0807\\SEO每日模板-每日更新.xlsx','代理总表')\n",
    "daili.shape"
   ],
   "metadata": {
    "collapsed": false
   }
  },
  {
   "cell_type": "code",
   "execution_count": 30,
   "outputs": [
    {
     "data": {
      "text/plain": "          代理线       主线账号 seo变化数据团队         准点激活团队\n0      zzy888  btydl0322      山猫直播  山猫直播btydl0322\n1  zuan811111  btydl0032        酷币    酷币btydl0032\n2     zrf1234   btydl067        阿元     阿元btydl067\n3  zq20221120  btydl0032        酷币    酷币btydl0032\n4     zjj8234   btydl067        阿元     阿元btydl067",
      "text/html": "<div>\n<style scoped>\n    .dataframe tbody tr th:only-of-type {\n        vertical-align: middle;\n    }\n\n    .dataframe tbody tr th {\n        vertical-align: top;\n    }\n\n    .dataframe thead th {\n        text-align: right;\n    }\n</style>\n<table border=\"1\" class=\"dataframe\">\n  <thead>\n    <tr style=\"text-align: right;\">\n      <th></th>\n      <th>代理线</th>\n      <th>主线账号</th>\n      <th>seo变化数据团队</th>\n      <th>准点激活团队</th>\n    </tr>\n  </thead>\n  <tbody>\n    <tr>\n      <th>0</th>\n      <td>zzy888</td>\n      <td>btydl0322</td>\n      <td>山猫直播</td>\n      <td>山猫直播btydl0322</td>\n    </tr>\n    <tr>\n      <th>1</th>\n      <td>zuan811111</td>\n      <td>btydl0032</td>\n      <td>酷币</td>\n      <td>酷币btydl0032</td>\n    </tr>\n    <tr>\n      <th>2</th>\n      <td>zrf1234</td>\n      <td>btydl067</td>\n      <td>阿元</td>\n      <td>阿元btydl067</td>\n    </tr>\n    <tr>\n      <th>3</th>\n      <td>zq20221120</td>\n      <td>btydl0032</td>\n      <td>酷币</td>\n      <td>酷币btydl0032</td>\n    </tr>\n    <tr>\n      <th>4</th>\n      <td>zjj8234</td>\n      <td>btydl067</td>\n      <td>阿元</td>\n      <td>阿元btydl067</td>\n    </tr>\n  </tbody>\n</table>\n</div>"
     },
     "execution_count": 30,
     "metadata": {},
     "output_type": "execute_result"
    }
   ],
   "source": [
    "daili.head()"
   ],
   "metadata": {
    "collapsed": false
   }
  },
  {
   "cell_type": "code",
   "execution_count": 31,
   "outputs": [
    {
     "data": {
      "text/plain": "(1422, 23)"
     },
     "execution_count": 31,
     "metadata": {},
     "output_type": "execute_result"
    }
   ],
   "source": [
    "user.shape"
   ],
   "metadata": {
    "collapsed": false
   }
  },
  {
   "cell_type": "code",
   "execution_count": 40,
   "outputs": [
    {
     "data": {
      "text/plain": "          会员账号   姓名         手机号码       代理  国家     玩家层级 层级状态 VIP等级 VIP状态   币种  \\\n0      ysb1757  殷赛兵  155****1757    admin  中国   初审后层级2   锁定  VIP1   未锁定  CNY   \n1    Vuarong39  NaN    907****65  gfas001  越南  新注册默认层级  未锁定  VIP0   未锁定  VND   \n2   biiuhieu94  NaN          NaN  gfas001  越南  新注册默认层级  未锁定  VIP0   未锁定  VND   \n3  Suyengo1997  NaN    563****72  gfas001  越南  新注册默认层级  未锁定  VIP0   未锁定  VND   \n4     Nnta2376  NaN          NaN  gfas001  越南  新注册默认层级  未锁定  VIP0   未锁定  VND   \n\n   ...          最后登陆时间           最后登陆IP     注册IP属地 最后登陆IP属地（登录成功）  状态   备注  \\\n0  ...  2023/8/8 12:17   222.84.188.187  中国|广西|桂林|      中国|广西|桂林|  正常  NaN   \n1  ...   2023/8/8 0:07    58.186.14.175    越南|河内||        越南|河内||  正常  NaN   \n2  ...  2023/8/7 23:58   14.191.197.244    越南|同奈||        越南|同奈||  正常  NaN   \n3  ...  2023/8/7 23:57  171.253.132.164   越南|胡志明||       越南|胡志明||  正常  NaN   \n4  ...  2023/8/8 11:37    171.236.4.169    越南|海阳||        越南|海阳||  正常  NaN   \n\n       代理线    主线账号 seo变化数据团队        准点激活团队  \n0    admin   admin        官网            官网  \n1  gfas001  zh0808    外部代理总线  外部代理总线zh0808  \n2  gfas001  zh0808    外部代理总线  外部代理总线zh0808  \n3  gfas001  zh0808    外部代理总线  外部代理总线zh0808  \n4  gfas001  zh0808    外部代理总线  外部代理总线zh0808  \n\n[5 rows x 27 columns]",
      "text/html": "<div>\n<style scoped>\n    .dataframe tbody tr th:only-of-type {\n        vertical-align: middle;\n    }\n\n    .dataframe tbody tr th {\n        vertical-align: top;\n    }\n\n    .dataframe thead th {\n        text-align: right;\n    }\n</style>\n<table border=\"1\" class=\"dataframe\">\n  <thead>\n    <tr style=\"text-align: right;\">\n      <th></th>\n      <th>会员账号</th>\n      <th>姓名</th>\n      <th>手机号码</th>\n      <th>代理</th>\n      <th>国家</th>\n      <th>玩家层级</th>\n      <th>层级状态</th>\n      <th>VIP等级</th>\n      <th>VIP状态</th>\n      <th>币种</th>\n      <th>...</th>\n      <th>最后登陆时间</th>\n      <th>最后登陆IP</th>\n      <th>注册IP属地</th>\n      <th>最后登陆IP属地（登录成功）</th>\n      <th>状态</th>\n      <th>备注</th>\n      <th>代理线</th>\n      <th>主线账号</th>\n      <th>seo变化数据团队</th>\n      <th>准点激活团队</th>\n    </tr>\n  </thead>\n  <tbody>\n    <tr>\n      <th>0</th>\n      <td>ysb1757</td>\n      <td>殷赛兵</td>\n      <td>155****1757</td>\n      <td>admin</td>\n      <td>中国</td>\n      <td>初审后层级2</td>\n      <td>锁定</td>\n      <td>VIP1</td>\n      <td>未锁定</td>\n      <td>CNY</td>\n      <td>...</td>\n      <td>2023/8/8 12:17</td>\n      <td>222.84.188.187</td>\n      <td>中国|广西|桂林|</td>\n      <td>中国|广西|桂林|</td>\n      <td>正常</td>\n      <td>NaN</td>\n      <td>admin</td>\n      <td>admin</td>\n      <td>官网</td>\n      <td>官网</td>\n    </tr>\n    <tr>\n      <th>1</th>\n      <td>Vuarong39</td>\n      <td>NaN</td>\n      <td>907****65</td>\n      <td>gfas001</td>\n      <td>越南</td>\n      <td>新注册默认层级</td>\n      <td>未锁定</td>\n      <td>VIP0</td>\n      <td>未锁定</td>\n      <td>VND</td>\n      <td>...</td>\n      <td>2023/8/8 0:07</td>\n      <td>58.186.14.175</td>\n      <td>越南|河内||</td>\n      <td>越南|河内||</td>\n      <td>正常</td>\n      <td>NaN</td>\n      <td>gfas001</td>\n      <td>zh0808</td>\n      <td>外部代理总线</td>\n      <td>外部代理总线zh0808</td>\n    </tr>\n    <tr>\n      <th>2</th>\n      <td>biiuhieu94</td>\n      <td>NaN</td>\n      <td>NaN</td>\n      <td>gfas001</td>\n      <td>越南</td>\n      <td>新注册默认层级</td>\n      <td>未锁定</td>\n      <td>VIP0</td>\n      <td>未锁定</td>\n      <td>VND</td>\n      <td>...</td>\n      <td>2023/8/7 23:58</td>\n      <td>14.191.197.244</td>\n      <td>越南|同奈||</td>\n      <td>越南|同奈||</td>\n      <td>正常</td>\n      <td>NaN</td>\n      <td>gfas001</td>\n      <td>zh0808</td>\n      <td>外部代理总线</td>\n      <td>外部代理总线zh0808</td>\n    </tr>\n    <tr>\n      <th>3</th>\n      <td>Suyengo1997</td>\n      <td>NaN</td>\n      <td>563****72</td>\n      <td>gfas001</td>\n      <td>越南</td>\n      <td>新注册默认层级</td>\n      <td>未锁定</td>\n      <td>VIP0</td>\n      <td>未锁定</td>\n      <td>VND</td>\n      <td>...</td>\n      <td>2023/8/7 23:57</td>\n      <td>171.253.132.164</td>\n      <td>越南|胡志明||</td>\n      <td>越南|胡志明||</td>\n      <td>正常</td>\n      <td>NaN</td>\n      <td>gfas001</td>\n      <td>zh0808</td>\n      <td>外部代理总线</td>\n      <td>外部代理总线zh0808</td>\n    </tr>\n    <tr>\n      <th>4</th>\n      <td>Nnta2376</td>\n      <td>NaN</td>\n      <td>NaN</td>\n      <td>gfas001</td>\n      <td>越南</td>\n      <td>新注册默认层级</td>\n      <td>未锁定</td>\n      <td>VIP0</td>\n      <td>未锁定</td>\n      <td>VND</td>\n      <td>...</td>\n      <td>2023/8/8 11:37</td>\n      <td>171.236.4.169</td>\n      <td>越南|海阳||</td>\n      <td>越南|海阳||</td>\n      <td>正常</td>\n      <td>NaN</td>\n      <td>gfas001</td>\n      <td>zh0808</td>\n      <td>外部代理总线</td>\n      <td>外部代理总线zh0808</td>\n    </tr>\n  </tbody>\n</table>\n<p>5 rows × 27 columns</p>\n</div>"
     },
     "execution_count": 40,
     "metadata": {},
     "output_type": "execute_result"
    }
   ],
   "source": [
    "merge_user = pd.merge(user,daili,how = 'left',left_on='代理',right_on='代理线')\n",
    "merge_user.head()"
   ],
   "metadata": {
    "collapsed": false
   }
  },
  {
   "cell_type": "code",
   "execution_count": 41,
   "outputs": [],
   "source": [
    "grpSEO = merge_user.groupby('seo变化数据团队').agg({'seo变化数据团队':len})"
   ],
   "metadata": {
    "collapsed": false
   }
  },
  {
   "cell_type": "code",
   "execution_count": 45,
   "outputs": [
    {
     "data": {
      "text/plain": "    seo变化数据团队   总计\n0       178直播    3\n1     Admin邀请    2\n2       Cyrus    2\n3          DK   52\n4      GT-B直播   16\n5      GT-越南线    2\n6       GT-骨头   63\n7          MM    1\n8   SEO掉线用户转线    8\n9       SEO邀请   44\n10   SOCO越南直播   96\n11       aber   49\n12        ben   17\n13      duobo    1\n14       hugo   16\n15     kk6699    2\n16     martin   81\n17        max    9\n18      paddy    3\n19      seo转线    4\n20       tony   15\n21        zed   22\n22      原电销使用    3\n23       外代-越   13\n24     外部代理总线  179\n25         官网  114\n26     小Peter    3\n27  小Peter越南线    1\n28       技术测试    2\n29         斌哥    1\n30     电销拉回专用    2\n31   真实数据测试账号    1\n32       米乐转线    3\n33         袋鼠    1\n34         酷币    1\n35       雨燕直播   32\n36     雨燕直播-越  346\n37     飞哥雨燕直播  117\n38    鲲鹏admin   13",
      "text/html": "<div>\n<style scoped>\n    .dataframe tbody tr th:only-of-type {\n        vertical-align: middle;\n    }\n\n    .dataframe tbody tr th {\n        vertical-align: top;\n    }\n\n    .dataframe thead th {\n        text-align: right;\n    }\n</style>\n<table border=\"1\" class=\"dataframe\">\n  <thead>\n    <tr style=\"text-align: right;\">\n      <th></th>\n      <th>seo变化数据团队</th>\n      <th>总计</th>\n    </tr>\n  </thead>\n  <tbody>\n    <tr>\n      <th>0</th>\n      <td>178直播</td>\n      <td>3</td>\n    </tr>\n    <tr>\n      <th>1</th>\n      <td>Admin邀请</td>\n      <td>2</td>\n    </tr>\n    <tr>\n      <th>2</th>\n      <td>Cyrus</td>\n      <td>2</td>\n    </tr>\n    <tr>\n      <th>3</th>\n      <td>DK</td>\n      <td>52</td>\n    </tr>\n    <tr>\n      <th>4</th>\n      <td>GT-B直播</td>\n      <td>16</td>\n    </tr>\n    <tr>\n      <th>5</th>\n      <td>GT-越南线</td>\n      <td>2</td>\n    </tr>\n    <tr>\n      <th>6</th>\n      <td>GT-骨头</td>\n      <td>63</td>\n    </tr>\n    <tr>\n      <th>7</th>\n      <td>MM</td>\n      <td>1</td>\n    </tr>\n    <tr>\n      <th>8</th>\n      <td>SEO掉线用户转线</td>\n      <td>8</td>\n    </tr>\n    <tr>\n      <th>9</th>\n      <td>SEO邀请</td>\n      <td>44</td>\n    </tr>\n    <tr>\n      <th>10</th>\n      <td>SOCO越南直播</td>\n      <td>96</td>\n    </tr>\n    <tr>\n      <th>11</th>\n      <td>aber</td>\n      <td>49</td>\n    </tr>\n    <tr>\n      <th>12</th>\n      <td>ben</td>\n      <td>17</td>\n    </tr>\n    <tr>\n      <th>13</th>\n      <td>duobo</td>\n      <td>1</td>\n    </tr>\n    <tr>\n      <th>14</th>\n      <td>hugo</td>\n      <td>16</td>\n    </tr>\n    <tr>\n      <th>15</th>\n      <td>kk6699</td>\n      <td>2</td>\n    </tr>\n    <tr>\n      <th>16</th>\n      <td>martin</td>\n      <td>81</td>\n    </tr>\n    <tr>\n      <th>17</th>\n      <td>max</td>\n      <td>9</td>\n    </tr>\n    <tr>\n      <th>18</th>\n      <td>paddy</td>\n      <td>3</td>\n    </tr>\n    <tr>\n      <th>19</th>\n      <td>seo转线</td>\n      <td>4</td>\n    </tr>\n    <tr>\n      <th>20</th>\n      <td>tony</td>\n      <td>15</td>\n    </tr>\n    <tr>\n      <th>21</th>\n      <td>zed</td>\n      <td>22</td>\n    </tr>\n    <tr>\n      <th>22</th>\n      <td>原电销使用</td>\n      <td>3</td>\n    </tr>\n    <tr>\n      <th>23</th>\n      <td>外代-越</td>\n      <td>13</td>\n    </tr>\n    <tr>\n      <th>24</th>\n      <td>外部代理总线</td>\n      <td>179</td>\n    </tr>\n    <tr>\n      <th>25</th>\n      <td>官网</td>\n      <td>114</td>\n    </tr>\n    <tr>\n      <th>26</th>\n      <td>小Peter</td>\n      <td>3</td>\n    </tr>\n    <tr>\n      <th>27</th>\n      <td>小Peter越南线</td>\n      <td>1</td>\n    </tr>\n    <tr>\n      <th>28</th>\n      <td>技术测试</td>\n      <td>2</td>\n    </tr>\n    <tr>\n      <th>29</th>\n      <td>斌哥</td>\n      <td>1</td>\n    </tr>\n    <tr>\n      <th>30</th>\n      <td>电销拉回专用</td>\n      <td>2</td>\n    </tr>\n    <tr>\n      <th>31</th>\n      <td>真实数据测试账号</td>\n      <td>1</td>\n    </tr>\n    <tr>\n      <th>32</th>\n      <td>米乐转线</td>\n      <td>3</td>\n    </tr>\n    <tr>\n      <th>33</th>\n      <td>袋鼠</td>\n      <td>1</td>\n    </tr>\n    <tr>\n      <th>34</th>\n      <td>酷币</td>\n      <td>1</td>\n    </tr>\n    <tr>\n      <th>35</th>\n      <td>雨燕直播</td>\n      <td>32</td>\n    </tr>\n    <tr>\n      <th>36</th>\n      <td>雨燕直播-越</td>\n      <td>346</td>\n    </tr>\n    <tr>\n      <th>37</th>\n      <td>飞哥雨燕直播</td>\n      <td>117</td>\n    </tr>\n    <tr>\n      <th>38</th>\n      <td>鲲鹏admin</td>\n      <td>13</td>\n    </tr>\n  </tbody>\n</table>\n</div>"
     },
     "execution_count": 45,
     "metadata": {},
     "output_type": "execute_result"
    }
   ],
   "source": [
    "grpSEO.rename(columns={'seo变化数据团队':'总计'},inplace=True)\n",
    "grpSEO2 = grpSEO.reset_index()\n",
    "grpSEO2"
   ],
   "metadata": {
    "collapsed": false
   }
  },
  {
   "cell_type": "code",
   "execution_count": 44,
   "outputs": [
    {
     "data": {
      "text/plain": "       人员  发送IP  接受IP\n0   Paddy     0    51\n1    Tony   568  1136\n2     Max   273   225\n3  Martin  3445  1072\n4     Zed  4853   329\n5    Hugo   103     0\n6    Aber  7325   562\n7      DK  1525  2160\n8     Ben  2565   298",
      "text/html": "<div>\n<style scoped>\n    .dataframe tbody tr th:only-of-type {\n        vertical-align: middle;\n    }\n\n    .dataframe tbody tr th {\n        vertical-align: top;\n    }\n\n    .dataframe thead th {\n        text-align: right;\n    }\n</style>\n<table border=\"1\" class=\"dataframe\">\n  <thead>\n    <tr style=\"text-align: right;\">\n      <th></th>\n      <th>人员</th>\n      <th>发送IP</th>\n      <th>接受IP</th>\n    </tr>\n  </thead>\n  <tbody>\n    <tr>\n      <th>0</th>\n      <td>Paddy</td>\n      <td>0</td>\n      <td>51</td>\n    </tr>\n    <tr>\n      <th>1</th>\n      <td>Tony</td>\n      <td>568</td>\n      <td>1136</td>\n    </tr>\n    <tr>\n      <th>2</th>\n      <td>Max</td>\n      <td>273</td>\n      <td>225</td>\n    </tr>\n    <tr>\n      <th>3</th>\n      <td>Martin</td>\n      <td>3445</td>\n      <td>1072</td>\n    </tr>\n    <tr>\n      <th>4</th>\n      <td>Zed</td>\n      <td>4853</td>\n      <td>329</td>\n    </tr>\n    <tr>\n      <th>5</th>\n      <td>Hugo</td>\n      <td>103</td>\n      <td>0</td>\n    </tr>\n    <tr>\n      <th>6</th>\n      <td>Aber</td>\n      <td>7325</td>\n      <td>562</td>\n    </tr>\n    <tr>\n      <th>7</th>\n      <td>DK</td>\n      <td>1525</td>\n      <td>2160</td>\n    </tr>\n    <tr>\n      <th>8</th>\n      <td>Ben</td>\n      <td>2565</td>\n      <td>298</td>\n    </tr>\n  </tbody>\n</table>\n</div>"
     },
     "execution_count": 44,
     "metadata": {},
     "output_type": "execute_result"
    }
   ],
   "source": [
    "shuju2 = shuju.reset_index()\n",
    "shuju2"
   ],
   "metadata": {
    "collapsed": false
   }
  },
  {
   "cell_type": "code",
   "execution_count": 46,
   "outputs": [
    {
     "data": {
      "text/plain": "       人员  发送IP  接受IP seo变化数据团队    总计\n0   Paddy     0    51       NaN   NaN\n1    Tony   568  1136       NaN   NaN\n2     Max   273   225       NaN   NaN\n3  Martin  3445  1072       NaN   NaN\n4     Zed  4853   329       NaN   NaN\n5    Hugo   103     0       NaN   NaN\n6    Aber  7325   562       NaN   NaN\n7      DK  1525  2160        DK  52.0\n8     Ben  2565   298       NaN   NaN",
      "text/html": "<div>\n<style scoped>\n    .dataframe tbody tr th:only-of-type {\n        vertical-align: middle;\n    }\n\n    .dataframe tbody tr th {\n        vertical-align: top;\n    }\n\n    .dataframe thead th {\n        text-align: right;\n    }\n</style>\n<table border=\"1\" class=\"dataframe\">\n  <thead>\n    <tr style=\"text-align: right;\">\n      <th></th>\n      <th>人员</th>\n      <th>发送IP</th>\n      <th>接受IP</th>\n      <th>seo变化数据团队</th>\n      <th>总计</th>\n    </tr>\n  </thead>\n  <tbody>\n    <tr>\n      <th>0</th>\n      <td>Paddy</td>\n      <td>0</td>\n      <td>51</td>\n      <td>NaN</td>\n      <td>NaN</td>\n    </tr>\n    <tr>\n      <th>1</th>\n      <td>Tony</td>\n      <td>568</td>\n      <td>1136</td>\n      <td>NaN</td>\n      <td>NaN</td>\n    </tr>\n    <tr>\n      <th>2</th>\n      <td>Max</td>\n      <td>273</td>\n      <td>225</td>\n      <td>NaN</td>\n      <td>NaN</td>\n    </tr>\n    <tr>\n      <th>3</th>\n      <td>Martin</td>\n      <td>3445</td>\n      <td>1072</td>\n      <td>NaN</td>\n      <td>NaN</td>\n    </tr>\n    <tr>\n      <th>4</th>\n      <td>Zed</td>\n      <td>4853</td>\n      <td>329</td>\n      <td>NaN</td>\n      <td>NaN</td>\n    </tr>\n    <tr>\n      <th>5</th>\n      <td>Hugo</td>\n      <td>103</td>\n      <td>0</td>\n      <td>NaN</td>\n      <td>NaN</td>\n    </tr>\n    <tr>\n      <th>6</th>\n      <td>Aber</td>\n      <td>7325</td>\n      <td>562</td>\n      <td>NaN</td>\n      <td>NaN</td>\n    </tr>\n    <tr>\n      <th>7</th>\n      <td>DK</td>\n      <td>1525</td>\n      <td>2160</td>\n      <td>DK</td>\n      <td>52.0</td>\n    </tr>\n    <tr>\n      <th>8</th>\n      <td>Ben</td>\n      <td>2565</td>\n      <td>298</td>\n      <td>NaN</td>\n      <td>NaN</td>\n    </tr>\n  </tbody>\n</table>\n</div>"
     },
     "execution_count": 46,
     "metadata": {},
     "output_type": "execute_result"
    }
   ],
   "source": [
    "pd.merge(shuju2,grpSEO2,how = 'left',left_on='人员',right_on='seo变化数据团队')"
   ],
   "metadata": {
    "collapsed": false
   }
  },
  {
   "cell_type": "code",
   "execution_count": 67,
   "outputs": [
    {
     "data": {
      "text/plain": "       人员    发送IP    接受IP\n0   Paddy     0.0    51.0\n1    Tony   568.0   427.0\n2     Max   273.0   225.0\n3  Martin  3445.0  1072.0\n4     Zed  4853.0   329.0\n5    Hugo   103.0     0.0\n6    Aber  7325.0   562.0\n7      DK  1525.0  2160.0\n8     Ben  2565.0   298.0",
      "text/html": "<div>\n<style scoped>\n    .dataframe tbody tr th:only-of-type {\n        vertical-align: middle;\n    }\n\n    .dataframe tbody tr th {\n        vertical-align: top;\n    }\n\n    .dataframe thead th {\n        text-align: right;\n    }\n</style>\n<table border=\"1\" class=\"dataframe\">\n  <thead>\n    <tr style=\"text-align: right;\">\n      <th></th>\n      <th>人员</th>\n      <th>发送IP</th>\n      <th>接受IP</th>\n    </tr>\n  </thead>\n  <tbody>\n    <tr>\n      <th>0</th>\n      <td>Paddy</td>\n      <td>0.0</td>\n      <td>51.0</td>\n    </tr>\n    <tr>\n      <th>1</th>\n      <td>Tony</td>\n      <td>568.0</td>\n      <td>427.0</td>\n    </tr>\n    <tr>\n      <th>2</th>\n      <td>Max</td>\n      <td>273.0</td>\n      <td>225.0</td>\n    </tr>\n    <tr>\n      <th>3</th>\n      <td>Martin</td>\n      <td>3445.0</td>\n      <td>1072.0</td>\n    </tr>\n    <tr>\n      <th>4</th>\n      <td>Zed</td>\n      <td>4853.0</td>\n      <td>329.0</td>\n    </tr>\n    <tr>\n      <th>5</th>\n      <td>Hugo</td>\n      <td>103.0</td>\n      <td>0.0</td>\n    </tr>\n    <tr>\n      <th>6</th>\n      <td>Aber</td>\n      <td>7325.0</td>\n      <td>562.0</td>\n    </tr>\n    <tr>\n      <th>7</th>\n      <td>DK</td>\n      <td>1525.0</td>\n      <td>2160.0</td>\n    </tr>\n    <tr>\n      <th>8</th>\n      <td>Ben</td>\n      <td>2565.0</td>\n      <td>298.0</td>\n    </tr>\n  </tbody>\n</table>\n</div>"
     },
     "execution_count": 67,
     "metadata": {},
     "output_type": "execute_result"
    }
   ],
   "source": [
    "shuju3.rename(columns = {'index':'人员'},inplace=True)\n",
    "shuju3"
   ],
   "metadata": {
    "collapsed": false
   }
  },
  {
   "cell_type": "code",
   "execution_count": 65,
   "outputs": [
    {
     "data": {
      "text/plain": "       人员    发送IP    接受IP\n0   Paddy     0.0    51.0\n1    Tony   568.0   427.0\n2     Max   273.0   225.0\n3  Martin  3445.0  1072.0\n4     Zed  4853.0   329.0\n5    Hugo   103.0     0.0\n6    Aber  7325.0   562.0\n7      DK  1525.0  2160.0\n8     Ben  2565.0   298.0",
      "text/html": "<div>\n<style scoped>\n    .dataframe tbody tr th:only-of-type {\n        vertical-align: middle;\n    }\n\n    .dataframe tbody tr th {\n        vertical-align: top;\n    }\n\n    .dataframe thead th {\n        text-align: right;\n    }\n</style>\n<table border=\"1\" class=\"dataframe\">\n  <thead>\n    <tr style=\"text-align: right;\">\n      <th></th>\n      <th>人员</th>\n      <th>发送IP</th>\n      <th>接受IP</th>\n    </tr>\n  </thead>\n  <tbody>\n    <tr>\n      <th>0</th>\n      <td>Paddy</td>\n      <td>0.0</td>\n      <td>51.0</td>\n    </tr>\n    <tr>\n      <th>1</th>\n      <td>Tony</td>\n      <td>568.0</td>\n      <td>427.0</td>\n    </tr>\n    <tr>\n      <th>2</th>\n      <td>Max</td>\n      <td>273.0</td>\n      <td>225.0</td>\n    </tr>\n    <tr>\n      <th>3</th>\n      <td>Martin</td>\n      <td>3445.0</td>\n      <td>1072.0</td>\n    </tr>\n    <tr>\n      <th>4</th>\n      <td>Zed</td>\n      <td>4853.0</td>\n      <td>329.0</td>\n    </tr>\n    <tr>\n      <th>5</th>\n      <td>Hugo</td>\n      <td>103.0</td>\n      <td>0.0</td>\n    </tr>\n    <tr>\n      <th>6</th>\n      <td>Aber</td>\n      <td>7325.0</td>\n      <td>562.0</td>\n    </tr>\n    <tr>\n      <th>7</th>\n      <td>DK</td>\n      <td>1525.0</td>\n      <td>2160.0</td>\n    </tr>\n    <tr>\n      <th>8</th>\n      <td>Ben</td>\n      <td>2565.0</td>\n      <td>298.0</td>\n    </tr>\n  </tbody>\n</table>\n</div>"
     },
     "execution_count": 65,
     "metadata": {},
     "output_type": "execute_result"
    }
   ],
   "source": [
    "shuju3"
   ],
   "metadata": {
    "collapsed": false
   }
  },
  {
   "cell_type": "code",
   "execution_count": 58,
   "outputs": [
    {
     "data": {
      "text/plain": "            总计\nseo变化数据团队     \n178直播        3\nAdmin邀请      2\nCyrus        2\nDK          52\nGT-B直播      16\nGT-越南线       2\nGT-骨头       63\nMM           1\nSEO掉线用户转线    8\nSEO邀请       44\nSOCO越南直播    96\naber        49\nben         17\nduobo        1\nhugo        16\nkk6699       2\nmartin      81\nmax          9\npaddy        3\nseo转线        4\ntony        15\nzed         22\n原电销使用        3\n外代-越        13\n外部代理总线     179\n官网         114\n小Peter       3\n小Peter越南线    1\n技术测试         2\n斌哥           1\n电销拉回专用       2\n真实数据测试账号     1\n米乐转线         3\n袋鼠           1\n酷币           1\n雨燕直播        32\n雨燕直播-越     346\n飞哥雨燕直播     117\n鲲鹏admin     13",
      "text/html": "<div>\n<style scoped>\n    .dataframe tbody tr th:only-of-type {\n        vertical-align: middle;\n    }\n\n    .dataframe tbody tr th {\n        vertical-align: top;\n    }\n\n    .dataframe thead th {\n        text-align: right;\n    }\n</style>\n<table border=\"1\" class=\"dataframe\">\n  <thead>\n    <tr style=\"text-align: right;\">\n      <th></th>\n      <th>总计</th>\n    </tr>\n    <tr>\n      <th>seo变化数据团队</th>\n      <th></th>\n    </tr>\n  </thead>\n  <tbody>\n    <tr>\n      <th>178直播</th>\n      <td>3</td>\n    </tr>\n    <tr>\n      <th>Admin邀请</th>\n      <td>2</td>\n    </tr>\n    <tr>\n      <th>Cyrus</th>\n      <td>2</td>\n    </tr>\n    <tr>\n      <th>DK</th>\n      <td>52</td>\n    </tr>\n    <tr>\n      <th>GT-B直播</th>\n      <td>16</td>\n    </tr>\n    <tr>\n      <th>GT-越南线</th>\n      <td>2</td>\n    </tr>\n    <tr>\n      <th>GT-骨头</th>\n      <td>63</td>\n    </tr>\n    <tr>\n      <th>MM</th>\n      <td>1</td>\n    </tr>\n    <tr>\n      <th>SEO掉线用户转线</th>\n      <td>8</td>\n    </tr>\n    <tr>\n      <th>SEO邀请</th>\n      <td>44</td>\n    </tr>\n    <tr>\n      <th>SOCO越南直播</th>\n      <td>96</td>\n    </tr>\n    <tr>\n      <th>aber</th>\n      <td>49</td>\n    </tr>\n    <tr>\n      <th>ben</th>\n      <td>17</td>\n    </tr>\n    <tr>\n      <th>duobo</th>\n      <td>1</td>\n    </tr>\n    <tr>\n      <th>hugo</th>\n      <td>16</td>\n    </tr>\n    <tr>\n      <th>kk6699</th>\n      <td>2</td>\n    </tr>\n    <tr>\n      <th>martin</th>\n      <td>81</td>\n    </tr>\n    <tr>\n      <th>max</th>\n      <td>9</td>\n    </tr>\n    <tr>\n      <th>paddy</th>\n      <td>3</td>\n    </tr>\n    <tr>\n      <th>seo转线</th>\n      <td>4</td>\n    </tr>\n    <tr>\n      <th>tony</th>\n      <td>15</td>\n    </tr>\n    <tr>\n      <th>zed</th>\n      <td>22</td>\n    </tr>\n    <tr>\n      <th>原电销使用</th>\n      <td>3</td>\n    </tr>\n    <tr>\n      <th>外代-越</th>\n      <td>13</td>\n    </tr>\n    <tr>\n      <th>外部代理总线</th>\n      <td>179</td>\n    </tr>\n    <tr>\n      <th>官网</th>\n      <td>114</td>\n    </tr>\n    <tr>\n      <th>小Peter</th>\n      <td>3</td>\n    </tr>\n    <tr>\n      <th>小Peter越南线</th>\n      <td>1</td>\n    </tr>\n    <tr>\n      <th>技术测试</th>\n      <td>2</td>\n    </tr>\n    <tr>\n      <th>斌哥</th>\n      <td>1</td>\n    </tr>\n    <tr>\n      <th>电销拉回专用</th>\n      <td>2</td>\n    </tr>\n    <tr>\n      <th>真实数据测试账号</th>\n      <td>1</td>\n    </tr>\n    <tr>\n      <th>米乐转线</th>\n      <td>3</td>\n    </tr>\n    <tr>\n      <th>袋鼠</th>\n      <td>1</td>\n    </tr>\n    <tr>\n      <th>酷币</th>\n      <td>1</td>\n    </tr>\n    <tr>\n      <th>雨燕直播</th>\n      <td>32</td>\n    </tr>\n    <tr>\n      <th>雨燕直播-越</th>\n      <td>346</td>\n    </tr>\n    <tr>\n      <th>飞哥雨燕直播</th>\n      <td>117</td>\n    </tr>\n    <tr>\n      <th>鲲鹏admin</th>\n      <td>13</td>\n    </tr>\n  </tbody>\n</table>\n</div>"
     },
     "execution_count": 58,
     "metadata": {},
     "output_type": "execute_result"
    }
   ],
   "source": [
    "grpSEO.rename(columns = {'seo变化数据团队':\"总计\"},inplace=True)\n",
    "grpSEO"
   ],
   "metadata": {
    "collapsed": false
   }
  },
  {
   "cell_type": "code",
   "execution_count": 59,
   "outputs": [
    {
     "data": {
      "text/plain": "    seo变化数据团队   总计\n0       178直播    3\n1     Admin邀请    2\n2       Cyrus    2\n3          DK   52\n4      GT-B直播   16\n5      GT-越南线    2\n6       GT-骨头   63\n7          MM    1\n8   SEO掉线用户转线    8\n9       SEO邀请   44\n10   SOCO越南直播   96\n11       aber   49\n12        ben   17\n13      duobo    1\n14       hugo   16\n15     kk6699    2\n16     martin   81\n17        max    9\n18      paddy    3\n19      seo转线    4\n20       tony   15\n21        zed   22\n22      原电销使用    3\n23       外代-越   13\n24     外部代理总线  179\n25         官网  114\n26     小Peter    3\n27  小Peter越南线    1\n28       技术测试    2\n29         斌哥    1\n30     电销拉回专用    2\n31   真实数据测试账号    1\n32       米乐转线    3\n33         袋鼠    1\n34         酷币    1\n35       雨燕直播   32\n36     雨燕直播-越  346\n37     飞哥雨燕直播  117\n38    鲲鹏admin   13",
      "text/html": "<div>\n<style scoped>\n    .dataframe tbody tr th:only-of-type {\n        vertical-align: middle;\n    }\n\n    .dataframe tbody tr th {\n        vertical-align: top;\n    }\n\n    .dataframe thead th {\n        text-align: right;\n    }\n</style>\n<table border=\"1\" class=\"dataframe\">\n  <thead>\n    <tr style=\"text-align: right;\">\n      <th></th>\n      <th>seo变化数据团队</th>\n      <th>总计</th>\n    </tr>\n  </thead>\n  <tbody>\n    <tr>\n      <th>0</th>\n      <td>178直播</td>\n      <td>3</td>\n    </tr>\n    <tr>\n      <th>1</th>\n      <td>Admin邀请</td>\n      <td>2</td>\n    </tr>\n    <tr>\n      <th>2</th>\n      <td>Cyrus</td>\n      <td>2</td>\n    </tr>\n    <tr>\n      <th>3</th>\n      <td>DK</td>\n      <td>52</td>\n    </tr>\n    <tr>\n      <th>4</th>\n      <td>GT-B直播</td>\n      <td>16</td>\n    </tr>\n    <tr>\n      <th>5</th>\n      <td>GT-越南线</td>\n      <td>2</td>\n    </tr>\n    <tr>\n      <th>6</th>\n      <td>GT-骨头</td>\n      <td>63</td>\n    </tr>\n    <tr>\n      <th>7</th>\n      <td>MM</td>\n      <td>1</td>\n    </tr>\n    <tr>\n      <th>8</th>\n      <td>SEO掉线用户转线</td>\n      <td>8</td>\n    </tr>\n    <tr>\n      <th>9</th>\n      <td>SEO邀请</td>\n      <td>44</td>\n    </tr>\n    <tr>\n      <th>10</th>\n      <td>SOCO越南直播</td>\n      <td>96</td>\n    </tr>\n    <tr>\n      <th>11</th>\n      <td>aber</td>\n      <td>49</td>\n    </tr>\n    <tr>\n      <th>12</th>\n      <td>ben</td>\n      <td>17</td>\n    </tr>\n    <tr>\n      <th>13</th>\n      <td>duobo</td>\n      <td>1</td>\n    </tr>\n    <tr>\n      <th>14</th>\n      <td>hugo</td>\n      <td>16</td>\n    </tr>\n    <tr>\n      <th>15</th>\n      <td>kk6699</td>\n      <td>2</td>\n    </tr>\n    <tr>\n      <th>16</th>\n      <td>martin</td>\n      <td>81</td>\n    </tr>\n    <tr>\n      <th>17</th>\n      <td>max</td>\n      <td>9</td>\n    </tr>\n    <tr>\n      <th>18</th>\n      <td>paddy</td>\n      <td>3</td>\n    </tr>\n    <tr>\n      <th>19</th>\n      <td>seo转线</td>\n      <td>4</td>\n    </tr>\n    <tr>\n      <th>20</th>\n      <td>tony</td>\n      <td>15</td>\n    </tr>\n    <tr>\n      <th>21</th>\n      <td>zed</td>\n      <td>22</td>\n    </tr>\n    <tr>\n      <th>22</th>\n      <td>原电销使用</td>\n      <td>3</td>\n    </tr>\n    <tr>\n      <th>23</th>\n      <td>外代-越</td>\n      <td>13</td>\n    </tr>\n    <tr>\n      <th>24</th>\n      <td>外部代理总线</td>\n      <td>179</td>\n    </tr>\n    <tr>\n      <th>25</th>\n      <td>官网</td>\n      <td>114</td>\n    </tr>\n    <tr>\n      <th>26</th>\n      <td>小Peter</td>\n      <td>3</td>\n    </tr>\n    <tr>\n      <th>27</th>\n      <td>小Peter越南线</td>\n      <td>1</td>\n    </tr>\n    <tr>\n      <th>28</th>\n      <td>技术测试</td>\n      <td>2</td>\n    </tr>\n    <tr>\n      <th>29</th>\n      <td>斌哥</td>\n      <td>1</td>\n    </tr>\n    <tr>\n      <th>30</th>\n      <td>电销拉回专用</td>\n      <td>2</td>\n    </tr>\n    <tr>\n      <th>31</th>\n      <td>真实数据测试账号</td>\n      <td>1</td>\n    </tr>\n    <tr>\n      <th>32</th>\n      <td>米乐转线</td>\n      <td>3</td>\n    </tr>\n    <tr>\n      <th>33</th>\n      <td>袋鼠</td>\n      <td>1</td>\n    </tr>\n    <tr>\n      <th>34</th>\n      <td>酷币</td>\n      <td>1</td>\n    </tr>\n    <tr>\n      <th>35</th>\n      <td>雨燕直播</td>\n      <td>32</td>\n    </tr>\n    <tr>\n      <th>36</th>\n      <td>雨燕直播-越</td>\n      <td>346</td>\n    </tr>\n    <tr>\n      <th>37</th>\n      <td>飞哥雨燕直播</td>\n      <td>117</td>\n    </tr>\n    <tr>\n      <th>38</th>\n      <td>鲲鹏admin</td>\n      <td>13</td>\n    </tr>\n  </tbody>\n</table>\n</div>"
     },
     "execution_count": 59,
     "metadata": {},
     "output_type": "execute_result"
    }
   ],
   "source": [
    "grpSEO.reset_index(inplace=True)\n",
    "grpSEO"
   ],
   "metadata": {
    "collapsed": false
   }
  },
  {
   "cell_type": "code",
   "execution_count": 47,
   "outputs": [
    {
     "data": {
      "text/plain": "       人员  发送IP  接受IP\n0   Paddy     0    51\n1    Tony   568  1136\n2     Max   273   225\n3  Martin  3445  1072\n4     Zed  4853   329\n5    Hugo   103     0\n6    Aber  7325   562\n7      DK  1525  2160\n8     Ben  2565   298",
      "text/html": "<div>\n<style scoped>\n    .dataframe tbody tr th:only-of-type {\n        vertical-align: middle;\n    }\n\n    .dataframe tbody tr th {\n        vertical-align: top;\n    }\n\n    .dataframe thead th {\n        text-align: right;\n    }\n</style>\n<table border=\"1\" class=\"dataframe\">\n  <thead>\n    <tr style=\"text-align: right;\">\n      <th></th>\n      <th>人员</th>\n      <th>发送IP</th>\n      <th>接受IP</th>\n    </tr>\n  </thead>\n  <tbody>\n    <tr>\n      <th>0</th>\n      <td>Paddy</td>\n      <td>0</td>\n      <td>51</td>\n    </tr>\n    <tr>\n      <th>1</th>\n      <td>Tony</td>\n      <td>568</td>\n      <td>1136</td>\n    </tr>\n    <tr>\n      <th>2</th>\n      <td>Max</td>\n      <td>273</td>\n      <td>225</td>\n    </tr>\n    <tr>\n      <th>3</th>\n      <td>Martin</td>\n      <td>3445</td>\n      <td>1072</td>\n    </tr>\n    <tr>\n      <th>4</th>\n      <td>Zed</td>\n      <td>4853</td>\n      <td>329</td>\n    </tr>\n    <tr>\n      <th>5</th>\n      <td>Hugo</td>\n      <td>103</td>\n      <td>0</td>\n    </tr>\n    <tr>\n      <th>6</th>\n      <td>Aber</td>\n      <td>7325</td>\n      <td>562</td>\n    </tr>\n    <tr>\n      <th>7</th>\n      <td>DK</td>\n      <td>1525</td>\n      <td>2160</td>\n    </tr>\n    <tr>\n      <th>8</th>\n      <td>Ben</td>\n      <td>2565</td>\n      <td>298</td>\n    </tr>\n  </tbody>\n</table>\n</div>"
     },
     "execution_count": 47,
     "metadata": {},
     "output_type": "execute_result"
    }
   ],
   "source": [
    "shuju2"
   ],
   "metadata": {
    "collapsed": false
   }
  },
  {
   "cell_type": "code",
   "execution_count": 52,
   "outputs": [
    {
     "data": {
      "text/plain": "       发送IP  接受IP\n人员               \nPaddy     0    51\nTony    568  1136",
      "text/html": "<div>\n<style scoped>\n    .dataframe tbody tr th:only-of-type {\n        vertical-align: middle;\n    }\n\n    .dataframe tbody tr th {\n        vertical-align: top;\n    }\n\n    .dataframe thead th {\n        text-align: right;\n    }\n</style>\n<table border=\"1\" class=\"dataframe\">\n  <thead>\n    <tr style=\"text-align: right;\">\n      <th></th>\n      <th>发送IP</th>\n      <th>接受IP</th>\n    </tr>\n    <tr>\n      <th>人员</th>\n      <th></th>\n      <th></th>\n    </tr>\n  </thead>\n  <tbody>\n    <tr>\n      <th>Paddy</th>\n      <td>0</td>\n      <td>51</td>\n    </tr>\n    <tr>\n      <th>Tony</th>\n      <td>568</td>\n      <td>1136</td>\n    </tr>\n  </tbody>\n</table>\n</div>"
     },
     "execution_count": 52,
     "metadata": {},
     "output_type": "execute_result"
    },
    {
     "data": {
      "text/plain": "           总计\nseo变化数据团队    \n178直播       3\nAdmin邀请     2",
      "text/html": "<div>\n<style scoped>\n    .dataframe tbody tr th:only-of-type {\n        vertical-align: middle;\n    }\n\n    .dataframe tbody tr th {\n        vertical-align: top;\n    }\n\n    .dataframe thead th {\n        text-align: right;\n    }\n</style>\n<table border=\"1\" class=\"dataframe\">\n  <thead>\n    <tr style=\"text-align: right;\">\n      <th></th>\n      <th>总计</th>\n    </tr>\n    <tr>\n      <th>seo变化数据团队</th>\n      <th></th>\n    </tr>\n  </thead>\n  <tbody>\n    <tr>\n      <th>178直播</th>\n      <td>3</td>\n    </tr>\n    <tr>\n      <th>Admin邀请</th>\n      <td>2</td>\n    </tr>\n  </tbody>\n</table>\n</div>"
     },
     "execution_count": 52,
     "metadata": {},
     "output_type": "execute_result"
    }
   ],
   "source": [
    "shuju.head(2)\n",
    "grpSEO.head(2)"
   ],
   "metadata": {
    "collapsed": false
   }
  },
  {
   "cell_type": "code",
   "execution_count": 56,
   "outputs": [],
   "source": [
    "shuju3 = shuju2.copy()"
   ],
   "metadata": {
    "collapsed": false
   }
  },
  {
   "cell_type": "code",
   "execution_count": 59,
   "outputs": [
    {
     "data": {
      "text/plain": "       人员  发送IP  接受IP     人员2\n0   Paddy     0    51   paddy\n1    Tony   568  1136    tony\n2     Max   273   225     max\n3  Martin  3445  1072  martin\n4     Zed  4853   329     zed\n5    Hugo   103     0    hugo\n6    Aber  7325   562    aber\n7      DK  1525  2160      dk\n8     Ben  2565   298     ben",
      "text/html": "<div>\n<style scoped>\n    .dataframe tbody tr th:only-of-type {\n        vertical-align: middle;\n    }\n\n    .dataframe tbody tr th {\n        vertical-align: top;\n    }\n\n    .dataframe thead th {\n        text-align: right;\n    }\n</style>\n<table border=\"1\" class=\"dataframe\">\n  <thead>\n    <tr style=\"text-align: right;\">\n      <th></th>\n      <th>人员</th>\n      <th>发送IP</th>\n      <th>接受IP</th>\n      <th>人员2</th>\n    </tr>\n  </thead>\n  <tbody>\n    <tr>\n      <th>0</th>\n      <td>Paddy</td>\n      <td>0</td>\n      <td>51</td>\n      <td>paddy</td>\n    </tr>\n    <tr>\n      <th>1</th>\n      <td>Tony</td>\n      <td>568</td>\n      <td>1136</td>\n      <td>tony</td>\n    </tr>\n    <tr>\n      <th>2</th>\n      <td>Max</td>\n      <td>273</td>\n      <td>225</td>\n      <td>max</td>\n    </tr>\n    <tr>\n      <th>3</th>\n      <td>Martin</td>\n      <td>3445</td>\n      <td>1072</td>\n      <td>martin</td>\n    </tr>\n    <tr>\n      <th>4</th>\n      <td>Zed</td>\n      <td>4853</td>\n      <td>329</td>\n      <td>zed</td>\n    </tr>\n    <tr>\n      <th>5</th>\n      <td>Hugo</td>\n      <td>103</td>\n      <td>0</td>\n      <td>hugo</td>\n    </tr>\n    <tr>\n      <th>6</th>\n      <td>Aber</td>\n      <td>7325</td>\n      <td>562</td>\n      <td>aber</td>\n    </tr>\n    <tr>\n      <th>7</th>\n      <td>DK</td>\n      <td>1525</td>\n      <td>2160</td>\n      <td>dk</td>\n    </tr>\n    <tr>\n      <th>8</th>\n      <td>Ben</td>\n      <td>2565</td>\n      <td>298</td>\n      <td>ben</td>\n    </tr>\n  </tbody>\n</table>\n</div>"
     },
     "execution_count": 59,
     "metadata": {},
     "output_type": "execute_result"
    }
   ],
   "source": [
    "shuju3['人员2'] = shuju3['人员'].str.lower()\n",
    "shuju3"
   ],
   "metadata": {
    "collapsed": false
   }
  },
  {
   "cell_type": "code",
   "execution_count": 61,
   "outputs": [
    {
     "data": {
      "text/plain": "    seo变化数据团队   总计        人员2\n0       178直播    3      178直播\n1     Admin邀请    2    admin邀请\n2       Cyrus    2      cyrus\n3          DK   52         dk\n4      GT-B直播   16     gt-b直播\n5      GT-越南线    2     gt-越南线\n6       GT-骨头   63      gt-骨头\n7          MM    1         mm\n8   SEO掉线用户转线    8  seo掉线用户转线\n9       SEO邀请   44      seo邀请\n10   SOCO越南直播   96   soco越南直播\n11       aber   49       aber\n12        ben   17        ben\n13      duobo    1      duobo\n14       hugo   16       hugo\n15     kk6699    2     kk6699\n16     martin   81     martin\n17        max    9        max\n18      paddy    3      paddy\n19      seo转线    4      seo转线\n20       tony   15       tony\n21        zed   22        zed\n22      原电销使用    3      原电销使用\n23       外代-越   13       外代-越\n24     外部代理总线  179     外部代理总线\n25         官网  114         官网\n26     小Peter    3     小peter\n27  小Peter越南线    1  小peter越南线\n28       技术测试    2       技术测试\n29         斌哥    1         斌哥\n30     电销拉回专用    2     电销拉回专用\n31   真实数据测试账号    1   真实数据测试账号\n32       米乐转线    3       米乐转线\n33         袋鼠    1         袋鼠\n34         酷币    1         酷币\n35       雨燕直播   32       雨燕直播\n36     雨燕直播-越  346     雨燕直播-越\n37     飞哥雨燕直播  117     飞哥雨燕直播\n38    鲲鹏admin   13    鲲鹏admin",
      "text/html": "<div>\n<style scoped>\n    .dataframe tbody tr th:only-of-type {\n        vertical-align: middle;\n    }\n\n    .dataframe tbody tr th {\n        vertical-align: top;\n    }\n\n    .dataframe thead th {\n        text-align: right;\n    }\n</style>\n<table border=\"1\" class=\"dataframe\">\n  <thead>\n    <tr style=\"text-align: right;\">\n      <th></th>\n      <th>seo变化数据团队</th>\n      <th>总计</th>\n      <th>人员2</th>\n    </tr>\n  </thead>\n  <tbody>\n    <tr>\n      <th>0</th>\n      <td>178直播</td>\n      <td>3</td>\n      <td>178直播</td>\n    </tr>\n    <tr>\n      <th>1</th>\n      <td>Admin邀请</td>\n      <td>2</td>\n      <td>admin邀请</td>\n    </tr>\n    <tr>\n      <th>2</th>\n      <td>Cyrus</td>\n      <td>2</td>\n      <td>cyrus</td>\n    </tr>\n    <tr>\n      <th>3</th>\n      <td>DK</td>\n      <td>52</td>\n      <td>dk</td>\n    </tr>\n    <tr>\n      <th>4</th>\n      <td>GT-B直播</td>\n      <td>16</td>\n      <td>gt-b直播</td>\n    </tr>\n    <tr>\n      <th>5</th>\n      <td>GT-越南线</td>\n      <td>2</td>\n      <td>gt-越南线</td>\n    </tr>\n    <tr>\n      <th>6</th>\n      <td>GT-骨头</td>\n      <td>63</td>\n      <td>gt-骨头</td>\n    </tr>\n    <tr>\n      <th>7</th>\n      <td>MM</td>\n      <td>1</td>\n      <td>mm</td>\n    </tr>\n    <tr>\n      <th>8</th>\n      <td>SEO掉线用户转线</td>\n      <td>8</td>\n      <td>seo掉线用户转线</td>\n    </tr>\n    <tr>\n      <th>9</th>\n      <td>SEO邀请</td>\n      <td>44</td>\n      <td>seo邀请</td>\n    </tr>\n    <tr>\n      <th>10</th>\n      <td>SOCO越南直播</td>\n      <td>96</td>\n      <td>soco越南直播</td>\n    </tr>\n    <tr>\n      <th>11</th>\n      <td>aber</td>\n      <td>49</td>\n      <td>aber</td>\n    </tr>\n    <tr>\n      <th>12</th>\n      <td>ben</td>\n      <td>17</td>\n      <td>ben</td>\n    </tr>\n    <tr>\n      <th>13</th>\n      <td>duobo</td>\n      <td>1</td>\n      <td>duobo</td>\n    </tr>\n    <tr>\n      <th>14</th>\n      <td>hugo</td>\n      <td>16</td>\n      <td>hugo</td>\n    </tr>\n    <tr>\n      <th>15</th>\n      <td>kk6699</td>\n      <td>2</td>\n      <td>kk6699</td>\n    </tr>\n    <tr>\n      <th>16</th>\n      <td>martin</td>\n      <td>81</td>\n      <td>martin</td>\n    </tr>\n    <tr>\n      <th>17</th>\n      <td>max</td>\n      <td>9</td>\n      <td>max</td>\n    </tr>\n    <tr>\n      <th>18</th>\n      <td>paddy</td>\n      <td>3</td>\n      <td>paddy</td>\n    </tr>\n    <tr>\n      <th>19</th>\n      <td>seo转线</td>\n      <td>4</td>\n      <td>seo转线</td>\n    </tr>\n    <tr>\n      <th>20</th>\n      <td>tony</td>\n      <td>15</td>\n      <td>tony</td>\n    </tr>\n    <tr>\n      <th>21</th>\n      <td>zed</td>\n      <td>22</td>\n      <td>zed</td>\n    </tr>\n    <tr>\n      <th>22</th>\n      <td>原电销使用</td>\n      <td>3</td>\n      <td>原电销使用</td>\n    </tr>\n    <tr>\n      <th>23</th>\n      <td>外代-越</td>\n      <td>13</td>\n      <td>外代-越</td>\n    </tr>\n    <tr>\n      <th>24</th>\n      <td>外部代理总线</td>\n      <td>179</td>\n      <td>外部代理总线</td>\n    </tr>\n    <tr>\n      <th>25</th>\n      <td>官网</td>\n      <td>114</td>\n      <td>官网</td>\n    </tr>\n    <tr>\n      <th>26</th>\n      <td>小Peter</td>\n      <td>3</td>\n      <td>小peter</td>\n    </tr>\n    <tr>\n      <th>27</th>\n      <td>小Peter越南线</td>\n      <td>1</td>\n      <td>小peter越南线</td>\n    </tr>\n    <tr>\n      <th>28</th>\n      <td>技术测试</td>\n      <td>2</td>\n      <td>技术测试</td>\n    </tr>\n    <tr>\n      <th>29</th>\n      <td>斌哥</td>\n      <td>1</td>\n      <td>斌哥</td>\n    </tr>\n    <tr>\n      <th>30</th>\n      <td>电销拉回专用</td>\n      <td>2</td>\n      <td>电销拉回专用</td>\n    </tr>\n    <tr>\n      <th>31</th>\n      <td>真实数据测试账号</td>\n      <td>1</td>\n      <td>真实数据测试账号</td>\n    </tr>\n    <tr>\n      <th>32</th>\n      <td>米乐转线</td>\n      <td>3</td>\n      <td>米乐转线</td>\n    </tr>\n    <tr>\n      <th>33</th>\n      <td>袋鼠</td>\n      <td>1</td>\n      <td>袋鼠</td>\n    </tr>\n    <tr>\n      <th>34</th>\n      <td>酷币</td>\n      <td>1</td>\n      <td>酷币</td>\n    </tr>\n    <tr>\n      <th>35</th>\n      <td>雨燕直播</td>\n      <td>32</td>\n      <td>雨燕直播</td>\n    </tr>\n    <tr>\n      <th>36</th>\n      <td>雨燕直播-越</td>\n      <td>346</td>\n      <td>雨燕直播-越</td>\n    </tr>\n    <tr>\n      <th>37</th>\n      <td>飞哥雨燕直播</td>\n      <td>117</td>\n      <td>飞哥雨燕直播</td>\n    </tr>\n    <tr>\n      <th>38</th>\n      <td>鲲鹏admin</td>\n      <td>13</td>\n      <td>鲲鹏admin</td>\n    </tr>\n  </tbody>\n</table>\n</div>"
     },
     "execution_count": 61,
     "metadata": {},
     "output_type": "execute_result"
    }
   ],
   "source": [
    "grpSEO3 = grpSEO2.copy()\n",
    "grpSEO3['人员2'] = grpSEO3['seo变化数据团队'].str.lower()\n",
    "grpSEO3"
   ],
   "metadata": {
    "collapsed": false
   }
  },
  {
   "cell_type": "code",
   "execution_count": 62,
   "outputs": [
    {
     "data": {
      "text/plain": "       人员  发送IP  接受IP     人员2 seo变化数据团队  总计\n0   Paddy     0    51   paddy     paddy   3\n1    Tony   568  1136    tony      tony  15\n2     Max   273   225     max       max   9\n3  Martin  3445  1072  martin    martin  81\n4     Zed  4853   329     zed       zed  22\n5    Hugo   103     0    hugo      hugo  16\n6    Aber  7325   562    aber      aber  49\n7      DK  1525  2160      dk        DK  52\n8     Ben  2565   298     ben       ben  17",
      "text/html": "<div>\n<style scoped>\n    .dataframe tbody tr th:only-of-type {\n        vertical-align: middle;\n    }\n\n    .dataframe tbody tr th {\n        vertical-align: top;\n    }\n\n    .dataframe thead th {\n        text-align: right;\n    }\n</style>\n<table border=\"1\" class=\"dataframe\">\n  <thead>\n    <tr style=\"text-align: right;\">\n      <th></th>\n      <th>人员</th>\n      <th>发送IP</th>\n      <th>接受IP</th>\n      <th>人员2</th>\n      <th>seo变化数据团队</th>\n      <th>总计</th>\n    </tr>\n  </thead>\n  <tbody>\n    <tr>\n      <th>0</th>\n      <td>Paddy</td>\n      <td>0</td>\n      <td>51</td>\n      <td>paddy</td>\n      <td>paddy</td>\n      <td>3</td>\n    </tr>\n    <tr>\n      <th>1</th>\n      <td>Tony</td>\n      <td>568</td>\n      <td>1136</td>\n      <td>tony</td>\n      <td>tony</td>\n      <td>15</td>\n    </tr>\n    <tr>\n      <th>2</th>\n      <td>Max</td>\n      <td>273</td>\n      <td>225</td>\n      <td>max</td>\n      <td>max</td>\n      <td>9</td>\n    </tr>\n    <tr>\n      <th>3</th>\n      <td>Martin</td>\n      <td>3445</td>\n      <td>1072</td>\n      <td>martin</td>\n      <td>martin</td>\n      <td>81</td>\n    </tr>\n    <tr>\n      <th>4</th>\n      <td>Zed</td>\n      <td>4853</td>\n      <td>329</td>\n      <td>zed</td>\n      <td>zed</td>\n      <td>22</td>\n    </tr>\n    <tr>\n      <th>5</th>\n      <td>Hugo</td>\n      <td>103</td>\n      <td>0</td>\n      <td>hugo</td>\n      <td>hugo</td>\n      <td>16</td>\n    </tr>\n    <tr>\n      <th>6</th>\n      <td>Aber</td>\n      <td>7325</td>\n      <td>562</td>\n      <td>aber</td>\n      <td>aber</td>\n      <td>49</td>\n    </tr>\n    <tr>\n      <th>7</th>\n      <td>DK</td>\n      <td>1525</td>\n      <td>2160</td>\n      <td>dk</td>\n      <td>DK</td>\n      <td>52</td>\n    </tr>\n    <tr>\n      <th>8</th>\n      <td>Ben</td>\n      <td>2565</td>\n      <td>298</td>\n      <td>ben</td>\n      <td>ben</td>\n      <td>17</td>\n    </tr>\n  </tbody>\n</table>\n</div>"
     },
     "execution_count": 62,
     "metadata": {},
     "output_type": "execute_result"
    }
   ],
   "source": [
    "shuju4 = pd.merge(shuju3,grpSEO3,on='人员2')\n",
    "shuju4"
   ],
   "metadata": {
    "collapsed": false
   }
  },
  {
   "cell_type": "code",
   "execution_count": 65,
   "outputs": [],
   "source": [
    "shuju5 = shuju4.drop(['人员2','seo变化数据团队'],axis=1)\n",
    "shuju5= shuju5.rename(columns={'总计':'注册'})"
   ],
   "metadata": {
    "collapsed": false
   }
  },
  {
   "cell_type": "code",
   "execution_count": 70,
   "outputs": [
    {
     "data": {
      "text/plain": "       人员  发送IP  接受IP  注册        注册率\n0   Paddy     0    51   3        inf\n1    Tony   568  1136  15   2.640845\n2     Max   273   225   9   3.296703\n3  Martin  3445  1072  81   2.351234\n4     Zed  4853   329  22   0.453328\n5    Hugo   103     0  16  15.533981\n6    Aber  7325   562  49   0.668942\n7      DK  1525  2160  52   3.409836\n8     Ben  2565   298  17   0.662768",
      "text/html": "<div>\n<style scoped>\n    .dataframe tbody tr th:only-of-type {\n        vertical-align: middle;\n    }\n\n    .dataframe tbody tr th {\n        vertical-align: top;\n    }\n\n    .dataframe thead th {\n        text-align: right;\n    }\n</style>\n<table border=\"1\" class=\"dataframe\">\n  <thead>\n    <tr style=\"text-align: right;\">\n      <th></th>\n      <th>人员</th>\n      <th>发送IP</th>\n      <th>接受IP</th>\n      <th>注册</th>\n      <th>注册率</th>\n    </tr>\n  </thead>\n  <tbody>\n    <tr>\n      <th>0</th>\n      <td>Paddy</td>\n      <td>0</td>\n      <td>51</td>\n      <td>3</td>\n      <td>inf</td>\n    </tr>\n    <tr>\n      <th>1</th>\n      <td>Tony</td>\n      <td>568</td>\n      <td>1136</td>\n      <td>15</td>\n      <td>2.640845</td>\n    </tr>\n    <tr>\n      <th>2</th>\n      <td>Max</td>\n      <td>273</td>\n      <td>225</td>\n      <td>9</td>\n      <td>3.296703</td>\n    </tr>\n    <tr>\n      <th>3</th>\n      <td>Martin</td>\n      <td>3445</td>\n      <td>1072</td>\n      <td>81</td>\n      <td>2.351234</td>\n    </tr>\n    <tr>\n      <th>4</th>\n      <td>Zed</td>\n      <td>4853</td>\n      <td>329</td>\n      <td>22</td>\n      <td>0.453328</td>\n    </tr>\n    <tr>\n      <th>5</th>\n      <td>Hugo</td>\n      <td>103</td>\n      <td>0</td>\n      <td>16</td>\n      <td>15.533981</td>\n    </tr>\n    <tr>\n      <th>6</th>\n      <td>Aber</td>\n      <td>7325</td>\n      <td>562</td>\n      <td>49</td>\n      <td>0.668942</td>\n    </tr>\n    <tr>\n      <th>7</th>\n      <td>DK</td>\n      <td>1525</td>\n      <td>2160</td>\n      <td>52</td>\n      <td>3.409836</td>\n    </tr>\n    <tr>\n      <th>8</th>\n      <td>Ben</td>\n      <td>2565</td>\n      <td>298</td>\n      <td>17</td>\n      <td>0.662768</td>\n    </tr>\n  </tbody>\n</table>\n</div>"
     },
     "execution_count": 70,
     "metadata": {},
     "output_type": "execute_result"
    }
   ],
   "source": [
    "shuju5['注册率'] = shuju5['注册']/shuju5['发送IP']*100\n",
    "shuju5"
   ],
   "metadata": {
    "collapsed": false
   }
  },
  {
   "cell_type": "code",
   "execution_count": 76,
   "outputs": [
    {
     "data": {
      "text/plain": "             会员名         所属代理             注册时间            交易时间 交易类型   币种  \\\n0  ngthduyen9999  btyscnb0007   2023/8/7 23:22  2023/8/7 23:43   存款  VND   \n1   Phamvquyen91       vnzb04   2023/8/7 23:27  2023/8/7 23:39   存款  VND   \n2      Angunb666       zh0325   2023/8/7 23:03  2023/8/7 23:34   存款  CNY   \n3       Guong268      gfas001  2023/5/13 23:45  2023/8/7 23:30   存款  VND   \n4   zxcvbnm19064   btyseo7008  2022/7/30 23:35  2023/8/7 23:31   存款  CNY   \n\n           金额         代理线        主线账号 seo变化数据团队        准点激活团队  \n0  11000000.0         NaN         NaN       NaN           NaN  \n1    100000.0      vnzb04      ffvn66    雨燕直播-越  雨燕直播-越ffvn66  \n2       200.0      zh0325      zh0325     SEO邀请           SEO  \n3   4000000.0     gfas001      zh0808    外部代理总线  外部代理总线zh0808  \n4       100.0  btyseo7008  btyseo7008    martin           SEO  ",
      "text/html": "<div>\n<style scoped>\n    .dataframe tbody tr th:only-of-type {\n        vertical-align: middle;\n    }\n\n    .dataframe tbody tr th {\n        vertical-align: top;\n    }\n\n    .dataframe thead th {\n        text-align: right;\n    }\n</style>\n<table border=\"1\" class=\"dataframe\">\n  <thead>\n    <tr style=\"text-align: right;\">\n      <th></th>\n      <th>会员名</th>\n      <th>所属代理</th>\n      <th>注册时间</th>\n      <th>交易时间</th>\n      <th>交易类型</th>\n      <th>币种</th>\n      <th>金额</th>\n      <th>代理线</th>\n      <th>主线账号</th>\n      <th>seo变化数据团队</th>\n      <th>准点激活团队</th>\n    </tr>\n  </thead>\n  <tbody>\n    <tr>\n      <th>0</th>\n      <td>ngthduyen9999</td>\n      <td>btyscnb0007</td>\n      <td>2023/8/7 23:22</td>\n      <td>2023/8/7 23:43</td>\n      <td>存款</td>\n      <td>VND</td>\n      <td>11000000.0</td>\n      <td>NaN</td>\n      <td>NaN</td>\n      <td>NaN</td>\n      <td>NaN</td>\n    </tr>\n    <tr>\n      <th>1</th>\n      <td>Phamvquyen91</td>\n      <td>vnzb04</td>\n      <td>2023/8/7 23:27</td>\n      <td>2023/8/7 23:39</td>\n      <td>存款</td>\n      <td>VND</td>\n      <td>100000.0</td>\n      <td>vnzb04</td>\n      <td>ffvn66</td>\n      <td>雨燕直播-越</td>\n      <td>雨燕直播-越ffvn66</td>\n    </tr>\n    <tr>\n      <th>2</th>\n      <td>Angunb666</td>\n      <td>zh0325</td>\n      <td>2023/8/7 23:03</td>\n      <td>2023/8/7 23:34</td>\n      <td>存款</td>\n      <td>CNY</td>\n      <td>200.0</td>\n      <td>zh0325</td>\n      <td>zh0325</td>\n      <td>SEO邀请</td>\n      <td>SEO</td>\n    </tr>\n    <tr>\n      <th>3</th>\n      <td>Guong268</td>\n      <td>gfas001</td>\n      <td>2023/5/13 23:45</td>\n      <td>2023/8/7 23:30</td>\n      <td>存款</td>\n      <td>VND</td>\n      <td>4000000.0</td>\n      <td>gfas001</td>\n      <td>zh0808</td>\n      <td>外部代理总线</td>\n      <td>外部代理总线zh0808</td>\n    </tr>\n    <tr>\n      <th>4</th>\n      <td>zxcvbnm19064</td>\n      <td>btyseo7008</td>\n      <td>2022/7/30 23:35</td>\n      <td>2023/8/7 23:31</td>\n      <td>存款</td>\n      <td>CNY</td>\n      <td>100.0</td>\n      <td>btyseo7008</td>\n      <td>btyseo7008</td>\n      <td>martin</td>\n      <td>SEO</td>\n    </tr>\n  </tbody>\n</table>\n</div>"
     },
     "execution_count": 76,
     "metadata": {},
     "output_type": "execute_result"
    }
   ],
   "source": [
    "merge_charge = pd.merge(firChargeUser,daili,how='left',left_on='所属代理',right_on='代理线')\n",
    "merge_charge.head()"
   ],
   "metadata": {
    "collapsed": false
   }
  },
  {
   "cell_type": "code",
   "execution_count": 86,
   "outputs": [
    {
     "data": {
      "text/plain": "    seo变化数据团队   开户\n0     admin邀请    1\n1       cyrus    1\n2          dk    5\n3      gt-b直播    5\n4       gt-骨头   20\n5   seo掉线用户转线   16\n6       seo邀请    4\n7    soco越南直播   46\n8        aber   13\n9         ben    6\n10      duobo    1\n11       hugo    5\n12     martin   24\n13      paddy    2\n14       tony    3\n15        zed    8\n16      原电销使用    2\n17       外代-越    3\n18     外部代理总线   31\n19         官网   18\n20        宝马会    1\n21     小peter    2\n22       米乐转线    1\n23         袋鼠    1\n24         酷币    1\n25       雨燕直播   12\n26     雨燕直播-越  145\n27     飞哥雨燕直播   55",
      "text/html": "<div>\n<style scoped>\n    .dataframe tbody tr th:only-of-type {\n        vertical-align: middle;\n    }\n\n    .dataframe tbody tr th {\n        vertical-align: top;\n    }\n\n    .dataframe thead th {\n        text-align: right;\n    }\n</style>\n<table border=\"1\" class=\"dataframe\">\n  <thead>\n    <tr style=\"text-align: right;\">\n      <th></th>\n      <th>seo变化数据团队</th>\n      <th>开户</th>\n    </tr>\n  </thead>\n  <tbody>\n    <tr>\n      <th>0</th>\n      <td>admin邀请</td>\n      <td>1</td>\n    </tr>\n    <tr>\n      <th>1</th>\n      <td>cyrus</td>\n      <td>1</td>\n    </tr>\n    <tr>\n      <th>2</th>\n      <td>dk</td>\n      <td>5</td>\n    </tr>\n    <tr>\n      <th>3</th>\n      <td>gt-b直播</td>\n      <td>5</td>\n    </tr>\n    <tr>\n      <th>4</th>\n      <td>gt-骨头</td>\n      <td>20</td>\n    </tr>\n    <tr>\n      <th>5</th>\n      <td>seo掉线用户转线</td>\n      <td>16</td>\n    </tr>\n    <tr>\n      <th>6</th>\n      <td>seo邀请</td>\n      <td>4</td>\n    </tr>\n    <tr>\n      <th>7</th>\n      <td>soco越南直播</td>\n      <td>46</td>\n    </tr>\n    <tr>\n      <th>8</th>\n      <td>aber</td>\n      <td>13</td>\n    </tr>\n    <tr>\n      <th>9</th>\n      <td>ben</td>\n      <td>6</td>\n    </tr>\n    <tr>\n      <th>10</th>\n      <td>duobo</td>\n      <td>1</td>\n    </tr>\n    <tr>\n      <th>11</th>\n      <td>hugo</td>\n      <td>5</td>\n    </tr>\n    <tr>\n      <th>12</th>\n      <td>martin</td>\n      <td>24</td>\n    </tr>\n    <tr>\n      <th>13</th>\n      <td>paddy</td>\n      <td>2</td>\n    </tr>\n    <tr>\n      <th>14</th>\n      <td>tony</td>\n      <td>3</td>\n    </tr>\n    <tr>\n      <th>15</th>\n      <td>zed</td>\n      <td>8</td>\n    </tr>\n    <tr>\n      <th>16</th>\n      <td>原电销使用</td>\n      <td>2</td>\n    </tr>\n    <tr>\n      <th>17</th>\n      <td>外代-越</td>\n      <td>3</td>\n    </tr>\n    <tr>\n      <th>18</th>\n      <td>外部代理总线</td>\n      <td>31</td>\n    </tr>\n    <tr>\n      <th>19</th>\n      <td>官网</td>\n      <td>18</td>\n    </tr>\n    <tr>\n      <th>20</th>\n      <td>宝马会</td>\n      <td>1</td>\n    </tr>\n    <tr>\n      <th>21</th>\n      <td>小peter</td>\n      <td>2</td>\n    </tr>\n    <tr>\n      <th>22</th>\n      <td>米乐转线</td>\n      <td>1</td>\n    </tr>\n    <tr>\n      <th>23</th>\n      <td>袋鼠</td>\n      <td>1</td>\n    </tr>\n    <tr>\n      <th>24</th>\n      <td>酷币</td>\n      <td>1</td>\n    </tr>\n    <tr>\n      <th>25</th>\n      <td>雨燕直播</td>\n      <td>12</td>\n    </tr>\n    <tr>\n      <th>26</th>\n      <td>雨燕直播-越</td>\n      <td>145</td>\n    </tr>\n    <tr>\n      <th>27</th>\n      <td>飞哥雨燕直播</td>\n      <td>55</td>\n    </tr>\n  </tbody>\n</table>\n</div>"
     },
     "execution_count": 86,
     "metadata": {},
     "output_type": "execute_result"
    }
   ],
   "source": [
    "grpCHARGE = merge_charge.groupby('seo变化数据团队').agg({'seo变化数据团队':len})\n",
    "grpCHARGE= grpCHARGE.rename(columns={'seo变化数据团队':'开户'})\n",
    "grpCHARGE.reset_index(inplace=True)\n",
    "grpCHARGE['seo变化数据团队']=grpCHARGE['seo变化数据团队'].str.lower()\n",
    "grpCHARGE"
   ],
   "metadata": {
    "collapsed": false
   }
  },
  {
   "cell_type": "code",
   "execution_count": 88,
   "outputs": [
    {
     "data": {
      "text/plain": "       人员  发送IP  接受IP     人员2 seo变化数据团队_x  总计 seo变化数据团队_y    开户\n0   Paddy     0    51   paddy       paddy   3       paddy   2.0\n1    Tony   568  1136    tony        tony  15        tony   3.0\n2     Max   273   225     max         max   9         NaN   NaN\n3  Martin  3445  1072  martin      martin  81      martin  24.0\n4     Zed  4853   329     zed         zed  22         zed   8.0\n5    Hugo   103     0    hugo        hugo  16        hugo   5.0\n6    Aber  7325   562    aber        aber  49        aber  13.0\n7      DK  1525  2160      dk          DK  52          dk   5.0\n8     Ben  2565   298     ben         ben  17         ben   6.0",
      "text/html": "<div>\n<style scoped>\n    .dataframe tbody tr th:only-of-type {\n        vertical-align: middle;\n    }\n\n    .dataframe tbody tr th {\n        vertical-align: top;\n    }\n\n    .dataframe thead th {\n        text-align: right;\n    }\n</style>\n<table border=\"1\" class=\"dataframe\">\n  <thead>\n    <tr style=\"text-align: right;\">\n      <th></th>\n      <th>人员</th>\n      <th>发送IP</th>\n      <th>接受IP</th>\n      <th>人员2</th>\n      <th>seo变化数据团队_x</th>\n      <th>总计</th>\n      <th>seo变化数据团队_y</th>\n      <th>开户</th>\n    </tr>\n  </thead>\n  <tbody>\n    <tr>\n      <th>0</th>\n      <td>Paddy</td>\n      <td>0</td>\n      <td>51</td>\n      <td>paddy</td>\n      <td>paddy</td>\n      <td>3</td>\n      <td>paddy</td>\n      <td>2.0</td>\n    </tr>\n    <tr>\n      <th>1</th>\n      <td>Tony</td>\n      <td>568</td>\n      <td>1136</td>\n      <td>tony</td>\n      <td>tony</td>\n      <td>15</td>\n      <td>tony</td>\n      <td>3.0</td>\n    </tr>\n    <tr>\n      <th>2</th>\n      <td>Max</td>\n      <td>273</td>\n      <td>225</td>\n      <td>max</td>\n      <td>max</td>\n      <td>9</td>\n      <td>NaN</td>\n      <td>NaN</td>\n    </tr>\n    <tr>\n      <th>3</th>\n      <td>Martin</td>\n      <td>3445</td>\n      <td>1072</td>\n      <td>martin</td>\n      <td>martin</td>\n      <td>81</td>\n      <td>martin</td>\n      <td>24.0</td>\n    </tr>\n    <tr>\n      <th>4</th>\n      <td>Zed</td>\n      <td>4853</td>\n      <td>329</td>\n      <td>zed</td>\n      <td>zed</td>\n      <td>22</td>\n      <td>zed</td>\n      <td>8.0</td>\n    </tr>\n    <tr>\n      <th>5</th>\n      <td>Hugo</td>\n      <td>103</td>\n      <td>0</td>\n      <td>hugo</td>\n      <td>hugo</td>\n      <td>16</td>\n      <td>hugo</td>\n      <td>5.0</td>\n    </tr>\n    <tr>\n      <th>6</th>\n      <td>Aber</td>\n      <td>7325</td>\n      <td>562</td>\n      <td>aber</td>\n      <td>aber</td>\n      <td>49</td>\n      <td>aber</td>\n      <td>13.0</td>\n    </tr>\n    <tr>\n      <th>7</th>\n      <td>DK</td>\n      <td>1525</td>\n      <td>2160</td>\n      <td>dk</td>\n      <td>DK</td>\n      <td>52</td>\n      <td>dk</td>\n      <td>5.0</td>\n    </tr>\n    <tr>\n      <th>8</th>\n      <td>Ben</td>\n      <td>2565</td>\n      <td>298</td>\n      <td>ben</td>\n      <td>ben</td>\n      <td>17</td>\n      <td>ben</td>\n      <td>6.0</td>\n    </tr>\n  </tbody>\n</table>\n</div>"
     },
     "execution_count": 88,
     "metadata": {},
     "output_type": "execute_result"
    }
   ],
   "source": [
    "shuju6 = pd.merge(shuju4,grpCHARGE,how='left',left_on='人员2',right_on='seo变化数据团队')\n",
    "shuju6"
   ],
   "metadata": {
    "collapsed": false
   }
  },
  {
   "cell_type": "code",
   "execution_count": 90,
   "outputs": [
    {
     "data": {
      "text/plain": "       人员  发送IP  接受IP     人员2 seo变化数据团队_x  注册 seo变化数据团队_y    开户\n0   Paddy     0    51   paddy       paddy   3       paddy   2.0\n1    Tony   568  1136    tony        tony  15        tony   3.0\n2     Max   273   225     max         max   9         NaN   NaN\n3  Martin  3445  1072  martin      martin  81      martin  24.0\n4     Zed  4853   329     zed         zed  22         zed   8.0\n5    Hugo   103     0    hugo        hugo  16        hugo   5.0\n6    Aber  7325   562    aber        aber  49        aber  13.0\n7      DK  1525  2160      dk          DK  52          dk   5.0\n8     Ben  2565   298     ben         ben  17         ben   6.0",
      "text/html": "<div>\n<style scoped>\n    .dataframe tbody tr th:only-of-type {\n        vertical-align: middle;\n    }\n\n    .dataframe tbody tr th {\n        vertical-align: top;\n    }\n\n    .dataframe thead th {\n        text-align: right;\n    }\n</style>\n<table border=\"1\" class=\"dataframe\">\n  <thead>\n    <tr style=\"text-align: right;\">\n      <th></th>\n      <th>人员</th>\n      <th>发送IP</th>\n      <th>接受IP</th>\n      <th>人员2</th>\n      <th>seo变化数据团队_x</th>\n      <th>注册</th>\n      <th>seo变化数据团队_y</th>\n      <th>开户</th>\n    </tr>\n  </thead>\n  <tbody>\n    <tr>\n      <th>0</th>\n      <td>Paddy</td>\n      <td>0</td>\n      <td>51</td>\n      <td>paddy</td>\n      <td>paddy</td>\n      <td>3</td>\n      <td>paddy</td>\n      <td>2.0</td>\n    </tr>\n    <tr>\n      <th>1</th>\n      <td>Tony</td>\n      <td>568</td>\n      <td>1136</td>\n      <td>tony</td>\n      <td>tony</td>\n      <td>15</td>\n      <td>tony</td>\n      <td>3.0</td>\n    </tr>\n    <tr>\n      <th>2</th>\n      <td>Max</td>\n      <td>273</td>\n      <td>225</td>\n      <td>max</td>\n      <td>max</td>\n      <td>9</td>\n      <td>NaN</td>\n      <td>NaN</td>\n    </tr>\n    <tr>\n      <th>3</th>\n      <td>Martin</td>\n      <td>3445</td>\n      <td>1072</td>\n      <td>martin</td>\n      <td>martin</td>\n      <td>81</td>\n      <td>martin</td>\n      <td>24.0</td>\n    </tr>\n    <tr>\n      <th>4</th>\n      <td>Zed</td>\n      <td>4853</td>\n      <td>329</td>\n      <td>zed</td>\n      <td>zed</td>\n      <td>22</td>\n      <td>zed</td>\n      <td>8.0</td>\n    </tr>\n    <tr>\n      <th>5</th>\n      <td>Hugo</td>\n      <td>103</td>\n      <td>0</td>\n      <td>hugo</td>\n      <td>hugo</td>\n      <td>16</td>\n      <td>hugo</td>\n      <td>5.0</td>\n    </tr>\n    <tr>\n      <th>6</th>\n      <td>Aber</td>\n      <td>7325</td>\n      <td>562</td>\n      <td>aber</td>\n      <td>aber</td>\n      <td>49</td>\n      <td>aber</td>\n      <td>13.0</td>\n    </tr>\n    <tr>\n      <th>7</th>\n      <td>DK</td>\n      <td>1525</td>\n      <td>2160</td>\n      <td>dk</td>\n      <td>DK</td>\n      <td>52</td>\n      <td>dk</td>\n      <td>5.0</td>\n    </tr>\n    <tr>\n      <th>8</th>\n      <td>Ben</td>\n      <td>2565</td>\n      <td>298</td>\n      <td>ben</td>\n      <td>ben</td>\n      <td>17</td>\n      <td>ben</td>\n      <td>6.0</td>\n    </tr>\n  </tbody>\n</table>\n</div>"
     },
     "execution_count": 90,
     "metadata": {},
     "output_type": "execute_result"
    }
   ],
   "source": [
    "shuju6.rename(columns={'总计':'注册'},inplace=True)\n",
    "shuju6"
   ],
   "metadata": {
    "collapsed": false
   }
  },
  {
   "cell_type": "code",
   "execution_count": 92,
   "outputs": [
    {
     "data": {
      "text/plain": "       人员  发送IP  接受IP     人员2  注册    开户\n0   Paddy     0    51   paddy   3   2.0\n1    Tony   568  1136    tony  15   3.0\n2     Max   273   225     max   9   NaN\n3  Martin  3445  1072  martin  81  24.0\n4     Zed  4853   329     zed  22   8.0\n5    Hugo   103     0    hugo  16   5.0\n6    Aber  7325   562    aber  49  13.0\n7      DK  1525  2160      dk  52   5.0\n8     Ben  2565   298     ben  17   6.0",
      "text/html": "<div>\n<style scoped>\n    .dataframe tbody tr th:only-of-type {\n        vertical-align: middle;\n    }\n\n    .dataframe tbody tr th {\n        vertical-align: top;\n    }\n\n    .dataframe thead th {\n        text-align: right;\n    }\n</style>\n<table border=\"1\" class=\"dataframe\">\n  <thead>\n    <tr style=\"text-align: right;\">\n      <th></th>\n      <th>人员</th>\n      <th>发送IP</th>\n      <th>接受IP</th>\n      <th>人员2</th>\n      <th>注册</th>\n      <th>开户</th>\n    </tr>\n  </thead>\n  <tbody>\n    <tr>\n      <th>0</th>\n      <td>Paddy</td>\n      <td>0</td>\n      <td>51</td>\n      <td>paddy</td>\n      <td>3</td>\n      <td>2.0</td>\n    </tr>\n    <tr>\n      <th>1</th>\n      <td>Tony</td>\n      <td>568</td>\n      <td>1136</td>\n      <td>tony</td>\n      <td>15</td>\n      <td>3.0</td>\n    </tr>\n    <tr>\n      <th>2</th>\n      <td>Max</td>\n      <td>273</td>\n      <td>225</td>\n      <td>max</td>\n      <td>9</td>\n      <td>NaN</td>\n    </tr>\n    <tr>\n      <th>3</th>\n      <td>Martin</td>\n      <td>3445</td>\n      <td>1072</td>\n      <td>martin</td>\n      <td>81</td>\n      <td>24.0</td>\n    </tr>\n    <tr>\n      <th>4</th>\n      <td>Zed</td>\n      <td>4853</td>\n      <td>329</td>\n      <td>zed</td>\n      <td>22</td>\n      <td>8.0</td>\n    </tr>\n    <tr>\n      <th>5</th>\n      <td>Hugo</td>\n      <td>103</td>\n      <td>0</td>\n      <td>hugo</td>\n      <td>16</td>\n      <td>5.0</td>\n    </tr>\n    <tr>\n      <th>6</th>\n      <td>Aber</td>\n      <td>7325</td>\n      <td>562</td>\n      <td>aber</td>\n      <td>49</td>\n      <td>13.0</td>\n    </tr>\n    <tr>\n      <th>7</th>\n      <td>DK</td>\n      <td>1525</td>\n      <td>2160</td>\n      <td>dk</td>\n      <td>52</td>\n      <td>5.0</td>\n    </tr>\n    <tr>\n      <th>8</th>\n      <td>Ben</td>\n      <td>2565</td>\n      <td>298</td>\n      <td>ben</td>\n      <td>17</td>\n      <td>6.0</td>\n    </tr>\n  </tbody>\n</table>\n</div>"
     },
     "execution_count": 92,
     "metadata": {},
     "output_type": "execute_result"
    }
   ],
   "source": [
    "shuju6.drop(['seo变化数据团队_x','seo变化数据团队_y'],axis=1,inplace=True)\n",
    "shuju6"
   ],
   "metadata": {
    "collapsed": false
   }
  },
  {
   "cell_type": "code",
   "execution_count": 94,
   "outputs": [
    {
     "data": {
      "text/plain": "       人员  发送IP  接受IP     人员2  注册    开户        注册率        转化率\n0   Paddy     0    51   paddy   3   2.0        inf  66.666667\n1    Tony   568  1136    tony  15   3.0   2.640845  20.000000\n2     Max   273   225     max   9   NaN   3.296703        NaN\n3  Martin  3445  1072  martin  81  24.0   2.351234  29.629630\n4     Zed  4853   329     zed  22   8.0   0.453328  36.363636\n5    Hugo   103     0    hugo  16   5.0  15.533981  31.250000\n6    Aber  7325   562    aber  49  13.0   0.668942  26.530612\n7      DK  1525  2160      dk  52   5.0   3.409836   9.615385\n8     Ben  2565   298     ben  17   6.0   0.662768  35.294118",
      "text/html": "<div>\n<style scoped>\n    .dataframe tbody tr th:only-of-type {\n        vertical-align: middle;\n    }\n\n    .dataframe tbody tr th {\n        vertical-align: top;\n    }\n\n    .dataframe thead th {\n        text-align: right;\n    }\n</style>\n<table border=\"1\" class=\"dataframe\">\n  <thead>\n    <tr style=\"text-align: right;\">\n      <th></th>\n      <th>人员</th>\n      <th>发送IP</th>\n      <th>接受IP</th>\n      <th>人员2</th>\n      <th>注册</th>\n      <th>开户</th>\n      <th>注册率</th>\n      <th>转化率</th>\n    </tr>\n  </thead>\n  <tbody>\n    <tr>\n      <th>0</th>\n      <td>Paddy</td>\n      <td>0</td>\n      <td>51</td>\n      <td>paddy</td>\n      <td>3</td>\n      <td>2.0</td>\n      <td>inf</td>\n      <td>66.666667</td>\n    </tr>\n    <tr>\n      <th>1</th>\n      <td>Tony</td>\n      <td>568</td>\n      <td>1136</td>\n      <td>tony</td>\n      <td>15</td>\n      <td>3.0</td>\n      <td>2.640845</td>\n      <td>20.000000</td>\n    </tr>\n    <tr>\n      <th>2</th>\n      <td>Max</td>\n      <td>273</td>\n      <td>225</td>\n      <td>max</td>\n      <td>9</td>\n      <td>NaN</td>\n      <td>3.296703</td>\n      <td>NaN</td>\n    </tr>\n    <tr>\n      <th>3</th>\n      <td>Martin</td>\n      <td>3445</td>\n      <td>1072</td>\n      <td>martin</td>\n      <td>81</td>\n      <td>24.0</td>\n      <td>2.351234</td>\n      <td>29.629630</td>\n    </tr>\n    <tr>\n      <th>4</th>\n      <td>Zed</td>\n      <td>4853</td>\n      <td>329</td>\n      <td>zed</td>\n      <td>22</td>\n      <td>8.0</td>\n      <td>0.453328</td>\n      <td>36.363636</td>\n    </tr>\n    <tr>\n      <th>5</th>\n      <td>Hugo</td>\n      <td>103</td>\n      <td>0</td>\n      <td>hugo</td>\n      <td>16</td>\n      <td>5.0</td>\n      <td>15.533981</td>\n      <td>31.250000</td>\n    </tr>\n    <tr>\n      <th>6</th>\n      <td>Aber</td>\n      <td>7325</td>\n      <td>562</td>\n      <td>aber</td>\n      <td>49</td>\n      <td>13.0</td>\n      <td>0.668942</td>\n      <td>26.530612</td>\n    </tr>\n    <tr>\n      <th>7</th>\n      <td>DK</td>\n      <td>1525</td>\n      <td>2160</td>\n      <td>dk</td>\n      <td>52</td>\n      <td>5.0</td>\n      <td>3.409836</td>\n      <td>9.615385</td>\n    </tr>\n    <tr>\n      <th>8</th>\n      <td>Ben</td>\n      <td>2565</td>\n      <td>298</td>\n      <td>ben</td>\n      <td>17</td>\n      <td>6.0</td>\n      <td>0.662768</td>\n      <td>35.294118</td>\n    </tr>\n  </tbody>\n</table>\n</div>"
     },
     "execution_count": 94,
     "metadata": {},
     "output_type": "execute_result"
    }
   ],
   "source": [
    "shuju6['注册率'] = shuju6['注册']/shuju6['发送IP']*100\n",
    "shuju6['转化率'] = shuju6['开户']/shuju6['注册']*100\n",
    "shuju6"
   ],
   "metadata": {
    "collapsed": false
   }
  },
  {
   "cell_type": "code",
   "execution_count": 96,
   "outputs": [
    {
     "data": {
      "text/plain": "['人员', '发送IP', '接受IP', '人员2', '注册', '开户', '注册率', '转化率']"
     },
     "execution_count": 96,
     "metadata": {},
     "output_type": "execute_result"
    }
   ],
   "source": [
    "list(shuju6.columns)"
   ],
   "metadata": {
    "collapsed": false
   }
  },
  {
   "cell_type": "code",
   "execution_count": 105,
   "outputs": [],
   "source": [
    "shuju6 = shuju6.iloc[:,:5].join(shuju6['注册率']).join(shuju6['开户']).join(shuju6['转化率'])"
   ],
   "metadata": {
    "collapsed": false
   }
  },
  {
   "cell_type": "code",
   "execution_count": 106,
   "outputs": [
    {
     "data": {
      "text/plain": "       人员  发送IP  接受IP     人员2  注册        注册率    开户        转化率\n0   Paddy     0    51   paddy   3        inf   2.0  66.666667\n1    Tony   568  1136    tony  15   2.640845   3.0  20.000000\n2     Max   273   225     max   9   3.296703   NaN        NaN\n3  Martin  3445  1072  martin  81   2.351234  24.0  29.629630\n4     Zed  4853   329     zed  22   0.453328   8.0  36.363636\n5    Hugo   103     0    hugo  16  15.533981   5.0  31.250000\n6    Aber  7325   562    aber  49   0.668942  13.0  26.530612\n7      DK  1525  2160      dk  52   3.409836   5.0   9.615385\n8     Ben  2565   298     ben  17   0.662768   6.0  35.294118",
      "text/html": "<div>\n<style scoped>\n    .dataframe tbody tr th:only-of-type {\n        vertical-align: middle;\n    }\n\n    .dataframe tbody tr th {\n        vertical-align: top;\n    }\n\n    .dataframe thead th {\n        text-align: right;\n    }\n</style>\n<table border=\"1\" class=\"dataframe\">\n  <thead>\n    <tr style=\"text-align: right;\">\n      <th></th>\n      <th>人员</th>\n      <th>发送IP</th>\n      <th>接受IP</th>\n      <th>人员2</th>\n      <th>注册</th>\n      <th>注册率</th>\n      <th>开户</th>\n      <th>转化率</th>\n    </tr>\n  </thead>\n  <tbody>\n    <tr>\n      <th>0</th>\n      <td>Paddy</td>\n      <td>0</td>\n      <td>51</td>\n      <td>paddy</td>\n      <td>3</td>\n      <td>inf</td>\n      <td>2.0</td>\n      <td>66.666667</td>\n    </tr>\n    <tr>\n      <th>1</th>\n      <td>Tony</td>\n      <td>568</td>\n      <td>1136</td>\n      <td>tony</td>\n      <td>15</td>\n      <td>2.640845</td>\n      <td>3.0</td>\n      <td>20.000000</td>\n    </tr>\n    <tr>\n      <th>2</th>\n      <td>Max</td>\n      <td>273</td>\n      <td>225</td>\n      <td>max</td>\n      <td>9</td>\n      <td>3.296703</td>\n      <td>NaN</td>\n      <td>NaN</td>\n    </tr>\n    <tr>\n      <th>3</th>\n      <td>Martin</td>\n      <td>3445</td>\n      <td>1072</td>\n      <td>martin</td>\n      <td>81</td>\n      <td>2.351234</td>\n      <td>24.0</td>\n      <td>29.629630</td>\n    </tr>\n    <tr>\n      <th>4</th>\n      <td>Zed</td>\n      <td>4853</td>\n      <td>329</td>\n      <td>zed</td>\n      <td>22</td>\n      <td>0.453328</td>\n      <td>8.0</td>\n      <td>36.363636</td>\n    </tr>\n    <tr>\n      <th>5</th>\n      <td>Hugo</td>\n      <td>103</td>\n      <td>0</td>\n      <td>hugo</td>\n      <td>16</td>\n      <td>15.533981</td>\n      <td>5.0</td>\n      <td>31.250000</td>\n    </tr>\n    <tr>\n      <th>6</th>\n      <td>Aber</td>\n      <td>7325</td>\n      <td>562</td>\n      <td>aber</td>\n      <td>49</td>\n      <td>0.668942</td>\n      <td>13.0</td>\n      <td>26.530612</td>\n    </tr>\n    <tr>\n      <th>7</th>\n      <td>DK</td>\n      <td>1525</td>\n      <td>2160</td>\n      <td>dk</td>\n      <td>52</td>\n      <td>3.409836</td>\n      <td>5.0</td>\n      <td>9.615385</td>\n    </tr>\n    <tr>\n      <th>8</th>\n      <td>Ben</td>\n      <td>2565</td>\n      <td>298</td>\n      <td>ben</td>\n      <td>17</td>\n      <td>0.662768</td>\n      <td>6.0</td>\n      <td>35.294118</td>\n    </tr>\n  </tbody>\n</table>\n</div>"
     },
     "execution_count": 106,
     "metadata": {},
     "output_type": "execute_result"
    }
   ],
   "source": [
    "shuju6"
   ],
   "metadata": {
    "collapsed": false
   }
  },
  {
   "cell_type": "code",
   "execution_count": 117,
   "outputs": [
    {
     "data": {
      "text/plain": "           seo变化数据团队\nseo变化数据团队           \nDK                 5\nGT-B直播             2\nGT-骨头             15\nSEO掉线用户转线          1\nSEO邀请              3\nSOCO越南直播          21\naber               9\nben                3\nduobo              1\nhugo               2\nmartin            18\npaddy              2\ntony               3\nzed                8\n原电销使用              2\n外代-越               3\n外部代理总线            24\n官网                17\n袋鼠                 1\n酷币                 1\n雨燕直播               6\n雨燕直播-越           119\n飞哥雨燕直播            39",
      "text/html": "<div>\n<style scoped>\n    .dataframe tbody tr th:only-of-type {\n        vertical-align: middle;\n    }\n\n    .dataframe tbody tr th {\n        vertical-align: top;\n    }\n\n    .dataframe thead th {\n        text-align: right;\n    }\n</style>\n<table border=\"1\" class=\"dataframe\">\n  <thead>\n    <tr style=\"text-align: right;\">\n      <th></th>\n      <th>seo变化数据团队</th>\n    </tr>\n    <tr>\n      <th>seo变化数据团队</th>\n      <th></th>\n    </tr>\n  </thead>\n  <tbody>\n    <tr>\n      <th>DK</th>\n      <td>5</td>\n    </tr>\n    <tr>\n      <th>GT-B直播</th>\n      <td>2</td>\n    </tr>\n    <tr>\n      <th>GT-骨头</th>\n      <td>15</td>\n    </tr>\n    <tr>\n      <th>SEO掉线用户转线</th>\n      <td>1</td>\n    </tr>\n    <tr>\n      <th>SEO邀请</th>\n      <td>3</td>\n    </tr>\n    <tr>\n      <th>SOCO越南直播</th>\n      <td>21</td>\n    </tr>\n    <tr>\n      <th>aber</th>\n      <td>9</td>\n    </tr>\n    <tr>\n      <th>ben</th>\n      <td>3</td>\n    </tr>\n    <tr>\n      <th>duobo</th>\n      <td>1</td>\n    </tr>\n    <tr>\n      <th>hugo</th>\n      <td>2</td>\n    </tr>\n    <tr>\n      <th>martin</th>\n      <td>18</td>\n    </tr>\n    <tr>\n      <th>paddy</th>\n      <td>2</td>\n    </tr>\n    <tr>\n      <th>tony</th>\n      <td>3</td>\n    </tr>\n    <tr>\n      <th>zed</th>\n      <td>8</td>\n    </tr>\n    <tr>\n      <th>原电销使用</th>\n      <td>2</td>\n    </tr>\n    <tr>\n      <th>外代-越</th>\n      <td>3</td>\n    </tr>\n    <tr>\n      <th>外部代理总线</th>\n      <td>24</td>\n    </tr>\n    <tr>\n      <th>官网</th>\n      <td>17</td>\n    </tr>\n    <tr>\n      <th>袋鼠</th>\n      <td>1</td>\n    </tr>\n    <tr>\n      <th>酷币</th>\n      <td>1</td>\n    </tr>\n    <tr>\n      <th>雨燕直播</th>\n      <td>6</td>\n    </tr>\n    <tr>\n      <th>雨燕直播-越</th>\n      <td>119</td>\n    </tr>\n    <tr>\n      <th>飞哥雨燕直播</th>\n      <td>39</td>\n    </tr>\n  </tbody>\n</table>\n</div>"
     },
     "execution_count": 117,
     "metadata": {},
     "output_type": "execute_result"
    }
   ],
   "source": [
    "grp3  = merge_charge[merge_charge['注册时间'].str[:9]==merge_charge['交易时间'].str[:9]].groupby('seo变化数据团队').agg({'seo变化数据团队':len})\n",
    "grp3"
   ],
   "metadata": {
    "collapsed": false
   }
  },
  {
   "cell_type": "code",
   "execution_count": 120,
   "outputs": [
    {
     "data": {
      "text/plain": "    seo变化数据团队  当日注册并开户\n0          DK        5\n1      GT-B直播        2\n2       GT-骨头       15\n3   SEO掉线用户转线        1\n4       SEO邀请        3\n5    SOCO越南直播       21\n6        aber        9\n7         ben        3\n8       duobo        1\n9        hugo        2\n10     martin       18\n11      paddy        2\n12       tony        3\n13        zed        8\n14      原电销使用        2\n15       外代-越        3\n16     外部代理总线       24\n17         官网       17\n18         袋鼠        1\n19         酷币        1\n20       雨燕直播        6\n21     雨燕直播-越      119\n22     飞哥雨燕直播       39",
      "text/html": "<div>\n<style scoped>\n    .dataframe tbody tr th:only-of-type {\n        vertical-align: middle;\n    }\n\n    .dataframe tbody tr th {\n        vertical-align: top;\n    }\n\n    .dataframe thead th {\n        text-align: right;\n    }\n</style>\n<table border=\"1\" class=\"dataframe\">\n  <thead>\n    <tr style=\"text-align: right;\">\n      <th></th>\n      <th>seo变化数据团队</th>\n      <th>当日注册并开户</th>\n    </tr>\n  </thead>\n  <tbody>\n    <tr>\n      <th>0</th>\n      <td>DK</td>\n      <td>5</td>\n    </tr>\n    <tr>\n      <th>1</th>\n      <td>GT-B直播</td>\n      <td>2</td>\n    </tr>\n    <tr>\n      <th>2</th>\n      <td>GT-骨头</td>\n      <td>15</td>\n    </tr>\n    <tr>\n      <th>3</th>\n      <td>SEO掉线用户转线</td>\n      <td>1</td>\n    </tr>\n    <tr>\n      <th>4</th>\n      <td>SEO邀请</td>\n      <td>3</td>\n    </tr>\n    <tr>\n      <th>5</th>\n      <td>SOCO越南直播</td>\n      <td>21</td>\n    </tr>\n    <tr>\n      <th>6</th>\n      <td>aber</td>\n      <td>9</td>\n    </tr>\n    <tr>\n      <th>7</th>\n      <td>ben</td>\n      <td>3</td>\n    </tr>\n    <tr>\n      <th>8</th>\n      <td>duobo</td>\n      <td>1</td>\n    </tr>\n    <tr>\n      <th>9</th>\n      <td>hugo</td>\n      <td>2</td>\n    </tr>\n    <tr>\n      <th>10</th>\n      <td>martin</td>\n      <td>18</td>\n    </tr>\n    <tr>\n      <th>11</th>\n      <td>paddy</td>\n      <td>2</td>\n    </tr>\n    <tr>\n      <th>12</th>\n      <td>tony</td>\n      <td>3</td>\n    </tr>\n    <tr>\n      <th>13</th>\n      <td>zed</td>\n      <td>8</td>\n    </tr>\n    <tr>\n      <th>14</th>\n      <td>原电销使用</td>\n      <td>2</td>\n    </tr>\n    <tr>\n      <th>15</th>\n      <td>外代-越</td>\n      <td>3</td>\n    </tr>\n    <tr>\n      <th>16</th>\n      <td>外部代理总线</td>\n      <td>24</td>\n    </tr>\n    <tr>\n      <th>17</th>\n      <td>官网</td>\n      <td>17</td>\n    </tr>\n    <tr>\n      <th>18</th>\n      <td>袋鼠</td>\n      <td>1</td>\n    </tr>\n    <tr>\n      <th>19</th>\n      <td>酷币</td>\n      <td>1</td>\n    </tr>\n    <tr>\n      <th>20</th>\n      <td>雨燕直播</td>\n      <td>6</td>\n    </tr>\n    <tr>\n      <th>21</th>\n      <td>雨燕直播-越</td>\n      <td>119</td>\n    </tr>\n    <tr>\n      <th>22</th>\n      <td>飞哥雨燕直播</td>\n      <td>39</td>\n    </tr>\n  </tbody>\n</table>\n</div>"
     },
     "execution_count": 120,
     "metadata": {},
     "output_type": "execute_result"
    }
   ],
   "source": [
    "grp3.rename(columns = {'seo变化数据团队':'当日注册并开户'},inplace=True)\n",
    "grp3.reset_index(inplace=True)\n",
    "grp3"
   ],
   "metadata": {
    "collapsed": false
   }
  },
  {
   "cell_type": "code",
   "execution_count": 121,
   "outputs": [
    {
     "data": {
      "text/plain": "    seo变化数据团队  当日注册并开户\n0          dk        5\n1      gt-b直播        2\n2       gt-骨头       15\n3   seo掉线用户转线        1\n4       seo邀请        3\n5    soco越南直播       21\n6        aber        9\n7         ben        3\n8       duobo        1\n9        hugo        2\n10     martin       18\n11      paddy        2\n12       tony        3\n13        zed        8\n14      原电销使用        2\n15       外代-越        3\n16     外部代理总线       24\n17         官网       17\n18         袋鼠        1\n19         酷币        1\n20       雨燕直播        6\n21     雨燕直播-越      119\n22     飞哥雨燕直播       39",
      "text/html": "<div>\n<style scoped>\n    .dataframe tbody tr th:only-of-type {\n        vertical-align: middle;\n    }\n\n    .dataframe tbody tr th {\n        vertical-align: top;\n    }\n\n    .dataframe thead th {\n        text-align: right;\n    }\n</style>\n<table border=\"1\" class=\"dataframe\">\n  <thead>\n    <tr style=\"text-align: right;\">\n      <th></th>\n      <th>seo变化数据团队</th>\n      <th>当日注册并开户</th>\n    </tr>\n  </thead>\n  <tbody>\n    <tr>\n      <th>0</th>\n      <td>dk</td>\n      <td>5</td>\n    </tr>\n    <tr>\n      <th>1</th>\n      <td>gt-b直播</td>\n      <td>2</td>\n    </tr>\n    <tr>\n      <th>2</th>\n      <td>gt-骨头</td>\n      <td>15</td>\n    </tr>\n    <tr>\n      <th>3</th>\n      <td>seo掉线用户转线</td>\n      <td>1</td>\n    </tr>\n    <tr>\n      <th>4</th>\n      <td>seo邀请</td>\n      <td>3</td>\n    </tr>\n    <tr>\n      <th>5</th>\n      <td>soco越南直播</td>\n      <td>21</td>\n    </tr>\n    <tr>\n      <th>6</th>\n      <td>aber</td>\n      <td>9</td>\n    </tr>\n    <tr>\n      <th>7</th>\n      <td>ben</td>\n      <td>3</td>\n    </tr>\n    <tr>\n      <th>8</th>\n      <td>duobo</td>\n      <td>1</td>\n    </tr>\n    <tr>\n      <th>9</th>\n      <td>hugo</td>\n      <td>2</td>\n    </tr>\n    <tr>\n      <th>10</th>\n      <td>martin</td>\n      <td>18</td>\n    </tr>\n    <tr>\n      <th>11</th>\n      <td>paddy</td>\n      <td>2</td>\n    </tr>\n    <tr>\n      <th>12</th>\n      <td>tony</td>\n      <td>3</td>\n    </tr>\n    <tr>\n      <th>13</th>\n      <td>zed</td>\n      <td>8</td>\n    </tr>\n    <tr>\n      <th>14</th>\n      <td>原电销使用</td>\n      <td>2</td>\n    </tr>\n    <tr>\n      <th>15</th>\n      <td>外代-越</td>\n      <td>3</td>\n    </tr>\n    <tr>\n      <th>16</th>\n      <td>外部代理总线</td>\n      <td>24</td>\n    </tr>\n    <tr>\n      <th>17</th>\n      <td>官网</td>\n      <td>17</td>\n    </tr>\n    <tr>\n      <th>18</th>\n      <td>袋鼠</td>\n      <td>1</td>\n    </tr>\n    <tr>\n      <th>19</th>\n      <td>酷币</td>\n      <td>1</td>\n    </tr>\n    <tr>\n      <th>20</th>\n      <td>雨燕直播</td>\n      <td>6</td>\n    </tr>\n    <tr>\n      <th>21</th>\n      <td>雨燕直播-越</td>\n      <td>119</td>\n    </tr>\n    <tr>\n      <th>22</th>\n      <td>飞哥雨燕直播</td>\n      <td>39</td>\n    </tr>\n  </tbody>\n</table>\n</div>"
     },
     "execution_count": 121,
     "metadata": {},
     "output_type": "execute_result"
    }
   ],
   "source": [
    "grp3['seo变化数据团队'] =grp3['seo变化数据团队'].str.lower()\n",
    "grp3"
   ],
   "metadata": {
    "collapsed": false
   }
  },
  {
   "cell_type": "code",
   "execution_count": 122,
   "outputs": [
    {
     "data": {
      "text/plain": "       人员  发送IP  接受IP     人员2  注册        注册率    开户        转化率 seo变化数据团队  \\\n0   Paddy     0    51   paddy   3        inf   2.0  66.666667     paddy   \n1    Tony   568  1136    tony  15   2.640845   3.0  20.000000      tony   \n2     Max   273   225     max   9   3.296703   NaN        NaN       NaN   \n3  Martin  3445  1072  martin  81   2.351234  24.0  29.629630    martin   \n4     Zed  4853   329     zed  22   0.453328   8.0  36.363636       zed   \n5    Hugo   103     0    hugo  16  15.533981   5.0  31.250000      hugo   \n6    Aber  7325   562    aber  49   0.668942  13.0  26.530612      aber   \n7      DK  1525  2160      dk  52   3.409836   5.0   9.615385        dk   \n8     Ben  2565   298     ben  17   0.662768   6.0  35.294118       ben   \n\n   当日注册并开户  \n0      2.0  \n1      3.0  \n2      NaN  \n3     18.0  \n4      8.0  \n5      2.0  \n6      9.0  \n7      5.0  \n8      3.0  ",
      "text/html": "<div>\n<style scoped>\n    .dataframe tbody tr th:only-of-type {\n        vertical-align: middle;\n    }\n\n    .dataframe tbody tr th {\n        vertical-align: top;\n    }\n\n    .dataframe thead th {\n        text-align: right;\n    }\n</style>\n<table border=\"1\" class=\"dataframe\">\n  <thead>\n    <tr style=\"text-align: right;\">\n      <th></th>\n      <th>人员</th>\n      <th>发送IP</th>\n      <th>接受IP</th>\n      <th>人员2</th>\n      <th>注册</th>\n      <th>注册率</th>\n      <th>开户</th>\n      <th>转化率</th>\n      <th>seo变化数据团队</th>\n      <th>当日注册并开户</th>\n    </tr>\n  </thead>\n  <tbody>\n    <tr>\n      <th>0</th>\n      <td>Paddy</td>\n      <td>0</td>\n      <td>51</td>\n      <td>paddy</td>\n      <td>3</td>\n      <td>inf</td>\n      <td>2.0</td>\n      <td>66.666667</td>\n      <td>paddy</td>\n      <td>2.0</td>\n    </tr>\n    <tr>\n      <th>1</th>\n      <td>Tony</td>\n      <td>568</td>\n      <td>1136</td>\n      <td>tony</td>\n      <td>15</td>\n      <td>2.640845</td>\n      <td>3.0</td>\n      <td>20.000000</td>\n      <td>tony</td>\n      <td>3.0</td>\n    </tr>\n    <tr>\n      <th>2</th>\n      <td>Max</td>\n      <td>273</td>\n      <td>225</td>\n      <td>max</td>\n      <td>9</td>\n      <td>3.296703</td>\n      <td>NaN</td>\n      <td>NaN</td>\n      <td>NaN</td>\n      <td>NaN</td>\n    </tr>\n    <tr>\n      <th>3</th>\n      <td>Martin</td>\n      <td>3445</td>\n      <td>1072</td>\n      <td>martin</td>\n      <td>81</td>\n      <td>2.351234</td>\n      <td>24.0</td>\n      <td>29.629630</td>\n      <td>martin</td>\n      <td>18.0</td>\n    </tr>\n    <tr>\n      <th>4</th>\n      <td>Zed</td>\n      <td>4853</td>\n      <td>329</td>\n      <td>zed</td>\n      <td>22</td>\n      <td>0.453328</td>\n      <td>8.0</td>\n      <td>36.363636</td>\n      <td>zed</td>\n      <td>8.0</td>\n    </tr>\n    <tr>\n      <th>5</th>\n      <td>Hugo</td>\n      <td>103</td>\n      <td>0</td>\n      <td>hugo</td>\n      <td>16</td>\n      <td>15.533981</td>\n      <td>5.0</td>\n      <td>31.250000</td>\n      <td>hugo</td>\n      <td>2.0</td>\n    </tr>\n    <tr>\n      <th>6</th>\n      <td>Aber</td>\n      <td>7325</td>\n      <td>562</td>\n      <td>aber</td>\n      <td>49</td>\n      <td>0.668942</td>\n      <td>13.0</td>\n      <td>26.530612</td>\n      <td>aber</td>\n      <td>9.0</td>\n    </tr>\n    <tr>\n      <th>7</th>\n      <td>DK</td>\n      <td>1525</td>\n      <td>2160</td>\n      <td>dk</td>\n      <td>52</td>\n      <td>3.409836</td>\n      <td>5.0</td>\n      <td>9.615385</td>\n      <td>dk</td>\n      <td>5.0</td>\n    </tr>\n    <tr>\n      <th>8</th>\n      <td>Ben</td>\n      <td>2565</td>\n      <td>298</td>\n      <td>ben</td>\n      <td>17</td>\n      <td>0.662768</td>\n      <td>6.0</td>\n      <td>35.294118</td>\n      <td>ben</td>\n      <td>3.0</td>\n    </tr>\n  </tbody>\n</table>\n</div>"
     },
     "execution_count": 122,
     "metadata": {},
     "output_type": "execute_result"
    }
   ],
   "source": [
    "shuju7  = pd.merge(shuju6,grp3,how='left',left_on='人员2',right_on='seo变化数据团队')\n",
    "shuju7"
   ],
   "metadata": {
    "collapsed": false
   }
  },
  {
   "cell_type": "code",
   "execution_count": 123,
   "outputs": [
    {
     "data": {
      "text/plain": "       人员  发送IP  接受IP     人员2  注册        注册率    开户        转化率 seo变化数据团队  \\\n0   Paddy     0    51   paddy   3        inf   2.0  66.666667     paddy   \n1    Tony   568  1136    tony  15   2.640845   3.0  20.000000      tony   \n2     Max   273   225     max   9   3.296703   NaN        NaN       NaN   \n3  Martin  3445  1072  martin  81   2.351234  24.0  29.629630    martin   \n4     Zed  4853   329     zed  22   0.453328   8.0  36.363636       zed   \n5    Hugo   103     0    hugo  16  15.533981   5.0  31.250000      hugo   \n6    Aber  7325   562    aber  49   0.668942  13.0  26.530612      aber   \n7      DK  1525  2160      dk  52   3.409836   5.0   9.615385        dk   \n8     Ben  2565   298     ben  17   0.662768   6.0  35.294118       ben   \n\n   当日注册并开户    当日注册激活率  \n0      2.0  66.666667  \n1      3.0  20.000000  \n2      NaN        NaN  \n3     18.0  22.222222  \n4      8.0  36.363636  \n5      2.0  12.500000  \n6      9.0  18.367347  \n7      5.0   9.615385  \n8      3.0  17.647059  ",
      "text/html": "<div>\n<style scoped>\n    .dataframe tbody tr th:only-of-type {\n        vertical-align: middle;\n    }\n\n    .dataframe tbody tr th {\n        vertical-align: top;\n    }\n\n    .dataframe thead th {\n        text-align: right;\n    }\n</style>\n<table border=\"1\" class=\"dataframe\">\n  <thead>\n    <tr style=\"text-align: right;\">\n      <th></th>\n      <th>人员</th>\n      <th>发送IP</th>\n      <th>接受IP</th>\n      <th>人员2</th>\n      <th>注册</th>\n      <th>注册率</th>\n      <th>开户</th>\n      <th>转化率</th>\n      <th>seo变化数据团队</th>\n      <th>当日注册并开户</th>\n      <th>当日注册激活率</th>\n    </tr>\n  </thead>\n  <tbody>\n    <tr>\n      <th>0</th>\n      <td>Paddy</td>\n      <td>0</td>\n      <td>51</td>\n      <td>paddy</td>\n      <td>3</td>\n      <td>inf</td>\n      <td>2.0</td>\n      <td>66.666667</td>\n      <td>paddy</td>\n      <td>2.0</td>\n      <td>66.666667</td>\n    </tr>\n    <tr>\n      <th>1</th>\n      <td>Tony</td>\n      <td>568</td>\n      <td>1136</td>\n      <td>tony</td>\n      <td>15</td>\n      <td>2.640845</td>\n      <td>3.0</td>\n      <td>20.000000</td>\n      <td>tony</td>\n      <td>3.0</td>\n      <td>20.000000</td>\n    </tr>\n    <tr>\n      <th>2</th>\n      <td>Max</td>\n      <td>273</td>\n      <td>225</td>\n      <td>max</td>\n      <td>9</td>\n      <td>3.296703</td>\n      <td>NaN</td>\n      <td>NaN</td>\n      <td>NaN</td>\n      <td>NaN</td>\n      <td>NaN</td>\n    </tr>\n    <tr>\n      <th>3</th>\n      <td>Martin</td>\n      <td>3445</td>\n      <td>1072</td>\n      <td>martin</td>\n      <td>81</td>\n      <td>2.351234</td>\n      <td>24.0</td>\n      <td>29.629630</td>\n      <td>martin</td>\n      <td>18.0</td>\n      <td>22.222222</td>\n    </tr>\n    <tr>\n      <th>4</th>\n      <td>Zed</td>\n      <td>4853</td>\n      <td>329</td>\n      <td>zed</td>\n      <td>22</td>\n      <td>0.453328</td>\n      <td>8.0</td>\n      <td>36.363636</td>\n      <td>zed</td>\n      <td>8.0</td>\n      <td>36.363636</td>\n    </tr>\n    <tr>\n      <th>5</th>\n      <td>Hugo</td>\n      <td>103</td>\n      <td>0</td>\n      <td>hugo</td>\n      <td>16</td>\n      <td>15.533981</td>\n      <td>5.0</td>\n      <td>31.250000</td>\n      <td>hugo</td>\n      <td>2.0</td>\n      <td>12.500000</td>\n    </tr>\n    <tr>\n      <th>6</th>\n      <td>Aber</td>\n      <td>7325</td>\n      <td>562</td>\n      <td>aber</td>\n      <td>49</td>\n      <td>0.668942</td>\n      <td>13.0</td>\n      <td>26.530612</td>\n      <td>aber</td>\n      <td>9.0</td>\n      <td>18.367347</td>\n    </tr>\n    <tr>\n      <th>7</th>\n      <td>DK</td>\n      <td>1525</td>\n      <td>2160</td>\n      <td>dk</td>\n      <td>52</td>\n      <td>3.409836</td>\n      <td>5.0</td>\n      <td>9.615385</td>\n      <td>dk</td>\n      <td>5.0</td>\n      <td>9.615385</td>\n    </tr>\n    <tr>\n      <th>8</th>\n      <td>Ben</td>\n      <td>2565</td>\n      <td>298</td>\n      <td>ben</td>\n      <td>17</td>\n      <td>0.662768</td>\n      <td>6.0</td>\n      <td>35.294118</td>\n      <td>ben</td>\n      <td>3.0</td>\n      <td>17.647059</td>\n    </tr>\n  </tbody>\n</table>\n</div>"
     },
     "execution_count": 123,
     "metadata": {},
     "output_type": "execute_result"
    }
   ],
   "source": [
    "shuju7['当日注册激活率'] = shuju7['当日注册并开户']/shuju7['注册']*100\n",
    "shuju7"
   ],
   "metadata": {
    "collapsed": false
   }
  },
  {
   "cell_type": "code",
   "execution_count": 124,
   "outputs": [
    {
     "data": {
      "text/plain": "       人员  发送IP  接受IP     人员2  注册        注册率    开户        转化率  当日注册并开户  \\\n0   Paddy     0    51   paddy   3        inf   2.0  66.666667      2.0   \n1    Tony   568  1136    tony  15   2.640845   3.0  20.000000      3.0   \n2     Max   273   225     max   9   3.296703   NaN        NaN      NaN   \n3  Martin  3445  1072  martin  81   2.351234  24.0  29.629630     18.0   \n4     Zed  4853   329     zed  22   0.453328   8.0  36.363636      8.0   \n5    Hugo   103     0    hugo  16  15.533981   5.0  31.250000      2.0   \n6    Aber  7325   562    aber  49   0.668942  13.0  26.530612      9.0   \n7      DK  1525  2160      dk  52   3.409836   5.0   9.615385      5.0   \n8     Ben  2565   298     ben  17   0.662768   6.0  35.294118      3.0   \n\n     当日注册激活率  \n0  66.666667  \n1  20.000000  \n2        NaN  \n3  22.222222  \n4  36.363636  \n5  12.500000  \n6  18.367347  \n7   9.615385  \n8  17.647059  ",
      "text/html": "<div>\n<style scoped>\n    .dataframe tbody tr th:only-of-type {\n        vertical-align: middle;\n    }\n\n    .dataframe tbody tr th {\n        vertical-align: top;\n    }\n\n    .dataframe thead th {\n        text-align: right;\n    }\n</style>\n<table border=\"1\" class=\"dataframe\">\n  <thead>\n    <tr style=\"text-align: right;\">\n      <th></th>\n      <th>人员</th>\n      <th>发送IP</th>\n      <th>接受IP</th>\n      <th>人员2</th>\n      <th>注册</th>\n      <th>注册率</th>\n      <th>开户</th>\n      <th>转化率</th>\n      <th>当日注册并开户</th>\n      <th>当日注册激活率</th>\n    </tr>\n  </thead>\n  <tbody>\n    <tr>\n      <th>0</th>\n      <td>Paddy</td>\n      <td>0</td>\n      <td>51</td>\n      <td>paddy</td>\n      <td>3</td>\n      <td>inf</td>\n      <td>2.0</td>\n      <td>66.666667</td>\n      <td>2.0</td>\n      <td>66.666667</td>\n    </tr>\n    <tr>\n      <th>1</th>\n      <td>Tony</td>\n      <td>568</td>\n      <td>1136</td>\n      <td>tony</td>\n      <td>15</td>\n      <td>2.640845</td>\n      <td>3.0</td>\n      <td>20.000000</td>\n      <td>3.0</td>\n      <td>20.000000</td>\n    </tr>\n    <tr>\n      <th>2</th>\n      <td>Max</td>\n      <td>273</td>\n      <td>225</td>\n      <td>max</td>\n      <td>9</td>\n      <td>3.296703</td>\n      <td>NaN</td>\n      <td>NaN</td>\n      <td>NaN</td>\n      <td>NaN</td>\n    </tr>\n    <tr>\n      <th>3</th>\n      <td>Martin</td>\n      <td>3445</td>\n      <td>1072</td>\n      <td>martin</td>\n      <td>81</td>\n      <td>2.351234</td>\n      <td>24.0</td>\n      <td>29.629630</td>\n      <td>18.0</td>\n      <td>22.222222</td>\n    </tr>\n    <tr>\n      <th>4</th>\n      <td>Zed</td>\n      <td>4853</td>\n      <td>329</td>\n      <td>zed</td>\n      <td>22</td>\n      <td>0.453328</td>\n      <td>8.0</td>\n      <td>36.363636</td>\n      <td>8.0</td>\n      <td>36.363636</td>\n    </tr>\n    <tr>\n      <th>5</th>\n      <td>Hugo</td>\n      <td>103</td>\n      <td>0</td>\n      <td>hugo</td>\n      <td>16</td>\n      <td>15.533981</td>\n      <td>5.0</td>\n      <td>31.250000</td>\n      <td>2.0</td>\n      <td>12.500000</td>\n    </tr>\n    <tr>\n      <th>6</th>\n      <td>Aber</td>\n      <td>7325</td>\n      <td>562</td>\n      <td>aber</td>\n      <td>49</td>\n      <td>0.668942</td>\n      <td>13.0</td>\n      <td>26.530612</td>\n      <td>9.0</td>\n      <td>18.367347</td>\n    </tr>\n    <tr>\n      <th>7</th>\n      <td>DK</td>\n      <td>1525</td>\n      <td>2160</td>\n      <td>dk</td>\n      <td>52</td>\n      <td>3.409836</td>\n      <td>5.0</td>\n      <td>9.615385</td>\n      <td>5.0</td>\n      <td>9.615385</td>\n    </tr>\n    <tr>\n      <th>8</th>\n      <td>Ben</td>\n      <td>2565</td>\n      <td>298</td>\n      <td>ben</td>\n      <td>17</td>\n      <td>0.662768</td>\n      <td>6.0</td>\n      <td>35.294118</td>\n      <td>3.0</td>\n      <td>17.647059</td>\n    </tr>\n  </tbody>\n</table>\n</div>"
     },
     "execution_count": 124,
     "metadata": {},
     "output_type": "execute_result"
    }
   ],
   "source": [
    "shuju7.drop('seo变化数据团队',axis=1,inplace=True)\n",
    "shuju7"
   ],
   "metadata": {
    "collapsed": false
   }
  },
  {
   "cell_type": "code",
   "execution_count": 4,
   "outputs": [
    {
     "data": {
      "text/plain": "(109, 22)"
     },
     "execution_count": 4,
     "metadata": {},
     "output_type": "execute_result"
    },
    {
     "data": {
      "text/plain": "          日期     人员    总IP    接受IP   注册       注册率  开户       转化率  当日注册当日开户  \\\n0 2023-07-27   Aber   3477   721.0   52  0.014955  20  0.384615        15   \n1 2023-07-27     DK   1325  1790.0   29  0.021887   8  0.275862         5   \n2 2023-07-27    Ben  10414   733.0   30  0.002881   7  0.233333         6   \n3 2023-07-27   当日汇总  22110  5531.5  207  0.009362  61  0.294686        45   \n4 2023-07-28  Paddy    508    45.5   18  0.035433   5  0.277778         4   \n\n   当日注册当日激活率  ...  对比前5天均值      对比前7天均值  对比前天.1  对比前3天均值.1  对比前5天均值.1  \\\n0   0.288462  ...    436.4   725.285714      -3   3.666667        4.8   \n1   0.172414  ...     46.8    50.428571      -9  -2.333333       -1.6   \n2   0.200000  ...  -5180.2 -3337.857143     -16 -16.666667      -19.0   \n3   0.217391  ...  -4292.8 -2164.000000     -37 -47.333333      -42.2   \n4   0.222222  ...    -13.4    -0.714286       4  -1.666667       -2.8   \n\n   对比前7天均值.1  对比前天.2  对比前3天均值.2  对比前5天均值.2  对比前7天均值.2  \n0   2.285714      -1   2.666667        1.8   1.285714  \n1  -1.142857       0  -1.000000        0.4   0.000000  \n2 -16.428571      -7  -7.333333       -7.4  -5.142857  \n3 -39.857143     -25 -23.333333      -19.6 -16.428571  \n4  -2.142857       0  -2.000000       -0.6   0.285714  \n\n[5 rows x 22 columns]",
      "text/html": "<div>\n<style scoped>\n    .dataframe tbody tr th:only-of-type {\n        vertical-align: middle;\n    }\n\n    .dataframe tbody tr th {\n        vertical-align: top;\n    }\n\n    .dataframe thead th {\n        text-align: right;\n    }\n</style>\n<table border=\"1\" class=\"dataframe\">\n  <thead>\n    <tr style=\"text-align: right;\">\n      <th></th>\n      <th>日期</th>\n      <th>人员</th>\n      <th>总IP</th>\n      <th>接受IP</th>\n      <th>注册</th>\n      <th>注册率</th>\n      <th>开户</th>\n      <th>转化率</th>\n      <th>当日注册当日开户</th>\n      <th>当日注册当日激活率</th>\n      <th>...</th>\n      <th>对比前5天均值</th>\n      <th>对比前7天均值</th>\n      <th>对比前天.1</th>\n      <th>对比前3天均值.1</th>\n      <th>对比前5天均值.1</th>\n      <th>对比前7天均值.1</th>\n      <th>对比前天.2</th>\n      <th>对比前3天均值.2</th>\n      <th>对比前5天均值.2</th>\n      <th>对比前7天均值.2</th>\n    </tr>\n  </thead>\n  <tbody>\n    <tr>\n      <th>0</th>\n      <td>2023-07-27</td>\n      <td>Aber</td>\n      <td>3477</td>\n      <td>721.0</td>\n      <td>52</td>\n      <td>0.014955</td>\n      <td>20</td>\n      <td>0.384615</td>\n      <td>15</td>\n      <td>0.288462</td>\n      <td>...</td>\n      <td>436.4</td>\n      <td>725.285714</td>\n      <td>-3</td>\n      <td>3.666667</td>\n      <td>4.8</td>\n      <td>2.285714</td>\n      <td>-1</td>\n      <td>2.666667</td>\n      <td>1.8</td>\n      <td>1.285714</td>\n    </tr>\n    <tr>\n      <th>1</th>\n      <td>2023-07-27</td>\n      <td>DK</td>\n      <td>1325</td>\n      <td>1790.0</td>\n      <td>29</td>\n      <td>0.021887</td>\n      <td>8</td>\n      <td>0.275862</td>\n      <td>5</td>\n      <td>0.172414</td>\n      <td>...</td>\n      <td>46.8</td>\n      <td>50.428571</td>\n      <td>-9</td>\n      <td>-2.333333</td>\n      <td>-1.6</td>\n      <td>-1.142857</td>\n      <td>0</td>\n      <td>-1.000000</td>\n      <td>0.4</td>\n      <td>0.000000</td>\n    </tr>\n    <tr>\n      <th>2</th>\n      <td>2023-07-27</td>\n      <td>Ben</td>\n      <td>10414</td>\n      <td>733.0</td>\n      <td>30</td>\n      <td>0.002881</td>\n      <td>7</td>\n      <td>0.233333</td>\n      <td>6</td>\n      <td>0.200000</td>\n      <td>...</td>\n      <td>-5180.2</td>\n      <td>-3337.857143</td>\n      <td>-16</td>\n      <td>-16.666667</td>\n      <td>-19.0</td>\n      <td>-16.428571</td>\n      <td>-7</td>\n      <td>-7.333333</td>\n      <td>-7.4</td>\n      <td>-5.142857</td>\n    </tr>\n    <tr>\n      <th>3</th>\n      <td>2023-07-27</td>\n      <td>当日汇总</td>\n      <td>22110</td>\n      <td>5531.5</td>\n      <td>207</td>\n      <td>0.009362</td>\n      <td>61</td>\n      <td>0.294686</td>\n      <td>45</td>\n      <td>0.217391</td>\n      <td>...</td>\n      <td>-4292.8</td>\n      <td>-2164.000000</td>\n      <td>-37</td>\n      <td>-47.333333</td>\n      <td>-42.2</td>\n      <td>-39.857143</td>\n      <td>-25</td>\n      <td>-23.333333</td>\n      <td>-19.6</td>\n      <td>-16.428571</td>\n    </tr>\n    <tr>\n      <th>4</th>\n      <td>2023-07-28</td>\n      <td>Paddy</td>\n      <td>508</td>\n      <td>45.5</td>\n      <td>18</td>\n      <td>0.035433</td>\n      <td>5</td>\n      <td>0.277778</td>\n      <td>4</td>\n      <td>0.222222</td>\n      <td>...</td>\n      <td>-13.4</td>\n      <td>-0.714286</td>\n      <td>4</td>\n      <td>-1.666667</td>\n      <td>-2.8</td>\n      <td>-2.142857</td>\n      <td>0</td>\n      <td>-2.000000</td>\n      <td>-0.6</td>\n      <td>0.285714</td>\n    </tr>\n  </tbody>\n</table>\n<p>5 rows × 22 columns</p>\n</div>"
     },
     "execution_count": 4,
     "metadata": {},
     "output_type": "execute_result"
    }
   ],
   "source": [
    "import pandas as pd\n",
    "his_data  = pd.read_excel(r'C:\\Users\\User\\Desktop\\SEO_0807\\SEO每日模板-每日更新.xlsx','历史')\n",
    "his_data.shape\n",
    "his_data.head()"
   ],
   "metadata": {
    "collapsed": false
   }
  },
  {
   "cell_type": "code",
   "execution_count": 126,
   "outputs": [
    {
     "data": {
      "text/plain": "             日期      人员    总IP    接受IP   注册       注册率  开户       转化率  当日注册当日开户  \\\n2874 2023-08-07   Lesse      0     NaN    0         0   0  0.000000       0.0   \n2875 2023-08-07  Decade      0     NaN    0         0   0  0.000000       0.0   \n2876 2023-08-07   Cyrus      0     NaN    2         0   1  0.500000       0.0   \n2877 2023-08-07     Owl      0     NaN    0         0   0  0.000000       0.0   \n2878 2023-08-07    当日汇总  20657  5137.0  213  0.010311  68  0.319249      51.0   \n\n      当日注册当日激活率  ...  Unnamed: 20 Unnamed: 21  Unnamed: 22  总开户  Unnamed: 24  \\\n2874   0.000000  ...            0           0          NaN  NaN          NaN   \n2875   0.000000  ...            0           0          NaN  NaN          NaN   \n2876   0.000000  ...            1           1          NaN  NaN          NaN   \n2877   0.000000  ...            0           0          NaN  NaN          NaN   \n2878   0.239437  ...          5.4          16          NaN  NaN          NaN   \n\n     Unnamed: 25 Unnamed: 26 Unnamed: 27 Unnamed: 28 Unnamed: 29  \n2874         NaN         NaN         NaN         NaN         NaN  \n2875         NaN         NaN         NaN         NaN         NaN  \n2876         NaN         NaN         NaN         NaN         NaN  \n2877         NaN         NaN         NaN         NaN         NaN  \n2878         NaN         NaN         NaN         NaN         NaN  \n\n[5 rows x 30 columns]",
      "text/html": "<div>\n<style scoped>\n    .dataframe tbody tr th:only-of-type {\n        vertical-align: middle;\n    }\n\n    .dataframe tbody tr th {\n        vertical-align: top;\n    }\n\n    .dataframe thead th {\n        text-align: right;\n    }\n</style>\n<table border=\"1\" class=\"dataframe\">\n  <thead>\n    <tr style=\"text-align: right;\">\n      <th></th>\n      <th>日期</th>\n      <th>人员</th>\n      <th>总IP</th>\n      <th>接受IP</th>\n      <th>注册</th>\n      <th>注册率</th>\n      <th>开户</th>\n      <th>转化率</th>\n      <th>当日注册当日开户</th>\n      <th>当日注册当日激活率</th>\n      <th>...</th>\n      <th>Unnamed: 20</th>\n      <th>Unnamed: 21</th>\n      <th>Unnamed: 22</th>\n      <th>总开户</th>\n      <th>Unnamed: 24</th>\n      <th>Unnamed: 25</th>\n      <th>Unnamed: 26</th>\n      <th>Unnamed: 27</th>\n      <th>Unnamed: 28</th>\n      <th>Unnamed: 29</th>\n    </tr>\n  </thead>\n  <tbody>\n    <tr>\n      <th>2874</th>\n      <td>2023-08-07</td>\n      <td>Lesse</td>\n      <td>0</td>\n      <td>NaN</td>\n      <td>0</td>\n      <td>0</td>\n      <td>0</td>\n      <td>0.000000</td>\n      <td>0.0</td>\n      <td>0.000000</td>\n      <td>...</td>\n      <td>0</td>\n      <td>0</td>\n      <td>NaN</td>\n      <td>NaN</td>\n      <td>NaN</td>\n      <td>NaN</td>\n      <td>NaN</td>\n      <td>NaN</td>\n      <td>NaN</td>\n      <td>NaN</td>\n    </tr>\n    <tr>\n      <th>2875</th>\n      <td>2023-08-07</td>\n      <td>Decade</td>\n      <td>0</td>\n      <td>NaN</td>\n      <td>0</td>\n      <td>0</td>\n      <td>0</td>\n      <td>0.000000</td>\n      <td>0.0</td>\n      <td>0.000000</td>\n      <td>...</td>\n      <td>0</td>\n      <td>0</td>\n      <td>NaN</td>\n      <td>NaN</td>\n      <td>NaN</td>\n      <td>NaN</td>\n      <td>NaN</td>\n      <td>NaN</td>\n      <td>NaN</td>\n      <td>NaN</td>\n    </tr>\n    <tr>\n      <th>2876</th>\n      <td>2023-08-07</td>\n      <td>Cyrus</td>\n      <td>0</td>\n      <td>NaN</td>\n      <td>2</td>\n      <td>0</td>\n      <td>1</td>\n      <td>0.500000</td>\n      <td>0.0</td>\n      <td>0.000000</td>\n      <td>...</td>\n      <td>1</td>\n      <td>1</td>\n      <td>NaN</td>\n      <td>NaN</td>\n      <td>NaN</td>\n      <td>NaN</td>\n      <td>NaN</td>\n      <td>NaN</td>\n      <td>NaN</td>\n      <td>NaN</td>\n    </tr>\n    <tr>\n      <th>2877</th>\n      <td>2023-08-07</td>\n      <td>Owl</td>\n      <td>0</td>\n      <td>NaN</td>\n      <td>0</td>\n      <td>0</td>\n      <td>0</td>\n      <td>0.000000</td>\n      <td>0.0</td>\n      <td>0.000000</td>\n      <td>...</td>\n      <td>0</td>\n      <td>0</td>\n      <td>NaN</td>\n      <td>NaN</td>\n      <td>NaN</td>\n      <td>NaN</td>\n      <td>NaN</td>\n      <td>NaN</td>\n      <td>NaN</td>\n      <td>NaN</td>\n    </tr>\n    <tr>\n      <th>2878</th>\n      <td>2023-08-07</td>\n      <td>当日汇总</td>\n      <td>20657</td>\n      <td>5137.0</td>\n      <td>213</td>\n      <td>0.010311</td>\n      <td>68</td>\n      <td>0.319249</td>\n      <td>51.0</td>\n      <td>0.239437</td>\n      <td>...</td>\n      <td>5.4</td>\n      <td>16</td>\n      <td>NaN</td>\n      <td>NaN</td>\n      <td>NaN</td>\n      <td>NaN</td>\n      <td>NaN</td>\n      <td>NaN</td>\n      <td>NaN</td>\n      <td>NaN</td>\n    </tr>\n  </tbody>\n</table>\n<p>5 rows × 30 columns</p>\n</div>"
     },
     "execution_count": 126,
     "metadata": {},
     "output_type": "execute_result"
    }
   ],
   "source": [
    "his_data.tail()"
   ],
   "metadata": {
    "collapsed": false
   }
  },
  {
   "cell_type": "code",
   "execution_count": 133,
   "outputs": [
    {
     "data": {
      "text/plain": "0    2023/7/28\n1    2023/7/28\n2    2023/7/28\n3    2023/7/28\n4    2023/7/28\nName: 日期, dtype: object"
     },
     "execution_count": 133,
     "metadata": {},
     "output_type": "execute_result"
    }
   ],
   "source": [
    "his_data['日期'][0]"
   ],
   "metadata": {
    "collapsed": false
   }
  },
  {
   "cell_type": "code",
   "execution_count": 149,
   "outputs": [
    {
     "data": {
      "text/plain": "'2023/8/7'"
     },
     "execution_count": 149,
     "metadata": {},
     "output_type": "execute_result"
    }
   ],
   "source": [
    "his_data.tail()['日期'][:1].values[0]"
   ],
   "metadata": {
    "collapsed": false
   }
  },
  {
   "cell_type": "code",
   "execution_count": 150,
   "outputs": [
    {
     "data": {
      "text/plain": "         日期      人员  发送IP  接受IP     人员2  注册        注册率    开户        转化率  \\\n0  2023/8/7   Paddy     0    51   paddy   3        inf   2.0  66.666667   \n1  2023/8/7    Tony   568  1136    tony  15   2.640845   3.0  20.000000   \n2  2023/8/7     Max   273   225     max   9   3.296703   NaN        NaN   \n3  2023/8/7  Martin  3445  1072  martin  81   2.351234  24.0  29.629630   \n4  2023/8/7     Zed  4853   329     zed  22   0.453328   8.0  36.363636   \n5  2023/8/7    Hugo   103     0    hugo  16  15.533981   5.0  31.250000   \n6  2023/8/7    Aber  7325   562    aber  49   0.668942  13.0  26.530612   \n7  2023/8/7      DK  1525  2160      dk  52   3.409836   5.0   9.615385   \n8  2023/8/7     Ben  2565   298     ben  17   0.662768   6.0  35.294118   \n\n   当日注册并开户    当日注册激活率  \n0      2.0  66.666667  \n1      3.0  20.000000  \n2      NaN        NaN  \n3     18.0  22.222222  \n4      8.0  36.363636  \n5      2.0  12.500000  \n6      9.0  18.367347  \n7      5.0   9.615385  \n8      3.0  17.647059  ",
      "text/html": "<div>\n<style scoped>\n    .dataframe tbody tr th:only-of-type {\n        vertical-align: middle;\n    }\n\n    .dataframe tbody tr th {\n        vertical-align: top;\n    }\n\n    .dataframe thead th {\n        text-align: right;\n    }\n</style>\n<table border=\"1\" class=\"dataframe\">\n  <thead>\n    <tr style=\"text-align: right;\">\n      <th></th>\n      <th>日期</th>\n      <th>人员</th>\n      <th>发送IP</th>\n      <th>接受IP</th>\n      <th>人员2</th>\n      <th>注册</th>\n      <th>注册率</th>\n      <th>开户</th>\n      <th>转化率</th>\n      <th>当日注册并开户</th>\n      <th>当日注册激活率</th>\n    </tr>\n  </thead>\n  <tbody>\n    <tr>\n      <th>0</th>\n      <td>2023/8/7</td>\n      <td>Paddy</td>\n      <td>0</td>\n      <td>51</td>\n      <td>paddy</td>\n      <td>3</td>\n      <td>inf</td>\n      <td>2.0</td>\n      <td>66.666667</td>\n      <td>2.0</td>\n      <td>66.666667</td>\n    </tr>\n    <tr>\n      <th>1</th>\n      <td>2023/8/7</td>\n      <td>Tony</td>\n      <td>568</td>\n      <td>1136</td>\n      <td>tony</td>\n      <td>15</td>\n      <td>2.640845</td>\n      <td>3.0</td>\n      <td>20.000000</td>\n      <td>3.0</td>\n      <td>20.000000</td>\n    </tr>\n    <tr>\n      <th>2</th>\n      <td>2023/8/7</td>\n      <td>Max</td>\n      <td>273</td>\n      <td>225</td>\n      <td>max</td>\n      <td>9</td>\n      <td>3.296703</td>\n      <td>NaN</td>\n      <td>NaN</td>\n      <td>NaN</td>\n      <td>NaN</td>\n    </tr>\n    <tr>\n      <th>3</th>\n      <td>2023/8/7</td>\n      <td>Martin</td>\n      <td>3445</td>\n      <td>1072</td>\n      <td>martin</td>\n      <td>81</td>\n      <td>2.351234</td>\n      <td>24.0</td>\n      <td>29.629630</td>\n      <td>18.0</td>\n      <td>22.222222</td>\n    </tr>\n    <tr>\n      <th>4</th>\n      <td>2023/8/7</td>\n      <td>Zed</td>\n      <td>4853</td>\n      <td>329</td>\n      <td>zed</td>\n      <td>22</td>\n      <td>0.453328</td>\n      <td>8.0</td>\n      <td>36.363636</td>\n      <td>8.0</td>\n      <td>36.363636</td>\n    </tr>\n    <tr>\n      <th>5</th>\n      <td>2023/8/7</td>\n      <td>Hugo</td>\n      <td>103</td>\n      <td>0</td>\n      <td>hugo</td>\n      <td>16</td>\n      <td>15.533981</td>\n      <td>5.0</td>\n      <td>31.250000</td>\n      <td>2.0</td>\n      <td>12.500000</td>\n    </tr>\n    <tr>\n      <th>6</th>\n      <td>2023/8/7</td>\n      <td>Aber</td>\n      <td>7325</td>\n      <td>562</td>\n      <td>aber</td>\n      <td>49</td>\n      <td>0.668942</td>\n      <td>13.0</td>\n      <td>26.530612</td>\n      <td>9.0</td>\n      <td>18.367347</td>\n    </tr>\n    <tr>\n      <th>7</th>\n      <td>2023/8/7</td>\n      <td>DK</td>\n      <td>1525</td>\n      <td>2160</td>\n      <td>dk</td>\n      <td>52</td>\n      <td>3.409836</td>\n      <td>5.0</td>\n      <td>9.615385</td>\n      <td>5.0</td>\n      <td>9.615385</td>\n    </tr>\n    <tr>\n      <th>8</th>\n      <td>2023/8/7</td>\n      <td>Ben</td>\n      <td>2565</td>\n      <td>298</td>\n      <td>ben</td>\n      <td>17</td>\n      <td>0.662768</td>\n      <td>6.0</td>\n      <td>35.294118</td>\n      <td>3.0</td>\n      <td>17.647059</td>\n    </tr>\n  </tbody>\n</table>\n</div>"
     },
     "execution_count": 150,
     "metadata": {},
     "output_type": "execute_result"
    }
   ],
   "source": [
    "shuju8 = shuju7.copy()\n",
    "shuju8.insert(0,'日期',his_data.tail()['日期'][:1].values[0])\n",
    "shuju8"
   ],
   "metadata": {
    "collapsed": false
   }
  },
  {
   "cell_type": "code",
   "execution_count": 158,
   "outputs": [
    {
     "name": "stdout",
     "output_type": "stream",
     "text": [
      "<class 'pandas.core.frame.DataFrame'>\n",
      "Int64Index: 9 entries, 0 to 8\n",
      "Data columns (total 11 columns):\n",
      " #   Column   Non-Null Count  Dtype         \n",
      "---  ------   --------------  -----         \n",
      " 0   日期       9 non-null      datetime64[ns]\n",
      " 1   人员       9 non-null      object        \n",
      " 2   发送IP     9 non-null      int64         \n",
      " 3   接受IP     9 non-null      int64         \n",
      " 4   人员2      9 non-null      object        \n",
      " 5   注册       9 non-null      int64         \n",
      " 6   注册率      9 non-null      float64       \n",
      " 7   开户       8 non-null      float64       \n",
      " 8   转化率      8 non-null      float64       \n",
      " 9   当日注册并开户  8 non-null      float64       \n",
      " 10  当日注册激活率  8 non-null      float64       \n",
      "dtypes: datetime64[ns](1), float64(5), int64(3), object(2)\n",
      "memory usage: 1.1+ KB\n"
     ]
    }
   ],
   "source": [
    "shuju9 = shuju8.copy()\n",
    "shuju9['日期'] = pd.to_datetime(shuju9['日期'])\n",
    "shuju9.info()"
   ],
   "metadata": {
    "collapsed": false
   }
  },
  {
   "cell_type": "code",
   "execution_count": 159,
   "outputs": [
    {
     "name": "stdout",
     "output_type": "stream",
     "text": [
      "<class 'pandas.core.frame.DataFrame'>\n",
      "RangeIndex: 100 entries, 0 to 99\n",
      "Data columns (total 22 columns):\n",
      " #   Column        Non-Null Count  Dtype         \n",
      "---  ------        --------------  -----         \n",
      " 0   日期            100 non-null    datetime64[ns]\n",
      " 1   人员            100 non-null    object        \n",
      " 2   总IP           100 non-null    object        \n",
      " 3   接受IP          100 non-null    object        \n",
      " 4   注册            100 non-null    int64         \n",
      " 5   注册率           100 non-null    object        \n",
      " 6   开户            100 non-null    int64         \n",
      " 7   转化率           100 non-null    object        \n",
      " 8   当日注册当日开户      100 non-null    int64         \n",
      " 9   当日注册当日激活率     100 non-null    object        \n",
      " 10  对比前天(总IP)     100 non-null    int64         \n",
      " 11  对比前3天均值(总IP)  100 non-null    int64         \n",
      " 12  对比前5天均值(总IP)  100 non-null    int64         \n",
      " 13  对比前7天均值(总IP)  100 non-null    int64         \n",
      " 14  对比前天(总注册)     100 non-null    int64         \n",
      " 15  对比前3天均值(总注册)  100 non-null    int64         \n",
      " 16  对比前5天均值(总注册)  100 non-null    int64         \n",
      " 17  对比前7天均值(总注册)  100 non-null    int64         \n",
      " 18  对比前天(总开户)     100 non-null    int64         \n",
      " 19  对比前3天均值(总开户)  100 non-null    int64         \n",
      " 20  对比前5天均值(总开户)  100 non-null    int64         \n",
      " 21  对比前7天均值(总开户)  100 non-null    int64         \n",
      "dtypes: datetime64[ns](1), int64(15), object(6)\n",
      "memory usage: 17.3+ KB\n"
     ]
    }
   ],
   "source": [
    "his_data2 = his_data.copy()\n",
    "his_data2['日期']=pd.to_datetime(his_data2['日期'])\n",
    "his_data2.info()"
   ],
   "metadata": {
    "collapsed": false
   }
  },
  {
   "cell_type": "code",
   "execution_count": 202,
   "outputs": [],
   "source": [
    "his_data2['总IP']=pd.to_numeric(his_data2['总IP'],errors='coerce')"
   ],
   "metadata": {
    "collapsed": false
   }
  },
  {
   "cell_type": "code",
   "execution_count": 164,
   "outputs": [],
   "source": [
    "all_ip= shuju9.iloc[:,:2]"
   ],
   "metadata": {
    "collapsed": false
   }
  },
  {
   "cell_type": "code",
   "execution_count": 221,
   "outputs": [
    {
     "data": {
      "text/plain": "0       0\n1     568\n2     273\n3    3445\n4    4853\n5     103\n6    7325\n7    1525\n8    2565\nName: 发送IP, dtype: int64"
     },
     "execution_count": 221,
     "metadata": {},
     "output_type": "execute_result"
    }
   ],
   "source": [
    "shuju9['发送IP']"
   ],
   "metadata": {
    "collapsed": false
   }
  },
  {
   "cell_type": "code",
   "execution_count": 222,
   "outputs": [
    {
     "data": {
      "text/plain": "           日期      人员    总IP   接受IP   注册     注册率  开户     转化率  当日注册当日开户  \\\n0  2023-07-28   Paddy  508.0     46   18   3.54%   5  27.78%         4   \n1  2023-07-28    Tony  563.0    439   13   2.31%   4  30.77%         2   \n2  2023-07-28     Max  266.0      0    4   1.50%   3  75.00%         2   \n3  2023-07-28  Martin    NaN    734   33   2.62%  10  30.30%         7   \n4  2023-07-28     Zed    NaN    248    8   0.24%   3  37.50%         2   \n..        ...     ...    ...    ...  ...     ...  ..     ...       ...   \n95 2023-08-07    Hugo  103.0      0   14  13.59%   5  35.71%         2   \n96 2023-08-07    Aber    NaN    562   37   0.51%  13  35.14%         9   \n97 2023-08-07      DK    NaN  2,160   27   1.77%   5  18.52%         5   \n98 2023-08-07     Ben    NaN    298   14   0.55%   6  42.86%         3   \n99 2023-08-07    当日汇总    NaN  5,137  213   1.03%  68  31.92%        51   \n\n   当日注册当日激活率  ...  对比前5天均值(总IP)  对比前7天均值(总IP)  对比前天(总注册)  对比前3天均值(总注册)  \\\n0     22.22%  ...           -13            -1          4            -2   \n1     15.38%  ...          -120          -100         -4            -2   \n2     50.00%  ...           -16            13         -4            -3   \n3     21.21%  ...            36           -38         -1           -31   \n4     25.00%  ...           453           470          2             0   \n..       ...  ...           ...           ...        ...           ...   \n95    14.29%  ...          -424          -431          6             2   \n96    24.32%  ...         -1844           278        -12            -6   \n97    18.52%  ...            49           266          3            -5   \n98    21.43%  ...         -1439         -1697          7             5   \n99    23.94%  ...         -2630           817          5            24   \n\n    对比前5天均值(总注册)  对比前7天均值(总注册)  对比前天(总开户)  对比前3天均值(总开户)  对比前5天均值(总开户)  \\\n0             -3            -2          0            -2            -1   \n1             -3            -3          1             0             0   \n2             -1             0          2             1             2   \n3            -21           -16         -3            -9            -7   \n4             -3            -3          2             0            -1   \n..           ...           ...        ...           ...           ...   \n95            -1             0          1            -1            -2   \n96            -5             2         -7            -4            -2   \n97            -4            -1         -1            -6            -6   \n98             3             3          6             4             4   \n99            32            59          4            -1             5   \n\n    对比前7天均值(总开户)  \n0              0  \n1              0  \n2              1  \n3             -7  \n4             -1  \n..           ...  \n95            -1  \n96             1  \n97            -4  \n98             4  \n99            16  \n\n[100 rows x 22 columns]",
      "text/html": "<div>\n<style scoped>\n    .dataframe tbody tr th:only-of-type {\n        vertical-align: middle;\n    }\n\n    .dataframe tbody tr th {\n        vertical-align: top;\n    }\n\n    .dataframe thead th {\n        text-align: right;\n    }\n</style>\n<table border=\"1\" class=\"dataframe\">\n  <thead>\n    <tr style=\"text-align: right;\">\n      <th></th>\n      <th>日期</th>\n      <th>人员</th>\n      <th>总IP</th>\n      <th>接受IP</th>\n      <th>注册</th>\n      <th>注册率</th>\n      <th>开户</th>\n      <th>转化率</th>\n      <th>当日注册当日开户</th>\n      <th>当日注册当日激活率</th>\n      <th>...</th>\n      <th>对比前5天均值(总IP)</th>\n      <th>对比前7天均值(总IP)</th>\n      <th>对比前天(总注册)</th>\n      <th>对比前3天均值(总注册)</th>\n      <th>对比前5天均值(总注册)</th>\n      <th>对比前7天均值(总注册)</th>\n      <th>对比前天(总开户)</th>\n      <th>对比前3天均值(总开户)</th>\n      <th>对比前5天均值(总开户)</th>\n      <th>对比前7天均值(总开户)</th>\n    </tr>\n  </thead>\n  <tbody>\n    <tr>\n      <th>0</th>\n      <td>2023-07-28</td>\n      <td>Paddy</td>\n      <td>508.0</td>\n      <td>46</td>\n      <td>18</td>\n      <td>3.54%</td>\n      <td>5</td>\n      <td>27.78%</td>\n      <td>4</td>\n      <td>22.22%</td>\n      <td>...</td>\n      <td>-13</td>\n      <td>-1</td>\n      <td>4</td>\n      <td>-2</td>\n      <td>-3</td>\n      <td>-2</td>\n      <td>0</td>\n      <td>-2</td>\n      <td>-1</td>\n      <td>0</td>\n    </tr>\n    <tr>\n      <th>1</th>\n      <td>2023-07-28</td>\n      <td>Tony</td>\n      <td>563.0</td>\n      <td>439</td>\n      <td>13</td>\n      <td>2.31%</td>\n      <td>4</td>\n      <td>30.77%</td>\n      <td>2</td>\n      <td>15.38%</td>\n      <td>...</td>\n      <td>-120</td>\n      <td>-100</td>\n      <td>-4</td>\n      <td>-2</td>\n      <td>-3</td>\n      <td>-3</td>\n      <td>1</td>\n      <td>0</td>\n      <td>0</td>\n      <td>0</td>\n    </tr>\n    <tr>\n      <th>2</th>\n      <td>2023-07-28</td>\n      <td>Max</td>\n      <td>266.0</td>\n      <td>0</td>\n      <td>4</td>\n      <td>1.50%</td>\n      <td>3</td>\n      <td>75.00%</td>\n      <td>2</td>\n      <td>50.00%</td>\n      <td>...</td>\n      <td>-16</td>\n      <td>13</td>\n      <td>-4</td>\n      <td>-3</td>\n      <td>-1</td>\n      <td>0</td>\n      <td>2</td>\n      <td>1</td>\n      <td>2</td>\n      <td>1</td>\n    </tr>\n    <tr>\n      <th>3</th>\n      <td>2023-07-28</td>\n      <td>Martin</td>\n      <td>NaN</td>\n      <td>734</td>\n      <td>33</td>\n      <td>2.62%</td>\n      <td>10</td>\n      <td>30.30%</td>\n      <td>7</td>\n      <td>21.21%</td>\n      <td>...</td>\n      <td>36</td>\n      <td>-38</td>\n      <td>-1</td>\n      <td>-31</td>\n      <td>-21</td>\n      <td>-16</td>\n      <td>-3</td>\n      <td>-9</td>\n      <td>-7</td>\n      <td>-7</td>\n    </tr>\n    <tr>\n      <th>4</th>\n      <td>2023-07-28</td>\n      <td>Zed</td>\n      <td>NaN</td>\n      <td>248</td>\n      <td>8</td>\n      <td>0.24%</td>\n      <td>3</td>\n      <td>37.50%</td>\n      <td>2</td>\n      <td>25.00%</td>\n      <td>...</td>\n      <td>453</td>\n      <td>470</td>\n      <td>2</td>\n      <td>0</td>\n      <td>-3</td>\n      <td>-3</td>\n      <td>2</td>\n      <td>0</td>\n      <td>-1</td>\n      <td>-1</td>\n    </tr>\n    <tr>\n      <th>...</th>\n      <td>...</td>\n      <td>...</td>\n      <td>...</td>\n      <td>...</td>\n      <td>...</td>\n      <td>...</td>\n      <td>...</td>\n      <td>...</td>\n      <td>...</td>\n      <td>...</td>\n      <td>...</td>\n      <td>...</td>\n      <td>...</td>\n      <td>...</td>\n      <td>...</td>\n      <td>...</td>\n      <td>...</td>\n      <td>...</td>\n      <td>...</td>\n      <td>...</td>\n      <td>...</td>\n    </tr>\n    <tr>\n      <th>95</th>\n      <td>2023-08-07</td>\n      <td>Hugo</td>\n      <td>103.0</td>\n      <td>0</td>\n      <td>14</td>\n      <td>13.59%</td>\n      <td>5</td>\n      <td>35.71%</td>\n      <td>2</td>\n      <td>14.29%</td>\n      <td>...</td>\n      <td>-424</td>\n      <td>-431</td>\n      <td>6</td>\n      <td>2</td>\n      <td>-1</td>\n      <td>0</td>\n      <td>1</td>\n      <td>-1</td>\n      <td>-2</td>\n      <td>-1</td>\n    </tr>\n    <tr>\n      <th>96</th>\n      <td>2023-08-07</td>\n      <td>Aber</td>\n      <td>NaN</td>\n      <td>562</td>\n      <td>37</td>\n      <td>0.51%</td>\n      <td>13</td>\n      <td>35.14%</td>\n      <td>9</td>\n      <td>24.32%</td>\n      <td>...</td>\n      <td>-1844</td>\n      <td>278</td>\n      <td>-12</td>\n      <td>-6</td>\n      <td>-5</td>\n      <td>2</td>\n      <td>-7</td>\n      <td>-4</td>\n      <td>-2</td>\n      <td>1</td>\n    </tr>\n    <tr>\n      <th>97</th>\n      <td>2023-08-07</td>\n      <td>DK</td>\n      <td>NaN</td>\n      <td>2,160</td>\n      <td>27</td>\n      <td>1.77%</td>\n      <td>5</td>\n      <td>18.52%</td>\n      <td>5</td>\n      <td>18.52%</td>\n      <td>...</td>\n      <td>49</td>\n      <td>266</td>\n      <td>3</td>\n      <td>-5</td>\n      <td>-4</td>\n      <td>-1</td>\n      <td>-1</td>\n      <td>-6</td>\n      <td>-6</td>\n      <td>-4</td>\n    </tr>\n    <tr>\n      <th>98</th>\n      <td>2023-08-07</td>\n      <td>Ben</td>\n      <td>NaN</td>\n      <td>298</td>\n      <td>14</td>\n      <td>0.55%</td>\n      <td>6</td>\n      <td>42.86%</td>\n      <td>3</td>\n      <td>21.43%</td>\n      <td>...</td>\n      <td>-1439</td>\n      <td>-1697</td>\n      <td>7</td>\n      <td>5</td>\n      <td>3</td>\n      <td>3</td>\n      <td>6</td>\n      <td>4</td>\n      <td>4</td>\n      <td>4</td>\n    </tr>\n    <tr>\n      <th>99</th>\n      <td>2023-08-07</td>\n      <td>当日汇总</td>\n      <td>NaN</td>\n      <td>5,137</td>\n      <td>213</td>\n      <td>1.03%</td>\n      <td>68</td>\n      <td>31.92%</td>\n      <td>51</td>\n      <td>23.94%</td>\n      <td>...</td>\n      <td>-2630</td>\n      <td>817</td>\n      <td>5</td>\n      <td>24</td>\n      <td>32</td>\n      <td>59</td>\n      <td>4</td>\n      <td>-1</td>\n      <td>5</td>\n      <td>16</td>\n    </tr>\n  </tbody>\n</table>\n<p>100 rows × 22 columns</p>\n</div>"
     },
     "execution_count": 222,
     "metadata": {},
     "output_type": "execute_result"
    }
   ],
   "source": [
    "his_data2\n"
   ],
   "metadata": {
    "collapsed": false
   }
  },
  {
   "cell_type": "code",
   "execution_count": 195,
   "outputs": [
    {
     "data": {
      "text/plain": "           日期     人员 总IP 接受IP  注册    注册率  开户     转化率  当日注册当日开户 当日注册当日激活率  ...  \\\n90 2023-08-07  Paddy   0   51   3  5100%   2  66.67%         2    66.67%  ...   \n\n    对比前5天均值(总IP)  对比前7天均值(总IP)  对比前天(总注册)  对比前3天均值(总注册)  对比前5天均值(总注册)  \\\n90             0           -59          2             2             2   \n\n    对比前7天均值(总注册)  对比前天(总开户)  对比前3天均值(总开户)  对比前5天均值(总开户)  对比前7天均值(总开户)  \n90             2          2             2             2             2  \n\n[1 rows x 22 columns]",
      "text/html": "<div>\n<style scoped>\n    .dataframe tbody tr th:only-of-type {\n        vertical-align: middle;\n    }\n\n    .dataframe tbody tr th {\n        vertical-align: top;\n    }\n\n    .dataframe thead th {\n        text-align: right;\n    }\n</style>\n<table border=\"1\" class=\"dataframe\">\n  <thead>\n    <tr style=\"text-align: right;\">\n      <th></th>\n      <th>日期</th>\n      <th>人员</th>\n      <th>总IP</th>\n      <th>接受IP</th>\n      <th>注册</th>\n      <th>注册率</th>\n      <th>开户</th>\n      <th>转化率</th>\n      <th>当日注册当日开户</th>\n      <th>当日注册当日激活率</th>\n      <th>...</th>\n      <th>对比前5天均值(总IP)</th>\n      <th>对比前7天均值(总IP)</th>\n      <th>对比前天(总注册)</th>\n      <th>对比前3天均值(总注册)</th>\n      <th>对比前5天均值(总注册)</th>\n      <th>对比前7天均值(总注册)</th>\n      <th>对比前天(总开户)</th>\n      <th>对比前3天均值(总开户)</th>\n      <th>对比前5天均值(总开户)</th>\n      <th>对比前7天均值(总开户)</th>\n    </tr>\n  </thead>\n  <tbody>\n    <tr>\n      <th>90</th>\n      <td>2023-08-07</td>\n      <td>Paddy</td>\n      <td>0</td>\n      <td>51</td>\n      <td>3</td>\n      <td>5100%</td>\n      <td>2</td>\n      <td>66.67%</td>\n      <td>2</td>\n      <td>66.67%</td>\n      <td>...</td>\n      <td>0</td>\n      <td>-59</td>\n      <td>2</td>\n      <td>2</td>\n      <td>2</td>\n      <td>2</td>\n      <td>2</td>\n      <td>2</td>\n      <td>2</td>\n      <td>2</td>\n    </tr>\n  </tbody>\n</table>\n<p>1 rows × 22 columns</p>\n</div>"
     },
     "execution_count": 195,
     "metadata": {},
     "output_type": "execute_result"
    }
   ],
   "source": [
    "his_data2[his_data2['日期']==shuju9['日期'][0]].loc[his_data2['人员'] == 'Paddy']['总IP']"
   ],
   "metadata": {
    "collapsed": false
   }
  },
  {
   "cell_type": "code",
   "execution_count": 259,
   "outputs": [
    {
     "data": {
      "text/plain": "0    NaN\n1    NaN\n2    NaN\n3    NaN\n4    NaN\n5    NaN\n6    NaN\n7    NaN\n8    NaN\n52   NaN\n53   NaN\n54   NaN\n55   NaN\n56   NaN\n57   NaN\n58   NaN\n59   NaN\n60   NaN\ndtype: float64"
     },
     "execution_count": 259,
     "metadata": {},
     "output_type": "execute_result"
    }
   ],
   "source": [
    "shuju9['发送IP']-be_data['总IP']"
   ],
   "metadata": {
    "collapsed": false
   }
  },
  {
   "cell_type": "code",
   "execution_count": 230,
   "outputs": [
    {
     "data": {
      "text/plain": "Empty DataFrame\nColumns: [日期, 人员, 总IP, 接受IP, 注册, 注册率, 开户, 转化率, 当日注册当日开户, 当日注册当日激活率, 对比前天(总IP), 对比前3天均值(总IP), 对比前5天均值(总IP), 对比前7天均值(总IP), 对比前天(总注册), 对比前3天均值(总注册), 对比前5天均值(总注册), 对比前7天均值(总注册), 对比前天(总开户), 对比前3天均值(总开户), 对比前5天均值(总开户), 对比前7天均值(总开户)]\nIndex: []\n\n[0 rows x 22 columns]",
      "text/html": "<div>\n<style scoped>\n    .dataframe tbody tr th:only-of-type {\n        vertical-align: middle;\n    }\n\n    .dataframe tbody tr th {\n        vertical-align: top;\n    }\n\n    .dataframe thead th {\n        text-align: right;\n    }\n</style>\n<table border=\"1\" class=\"dataframe\">\n  <thead>\n    <tr style=\"text-align: right;\">\n      <th></th>\n      <th>日期</th>\n      <th>人员</th>\n      <th>总IP</th>\n      <th>接受IP</th>\n      <th>注册</th>\n      <th>注册率</th>\n      <th>开户</th>\n      <th>转化率</th>\n      <th>当日注册当日开户</th>\n      <th>当日注册当日激活率</th>\n      <th>...</th>\n      <th>对比前5天均值(总IP)</th>\n      <th>对比前7天均值(总IP)</th>\n      <th>对比前天(总注册)</th>\n      <th>对比前3天均值(总注册)</th>\n      <th>对比前5天均值(总注册)</th>\n      <th>对比前7天均值(总注册)</th>\n      <th>对比前天(总开户)</th>\n      <th>对比前3天均值(总开户)</th>\n      <th>对比前5天均值(总开户)</th>\n      <th>对比前7天均值(总开户)</th>\n    </tr>\n  </thead>\n  <tbody>\n  </tbody>\n</table>\n<p>0 rows × 22 columns</p>\n</div>"
     },
     "execution_count": 230,
     "metadata": {},
     "output_type": "execute_result"
    }
   ],
   "source": [],
   "metadata": {
    "collapsed": false
   }
  },
  {
   "cell_type": "code",
   "execution_count": 204,
   "outputs": [
    {
     "data": {
      "text/plain": "          日期      人员\n0 2023-08-07   Paddy\n1 2023-08-07    Tony\n2 2023-08-07     Max\n3 2023-08-07  Martin\n4 2023-08-07     Zed\n5 2023-08-07    Hugo\n6 2023-08-07    Aber\n7 2023-08-07      DK\n8 2023-08-07     Ben",
      "text/html": "<div>\n<style scoped>\n    .dataframe tbody tr th:only-of-type {\n        vertical-align: middle;\n    }\n\n    .dataframe tbody tr th {\n        vertical-align: top;\n    }\n\n    .dataframe thead th {\n        text-align: right;\n    }\n</style>\n<table border=\"1\" class=\"dataframe\">\n  <thead>\n    <tr style=\"text-align: right;\">\n      <th></th>\n      <th>日期</th>\n      <th>人员</th>\n    </tr>\n  </thead>\n  <tbody>\n    <tr>\n      <th>0</th>\n      <td>2023-08-07</td>\n      <td>Paddy</td>\n    </tr>\n    <tr>\n      <th>1</th>\n      <td>2023-08-07</td>\n      <td>Tony</td>\n    </tr>\n    <tr>\n      <th>2</th>\n      <td>2023-08-07</td>\n      <td>Max</td>\n    </tr>\n    <tr>\n      <th>3</th>\n      <td>2023-08-07</td>\n      <td>Martin</td>\n    </tr>\n    <tr>\n      <th>4</th>\n      <td>2023-08-07</td>\n      <td>Zed</td>\n    </tr>\n    <tr>\n      <th>5</th>\n      <td>2023-08-07</td>\n      <td>Hugo</td>\n    </tr>\n    <tr>\n      <th>6</th>\n      <td>2023-08-07</td>\n      <td>Aber</td>\n    </tr>\n    <tr>\n      <th>7</th>\n      <td>2023-08-07</td>\n      <td>DK</td>\n    </tr>\n    <tr>\n      <th>8</th>\n      <td>2023-08-07</td>\n      <td>Ben</td>\n    </tr>\n  </tbody>\n</table>\n</div>"
     },
     "execution_count": 204,
     "metadata": {},
     "output_type": "execute_result"
    }
   ],
   "source": [
    "all_ip['对比前天'] ="
   ],
   "metadata": {
    "collapsed": false
   }
  },
  {
   "cell_type": "code",
   "execution_count": 212,
   "outputs": [
    {
     "data": {
      "text/plain": "0.0"
     },
     "execution_count": 212,
     "metadata": {},
     "output_type": "execute_result"
    }
   ],
   "source": [
    "(shuju9[shuju9['人员'] == 'Paddy']['发送IP'][0]-his_data2[his_data2['日期']==shuju9['日期'][0]].loc[his_data2['人员'] == 'Paddy']['总IP']).values[0]"
   ],
   "metadata": {
    "collapsed": false
   }
  },
  {
   "cell_type": "code",
   "execution_count": 249,
   "outputs": [
    {
     "data": {
      "text/plain": "          日期      人员  发送IP  接受IP     人员2  注册        注册率    开户        转化率  \\\n0 2023-08-07   Paddy     0    51   paddy   3        inf   2.0  66.666667   \n1 2023-08-07    Tony   568  1136    tony  15   2.640845   3.0  20.000000   \n2 2023-08-07     Max   273   225     max   9   3.296703   NaN        NaN   \n3 2023-08-07  Martin  3445  1072  martin  81   2.351234  24.0  29.629630   \n4 2023-08-07     Zed  4853   329     zed  22   0.453328   8.0  36.363636   \n5 2023-08-07    Hugo   103     0    hugo  16  15.533981   5.0  31.250000   \n6 2023-08-07    Aber  7325   562    aber  49   0.668942  13.0  26.530612   \n7 2023-08-07      DK  1525  2160      dk  52   3.409836   5.0   9.615385   \n8 2023-08-07     Ben  2565   298     ben  17   0.662768   6.0  35.294118   \n\n   当日注册并开户    当日注册激活率  \n0      2.0  66.666667  \n1      3.0  20.000000  \n2      NaN        NaN  \n3     18.0  22.222222  \n4      8.0  36.363636  \n5      2.0  12.500000  \n6      9.0  18.367347  \n7      5.0   9.615385  \n8      3.0  17.647059  ",
      "text/html": "<div>\n<style scoped>\n    .dataframe tbody tr th:only-of-type {\n        vertical-align: middle;\n    }\n\n    .dataframe tbody tr th {\n        vertical-align: top;\n    }\n\n    .dataframe thead th {\n        text-align: right;\n    }\n</style>\n<table border=\"1\" class=\"dataframe\">\n  <thead>\n    <tr style=\"text-align: right;\">\n      <th></th>\n      <th>日期</th>\n      <th>人员</th>\n      <th>发送IP</th>\n      <th>接受IP</th>\n      <th>人员2</th>\n      <th>注册</th>\n      <th>注册率</th>\n      <th>开户</th>\n      <th>转化率</th>\n      <th>当日注册并开户</th>\n      <th>当日注册激活率</th>\n    </tr>\n  </thead>\n  <tbody>\n    <tr>\n      <th>0</th>\n      <td>2023-08-07</td>\n      <td>Paddy</td>\n      <td>0</td>\n      <td>51</td>\n      <td>paddy</td>\n      <td>3</td>\n      <td>inf</td>\n      <td>2.0</td>\n      <td>66.666667</td>\n      <td>2.0</td>\n      <td>66.666667</td>\n    </tr>\n    <tr>\n      <th>1</th>\n      <td>2023-08-07</td>\n      <td>Tony</td>\n      <td>568</td>\n      <td>1136</td>\n      <td>tony</td>\n      <td>15</td>\n      <td>2.640845</td>\n      <td>3.0</td>\n      <td>20.000000</td>\n      <td>3.0</td>\n      <td>20.000000</td>\n    </tr>\n    <tr>\n      <th>2</th>\n      <td>2023-08-07</td>\n      <td>Max</td>\n      <td>273</td>\n      <td>225</td>\n      <td>max</td>\n      <td>9</td>\n      <td>3.296703</td>\n      <td>NaN</td>\n      <td>NaN</td>\n      <td>NaN</td>\n      <td>NaN</td>\n    </tr>\n    <tr>\n      <th>3</th>\n      <td>2023-08-07</td>\n      <td>Martin</td>\n      <td>3445</td>\n      <td>1072</td>\n      <td>martin</td>\n      <td>81</td>\n      <td>2.351234</td>\n      <td>24.0</td>\n      <td>29.629630</td>\n      <td>18.0</td>\n      <td>22.222222</td>\n    </tr>\n    <tr>\n      <th>4</th>\n      <td>2023-08-07</td>\n      <td>Zed</td>\n      <td>4853</td>\n      <td>329</td>\n      <td>zed</td>\n      <td>22</td>\n      <td>0.453328</td>\n      <td>8.0</td>\n      <td>36.363636</td>\n      <td>8.0</td>\n      <td>36.363636</td>\n    </tr>\n    <tr>\n      <th>5</th>\n      <td>2023-08-07</td>\n      <td>Hugo</td>\n      <td>103</td>\n      <td>0</td>\n      <td>hugo</td>\n      <td>16</td>\n      <td>15.533981</td>\n      <td>5.0</td>\n      <td>31.250000</td>\n      <td>2.0</td>\n      <td>12.500000</td>\n    </tr>\n    <tr>\n      <th>6</th>\n      <td>2023-08-07</td>\n      <td>Aber</td>\n      <td>7325</td>\n      <td>562</td>\n      <td>aber</td>\n      <td>49</td>\n      <td>0.668942</td>\n      <td>13.0</td>\n      <td>26.530612</td>\n      <td>9.0</td>\n      <td>18.367347</td>\n    </tr>\n    <tr>\n      <th>7</th>\n      <td>2023-08-07</td>\n      <td>DK</td>\n      <td>1525</td>\n      <td>2160</td>\n      <td>dk</td>\n      <td>52</td>\n      <td>3.409836</td>\n      <td>5.0</td>\n      <td>9.615385</td>\n      <td>5.0</td>\n      <td>9.615385</td>\n    </tr>\n    <tr>\n      <th>8</th>\n      <td>2023-08-07</td>\n      <td>Ben</td>\n      <td>2565</td>\n      <td>298</td>\n      <td>ben</td>\n      <td>17</td>\n      <td>0.662768</td>\n      <td>6.0</td>\n      <td>35.294118</td>\n      <td>3.0</td>\n      <td>17.647059</td>\n    </tr>\n  </tbody>\n</table>\n</div>"
     },
     "execution_count": 249,
     "metadata": {},
     "output_type": "execute_result"
    }
   ],
   "source": [
    "shuju9"
   ],
   "metadata": {
    "collapsed": false
   }
  },
  {
   "cell_type": "code",
   "execution_count": 253,
   "outputs": [
    {
     "data": {
      "text/plain": "           日期      人员    总IP   接受IP   注册    注册率  开户     转化率  当日注册当日开户  \\\n52 2023-08-06   Paddy    0.0     31    1  3100%   0   0.00%         0   \n53 2023-08-06    Tony  591.0    488   17  2.88%   3  17.65%         3   \n54 2023-08-06     Max  287.0    238    8  2.79%   3  37.50%         2   \n55 2023-08-06  Martin    0.0    955   83  2.55%  21  25.30%        16   \n56 2023-08-06     Zed    0.0    363   10  0.21%   7  70.00%         3   \n57 2023-08-06    Hugo  125.0    661    8  6.40%   4  50.00%         2   \n58 2023-08-06    Aber    0.0    624   49  0.51%  20  40.82%        15   \n59 2023-08-06      DK    0.0  2,037   24  1.69%   6  25.00%         2   \n60 2023-08-06     Ben    0.0    345    7  0.27%   0   0.00%         0   \n61 2023-08-06      MK    0.0      0    0  0.00%   0   0.00%         0   \n62 2023-08-06    当日汇总    0.0  5,742  208  0.92%  64  30.77%        43   \n\n   当日注册当日激活率  ...  对比前5天均值(总IP)  对比前7天均值(总IP)  对比前天(总注册)  对比前3天均值(总注册)  \\\n52     0.00%  ...           -83          -129          1            -1   \n53    17.65%  ...           -72            15          0             2   \n54    25.00%  ...             9            48          5             3   \n55    19.28%  ...           637          1176         31            36   \n56    30.00%  ...           667          1306          2             3   \n57    25.00%  ...          -598          -540         -2            -8   \n58    30.61%  ...          1755          2926          9            10   \n59     8.33%  ...           -55           179        -18           -10   \n60     0.00%  ...         -2889         -2933         -1            -5   \n61     0.00%  ...             0             0          0             0   \n62    20.67%  ...          -629          2049         28            32   \n\n    对比前5天均值(总注册)  对比前7天均值(总注册)  对比前天(总开户)  对比前3天均值(总开户)  对比前5天均值(总开户)  \\\n52             0            -1          0             0             0   \n53             4             6         -6            -4            -4   \n54             3             4          0             0             0   \n55            41            47          6             7             8   \n56             3             5          2             3             4   \n57           -10            -9         -2            -4            -4   \n58            10            11          3             6             7   \n59           -10            -4         -7            -5            -5   \n60            -7            -4         -3            -2            -3   \n61             0             0          0             0             0   \n62            35            53         -7             1             4   \n\n    对比前7天均值(总开户)  \n52            -1  \n53            -3  \n54             1  \n55            11  \n56             4  \n57            -2  \n58             6  \n59            -3  \n60            -3  \n61             0  \n62            10  \n\n[11 rows x 22 columns]",
      "text/html": "<div>\n<style scoped>\n    .dataframe tbody tr th:only-of-type {\n        vertical-align: middle;\n    }\n\n    .dataframe tbody tr th {\n        vertical-align: top;\n    }\n\n    .dataframe thead th {\n        text-align: right;\n    }\n</style>\n<table border=\"1\" class=\"dataframe\">\n  <thead>\n    <tr style=\"text-align: right;\">\n      <th></th>\n      <th>日期</th>\n      <th>人员</th>\n      <th>总IP</th>\n      <th>接受IP</th>\n      <th>注册</th>\n      <th>注册率</th>\n      <th>开户</th>\n      <th>转化率</th>\n      <th>当日注册当日开户</th>\n      <th>当日注册当日激活率</th>\n      <th>...</th>\n      <th>对比前5天均值(总IP)</th>\n      <th>对比前7天均值(总IP)</th>\n      <th>对比前天(总注册)</th>\n      <th>对比前3天均值(总注册)</th>\n      <th>对比前5天均值(总注册)</th>\n      <th>对比前7天均值(总注册)</th>\n      <th>对比前天(总开户)</th>\n      <th>对比前3天均值(总开户)</th>\n      <th>对比前5天均值(总开户)</th>\n      <th>对比前7天均值(总开户)</th>\n    </tr>\n  </thead>\n  <tbody>\n    <tr>\n      <th>52</th>\n      <td>2023-08-06</td>\n      <td>Paddy</td>\n      <td>0.0</td>\n      <td>31</td>\n      <td>1</td>\n      <td>3100%</td>\n      <td>0</td>\n      <td>0.00%</td>\n      <td>0</td>\n      <td>0.00%</td>\n      <td>...</td>\n      <td>-83</td>\n      <td>-129</td>\n      <td>1</td>\n      <td>-1</td>\n      <td>0</td>\n      <td>-1</td>\n      <td>0</td>\n      <td>0</td>\n      <td>0</td>\n      <td>-1</td>\n    </tr>\n    <tr>\n      <th>53</th>\n      <td>2023-08-06</td>\n      <td>Tony</td>\n      <td>591.0</td>\n      <td>488</td>\n      <td>17</td>\n      <td>2.88%</td>\n      <td>3</td>\n      <td>17.65%</td>\n      <td>3</td>\n      <td>17.65%</td>\n      <td>...</td>\n      <td>-72</td>\n      <td>15</td>\n      <td>0</td>\n      <td>2</td>\n      <td>4</td>\n      <td>6</td>\n      <td>-6</td>\n      <td>-4</td>\n      <td>-4</td>\n      <td>-3</td>\n    </tr>\n    <tr>\n      <th>54</th>\n      <td>2023-08-06</td>\n      <td>Max</td>\n      <td>287.0</td>\n      <td>238</td>\n      <td>8</td>\n      <td>2.79%</td>\n      <td>3</td>\n      <td>37.50%</td>\n      <td>2</td>\n      <td>25.00%</td>\n      <td>...</td>\n      <td>9</td>\n      <td>48</td>\n      <td>5</td>\n      <td>3</td>\n      <td>3</td>\n      <td>4</td>\n      <td>0</td>\n      <td>0</td>\n      <td>0</td>\n      <td>1</td>\n    </tr>\n    <tr>\n      <th>55</th>\n      <td>2023-08-06</td>\n      <td>Martin</td>\n      <td>0.0</td>\n      <td>955</td>\n      <td>83</td>\n      <td>2.55%</td>\n      <td>21</td>\n      <td>25.30%</td>\n      <td>16</td>\n      <td>19.28%</td>\n      <td>...</td>\n      <td>637</td>\n      <td>1176</td>\n      <td>31</td>\n      <td>36</td>\n      <td>41</td>\n      <td>47</td>\n      <td>6</td>\n      <td>7</td>\n      <td>8</td>\n      <td>11</td>\n    </tr>\n    <tr>\n      <th>56</th>\n      <td>2023-08-06</td>\n      <td>Zed</td>\n      <td>0.0</td>\n      <td>363</td>\n      <td>10</td>\n      <td>0.21%</td>\n      <td>7</td>\n      <td>70.00%</td>\n      <td>3</td>\n      <td>30.00%</td>\n      <td>...</td>\n      <td>667</td>\n      <td>1306</td>\n      <td>2</td>\n      <td>3</td>\n      <td>3</td>\n      <td>5</td>\n      <td>2</td>\n      <td>3</td>\n      <td>4</td>\n      <td>4</td>\n    </tr>\n    <tr>\n      <th>57</th>\n      <td>2023-08-06</td>\n      <td>Hugo</td>\n      <td>125.0</td>\n      <td>661</td>\n      <td>8</td>\n      <td>6.40%</td>\n      <td>4</td>\n      <td>50.00%</td>\n      <td>2</td>\n      <td>25.00%</td>\n      <td>...</td>\n      <td>-598</td>\n      <td>-540</td>\n      <td>-2</td>\n      <td>-8</td>\n      <td>-10</td>\n      <td>-9</td>\n      <td>-2</td>\n      <td>-4</td>\n      <td>-4</td>\n      <td>-2</td>\n    </tr>\n    <tr>\n      <th>58</th>\n      <td>2023-08-06</td>\n      <td>Aber</td>\n      <td>0.0</td>\n      <td>624</td>\n      <td>49</td>\n      <td>0.51%</td>\n      <td>20</td>\n      <td>40.82%</td>\n      <td>15</td>\n      <td>30.61%</td>\n      <td>...</td>\n      <td>1755</td>\n      <td>2926</td>\n      <td>9</td>\n      <td>10</td>\n      <td>10</td>\n      <td>11</td>\n      <td>3</td>\n      <td>6</td>\n      <td>7</td>\n      <td>6</td>\n    </tr>\n    <tr>\n      <th>59</th>\n      <td>2023-08-06</td>\n      <td>DK</td>\n      <td>0.0</td>\n      <td>2,037</td>\n      <td>24</td>\n      <td>1.69%</td>\n      <td>6</td>\n      <td>25.00%</td>\n      <td>2</td>\n      <td>8.33%</td>\n      <td>...</td>\n      <td>-55</td>\n      <td>179</td>\n      <td>-18</td>\n      <td>-10</td>\n      <td>-10</td>\n      <td>-4</td>\n      <td>-7</td>\n      <td>-5</td>\n      <td>-5</td>\n      <td>-3</td>\n    </tr>\n    <tr>\n      <th>60</th>\n      <td>2023-08-06</td>\n      <td>Ben</td>\n      <td>0.0</td>\n      <td>345</td>\n      <td>7</td>\n      <td>0.27%</td>\n      <td>0</td>\n      <td>0.00%</td>\n      <td>0</td>\n      <td>0.00%</td>\n      <td>...</td>\n      <td>-2889</td>\n      <td>-2933</td>\n      <td>-1</td>\n      <td>-5</td>\n      <td>-7</td>\n      <td>-4</td>\n      <td>-3</td>\n      <td>-2</td>\n      <td>-3</td>\n      <td>-3</td>\n    </tr>\n    <tr>\n      <th>61</th>\n      <td>2023-08-06</td>\n      <td>MK</td>\n      <td>0.0</td>\n      <td>0</td>\n      <td>0</td>\n      <td>0.00%</td>\n      <td>0</td>\n      <td>0.00%</td>\n      <td>0</td>\n      <td>0.00%</td>\n      <td>...</td>\n      <td>0</td>\n      <td>0</td>\n      <td>0</td>\n      <td>0</td>\n      <td>0</td>\n      <td>0</td>\n      <td>0</td>\n      <td>0</td>\n      <td>0</td>\n      <td>0</td>\n    </tr>\n    <tr>\n      <th>62</th>\n      <td>2023-08-06</td>\n      <td>当日汇总</td>\n      <td>0.0</td>\n      <td>5,742</td>\n      <td>208</td>\n      <td>0.92%</td>\n      <td>64</td>\n      <td>30.77%</td>\n      <td>43</td>\n      <td>20.67%</td>\n      <td>...</td>\n      <td>-629</td>\n      <td>2049</td>\n      <td>28</td>\n      <td>32</td>\n      <td>35</td>\n      <td>53</td>\n      <td>-7</td>\n      <td>1</td>\n      <td>4</td>\n      <td>10</td>\n    </tr>\n  </tbody>\n</table>\n<p>11 rows × 22 columns</p>\n</div>"
     },
     "execution_count": 253,
     "metadata": {},
     "output_type": "execute_result"
    }
   ],
   "source": [
    "import datetime\n",
    "be_data = history_data[history_data['日期']==(shuju9['日期'][0]+datetime.timedelta(days=-1))]\n",
    "be_data"
   ],
   "metadata": {
    "collapsed": false
   }
  },
  {
   "cell_type": "code",
   "execution_count": 267,
   "outputs": [],
   "source": [
    "be3_data = history_data[history_data['日期']>(shuju9['日期'][0]+datetime.timedelta(days=-3))]\n"
   ],
   "metadata": {
    "collapsed": false
   }
  },
  {
   "cell_type": "code",
   "execution_count": 271,
   "outputs": [
    {
     "name": "stderr",
     "output_type": "stream",
     "text": [
      "C:\\Users\\User\\AppData\\Local\\Temp\\ipykernel_11952\\348334360.py:1: FutureWarning: The default value of numeric_only in DataFrameGroupBy.mean is deprecated. In a future version, numeric_only will default to False. Either specify numeric_only or select only columns which should be valid for the function.\n",
      "  be3_data = be3_data.groupby('人员').mean()\n"
     ]
    },
    {
     "data": {
      "text/plain": "               总IP          注册         开户   当日注册当日开户   对比前天(总IP)  \\\n人员                                                                 \nAber      0.000000   42.000000  16.666667  13.000000 -457.000000   \nBen       0.000000    9.666667   3.000000   1.333333 -359.000000   \nDK        0.000000   31.000000   8.000000   6.666667   23.000000   \nHugo    138.000000   10.666667   5.000000   2.666667  -32.333333   \nMK        0.000000    0.000000   0.000000   0.000000    0.000000   \nMartin    0.000000   71.000000  20.000000  15.000000  112.000000   \nMax     280.333333    5.666667   2.000000   1.000000   -3.666667   \nPaddy     0.000000    1.333333   0.666667   0.666667    0.000000   \nTony    619.000000   15.333333   5.000000   3.000000  -49.000000   \nZed       0.000000   12.333333   6.666667   5.000000  171.666667   \n当日汇总      0.000000  200.333333  67.666667  48.666667 -594.333333   \n\n        对比前3天均值(总IP)  对比前5天均值(总IP)  对比前7天均值(总IP)  对比前天(总注册)  对比前3天均值(总注册)  \\\n人员                                                                          \nAber     -235.666667   1117.333333   1978.666667  -0.666667      1.333333   \nBen     -1215.666667  -2061.666667  -2625.000000   0.666667     -1.666667   \nDK        -27.666667     55.666667    195.000000  -0.666667     -1.000000   \nHugo     -334.000000   -507.333333   -529.000000  -1.000000     -5.333333   \nMK          0.000000      0.000000      0.000000   0.000000      0.000000   \nMartin    280.000000    750.000000   1185.666667  10.666667     21.333333   \nMax         2.666667     21.333333     42.333333   0.333333      0.666667   \nPaddy       0.000000    -55.333333   -124.000000   0.000000     -0.333333   \nTony      -48.333333      5.666667     51.666667  -3.333333     -0.333333   \nZed       347.666667    771.000000   1188.333333   4.666667      5.000000   \n当日汇总    -1232.000000     97.666667   1363.666667  11.666667     21.000000   \n\n        对比前5天均值(总注册)  对比前7天均值(总注册)  对比前天(总开户)  对比前3天均值(总开户)  对比前5天均值(总开户)  \\\n人员                                                                          \nAber        4.666667      4.666667  -0.666667      2.333333      4.333333   \nBen        -2.666667     -1.666667   1.000000      0.666667      0.666667   \nDK          1.000000      3.333333  -2.666667     -3.333333     -2.333333   \nHugo       -5.666667     -6.000000  -1.000000     -2.666667     -2.000000   \nMK          0.000000      0.000000   0.000000      0.000000      0.000000   \nMartin     29.000000     33.666667   2.333333      4.666667      7.333333   \nMax         1.000000      1.333333  -1.333333     -0.666667     -0.333333   \nPaddy       0.333333     -1.000000   0.666667      0.666667      0.666667   \nTony        3.333333      4.666667  -2.333333     -1.333333     -1.000000   \nZed         5.666667      7.000000   1.666667      2.666667      3.666667   \n当日汇总       36.666667     45.000000  -1.666667      4.000000     11.333333   \n\n        对比前7天均值(总开户)  \n人员                    \nAber        3.000000  \nBen         0.333333  \nDK         -0.666667  \nHugo       -1.000000  \nMK          0.000000  \nMartin      9.000000  \nMax         0.000000  \nPaddy       0.000000  \nTony       -0.333333  \nZed         4.000000  \n当日汇总       14.666667  ",
      "text/html": "<div>\n<style scoped>\n    .dataframe tbody tr th:only-of-type {\n        vertical-align: middle;\n    }\n\n    .dataframe tbody tr th {\n        vertical-align: top;\n    }\n\n    .dataframe thead th {\n        text-align: right;\n    }\n</style>\n<table border=\"1\" class=\"dataframe\">\n  <thead>\n    <tr style=\"text-align: right;\">\n      <th></th>\n      <th>总IP</th>\n      <th>注册</th>\n      <th>开户</th>\n      <th>当日注册当日开户</th>\n      <th>对比前天(总IP)</th>\n      <th>对比前3天均值(总IP)</th>\n      <th>对比前5天均值(总IP)</th>\n      <th>对比前7天均值(总IP)</th>\n      <th>对比前天(总注册)</th>\n      <th>对比前3天均值(总注册)</th>\n      <th>对比前5天均值(总注册)</th>\n      <th>对比前7天均值(总注册)</th>\n      <th>对比前天(总开户)</th>\n      <th>对比前3天均值(总开户)</th>\n      <th>对比前5天均值(总开户)</th>\n      <th>对比前7天均值(总开户)</th>\n    </tr>\n    <tr>\n      <th>人员</th>\n      <th></th>\n      <th></th>\n      <th></th>\n      <th></th>\n      <th></th>\n      <th></th>\n      <th></th>\n      <th></th>\n      <th></th>\n      <th></th>\n      <th></th>\n      <th></th>\n      <th></th>\n      <th></th>\n      <th></th>\n      <th></th>\n    </tr>\n  </thead>\n  <tbody>\n    <tr>\n      <th>Aber</th>\n      <td>0.000000</td>\n      <td>42.000000</td>\n      <td>16.666667</td>\n      <td>13.000000</td>\n      <td>-457.000000</td>\n      <td>-235.666667</td>\n      <td>1117.333333</td>\n      <td>1978.666667</td>\n      <td>-0.666667</td>\n      <td>1.333333</td>\n      <td>4.666667</td>\n      <td>4.666667</td>\n      <td>-0.666667</td>\n      <td>2.333333</td>\n      <td>4.333333</td>\n      <td>3.000000</td>\n    </tr>\n    <tr>\n      <th>Ben</th>\n      <td>0.000000</td>\n      <td>9.666667</td>\n      <td>3.000000</td>\n      <td>1.333333</td>\n      <td>-359.000000</td>\n      <td>-1215.666667</td>\n      <td>-2061.666667</td>\n      <td>-2625.000000</td>\n      <td>0.666667</td>\n      <td>-1.666667</td>\n      <td>-2.666667</td>\n      <td>-1.666667</td>\n      <td>1.000000</td>\n      <td>0.666667</td>\n      <td>0.666667</td>\n      <td>0.333333</td>\n    </tr>\n    <tr>\n      <th>DK</th>\n      <td>0.000000</td>\n      <td>31.000000</td>\n      <td>8.000000</td>\n      <td>6.666667</td>\n      <td>23.000000</td>\n      <td>-27.666667</td>\n      <td>55.666667</td>\n      <td>195.000000</td>\n      <td>-0.666667</td>\n      <td>-1.000000</td>\n      <td>1.000000</td>\n      <td>3.333333</td>\n      <td>-2.666667</td>\n      <td>-3.333333</td>\n      <td>-2.333333</td>\n      <td>-0.666667</td>\n    </tr>\n    <tr>\n      <th>Hugo</th>\n      <td>138.000000</td>\n      <td>10.666667</td>\n      <td>5.000000</td>\n      <td>2.666667</td>\n      <td>-32.333333</td>\n      <td>-334.000000</td>\n      <td>-507.333333</td>\n      <td>-529.000000</td>\n      <td>-1.000000</td>\n      <td>-5.333333</td>\n      <td>-5.666667</td>\n      <td>-6.000000</td>\n      <td>-1.000000</td>\n      <td>-2.666667</td>\n      <td>-2.000000</td>\n      <td>-1.000000</td>\n    </tr>\n    <tr>\n      <th>MK</th>\n      <td>0.000000</td>\n      <td>0.000000</td>\n      <td>0.000000</td>\n      <td>0.000000</td>\n      <td>0.000000</td>\n      <td>0.000000</td>\n      <td>0.000000</td>\n      <td>0.000000</td>\n      <td>0.000000</td>\n      <td>0.000000</td>\n      <td>0.000000</td>\n      <td>0.000000</td>\n      <td>0.000000</td>\n      <td>0.000000</td>\n      <td>0.000000</td>\n      <td>0.000000</td>\n    </tr>\n    <tr>\n      <th>Martin</th>\n      <td>0.000000</td>\n      <td>71.000000</td>\n      <td>20.000000</td>\n      <td>15.000000</td>\n      <td>112.000000</td>\n      <td>280.000000</td>\n      <td>750.000000</td>\n      <td>1185.666667</td>\n      <td>10.666667</td>\n      <td>21.333333</td>\n      <td>29.000000</td>\n      <td>33.666667</td>\n      <td>2.333333</td>\n      <td>4.666667</td>\n      <td>7.333333</td>\n      <td>9.000000</td>\n    </tr>\n    <tr>\n      <th>Max</th>\n      <td>280.333333</td>\n      <td>5.666667</td>\n      <td>2.000000</td>\n      <td>1.000000</td>\n      <td>-3.666667</td>\n      <td>2.666667</td>\n      <td>21.333333</td>\n      <td>42.333333</td>\n      <td>0.333333</td>\n      <td>0.666667</td>\n      <td>1.000000</td>\n      <td>1.333333</td>\n      <td>-1.333333</td>\n      <td>-0.666667</td>\n      <td>-0.333333</td>\n      <td>0.000000</td>\n    </tr>\n    <tr>\n      <th>Paddy</th>\n      <td>0.000000</td>\n      <td>1.333333</td>\n      <td>0.666667</td>\n      <td>0.666667</td>\n      <td>0.000000</td>\n      <td>0.000000</td>\n      <td>-55.333333</td>\n      <td>-124.000000</td>\n      <td>0.000000</td>\n      <td>-0.333333</td>\n      <td>0.333333</td>\n      <td>-1.000000</td>\n      <td>0.666667</td>\n      <td>0.666667</td>\n      <td>0.666667</td>\n      <td>0.000000</td>\n    </tr>\n    <tr>\n      <th>Tony</th>\n      <td>619.000000</td>\n      <td>15.333333</td>\n      <td>5.000000</td>\n      <td>3.000000</td>\n      <td>-49.000000</td>\n      <td>-48.333333</td>\n      <td>5.666667</td>\n      <td>51.666667</td>\n      <td>-3.333333</td>\n      <td>-0.333333</td>\n      <td>3.333333</td>\n      <td>4.666667</td>\n      <td>-2.333333</td>\n      <td>-1.333333</td>\n      <td>-1.000000</td>\n      <td>-0.333333</td>\n    </tr>\n    <tr>\n      <th>Zed</th>\n      <td>0.000000</td>\n      <td>12.333333</td>\n      <td>6.666667</td>\n      <td>5.000000</td>\n      <td>171.666667</td>\n      <td>347.666667</td>\n      <td>771.000000</td>\n      <td>1188.333333</td>\n      <td>4.666667</td>\n      <td>5.000000</td>\n      <td>5.666667</td>\n      <td>7.000000</td>\n      <td>1.666667</td>\n      <td>2.666667</td>\n      <td>3.666667</td>\n      <td>4.000000</td>\n    </tr>\n    <tr>\n      <th>当日汇总</th>\n      <td>0.000000</td>\n      <td>200.333333</td>\n      <td>67.666667</td>\n      <td>48.666667</td>\n      <td>-594.333333</td>\n      <td>-1232.000000</td>\n      <td>97.666667</td>\n      <td>1363.666667</td>\n      <td>11.666667</td>\n      <td>21.000000</td>\n      <td>36.666667</td>\n      <td>45.000000</td>\n      <td>-1.666667</td>\n      <td>4.000000</td>\n      <td>11.333333</td>\n      <td>14.666667</td>\n    </tr>\n  </tbody>\n</table>\n</div>"
     },
     "execution_count": 271,
     "metadata": {},
     "output_type": "execute_result"
    }
   ],
   "source": [
    "be3_data = be3_data.groupby('人员').mean()\n",
    "be3_data"
   ],
   "metadata": {
    "collapsed": false
   }
  },
  {
   "cell_type": "code",
   "execution_count": 270,
   "outputs": [],
   "source": [
    "all_ip['对比前天(总IP)']=shuju9['发送IP']-be_data['总IP']"
   ],
   "metadata": {
    "collapsed": false
   }
  },
  {
   "cell_type": "code",
   "execution_count": 274,
   "outputs": [
    {
     "data": {
      "text/plain": "               总IP         注册         开户   当日注册当日开户   对比前天(总IP)  对比前3天均值(总IP)  \\\n人员                                                                              \nAber      0.000000  42.000000  16.666667  13.000000 -457.000000   -235.666667   \nBen       0.000000   9.666667   3.000000   1.333333 -359.000000  -1215.666667   \nDK        0.000000  31.000000   8.000000   6.666667   23.000000    -27.666667   \nHugo    138.000000  10.666667   5.000000   2.666667  -32.333333   -334.000000   \nMK        0.000000   0.000000   0.000000   0.000000    0.000000      0.000000   \nMartin    0.000000  71.000000  20.000000  15.000000  112.000000    280.000000   \nMax     280.333333   5.666667   2.000000   1.000000   -3.666667      2.666667   \nPaddy     0.000000   1.333333   0.666667   0.666667    0.000000      0.000000   \nTony    619.000000  15.333333   5.000000   3.000000  -49.000000    -48.333333   \nZed       0.000000  12.333333   6.666667   5.000000  171.666667    347.666667   \n\n        对比前5天均值(总IP)  对比前7天均值(总IP)  对比前天(总注册)  对比前3天均值(总注册)  对比前5天均值(总注册)  \\\n人员                                                                          \nAber     1117.333333   1978.666667  -0.666667      1.333333      4.666667   \nBen     -2061.666667  -2625.000000   0.666667     -1.666667     -2.666667   \nDK         55.666667    195.000000  -0.666667     -1.000000      1.000000   \nHugo     -507.333333   -529.000000  -1.000000     -5.333333     -5.666667   \nMK          0.000000      0.000000   0.000000      0.000000      0.000000   \nMartin    750.000000   1185.666667  10.666667     21.333333     29.000000   \nMax        21.333333     42.333333   0.333333      0.666667      1.000000   \nPaddy     -55.333333   -124.000000   0.000000     -0.333333      0.333333   \nTony        5.666667     51.666667  -3.333333     -0.333333      3.333333   \nZed       771.000000   1188.333333   4.666667      5.000000      5.666667   \n\n        对比前7天均值(总注册)  对比前天(总开户)  对比前3天均值(总开户)  对比前5天均值(总开户)  对比前7天均值(总开户)  \n人员                                                                         \nAber        4.666667  -0.666667      2.333333      4.333333      3.000000  \nBen        -1.666667   1.000000      0.666667      0.666667      0.333333  \nDK          3.333333  -2.666667     -3.333333     -2.333333     -0.666667  \nHugo       -6.000000  -1.000000     -2.666667     -2.000000     -1.000000  \nMK          0.000000   0.000000      0.000000      0.000000      0.000000  \nMartin     33.666667   2.333333      4.666667      7.333333      9.000000  \nMax         1.333333  -1.333333     -0.666667     -0.333333      0.000000  \nPaddy      -1.000000   0.666667      0.666667      0.666667      0.000000  \nTony        4.666667  -2.333333     -1.333333     -1.000000     -0.333333  \nZed         7.000000   1.666667      2.666667      3.666667      4.000000  ",
      "text/html": "<div>\n<style scoped>\n    .dataframe tbody tr th:only-of-type {\n        vertical-align: middle;\n    }\n\n    .dataframe tbody tr th {\n        vertical-align: top;\n    }\n\n    .dataframe thead th {\n        text-align: right;\n    }\n</style>\n<table border=\"1\" class=\"dataframe\">\n  <thead>\n    <tr style=\"text-align: right;\">\n      <th></th>\n      <th>总IP</th>\n      <th>注册</th>\n      <th>开户</th>\n      <th>当日注册当日开户</th>\n      <th>对比前天(总IP)</th>\n      <th>对比前3天均值(总IP)</th>\n      <th>对比前5天均值(总IP)</th>\n      <th>对比前7天均值(总IP)</th>\n      <th>对比前天(总注册)</th>\n      <th>对比前3天均值(总注册)</th>\n      <th>对比前5天均值(总注册)</th>\n      <th>对比前7天均值(总注册)</th>\n      <th>对比前天(总开户)</th>\n      <th>对比前3天均值(总开户)</th>\n      <th>对比前5天均值(总开户)</th>\n      <th>对比前7天均值(总开户)</th>\n    </tr>\n    <tr>\n      <th>人员</th>\n      <th></th>\n      <th></th>\n      <th></th>\n      <th></th>\n      <th></th>\n      <th></th>\n      <th></th>\n      <th></th>\n      <th></th>\n      <th></th>\n      <th></th>\n      <th></th>\n      <th></th>\n      <th></th>\n      <th></th>\n      <th></th>\n    </tr>\n  </thead>\n  <tbody>\n    <tr>\n      <th>Aber</th>\n      <td>0.000000</td>\n      <td>42.000000</td>\n      <td>16.666667</td>\n      <td>13.000000</td>\n      <td>-457.000000</td>\n      <td>-235.666667</td>\n      <td>1117.333333</td>\n      <td>1978.666667</td>\n      <td>-0.666667</td>\n      <td>1.333333</td>\n      <td>4.666667</td>\n      <td>4.666667</td>\n      <td>-0.666667</td>\n      <td>2.333333</td>\n      <td>4.333333</td>\n      <td>3.000000</td>\n    </tr>\n    <tr>\n      <th>Ben</th>\n      <td>0.000000</td>\n      <td>9.666667</td>\n      <td>3.000000</td>\n      <td>1.333333</td>\n      <td>-359.000000</td>\n      <td>-1215.666667</td>\n      <td>-2061.666667</td>\n      <td>-2625.000000</td>\n      <td>0.666667</td>\n      <td>-1.666667</td>\n      <td>-2.666667</td>\n      <td>-1.666667</td>\n      <td>1.000000</td>\n      <td>0.666667</td>\n      <td>0.666667</td>\n      <td>0.333333</td>\n    </tr>\n    <tr>\n      <th>DK</th>\n      <td>0.000000</td>\n      <td>31.000000</td>\n      <td>8.000000</td>\n      <td>6.666667</td>\n      <td>23.000000</td>\n      <td>-27.666667</td>\n      <td>55.666667</td>\n      <td>195.000000</td>\n      <td>-0.666667</td>\n      <td>-1.000000</td>\n      <td>1.000000</td>\n      <td>3.333333</td>\n      <td>-2.666667</td>\n      <td>-3.333333</td>\n      <td>-2.333333</td>\n      <td>-0.666667</td>\n    </tr>\n    <tr>\n      <th>Hugo</th>\n      <td>138.000000</td>\n      <td>10.666667</td>\n      <td>5.000000</td>\n      <td>2.666667</td>\n      <td>-32.333333</td>\n      <td>-334.000000</td>\n      <td>-507.333333</td>\n      <td>-529.000000</td>\n      <td>-1.000000</td>\n      <td>-5.333333</td>\n      <td>-5.666667</td>\n      <td>-6.000000</td>\n      <td>-1.000000</td>\n      <td>-2.666667</td>\n      <td>-2.000000</td>\n      <td>-1.000000</td>\n    </tr>\n    <tr>\n      <th>MK</th>\n      <td>0.000000</td>\n      <td>0.000000</td>\n      <td>0.000000</td>\n      <td>0.000000</td>\n      <td>0.000000</td>\n      <td>0.000000</td>\n      <td>0.000000</td>\n      <td>0.000000</td>\n      <td>0.000000</td>\n      <td>0.000000</td>\n      <td>0.000000</td>\n      <td>0.000000</td>\n      <td>0.000000</td>\n      <td>0.000000</td>\n      <td>0.000000</td>\n      <td>0.000000</td>\n    </tr>\n    <tr>\n      <th>Martin</th>\n      <td>0.000000</td>\n      <td>71.000000</td>\n      <td>20.000000</td>\n      <td>15.000000</td>\n      <td>112.000000</td>\n      <td>280.000000</td>\n      <td>750.000000</td>\n      <td>1185.666667</td>\n      <td>10.666667</td>\n      <td>21.333333</td>\n      <td>29.000000</td>\n      <td>33.666667</td>\n      <td>2.333333</td>\n      <td>4.666667</td>\n      <td>7.333333</td>\n      <td>9.000000</td>\n    </tr>\n    <tr>\n      <th>Max</th>\n      <td>280.333333</td>\n      <td>5.666667</td>\n      <td>2.000000</td>\n      <td>1.000000</td>\n      <td>-3.666667</td>\n      <td>2.666667</td>\n      <td>21.333333</td>\n      <td>42.333333</td>\n      <td>0.333333</td>\n      <td>0.666667</td>\n      <td>1.000000</td>\n      <td>1.333333</td>\n      <td>-1.333333</td>\n      <td>-0.666667</td>\n      <td>-0.333333</td>\n      <td>0.000000</td>\n    </tr>\n    <tr>\n      <th>Paddy</th>\n      <td>0.000000</td>\n      <td>1.333333</td>\n      <td>0.666667</td>\n      <td>0.666667</td>\n      <td>0.000000</td>\n      <td>0.000000</td>\n      <td>-55.333333</td>\n      <td>-124.000000</td>\n      <td>0.000000</td>\n      <td>-0.333333</td>\n      <td>0.333333</td>\n      <td>-1.000000</td>\n      <td>0.666667</td>\n      <td>0.666667</td>\n      <td>0.666667</td>\n      <td>0.000000</td>\n    </tr>\n    <tr>\n      <th>Tony</th>\n      <td>619.000000</td>\n      <td>15.333333</td>\n      <td>5.000000</td>\n      <td>3.000000</td>\n      <td>-49.000000</td>\n      <td>-48.333333</td>\n      <td>5.666667</td>\n      <td>51.666667</td>\n      <td>-3.333333</td>\n      <td>-0.333333</td>\n      <td>3.333333</td>\n      <td>4.666667</td>\n      <td>-2.333333</td>\n      <td>-1.333333</td>\n      <td>-1.000000</td>\n      <td>-0.333333</td>\n    </tr>\n    <tr>\n      <th>Zed</th>\n      <td>0.000000</td>\n      <td>12.333333</td>\n      <td>6.666667</td>\n      <td>5.000000</td>\n      <td>171.666667</td>\n      <td>347.666667</td>\n      <td>771.000000</td>\n      <td>1188.333333</td>\n      <td>4.666667</td>\n      <td>5.000000</td>\n      <td>5.666667</td>\n      <td>7.000000</td>\n      <td>1.666667</td>\n      <td>2.666667</td>\n      <td>3.666667</td>\n      <td>4.000000</td>\n    </tr>\n  </tbody>\n</table>\n</div>"
     },
     "execution_count": 274,
     "metadata": {},
     "output_type": "execute_result"
    }
   ],
   "source": [
    "be3_data= be3_data[:-1]\n",
    "be3_data"
   ],
   "metadata": {
    "collapsed": false
   }
  },
  {
   "cell_type": "code",
   "execution_count": 280,
   "outputs": [
    {
     "data": {
      "text/plain": "人员\nAber      7325.000000\nBen       2565.000000\nDK        1525.000000\nHugo       -35.000000\nMK                NaN\nMartin    3445.000000\nMax         -7.333333\nPaddy        0.000000\nTony       -51.000000\nZed       4853.000000\ndtype: float64"
     },
     "execution_count": 280,
     "metadata": {},
     "output_type": "execute_result"
    }
   ],
   "source": [
    "shuju10['发送IP']-be3_data['总IP']"
   ],
   "metadata": {
    "collapsed": false
   }
  },
  {
   "cell_type": "code",
   "execution_count": 5,
   "outputs": [
    {
     "ename": "NameError",
     "evalue": "name 'be_data' is not defined",
     "output_type": "error",
     "traceback": [
      "\u001B[1;31m---------------------------------------------------------------------------\u001B[0m",
      "\u001B[1;31mNameError\u001B[0m                                 Traceback (most recent call last)",
      "Cell \u001B[1;32mIn[5], line 1\u001B[0m\n\u001B[1;32m----> 1\u001B[0m \u001B[43mbe_data\u001B[49m\n",
      "\u001B[1;31mNameError\u001B[0m: name 'be_data' is not defined"
     ]
    }
   ],
   "source": [
    "be_data"
   ],
   "metadata": {
    "collapsed": false
   }
  },
  {
   "cell_type": "code",
   "execution_count": 284,
   "outputs": [
    {
     "data": {
      "text/plain": "               日期    对比前天  对比前天(总IP)      对比前3天均值  对比前3天均值(总IP)\n人员                                                             \nAber   2023-08-07  7325.0     7325.0  7325.000000   7325.000000\nBen    2023-08-07  2565.0     2565.0  2565.000000   2565.000000\nDK     2023-08-07  1525.0     1525.0  1525.000000   1525.000000\nHugo   2023-08-07   -22.0      -22.0   -35.000000    -35.000000\nMartin 2023-08-07  3445.0     3445.0  3445.000000   3445.000000\nMax    2023-08-07   -14.0      -14.0    -7.333333     -7.333333\nPaddy  2023-08-07     0.0        0.0     0.000000      0.000000\nTony   2023-08-07   -23.0      -23.0   -51.000000    -51.000000\nZed    2023-08-07  4853.0     4853.0  4853.000000   4853.000000",
      "text/html": "<div>\n<style scoped>\n    .dataframe tbody tr th:only-of-type {\n        vertical-align: middle;\n    }\n\n    .dataframe tbody tr th {\n        vertical-align: top;\n    }\n\n    .dataframe thead th {\n        text-align: right;\n    }\n</style>\n<table border=\"1\" class=\"dataframe\">\n  <thead>\n    <tr style=\"text-align: right;\">\n      <th></th>\n      <th>日期</th>\n      <th>对比前天</th>\n      <th>对比前天(总IP)</th>\n      <th>对比前3天均值</th>\n      <th>对比前3天均值(总IP)</th>\n    </tr>\n    <tr>\n      <th>人员</th>\n      <th></th>\n      <th></th>\n      <th></th>\n      <th></th>\n      <th></th>\n    </tr>\n  </thead>\n  <tbody>\n    <tr>\n      <th>Aber</th>\n      <td>2023-08-07</td>\n      <td>7325.0</td>\n      <td>7325.0</td>\n      <td>7325.000000</td>\n      <td>7325.000000</td>\n    </tr>\n    <tr>\n      <th>Ben</th>\n      <td>2023-08-07</td>\n      <td>2565.0</td>\n      <td>2565.0</td>\n      <td>2565.000000</td>\n      <td>2565.000000</td>\n    </tr>\n    <tr>\n      <th>DK</th>\n      <td>2023-08-07</td>\n      <td>1525.0</td>\n      <td>1525.0</td>\n      <td>1525.000000</td>\n      <td>1525.000000</td>\n    </tr>\n    <tr>\n      <th>Hugo</th>\n      <td>2023-08-07</td>\n      <td>-22.0</td>\n      <td>-22.0</td>\n      <td>-35.000000</td>\n      <td>-35.000000</td>\n    </tr>\n    <tr>\n      <th>Martin</th>\n      <td>2023-08-07</td>\n      <td>3445.0</td>\n      <td>3445.0</td>\n      <td>3445.000000</td>\n      <td>3445.000000</td>\n    </tr>\n    <tr>\n      <th>Max</th>\n      <td>2023-08-07</td>\n      <td>-14.0</td>\n      <td>-14.0</td>\n      <td>-7.333333</td>\n      <td>-7.333333</td>\n    </tr>\n    <tr>\n      <th>Paddy</th>\n      <td>2023-08-07</td>\n      <td>0.0</td>\n      <td>0.0</td>\n      <td>0.000000</td>\n      <td>0.000000</td>\n    </tr>\n    <tr>\n      <th>Tony</th>\n      <td>2023-08-07</td>\n      <td>-23.0</td>\n      <td>-23.0</td>\n      <td>-51.000000</td>\n      <td>-51.000000</td>\n    </tr>\n    <tr>\n      <th>Zed</th>\n      <td>2023-08-07</td>\n      <td>4853.0</td>\n      <td>4853.0</td>\n      <td>4853.000000</td>\n      <td>4853.000000</td>\n    </tr>\n  </tbody>\n</table>\n</div>"
     },
     "execution_count": 284,
     "metadata": {},
     "output_type": "execute_result"
    }
   ],
   "source": [
    "all_ip['对比前3天均值(总IP)']= shuju10['发送IP']-be3_data['总IP']\n",
    "all_ip"
   ],
   "metadata": {
    "collapsed": false
   }
  },
  {
   "cell_type": "code",
   "execution_count": null,
   "outputs": [],
   "source": [],
   "metadata": {
    "collapsed": false
   }
  },
  {
   "cell_type": "code",
   "execution_count": 285,
   "outputs": [
    {
     "name": "stderr",
     "output_type": "stream",
     "text": [
      "C:\\Users\\User\\AppData\\Local\\Temp\\ipykernel_11952\\1841360225.py:2: FutureWarning: The default value of numeric_only in DataFrameGroupBy.mean is deprecated. In a future version, numeric_only will default to False. Either specify numeric_only or select only columns which should be valid for the function.\n",
      "  be5_data = be5_data.groupby('人员').mean()\n"
     ]
    },
    {
     "data": {
      "text/plain": "          总IP    注册    开户  当日注册当日开户  对比前天(总IP)  对比前3天均值(总IP)  对比前5天均值(总IP)  \\\n人员                                                                           \nAber      0.0  40.6  14.8      11.2     -360.0        1098.4        1831.2   \nBen       0.0  11.2   2.6       1.2     -645.0       -1412.0       -2179.0   \nDK        0.0  30.6   8.8       7.8       -8.4          81.6         175.0   \nHugo    122.8  14.2   6.6       4.2     -198.8        -317.0        -405.2   \nMK        0.0   0.0   0.0       0.0        0.0           0.0           0.0   \nMartin    0.0  60.2  17.4      12.0      230.6         646.6        1047.8   \nMax     278.0   5.8   2.4       1.8        1.4          19.2          34.2   \nPaddy     0.0   1.8   0.6       0.4       -0.2         -55.2        -120.8   \nTony    637.6  14.6   5.2       3.2      -15.0          24.6          59.0   \nZed       0.0  10.0   5.4       3.6      176.8         608.8         948.8   \n\n        对比前7天均值(总IP)  对比前天(总注册)  对比前3天均值(总注册)  对比前5天均值(总注册)  对比前7天均值(总注册)  \\\n人员                                                                          \nAber          2427.4       -1.4           3.4           2.6           0.6   \nBen          -2627.4        0.2          -1.0          -1.0          -0.6   \nDK             244.4       -0.8           0.4           2.4           3.2   \nHugo          -431.8       -1.2          -2.6          -3.2          -3.6   \nMK               0.0        0.0           0.0           0.0           0.0   \nMartin        1333.4        8.2          18.0          23.0          25.2   \nMax             40.8        0.4           1.2           1.6           1.6   \nPaddy         -191.8        0.6           0.6          -0.4          -2.4   \nTony            76.4        0.2           2.4           4.0           4.2   \nZed           1160.4        2.2           3.4           4.0           4.6   \n\n        对比前天(总开户)  对比前3天均值(总开户)  对比前5天均值(总开户)  对比前7天均值(总开户)  \n人员                                                           \nAber          0.2           2.4           1.6           0.0  \nBen           0.4           0.4           0.0          -0.4  \nDK           -2.0          -1.6          -0.6           0.0  \nHugo         -0.8          -0.6           0.2           0.8  \nMK            0.0           0.0           0.0           0.0  \nMartin        2.0           4.8           6.2           6.8  \nMax           0.0           0.0           0.4           0.4  \nPaddy         0.4           0.4           0.2          -0.6  \nTony         -0.4          -0.6          -0.2           0.2  \nZed           1.4           2.4           2.8           3.0  ",
      "text/html": "<div>\n<style scoped>\n    .dataframe tbody tr th:only-of-type {\n        vertical-align: middle;\n    }\n\n    .dataframe tbody tr th {\n        vertical-align: top;\n    }\n\n    .dataframe thead th {\n        text-align: right;\n    }\n</style>\n<table border=\"1\" class=\"dataframe\">\n  <thead>\n    <tr style=\"text-align: right;\">\n      <th></th>\n      <th>总IP</th>\n      <th>注册</th>\n      <th>开户</th>\n      <th>当日注册当日开户</th>\n      <th>对比前天(总IP)</th>\n      <th>对比前3天均值(总IP)</th>\n      <th>对比前5天均值(总IP)</th>\n      <th>对比前7天均值(总IP)</th>\n      <th>对比前天(总注册)</th>\n      <th>对比前3天均值(总注册)</th>\n      <th>对比前5天均值(总注册)</th>\n      <th>对比前7天均值(总注册)</th>\n      <th>对比前天(总开户)</th>\n      <th>对比前3天均值(总开户)</th>\n      <th>对比前5天均值(总开户)</th>\n      <th>对比前7天均值(总开户)</th>\n    </tr>\n    <tr>\n      <th>人员</th>\n      <th></th>\n      <th></th>\n      <th></th>\n      <th></th>\n      <th></th>\n      <th></th>\n      <th></th>\n      <th></th>\n      <th></th>\n      <th></th>\n      <th></th>\n      <th></th>\n      <th></th>\n      <th></th>\n      <th></th>\n      <th></th>\n    </tr>\n  </thead>\n  <tbody>\n    <tr>\n      <th>Aber</th>\n      <td>0.0</td>\n      <td>40.6</td>\n      <td>14.8</td>\n      <td>11.2</td>\n      <td>-360.0</td>\n      <td>1098.4</td>\n      <td>1831.2</td>\n      <td>2427.4</td>\n      <td>-1.4</td>\n      <td>3.4</td>\n      <td>2.6</td>\n      <td>0.6</td>\n      <td>0.2</td>\n      <td>2.4</td>\n      <td>1.6</td>\n      <td>0.0</td>\n    </tr>\n    <tr>\n      <th>Ben</th>\n      <td>0.0</td>\n      <td>11.2</td>\n      <td>2.6</td>\n      <td>1.2</td>\n      <td>-645.0</td>\n      <td>-1412.0</td>\n      <td>-2179.0</td>\n      <td>-2627.4</td>\n      <td>0.2</td>\n      <td>-1.0</td>\n      <td>-1.0</td>\n      <td>-0.6</td>\n      <td>0.4</td>\n      <td>0.4</td>\n      <td>0.0</td>\n      <td>-0.4</td>\n    </tr>\n    <tr>\n      <th>DK</th>\n      <td>0.0</td>\n      <td>30.6</td>\n      <td>8.8</td>\n      <td>7.8</td>\n      <td>-8.4</td>\n      <td>81.6</td>\n      <td>175.0</td>\n      <td>244.4</td>\n      <td>-0.8</td>\n      <td>0.4</td>\n      <td>2.4</td>\n      <td>3.2</td>\n      <td>-2.0</td>\n      <td>-1.6</td>\n      <td>-0.6</td>\n      <td>0.0</td>\n    </tr>\n    <tr>\n      <th>Hugo</th>\n      <td>122.8</td>\n      <td>14.2</td>\n      <td>6.6</td>\n      <td>4.2</td>\n      <td>-198.8</td>\n      <td>-317.0</td>\n      <td>-405.2</td>\n      <td>-431.8</td>\n      <td>-1.2</td>\n      <td>-2.6</td>\n      <td>-3.2</td>\n      <td>-3.6</td>\n      <td>-0.8</td>\n      <td>-0.6</td>\n      <td>0.2</td>\n      <td>0.8</td>\n    </tr>\n    <tr>\n      <th>MK</th>\n      <td>0.0</td>\n      <td>0.0</td>\n      <td>0.0</td>\n      <td>0.0</td>\n      <td>0.0</td>\n      <td>0.0</td>\n      <td>0.0</td>\n      <td>0.0</td>\n      <td>0.0</td>\n      <td>0.0</td>\n      <td>0.0</td>\n      <td>0.0</td>\n      <td>0.0</td>\n      <td>0.0</td>\n      <td>0.0</td>\n      <td>0.0</td>\n    </tr>\n    <tr>\n      <th>Martin</th>\n      <td>0.0</td>\n      <td>60.2</td>\n      <td>17.4</td>\n      <td>12.0</td>\n      <td>230.6</td>\n      <td>646.6</td>\n      <td>1047.8</td>\n      <td>1333.4</td>\n      <td>8.2</td>\n      <td>18.0</td>\n      <td>23.0</td>\n      <td>25.2</td>\n      <td>2.0</td>\n      <td>4.8</td>\n      <td>6.2</td>\n      <td>6.8</td>\n    </tr>\n    <tr>\n      <th>Max</th>\n      <td>278.0</td>\n      <td>5.8</td>\n      <td>2.4</td>\n      <td>1.8</td>\n      <td>1.4</td>\n      <td>19.2</td>\n      <td>34.2</td>\n      <td>40.8</td>\n      <td>0.4</td>\n      <td>1.2</td>\n      <td>1.6</td>\n      <td>1.6</td>\n      <td>0.0</td>\n      <td>0.0</td>\n      <td>0.4</td>\n      <td>0.4</td>\n    </tr>\n    <tr>\n      <th>Paddy</th>\n      <td>0.0</td>\n      <td>1.8</td>\n      <td>0.6</td>\n      <td>0.4</td>\n      <td>-0.2</td>\n      <td>-55.2</td>\n      <td>-120.8</td>\n      <td>-191.8</td>\n      <td>0.6</td>\n      <td>0.6</td>\n      <td>-0.4</td>\n      <td>-2.4</td>\n      <td>0.4</td>\n      <td>0.4</td>\n      <td>0.2</td>\n      <td>-0.6</td>\n    </tr>\n    <tr>\n      <th>Tony</th>\n      <td>637.6</td>\n      <td>14.6</td>\n      <td>5.2</td>\n      <td>3.2</td>\n      <td>-15.0</td>\n      <td>24.6</td>\n      <td>59.0</td>\n      <td>76.4</td>\n      <td>0.2</td>\n      <td>2.4</td>\n      <td>4.0</td>\n      <td>4.2</td>\n      <td>-0.4</td>\n      <td>-0.6</td>\n      <td>-0.2</td>\n      <td>0.2</td>\n    </tr>\n    <tr>\n      <th>Zed</th>\n      <td>0.0</td>\n      <td>10.0</td>\n      <td>5.4</td>\n      <td>3.6</td>\n      <td>176.8</td>\n      <td>608.8</td>\n      <td>948.8</td>\n      <td>1160.4</td>\n      <td>2.2</td>\n      <td>3.4</td>\n      <td>4.0</td>\n      <td>4.6</td>\n      <td>1.4</td>\n      <td>2.4</td>\n      <td>2.8</td>\n      <td>3.0</td>\n    </tr>\n  </tbody>\n</table>\n</div>"
     },
     "execution_count": 285,
     "metadata": {},
     "output_type": "execute_result"
    }
   ],
   "source": [
    "be5_data = history_data[history_data['日期']>(shuju9['日期'][0]+datetime.timedelta(days=-5))]\n",
    "be5_data = be5_data.groupby('人员').mean()\n",
    "be5_data=be5_data[:-1]\n",
    "be5_data.sort_index(inplace=True)\n",
    "be5_data"
   ],
   "metadata": {
    "collapsed": false
   }
  },
  {
   "cell_type": "code",
   "execution_count": 286,
   "outputs": [
    {
     "data": {
      "text/plain": "               日期    对比前天  对比前天(总IP)      对比前3天均值  对比前3天均值(总IP)  对比前5天均值(总IP)\n人员                                                                           \nAber   2023-08-07  7325.0     7325.0  7325.000000   7325.000000        7325.0\nBen    2023-08-07  2565.0     2565.0  2565.000000   2565.000000        2565.0\nDK     2023-08-07  1525.0     1525.0  1525.000000   1525.000000        1525.0\nHugo   2023-08-07   -22.0      -22.0   -35.000000    -35.000000         -19.8\nMartin 2023-08-07  3445.0     3445.0  3445.000000   3445.000000        3445.0\nMax    2023-08-07   -14.0      -14.0    -7.333333     -7.333333          -5.0\nPaddy  2023-08-07     0.0        0.0     0.000000      0.000000           0.0\nTony   2023-08-07   -23.0      -23.0   -51.000000    -51.000000         -69.6\nZed    2023-08-07  4853.0     4853.0  4853.000000   4853.000000        4853.0",
      "text/html": "<div>\n<style scoped>\n    .dataframe tbody tr th:only-of-type {\n        vertical-align: middle;\n    }\n\n    .dataframe tbody tr th {\n        vertical-align: top;\n    }\n\n    .dataframe thead th {\n        text-align: right;\n    }\n</style>\n<table border=\"1\" class=\"dataframe\">\n  <thead>\n    <tr style=\"text-align: right;\">\n      <th></th>\n      <th>日期</th>\n      <th>对比前天</th>\n      <th>对比前天(总IP)</th>\n      <th>对比前3天均值</th>\n      <th>对比前3天均值(总IP)</th>\n      <th>对比前5天均值(总IP)</th>\n    </tr>\n    <tr>\n      <th>人员</th>\n      <th></th>\n      <th></th>\n      <th></th>\n      <th></th>\n      <th></th>\n      <th></th>\n    </tr>\n  </thead>\n  <tbody>\n    <tr>\n      <th>Aber</th>\n      <td>2023-08-07</td>\n      <td>7325.0</td>\n      <td>7325.0</td>\n      <td>7325.000000</td>\n      <td>7325.000000</td>\n      <td>7325.0</td>\n    </tr>\n    <tr>\n      <th>Ben</th>\n      <td>2023-08-07</td>\n      <td>2565.0</td>\n      <td>2565.0</td>\n      <td>2565.000000</td>\n      <td>2565.000000</td>\n      <td>2565.0</td>\n    </tr>\n    <tr>\n      <th>DK</th>\n      <td>2023-08-07</td>\n      <td>1525.0</td>\n      <td>1525.0</td>\n      <td>1525.000000</td>\n      <td>1525.000000</td>\n      <td>1525.0</td>\n    </tr>\n    <tr>\n      <th>Hugo</th>\n      <td>2023-08-07</td>\n      <td>-22.0</td>\n      <td>-22.0</td>\n      <td>-35.000000</td>\n      <td>-35.000000</td>\n      <td>-19.8</td>\n    </tr>\n    <tr>\n      <th>Martin</th>\n      <td>2023-08-07</td>\n      <td>3445.0</td>\n      <td>3445.0</td>\n      <td>3445.000000</td>\n      <td>3445.000000</td>\n      <td>3445.0</td>\n    </tr>\n    <tr>\n      <th>Max</th>\n      <td>2023-08-07</td>\n      <td>-14.0</td>\n      <td>-14.0</td>\n      <td>-7.333333</td>\n      <td>-7.333333</td>\n      <td>-5.0</td>\n    </tr>\n    <tr>\n      <th>Paddy</th>\n      <td>2023-08-07</td>\n      <td>0.0</td>\n      <td>0.0</td>\n      <td>0.000000</td>\n      <td>0.000000</td>\n      <td>0.0</td>\n    </tr>\n    <tr>\n      <th>Tony</th>\n      <td>2023-08-07</td>\n      <td>-23.0</td>\n      <td>-23.0</td>\n      <td>-51.000000</td>\n      <td>-51.000000</td>\n      <td>-69.6</td>\n    </tr>\n    <tr>\n      <th>Zed</th>\n      <td>2023-08-07</td>\n      <td>4853.0</td>\n      <td>4853.0</td>\n      <td>4853.000000</td>\n      <td>4853.000000</td>\n      <td>4853.0</td>\n    </tr>\n  </tbody>\n</table>\n</div>"
     },
     "execution_count": 286,
     "metadata": {},
     "output_type": "execute_result"
    }
   ],
   "source": [
    "all_ip['对比前5天均值(总IP)']= shuju10['发送IP']-be5_data['总IP']\n",
    "all_ip"
   ],
   "metadata": {
    "collapsed": false
   }
  },
  {
   "cell_type": "code",
   "execution_count": 287,
   "outputs": [
    {
     "name": "stderr",
     "output_type": "stream",
     "text": [
      "C:\\Users\\User\\AppData\\Local\\Temp\\ipykernel_11952\\456986698.py:2: FutureWarning: The default value of numeric_only in DataFrameGroupBy.mean is deprecated. In a future version, numeric_only will default to False. Either specify numeric_only or select only columns which should be valid for the function.\n",
      "  be7_data = be7_data.groupby('人员').mean()\n"
     ]
    },
    {
     "data": {
      "text/plain": "               日期    对比前天  对比前天(总IP)      对比前3天均值  对比前3天均值(总IP)  对比前5天均值(总IP)  \\\n人员                                                                              \nAber   2023-08-07  7325.0     7325.0  7325.000000   7325.000000        7325.0   \nBen    2023-08-07  2565.0     2565.0  2565.000000   2565.000000        2565.0   \nDK     2023-08-07  1525.0     1525.0  1525.000000   1525.000000        1525.0   \nHugo   2023-08-07   -22.0      -22.0   -35.000000    -35.000000         -19.8   \nMartin 2023-08-07  3445.0     3445.0  3445.000000   3445.000000        3445.0   \nMax    2023-08-07   -14.0      -14.0    -7.333333     -7.333333          -5.0   \nPaddy  2023-08-07     0.0        0.0     0.000000      0.000000           0.0   \nTony   2023-08-07   -23.0      -23.0   -51.000000    -51.000000         -69.6   \nZed    2023-08-07  4853.0     4853.0  4853.000000   4853.000000        4853.0   \n\n        对比前7天均值(总IP)  \n人员                    \nAber     7325.000000  \nBen      2565.000000  \nDK       1525.000000  \nHugo       15.285714  \nMartin   3445.000000  \nMax        -5.428571  \nPaddy     -59.285714  \nTony      -71.285714  \nZed      4853.000000  ",
      "text/html": "<div>\n<style scoped>\n    .dataframe tbody tr th:only-of-type {\n        vertical-align: middle;\n    }\n\n    .dataframe tbody tr th {\n        vertical-align: top;\n    }\n\n    .dataframe thead th {\n        text-align: right;\n    }\n</style>\n<table border=\"1\" class=\"dataframe\">\n  <thead>\n    <tr style=\"text-align: right;\">\n      <th></th>\n      <th>日期</th>\n      <th>对比前天</th>\n      <th>对比前天(总IP)</th>\n      <th>对比前3天均值</th>\n      <th>对比前3天均值(总IP)</th>\n      <th>对比前5天均值(总IP)</th>\n      <th>对比前7天均值(总IP)</th>\n    </tr>\n    <tr>\n      <th>人员</th>\n      <th></th>\n      <th></th>\n      <th></th>\n      <th></th>\n      <th></th>\n      <th></th>\n      <th></th>\n    </tr>\n  </thead>\n  <tbody>\n    <tr>\n      <th>Aber</th>\n      <td>2023-08-07</td>\n      <td>7325.0</td>\n      <td>7325.0</td>\n      <td>7325.000000</td>\n      <td>7325.000000</td>\n      <td>7325.0</td>\n      <td>7325.000000</td>\n    </tr>\n    <tr>\n      <th>Ben</th>\n      <td>2023-08-07</td>\n      <td>2565.0</td>\n      <td>2565.0</td>\n      <td>2565.000000</td>\n      <td>2565.000000</td>\n      <td>2565.0</td>\n      <td>2565.000000</td>\n    </tr>\n    <tr>\n      <th>DK</th>\n      <td>2023-08-07</td>\n      <td>1525.0</td>\n      <td>1525.0</td>\n      <td>1525.000000</td>\n      <td>1525.000000</td>\n      <td>1525.0</td>\n      <td>1525.000000</td>\n    </tr>\n    <tr>\n      <th>Hugo</th>\n      <td>2023-08-07</td>\n      <td>-22.0</td>\n      <td>-22.0</td>\n      <td>-35.000000</td>\n      <td>-35.000000</td>\n      <td>-19.8</td>\n      <td>15.285714</td>\n    </tr>\n    <tr>\n      <th>Martin</th>\n      <td>2023-08-07</td>\n      <td>3445.0</td>\n      <td>3445.0</td>\n      <td>3445.000000</td>\n      <td>3445.000000</td>\n      <td>3445.0</td>\n      <td>3445.000000</td>\n    </tr>\n    <tr>\n      <th>Max</th>\n      <td>2023-08-07</td>\n      <td>-14.0</td>\n      <td>-14.0</td>\n      <td>-7.333333</td>\n      <td>-7.333333</td>\n      <td>-5.0</td>\n      <td>-5.428571</td>\n    </tr>\n    <tr>\n      <th>Paddy</th>\n      <td>2023-08-07</td>\n      <td>0.0</td>\n      <td>0.0</td>\n      <td>0.000000</td>\n      <td>0.000000</td>\n      <td>0.0</td>\n      <td>-59.285714</td>\n    </tr>\n    <tr>\n      <th>Tony</th>\n      <td>2023-08-07</td>\n      <td>-23.0</td>\n      <td>-23.0</td>\n      <td>-51.000000</td>\n      <td>-51.000000</td>\n      <td>-69.6</td>\n      <td>-71.285714</td>\n    </tr>\n    <tr>\n      <th>Zed</th>\n      <td>2023-08-07</td>\n      <td>4853.0</td>\n      <td>4853.0</td>\n      <td>4853.000000</td>\n      <td>4853.000000</td>\n      <td>4853.0</td>\n      <td>4853.000000</td>\n    </tr>\n  </tbody>\n</table>\n</div>"
     },
     "execution_count": 287,
     "metadata": {},
     "output_type": "execute_result"
    }
   ],
   "source": [
    "be7_data = history_data[history_data['日期']>(shuju9['日期'][0]+datetime.timedelta(days=-7))]\n",
    "be7_data = be7_data.groupby('人员').mean()\n",
    "be7_data=be7_data[:-1]\n",
    "be7_data.sort_index(inplace=True)\n",
    "all_ip['对比前7天均值(总IP)']= shuju10['发送IP']-be7_data['总IP']\n",
    "all_ip"
   ],
   "metadata": {
    "collapsed": false
   }
  },
  {
   "cell_type": "code",
   "execution_count": 8,
   "outputs": [
    {
     "ename": "NameError",
     "evalue": "name 'shuju' is not defined",
     "output_type": "error",
     "traceback": [
      "\u001B[1;31m---------------------------------------------------------------------------\u001B[0m",
      "\u001B[1;31mNameError\u001B[0m                                 Traceback (most recent call last)",
      "Cell \u001B[1;32mIn[8], line 1\u001B[0m\n\u001B[1;32m----> 1\u001B[0m \u001B[43mshuju\u001B[49m\n",
      "\u001B[1;31mNameError\u001B[0m: name 'shuju' is not defined"
     ]
    }
   ],
   "source": [
    "shuju"
   ],
   "metadata": {
    "collapsed": false
   }
  },
  {
   "cell_type": "code",
   "execution_count": null,
   "outputs": [],
   "source": [],
   "metadata": {
    "collapsed": false
   }
  }
 ],
 "metadata": {
  "kernelspec": {
   "name": "env_da",
   "language": "python",
   "display_name": "env_da"
  },
  "language_info": {
   "codemirror_mode": {
    "name": "ipython",
    "version": 2
   },
   "file_extension": ".py",
   "mimetype": "text/x-python",
   "name": "python",
   "nbconvert_exporter": "python",
   "pygments_lexer": "ipython2",
   "version": "2.7.6"
  }
 },
 "nbformat": 4,
 "nbformat_minor": 0
}
