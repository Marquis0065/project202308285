{
 "cells": [
  {
   "cell_type": "code",
   "execution_count": 23,
   "outputs": [
    {
     "name": "stdout",
     "output_type": "stream",
     "text": [
      "会员首存行列： (410, 7)\n",
      "昨天与今天的会员首存行列： (555, 7)\n",
      "用户列表行列: (1118, 7)\n",
      "去重后： (1022, 7)\n"
     ]
    },
    {
     "data": {
      "text/plain": "         会员账号   姓名      代理     玩家层级        注册时间        首存时间 备注\n0  Azw9688Azw    -  gt0005  新注册默认层级  2023/10/10  1970/01/01   \n1      xp0528  陈*勋  zzzb04    初审后层级  2023/10/10  2023/10/11   ",
      "text/html": "<div>\n<style scoped>\n    .dataframe tbody tr th:only-of-type {\n        vertical-align: middle;\n    }\n\n    .dataframe tbody tr th {\n        vertical-align: top;\n    }\n\n    .dataframe thead th {\n        text-align: right;\n    }\n</style>\n<table border=\"1\" class=\"dataframe\">\n  <thead>\n    <tr style=\"text-align: right;\">\n      <th></th>\n      <th>会员账号</th>\n      <th>姓名</th>\n      <th>代理</th>\n      <th>玩家层级</th>\n      <th>注册时间</th>\n      <th>首存时间</th>\n      <th>备注</th>\n    </tr>\n  </thead>\n  <tbody>\n    <tr>\n      <th>0</th>\n      <td>Azw9688Azw</td>\n      <td>-</td>\n      <td>gt0005</td>\n      <td>新注册默认层级</td>\n      <td>2023/10/10</td>\n      <td>1970/01/01</td>\n      <td></td>\n    </tr>\n    <tr>\n      <th>1</th>\n      <td>xp0528</td>\n      <td>陈*勋</td>\n      <td>zzzb04</td>\n      <td>初审后层级</td>\n      <td>2023/10/10</td>\n      <td>2023/10/11</td>\n      <td></td>\n    </tr>\n  </tbody>\n</table>\n</div>"
     },
     "execution_count": 23,
     "metadata": {},
     "output_type": "execute_result"
    },
    {
     "data": {
      "text/plain": "           会员名        所属代理                 注册时间                 交易时间 交易类型  \\\n0     cw1206cw  btyseo7003  2023/10/10 23:54:24  2023/07/24 06:45:29   存款   \n1  Thienkim562    vntf0902  2023/10/10 23:49:15  2023/10/04 22:05:16   存款   \n2     Vanhoa82      vnzb05  2023/10/10 23:46:14  2023/10/10 21:07:32   存款   \n\n    币种        金额  \n0  CNY     300.0  \n1  VND   60000.0  \n2  VND  600000.0  ",
      "text/html": "<div>\n<style scoped>\n    .dataframe tbody tr th:only-of-type {\n        vertical-align: middle;\n    }\n\n    .dataframe tbody tr th {\n        vertical-align: top;\n    }\n\n    .dataframe thead th {\n        text-align: right;\n    }\n</style>\n<table border=\"1\" class=\"dataframe\">\n  <thead>\n    <tr style=\"text-align: right;\">\n      <th></th>\n      <th>会员名</th>\n      <th>所属代理</th>\n      <th>注册时间</th>\n      <th>交易时间</th>\n      <th>交易类型</th>\n      <th>币种</th>\n      <th>金额</th>\n    </tr>\n  </thead>\n  <tbody>\n    <tr>\n      <th>0</th>\n      <td>cw1206cw</td>\n      <td>btyseo7003</td>\n      <td>2023/10/10 23:54:24</td>\n      <td>2023/07/24 06:45:29</td>\n      <td>存款</td>\n      <td>CNY</td>\n      <td>300.0</td>\n    </tr>\n    <tr>\n      <th>1</th>\n      <td>Thienkim562</td>\n      <td>vntf0902</td>\n      <td>2023/10/10 23:49:15</td>\n      <td>2023/10/04 22:05:16</td>\n      <td>存款</td>\n      <td>VND</td>\n      <td>60000.0</td>\n    </tr>\n    <tr>\n      <th>2</th>\n      <td>Vanhoa82</td>\n      <td>vnzb05</td>\n      <td>2023/10/10 23:46:14</td>\n      <td>2023/10/10 21:07:32</td>\n      <td>存款</td>\n      <td>VND</td>\n      <td>600000.0</td>\n    </tr>\n  </tbody>\n</table>\n</div>"
     },
     "execution_count": 23,
     "metadata": {},
     "output_type": "execute_result"
    },
    {
     "data": {
      "text/plain": "            会员名     所属代理                 注册时间                 交易时间 交易类型   币种  \\\n0  kialos999000  gfas001  2023/10/11 14:12:59  2023/10/04 16:13:46   存款  VND   \n1    Nghi130795   vnzb03  2023/10/11 14:11:26  2023/10/11 02:31:08   存款  VND   \n\n         金额  \n0  700000.0  \n1  200000.0  ",
      "text/html": "<div>\n<style scoped>\n    .dataframe tbody tr th:only-of-type {\n        vertical-align: middle;\n    }\n\n    .dataframe tbody tr th {\n        vertical-align: top;\n    }\n\n    .dataframe thead th {\n        text-align: right;\n    }\n</style>\n<table border=\"1\" class=\"dataframe\">\n  <thead>\n    <tr style=\"text-align: right;\">\n      <th></th>\n      <th>会员名</th>\n      <th>所属代理</th>\n      <th>注册时间</th>\n      <th>交易时间</th>\n      <th>交易类型</th>\n      <th>币种</th>\n      <th>金额</th>\n    </tr>\n  </thead>\n  <tbody>\n    <tr>\n      <th>0</th>\n      <td>kialos999000</td>\n      <td>gfas001</td>\n      <td>2023/10/11 14:12:59</td>\n      <td>2023/10/04 16:13:46</td>\n      <td>存款</td>\n      <td>VND</td>\n      <td>700000.0</td>\n    </tr>\n    <tr>\n      <th>1</th>\n      <td>Nghi130795</td>\n      <td>vnzb03</td>\n      <td>2023/10/11 14:11:26</td>\n      <td>2023/10/11 02:31:08</td>\n      <td>存款</td>\n      <td>VND</td>\n      <td>200000.0</td>\n    </tr>\n  </tbody>\n</table>\n</div>"
     },
     "execution_count": 23,
     "metadata": {},
     "output_type": "execute_result"
    }
   ],
   "source": [
    "# SEO环境： schedule\n",
    "import os\n",
    "import warnings\n",
    "warnings.filterwarnings('ignore')\n",
    "import requests\n",
    "import pandas as pd\n",
    "import numpy as np\n",
    "import jsonpath\n",
    "import json\n",
    "import time\n",
    "import datetime\n",
    "import xlwings as xw\n",
    "import telebot\n",
    "import hmac, base64, struct, hashlib\n",
    "from openpyxl import Workbook, load_workbook\n",
    "from openpyxl import formatting, styles\n",
    "from openpyxl.styles import Color, PatternFill, Font, Border\n",
    "from PIL import ImageGrab\n",
    "import pyperclip\n",
    "\n",
    "pd.set_option('display.max_colwidth', None) #显示单元格完整信息\n",
    "pd.set_option('display.max_columns', None)\n",
    "pd.set_option('display.max_rows', None)\n",
    "\n",
    "day = -1\n",
    "pages_user = 150\n",
    "pages_fircharge = 60\n",
    "pages_fircharge_two= 100\n",
    "\n",
    "# start_date = (datetime.datetime.now()+datetime.timedelta(days=day)).strftime('%Y%m%d')\n",
    "# end_date = (datetime.datetime.now()+datetime.timedelta(days=day)).strftime('%Y%m%d')\n",
    "# last_date = (datetime.datetime.now()+datetime.timedelta(days=day-1)).strftime('%Y%m%d')\n",
    "\n",
    "url = 'http://fundmng.bsportsadmin.com/api/manage/fund/withdraw/record/list/history'\n",
    "\n",
    "# 第一次获取token\n",
    "submit_url = 'http://fundmng.bsportsadmin.com/api/manage/user/admin/login/submit'\n",
    "header0 = {\n",
    "    'Accept':'application/json, text/plain, */*',\n",
    "    # 'Accept-Encoding':'gzip, deflate',\n",
    "    'Accept-Language':'zh-CN,zh;q=0.9',\n",
    "    'Connection':'keep-alive',\n",
    "    'Content-Length':'48',\n",
    "    'Content-Type':'application/x-www-form-urlencoded',\n",
    "    'Cookie':'admin-uid=690; admin-token=db76bebda5274c80adaadd40bd794f24',\n",
    "    'Device_id':'1.0',\n",
    "    'Gl_version':'2.0',\n",
    "    'Host':'fundmng.bsportsadmin.com',\n",
    "    'Language':'zh_CN',\n",
    "    'Origin':'http://fundmng.bsportsadmin.com',\n",
    "    'Os_type':'0',\n",
    "    'Referer':'http://fundmng.bsportsadmin.com/login',\n",
    "    'Sign':'2bc4c378817f47731f0adf450a627d19',\n",
    "    'Some':'header',\n",
    "    'Systemid':\"\",\n",
    "    'Timestamp':'1692415901000',\n",
    "    'Token':'-1',\n",
    "    'Uid':'-1',\n",
    "    'User-Agent':'Mozilla/5.0 (Windows NT 10.0; Win64; x64) AppleWebKit/537.36 (KHTML, like Gecko) Chrome/116.0.0.0 Safari/537.36',\n",
    "    'Version':'1.0'\n",
    "}\n",
    "def get_google_code(secret):\n",
    "    key = base64.b32decode(secret, True)\n",
    "    msg = struct.pack(\">Q\", int(time.time()) // 30)\n",
    "    google_code = hmac.new(key, msg, hashlib.sha1).digest()\n",
    "    # 很多网上的代码不可用，就在于这儿，没有chr字符串\n",
    "    o = ord(chr(google_code[19])) & 15\n",
    "    # google_code = (struct.unpack(\">I\", google_code[o:o + 4])[0] & 0x7fffffff) % 1000000\n",
    "    google_code = (struct.unpack(\">I\", google_code[o:o + 4])[0] & 0x7fffffff) % 1000000\n",
    "    return '%06d' % google_code\n",
    "\n",
    "\n",
    "# 采集会员列表和会员首存记录\n",
    "url_fircharge = 'http://fundmng.bsportsadmin.com/api/manage/data/detail/firstRecharge'\n",
    "url_user = 'http://fundmng.bsportsadmin.com/api/manage/user/maintain/user/list'\n",
    "session = requests.session()\n",
    "\n",
    "# 1.采集首存报表\n",
    "dic_fir = dict({'会员名':[], '所属代理':[],'注册时间':[], '交易时间':[], '交易类型':[], '币种':[], '金额':[]})\n",
    "# 昨天开始时间戳\n",
    "yesterday = datetime.date.today() + datetime.timedelta(days=day)\n",
    "yesterday_start_time = int(time.mktime(time.strptime(str(yesterday), '%Y-%m-%d')))\n",
    "# 昨天结束时间戳\n",
    "yesterday_end_time = int(time.mktime(time.strptime(str(datetime.date.today()), '%Y-%m-%d'))) - 1\n",
    "\n",
    "#---------------------token----------------------\n",
    "# 采取token\n",
    "google_code = get_google_code('64ehnxj6yily5bhv23kgb62ozuh6yuu2')\n",
    "data0 = {\n",
    "    'username': 'Marquis',\n",
    "    'password': 'qwer123456',\n",
    "    'code': google_code\n",
    "}\n",
    "session0 = requests.Session()\n",
    "response0  =session0.post(url=submit_url,data=data0,headers=header0)\n",
    "response0.encoding = 'utf-8'\n",
    "obj0 = json.loads(response0.text)\n",
    "token = obj0['data']['token']\n",
    "\n",
    "header = {\n",
    "    'Accept':'application/json, text/plain, */*',\n",
    "    # 'Accept-Encoding':'gzip, deflate',\n",
    "    'Accept-Language':'zh-CN,zh;q=0.9',\n",
    "    'Connection':'keep-alive',\n",
    "    'Content-Length':'75',\n",
    "    'Content-Type':'application/x-www-form-urlencoded',\n",
    "    'Cookie':'admin-token=67c8b1bd1b434f898ed8570a860355b8; admin-uid=690',\n",
    "    'Device_id':'1.0',\n",
    "    'Gl_version':'2.0',\n",
    "    'Host':'fundmng.bsportsadmin.com',\n",
    "    'Language':'zh_CN',\n",
    "    'Menuid':'100112',\n",
    "    'Opeartionmenu':'%u62A5%u8868%u67E5%u8BE2-%u4F1A%u5458%u9996%u5B58%u62A5%u8868',\n",
    "    'Origin':'http://fundmng.bsportsadmin.com',\n",
    "    'Os_type':'0',\n",
    "    'Referer':'http://fundmng.bsportsadmin.com/system/report-query/report-first-recharge',\n",
    "    'Sign':'ca83944852acc68fe114cbc65f1e1d22',\n",
    "    'Some':'header',\n",
    "    'Systemid':'54',\n",
    "    'Timestamp':'1692092554000',\n",
    "    'Token':token,\n",
    "    'Uid':'690',\n",
    "    'User-Agent':'Mozilla/5.0 (Windows NT 10.0; Win64; x64) AppleWebKit/537.36 (KHTML, like Gecko) Chrome/115.0.0.0 Safari/537.36',\n",
    "    'Version':'1.0'\n",
    "}\n",
    "for page in range(1,pages_fircharge+1):\n",
    "    data = {\n",
    "        'page': page,\n",
    "        'size': 20,\n",
    "        'tradeType': 0,\n",
    "        'isFake': 0,\n",
    "        'stime': yesterday_start_time*1000,\n",
    "        'etime': yesterday_end_time*1000+999\n",
    "    }\n",
    "    response = session.post(url_fircharge,headers=header,data=data)\n",
    "    response.encoding = 'utf-8'\n",
    "    obj = json.loads(response.text)\n",
    "\n",
    "    for i in obj['data']['list']:\n",
    "        dic_fir['会员名'].append(i['userName'])\n",
    "        dic_fir['所属代理'].append(i['parentName'])\n",
    "        dic_fir['注册时间'].append(time.strftime('%Y/%m/%d %H:%M:%S',time.localtime(i['createTime']//1000)))\n",
    "        dic_fir['交易时间'].append(time.strftime('%Y/%m/%d %H:%M:%S',time.localtime(i['regTime']//1000)))\n",
    "        dic_fir['交易类型'].append(i['tradeType'])\n",
    "        dic_fir['币种'].append(i['coinCode'])\n",
    "        dic_fir['金额'].append(i['amount'])\n",
    "firChargeUser = pd.DataFrame(dic_fir)\n",
    "print('会员首存行列：',firChargeUser.shape)\n",
    "\n",
    "# 2.采集昨天和今天的首存报表\n",
    "dic_fir_two = dict({'会员名':[], '所属代理':[],'注册时间':[], '交易时间':[], '交易类型':[], '币种':[], '金额':[]})\n",
    "for page in range(1,pages_fircharge_two+1):\n",
    "    data = {\n",
    "        'page': page,\n",
    "        'size': 20,\n",
    "        'tradeType': 0,\n",
    "        'isFake': 0,\n",
    "        'stime': yesterday_start_time*1000,\n",
    "        'etime': int(time.time())*1000\n",
    "    }\n",
    "    response = session.post(url_fircharge,headers=header,data=data)\n",
    "    response.encoding = 'utf-8'\n",
    "    obj = json.loads(response.text)\n",
    "\n",
    "    for i in obj['data']['list']:\n",
    "        dic_fir_two['会员名'].append(i['userName'])\n",
    "        dic_fir_two['所属代理'].append(i['parentName'])\n",
    "        dic_fir_two['注册时间'].append(time.strftime('%Y/%m/%d %H:%M:%S',time.localtime(i['createTime']//1000)))\n",
    "        dic_fir_two['交易时间'].append(time.strftime('%Y/%m/%d %H:%M:%S',time.localtime(i['regTime']//1000)))\n",
    "        dic_fir_two['交易类型'].append(i['tradeType'])\n",
    "        dic_fir_two['币种'].append(i['coinCode'])\n",
    "        dic_fir_two['金额'].append(i['amount'])\n",
    "charge_two  = pd.DataFrame(dic_fir_two)\n",
    "print('昨天与今天的会员首存行列：',charge_two.shape)\n",
    "\n",
    "# 采集会员列表\n",
    "dic_user = dict({'会员账号':[], '姓名':[],'代理':[],'玩家层级':[], '注册时间':[],'首存时间':[], '备注':[]})\n",
    "for page in range(1,pages_user+1):\n",
    "    data2 = {\n",
    "        'page':page,\n",
    "        'size':20,\n",
    "        'userVip':'0,1,2,3,4,5,6,7,8,9,10,11',\n",
    "        'status':'0,1,2,4',\n",
    "        'sortType':'3',\n",
    "        'sortStr':'descend',\n",
    "        'searchType':'1',\n",
    "        'channelId':'34',\n",
    "        'registeredStartDate':yesterday_start_time*1000,\n",
    "        'registeredEndDate':yesterday_end_time*1000+999,\n",
    "    }\n",
    "    response2 = session.post(url_user,headers=header,data=data2)\n",
    "    response2.encoding = 'utf-8'\n",
    "    obj2 = json.loads(response2.text)\n",
    "    for i in obj2['data']['list']:\n",
    "        dic_user['会员账号'].append(i['username'])\n",
    "        if i['reallyName'] !='':\n",
    "            dic_user['姓名'].append(i['reallyName'])\n",
    "        else:\n",
    "            dic_user['姓名'].append('-')\n",
    "\n",
    "        dic_user['代理'].append(i['parentName'])\n",
    "        dic_user['玩家层级'].append(i['levelName'])\n",
    "        dic_user['注册时间'].append(time.strftime('%Y/%m/%d',time.localtime(i['registerDate']//1000)))\n",
    "        dic_user['首存时间'].append(time.strftime('%Y/%m/%d',time.localtime(i['firstRechargeDate']//1000)))\n",
    "        dic_user['备注'].append(i['remark'])\n",
    "user = pd.DataFrame(dic_user)\n",
    "print('用户列表行列:',user.shape)\n",
    "# 删除测试账号\n",
    "user = user[~user['会员账号'].str.contains('test')&~user['会员账号'].str.contains('ceshi')&~user['姓名'].str.contains('测试') \\\n",
    "            &~user['姓名'].str.contains('ceshi')&~user['代理'].str.contains('测试')&~user['代理'].str.contains('ceshi') \\\n",
    "            &~user['备注'].str.contains('测试')&~user['备注'].str.contains('试玩')&~user['备注'].str.contains('晒单')\\\n",
    "                &~user['玩家层级'].str.contains('测试')]\n",
    "print('去重后：',user.shape)\n",
    "\n",
    "#采集交易明细\n",
    "\n",
    "user.head(2)\n",
    "firChargeUser.head(3)\n",
    "charge_two.head(2)"
   ],
   "metadata": {
    "collapsed": false
   }
  },
  {
   "cell_type": "code",
   "execution_count": 24,
   "outputs": [
    {
     "data": {
      "text/plain": "(32, 4)"
     },
     "execution_count": 24,
     "metadata": {},
     "output_type": "execute_result"
    }
   ],
   "source": [
    "daili = pd.read_excel(r'C:\\Users\\User\\Desktop\\SEO\\SEO提单数据\\1010\\代理线.xlsx')\n",
    "daili.shape"
   ],
   "metadata": {
    "collapsed": false
   }
  },
  {
   "cell_type": "code",
   "execution_count": 22,
   "outputs": [
    {
     "data": {
      "text/plain": "           注册数\nseo变化数据团队     \naber        37\nben          5\ndk          13\nhugo        55\nmartin      62\npaddy        1\ntony        32\nzed          4",
      "text/html": "<div>\n<style scoped>\n    .dataframe tbody tr th:only-of-type {\n        vertical-align: middle;\n    }\n\n    .dataframe tbody tr th {\n        vertical-align: top;\n    }\n\n    .dataframe thead th {\n        text-align: right;\n    }\n</style>\n<table border=\"1\" class=\"dataframe\">\n  <thead>\n    <tr style=\"text-align: right;\">\n      <th></th>\n      <th>注册数</th>\n    </tr>\n    <tr>\n      <th>seo变化数据团队</th>\n      <th></th>\n    </tr>\n  </thead>\n  <tbody>\n    <tr>\n      <th>aber</th>\n      <td>37</td>\n    </tr>\n    <tr>\n      <th>ben</th>\n      <td>5</td>\n    </tr>\n    <tr>\n      <th>dk</th>\n      <td>13</td>\n    </tr>\n    <tr>\n      <th>hugo</th>\n      <td>55</td>\n    </tr>\n    <tr>\n      <th>martin</th>\n      <td>62</td>\n    </tr>\n    <tr>\n      <th>paddy</th>\n      <td>1</td>\n    </tr>\n    <tr>\n      <th>tony</th>\n      <td>32</td>\n    </tr>\n    <tr>\n      <th>zed</th>\n      <td>4</td>\n    </tr>\n  </tbody>\n</table>\n</div>"
     },
     "execution_count": 22,
     "metadata": {},
     "output_type": "execute_result"
    }
   ],
   "source": [
    "merge_user = pd.merge(user,daili,how = 'left',left_on='代理',right_on='代理线')\n",
    "result = merge_user.groupby('seo变化数据团队').agg({'seo变化数据团队':len})\n",
    "result.rename(columns={'seo变化数据团队':'注册数'},inplace=True)\n",
    "result"
   ],
   "metadata": {
    "collapsed": false
   }
  },
  {
   "cell_type": "code",
   "execution_count": 6,
   "outputs": [
    {
     "data": {
      "text/plain": "           绑卡数\nseo变化数据团队     \nDK           2\naber        14\nben          2\nhugo        15\nmartin      22\ntony        12",
      "text/html": "<div>\n<style scoped>\n    .dataframe tbody tr th:only-of-type {\n        vertical-align: middle;\n    }\n\n    .dataframe tbody tr th {\n        vertical-align: top;\n    }\n\n    .dataframe thead th {\n        text-align: right;\n    }\n</style>\n<table border=\"1\" class=\"dataframe\">\n  <thead>\n    <tr style=\"text-align: right;\">\n      <th></th>\n      <th>绑卡数</th>\n    </tr>\n    <tr>\n      <th>seo变化数据团队</th>\n      <th></th>\n    </tr>\n  </thead>\n  <tbody>\n    <tr>\n      <th>DK</th>\n      <td>2</td>\n    </tr>\n    <tr>\n      <th>aber</th>\n      <td>14</td>\n    </tr>\n    <tr>\n      <th>ben</th>\n      <td>2</td>\n    </tr>\n    <tr>\n      <th>hugo</th>\n      <td>15</td>\n    </tr>\n    <tr>\n      <th>martin</th>\n      <td>22</td>\n    </tr>\n    <tr>\n      <th>tony</th>\n      <td>12</td>\n    </tr>\n  </tbody>\n</table>\n</div>"
     },
     "execution_count": 6,
     "metadata": {},
     "output_type": "execute_result"
    }
   ],
   "source": [
    "merge_user_dropna = merge_user.loc[~merge_user['seo变化数据团队'].isna()&(merge_user['姓名']!='-'),]\n",
    "bangka = merge_user_dropna.groupby('seo变化数据团队').agg({'会员账号':len})\n",
    "bangka.rename(columns={'会员账号':'绑卡数'},inplace=True)\n",
    "bangka"
   ],
   "metadata": {
    "collapsed": false
   }
  },
  {
   "cell_type": "code",
   "execution_count": 7,
   "outputs": [
    {
     "data": {
      "text/plain": "           注册数   绑卡数       绑卡率\nseo变化数据团队                     \nDK          13   2.0  0.153846\naber        37  14.0  0.378378\nben          5   2.0  0.400000\nhugo        55  15.0  0.272727\nmartin      62  22.0  0.354839\npaddy        1   0.0  0.000000\ntony        32  12.0  0.375000\nzed          4   0.0  0.000000",
      "text/html": "<div>\n<style scoped>\n    .dataframe tbody tr th:only-of-type {\n        vertical-align: middle;\n    }\n\n    .dataframe tbody tr th {\n        vertical-align: top;\n    }\n\n    .dataframe thead th {\n        text-align: right;\n    }\n</style>\n<table border=\"1\" class=\"dataframe\">\n  <thead>\n    <tr style=\"text-align: right;\">\n      <th></th>\n      <th>注册数</th>\n      <th>绑卡数</th>\n      <th>绑卡率</th>\n    </tr>\n    <tr>\n      <th>seo变化数据团队</th>\n      <th></th>\n      <th></th>\n      <th></th>\n    </tr>\n  </thead>\n  <tbody>\n    <tr>\n      <th>DK</th>\n      <td>13</td>\n      <td>2.0</td>\n      <td>0.153846</td>\n    </tr>\n    <tr>\n      <th>aber</th>\n      <td>37</td>\n      <td>14.0</td>\n      <td>0.378378</td>\n    </tr>\n    <tr>\n      <th>ben</th>\n      <td>5</td>\n      <td>2.0</td>\n      <td>0.400000</td>\n    </tr>\n    <tr>\n      <th>hugo</th>\n      <td>55</td>\n      <td>15.0</td>\n      <td>0.272727</td>\n    </tr>\n    <tr>\n      <th>martin</th>\n      <td>62</td>\n      <td>22.0</td>\n      <td>0.354839</td>\n    </tr>\n    <tr>\n      <th>paddy</th>\n      <td>1</td>\n      <td>0.0</td>\n      <td>0.000000</td>\n    </tr>\n    <tr>\n      <th>tony</th>\n      <td>32</td>\n      <td>12.0</td>\n      <td>0.375000</td>\n    </tr>\n    <tr>\n      <th>zed</th>\n      <td>4</td>\n      <td>0.0</td>\n      <td>0.000000</td>\n    </tr>\n  </tbody>\n</table>\n</div>"
     },
     "execution_count": 7,
     "metadata": {},
     "output_type": "execute_result"
    }
   ],
   "source": [
    "result2 = result.join(bangka).fillna(0)\n",
    "result2['绑卡率'] = result2['绑卡数']/result2['注册数']\n",
    "result2"
   ],
   "metadata": {
    "collapsed": false
   }
  },
  {
   "cell_type": "code",
   "execution_count": 8,
   "outputs": [
    {
     "data": {
      "text/plain": "(29657, 18)"
     },
     "execution_count": 8,
     "metadata": {},
     "output_type": "execute_result"
    }
   ],
   "source": [
    "trade = pd.read_csv(r'C:\\Users\\User\\Desktop\\SEO\\SEO提单数据\\1010\\交易明细报表1010.csv',encoding='gbk')\n",
    "trade.shape"
   ],
   "metadata": {
    "collapsed": false
   }
  },
  {
   "cell_type": "code",
   "execution_count": 9,
   "outputs": [
    {
     "data": {
      "text/plain": "(956142, 21)"
     },
     "execution_count": 9,
     "metadata": {},
     "output_type": "execute_result"
    }
   ],
   "source": [
    "huiyuan = pd.read_csv(r'C:\\Users\\User\\Desktop\\SEO\\SEO提单数据\\1010\\流失会员详情.csv',encoding='gbk')\n",
    "huiyuan.shape"
   ],
   "metadata": {
    "collapsed": false
   }
  },
  {
   "cell_type": "code",
   "execution_count": 10,
   "outputs": [
    {
     "data": {
      "text/plain": "         会员账号          代理 用户状态        用户层级 VIP等级             注册时间 首存时间   备注  \\\n0  test123459  btyseo6007   正常      测试层级-1  VIP0  2022/2/18 20:26   --  NaN   \n1  sinuoke188  btyseo6007   正常     新注册默认层级  VIP0  2022/2/19 17:46   --  NaN   \n2   fxx521521  btyseo6007   正常     新注册默认层级  VIP0  2022/2/19 17:50   --  NaN   \n3  www1234567  btyseo6007   正常     新注册默认层级  VIP0  2022/2/18 20:39   --  NaN   \n4    hu130510  btyseo6007   正常  seo新注册默认层级  VIP0  2022/2/18 20:17   --  NaN   \n\n  绑定银行卡 同设备号会员 APP登陆  未登录天数  未下注天数  未充值天数          最后成功登录时间          最后尝试登录时间  \\\n0     否      否     否    600    600    600   2022/2/18 20:26   2022/2/18 20:26   \n1     否      否     否    599    599    599   2022/2/19 17:46   2022/2/19 17:46   \n2     否      否     否    599    599    599   2022/2/19 17:57   2022/2/19 17:57   \n3     否      否     否    440    600    600   2022/7/28 15:21   2022/7/28 15:21   \n4     否      否     否    323    600    600  2022/11/22 22:34  2022/11/22 22:34   \n\n  最后存款时间   币种  充值金额  最近3个月下注金额  最近3个月公司盈利         代理线        主线账号 seo变化数据团队  \\\n0     --  NaN     0        0.0        0.0  btyseo6007  btyseo6007      hugo   \n1     --  NaN     0        0.0        0.0  btyseo6007  btyseo6007      hugo   \n2     --  NaN     0        0.0        0.0  btyseo6007  btyseo6007      hugo   \n3     --  NaN     0        0.0        0.0  btyseo6007  btyseo6007      hugo   \n4     --  NaN     0        0.0        0.0  btyseo6007  btyseo6007      hugo   \n\n  准点激活团队  \n0    SEO  \n1    SEO  \n2    SEO  \n3    SEO  \n4    SEO  ",
      "text/html": "<div>\n<style scoped>\n    .dataframe tbody tr th:only-of-type {\n        vertical-align: middle;\n    }\n\n    .dataframe tbody tr th {\n        vertical-align: top;\n    }\n\n    .dataframe thead th {\n        text-align: right;\n    }\n</style>\n<table border=\"1\" class=\"dataframe\">\n  <thead>\n    <tr style=\"text-align: right;\">\n      <th></th>\n      <th>会员账号</th>\n      <th>代理</th>\n      <th>用户状态</th>\n      <th>用户层级</th>\n      <th>VIP等级</th>\n      <th>注册时间</th>\n      <th>首存时间</th>\n      <th>备注</th>\n      <th>绑定银行卡</th>\n      <th>同设备号会员</th>\n      <th>APP登陆</th>\n      <th>未登录天数</th>\n      <th>未下注天数</th>\n      <th>未充值天数</th>\n      <th>最后成功登录时间</th>\n      <th>最后尝试登录时间</th>\n      <th>最后存款时间</th>\n      <th>币种</th>\n      <th>充值金额</th>\n      <th>最近3个月下注金额</th>\n      <th>最近3个月公司盈利</th>\n      <th>代理线</th>\n      <th>主线账号</th>\n      <th>seo变化数据团队</th>\n      <th>准点激活团队</th>\n    </tr>\n  </thead>\n  <tbody>\n    <tr>\n      <th>0</th>\n      <td>test123459</td>\n      <td>btyseo6007</td>\n      <td>正常</td>\n      <td>测试层级-1</td>\n      <td>VIP0</td>\n      <td>2022/2/18 20:26</td>\n      <td>--</td>\n      <td>NaN</td>\n      <td>否</td>\n      <td>否</td>\n      <td>否</td>\n      <td>600</td>\n      <td>600</td>\n      <td>600</td>\n      <td>2022/2/18 20:26</td>\n      <td>2022/2/18 20:26</td>\n      <td>--</td>\n      <td>NaN</td>\n      <td>0</td>\n      <td>0.0</td>\n      <td>0.0</td>\n      <td>btyseo6007</td>\n      <td>btyseo6007</td>\n      <td>hugo</td>\n      <td>SEO</td>\n    </tr>\n    <tr>\n      <th>1</th>\n      <td>sinuoke188</td>\n      <td>btyseo6007</td>\n      <td>正常</td>\n      <td>新注册默认层级</td>\n      <td>VIP0</td>\n      <td>2022/2/19 17:46</td>\n      <td>--</td>\n      <td>NaN</td>\n      <td>否</td>\n      <td>否</td>\n      <td>否</td>\n      <td>599</td>\n      <td>599</td>\n      <td>599</td>\n      <td>2022/2/19 17:46</td>\n      <td>2022/2/19 17:46</td>\n      <td>--</td>\n      <td>NaN</td>\n      <td>0</td>\n      <td>0.0</td>\n      <td>0.0</td>\n      <td>btyseo6007</td>\n      <td>btyseo6007</td>\n      <td>hugo</td>\n      <td>SEO</td>\n    </tr>\n    <tr>\n      <th>2</th>\n      <td>fxx521521</td>\n      <td>btyseo6007</td>\n      <td>正常</td>\n      <td>新注册默认层级</td>\n      <td>VIP0</td>\n      <td>2022/2/19 17:50</td>\n      <td>--</td>\n      <td>NaN</td>\n      <td>否</td>\n      <td>否</td>\n      <td>否</td>\n      <td>599</td>\n      <td>599</td>\n      <td>599</td>\n      <td>2022/2/19 17:57</td>\n      <td>2022/2/19 17:57</td>\n      <td>--</td>\n      <td>NaN</td>\n      <td>0</td>\n      <td>0.0</td>\n      <td>0.0</td>\n      <td>btyseo6007</td>\n      <td>btyseo6007</td>\n      <td>hugo</td>\n      <td>SEO</td>\n    </tr>\n    <tr>\n      <th>3</th>\n      <td>www1234567</td>\n      <td>btyseo6007</td>\n      <td>正常</td>\n      <td>新注册默认层级</td>\n      <td>VIP0</td>\n      <td>2022/2/18 20:39</td>\n      <td>--</td>\n      <td>NaN</td>\n      <td>否</td>\n      <td>否</td>\n      <td>否</td>\n      <td>440</td>\n      <td>600</td>\n      <td>600</td>\n      <td>2022/7/28 15:21</td>\n      <td>2022/7/28 15:21</td>\n      <td>--</td>\n      <td>NaN</td>\n      <td>0</td>\n      <td>0.0</td>\n      <td>0.0</td>\n      <td>btyseo6007</td>\n      <td>btyseo6007</td>\n      <td>hugo</td>\n      <td>SEO</td>\n    </tr>\n    <tr>\n      <th>4</th>\n      <td>hu130510</td>\n      <td>btyseo6007</td>\n      <td>正常</td>\n      <td>seo新注册默认层级</td>\n      <td>VIP0</td>\n      <td>2022/2/18 20:17</td>\n      <td>--</td>\n      <td>NaN</td>\n      <td>否</td>\n      <td>否</td>\n      <td>否</td>\n      <td>323</td>\n      <td>600</td>\n      <td>600</td>\n      <td>2022/11/22 22:34</td>\n      <td>2022/11/22 22:34</td>\n      <td>--</td>\n      <td>NaN</td>\n      <td>0</td>\n      <td>0.0</td>\n      <td>0.0</td>\n      <td>btyseo6007</td>\n      <td>btyseo6007</td>\n      <td>hugo</td>\n      <td>SEO</td>\n    </tr>\n  </tbody>\n</table>\n</div>"
     },
     "execution_count": 10,
     "metadata": {},
     "output_type": "execute_result"
    }
   ],
   "source": [
    "huiyuan2 = huiyuan.loc[huiyuan['首存时间']=='--',]\n",
    "merge_huiyuan = huiyuan2.merge(daili,left_on = '代理',right_on='代理线')\n",
    "merge_huiyuan.head()"
   ],
   "metadata": {
    "collapsed": false
   }
  },
  {
   "cell_type": "code",
   "execution_count": 11,
   "outputs": [
    {
     "data": {
      "text/plain": "(300457, 25)"
     },
     "execution_count": 11,
     "metadata": {},
     "output_type": "execute_result"
    }
   ],
   "source": [
    "merge_huiyuan2 = merge_huiyuan.loc[~merge_huiyuan['seo变化数据团队'].isna(),]\n",
    "merge_huiyuan2.shape"
   ],
   "metadata": {
    "collapsed": false
   }
  },
  {
   "cell_type": "code",
   "execution_count": 40,
   "outputs": [
    {
     "data": {
      "text/plain": "(695, 7)"
     },
     "execution_count": 40,
     "metadata": {},
     "output_type": "execute_result"
    }
   ],
   "source": [
    "# charge_two = pd.read_csv(r'C:\\Users\\User\\Desktop\\SEO\\SEO提单数据\\1007\\会员首存报表1006-1007.csv',encoding='gbk')\n",
    "# charge_two.shape"
   ],
   "metadata": {
    "collapsed": false
   }
  },
  {
   "cell_type": "code",
   "execution_count": 12,
   "outputs": [
    {
     "data": {
      "text/plain": "300970"
     },
     "execution_count": 12,
     "metadata": {},
     "output_type": "execute_result"
    }
   ],
   "source": [
    "mingdan= set(list(merge_huiyuan2['会员账号'].values)+list(charge_two['会员名'].values))\n",
    "len(mingdan)"
   ],
   "metadata": {
    "collapsed": false
   }
  },
  {
   "cell_type": "code",
   "execution_count": 13,
   "outputs": [
    {
     "data": {
      "text/plain": "(4210, 22)"
     },
     "execution_count": 13,
     "metadata": {},
     "output_type": "execute_result"
    },
    {
     "data": {
      "text/plain": "                    交易号   币种            账户名 账户类型        所属代理 交易类型   细分类型  \\\n0  CZ202310102359572LXY  CNY     zbz8773022   会员  btyseo7002   充值  银行卡转卡   \n1  CZ202310102359572KYQ  CNY  bigbeefeng123   会员  btyseo7002   充值  银行卡转卡   \n2  CZ202310102358572FZ0  CNY       ffjo3477   会员  btyseo7002   充值  银行卡转卡   \n3  CZ202310102357572788  CNY     580962544h   会员  btyseo7002   充值  银行卡转卡   \n4  CZ202310102356571YMN  CNY         Hukai7   会员  btyseo7002   充值  银行卡转卡   \n\n    操作动作  调整原因          备注              操作时间    交易金额  手续费  实际到账金额  账变前余额  \\\n0  银行卡转卡   NaN  张博政||ze6wb  2023/10/10 23:59  1000.0  0.0  1000.0  0.008   \n1  银行卡转卡   NaN  陈振文||bc8qh  2023/10/10 23:59  2000.0  0.0  2000.0  0.820   \n2  银行卡转卡   NaN  陈嘉骏||fbzqe  2023/10/10 23:58   200.0  0.0   200.0  0.530   \n3  银行卡转卡   NaN  龙方杰||5dyd5  2023/10/10 23:57   200.0  0.0   200.0  0.008   \n4  银行卡转卡   NaN   胡凯||ucvsk  2023/10/10 23:56  1000.0  0.0  1000.0  0.620   \n\n      账变后余额  状态              账变时间         代理线        主线账号 seo变化数据团队 准点激活团队  \n0  1000.008  成功   2023/10/11 0:02  btyseo7002  btyseo7002       max    SEO  \n1  2000.820  成功   2023/10/11 0:18  btyseo7002  btyseo7002       max    SEO  \n2   200.530  成功   2023/10/11 0:00  btyseo7002  btyseo7002       max    SEO  \n3   200.008  成功   2023/10/11 0:01  btyseo7002  btyseo7002       max    SEO  \n4  1000.620  成功  2023/10/10 23:58  btyseo7002  btyseo7002       max    SEO  ",
      "text/html": "<div>\n<style scoped>\n    .dataframe tbody tr th:only-of-type {\n        vertical-align: middle;\n    }\n\n    .dataframe tbody tr th {\n        vertical-align: top;\n    }\n\n    .dataframe thead th {\n        text-align: right;\n    }\n</style>\n<table border=\"1\" class=\"dataframe\">\n  <thead>\n    <tr style=\"text-align: right;\">\n      <th></th>\n      <th>交易号</th>\n      <th>币种</th>\n      <th>账户名</th>\n      <th>账户类型</th>\n      <th>所属代理</th>\n      <th>交易类型</th>\n      <th>细分类型</th>\n      <th>操作动作</th>\n      <th>调整原因</th>\n      <th>备注</th>\n      <th>操作时间</th>\n      <th>交易金额</th>\n      <th>手续费</th>\n      <th>实际到账金额</th>\n      <th>账变前余额</th>\n      <th>账变后余额</th>\n      <th>状态</th>\n      <th>账变时间</th>\n      <th>代理线</th>\n      <th>主线账号</th>\n      <th>seo变化数据团队</th>\n      <th>准点激活团队</th>\n    </tr>\n  </thead>\n  <tbody>\n    <tr>\n      <th>0</th>\n      <td>CZ202310102359572LXY</td>\n      <td>CNY</td>\n      <td>zbz8773022</td>\n      <td>会员</td>\n      <td>btyseo7002</td>\n      <td>充值</td>\n      <td>银行卡转卡</td>\n      <td>银行卡转卡</td>\n      <td>NaN</td>\n      <td>张博政||ze6wb</td>\n      <td>2023/10/10 23:59</td>\n      <td>1000.0</td>\n      <td>0.0</td>\n      <td>1000.0</td>\n      <td>0.008</td>\n      <td>1000.008</td>\n      <td>成功</td>\n      <td>2023/10/11 0:02</td>\n      <td>btyseo7002</td>\n      <td>btyseo7002</td>\n      <td>max</td>\n      <td>SEO</td>\n    </tr>\n    <tr>\n      <th>1</th>\n      <td>CZ202310102359572KYQ</td>\n      <td>CNY</td>\n      <td>bigbeefeng123</td>\n      <td>会员</td>\n      <td>btyseo7002</td>\n      <td>充值</td>\n      <td>银行卡转卡</td>\n      <td>银行卡转卡</td>\n      <td>NaN</td>\n      <td>陈振文||bc8qh</td>\n      <td>2023/10/10 23:59</td>\n      <td>2000.0</td>\n      <td>0.0</td>\n      <td>2000.0</td>\n      <td>0.820</td>\n      <td>2000.820</td>\n      <td>成功</td>\n      <td>2023/10/11 0:18</td>\n      <td>btyseo7002</td>\n      <td>btyseo7002</td>\n      <td>max</td>\n      <td>SEO</td>\n    </tr>\n    <tr>\n      <th>2</th>\n      <td>CZ202310102358572FZ0</td>\n      <td>CNY</td>\n      <td>ffjo3477</td>\n      <td>会员</td>\n      <td>btyseo7002</td>\n      <td>充值</td>\n      <td>银行卡转卡</td>\n      <td>银行卡转卡</td>\n      <td>NaN</td>\n      <td>陈嘉骏||fbzqe</td>\n      <td>2023/10/10 23:58</td>\n      <td>200.0</td>\n      <td>0.0</td>\n      <td>200.0</td>\n      <td>0.530</td>\n      <td>200.530</td>\n      <td>成功</td>\n      <td>2023/10/11 0:00</td>\n      <td>btyseo7002</td>\n      <td>btyseo7002</td>\n      <td>max</td>\n      <td>SEO</td>\n    </tr>\n    <tr>\n      <th>3</th>\n      <td>CZ202310102357572788</td>\n      <td>CNY</td>\n      <td>580962544h</td>\n      <td>会员</td>\n      <td>btyseo7002</td>\n      <td>充值</td>\n      <td>银行卡转卡</td>\n      <td>银行卡转卡</td>\n      <td>NaN</td>\n      <td>龙方杰||5dyd5</td>\n      <td>2023/10/10 23:57</td>\n      <td>200.0</td>\n      <td>0.0</td>\n      <td>200.0</td>\n      <td>0.008</td>\n      <td>200.008</td>\n      <td>成功</td>\n      <td>2023/10/11 0:01</td>\n      <td>btyseo7002</td>\n      <td>btyseo7002</td>\n      <td>max</td>\n      <td>SEO</td>\n    </tr>\n    <tr>\n      <th>4</th>\n      <td>CZ202310102356571YMN</td>\n      <td>CNY</td>\n      <td>Hukai7</td>\n      <td>会员</td>\n      <td>btyseo7002</td>\n      <td>充值</td>\n      <td>银行卡转卡</td>\n      <td>银行卡转卡</td>\n      <td>NaN</td>\n      <td>胡凯||ucvsk</td>\n      <td>2023/10/10 23:56</td>\n      <td>1000.0</td>\n      <td>0.0</td>\n      <td>1000.0</td>\n      <td>0.620</td>\n      <td>1000.620</td>\n      <td>成功</td>\n      <td>2023/10/10 23:58</td>\n      <td>btyseo7002</td>\n      <td>btyseo7002</td>\n      <td>max</td>\n      <td>SEO</td>\n    </tr>\n  </tbody>\n</table>\n</div>"
     },
     "execution_count": 13,
     "metadata": {},
     "output_type": "execute_result"
    }
   ],
   "source": [
    "# 删除测试账号\n",
    "trade2 = trade[~trade['账户名'].str.contains('test')&~trade['账户名'].str.contains('ceshi')&~trade['所属代理'].str.contains('测试')&~trade['所属代理'].str.contains('ceshi')]\n",
    "trade_daili= trade2.merge(daili,left_on='所属代理',right_on='代理线')\n",
    "trade_daili.shape\n",
    "trade_daili.head()"
   ],
   "metadata": {
    "collapsed": false
   }
  },
  {
   "cell_type": "code",
   "execution_count": 14,
   "outputs": [],
   "source": [
    "tidan = trade_daili.loc[trade_daili['账户名'].isin(mingdan),]"
   ],
   "metadata": {
    "collapsed": false
   }
  },
  {
   "cell_type": "code",
   "execution_count": 55,
   "outputs": [
    {
     "data": {
      "text/plain": "(113, 22)"
     },
     "execution_count": 55,
     "metadata": {},
     "output_type": "execute_result"
    }
   ],
   "source": [
    "tidan.shape"
   ],
   "metadata": {
    "collapsed": false
   }
  },
  {
   "cell_type": "code",
   "execution_count": 15,
   "outputs": [
    {
     "data": {
      "text/plain": "           提单人数\nseo变化数据团队      \nDK            3\naber         13\nben           3\nhugo         17\nmartin       22\ntony          8\nzed           3",
      "text/html": "<div>\n<style scoped>\n    .dataframe tbody tr th:only-of-type {\n        vertical-align: middle;\n    }\n\n    .dataframe tbody tr th {\n        vertical-align: top;\n    }\n\n    .dataframe thead th {\n        text-align: right;\n    }\n</style>\n<table border=\"1\" class=\"dataframe\">\n  <thead>\n    <tr style=\"text-align: right;\">\n      <th></th>\n      <th>提单人数</th>\n    </tr>\n    <tr>\n      <th>seo变化数据团队</th>\n      <th></th>\n    </tr>\n  </thead>\n  <tbody>\n    <tr>\n      <th>DK</th>\n      <td>3</td>\n    </tr>\n    <tr>\n      <th>aber</th>\n      <td>13</td>\n    </tr>\n    <tr>\n      <th>ben</th>\n      <td>3</td>\n    </tr>\n    <tr>\n      <th>hugo</th>\n      <td>17</td>\n    </tr>\n    <tr>\n      <th>martin</th>\n      <td>22</td>\n    </tr>\n    <tr>\n      <th>tony</th>\n      <td>8</td>\n    </tr>\n    <tr>\n      <th>zed</th>\n      <td>3</td>\n    </tr>\n  </tbody>\n</table>\n</div>"
     },
     "execution_count": 15,
     "metadata": {},
     "output_type": "execute_result"
    }
   ],
   "source": [
    "tidan.drop_duplicates('账户名',inplace=True)\n",
    "tidan_grp = tidan.groupby('seo变化数据团队').agg({'账户名':len}).rename(columns={'账户名':'提单人数'})\n",
    "tidan_grp"
   ],
   "metadata": {
    "collapsed": false
   }
  },
  {
   "cell_type": "code",
   "execution_count": 18,
   "outputs": [
    {
     "ename": "SyntaxError",
     "evalue": "closing parenthesis ')' does not match opening parenthesis '{' (1994560860.py, line 2)",
     "output_type": "error",
     "traceback": [
      "\u001B[1;36m  Cell \u001B[1;32mIn[18], line 2\u001B[1;36m\u001B[0m\n\u001B[1;33m    shuju = pd.DataFrame({'人员':['paddy', 'tony', 'max', 'martin', 'zed', 'hugo', 'aber', 'DK', 'ben'])\u001B[0m\n\u001B[1;37m                                                                                                     ^\u001B[0m\n\u001B[1;31mSyntaxError\u001B[0m\u001B[1;31m:\u001B[0m closing parenthesis ')' does not match opening parenthesis '{'\n"
     ]
    }
   ],
   "source": [
    "import pandas as pd\n",
    "shuju = pd.DataFrame({'人员':['paddy', 'tony', 'max', 'martin', 'zed', 'hugo', 'aber', 'DK', 'ben']})\n",
    "shuju"
   ],
   "metadata": {
    "collapsed": false
   }
  },
  {
   "cell_type": "code",
   "execution_count": 29,
   "outputs": [
    {
     "name": "stdout",
     "output_type": "stream",
     "text": [
      "trade: (39178, 2)\n"
     ]
    }
   ],
   "source": [
    "# 采集交易明细 trade\n",
    "# 采取token\n",
    "data0 = {\n",
    "    'username': 'Marquis',\n",
    "    'password': 'qwer123456',\n",
    "    'code': get_google_code('64ehnxj6yily5bhv23kgb62ozuh6yuu2')\n",
    "}\n",
    "session0 = requests.Session()\n",
    "response0  =session0.post(url=submit_url,data=data0,headers=header0)\n",
    "response0.encoding = 'utf-8'\n",
    "obj0 = json.loads(response0.text)\n",
    "token = obj0['data']['token']\n",
    "header = {\n",
    "    'Accept':'application/json, text/plain, */*',\n",
    "    # 'Accept-Encoding':'gzip, deflate',\n",
    "    'Accept-Language':'zh-CN,zh;q=0.9',\n",
    "    'Connection':'keep-alive',\n",
    "    'Content-Length':'103',\n",
    "    'Content-Type':'application/x-www-form-urlencoded',\n",
    "    'Cookie':'admin-token=fc66d42ccb0f4ca58b184fbe5498158c; admin-uid=690',\n",
    "    'Device_id':'1.0',\n",
    "    'Gl_version':'2.0',\n",
    "    'Host':'fundmng.bsportsadmin.com',\n",
    "    'Language':'zh_CN',\n",
    "    'Menuid':'100104',\n",
    "    'Opeartionmenu':'%u62A5%u8868%u67E5%u8BE2-%u4F1A%u5458%u9996%u5B58%u62A5%u8868',\n",
    "    'Origin':'http://fundmng.bsportsadmin.com',\n",
    "    'Os_type':'0',\n",
    "    'Referer':'http://fundmng.bsportsadmin.com/system/report-query/transaction-for-user',\n",
    "    'Sign':'1abc87008c66bc0b4d3d7a3870442b16',\n",
    "    'Some':'header',\n",
    "    'Systemid':'54',\n",
    "    'Timestamp':'1697016616000',\n",
    "    'Token':token,\n",
    "    'Uid':'690',\n",
    "    'User-Agent':'Mozilla/5.0 (Windows NT 10.0; Win64; x64) AppleWebKit/537.36 (KHTML, like Gecko) Chrome/115.0.0.0 Safari/537.36',\n",
    "    'Version':'1.0'\n",
    "}\n",
    "pages_trade = 150\n",
    "url_trade ='http://fundmng.bsportsadmin.com/api/manage/data/balance/record/list'\n",
    "dic_trade = dict({'账户名':[], '所属代理':[]})\n",
    "for page in range(1,pages_trade+1):\n",
    "    data2 = {\n",
    "        'page':page,\n",
    "        'size':500,\n",
    "        'reportType':'0',\n",
    "        'userType':'0',\n",
    "        'dateType':'0',\n",
    "        'startDate':yesterday_start_time*1000,\n",
    "        'endDate':yesterday_end_time*1000+999,\n",
    "        'type':'1'\n",
    "    }\n",
    "    response2 = session.post(url_trade,headers=header,data=data2)\n",
    "    response2.encoding = 'utf-8'\n",
    "    obj2 = json.loads(response2.text)\n",
    "    for i in obj2['data']['list']:\n",
    "        dic_trade['账户名'].append(i['username'])\n",
    "        dic_trade['所属代理'].append(i['parentName'])\n",
    "\n",
    "trade = pd.DataFrame(dic_trade)\n",
    "print('trade:',trade.shape)"
   ],
   "metadata": {
    "collapsed": false
   }
  },
  {
   "cell_type": "code",
   "execution_count": null,
   "outputs": [],
   "source": [
    "#  开始处理数据---------------------------------------------\n",
    "print('开始处理shuju')\n",
    "shuju = pd.DataFrame({'人员':['Paddy', 'Tony', 'Max', 'Martin', 'Zed', 'Hugo', 'Aber', 'DK', 'Ben','当日汇总'],\n",
    "                      '日期':(datetime.datetime.now()+datetime.timedelta(days=day)).strftime('%Y/%m/%d'),\n",
    "                      '发送IP':0,\n",
    "                      '接受IP':0,\n",
    "                      '对比昨天(总IP)':0,\n",
    "                      '对比前3天均值(总IP)':0,\n",
    "                      '对比前5天均值(总IP)':0,\n",
    "                      '对比前7天均值(总IP)':0,\n",
    "                      '对比昨天(总注册)':0,\n",
    "                      '对比前3天均值(总注册)':0,\n",
    "                      '对比前5天均值(总注册)':0,\n",
    "                      '对比前7天均值(总注册)':0,\n",
    "                      '对比昨天(总开户)':0,\n",
    "                      '对比前3天均值(总开户)':0,\n",
    "                      '对比前5天均值(总开户)':0,\n",
    "                      '对比前7天均值(总开户)':0})\n",
    "\n",
    "\n",
    "shuju.set_index('人员',inplace = True)\n",
    "\n",
    "shuju['日期'] = pd.to_datetime(shuju['日期'])\n",
    "shuju.insert(1,'人员2',shuju.index)\n",
    "shuju['人员2']=shuju['人员2'].str.lower()\n",
    "\n",
    "# 第1次merge前，重置索引\n",
    "shuju.reset_index(inplace=True)\n",
    "\n",
    "merge_user = pd.merge(user,daili,how = 'left',left_on='代理',right_on='代理线')\n",
    "data_todaySEO = merge_user.groupby('seo变化数据团队').agg({'seo变化数据团队':len})\n",
    "data_todaySEO.rename(columns={'seo变化数据团队':'注册'},inplace=True)\n",
    "data_todaySEO.reset_index(inplace=True)\n",
    "data_todaySEO['人员2'] = data_todaySEO['seo变化数据团队'].str.lower()\n",
    "data_todaySEO.set_index('seo变化数据团队',inplace=True)\n",
    "\n",
    "shuju=shuju.merge(data_todaySEO,on='人员2',how='left')\n",
    "\n",
    "shuju['注册率(%)'] = round(shuju['注册']/shuju['发送IP']*100,2)\n",
    "\n",
    "merge_charge = pd.merge(firChargeUser,daili,how='left',left_on='所属代理',right_on='代理线')\n",
    "data_todayCHARGE = merge_charge.groupby('seo变化数据团队').agg({'seo变化数据团队':len})\n",
    "data_todayCHARGE= data_todayCHARGE.rename(columns={'seo变化数据团队':'开户'})\n",
    "data_todayCHARGE.reset_index(inplace=True)\n",
    "data_todayCHARGE['seo变化数据团队']=data_todayCHARGE['seo变化数据团队'].str.lower()\n",
    "data_todayCHARGE= data_todayCHARGE.rename(columns={'seo变化数据团队':'人员2'})\n",
    "# 第2次merge\n",
    "shuju = pd.merge(shuju,data_todayCHARGE,how='left',on='人员2')\n",
    "shuju['转化率(%)'] = round(shuju['开户']/shuju['注册']*100,2)\n",
    "\n",
    "merge_charge['注册时间']= pd.to_datetime(merge_charge['注册时间'])\n",
    "merge_charge['交易时间']= pd.to_datetime(merge_charge['交易时间'])\n",
    "data_today3  = merge_charge[merge_charge['注册时间'].dt.strftime('%Y/%m/%d')==merge_charge['交易时间'].dt.strftime('%Y/%m/%d')].groupby('seo变化数据团队').agg({'seo变化数据团队':len})\n",
    "data_today3.rename(columns = {'seo变化数据团队':'当日注册并开户'},inplace=True)\n",
    "data_today3.reset_index(inplace=True)\n",
    "data_today3['seo变化数据团队'] =data_today3['seo变化数据团队'].str.lower()\n",
    "data_today3.rename(columns = {'seo变化数据团队':'人员2'},inplace=True)\n",
    "# 第3次merge\n",
    "shuju  = pd.merge(shuju,data_today3,how='left',on='人员2')\n",
    "shuju['当日注册激活率(%)'] = round(shuju['当日注册并开户']/shuju['注册']*100,2)\n",
    "shuju"
   ],
   "metadata": {
    "collapsed": false
   }
  },
  {
   "cell_type": "code",
   "execution_count": 1,
   "outputs": [],
   "source": [
    "from IPython.core.interactiveshell import InteractiveShell\n",
    "InteractiveShell.ast_node_interactivity = \"all\""
   ],
   "metadata": {
    "collapsed": false
   }
  }
 ],
 "metadata": {
  "kernelspec": {
   "display_name": "Python 3",
   "language": "python",
   "name": "python3"
  },
  "language_info": {
   "codemirror_mode": {
    "name": "ipython",
    "version": 2
   },
   "file_extension": ".py",
   "mimetype": "text/x-python",
   "name": "python",
   "nbconvert_exporter": "python",
   "pygments_lexer": "ipython2",
   "version": "2.7.6"
  }
 },
 "nbformat": 4,
 "nbformat_minor": 0
}
